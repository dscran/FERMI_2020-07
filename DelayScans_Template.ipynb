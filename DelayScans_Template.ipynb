{
 "cells": [
  {
   "cell_type": "markdown",
   "metadata": {},
   "source": [
    "# Imports\n",
    "\n",
    "Import python libraries as well as the self written FERMI library."
   ]
  },
  {
   "cell_type": "code",
   "execution_count": 4,
   "metadata": {
    "execution": {
     "iopub.execute_input": "2021-11-02T12:45:12.814644Z",
     "iopub.status.busy": "2021-11-02T12:45:12.814347Z",
     "iopub.status.idle": "2021-11-02T12:45:12.820580Z",
     "shell.execute_reply": "2021-11-02T12:45:12.819762Z",
     "shell.execute_reply.started": "2021-11-02T12:45:12.814612Z"
    }
   },
   "outputs": [],
   "source": [
    "import numpy as np\n",
    "import xarray as xr\n",
    "import pandas as pd\n",
    "import h5py\n",
    "from os.path import join, split\n",
    "from glob import glob\n",
    "from time import strftime\n",
    "from imageio import imread\n",
    "\n",
    "from pyFAI.azimuthalIntegrator import AzimuthalIntegrator\n",
    "from pyFAI.detectors import Detector\n",
    "from pyFAI.calibrant import Cell, Calibrant\n",
    "\n",
    "from scipy.ndimage.filters import median_filter \n",
    "\n",
    "import sys, os\n",
    "sys.path.append('./FERMI_2020-07/')\n",
    "\n",
    "import matplotlib.pyplot as plt\n",
    "from matplotlib.image import NonUniformImage\n",
    "import process_FERMI_2021 as pf\n",
    "\n",
    "from tqdm.auto import tqdm\n",
    "\n",
    "from importlib import reload\n",
    "from copy import deepcopy"
   ]
  },
  {
   "cell_type": "code",
   "execution_count": 5,
   "metadata": {
    "execution": {
     "iopub.execute_input": "2021-11-02T12:45:13.470353Z",
     "iopub.status.busy": "2021-11-02T12:45:13.469530Z",
     "iopub.status.idle": "2021-11-02T12:45:13.478161Z",
     "shell.execute_reply": "2021-11-02T12:45:13.476643Z",
     "shell.execute_reply.started": "2021-11-02T12:45:13.470251Z"
    }
   },
   "outputs": [],
   "source": [
    "#interactive plotting\n",
    "%matplotlib widget"
   ]
  },
  {
   "cell_type": "code",
   "execution_count": 6,
   "metadata": {
    "execution": {
     "iopub.execute_input": "2021-11-02T12:45:14.939476Z",
     "iopub.status.busy": "2021-11-02T12:45:14.938848Z",
     "iopub.status.idle": "2021-11-02T12:45:14.945238Z",
     "shell.execute_reply": "2021-11-02T12:45:14.944770Z",
     "shell.execute_reply.started": "2021-11-02T12:45:14.939401Z"
    }
   },
   "outputs": [],
   "source": [
    "def plot_image(im, fname):\n",
    "    fig, ax = plt.subplots(tight_layout=True)\n",
    "    m = ax.imshow(im)\n",
    "    plt.colorbar(m)\n",
    "    ax.grid(False)\n",
    "    fig.savefig(fname, dpi=100)\n",
    "    plt.close(fig)"
   ]
  },
  {
   "cell_type": "code",
   "execution_count": 7,
   "metadata": {
    "execution": {
     "iopub.execute_input": "2021-11-02T12:45:15.536694Z",
     "iopub.status.busy": "2021-11-02T12:45:15.536546Z",
     "iopub.status.idle": "2021-11-02T12:45:15.540813Z",
     "shell.execute_reply": "2021-11-02T12:45:15.540025Z",
     "shell.execute_reply.started": "2021-11-02T12:45:15.536678Z"
    }
   },
   "outputs": [],
   "source": [
    "def plot_ai(df, time, samplefolder, scanfolder, fname):\n",
    "    fig, ax = plt.subplots(tight_layout=True)\n",
    "    az2d.plot.imshow(ax = ax, cmap = 'viridis')\n",
    "    ax.set_title(f'{samplefolder} / {scanfolder}: delay %.2fps'%time)\n",
    "    fig.savefig(fname, dpi=100)\n",
    "    plt.close(fig)"
   ]
  },
  {
   "cell_type": "code",
   "execution_count": 8,
   "metadata": {
    "execution": {
     "iopub.execute_input": "2021-11-02T12:45:16.063069Z",
     "iopub.status.busy": "2021-11-02T12:45:16.062914Z",
     "iopub.status.idle": "2021-11-02T12:45:16.066045Z",
     "shell.execute_reply": "2021-11-02T12:45:16.065620Z",
     "shell.execute_reply.started": "2021-11-02T12:45:16.063051Z"
    }
   },
   "outputs": [],
   "source": [
    "def plot_curve(xdata, ydata, fname, xlabel = '', ylabel = ''):\n",
    "    fig, ax = plt.subplots(tight_layout=True)\n",
    "    ax.plot(xdata, ydata, 'o-')\n",
    "    ax.set_xlabel(xlabel)\n",
    "    ax.set_ylabel(ylabel)\n",
    "    fig.savefig(fname, dpi=100)\n",
    "    plt.close(fig)"
   ]
  },
  {
   "cell_type": "code",
   "execution_count": 10,
   "metadata": {
    "execution": {
     "iopub.execute_input": "2021-11-02T12:45:17.197070Z",
     "iopub.status.busy": "2021-11-02T12:45:17.196908Z",
     "iopub.status.idle": "2021-11-02T12:45:17.199383Z",
     "shell.execute_reply": "2021-11-02T12:45:17.198914Z",
     "shell.execute_reply.started": "2021-11-02T12:45:17.197052Z"
    }
   },
   "outputs": [],
   "source": [
    "filters = {'Al-780 (3)': .34*.85,} #775nm of pure Al, 5nm of Al2O3"
   ]
  },
  {
   "cell_type": "markdown",
   "metadata": {},
   "source": [
    "# load non-image data\n",
    "\n",
    "Specify the folder of the run you want to analyze. No need to have the exact folder of the HDF files. The function *get_exp_dataframe* works recursively and gets all HDF files into the pandas DataFrame. It will also already take specific values that you can specify in *extra_keays* and save them into the same DataFrame."
   ]
  },
  {
   "cell_type": "code",
   "execution_count": 11,
   "metadata": {
    "execution": {
     "iopub.execute_input": "2021-11-02T12:45:22.040466Z",
     "iopub.status.busy": "2021-11-02T12:45:22.039838Z",
     "iopub.status.idle": "2021-11-02T12:45:26.857942Z",
     "shell.execute_reply": "2021-11-02T12:45:26.857156Z",
     "shell.execute_reply.started": "2021-11-02T12:45:22.040390Z"
    }
   },
   "outputs": [],
   "source": [
    "basefolder = '/home/gerlinger/Documents/Beamtimes/2020-06_FERMI/Data/'\n",
    "samplefolder = 'CoPt_noAl'\n",
    "scanfolder = 'C4_Scan019'\n",
    "\n",
    "datafolder = join(basefolder, samplefolder, scanfolder)\n",
    "extra_keys = {\n",
    "    'diode_sum': 'PAM/FQPDSum',\n",
    "    'IR': 'Laser/Energy1',\n",
    "    'magnet': 'Lecroy/Wave3',\n",
    "    'bunches': 'bunches',\n",
    "    'time': '',\n",
    "}\n",
    "\n",
    "exp = pf.get_exp_dataframe(datafolder, keys=extra_keys)\n",
    "for k in ['xgm_UH', 'xgm_SH', 'diode_sum']:\n",
    "    exp[k + '_sum'] = exp[k].apply(np.sum)\n",
    "\n",
    "exp['diode_sum_mean'] = exp.diode_sum.apply(np.mean)\n",
    "exp['diode_sum_std'] = exp.diode_sum.apply(np.std)\n",
    "exp['IR_mean'] = exp.IR.apply(np.mean)\n",
    "exp['IR_std'] = exp.IR.apply(np.std)\n",
    "exp['magnet_mean'] = exp.magnet.apply(np.mean)\n",
    "exp['magnet_mean'] = exp.magnet_mean.apply(np.round, args=(3,))\n",
    "exp['bunchid'] = exp.bunches.apply(lambda l: l[-1])\n",
    "\n",
    "exp = exp.sort_values('delay')"
   ]
  },
  {
   "cell_type": "markdown",
   "metadata": {},
   "source": [
    "Let's have a look at it"
   ]
  },
  {
   "cell_type": "markdown",
   "metadata": {},
   "source": [
    "## load dark"
   ]
  },
  {
   "cell_type": "markdown",
   "metadata": {},
   "source": [
    "### Background"
   ]
  },
  {
   "cell_type": "code",
   "execution_count": 12,
   "metadata": {
    "execution": {
     "iopub.execute_input": "2021-11-02T12:45:35.145410Z",
     "iopub.status.busy": "2021-11-02T12:45:35.144784Z",
     "iopub.status.idle": "2021-11-02T12:45:35.772091Z",
     "shell.execute_reply": "2021-11-02T12:45:35.770886Z",
     "shell.execute_reply.started": "2021-11-02T12:45:35.145335Z"
    }
   },
   "outputs": [],
   "source": [
    "exp_bg = pf.get_exp_dataframe(datafolder + '_BG', keys=extra_keys)\n",
    "exp_bg['bunchid'] = exp.bunches.apply(lambda l: l[-1])\n",
    "exp_bg = exp_bg.sort_values('time')"
   ]
  },
  {
   "cell_type": "code",
   "execution_count": 13,
   "metadata": {
    "execution": {
     "iopub.execute_input": "2021-11-02T12:45:35.998220Z",
     "iopub.status.busy": "2021-11-02T12:45:35.998031Z",
     "iopub.status.idle": "2021-11-02T12:45:36.096764Z",
     "shell.execute_reply": "2021-11-02T12:45:36.096292Z",
     "shell.execute_reply.started": "2021-11-02T12:45:35.998191Z"
    }
   },
   "outputs": [
    {
     "name": "stdout",
     "output_type": "stream",
     "text": [
      "found 4 files\n"
     ]
    }
   ],
   "source": [
    "darkfolder = datafolder + '_BG'\n",
    "darks = []\n",
    "dflist = glob(darkfolder + '/**/*h5', recursive=True)\n",
    "print(f'found {len(dflist)} files')\n",
    "for f in dflist:\n",
    "    _dark = pf.loadh5(f)[0]\n",
    "    darks.append(_dark)\n",
    "dark = np.mean(darks, axis = 0).astype(float)"
   ]
  },
  {
   "cell_type": "markdown",
   "metadata": {},
   "source": [
    "### Only FEL images"
   ]
  },
  {
   "cell_type": "code",
   "execution_count": 14,
   "metadata": {
    "execution": {
     "iopub.execute_input": "2021-11-02T12:45:38.961812Z",
     "iopub.status.busy": "2021-11-02T12:45:38.961471Z",
     "iopub.status.idle": "2021-11-02T12:45:39.875396Z",
     "shell.execute_reply": "2021-11-02T12:45:39.874728Z",
     "shell.execute_reply.started": "2021-11-02T12:45:38.961771Z"
    }
   },
   "outputs": [],
   "source": [
    "exp_of = pf.get_exp_dataframe(datafolder + '_OF', keys=extra_keys)\n",
    "for k in ['xgm_UH', 'xgm_SH', 'diode_sum']:\n",
    "    exp_of[k + '_sum'] = exp_of[k].apply(np.sum)\n",
    "exp_of['bunchid'] = exp.bunches.apply(lambda l: l[-1])\n",
    "exp_of = exp_of.sort_values('time')"
   ]
  },
  {
   "cell_type": "code",
   "execution_count": 15,
   "metadata": {
    "execution": {
     "iopub.execute_input": "2021-11-02T12:45:39.876330Z",
     "iopub.status.busy": "2021-11-02T12:45:39.876172Z",
     "iopub.status.idle": "2021-11-02T12:45:40.015177Z",
     "shell.execute_reply": "2021-11-02T12:45:40.014700Z",
     "shell.execute_reply.started": "2021-11-02T12:45:39.876310Z"
    }
   },
   "outputs": [
    {
     "name": "stdout",
     "output_type": "stream",
     "text": [
      "found 6 files\n"
     ]
    }
   ],
   "source": [
    "felfolder = datafolder + '_OF'\n",
    "fels = []\n",
    "felflist = exp_of.filename\n",
    "print(f'found {len(felflist)} files')\n",
    "ct = 0\n",
    "for index, r in exp_of.iterrows():\n",
    "    if ct <len(dflist):\n",
    "        _fel = pf.loadh5(r['filename'])[0] - dark\n",
    "        fels.append(deepcopy(_fel/r['diode_sum_sum']))\n",
    "    else:\n",
    "        break\n",
    "fel = np.mean(fels[:-1], axis = 0).astype(float)"
   ]
  },
  {
   "cell_type": "markdown",
   "metadata": {},
   "source": [
    "# Plot single image\n",
    "\n",
    "Load an image and it's meta data. This will be used to setup the azimuthal integrator. All following images do not need to be loaded and plotted for the functionning of this script."
   ]
  },
  {
   "cell_type": "code",
   "execution_count": 16,
   "metadata": {
    "execution": {
     "iopub.execute_input": "2021-11-02T12:46:21.237367Z",
     "iopub.status.busy": "2021-11-02T12:46:21.236674Z",
     "iopub.status.idle": "2021-11-02T12:46:21.368933Z",
     "shell.execute_reply": "2021-11-02T12:46:21.368343Z",
     "shell.execute_reply.started": "2021-11-02T12:46:21.237279Z"
    }
   },
   "outputs": [],
   "source": [
    "im, meta = pf.loadh5(exp.iloc[6]['filename'], extra_keys=['alignz', 'PAM/FQPDSum'])\n",
    "im = im - dark\n",
    "im2, meta2 = pf.loadh5(exp.iloc[-1]['filename'], extra_keys=['alignz', 'PAM/FQPDSum'])\n",
    "im2 = im2 - dark"
   ]
  },
  {
   "cell_type": "code",
   "execution_count": 17,
   "metadata": {
    "execution": {
     "iopub.execute_input": "2021-11-02T12:47:34.976549Z",
     "iopub.status.busy": "2021-11-02T12:47:34.976097Z",
     "iopub.status.idle": "2021-11-02T12:47:35.563621Z",
     "shell.execute_reply": "2021-11-02T12:47:35.561686Z",
     "shell.execute_reply.started": "2021-11-02T12:47:34.976495Z"
    }
   },
   "outputs": [
    {
     "data": {
      "application/vnd.jupyter.widget-view+json": {
       "model_id": "897ba86dffaa4d1da3796b8e0df186d7",
       "version_major": 2,
       "version_minor": 0
      },
      "text/plain": [
       "Canvas(toolbar=Toolbar(toolitems=[('Home', 'Reset original view', 'home', 'home'), ('Back', 'Back to previous …"
      ]
     },
     "metadata": {},
     "output_type": "display_data"
    }
   ],
   "source": [
    "fig, ax = plt.subplots(1,2, sharex = True, sharey = True)\n",
    "mi, ma = np.percentile(im, (1,99))\n",
    "ax[0].imshow(im, vmin = mi, vmax = ma)\n",
    "ax[0].set_axis_off()\n",
    "ax[0].set_title('+1ps')\n",
    "mi, ma = np.percentile(im2, (1,99))\n",
    "ax[1].imshow(im2, vmin = mi, vmax = ma)\n",
    "ax[1].set_axis_off()\n",
    "ax[1].set_title('+1000ps')\n",
    "fig.tight_layout()"
   ]
  },
  {
   "cell_type": "markdown",
   "metadata": {},
   "source": [
    "# Mask\n",
    "\n",
    "The masks are created by hand by Kathinka using GIMP and loaded into the masks image folder. Please check if the binarization worked correctly (Kathinka will probably forget if she used white for 1 and black for 0 or the other way around..."
   ]
  },
  {
   "cell_type": "code",
   "execution_count": 18,
   "metadata": {
    "execution": {
     "iopub.execute_input": "2021-11-02T12:47:49.636609Z",
     "iopub.status.busy": "2021-11-02T12:47:49.635945Z",
     "iopub.status.idle": "2021-11-02T12:47:49.703197Z",
     "shell.execute_reply": "2021-11-02T12:47:49.702619Z",
     "shell.execute_reply.started": "2021-11-02T12:47:49.636519Z"
    }
   },
   "outputs": [],
   "source": [
    "mask_manual = imread('/home/gerlinger/Documents/Beamtimes/2020-06_FERMI/Masks/CoPt_noAl_C4.png')[..., 0]\n",
    "# mask_manual = imread('../images/masks/CoPtnoAl_B4Scan007_mask.png')[..., 0]\n",
    "mask_manual = mask_manual > 0"
   ]
  },
  {
   "cell_type": "code",
   "execution_count": 20,
   "metadata": {
    "execution": {
     "iopub.execute_input": "2021-11-02T12:48:09.373021Z",
     "iopub.status.busy": "2021-11-02T12:48:09.372400Z",
     "iopub.status.idle": "2021-11-02T12:48:09.464388Z",
     "shell.execute_reply": "2021-11-02T12:48:09.463803Z",
     "shell.execute_reply.started": "2021-11-02T12:48:09.372946Z"
    }
   },
   "outputs": [
    {
     "data": {
      "application/vnd.jupyter.widget-view+json": {
       "model_id": "462b02545300440b85dd253bbf839e6c",
       "version_major": 2,
       "version_minor": 0
      },
      "text/plain": [
       "Canvas(toolbar=Toolbar(toolitems=[('Home', 'Reset original view', 'home', 'home'), ('Back', 'Back to previous …"
      ]
     },
     "metadata": {},
     "output_type": "display_data"
    }
   ],
   "source": [
    "center = [0, 470]  # off-set, binned\n",
    "# center = [0, 950]  # off-set, full chip\n",
    "# center = [1000, 950]\n",
    "\n",
    "rmin = 160\n",
    "\n",
    "beamstop = None\n",
    "\n",
    "mask = pf.make_mask(im2 * mask_manual, center, rmin, beamstop=beamstop)\n",
    "mask *= mask_manual\n",
    "\n",
    "mask_nan = np.where(mask == 0, np.nan, 1)"
   ]
  },
  {
   "cell_type": "code",
   "execution_count": 37,
   "metadata": {
    "execution": {
     "iopub.execute_input": "2021-07-06T11:20:47.396418Z",
     "iopub.status.busy": "2021-07-06T11:20:47.396005Z",
     "iopub.status.idle": "2021-07-06T11:20:47.401421Z",
     "shell.execute_reply": "2021-07-06T11:20:47.400407Z",
     "shell.execute_reply.started": "2021-07-06T11:20:47.396386Z"
    }
   },
   "outputs": [],
   "source": [
    "# plt.imsave('/home/gerlinger/Dokumente/Beamtimes/2020-06_FERMI/Masks/CoPt_50nmAl_C6_im.png', im3 * mask_nan, vmin = mi, vmax = ma)"
   ]
  },
  {
   "cell_type": "markdown",
   "metadata": {},
   "source": [
    "# Set up the azimuthal integration\n",
    "This has to be done only once (unless the image center shifts, or the image shape changes).\n",
    "Reusing the AzimuthalIntegrator instance is very fast.\n",
    "\n",
    "You need to specifiy the center (determine it via the plotted image above). The rest is filled in automatically from the image shape and image meta data. "
   ]
  },
  {
   "cell_type": "code",
   "execution_count": 21,
   "metadata": {
    "execution": {
     "iopub.execute_input": "2021-11-02T12:48:15.629639Z",
     "iopub.status.busy": "2021-11-02T12:48:15.628990Z",
     "iopub.status.idle": "2021-11-02T12:48:15.638775Z",
     "shell.execute_reply": "2021-11-02T12:48:15.637621Z",
     "shell.execute_reply.started": "2021-11-02T12:48:15.629565Z"
    }
   },
   "outputs": [],
   "source": [
    "detector = Detector(2 * 13.5e-6, 2 * 13.5e-6)  # binned!\n",
    "ai = AzimuthalIntegrator(dist=(exp['ccdz'][0] + 33) / 1000,\n",
    "                         rot2=-np.deg2rad(exp['ccd_rot'][0]),\n",
    "                         poni2=470 * 13.5e-6 * 2,\n",
    "                         poni1=390 * 13.5e-6 * 2,\n",
    "                         detector=detector,\n",
    "                         wavelength=exp['wavelength'][0] * 1e-9)"
   ]
  },
  {
   "cell_type": "markdown",
   "metadata": {},
   "source": [
    "test it on our single image"
   ]
  },
  {
   "cell_type": "code",
   "execution_count": 23,
   "metadata": {
    "execution": {
     "iopub.execute_input": "2021-11-02T12:48:23.535828Z",
     "iopub.status.busy": "2021-11-02T12:48:23.535663Z",
     "iopub.status.idle": "2021-11-02T12:48:23.975150Z",
     "shell.execute_reply": "2021-11-02T12:48:23.974606Z",
     "shell.execute_reply.started": "2021-11-02T12:48:23.535810Z"
    }
   },
   "outputs": [
    {
     "name": "stderr",
     "output_type": "stream",
     "text": [
      "WARNING:pyFAI.azimuthalIntegrator:Method requested 'None' not available. Method 'IntegrationMethod(2d int, pseudo split, histogram, cython)' will be used\n"
     ]
    },
    {
     "data": {
      "application/vnd.jupyter.widget-view+json": {
       "model_id": "a833b7f9497d421c8c91371280901d79",
       "version_major": 2,
       "version_minor": 0
      },
      "text/plain": [
       "Canvas(toolbar=Toolbar(toolitems=[('Home', 'Reset original view', 'home', 'home'), ('Back', 'Back to previous …"
      ]
     },
     "metadata": {},
     "output_type": "display_data"
    },
    {
     "data": {
      "text/plain": [
       "<matplotlib.image.AxesImage at 0x7f3542e687c0>"
      ]
     },
     "execution_count": 23,
     "metadata": {},
     "output_type": "execute_result"
    }
   ],
   "source": [
    "I_t, q_t, phi_t = ai.integrate2d(im2, 200, unit='q_nm^-1', mask = (1-mask).astype(bool), correctSolidAngle=False)\n",
    "az2d = xr.DataArray(I_t, dims = ('phi', 'q'), coords = {'q':q_t, 'phi': phi_t})\n",
    "fig, ax = plt.subplots()\n",
    "az2d.plot.imshow(ax = ax)"
   ]
  },
  {
   "cell_type": "code",
   "execution_count": 25,
   "metadata": {
    "execution": {
     "iopub.execute_input": "2021-11-02T12:48:42.890969Z",
     "iopub.status.busy": "2021-11-02T12:48:42.890286Z",
     "iopub.status.idle": "2021-11-02T12:48:42.987988Z",
     "shell.execute_reply": "2021-11-02T12:48:42.987538Z",
     "shell.execute_reply.started": "2021-11-02T12:48:42.890891Z"
    }
   },
   "outputs": [
    {
     "data": {
      "application/vnd.jupyter.widget-view+json": {
       "model_id": "ac51354ded4941d2934b5401bd9a3529",
       "version_major": 2,
       "version_minor": 0
      },
      "text/plain": [
       "Canvas(toolbar=Toolbar(toolitems=[('Home', 'Reset original view', 'home', 'home'), ('Back', 'Back to previous …"
      ]
     },
     "metadata": {},
     "output_type": "display_data"
    },
    {
     "data": {
      "text/plain": [
       "[<matplotlib.lines.Line2D at 0x7f354155d340>]"
      ]
     },
     "execution_count": 25,
     "metadata": {},
     "output_type": "execute_result"
    }
   ],
   "source": [
    "q, I = ai.integrate1d(im2, 200, unit='q_nm^-1', mask = (1-mask).astype(bool), correctSolidAngle = False)\n",
    "\n",
    "fig, ax = plt.subplots()\n",
    "ax.plot(q, I)"
   ]
  },
  {
   "cell_type": "markdown",
   "metadata": {},
   "source": [
    "# Process delay scan\n",
    "set up empty DataArray using xarray \n",
    "\n",
    "Now, all images are loaded and processed. The azimutal integration is saved in the scan xarray. If you see strange things happening in your results plot, set *debug_plots* to **True**. This will save all images in the scan into our tmp folder and you can take a look at them."
   ]
  },
  {
   "cell_type": "code",
   "execution_count": 26,
   "metadata": {
    "execution": {
     "iopub.execute_input": "2021-11-02T12:48:57.671204Z",
     "iopub.status.busy": "2021-11-02T12:48:57.670705Z",
     "iopub.status.idle": "2021-11-02T12:48:57.676293Z",
     "shell.execute_reply": "2021-11-02T12:48:57.675193Z",
     "shell.execute_reply.started": "2021-11-02T12:48:57.671117Z"
    }
   },
   "outputs": [],
   "source": [
    "if not os.path.exists(f'/home/gerlinger/Documents/Beamtimes/2020-06_FERMI/Processed/{samplefolder}/{scanfolder}/'):\n",
    "    os.mkdir(f'/home/gerlinger/Documents/Beamtimes/2020-06_FERMI/Processed/{samplefolder}/{scanfolder}/')"
   ]
  },
  {
   "cell_type": "code",
   "execution_count": 28,
   "metadata": {
    "execution": {
     "iopub.execute_input": "2021-11-02T12:58:36.550756Z",
     "iopub.status.busy": "2021-11-02T12:58:36.550074Z",
     "iopub.status.idle": "2021-11-02T12:58:36.571251Z",
     "shell.execute_reply": "2021-11-02T12:58:36.569766Z",
     "shell.execute_reply.started": "2021-11-02T12:58:36.550676Z"
    }
   },
   "outputs": [
    {
     "data": {
      "text/plain": [
       "<module 'process_FERMI_2021' from './FERMI_2020-07/process_FERMI_2021.py'>"
      ]
     },
     "execution_count": 28,
     "metadata": {},
     "output_type": "execute_result"
    }
   ],
   "source": [
    "reload(pf)"
   ]
  },
  {
   "cell_type": "code",
   "execution_count": 29,
   "metadata": {
    "execution": {
     "iopub.execute_input": "2021-11-02T13:01:29.459977Z",
     "iopub.status.busy": "2021-11-02T13:01:29.459641Z",
     "iopub.status.idle": "2021-11-02T13:01:32.024047Z",
     "shell.execute_reply": "2021-11-02T13:01:32.023464Z",
     "shell.execute_reply.started": "2021-11-02T13:01:29.459938Z"
    }
   },
   "outputs": [
    {
     "data": {
      "application/vnd.jupyter.widget-view+json": {
       "model_id": "ed718c2bc093482293b9a2870697cdf3",
       "version_major": 2,
       "version_minor": 0
      },
      "text/plain": [
       "HBox(children=(FloatProgress(value=1.0, bar_style='info', layout=Layout(width='20px'), max=1.0), HTML(value=''…"
      ]
     },
     "metadata": {},
     "output_type": "display_data"
    },
    {
     "name": "stdout",
     "output_type": "stream",
     "text": [
      "0: Normalization of OF not okay.\n",
      "1: Normalization of OF not okay.\n",
      "0: Normalization of OF not okay.\n",
      "1: Normalization of OF not okay.\n",
      "0: Normalization of OF not okay.\n",
      "1: Normalization of OF not okay.\n",
      "1: Normalization of OF not okay.\n",
      "1: Normalization of OF not okay.\n",
      "1: Normalization of OF not okay.\n",
      "1: Normalization of OF not okay.\n",
      "1: Normalization of OF not okay.\n",
      "1: Normalization of OF not okay.\n",
      "1: Normalization of OF not okay.\n",
      "1: Normalization of OF not okay.\n",
      "1: Normalization of OF not okay.\n",
      "1: Normalization of OF not okay.\n",
      "1: Normalization of OF not okay.\n",
      "1: Normalization of OF not okay.\n",
      "1: Normalization of OF not okay.\n",
      "1: Normalization of OF not okay.\n",
      "90.2 ps: Skipped because the diode signal is too small.\n",
      "\n"
     ]
    }
   ],
   "source": [
    "scan = xr.DataArray(\n",
    "    np.zeros([len(exp), len(q)]),\n",
    "    dims=['delay', 'q'],\n",
    "    coords={'q': q, 'delay': np.sort(exp.delay)}\n",
    ")\n",
    "\n",
    "scan_plot = xr.DataArray(\n",
    "    np.zeros([len(exp), len(q)]),\n",
    "    dims=['delay', 'q'],\n",
    "    coords={'q': q, 'delay': np.sort(exp.delay)}\n",
    ")\n",
    "\n",
    "mean_im = []\n",
    "\n",
    "debug_plots = False\n",
    "folder_save = f'/home/gerlinger/Documents/Beamtimes/2020-06_FERMI/Processed/{samplefolder}/{scanfolder}/azimutal_integration/'\n",
    "\n",
    "norm_key = 'diode_sum_sum'\n",
    "\n",
    "expmean = np.mean(exp[norm_key])\n",
    "expstd = np.std(exp[norm_key])\n",
    "\n",
    "plt.ioff()\n",
    "for index, r in tqdm(exp.iterrows()):\n",
    "    exp_bg['sort_delay'] = np.abs(exp_bg['delay'] - r['delay'])\n",
    "    idx = np.where(exp_bg['sort_delay'] == np.min(exp_bg['sort_delay']))[0][0]\n",
    "    ct = 0\n",
    "    while np.abs(exp_of.iloc[idx][norm_key] - expmean) > 2 * expstd:\n",
    "        ct +=1\n",
    "        print(\"%i: Normalization of OF not okay.\"%idx)\n",
    "        if idx == 3:\n",
    "            idx -= 1\n",
    "        else:\n",
    "            idx += 1\n",
    "            \n",
    "        if ct >= 4:\n",
    "            break\n",
    "            \n",
    "    # Load image files\n",
    "    darkfile = exp_bg.iloc[idx]['filename']\n",
    "    dark = pf.loadh5(darkfile)[0].astype(int)\n",
    "    felfile = exp_of.iloc[idx]['filename']\n",
    "    fel = pf.load_image_diodenorm(felfile, dark, normkey = 'PAM/FQPDSum')\n",
    "    im = pf.load_image_diodenorm(r['filename'], dark, normkey = 'PAM/FQPDSum')\n",
    "    im = im - fel\n",
    "    \n",
    "    if debug_plots:\n",
    "        if not os.path.exists(folder_save):\n",
    "            os.mkdir(folder_save)\n",
    "        I_t, q_t, phi_t = ai.integrate2d(im, 200, unit='q_nm^-1', mask = (1-mask).astype(bool), correctSolidAngle = False)\n",
    "        az2d = xr.DataArray(I_t, dims = ('phi', 'q'), coords = {'q':q_t, 'phi': phi_t})\n",
    "        plot_ai(az2d, 6.67 * r['delay'] - 137.3, samplefolder, scanfolder, folder_save + '%.2f.png'%(6.67 * r['delay'] - 137.3))\n",
    "        \n",
    "    _, I = ai.integrate1d(im, 200, unit='q_nm^-1', mask = (1-mask).astype(bool), correctSolidAngle = False)\n",
    "    scan.loc[{'delay': r['delay']}] = I\n",
    "    if np.abs(r[norm_key] - expmean) < 2 * expstd:\n",
    "        scan_plot.loc[{'delay': r['delay']}] = I\n",
    "    else:\n",
    "        scan_plot.loc[{'delay': r['delay']}] = np.nan\n",
    "        print('%.1f ps: Skipped because the diode signal is too small.'%(6.67 * r['delay'] - 137.3))\n",
    "\n",
    "plt.ion()\n",
    "scan = scan.groupby('delay').mean()\n",
    "scan_plot = scan_plot.groupby('delay').mean()\n",
    "scan_plot = scan_plot.dropna('delay')"
   ]
  },
  {
   "cell_type": "markdown",
   "metadata": {},
   "source": [
    "## plot"
   ]
  },
  {
   "cell_type": "code",
   "execution_count": 31,
   "metadata": {
    "execution": {
     "iopub.execute_input": "2021-11-02T13:05:52.721357Z",
     "iopub.status.busy": "2021-11-02T13:05:52.720903Z",
     "iopub.status.idle": "2021-11-02T13:05:52.733162Z",
     "shell.execute_reply": "2021-11-02T13:05:52.732180Z",
     "shell.execute_reply.started": "2021-11-02T13:05:52.721304Z"
    }
   },
   "outputs": [
    {
     "name": "stdout",
     "output_type": "stream",
     "text": [
      "Swapped Dimensions\n"
     ]
    }
   ],
   "source": [
    "t0 = 137.3\n",
    "scan['delay_ps'] = 6.67 * scan['delay'] - t0\n",
    "scan_plot['delay_ps'] = 6.67 * scan_plot['delay'] - t0\n",
    "try:\n",
    "    scan = scan.swap_dims({'delay': 'delay_ps'})\n",
    "    scan_plot = scan_plot.swap_dims({'delay': 'delay_ps'})\n",
    "    print('Swapped Dimensions')\n",
    "except Exception:\n",
    "    print('Something went wrong.')\n",
    "    pass"
   ]
  },
  {
   "cell_type": "code",
   "execution_count": 32,
   "metadata": {
    "execution": {
     "iopub.execute_input": "2021-11-02T13:05:53.718790Z",
     "iopub.status.busy": "2021-11-02T13:05:53.718496Z",
     "iopub.status.idle": "2021-11-02T13:05:53.733598Z",
     "shell.execute_reply": "2021-11-02T13:05:53.732489Z",
     "shell.execute_reply.started": "2021-11-02T13:05:53.718755Z"
    }
   },
   "outputs": [],
   "source": [
    "qmin, qmax = 0.0, np.max(scan.q)\n",
    "\n",
    "demag = scan.where((scan['q'] > qmin) & (scan['q'] < qmax)).sum('q')\n",
    "demag_plot = scan_plot.where((scan_plot['q'] > qmin) & (scan_plot['q'] < qmax)).sum('q')\n",
    "\n",
    "qmean = scan.where((scan['q'] > qmin) & (scan['q'] < qmax)).mean('q')"
   ]
  },
  {
   "cell_type": "code",
   "execution_count": 35,
   "metadata": {
    "execution": {
     "iopub.execute_input": "2021-11-02T13:13:05.895279Z",
     "iopub.status.busy": "2021-11-02T13:13:05.894720Z",
     "iopub.status.idle": "2021-11-02T13:13:05.903694Z",
     "shell.execute_reply": "2021-11-02T13:13:05.902642Z",
     "shell.execute_reply.started": "2021-11-02T13:13:05.895209Z"
    }
   },
   "outputs": [
    {
     "data": {
      "text/plain": [
       "17.239602631578947"
      ]
     },
     "execution_count": 35,
     "metadata": {},
     "output_type": "execute_result"
    }
   ],
   "source": []
  },
  {
   "cell_type": "code",
   "execution_count": 40,
   "metadata": {
    "execution": {
     "iopub.execute_input": "2021-11-02T13:15:04.630008Z",
     "iopub.status.busy": "2021-11-02T13:15:04.629737Z",
     "iopub.status.idle": "2021-11-02T13:15:04.687990Z",
     "shell.execute_reply": "2021-11-02T13:15:04.687407Z",
     "shell.execute_reply.started": "2021-11-02T13:15:04.629975Z"
    }
   },
   "outputs": [
    {
     "data": {
      "application/vnd.jupyter.widget-view+json": {
       "model_id": "8d4e960653bd4753ad20513faf27f5cf",
       "version_major": 2,
       "version_minor": 0
      },
      "text/plain": [
       "Canvas(toolbar=Toolbar(toolitems=[('Home', 'Reset original view', 'home', 'home'), ('Back', 'Back to previous …"
      ]
     },
     "metadata": {},
     "output_type": "display_data"
    },
    {
     "data": {
      "text/plain": [
       "Text(0.5, 0.98, 'CoPt_noAl / C4_Scan019: IR 17 mJ/cm²')"
      ]
     },
     "execution_count": 40,
     "metadata": {},
     "output_type": "execute_result"
    }
   ],
   "source": [
    "ir = int(np.round(np.mean(exp['IR_mean'])))\n",
    "fig, ax = plt.subplots(nrows=2, ncols = 1, figsize=(7, 4.5), sharex=True, tight_layout=True)\n",
    "vmin, vmax = float(scan_plot.min()), float(scan_plot.max())\n",
    "scan_plot.plot.contourf(x='delay_ps', y='q', ax=ax[0], cmap='viridis', add_colorbar=False,\n",
    "                   vmin=vmin, vmax=vmax, levels=30)\n",
    "ax[1].plot(demag_plot.delay_ps, demag_plot, 'o-')\n",
    "ax[1].grid()\n",
    "\n",
    "fig.suptitle(f'{samplefolder} / {scanfolder}: IR {ir} mJ/cm²')"
   ]
  },
  {
   "cell_type": "code",
   "execution_count": 93,
   "metadata": {
    "execution": {
     "iopub.execute_input": "2021-06-28T13:57:25.273575Z",
     "iopub.status.busy": "2021-06-28T13:57:25.273120Z",
     "iopub.status.idle": "2021-06-28T13:57:25.283666Z",
     "shell.execute_reply": "2021-06-28T13:57:25.283047Z",
     "shell.execute_reply.started": "2021-06-28T13:57:25.273523Z"
    }
   },
   "outputs": [],
   "source": [
    "plt.close('all')"
   ]
  },
  {
   "cell_type": "code",
   "execution_count": 123,
   "metadata": {
    "execution": {
     "iopub.execute_input": "2021-07-19T14:07:41.942608Z",
     "iopub.status.busy": "2021-07-19T14:07:41.942336Z",
     "iopub.status.idle": "2021-07-19T14:07:42.623302Z",
     "shell.execute_reply": "2021-07-19T14:07:42.622711Z",
     "shell.execute_reply.started": "2021-07-19T14:07:41.942575Z"
    }
   },
   "outputs": [
    {
     "name": "stderr",
     "output_type": "stream",
     "text": [
      "/home/gerlinger/miniconda3/lib/python3.8/site-packages/pandas/core/generic.py:2431: PerformanceWarning: \n",
      "your performance may suffer as PyTables will pickle object types that it cannot\n",
      "map directly to c-types [inferred_type->mixed,key->block2_values] [items->Index(['filename', 'xgm_UH', 'xgm_SH', 'filter_EH_in', 'filter_UH_in',\n",
      "       'diode_I0', 'diode_sum', 'IR', 'valve_pos2', 'valve_dpi3', 'comment',\n",
      "       'magnet', 'bunches'],\n",
      "      dtype='object')]\n",
      "\n",
      "  pytables.to_hdf(\n"
     ]
    }
   ],
   "source": [
    "if not os.path.exists(f'/home/gerlinger/Documents/Beamtimes/2020-06_FERMI/Processed/{samplefolder}/{scanfolder}/'):\n",
    "    os.mkdir(f'/home/gerlinger/Documents/Beamtimes/2020-06_FERMI/Processed/{samplefolder}/{scanfolder}/')\n",
    "\n",
    "exp.to_hdf(f'/home/gerlinger/Documents/Beamtimes/2020-06_FERMI/Processed/{samplefolder}/{scanfolder}/{scanfolder}.h5', key = 'Exp_Data')\n",
    "scan.to_netcdf(f'/home/gerlinger/Documents/Beamtimes/2020-06_FERMI/Processed/{samplefolder}/{scanfolder}/{scanfolder}_Scan.h5')\n",
    "scan_plot.to_netcdf(f'/home/gerlinger/Documents/Beamtimes/2020-06_FERMI/Processed/{samplefolder}/{scanfolder}/{scanfolder}_Scan-plot.h5')\n",
    "demag.to_netcdf(f'/home/gerlinger/Documents/Beamtimes/2020-06_FERMI/Processed/{samplefolder}/{scanfolder}/{scanfolder}_Demag.h5')\n",
    "demag_plot.to_netcdf(f'/home/gerlinger/Documents/Beamtimes/2020-06_FERMI/Processed/{samplefolder}/{scanfolder}/{scanfolder}_Demag-plot.h5')"
   ]
  },
  {
   "cell_type": "markdown",
   "metadata": {},
   "source": [
    "## 1ns and final state"
   ]
  },
  {
   "cell_type": "code",
   "execution_count": 124,
   "metadata": {
    "execution": {
     "iopub.execute_input": "2021-07-19T14:07:46.065542Z",
     "iopub.status.busy": "2021-07-19T14:07:46.065210Z",
     "iopub.status.idle": "2021-07-19T14:07:46.071400Z",
     "shell.execute_reply": "2021-07-19T14:07:46.070360Z",
     "shell.execute_reply.started": "2021-07-19T14:07:46.065503Z"
    }
   },
   "outputs": [
    {
     "name": "stdout",
     "output_type": "stream",
     "text": [
      "/home/gerlinger/Documents/Beamtimes/2020-06_FERMI/Data/CoPt_noAl/C4_Scan019_OF/rawdata/C4_Scan019_OF_658458482.h5\n"
     ]
    }
   ],
   "source": [
    "t = 0\n",
    "for f in exp_of['filename']:\n",
    "    if os.path.getmtime(f) > t:\n",
    "        t = os.path.getmtime(f)\n",
    "        felfile = f\n",
    "        \n",
    "print(felfile)"
   ]
  },
  {
   "cell_type": "code",
   "execution_count": 126,
   "metadata": {
    "execution": {
     "iopub.execute_input": "2021-07-19T14:07:47.636896Z",
     "iopub.status.busy": "2021-07-19T14:07:47.636338Z",
     "iopub.status.idle": "2021-07-19T14:07:47.733831Z",
     "shell.execute_reply": "2021-07-19T14:07:47.733392Z",
     "shell.execute_reply.started": "2021-07-19T14:07:47.636829Z"
    }
   },
   "outputs": [],
   "source": [
    "darkfile = exp_bg.iloc[idx]['filename']\n",
    "dark = pf.loadh5(darkfile)[0].astype(int)\n",
    "offile = exp_of.iloc[idx]['filename']\n",
    "of = (pf.loadh5(offile)[0].astype(int) - dark) / exp_of.iloc[idx][norm_key]\n",
    "# of = of - np.mean(of[-50:, 500:])\n",
    "\n",
    "fel = (pf.loadh5(felfile)[0].astype(int) - dark) / exp_of.iloc[-1][norm_key] - of\n",
    "# fel = fel - np.mean(fel[-50:, 500:])\n",
    "\n",
    "_, I_fel = ai.integrate1d(fel, 200, unit='q_nm^-1', mask = (1-mask).astype(bool), correctSolidAngle=False)\n",
    "I = scanb.sel(delay_ps=1e3, method='nearest')"
   ]
  },
  {
   "cell_type": "code",
   "execution_count": 127,
   "metadata": {
    "execution": {
     "iopub.execute_input": "2021-07-19T14:07:53.433990Z",
     "iopub.status.busy": "2021-07-19T14:07:53.433499Z",
     "iopub.status.idle": "2021-07-19T14:07:53.489479Z",
     "shell.execute_reply": "2021-07-19T14:07:53.489032Z",
     "shell.execute_reply.started": "2021-07-19T14:07:53.433936Z"
    }
   },
   "outputs": [
    {
     "data": {
      "application/vnd.jupyter.widget-view+json": {
       "model_id": "09c813f304174a3093dbadee0512b4c7",
       "version_major": 2,
       "version_minor": 0
      },
      "text/plain": [
       "Canvas(toolbar=Toolbar(toolitems=[('Home', 'Reset original view', 'home', 'home'), ('Back', 'Back to previous …"
      ]
     },
     "metadata": {},
     "output_type": "display_data"
    },
    {
     "data": {
      "text/plain": [
       "<matplotlib.colorbar.Colorbar at 0x7f34a13cb340>"
      ]
     },
     "execution_count": 127,
     "metadata": {},
     "output_type": "execute_result"
    }
   ],
   "source": [
    "mi, ma = np.percentile(fel * mask, (1, 99))\n",
    "fig, ax = plt.subplots()\n",
    "mm = ax.imshow(fel, vmin = mi, vmax = ma)\n",
    "plt.colorbar(mm)"
   ]
  },
  {
   "cell_type": "code",
   "execution_count": 128,
   "metadata": {
    "execution": {
     "iopub.execute_input": "2021-07-19T14:07:55.861717Z",
     "iopub.status.busy": "2021-07-19T14:07:55.861562Z",
     "iopub.status.idle": "2021-07-19T14:07:55.936985Z",
     "shell.execute_reply": "2021-07-19T14:07:55.936430Z",
     "shell.execute_reply.started": "2021-07-19T14:07:55.861699Z"
    }
   },
   "outputs": [
    {
     "data": {
      "application/vnd.jupyter.widget-view+json": {
       "model_id": "845342cd082541479760e690590b3c2f",
       "version_major": 2,
       "version_minor": 0
      },
      "text/plain": [
       "Canvas(toolbar=Toolbar(toolitems=[('Home', 'Reset original view', 'home', 'home'), ('Back', 'Back to previous …"
      ]
     },
     "metadata": {},
     "output_type": "display_data"
    }
   ],
   "source": [
    "fig, ax = plt.subplots()\n",
    "# ax.set_yscale('log')\n",
    "ax.plot(scan.q, I_fel, '-', label = 'final')\n",
    "ax.plot(scan.q, scan.sel(delay_ps=1000, method='nearest'), '-', label = '1000 ps')\n",
    "ax.plot(scan.q, scan.sel(delay_ps=100, method='nearest'), '-', label = '100 ps')\n",
    "#ax.plot(scan.q, I_fel, '-', label = 'final state')\n",
    "ax.set_xlabel(r'q (nm$^{-1}$)')\n",
    "ax.set_ylabel('Intensity (a.u.)')\n",
    "ax.set_title(f'{samplefolder} / {scanfolder}')\n",
    "\n",
    "# ax.set_ylim(top = 6e-4)\n",
    "ax.legend()\n",
    "ax.grid()\n",
    "fig.tight_layout()"
   ]
  },
  {
   "cell_type": "code",
   "execution_count": 129,
   "metadata": {
    "execution": {
     "iopub.execute_input": "2021-07-19T14:07:59.907723Z",
     "iopub.status.busy": "2021-07-19T14:07:59.907281Z",
     "iopub.status.idle": "2021-07-19T14:07:59.943032Z",
     "shell.execute_reply": "2021-07-19T14:07:59.942572Z",
     "shell.execute_reply.started": "2021-07-19T14:07:59.907671Z"
    }
   },
   "outputs": [],
   "source": [
    "df = pd.DataFrame({'q': scan.q, 'I': I_fel})\n",
    "df.to_hdf(f'/home/gerlinger/Documents/Beamtimes/2020-06_FERMI/Processed/{samplefolder}/{scanfolder}/{scanfolder}_final-state.h5', key = 'Intensity')"
   ]
  },
  {
   "cell_type": "code",
   "execution_count": 178,
   "metadata": {
    "execution": {
     "iopub.execute_input": "2021-06-24T07:47:16.966470Z",
     "iopub.status.busy": "2021-06-24T07:47:16.965909Z",
     "iopub.status.idle": "2021-06-24T07:47:16.985660Z",
     "shell.execute_reply": "2021-06-24T07:47:16.984047Z",
     "shell.execute_reply.started": "2021-06-24T07:47:16.966402Z"
    }
   },
   "outputs": [],
   "source": [
    "plt.close('all')"
   ]
  },
  {
   "cell_type": "code",
   "execution_count": 53,
   "metadata": {
    "execution": {
     "iopub.execute_input": "2021-06-17T13:20:51.266119Z",
     "iopub.status.busy": "2021-06-17T13:20:51.265844Z",
     "iopub.status.idle": "2021-06-17T13:20:51.345452Z",
     "shell.execute_reply": "2021-06-17T13:20:51.345015Z",
     "shell.execute_reply.started": "2021-06-17T13:20:51.266086Z"
    }
   },
   "outputs": [
    {
     "data": {
      "application/vnd.jupyter.widget-view+json": {
       "model_id": "d0cf37450e974412b7bb735573590ee8",
       "version_major": 2,
       "version_minor": 0
      },
      "text/plain": [
       "Canvas(toolbar=Toolbar(toolitems=[('Home', 'Reset original view', 'home', 'home'), ('Back', 'Back to previous …"
      ]
     },
     "metadata": {},
     "output_type": "display_data"
    }
   ],
   "source": [
    "fig, ax = plt.subplots()\n",
    "ax.plot(scan.q, I_of - I_before, '-', label = 'difference OF - initial scattering')\n",
    "ax.set_xlabel('q')\n",
    "ax.set_ylabel('Intensity (a.u.)')\n",
    "ax.set_title(f'{samplefolder} / {scanfolder}')\n",
    "ax.legend()\n",
    "ax.grid()\n",
    "fig.tight_layout()"
   ]
  },
  {
   "cell_type": "markdown",
   "metadata": {},
   "source": [
    "# Misc"
   ]
  },
  {
   "cell_type": "markdown",
   "metadata": {},
   "source": [
    "## Azimutal Integration for specific images"
   ]
  },
  {
   "cell_type": "code",
   "execution_count": null,
   "metadata": {
    "execution": {
     "iopub.status.busy": "2021-06-08T13:30:22.411951Z",
     "iopub.status.idle": "2021-06-08T13:30:22.412126Z"
    }
   },
   "outputs": [],
   "source": [
    "imagelist = {\n",
    "    '5258.h5': 2.5,\n",
    "    '1426.h5': 5,\n",
    "    #'0249.h5': 7.5,\n",
    "    '5428.h5': 10,\n",
    "    #'3233.h5': 12.5,\n",
    "    '3233.h5': 15,\n",
    "    '6571.h5': 17.5,\n",
    "    '8033.h5': 20,\n",
    "}"
   ]
  },
  {
   "cell_type": "code",
   "execution_count": null,
   "metadata": {
    "execution": {
     "iopub.status.busy": "2021-06-08T13:30:22.412770Z",
     "iopub.status.idle": "2021-06-08T13:30:22.412942Z"
    }
   },
   "outputs": [],
   "source": [
    "filtered = pf.filtering(f'{basefolder}{samplefolder}/', list(k for k in imagelist.keys()))\n",
    "filtered = [f for f in filtered if 'C4' in f]"
   ]
  },
  {
   "cell_type": "code",
   "execution_count": null,
   "metadata": {
    "execution": {
     "iopub.status.busy": "2021-06-08T13:30:22.413539Z",
     "iopub.status.idle": "2021-06-08T13:30:22.413711Z"
    }
   },
   "outputs": [],
   "source": [
    "sortf = np.array([filtered[0]] * len(filtered))\n",
    "imarray = np.array(list(k for k in imagelist.keys()))\n",
    "for file in filtered:\n",
    "    idx = np.where(imarray == file[-7:])[0][0]\n",
    "    sortf[idx] = deepcopy(file)"
   ]
  },
  {
   "cell_type": "code",
   "execution_count": null,
   "metadata": {
    "execution": {
     "iopub.status.busy": "2021-06-08T13:30:22.414218Z",
     "iopub.status.idle": "2021-06-08T13:30:22.414387Z"
    }
   },
   "outputs": [],
   "source": [
    "az_int = []\n",
    "images = []\n",
    "for f in sortf:\n",
    "    im, meta = pf.loadh5(f, extra_keys={'diode_sum': 'PAM/FQPDSum',})\n",
    "    im = (im - dark.astype(float))/ np.sum(meta['diode_sum'])\n",
    "    im -= (np.mean(im[-50:, 500:]) + before)\n",
    "    images.append(im)\n",
    "    q, I = ai.integrate1d(im * mask, 200, unit='q_nm^-1')\n",
    "    az_int.append(I / norm)\n",
    "integrated = xr.DataArray(az_int, dims=['labels', 'q'], coords = {'q': q})\n",
    "images = np.array(images)"
   ]
  },
  {
   "cell_type": "code",
   "execution_count": null,
   "metadata": {
    "execution": {
     "iopub.status.busy": "2021-06-08T13:30:22.414916Z",
     "iopub.status.idle": "2021-06-08T13:30:22.415085Z"
    }
   },
   "outputs": [],
   "source": [
    "integrated[-2].to_netcdf(f'/home/gerlinger/Documents/Beamtimes/2020-06_FERMI/Processed/{samplefolder}/{scanfolder}/{scanfolder}_final-state.h5')\n",
    "I_fel = integrated[-2]"
   ]
  },
  {
   "cell_type": "code",
   "execution_count": null,
   "metadata": {
    "execution": {
     "iopub.status.busy": "2021-06-08T13:30:22.415523Z",
     "iopub.status.idle": "2021-06-08T13:30:22.415849Z"
    }
   },
   "outputs": [],
   "source": [
    "label = np.round(np.array([ 2.08208978,  4.16417957,  6.24626935,  8.32835914, 10.41044892, 12.4925387 , 14.57462849, 16.65671827]), decimals = 1)\n",
    "blues = ['#edf8b1', '#c7e9b4', '#7fcdbb', '#41b6c4', '#1d91c0', '#225ea8', '#253494', '#081d58']\n",
    "# plot, instead of the file endings you can also define a label list and iterate through that list\n",
    "fig, ax = plt.subplots()\n",
    "ct = 0\n",
    "for data in integrated:\n",
    "    ax.plot(integrated.q, data, blues[ct], label = f'{label[ct]} mJ/cm$^2$')\n",
    "    ct += 1\n",
    "plt.legend()\n",
    "ax.set_xlabel('q (nm$^{-1}$)')\n",
    "ax.set_ylabel('intensity (a.u.)')\n",
    "ax.grid()\n",
    "ax.set_title(f'{samplefolder} / {scanfolder}: Magnet %.1f A'%mag_max)\n",
    "fig.tight_layout()"
   ]
  },
  {
   "cell_type": "markdown",
   "metadata": {},
   "source": [
    "## Get magnet information\n",
    "\n",
    "This is only done when doing a delay scan to check what the maximal magnet amperage was and at which amperage the FEL hit the sample.\n",
    "\n",
    "Since this process should be identical for each delay, we only take the magnet info from the image that was plotted above.\n",
    "\n",
    "Please check that the lower plateau was correctly found! If the orange curve is only 1 on these lower plateaus everything is fine. If not, please change the chunksize (the numbers of points over which the slope is calculated) or the maximum slope. The default values, also here as default in the template, are *chunksize = 500, max_slope = 4e-7*."
   ]
  },
  {
   "cell_type": "code",
   "execution_count": 419,
   "metadata": {
    "execution": {
     "iopub.execute_input": "2021-06-25T10:29:12.783050Z",
     "iopub.status.busy": "2021-06-25T10:29:12.782442Z",
     "iopub.status.idle": "2021-06-25T10:29:12.795680Z",
     "shell.execute_reply": "2021-06-25T10:29:12.794428Z",
     "shell.execute_reply.started": "2021-06-25T10:29:12.782976Z"
    }
   },
   "outputs": [],
   "source": [
    "def get_magnet(fname, offset = .2, plot = True, chunksize = 500, max_slope = 4e-7):\n",
    "    scan = split(split(split(fname)[0])[0])[-1]\n",
    "    sample = split(split(split(split(fname)[0])[0])[0])[-1]\n",
    "    with h5py.File(fname, 'r') as f:\n",
    "        magnet = f['Lecroy/Wave3'][()]\n",
    "    mag_mean = np.mean(magnet, axis = 0) + offset\n",
    "    mag_lower = np.mean(mag_mean[np.where(pf.zero_slope(mag_mean, 500) == 1)])\n",
    "    mag_upper = np.max(mag_mean)\n",
    "    if plot:\n",
    "        sname = split(fname)[-1]\n",
    "        fig, ax = plt.subplots()\n",
    "        ax.plot(mag_mean, label = 'mean')\n",
    "        ax.plot(pf.zero_slope(mag_mean, chunksize, max_slope), label = 'magnet change')\n",
    "        ax.grid()\n",
    "        ax.set_xlabel('time (a.u.)')\n",
    "        ax.set_ylabel('magnet current (A)')\n",
    "        ax.legend()\n",
    "        ax.set_title(f'{sample}/{scan}' + ': max = %.1f, min = %.1f'%(mag_upper, mag_lower)) #include max and min of magnet current in title\n",
    "        #fig.savefig(f'../images/Magnet/{sname}.png')\n",
    "    return (magnet, mag_lower, mag_upper)"
   ]
  },
  {
   "cell_type": "code",
   "execution_count": 414,
   "metadata": {
    "execution": {
     "iopub.execute_input": "2021-06-25T10:26:15.884819Z",
     "iopub.status.busy": "2021-06-25T10:26:15.884154Z",
     "iopub.status.idle": "2021-06-25T10:26:15.896685Z",
     "shell.execute_reply": "2021-06-25T10:26:15.894068Z",
     "shell.execute_reply.started": "2021-06-25T10:26:15.884742Z"
    }
   },
   "outputs": [],
   "source": [
    "dd = np.float(scan.sel(delay_ps=40, method='nearest').delay)"
   ]
  },
  {
   "cell_type": "code",
   "execution_count": 420,
   "metadata": {
    "execution": {
     "iopub.execute_input": "2021-06-25T10:29:15.135683Z",
     "iopub.status.busy": "2021-06-25T10:29:15.135219Z",
     "iopub.status.idle": "2021-06-25T10:29:15.187934Z",
     "shell.execute_reply": "2021-06-25T10:29:15.187119Z",
     "shell.execute_reply.started": "2021-06-25T10:29:15.135631Z"
    }
   },
   "outputs": [
    {
     "data": {
      "application/vnd.jupyter.widget-view+json": {
       "model_id": "8e38d11108e64f98bbec01e75476c4dd",
       "version_major": 2,
       "version_minor": 0
      },
      "text/plain": [
       "Canvas(toolbar=Toolbar(toolitems=[('Home', 'Reset original view', 'home', 'home'), ('Back', 'Back to previous …"
      ]
     },
     "metadata": {},
     "output_type": "display_data"
    },
    {
     "ename": "NameError",
     "evalue": "name 'zero_slope' is not defined",
     "output_type": "error",
     "traceback": [
      "\u001b[0;31m---------------------------------------------------------------------------\u001b[0m",
      "\u001b[0;31mNameError\u001b[0m                                 Traceback (most recent call last)",
      "\u001b[0;32m<ipython-input-420-7292e219fe4f>\u001b[0m in \u001b[0;36m<module>\u001b[0;34m\u001b[0m\n\u001b[0;32m----> 1\u001b[0;31m magnet, mag_min, mag_max = get_magnet(exp.loc[exp.delay == dd]['filename'].values[0], offset = .3,\n\u001b[0m\u001b[1;32m      2\u001b[0m                                  chunksize = 500, max_slope = 4e-7, plot = True) #exp.iloc[0]['filename']\n",
      "\u001b[0;32m<ipython-input-419-2cdb4eb1984e>\u001b[0m in \u001b[0;36mget_magnet\u001b[0;34m(fname, offset, plot, chunksize, max_slope)\u001b[0m\n\u001b[1;32m     11\u001b[0m         \u001b[0mfig\u001b[0m\u001b[0;34m,\u001b[0m \u001b[0max\u001b[0m \u001b[0;34m=\u001b[0m \u001b[0mplt\u001b[0m\u001b[0;34m.\u001b[0m\u001b[0msubplots\u001b[0m\u001b[0;34m(\u001b[0m\u001b[0;34m)\u001b[0m\u001b[0;34m\u001b[0m\u001b[0;34m\u001b[0m\u001b[0m\n\u001b[1;32m     12\u001b[0m         \u001b[0max\u001b[0m\u001b[0;34m.\u001b[0m\u001b[0mplot\u001b[0m\u001b[0;34m(\u001b[0m\u001b[0mmag_mean\u001b[0m\u001b[0;34m,\u001b[0m \u001b[0mlabel\u001b[0m \u001b[0;34m=\u001b[0m \u001b[0;34m'mean'\u001b[0m\u001b[0;34m)\u001b[0m\u001b[0;34m\u001b[0m\u001b[0;34m\u001b[0m\u001b[0m\n\u001b[0;32m---> 13\u001b[0;31m         \u001b[0max\u001b[0m\u001b[0;34m.\u001b[0m\u001b[0mplot\u001b[0m\u001b[0;34m(\u001b[0m\u001b[0mzero_slope\u001b[0m\u001b[0;34m(\u001b[0m\u001b[0mmag_mean\u001b[0m\u001b[0;34m,\u001b[0m \u001b[0mchunksize\u001b[0m\u001b[0;34m,\u001b[0m \u001b[0mmax_slope\u001b[0m\u001b[0;34m)\u001b[0m\u001b[0;34m,\u001b[0m \u001b[0mlabel\u001b[0m \u001b[0;34m=\u001b[0m \u001b[0;34m'magnet change'\u001b[0m\u001b[0;34m)\u001b[0m\u001b[0;34m\u001b[0m\u001b[0;34m\u001b[0m\u001b[0m\n\u001b[0m\u001b[1;32m     14\u001b[0m         \u001b[0max\u001b[0m\u001b[0;34m.\u001b[0m\u001b[0mgrid\u001b[0m\u001b[0;34m(\u001b[0m\u001b[0;34m)\u001b[0m\u001b[0;34m\u001b[0m\u001b[0;34m\u001b[0m\u001b[0m\n\u001b[1;32m     15\u001b[0m         \u001b[0max\u001b[0m\u001b[0;34m.\u001b[0m\u001b[0mset_xlabel\u001b[0m\u001b[0;34m(\u001b[0m\u001b[0;34m'time (a.u.)'\u001b[0m\u001b[0;34m)\u001b[0m\u001b[0;34m\u001b[0m\u001b[0;34m\u001b[0m\u001b[0m\n",
      "\u001b[0;31mNameError\u001b[0m: name 'zero_slope' is not defined"
     ]
    }
   ],
   "source": [
    "magnet, mag_min, mag_max = get_magnet(exp.loc[exp.delay == dd]['filename'].values[0], offset = .3,\n",
    "                                 chunksize = 500, max_slope = 4e-7, plot = True) #exp.iloc[0]['filename']"
   ]
  },
  {
   "cell_type": "code",
   "execution_count": null,
   "metadata": {},
   "outputs": [],
   "source": []
  }
 ],
 "metadata": {
  "kernelspec": {
   "display_name": "Python 3",
   "language": "python",
   "name": "python3"
  },
  "language_info": {
   "codemirror_mode": {
    "name": "ipython",
    "version": 3
   },
   "file_extension": ".py",
   "mimetype": "text/x-python",
   "name": "python",
   "nbconvert_exporter": "python",
   "pygments_lexer": "ipython3",
   "version": "3.8.3"
  },
  "toc": {
   "base_numbering": 1,
   "nav_menu": {
    "height": "179.1px",
    "width": "252px"
   },
   "number_sections": true,
   "sideBar": true,
   "skip_h1_title": false,
   "title_cell": "Table of Contents",
   "title_sidebar": "Contents",
   "toc_cell": false,
   "toc_position": {
    "height": "calc(100% - 180px)",
    "left": "10px",
    "top": "150px",
    "width": "300px"
   },
   "toc_section_display": "block",
   "toc_window_display": true
  },
  "toc-autonumbering": true,
  "toc-showcode": false,
  "varInspector": {
   "cols": {
    "lenName": 16,
    "lenType": 16,
    "lenVar": 40
   },
   "kernels_config": {
    "python": {
     "delete_cmd_postfix": "",
     "delete_cmd_prefix": "del ",
     "library": "var_list.py",
     "varRefreshCmd": "print(var_dic_list())"
    },
    "r": {
     "delete_cmd_postfix": ") ",
     "delete_cmd_prefix": "rm(",
     "library": "var_list.r",
     "varRefreshCmd": "cat(var_dic_list()) "
    }
   },
   "oldHeight": 493.85,
   "position": {
    "height": "40px",
    "left": "1580px",
    "right": "20px",
    "top": "120px",
    "width": "250px"
   },
   "types_to_exclude": [
    "module",
    "function",
    "builtin_function_or_method",
    "instance",
    "_Feature"
   ],
   "varInspector_section_display": "none",
   "window_display": true
  }
 },
 "nbformat": 4,
 "nbformat_minor": 4
}
