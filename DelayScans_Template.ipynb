{
 "cells": [
  {
   "cell_type": "markdown",
   "metadata": {},
   "source": [
    "# Imports\n",
    "\n",
    "Import python libraries as well as the self written FERMI library."
   ]
  },
  {
   "cell_type": "code",
   "execution_count": 2,
   "metadata": {},
   "outputs": [
    {
     "name": "stdout",
     "output_type": "stream",
     "text": [
      "Collecting pyFAI\n",
      "  Using cached pyFAI-0.20.0-cp39-cp39-manylinux2014_x86_64.whl (19.9 MB)\n",
      "Requirement already satisfied: numpy>=1.19.3 in /opt/conda/lib/python3.9/site-packages (from pyFAI) (1.21.2)\n",
      "Requirement already satisfied: matplotlib in /opt/conda/lib/python3.9/site-packages (from pyFAI) (3.4.3)\n",
      "Requirement already satisfied: numexpr in /opt/conda/lib/python3.9/site-packages (from pyFAI) (2.7.3)\n",
      "Requirement already satisfied: scipy in /opt/conda/lib/python3.9/site-packages (from pyFAI) (1.7.1)\n",
      "Collecting silx>=0.10\n",
      "  Using cached silx-0.15.2-cp39-cp39-manylinux_2_17_x86_64.manylinux2014_x86_64.whl (13.8 MB)\n",
      "Requirement already satisfied: setuptools in /opt/conda/lib/python3.9/site-packages (from pyFAI) (52.0.0.post20210125)\n",
      "Collecting fabio>=0.5\n",
      "  Using cached fabio-0.12.0-cp39-cp39-manylinux_2_17_x86_64.manylinux2014_x86_64.whl (3.8 MB)\n",
      "Requirement already satisfied: h5py in /opt/conda/lib/python3.9/site-packages (from silx>=0.10->pyFAI) (3.2.1)\n",
      "Requirement already satisfied: six in /opt/conda/lib/python3.9/site-packages (from silx>=0.10->pyFAI) (1.16.0)\n",
      "Requirement already satisfied: python-dateutil>=2.7 in /opt/conda/lib/python3.9/site-packages (from matplotlib->pyFAI) (2.8.2)\n",
      "Requirement already satisfied: cycler>=0.10 in /opt/conda/lib/python3.9/site-packages (from matplotlib->pyFAI) (0.10.0)\n",
      "Requirement already satisfied: pillow>=6.2.0 in /opt/conda/lib/python3.9/site-packages (from matplotlib->pyFAI) (8.4.0)\n",
      "Requirement already satisfied: pyparsing>=2.2.1 in /opt/conda/lib/python3.9/site-packages (from matplotlib->pyFAI) (2.4.7)\n",
      "Requirement already satisfied: kiwisolver>=1.0.1 in /opt/conda/lib/python3.9/site-packages (from matplotlib->pyFAI) (1.3.1)\n",
      "Installing collected packages: fabio, silx, pyFAI\n",
      "\u001b[33m  WARNING: The scripts densify-Bragg, eiger2cbf, eiger2crysalis and fabio-convert are installed in '/net/phase/store/users/mschneid/.local/bin' which is not on PATH.\n",
      "  Consider adding this directory to PATH or, if you prefer to suppress this warning, use --no-warn-script-location.\u001b[0m\n",
      "\u001b[33m  WARNING: The script silx is installed in '/net/phase/store/users/mschneid/.local/bin' which is not on PATH.\n",
      "  Consider adding this directory to PATH or, if you prefer to suppress this warning, use --no-warn-script-location.\u001b[0m\n",
      "\u001b[33m  WARNING: The scripts MX-calibrate, check_calib, detector2nexus, diff_map, diff_tomo, eiger-mask, pyFAI-average, pyFAI-benchmark, pyFAI-calib, pyFAI-calib2, pyFAI-diffmap, pyFAI-drawmask, pyFAI-integrate, pyFAI-recalib, pyFAI-saxs, pyFAI-waxs and sparsify-Bragg are installed in '/net/phase/store/users/mschneid/.local/bin' which is not on PATH.\n",
      "  Consider adding this directory to PATH or, if you prefer to suppress this warning, use --no-warn-script-location.\u001b[0m\n",
      "Successfully installed fabio-0.12.0 pyFAI-0.20.0 silx-0.15.2\n"
     ]
    }
   ],
   "source": [
    "!pip install --user pyFAI"
   ]
  },
  {
   "cell_type": "code",
   "execution_count": 1,
   "metadata": {
    "tags": []
   },
   "outputs": [
    {
     "name": "stderr",
     "output_type": "stream",
     "text": [
      "WARNING:silx.opencl.common:Unable to import pyOpenCl. Please install it from: https://pypi.org/project/pyopencl\n"
     ]
    }
   ],
   "source": [
    "import sys, os\n",
    "USER = os.environ['USER']\n",
    "\n",
    "sys.path.append('./FERMI_2020-07/')\n",
    "sys.path.append(f'/net/phase/store/users/{USER}/.local/lib/python3.9/site-packages')\n",
    "\n",
    "import numpy as np\n",
    "import xarray as xr\n",
    "import pandas as pd\n",
    "import h5py\n",
    "from os.path import join, split\n",
    "from glob import glob\n",
    "from time import strftime\n",
    "from imageio import imread\n",
    "\n",
    "from pyFAI.azimuthalIntegrator import AzimuthalIntegrator\n",
    "from pyFAI.detectors import Detector\n",
    "from pyFAI.calibrant import Cell, Calibrant\n",
    "\n",
    "from scipy.ndimage.filters import median_filter \n",
    "\n",
    "\n",
    "\n",
    "import matplotlib.pyplot as plt\n",
    "from matplotlib.image import NonUniformImage\n",
    "import process_FERMI_2021 as pf\n",
    "\n",
    "from tqdm.auto import tqdm\n",
    "\n",
    "from importlib import reload\n",
    "from copy import deepcopy"
   ]
  },
  {
   "cell_type": "code",
   "execution_count": 2,
   "metadata": {
    "tags": []
   },
   "outputs": [],
   "source": [
    "#interactive plotting\n",
    "%matplotlib widget"
   ]
  },
  {
   "cell_type": "code",
   "execution_count": 3,
   "metadata": {
    "tags": []
   },
   "outputs": [],
   "source": [
    "def plot_image(im, fname):\n",
    "    fig, ax = plt.subplots(tight_layout=True)\n",
    "    m = ax.imshow(im)\n",
    "    plt.colorbar(m)\n",
    "    ax.grid(False)\n",
    "    fig.savefig(fname, dpi=100)\n",
    "    plt.close(fig)\n",
    "\n",
    "def plot_ai(df, time, samplefolder, scanfolder, fname):\n",
    "    fig, ax = plt.subplots(tight_layout=True)\n",
    "    az2d.plot.imshow(ax = ax, cmap = 'viridis')\n",
    "    ax.set_title(f'{samplefolder} / {scanfolder}: delay %.2fps'%time)\n",
    "    fig.savefig(fname, dpi=100)\n",
    "    plt.close(fig)\n",
    "\n",
    "def plot_curve(xdata, ydata, fname, xlabel = '', ylabel = ''):\n",
    "    fig, ax = plt.subplots(tight_layout=True)\n",
    "    ax.plot(xdata, ydata, 'o-')\n",
    "    ax.set_xlabel(xlabel)\n",
    "    ax.set_ylabel(ylabel)\n",
    "    fig.savefig(fname, dpi=100)\n",
    "    plt.close(fig)"
   ]
  },
  {
   "cell_type": "code",
   "execution_count": 4,
   "metadata": {
    "tags": []
   },
   "outputs": [],
   "source": [
    "filters = {'Al-780 (3)': .34*.85,} #775nm of pure Al, 5nm of Al2O3"
   ]
  },
  {
   "cell_type": "markdown",
   "metadata": {},
   "source": [
    "# load non-image data\n",
    "\n",
    "Specify the folder of the run you want to analyze. No need to have the exact folder of the HDF files. The function *get_exp_dataframe* works recursively and gets all HDF files into the pandas DataFrame. It will also already take specific values that you can specify in *extra_keays* and save them into the same DataFrame."
   ]
  },
  {
   "cell_type": "code",
   "execution_count": 5,
   "metadata": {
    "tags": []
   },
   "outputs": [],
   "source": [
    "basefolder = f'/net/phase/store/users/{USER}/20209130/'\n",
    "samplefolder = 'results/usr/testdata/'\n",
    "scanfolder = 'C4_Scan014'\n",
    "\n",
    "datafolder = join(basefolder, samplefolder, scanfolder)\n",
    "extra_keys = {\n",
    "    'diode_sum': 'PAM/FQPDSum',\n",
    "    'IR': 'Laser/Energy1',\n",
    "    'magnet': 'Lecroy/Wave3',\n",
    "    'bunches': 'bunches',\n",
    "    'time': '',\n",
    "}\n",
    "\n",
    "exp = pf.get_exp_dataframe(datafolder, keys=extra_keys)\n",
    "for k in ['xgm_UH', 'xgm_SH', 'diode_sum']:\n",
    "    exp[k + '_sum'] = exp[k].apply(np.sum)\n",
    "\n",
    "exp['diode_sum_mean'] = exp.diode_sum.apply(np.mean)\n",
    "exp['diode_sum_std'] = exp.diode_sum.apply(np.std)\n",
    "exp['IR_mean'] = exp.IR.apply(np.mean)\n",
    "exp['IR_std'] = exp.IR.apply(np.std)\n",
    "exp['magnet_mean'] = exp.magnet.apply(np.mean)\n",
    "exp['magnet_mean'] = exp.magnet_mean.apply(np.round, args=(3,))\n",
    "exp['bunchid'] = exp.bunches.apply(lambda l: l[-1])\n",
    "\n",
    "exp = exp.sort_values('delay')"
   ]
  },
  {
   "cell_type": "markdown",
   "metadata": {},
   "source": [
    "Let's have a look at it"
   ]
  },
  {
   "cell_type": "code",
   "execution_count": 6,
   "metadata": {
    "collapsed": true,
    "jupyter": {
     "outputs_hidden": true
    },
    "tags": []
   },
   "outputs": [
    {
     "data": {
      "text/html": [
       "<div>\n",
       "<style scoped>\n",
       "    .dataframe tbody tr th:only-of-type {\n",
       "        vertical-align: middle;\n",
       "    }\n",
       "\n",
       "    .dataframe tbody tr th {\n",
       "        vertical-align: top;\n",
       "    }\n",
       "\n",
       "    .dataframe thead th {\n",
       "        text-align: right;\n",
       "    }\n",
       "</style>\n",
       "<table border=\"1\" class=\"dataframe\">\n",
       "  <thead>\n",
       "    <tr style=\"text-align: right;\">\n",
       "      <th></th>\n",
       "      <th>filename</th>\n",
       "      <th>time</th>\n",
       "      <th>xgm_UH</th>\n",
       "      <th>xgm_SH</th>\n",
       "      <th>filter_EH_in</th>\n",
       "      <th>filter_UH_in</th>\n",
       "      <th>wavelength</th>\n",
       "      <th>diode_I0</th>\n",
       "      <th>diode_sum</th>\n",
       "      <th>polarization</th>\n",
       "      <th>...</th>\n",
       "      <th>bunches</th>\n",
       "      <th>xgm_UH_sum</th>\n",
       "      <th>xgm_SH_sum</th>\n",
       "      <th>diode_sum_sum</th>\n",
       "      <th>diode_sum_mean</th>\n",
       "      <th>diode_sum_std</th>\n",
       "      <th>IR_mean</th>\n",
       "      <th>IR_std</th>\n",
       "      <th>magnet_mean</th>\n",
       "      <th>bunchid</th>\n",
       "    </tr>\n",
       "  </thead>\n",
       "  <tbody>\n",
       "    <tr>\n",
       "      <th>0</th>\n",
       "      <td>/net/phase/store/users/mschneid/20209130/resul...</td>\n",
       "      <td>1.594020e+09</td>\n",
       "      <td>[41.69225046341064, 44.42697967503092, 40.9794...</td>\n",
       "      <td>[40.96034433424256, 43.784108562050655, 40.203...</td>\n",
       "      <td>Al-780 (3)</td>\n",
       "      <td>Passthrough (1)</td>\n",
       "      <td>20.8</td>\n",
       "      <td>[38.350868225097656, 41.92829132080078, 36.023...</td>\n",
       "      <td>[160.13946533203125, 174.65858459472656, 148.8...</td>\n",
       "      <td>3.0</td>\n",
       "      <td>...</td>\n",
       "      <td>[657773895, 657773896, 657773897, 657773898, 6...</td>\n",
       "      <td>12189.811142</td>\n",
       "      <td>11958.793161</td>\n",
       "      <td>46240.074921</td>\n",
       "      <td>154.133583</td>\n",
       "      <td>25.285242</td>\n",
       "      <td>17.261367</td>\n",
       "      <td>0.097791</td>\n",
       "      <td>2.213</td>\n",
       "      <td>657774194</td>\n",
       "    </tr>\n",
       "    <tr>\n",
       "      <th>39</th>\n",
       "      <td>/net/phase/store/users/mschneid/20209130/resul...</td>\n",
       "      <td>1.594022e+09</td>\n",
       "      <td>[45.659107479174295, 32.752324836446924, 44.48...</td>\n",
       "      <td>[44.43839430327183, 32.16948077716861, 43.6449...</td>\n",
       "      <td>Al-780 (3)</td>\n",
       "      <td>Passthrough (1)</td>\n",
       "      <td>20.8</td>\n",
       "      <td>[44.41051483154297, 29.652786254882812, 42.189...</td>\n",
       "      <td>[168.6847686767578, 127.42080688476562, 178.13...</td>\n",
       "      <td>3.0</td>\n",
       "      <td>...</td>\n",
       "      <td>[657881871, 657881872, 657881873, 657881874, 6...</td>\n",
       "      <td>11481.090797</td>\n",
       "      <td>11250.099565</td>\n",
       "      <td>47396.454620</td>\n",
       "      <td>157.988182</td>\n",
       "      <td>30.095028</td>\n",
       "      <td>17.257633</td>\n",
       "      <td>0.095767</td>\n",
       "      <td>2.204</td>\n",
       "      <td>657882170</td>\n",
       "    </tr>\n",
       "    <tr>\n",
       "      <th>1</th>\n",
       "      <td>/net/phase/store/users/mschneid/20209130/resul...</td>\n",
       "      <td>1.594020e+09</td>\n",
       "      <td>[42.706264433184245, 38.57744494293732, 33.713...</td>\n",
       "      <td>[41.42402953276111, 37.67385742955712, 32.7960...</td>\n",
       "      <td>Al-780 (3)</td>\n",
       "      <td>Passthrough (1)</td>\n",
       "      <td>20.8</td>\n",
       "      <td>[40.24772644042969, 34.65843200683594, 30.3274...</td>\n",
       "      <td>[168.6298370361328, 146.6949462890625, 129.734...</td>\n",
       "      <td>3.0</td>\n",
       "      <td>...</td>\n",
       "      <td>[657776943, 657776944, 657776945, 657776946, 6...</td>\n",
       "      <td>9331.876730</td>\n",
       "      <td>9073.711605</td>\n",
       "      <td>32106.393814</td>\n",
       "      <td>107.021313</td>\n",
       "      <td>46.320861</td>\n",
       "      <td>17.263667</td>\n",
       "      <td>0.087943</td>\n",
       "      <td>2.208</td>\n",
       "      <td>657777242</td>\n",
       "    </tr>\n",
       "    <tr>\n",
       "      <th>2</th>\n",
       "      <td>/net/phase/store/users/mschneid/20209130/resul...</td>\n",
       "      <td>1.594020e+09</td>\n",
       "      <td>[43.456007049848026, 41.339966396893026, 40.39...</td>\n",
       "      <td>[41.75991283083343, 39.910063065226026, 38.860...</td>\n",
       "      <td>Al-780 (3)</td>\n",
       "      <td>Passthrough (1)</td>\n",
       "      <td>20.8</td>\n",
       "      <td>[41.03565216064453, 38.10710906982422, 37.4462...</td>\n",
       "      <td>[170.70350646972656, 158.2683563232422, 155.58...</td>\n",
       "      <td>3.0</td>\n",
       "      <td>...</td>\n",
       "      <td>[657781442, 657781443, 657781444, 657781445, 6...</td>\n",
       "      <td>9850.531391</td>\n",
       "      <td>9604.809380</td>\n",
       "      <td>35177.875900</td>\n",
       "      <td>117.259586</td>\n",
       "      <td>36.048954</td>\n",
       "      <td>17.281100</td>\n",
       "      <td>0.085024</td>\n",
       "      <td>2.207</td>\n",
       "      <td>657781741</td>\n",
       "    </tr>\n",
       "    <tr>\n",
       "      <th>3</th>\n",
       "      <td>/net/phase/store/users/mschneid/20209130/resul...</td>\n",
       "      <td>1.594020e+09</td>\n",
       "      <td>[40.47665924860218, 43.96479718767017, 28.7518...</td>\n",
       "      <td>[38.51293386741381, 42.10514577339761, 27.5576...</td>\n",
       "      <td>Al-780 (3)</td>\n",
       "      <td>Passthrough (1)</td>\n",
       "      <td>20.8</td>\n",
       "      <td>[35.18543243408203, 39.13536071777344, 27.8366...</td>\n",
       "      <td>[145.04356384277344, 162.5152587890625, 116.01...</td>\n",
       "      <td>3.0</td>\n",
       "      <td>...</td>\n",
       "      <td>[657783202, 657783203, 657783204, 657783205, 6...</td>\n",
       "      <td>10966.668671</td>\n",
       "      <td>10731.149569</td>\n",
       "      <td>42170.938110</td>\n",
       "      <td>140.569794</td>\n",
       "      <td>25.071611</td>\n",
       "      <td>17.259433</td>\n",
       "      <td>0.093559</td>\n",
       "      <td>2.211</td>\n",
       "      <td>657783501</td>\n",
       "    </tr>\n",
       "    <tr>\n",
       "      <th>4</th>\n",
       "      <td>/net/phase/store/users/mschneid/20209130/resul...</td>\n",
       "      <td>1.594020e+09</td>\n",
       "      <td>[39.97099896830177, 27.653483878295713, 38.470...</td>\n",
       "      <td>[38.6945269530242, 26.93570088053199, 37.47341...</td>\n",
       "      <td>Al-780 (3)</td>\n",
       "      <td>Passthrough (1)</td>\n",
       "      <td>20.8</td>\n",
       "      <td>[35.44635772705078, 24.207687377929688, 32.292...</td>\n",
       "      <td>[150.03204345703125, 105.10482788085938, 121.9...</td>\n",
       "      <td>3.0</td>\n",
       "      <td>...</td>\n",
       "      <td>[657784860, 657784861, 657784862, 657784863, 6...</td>\n",
       "      <td>11211.029538</td>\n",
       "      <td>10868.726150</td>\n",
       "      <td>44430.108261</td>\n",
       "      <td>148.100361</td>\n",
       "      <td>30.145105</td>\n",
       "      <td>17.242033</td>\n",
       "      <td>0.092420</td>\n",
       "      <td>2.210</td>\n",
       "      <td>657785159</td>\n",
       "    </tr>\n",
       "    <tr>\n",
       "      <th>5</th>\n",
       "      <td>/net/phase/store/users/mschneid/20209130/resul...</td>\n",
       "      <td>1.594020e+09</td>\n",
       "      <td>[33.682078172504156, 41.36399036097309, 41.578...</td>\n",
       "      <td>[32.834769472873894, 40.53362000258792, 40.555...</td>\n",
       "      <td>Al-780 (3)</td>\n",
       "      <td>Passthrough (1)</td>\n",
       "      <td>20.8</td>\n",
       "      <td>[33.57524871826172, 39.20917510986328, 39.8838...</td>\n",
       "      <td>[143.26515197753906, 166.28150939941406, 170.6...</td>\n",
       "      <td>3.0</td>\n",
       "      <td>...</td>\n",
       "      <td>[657786480, 657786481, 657786482, 657786483, 6...</td>\n",
       "      <td>11206.841059</td>\n",
       "      <td>10935.744869</td>\n",
       "      <td>45827.160645</td>\n",
       "      <td>152.757202</td>\n",
       "      <td>29.480753</td>\n",
       "      <td>17.269600</td>\n",
       "      <td>0.084938</td>\n",
       "      <td>2.214</td>\n",
       "      <td>657786779</td>\n",
       "    </tr>\n",
       "    <tr>\n",
       "      <th>6</th>\n",
       "      <td>/net/phase/store/users/mschneid/20209130/resul...</td>\n",
       "      <td>1.594020e+09</td>\n",
       "      <td>[26.060679656128546, 30.724041678576825, 4.730...</td>\n",
       "      <td>[25.214254352146597, 29.6469048047358, 4.40986...</td>\n",
       "      <td>Al-780 (3)</td>\n",
       "      <td>Passthrough (1)</td>\n",
       "      <td>20.8</td>\n",
       "      <td>[25.702857971191406, 31.31275177001953, 6.2793...</td>\n",
       "      <td>[109.08393859863281, 116.94602966308594, 27.29...</td>\n",
       "      <td>3.0</td>\n",
       "      <td>...</td>\n",
       "      <td>[657788196, 657788197, 657788198, 657788199, 6...</td>\n",
       "      <td>11340.284921</td>\n",
       "      <td>10983.816026</td>\n",
       "      <td>45726.378250</td>\n",
       "      <td>152.421261</td>\n",
       "      <td>29.705465</td>\n",
       "      <td>17.271833</td>\n",
       "      <td>0.083608</td>\n",
       "      <td>2.210</td>\n",
       "      <td>657788495</td>\n",
       "    </tr>\n",
       "    <tr>\n",
       "      <th>7</th>\n",
       "      <td>/net/phase/store/users/mschneid/20209130/resul...</td>\n",
       "      <td>1.594020e+09</td>\n",
       "      <td>[40.334201420013066, 34.86568854110497, 35.561...</td>\n",
       "      <td>[39.327358941333415, 33.76663140401931, 34.338...</td>\n",
       "      <td>Al-780 (3)</td>\n",
       "      <td>Passthrough (1)</td>\n",
       "      <td>20.8</td>\n",
       "      <td>[38.239288330078125, 34.58118438720703, 38.069...</td>\n",
       "      <td>[161.82861328125, 146.15936279296875, 162.1101...</td>\n",
       "      <td>3.0</td>\n",
       "      <td>...</td>\n",
       "      <td>[657789781, 657789782, 657789783, 657789784, 6...</td>\n",
       "      <td>10756.321951</td>\n",
       "      <td>10413.534083</td>\n",
       "      <td>40951.050568</td>\n",
       "      <td>136.503502</td>\n",
       "      <td>45.323682</td>\n",
       "      <td>17.247367</td>\n",
       "      <td>0.089473</td>\n",
       "      <td>2.203</td>\n",
       "      <td>657790080</td>\n",
       "    </tr>\n",
       "    <tr>\n",
       "      <th>8</th>\n",
       "      <td>/net/phase/store/users/mschneid/20209130/resul...</td>\n",
       "      <td>1.594020e+09</td>\n",
       "      <td>[20.981677933693206, 34.04574822368154, 43.901...</td>\n",
       "      <td>[20.22618130328831, 33.527183382724935, 43.231...</td>\n",
       "      <td>Al-780 (3)</td>\n",
       "      <td>Passthrough (1)</td>\n",
       "      <td>20.8</td>\n",
       "      <td>[22.942543029785156, 33.87565612792969, 44.516...</td>\n",
       "      <td>[97.59979248046875, 127.76069641113281, 190.69...</td>\n",
       "      <td>3.0</td>\n",
       "      <td>...</td>\n",
       "      <td>[657791432, 657791433, 657791434, 657791435, 6...</td>\n",
       "      <td>11635.908905</td>\n",
       "      <td>11438.678406</td>\n",
       "      <td>48663.875198</td>\n",
       "      <td>162.212917</td>\n",
       "      <td>32.064878</td>\n",
       "      <td>17.256000</td>\n",
       "      <td>0.091243</td>\n",
       "      <td>2.215</td>\n",
       "      <td>657791731</td>\n",
       "    </tr>\n",
       "    <tr>\n",
       "      <th>9</th>\n",
       "      <td>/net/phase/store/users/mschneid/20209130/resul...</td>\n",
       "      <td>1.594020e+09</td>\n",
       "      <td>[36.24243698732488, 31.33676259531219, 35.5542...</td>\n",
       "      <td>[35.49879785688962, 30.530499622434796, 34.802...</td>\n",
       "      <td>Al-780 (3)</td>\n",
       "      <td>Passthrough (1)</td>\n",
       "      <td>20.8</td>\n",
       "      <td>[33.637046813964844, 30.799484252929688, 33.32...</td>\n",
       "      <td>[125.77285766601562, 130.4351806640625, 139.35...</td>\n",
       "      <td>3.0</td>\n",
       "      <td>...</td>\n",
       "      <td>[657793244, 657793245, 657793246, 657793247, 6...</td>\n",
       "      <td>10946.189707</td>\n",
       "      <td>10575.148911</td>\n",
       "      <td>44653.710938</td>\n",
       "      <td>148.845703</td>\n",
       "      <td>28.718917</td>\n",
       "      <td>17.245933</td>\n",
       "      <td>0.082155</td>\n",
       "      <td>2.212</td>\n",
       "      <td>657793543</td>\n",
       "    </tr>\n",
       "    <tr>\n",
       "      <th>11</th>\n",
       "      <td>/net/phase/store/users/mschneid/20209130/resul...</td>\n",
       "      <td>1.594020e+09</td>\n",
       "      <td>[25.78664326566607, 42.66890997362219, 32.6148...</td>\n",
       "      <td>[24.99506158366133, 41.140741928532556, 31.390...</td>\n",
       "      <td>Al-780 (3)</td>\n",
       "      <td>Passthrough (1)</td>\n",
       "      <td>20.8</td>\n",
       "      <td>[19.135093688964844, 30.02185821533203, 28.334...</td>\n",
       "      <td>[69.88677978515625, 107.830810546875, 106.9416...</td>\n",
       "      <td>3.0</td>\n",
       "      <td>...</td>\n",
       "      <td>[657797981, 657797982, 657797983, 657797984, 6...</td>\n",
       "      <td>11119.587337</td>\n",
       "      <td>10713.157300</td>\n",
       "      <td>44505.941391</td>\n",
       "      <td>148.353138</td>\n",
       "      <td>28.569257</td>\n",
       "      <td>17.258500</td>\n",
       "      <td>0.082074</td>\n",
       "      <td>2.210</td>\n",
       "      <td>657798280</td>\n",
       "    </tr>\n",
       "    <tr>\n",
       "      <th>10</th>\n",
       "      <td>/net/phase/store/users/mschneid/20209130/resul...</td>\n",
       "      <td>1.594020e+09</td>\n",
       "      <td>[40.086997366654494, 27.32039805725341, 41.425...</td>\n",
       "      <td>[39.080016154015986, 26.779991208079245, 40.36...</td>\n",
       "      <td>Al-780 (3)</td>\n",
       "      <td>Passthrough (1)</td>\n",
       "      <td>20.8</td>\n",
       "      <td>[27.924156188964844, 27.139663696289062, 37.75...</td>\n",
       "      <td>[101.41754150390625, 103.00712585449219, 141.3...</td>\n",
       "      <td>3.0</td>\n",
       "      <td>...</td>\n",
       "      <td>[657795057, 657795058, 657795059, 657795060, 6...</td>\n",
       "      <td>10812.562355</td>\n",
       "      <td>10507.512257</td>\n",
       "      <td>42907.022095</td>\n",
       "      <td>143.023407</td>\n",
       "      <td>23.223321</td>\n",
       "      <td>17.255167</td>\n",
       "      <td>0.092085</td>\n",
       "      <td>2.214</td>\n",
       "      <td>657795356</td>\n",
       "    </tr>\n",
       "    <tr>\n",
       "      <th>12</th>\n",
       "      <td>/net/phase/store/users/mschneid/20209130/resul...</td>\n",
       "      <td>1.594021e+09</td>\n",
       "      <td>[40.83503958401281, 39.087657509404686, 35.794...</td>\n",
       "      <td>[39.316327432836495, 38.20767627599114, 35.071...</td>\n",
       "      <td>Al-780 (3)</td>\n",
       "      <td>Passthrough (1)</td>\n",
       "      <td>20.8</td>\n",
       "      <td>[40.12928009033203, 35.659217834472656, 34.145...</td>\n",
       "      <td>[167.39730834960938, 151.02081298828125, 144.5...</td>\n",
       "      <td>3.0</td>\n",
       "      <td>...</td>\n",
       "      <td>[657802523, 657802524, 657802525, 657802526, 6...</td>\n",
       "      <td>11447.247915</td>\n",
       "      <td>11174.220113</td>\n",
       "      <td>46595.060349</td>\n",
       "      <td>155.316868</td>\n",
       "      <td>26.085671</td>\n",
       "      <td>17.285167</td>\n",
       "      <td>0.092042</td>\n",
       "      <td>2.207</td>\n",
       "      <td>657802822</td>\n",
       "    </tr>\n",
       "    <tr>\n",
       "      <th>13</th>\n",
       "      <td>/net/phase/store/users/mschneid/20209130/resul...</td>\n",
       "      <td>1.594021e+09</td>\n",
       "      <td>[44.08248404704059, 34.187010183569065, 43.704...</td>\n",
       "      <td>[43.82998754253312, 34.26493514210224, 43.6418...</td>\n",
       "      <td>Al-780 (3)</td>\n",
       "      <td>Passthrough (1)</td>\n",
       "      <td>20.8</td>\n",
       "      <td>[41.48540496826172, 35.027503967285156, 41.215...</td>\n",
       "      <td>[174.7100830078125, 147.58758544921875, 172.48...</td>\n",
       "      <td>3.0</td>\n",
       "      <td>...</td>\n",
       "      <td>[657804479, 657804480, 657804481, 657804482, 6...</td>\n",
       "      <td>11318.867669</td>\n",
       "      <td>11221.722462</td>\n",
       "      <td>46069.814301</td>\n",
       "      <td>153.566048</td>\n",
       "      <td>24.805545</td>\n",
       "      <td>17.285833</td>\n",
       "      <td>0.087458</td>\n",
       "      <td>2.210</td>\n",
       "      <td>657804778</td>\n",
       "    </tr>\n",
       "    <tr>\n",
       "      <th>14</th>\n",
       "      <td>/net/phase/store/users/mschneid/20209130/resul...</td>\n",
       "      <td>1.594021e+09</td>\n",
       "      <td>[27.271350362277907, 28.442475918648018, 34.42...</td>\n",
       "      <td>[26.52719836956313, 27.974145455756812, 33.880...</td>\n",
       "      <td>Al-780 (3)</td>\n",
       "      <td>Passthrough (1)</td>\n",
       "      <td>20.8</td>\n",
       "      <td>[18.90850067138672, 19.797706604003906, 24.551...</td>\n",
       "      <td>[68.39675903320312, 71.82655334472656, 88.0622...</td>\n",
       "      <td>3.0</td>\n",
       "      <td>...</td>\n",
       "      <td>[657806243, 657806244, 657806245, 657806246, 6...</td>\n",
       "      <td>10833.770367</td>\n",
       "      <td>10617.179026</td>\n",
       "      <td>42317.097473</td>\n",
       "      <td>141.056992</td>\n",
       "      <td>27.915418</td>\n",
       "      <td>17.269167</td>\n",
       "      <td>0.090872</td>\n",
       "      <td>2.210</td>\n",
       "      <td>657806542</td>\n",
       "    </tr>\n",
       "    <tr>\n",
       "      <th>15</th>\n",
       "      <td>/net/phase/store/users/mschneid/20209130/resul...</td>\n",
       "      <td>1.594021e+09</td>\n",
       "      <td>[32.497177563901474, 35.58860084320445, 37.099...</td>\n",
       "      <td>[31.687347649690096, 34.931019007144165, 35.95...</td>\n",
       "      <td>Al-780 (3)</td>\n",
       "      <td>Passthrough (1)</td>\n",
       "      <td>20.8</td>\n",
       "      <td>[30.44757843017578, 35.37769317626953, 32.6757...</td>\n",
       "      <td>[128.84902954101562, 148.23646545410156, 136.7...</td>\n",
       "      <td>3.0</td>\n",
       "      <td>...</td>\n",
       "      <td>[657807940, 657807941, 657807942, 657807943, 6...</td>\n",
       "      <td>10480.047202</td>\n",
       "      <td>10288.981572</td>\n",
       "      <td>40361.599731</td>\n",
       "      <td>134.538666</td>\n",
       "      <td>28.247827</td>\n",
       "      <td>17.254033</td>\n",
       "      <td>0.090712</td>\n",
       "      <td>2.209</td>\n",
       "      <td>657808239</td>\n",
       "    </tr>\n",
       "    <tr>\n",
       "      <th>16</th>\n",
       "      <td>/net/phase/store/users/mschneid/20209130/resul...</td>\n",
       "      <td>1.594021e+09</td>\n",
       "      <td>[43.38993046543394, 41.88498348568143, 44.3105...</td>\n",
       "      <td>[42.03648483964186, 40.74649877328421, 43.2883...</td>\n",
       "      <td>Al-780 (3)</td>\n",
       "      <td>Passthrough (1)</td>\n",
       "      <td>20.8</td>\n",
       "      <td>[34.31510925292969, 37.48741149902344, 40.8279...</td>\n",
       "      <td>[150.84915161132812, 158.22372436523438, 171.9...</td>\n",
       "      <td>3.0</td>\n",
       "      <td>...</td>\n",
       "      <td>[657809569, 657809570, 657809571, 657809572, 6...</td>\n",
       "      <td>11335.229559</td>\n",
       "      <td>11052.893722</td>\n",
       "      <td>44379.495621</td>\n",
       "      <td>147.931652</td>\n",
       "      <td>30.457188</td>\n",
       "      <td>17.256233</td>\n",
       "      <td>0.087133</td>\n",
       "      <td>2.208</td>\n",
       "      <td>657809868</td>\n",
       "    </tr>\n",
       "    <tr>\n",
       "      <th>17</th>\n",
       "      <td>/net/phase/store/users/mschneid/20209130/resul...</td>\n",
       "      <td>1.594021e+09</td>\n",
       "      <td>[43.189083624016895, 34.6376428896141, 41.9170...</td>\n",
       "      <td>[42.032311763351274, 34.0458931759496, 40.8223...</td>\n",
       "      <td>Al-780 (3)</td>\n",
       "      <td>Passthrough (1)</td>\n",
       "      <td>20.8</td>\n",
       "      <td>[44.53926086425781, 31.496429443359375, 40.755...</td>\n",
       "      <td>[188.54942321777344, 134.3456268310547, 171.81...</td>\n",
       "      <td>3.0</td>\n",
       "      <td>...</td>\n",
       "      <td>[657811170, 657811171, 657811172, 657811173, 6...</td>\n",
       "      <td>11120.650042</td>\n",
       "      <td>10866.966565</td>\n",
       "      <td>44890.507507</td>\n",
       "      <td>149.635025</td>\n",
       "      <td>27.435728</td>\n",
       "      <td>17.279600</td>\n",
       "      <td>0.090280</td>\n",
       "      <td>2.209</td>\n",
       "      <td>657811469</td>\n",
       "    </tr>\n",
       "    <tr>\n",
       "      <th>18</th>\n",
       "      <td>/net/phase/store/users/mschneid/20209130/resul...</td>\n",
       "      <td>1.594021e+09</td>\n",
       "      <td>[15.467540588288204, 42.37385584604209, 42.040...</td>\n",
       "      <td>[15.342019712700681, 41.58627514664462, 41.306...</td>\n",
       "      <td>Al-780 (3)</td>\n",
       "      <td>Passthrough (1)</td>\n",
       "      <td>20.8</td>\n",
       "      <td>[17.75493621826172, 36.03687286376953, 42.2029...</td>\n",
       "      <td>[76.49574279785156, 159.6141815185547, 178.466...</td>\n",
       "      <td>3.0</td>\n",
       "      <td>...</td>\n",
       "      <td>[657812872, 657812873, 657812874, 657812875, 6...</td>\n",
       "      <td>11330.525029</td>\n",
       "      <td>11116.865589</td>\n",
       "      <td>45962.409210</td>\n",
       "      <td>153.208031</td>\n",
       "      <td>27.043823</td>\n",
       "      <td>17.279733</td>\n",
       "      <td>0.094752</td>\n",
       "      <td>2.210</td>\n",
       "      <td>657813171</td>\n",
       "    </tr>\n",
       "    <tr>\n",
       "      <th>19</th>\n",
       "      <td>/net/phase/store/users/mschneid/20209130/resul...</td>\n",
       "      <td>1.594021e+09</td>\n",
       "      <td>[38.23061356923247, 39.042576153655055, 42.222...</td>\n",
       "      <td>[37.83067587227544, 38.5315343368431, 41.61877...</td>\n",
       "      <td>Al-780 (3)</td>\n",
       "      <td>Passthrough (1)</td>\n",
       "      <td>20.8</td>\n",
       "      <td>[37.08057403564453, 39.832305908203125, 42.304...</td>\n",
       "      <td>[158.4056854248047, 169.63577270507812, 178.11...</td>\n",
       "      <td>3.0</td>\n",
       "      <td>...</td>\n",
       "      <td>[657814631, 657814632, 657814633, 657814634, 6...</td>\n",
       "      <td>11346.405561</td>\n",
       "      <td>11187.945801</td>\n",
       "      <td>47055.081940</td>\n",
       "      <td>156.850273</td>\n",
       "      <td>26.844244</td>\n",
       "      <td>17.261333</td>\n",
       "      <td>0.086942</td>\n",
       "      <td>2.209</td>\n",
       "      <td>657814930</td>\n",
       "    </tr>\n",
       "    <tr>\n",
       "      <th>20</th>\n",
       "      <td>/net/phase/store/users/mschneid/20209130/resul...</td>\n",
       "      <td>1.594021e+09</td>\n",
       "      <td>[40.36670829074067, 36.754215342839586, 37.104...</td>\n",
       "      <td>[39.973921489770774, 36.18314273156057, 36.331...</td>\n",
       "      <td>Al-780 (3)</td>\n",
       "      <td>Passthrough (1)</td>\n",
       "      <td>20.8</td>\n",
       "      <td>[39.820289611816406, 38.92250061035156, 39.415...</td>\n",
       "      <td>[149.03640747070312, 168.18695068359375, 169.3...</td>\n",
       "      <td>3.0</td>\n",
       "      <td>...</td>\n",
       "      <td>[657816277, 657816278, 657816279, 657816280, 6...</td>\n",
       "      <td>10341.579260</td>\n",
       "      <td>10098.928960</td>\n",
       "      <td>43317.055893</td>\n",
       "      <td>144.390186</td>\n",
       "      <td>27.472174</td>\n",
       "      <td>17.278933</td>\n",
       "      <td>0.093485</td>\n",
       "      <td>2.206</td>\n",
       "      <td>657816576</td>\n",
       "    </tr>\n",
       "    <tr>\n",
       "      <th>21</th>\n",
       "      <td>/net/phase/store/users/mschneid/20209130/resul...</td>\n",
       "      <td>1.594021e+09</td>\n",
       "      <td>[38.373908964834165, 37.018121205208764, 32.59...</td>\n",
       "      <td>[37.5488823069503, 36.292621150298565, 31.6393...</td>\n",
       "      <td>Al-780 (3)</td>\n",
       "      <td>Passthrough (1)</td>\n",
       "      <td>20.8</td>\n",
       "      <td>[38.24615478515625, 36.41624450683594, 33.6902...</td>\n",
       "      <td>[163.1092071533203, 157.26242065429688, 144.09...</td>\n",
       "      <td>3.0</td>\n",
       "      <td>...</td>\n",
       "      <td>[657819450, 657819451, 657819452, 657819453, 6...</td>\n",
       "      <td>10870.050492</td>\n",
       "      <td>10602.361506</td>\n",
       "      <td>45018.048477</td>\n",
       "      <td>150.060162</td>\n",
       "      <td>25.987104</td>\n",
       "      <td>17.274867</td>\n",
       "      <td>0.091686</td>\n",
       "      <td>2.209</td>\n",
       "      <td>657819749</td>\n",
       "    </tr>\n",
       "    <tr>\n",
       "      <th>22</th>\n",
       "      <td>/net/phase/store/users/mschneid/20209130/resul...</td>\n",
       "      <td>1.594021e+09</td>\n",
       "      <td>[45.042507298171685, 35.176117496030784, 43.65...</td>\n",
       "      <td>[44.14254306463479, 34.509200379793064, 42.787...</td>\n",
       "      <td>Al-780 (3)</td>\n",
       "      <td>Passthrough (1)</td>\n",
       "      <td>20.8</td>\n",
       "      <td>[44.23027038574219, 33.03966522216797, 41.2639...</td>\n",
       "      <td>[186.10153198242188, 143.3990478515625, 174.87...</td>\n",
       "      <td>3.0</td>\n",
       "      <td>...</td>\n",
       "      <td>[657823943, 657823944, 657823945, 657823946, 6...</td>\n",
       "      <td>11610.594743</td>\n",
       "      <td>11371.761307</td>\n",
       "      <td>47800.445938</td>\n",
       "      <td>159.334820</td>\n",
       "      <td>25.571433</td>\n",
       "      <td>17.283500</td>\n",
       "      <td>0.085179</td>\n",
       "      <td>2.210</td>\n",
       "      <td>657824242</td>\n",
       "    </tr>\n",
       "    <tr>\n",
       "      <th>23</th>\n",
       "      <td>/net/phase/store/users/mschneid/20209130/resul...</td>\n",
       "      <td>1.594021e+09</td>\n",
       "      <td>[41.60512796453654, 43.052889691606715, 38.920...</td>\n",
       "      <td>[40.974518883958645, 42.65842938125483, 38.413...</td>\n",
       "      <td>Al-780 (3)</td>\n",
       "      <td>Passthrough (1)</td>\n",
       "      <td>20.8</td>\n",
       "      <td>[40.95497131347656, 43.61743927001953, 37.4204...</td>\n",
       "      <td>[175.8190155029297, 184.98573303222656, 159.88...</td>\n",
       "      <td>3.0</td>\n",
       "      <td>...</td>\n",
       "      <td>[657825763, 657825764, 657825765, 657825766, 6...</td>\n",
       "      <td>10810.037170</td>\n",
       "      <td>10650.006437</td>\n",
       "      <td>44895.169830</td>\n",
       "      <td>149.650566</td>\n",
       "      <td>26.668730</td>\n",
       "      <td>17.279600</td>\n",
       "      <td>0.079820</td>\n",
       "      <td>2.209</td>\n",
       "      <td>657826062</td>\n",
       "    </tr>\n",
       "    <tr>\n",
       "      <th>24</th>\n",
       "      <td>/net/phase/store/users/mschneid/20209130/resul...</td>\n",
       "      <td>1.594021e+09</td>\n",
       "      <td>[43.48232039667458, 40.59721841027775, 45.2355...</td>\n",
       "      <td>[41.95985266001882, 39.56535714380143, 44.0593...</td>\n",
       "      <td>Al-780 (3)</td>\n",
       "      <td>Passthrough (1)</td>\n",
       "      <td>20.8</td>\n",
       "      <td>[42.084503173828125, 38.92936706542969, 41.492...</td>\n",
       "      <td>[176.50222778320312, 163.44566345214844, 174.5...</td>\n",
       "      <td>3.0</td>\n",
       "      <td>...</td>\n",
       "      <td>[657827519, 657827520, 657827521, 657827522, 6...</td>\n",
       "      <td>11597.650387</td>\n",
       "      <td>11229.703960</td>\n",
       "      <td>47377.413940</td>\n",
       "      <td>157.924713</td>\n",
       "      <td>29.379329</td>\n",
       "      <td>17.274167</td>\n",
       "      <td>0.089183</td>\n",
       "      <td>2.205</td>\n",
       "      <td>657827818</td>\n",
       "    </tr>\n",
       "    <tr>\n",
       "      <th>25</th>\n",
       "      <td>/net/phase/store/users/mschneid/20209130/resul...</td>\n",
       "      <td>1.594021e+09</td>\n",
       "      <td>[43.27198106326452, 41.00294042417274, 41.7465...</td>\n",
       "      <td>[42.3325617168643, 40.15307147812099, 40.77313...</td>\n",
       "      <td>Al-780 (3)</td>\n",
       "      <td>Passthrough (1)</td>\n",
       "      <td>20.8</td>\n",
       "      <td>[41.29486083984375, 39.064979553222656, 42.405...</td>\n",
       "      <td>[177.43606567382812, 165.8283233642578, 182.77...</td>\n",
       "      <td>3.0</td>\n",
       "      <td>...</td>\n",
       "      <td>[657829178, 657829179, 657829180, 657829181, 6...</td>\n",
       "      <td>11055.829953</td>\n",
       "      <td>10827.274912</td>\n",
       "      <td>44707.760239</td>\n",
       "      <td>149.025867</td>\n",
       "      <td>34.307547</td>\n",
       "      <td>17.293533</td>\n",
       "      <td>0.088356</td>\n",
       "      <td>2.201</td>\n",
       "      <td>657829477</td>\n",
       "    </tr>\n",
       "    <tr>\n",
       "      <th>26</th>\n",
       "      <td>/net/phase/store/users/mschneid/20209130/resul...</td>\n",
       "      <td>1.594021e+09</td>\n",
       "      <td>[40.6087515893233, 37.742294031540936, 46.9655...</td>\n",
       "      <td>[39.614498584586606, 37.25093936221559, 46.216...</td>\n",
       "      <td>Al-780 (3)</td>\n",
       "      <td>Passthrough (1)</td>\n",
       "      <td>20.8</td>\n",
       "      <td>[40.88115692138672, 36.895179748535156, 46.046...</td>\n",
       "      <td>[173.7213134765625, 158.30955505371094, 194.76...</td>\n",
       "      <td>3.0</td>\n",
       "      <td>...</td>\n",
       "      <td>[657830871, 657830872, 657830873, 657830874, 6...</td>\n",
       "      <td>11983.103419</td>\n",
       "      <td>11797.842153</td>\n",
       "      <td>49109.432602</td>\n",
       "      <td>163.698109</td>\n",
       "      <td>30.668677</td>\n",
       "      <td>17.292333</td>\n",
       "      <td>0.086026</td>\n",
       "      <td>2.194</td>\n",
       "      <td>657831170</td>\n",
       "    </tr>\n",
       "    <tr>\n",
       "      <th>27</th>\n",
       "      <td>/net/phase/store/users/mschneid/20209130/resul...</td>\n",
       "      <td>1.594021e+09</td>\n",
       "      <td>[38.132264577429225, 32.73772682545669, 37.531...</td>\n",
       "      <td>[37.11957706254326, 31.987572744189965, 36.770...</td>\n",
       "      <td>Al-780 (3)</td>\n",
       "      <td>Passthrough (1)</td>\n",
       "      <td>20.8</td>\n",
       "      <td>[36.73210144042969, 32.26890563964844, 35.4257...</td>\n",
       "      <td>[138.56849670410156, 140.2679443359375, 150.77...</td>\n",
       "      <td>3.0</td>\n",
       "      <td>...</td>\n",
       "      <td>[657832870, 657832871, 657832872, 657832873, 6...</td>\n",
       "      <td>10568.918083</td>\n",
       "      <td>10328.267610</td>\n",
       "      <td>41596.696472</td>\n",
       "      <td>138.655655</td>\n",
       "      <td>47.368244</td>\n",
       "      <td>17.287300</td>\n",
       "      <td>0.084902</td>\n",
       "      <td>2.209</td>\n",
       "      <td>657833169</td>\n",
       "    </tr>\n",
       "    <tr>\n",
       "      <th>28</th>\n",
       "      <td>/net/phase/store/users/mschneid/20209130/resul...</td>\n",
       "      <td>1.594021e+09</td>\n",
       "      <td>[33.29072162106474, 39.2853433169499, 44.12560...</td>\n",
       "      <td>[32.90709372501402, 38.69839369495983, 43.7213...</td>\n",
       "      <td>Al-780 (3)</td>\n",
       "      <td>Passthrough (1)</td>\n",
       "      <td>20.8</td>\n",
       "      <td>[36.18621826171875, 37.76378631591797, 43.2981...</td>\n",
       "      <td>[157.1765899658203, 164.29710388183594, 186.87...</td>\n",
       "      <td>3.0</td>\n",
       "      <td>...</td>\n",
       "      <td>[657834757, 657834758, 657834759, 657834760, 6...</td>\n",
       "      <td>11309.256035</td>\n",
       "      <td>11144.287006</td>\n",
       "      <td>47976.553345</td>\n",
       "      <td>159.921844</td>\n",
       "      <td>29.512594</td>\n",
       "      <td>17.302700</td>\n",
       "      <td>0.096445</td>\n",
       "      <td>2.211</td>\n",
       "      <td>657835056</td>\n",
       "    </tr>\n",
       "    <tr>\n",
       "      <th>29</th>\n",
       "      <td>/net/phase/store/users/mschneid/20209130/resul...</td>\n",
       "      <td>1.594021e+09</td>\n",
       "      <td>[19.095272757048708, 43.266346169453726, 44.51...</td>\n",
       "      <td>[18.468984136696527, 41.604386972578126, 43.04...</td>\n",
       "      <td>Al-780 (3)</td>\n",
       "      <td>Passthrough (1)</td>\n",
       "      <td>20.8</td>\n",
       "      <td>[20.06206512451172, 41.62273406982422, 43.5659...</td>\n",
       "      <td>[89.54544067382812, 156.89163208007812, 185.28...</td>\n",
       "      <td>3.0</td>\n",
       "      <td>...</td>\n",
       "      <td>[657836652, 657836653, 657836654, 657836655, 6...</td>\n",
       "      <td>11205.514353</td>\n",
       "      <td>10819.040432</td>\n",
       "      <td>46912.342072</td>\n",
       "      <td>156.374474</td>\n",
       "      <td>24.553690</td>\n",
       "      <td>17.299167</td>\n",
       "      <td>0.088726</td>\n",
       "      <td>2.207</td>\n",
       "      <td>657836951</td>\n",
       "    </tr>\n",
       "    <tr>\n",
       "      <th>31</th>\n",
       "      <td>/net/phase/store/users/mschneid/20209130/resul...</td>\n",
       "      <td>1.594021e+09</td>\n",
       "      <td>[25.800814996673225, 31.79174576732139, 22.822...</td>\n",
       "      <td>[26.15287364345503, 31.472488466446485, 22.818...</td>\n",
       "      <td>Al-780 (3)</td>\n",
       "      <td>Passthrough (1)</td>\n",
       "      <td>20.8</td>\n",
       "      <td>[25.46253204345703, 28.403091430664062, 25.393...</td>\n",
       "      <td>[97.99118041992188, 108.22906494140625, 110.23...</td>\n",
       "      <td>3.0</td>\n",
       "      <td>...</td>\n",
       "      <td>[657847588, 657847589, 657847590, 657847591, 6...</td>\n",
       "      <td>9715.263291</td>\n",
       "      <td>9596.004389</td>\n",
       "      <td>40103.445053</td>\n",
       "      <td>133.678150</td>\n",
       "      <td>23.388213</td>\n",
       "      <td>17.296500</td>\n",
       "      <td>0.088008</td>\n",
       "      <td>2.206</td>\n",
       "      <td>657847887</td>\n",
       "    </tr>\n",
       "    <tr>\n",
       "      <th>30</th>\n",
       "      <td>/net/phase/store/users/mschneid/20209130/resul...</td>\n",
       "      <td>1.594021e+09</td>\n",
       "      <td>[31.131522312044964, 37.40164442811797, 34.750...</td>\n",
       "      <td>[30.534631076324573, 36.88716446995622, 33.845...</td>\n",
       "      <td>Al-780 (3)</td>\n",
       "      <td>Passthrough (1)</td>\n",
       "      <td>20.8</td>\n",
       "      <td>[32.002830505371094, 36.53297424316406, 34.974...</td>\n",
       "      <td>[137.76168823242188, 159.85450744628906, 150.1...</td>\n",
       "      <td>3.0</td>\n",
       "      <td>...</td>\n",
       "      <td>[657838482, 657838483, 657838484, 657838485, 6...</td>\n",
       "      <td>10609.879177</td>\n",
       "      <td>10378.327523</td>\n",
       "      <td>44066.378403</td>\n",
       "      <td>146.887928</td>\n",
       "      <td>25.677877</td>\n",
       "      <td>17.328233</td>\n",
       "      <td>0.090051</td>\n",
       "      <td>2.206</td>\n",
       "      <td>657838781</td>\n",
       "    </tr>\n",
       "    <tr>\n",
       "      <th>32</th>\n",
       "      <td>/net/phase/store/users/mschneid/20209130/resul...</td>\n",
       "      <td>1.594022e+09</td>\n",
       "      <td>[23.835440905030737, 35.805541727742614, 33.11...</td>\n",
       "      <td>[22.900720262290555, 34.72938594914918, 31.918...</td>\n",
       "      <td>Al-780 (3)</td>\n",
       "      <td>Passthrough (1)</td>\n",
       "      <td>20.8</td>\n",
       "      <td>[21.169281005859375, 32.93495178222656, 30.943...</td>\n",
       "      <td>[98.8494873046875, 125.36087036132812, 132.405...</td>\n",
       "      <td>3.0</td>\n",
       "      <td>...</td>\n",
       "      <td>[657851138, 657851139, 657851140, 657851141, 6...</td>\n",
       "      <td>9306.935536</td>\n",
       "      <td>8955.791704</td>\n",
       "      <td>35814.324188</td>\n",
       "      <td>119.381081</td>\n",
       "      <td>34.782895</td>\n",
       "      <td>17.286200</td>\n",
       "      <td>0.089437</td>\n",
       "      <td>2.211</td>\n",
       "      <td>657851437</td>\n",
       "    </tr>\n",
       "    <tr>\n",
       "      <th>33</th>\n",
       "      <td>/net/phase/store/users/mschneid/20209130/resul...</td>\n",
       "      <td>1.594022e+09</td>\n",
       "      <td>[38.147418817031905, 38.61000514695721, 39.945...</td>\n",
       "      <td>[37.32237976625613, 38.37233101811152, 39.1568...</td>\n",
       "      <td>Al-780 (3)</td>\n",
       "      <td>Passthrough (1)</td>\n",
       "      <td>20.8</td>\n",
       "      <td>[38.198089599609375, 40.93780517578125, 38.543...</td>\n",
       "      <td>[163.84048461914062, 176.63955688476562, 163.9...</td>\n",
       "      <td>3.0</td>\n",
       "      <td>...</td>\n",
       "      <td>[657856011, 657856012, 657856013, 657856014, 6...</td>\n",
       "      <td>10431.865706</td>\n",
       "      <td>10323.955442</td>\n",
       "      <td>43970.752716</td>\n",
       "      <td>146.569176</td>\n",
       "      <td>25.467783</td>\n",
       "      <td>17.334667</td>\n",
       "      <td>0.091376</td>\n",
       "      <td>2.211</td>\n",
       "      <td>657856310</td>\n",
       "    </tr>\n",
       "    <tr>\n",
       "      <th>34</th>\n",
       "      <td>/net/phase/store/users/mschneid/20209130/resul...</td>\n",
       "      <td>1.594022e+09</td>\n",
       "      <td>[32.191218169652835, 41.090435990517484, 38.50...</td>\n",
       "      <td>[31.47993026557077, 40.03480401393054, 37.3662...</td>\n",
       "      <td>Al-780 (3)</td>\n",
       "      <td>Passthrough (1)</td>\n",
       "      <td>20.8</td>\n",
       "      <td>[30.126571655273438, 39.449501037597656, 39.19...</td>\n",
       "      <td>[128.91769409179688, 168.7671661376953, 166.97...</td>\n",
       "      <td>3.0</td>\n",
       "      <td>...</td>\n",
       "      <td>[657858124, 657858125, 657858126, 657858127, 6...</td>\n",
       "      <td>11278.111181</td>\n",
       "      <td>10968.253806</td>\n",
       "      <td>46648.374939</td>\n",
       "      <td>155.494583</td>\n",
       "      <td>26.987695</td>\n",
       "      <td>17.313567</td>\n",
       "      <td>0.091131</td>\n",
       "      <td>2.206</td>\n",
       "      <td>657858423</td>\n",
       "    </tr>\n",
       "    <tr>\n",
       "      <th>35</th>\n",
       "      <td>/net/phase/store/users/mschneid/20209130/resul...</td>\n",
       "      <td>1.594022e+09</td>\n",
       "      <td>[36.89465923783932, 36.176290907073955, 38.563...</td>\n",
       "      <td>[35.99161865339387, 35.31663703175598, 37.3811...</td>\n",
       "      <td>Al-780 (3)</td>\n",
       "      <td>Passthrough (1)</td>\n",
       "      <td>20.8</td>\n",
       "      <td>[30.423545837402344, 35.039520263671875, 39.41...</td>\n",
       "      <td>[135.2142333984375, 152.2258758544922, 170.689...</td>\n",
       "      <td>3.0</td>\n",
       "      <td>...</td>\n",
       "      <td>[657860307, 657860308, 657860309, 657860310, 6...</td>\n",
       "      <td>10499.264777</td>\n",
       "      <td>10271.743466</td>\n",
       "      <td>43693.207169</td>\n",
       "      <td>145.644024</td>\n",
       "      <td>22.068555</td>\n",
       "      <td>17.337233</td>\n",
       "      <td>0.088095</td>\n",
       "      <td>2.207</td>\n",
       "      <td>657860606</td>\n",
       "    </tr>\n",
       "    <tr>\n",
       "      <th>36</th>\n",
       "      <td>/net/phase/store/users/mschneid/20209130/resul...</td>\n",
       "      <td>1.594022e+09</td>\n",
       "      <td>[38.638992248263804, 37.50053634869076, 42.051...</td>\n",
       "      <td>[37.98467431244564, 36.69251048449653, 40.7052...</td>\n",
       "      <td>Al-780 (3)</td>\n",
       "      <td>Passthrough (1)</td>\n",
       "      <td>20.8</td>\n",
       "      <td>[36.10553741455078, 38.13972473144531, 42.5720...</td>\n",
       "      <td>[138.44833374023438, 162.4500274658203, 178.94...</td>\n",
       "      <td>3.0</td>\n",
       "      <td>...</td>\n",
       "      <td>[657862405, 657862406, 657862407, 657862408, 6...</td>\n",
       "      <td>10441.479728</td>\n",
       "      <td>10200.481196</td>\n",
       "      <td>42705.749130</td>\n",
       "      <td>142.352497</td>\n",
       "      <td>26.010055</td>\n",
       "      <td>17.347700</td>\n",
       "      <td>0.088327</td>\n",
       "      <td>2.209</td>\n",
       "      <td>657862704</td>\n",
       "    </tr>\n",
       "    <tr>\n",
       "      <th>37</th>\n",
       "      <td>/net/phase/store/users/mschneid/20209130/resul...</td>\n",
       "      <td>1.594022e+09</td>\n",
       "      <td>[39.96979456108667, 43.381658909458665, 35.535...</td>\n",
       "      <td>[39.1870359912232, 42.30897958842606, 34.79346...</td>\n",
       "      <td>Al-780 (3)</td>\n",
       "      <td>Passthrough (1)</td>\n",
       "      <td>20.8</td>\n",
       "      <td>[33.74347686767578, 42.34027862548828, 35.4017...</td>\n",
       "      <td>[151.74522399902344, 180.20668029785156, 152.1...</td>\n",
       "      <td>3.0</td>\n",
       "      <td>...</td>\n",
       "      <td>[657864512, 657864513, 657864514, 657864515, 6...</td>\n",
       "      <td>11220.641350</td>\n",
       "      <td>11057.916715</td>\n",
       "      <td>45722.268677</td>\n",
       "      <td>152.407562</td>\n",
       "      <td>36.623889</td>\n",
       "      <td>17.332667</td>\n",
       "      <td>0.086642</td>\n",
       "      <td>2.205</td>\n",
       "      <td>657864811</td>\n",
       "    </tr>\n",
       "    <tr>\n",
       "      <th>38</th>\n",
       "      <td>/net/phase/store/users/mschneid/20209130/resul...</td>\n",
       "      <td>1.594022e+09</td>\n",
       "      <td>[27.55104279904217, 29.638179248230195, 29.222...</td>\n",
       "      <td>[26.605189746039493, 28.75502742477567, 28.358...</td>\n",
       "      <td>Al-780 (3)</td>\n",
       "      <td>Passthrough (1)</td>\n",
       "      <td>20.8</td>\n",
       "      <td>[28.89232635498047, 27.064132690429688, 30.238...</td>\n",
       "      <td>[110.51902770996094, 115.28091430664062, 132.4...</td>\n",
       "      <td>3.0</td>\n",
       "      <td>...</td>\n",
       "      <td>[657866046, 657866047, 657866048, 657866049, 6...</td>\n",
       "      <td>9323.920723</td>\n",
       "      <td>9045.631444</td>\n",
       "      <td>37776.207733</td>\n",
       "      <td>125.920692</td>\n",
       "      <td>31.893938</td>\n",
       "      <td>17.342400</td>\n",
       "      <td>0.087153</td>\n",
       "      <td>2.206</td>\n",
       "      <td>657866345</td>\n",
       "    </tr>\n",
       "  </tbody>\n",
       "</table>\n",
       "<p>40 rows × 32 columns</p>\n",
       "</div>"
      ],
      "text/plain": [
       "                                             filename          time  \\\n",
       "0   /net/phase/store/users/mschneid/20209130/resul...  1.594020e+09   \n",
       "39  /net/phase/store/users/mschneid/20209130/resul...  1.594022e+09   \n",
       "1   /net/phase/store/users/mschneid/20209130/resul...  1.594020e+09   \n",
       "2   /net/phase/store/users/mschneid/20209130/resul...  1.594020e+09   \n",
       "3   /net/phase/store/users/mschneid/20209130/resul...  1.594020e+09   \n",
       "4   /net/phase/store/users/mschneid/20209130/resul...  1.594020e+09   \n",
       "5   /net/phase/store/users/mschneid/20209130/resul...  1.594020e+09   \n",
       "6   /net/phase/store/users/mschneid/20209130/resul...  1.594020e+09   \n",
       "7   /net/phase/store/users/mschneid/20209130/resul...  1.594020e+09   \n",
       "8   /net/phase/store/users/mschneid/20209130/resul...  1.594020e+09   \n",
       "9   /net/phase/store/users/mschneid/20209130/resul...  1.594020e+09   \n",
       "11  /net/phase/store/users/mschneid/20209130/resul...  1.594020e+09   \n",
       "10  /net/phase/store/users/mschneid/20209130/resul...  1.594020e+09   \n",
       "12  /net/phase/store/users/mschneid/20209130/resul...  1.594021e+09   \n",
       "13  /net/phase/store/users/mschneid/20209130/resul...  1.594021e+09   \n",
       "14  /net/phase/store/users/mschneid/20209130/resul...  1.594021e+09   \n",
       "15  /net/phase/store/users/mschneid/20209130/resul...  1.594021e+09   \n",
       "16  /net/phase/store/users/mschneid/20209130/resul...  1.594021e+09   \n",
       "17  /net/phase/store/users/mschneid/20209130/resul...  1.594021e+09   \n",
       "18  /net/phase/store/users/mschneid/20209130/resul...  1.594021e+09   \n",
       "19  /net/phase/store/users/mschneid/20209130/resul...  1.594021e+09   \n",
       "20  /net/phase/store/users/mschneid/20209130/resul...  1.594021e+09   \n",
       "21  /net/phase/store/users/mschneid/20209130/resul...  1.594021e+09   \n",
       "22  /net/phase/store/users/mschneid/20209130/resul...  1.594021e+09   \n",
       "23  /net/phase/store/users/mschneid/20209130/resul...  1.594021e+09   \n",
       "24  /net/phase/store/users/mschneid/20209130/resul...  1.594021e+09   \n",
       "25  /net/phase/store/users/mschneid/20209130/resul...  1.594021e+09   \n",
       "26  /net/phase/store/users/mschneid/20209130/resul...  1.594021e+09   \n",
       "27  /net/phase/store/users/mschneid/20209130/resul...  1.594021e+09   \n",
       "28  /net/phase/store/users/mschneid/20209130/resul...  1.594021e+09   \n",
       "29  /net/phase/store/users/mschneid/20209130/resul...  1.594021e+09   \n",
       "31  /net/phase/store/users/mschneid/20209130/resul...  1.594021e+09   \n",
       "30  /net/phase/store/users/mschneid/20209130/resul...  1.594021e+09   \n",
       "32  /net/phase/store/users/mschneid/20209130/resul...  1.594022e+09   \n",
       "33  /net/phase/store/users/mschneid/20209130/resul...  1.594022e+09   \n",
       "34  /net/phase/store/users/mschneid/20209130/resul...  1.594022e+09   \n",
       "35  /net/phase/store/users/mschneid/20209130/resul...  1.594022e+09   \n",
       "36  /net/phase/store/users/mschneid/20209130/resul...  1.594022e+09   \n",
       "37  /net/phase/store/users/mschneid/20209130/resul...  1.594022e+09   \n",
       "38  /net/phase/store/users/mschneid/20209130/resul...  1.594022e+09   \n",
       "\n",
       "                                               xgm_UH  \\\n",
       "0   [41.69225046341064, 44.42697967503092, 40.9794...   \n",
       "39  [45.659107479174295, 32.752324836446924, 44.48...   \n",
       "1   [42.706264433184245, 38.57744494293732, 33.713...   \n",
       "2   [43.456007049848026, 41.339966396893026, 40.39...   \n",
       "3   [40.47665924860218, 43.96479718767017, 28.7518...   \n",
       "4   [39.97099896830177, 27.653483878295713, 38.470...   \n",
       "5   [33.682078172504156, 41.36399036097309, 41.578...   \n",
       "6   [26.060679656128546, 30.724041678576825, 4.730...   \n",
       "7   [40.334201420013066, 34.86568854110497, 35.561...   \n",
       "8   [20.981677933693206, 34.04574822368154, 43.901...   \n",
       "9   [36.24243698732488, 31.33676259531219, 35.5542...   \n",
       "11  [25.78664326566607, 42.66890997362219, 32.6148...   \n",
       "10  [40.086997366654494, 27.32039805725341, 41.425...   \n",
       "12  [40.83503958401281, 39.087657509404686, 35.794...   \n",
       "13  [44.08248404704059, 34.187010183569065, 43.704...   \n",
       "14  [27.271350362277907, 28.442475918648018, 34.42...   \n",
       "15  [32.497177563901474, 35.58860084320445, 37.099...   \n",
       "16  [43.38993046543394, 41.88498348568143, 44.3105...   \n",
       "17  [43.189083624016895, 34.6376428896141, 41.9170...   \n",
       "18  [15.467540588288204, 42.37385584604209, 42.040...   \n",
       "19  [38.23061356923247, 39.042576153655055, 42.222...   \n",
       "20  [40.36670829074067, 36.754215342839586, 37.104...   \n",
       "21  [38.373908964834165, 37.018121205208764, 32.59...   \n",
       "22  [45.042507298171685, 35.176117496030784, 43.65...   \n",
       "23  [41.60512796453654, 43.052889691606715, 38.920...   \n",
       "24  [43.48232039667458, 40.59721841027775, 45.2355...   \n",
       "25  [43.27198106326452, 41.00294042417274, 41.7465...   \n",
       "26  [40.6087515893233, 37.742294031540936, 46.9655...   \n",
       "27  [38.132264577429225, 32.73772682545669, 37.531...   \n",
       "28  [33.29072162106474, 39.2853433169499, 44.12560...   \n",
       "29  [19.095272757048708, 43.266346169453726, 44.51...   \n",
       "31  [25.800814996673225, 31.79174576732139, 22.822...   \n",
       "30  [31.131522312044964, 37.40164442811797, 34.750...   \n",
       "32  [23.835440905030737, 35.805541727742614, 33.11...   \n",
       "33  [38.147418817031905, 38.61000514695721, 39.945...   \n",
       "34  [32.191218169652835, 41.090435990517484, 38.50...   \n",
       "35  [36.89465923783932, 36.176290907073955, 38.563...   \n",
       "36  [38.638992248263804, 37.50053634869076, 42.051...   \n",
       "37  [39.96979456108667, 43.381658909458665, 35.535...   \n",
       "38  [27.55104279904217, 29.638179248230195, 29.222...   \n",
       "\n",
       "                                               xgm_SH filter_EH_in  \\\n",
       "0   [40.96034433424256, 43.784108562050655, 40.203...   Al-780 (3)   \n",
       "39  [44.43839430327183, 32.16948077716861, 43.6449...   Al-780 (3)   \n",
       "1   [41.42402953276111, 37.67385742955712, 32.7960...   Al-780 (3)   \n",
       "2   [41.75991283083343, 39.910063065226026, 38.860...   Al-780 (3)   \n",
       "3   [38.51293386741381, 42.10514577339761, 27.5576...   Al-780 (3)   \n",
       "4   [38.6945269530242, 26.93570088053199, 37.47341...   Al-780 (3)   \n",
       "5   [32.834769472873894, 40.53362000258792, 40.555...   Al-780 (3)   \n",
       "6   [25.214254352146597, 29.6469048047358, 4.40986...   Al-780 (3)   \n",
       "7   [39.327358941333415, 33.76663140401931, 34.338...   Al-780 (3)   \n",
       "8   [20.22618130328831, 33.527183382724935, 43.231...   Al-780 (3)   \n",
       "9   [35.49879785688962, 30.530499622434796, 34.802...   Al-780 (3)   \n",
       "11  [24.99506158366133, 41.140741928532556, 31.390...   Al-780 (3)   \n",
       "10  [39.080016154015986, 26.779991208079245, 40.36...   Al-780 (3)   \n",
       "12  [39.316327432836495, 38.20767627599114, 35.071...   Al-780 (3)   \n",
       "13  [43.82998754253312, 34.26493514210224, 43.6418...   Al-780 (3)   \n",
       "14  [26.52719836956313, 27.974145455756812, 33.880...   Al-780 (3)   \n",
       "15  [31.687347649690096, 34.931019007144165, 35.95...   Al-780 (3)   \n",
       "16  [42.03648483964186, 40.74649877328421, 43.2883...   Al-780 (3)   \n",
       "17  [42.032311763351274, 34.0458931759496, 40.8223...   Al-780 (3)   \n",
       "18  [15.342019712700681, 41.58627514664462, 41.306...   Al-780 (3)   \n",
       "19  [37.83067587227544, 38.5315343368431, 41.61877...   Al-780 (3)   \n",
       "20  [39.973921489770774, 36.18314273156057, 36.331...   Al-780 (3)   \n",
       "21  [37.5488823069503, 36.292621150298565, 31.6393...   Al-780 (3)   \n",
       "22  [44.14254306463479, 34.509200379793064, 42.787...   Al-780 (3)   \n",
       "23  [40.974518883958645, 42.65842938125483, 38.413...   Al-780 (3)   \n",
       "24  [41.95985266001882, 39.56535714380143, 44.0593...   Al-780 (3)   \n",
       "25  [42.3325617168643, 40.15307147812099, 40.77313...   Al-780 (3)   \n",
       "26  [39.614498584586606, 37.25093936221559, 46.216...   Al-780 (3)   \n",
       "27  [37.11957706254326, 31.987572744189965, 36.770...   Al-780 (3)   \n",
       "28  [32.90709372501402, 38.69839369495983, 43.7213...   Al-780 (3)   \n",
       "29  [18.468984136696527, 41.604386972578126, 43.04...   Al-780 (3)   \n",
       "31  [26.15287364345503, 31.472488466446485, 22.818...   Al-780 (3)   \n",
       "30  [30.534631076324573, 36.88716446995622, 33.845...   Al-780 (3)   \n",
       "32  [22.900720262290555, 34.72938594914918, 31.918...   Al-780 (3)   \n",
       "33  [37.32237976625613, 38.37233101811152, 39.1568...   Al-780 (3)   \n",
       "34  [31.47993026557077, 40.03480401393054, 37.3662...   Al-780 (3)   \n",
       "35  [35.99161865339387, 35.31663703175598, 37.3811...   Al-780 (3)   \n",
       "36  [37.98467431244564, 36.69251048449653, 40.7052...   Al-780 (3)   \n",
       "37  [39.1870359912232, 42.30897958842606, 34.79346...   Al-780 (3)   \n",
       "38  [26.605189746039493, 28.75502742477567, 28.358...   Al-780 (3)   \n",
       "\n",
       "       filter_UH_in  wavelength  \\\n",
       "0   Passthrough (1)        20.8   \n",
       "39  Passthrough (1)        20.8   \n",
       "1   Passthrough (1)        20.8   \n",
       "2   Passthrough (1)        20.8   \n",
       "3   Passthrough (1)        20.8   \n",
       "4   Passthrough (1)        20.8   \n",
       "5   Passthrough (1)        20.8   \n",
       "6   Passthrough (1)        20.8   \n",
       "7   Passthrough (1)        20.8   \n",
       "8   Passthrough (1)        20.8   \n",
       "9   Passthrough (1)        20.8   \n",
       "11  Passthrough (1)        20.8   \n",
       "10  Passthrough (1)        20.8   \n",
       "12  Passthrough (1)        20.8   \n",
       "13  Passthrough (1)        20.8   \n",
       "14  Passthrough (1)        20.8   \n",
       "15  Passthrough (1)        20.8   \n",
       "16  Passthrough (1)        20.8   \n",
       "17  Passthrough (1)        20.8   \n",
       "18  Passthrough (1)        20.8   \n",
       "19  Passthrough (1)        20.8   \n",
       "20  Passthrough (1)        20.8   \n",
       "21  Passthrough (1)        20.8   \n",
       "22  Passthrough (1)        20.8   \n",
       "23  Passthrough (1)        20.8   \n",
       "24  Passthrough (1)        20.8   \n",
       "25  Passthrough (1)        20.8   \n",
       "26  Passthrough (1)        20.8   \n",
       "27  Passthrough (1)        20.8   \n",
       "28  Passthrough (1)        20.8   \n",
       "29  Passthrough (1)        20.8   \n",
       "31  Passthrough (1)        20.8   \n",
       "30  Passthrough (1)        20.8   \n",
       "32  Passthrough (1)        20.8   \n",
       "33  Passthrough (1)        20.8   \n",
       "34  Passthrough (1)        20.8   \n",
       "35  Passthrough (1)        20.8   \n",
       "36  Passthrough (1)        20.8   \n",
       "37  Passthrough (1)        20.8   \n",
       "38  Passthrough (1)        20.8   \n",
       "\n",
       "                                             diode_I0  \\\n",
       "0   [38.350868225097656, 41.92829132080078, 36.023...   \n",
       "39  [44.41051483154297, 29.652786254882812, 42.189...   \n",
       "1   [40.24772644042969, 34.65843200683594, 30.3274...   \n",
       "2   [41.03565216064453, 38.10710906982422, 37.4462...   \n",
       "3   [35.18543243408203, 39.13536071777344, 27.8366...   \n",
       "4   [35.44635772705078, 24.207687377929688, 32.292...   \n",
       "5   [33.57524871826172, 39.20917510986328, 39.8838...   \n",
       "6   [25.702857971191406, 31.31275177001953, 6.2793...   \n",
       "7   [38.239288330078125, 34.58118438720703, 38.069...   \n",
       "8   [22.942543029785156, 33.87565612792969, 44.516...   \n",
       "9   [33.637046813964844, 30.799484252929688, 33.32...   \n",
       "11  [19.135093688964844, 30.02185821533203, 28.334...   \n",
       "10  [27.924156188964844, 27.139663696289062, 37.75...   \n",
       "12  [40.12928009033203, 35.659217834472656, 34.145...   \n",
       "13  [41.48540496826172, 35.027503967285156, 41.215...   \n",
       "14  [18.90850067138672, 19.797706604003906, 24.551...   \n",
       "15  [30.44757843017578, 35.37769317626953, 32.6757...   \n",
       "16  [34.31510925292969, 37.48741149902344, 40.8279...   \n",
       "17  [44.53926086425781, 31.496429443359375, 40.755...   \n",
       "18  [17.75493621826172, 36.03687286376953, 42.2029...   \n",
       "19  [37.08057403564453, 39.832305908203125, 42.304...   \n",
       "20  [39.820289611816406, 38.92250061035156, 39.415...   \n",
       "21  [38.24615478515625, 36.41624450683594, 33.6902...   \n",
       "22  [44.23027038574219, 33.03966522216797, 41.2639...   \n",
       "23  [40.95497131347656, 43.61743927001953, 37.4204...   \n",
       "24  [42.084503173828125, 38.92936706542969, 41.492...   \n",
       "25  [41.29486083984375, 39.064979553222656, 42.405...   \n",
       "26  [40.88115692138672, 36.895179748535156, 46.046...   \n",
       "27  [36.73210144042969, 32.26890563964844, 35.4257...   \n",
       "28  [36.18621826171875, 37.76378631591797, 43.2981...   \n",
       "29  [20.06206512451172, 41.62273406982422, 43.5659...   \n",
       "31  [25.46253204345703, 28.403091430664062, 25.393...   \n",
       "30  [32.002830505371094, 36.53297424316406, 34.974...   \n",
       "32  [21.169281005859375, 32.93495178222656, 30.943...   \n",
       "33  [38.198089599609375, 40.93780517578125, 38.543...   \n",
       "34  [30.126571655273438, 39.449501037597656, 39.19...   \n",
       "35  [30.423545837402344, 35.039520263671875, 39.41...   \n",
       "36  [36.10553741455078, 38.13972473144531, 42.5720...   \n",
       "37  [33.74347686767578, 42.34027862548828, 35.4017...   \n",
       "38  [28.89232635498047, 27.064132690429688, 30.238...   \n",
       "\n",
       "                                            diode_sum  polarization  ...  \\\n",
       "0   [160.13946533203125, 174.65858459472656, 148.8...           3.0  ...   \n",
       "39  [168.6847686767578, 127.42080688476562, 178.13...           3.0  ...   \n",
       "1   [168.6298370361328, 146.6949462890625, 129.734...           3.0  ...   \n",
       "2   [170.70350646972656, 158.2683563232422, 155.58...           3.0  ...   \n",
       "3   [145.04356384277344, 162.5152587890625, 116.01...           3.0  ...   \n",
       "4   [150.03204345703125, 105.10482788085938, 121.9...           3.0  ...   \n",
       "5   [143.26515197753906, 166.28150939941406, 170.6...           3.0  ...   \n",
       "6   [109.08393859863281, 116.94602966308594, 27.29...           3.0  ...   \n",
       "7   [161.82861328125, 146.15936279296875, 162.1101...           3.0  ...   \n",
       "8   [97.59979248046875, 127.76069641113281, 190.69...           3.0  ...   \n",
       "9   [125.77285766601562, 130.4351806640625, 139.35...           3.0  ...   \n",
       "11  [69.88677978515625, 107.830810546875, 106.9416...           3.0  ...   \n",
       "10  [101.41754150390625, 103.00712585449219, 141.3...           3.0  ...   \n",
       "12  [167.39730834960938, 151.02081298828125, 144.5...           3.0  ...   \n",
       "13  [174.7100830078125, 147.58758544921875, 172.48...           3.0  ...   \n",
       "14  [68.39675903320312, 71.82655334472656, 88.0622...           3.0  ...   \n",
       "15  [128.84902954101562, 148.23646545410156, 136.7...           3.0  ...   \n",
       "16  [150.84915161132812, 158.22372436523438, 171.9...           3.0  ...   \n",
       "17  [188.54942321777344, 134.3456268310547, 171.81...           3.0  ...   \n",
       "18  [76.49574279785156, 159.6141815185547, 178.466...           3.0  ...   \n",
       "19  [158.4056854248047, 169.63577270507812, 178.11...           3.0  ...   \n",
       "20  [149.03640747070312, 168.18695068359375, 169.3...           3.0  ...   \n",
       "21  [163.1092071533203, 157.26242065429688, 144.09...           3.0  ...   \n",
       "22  [186.10153198242188, 143.3990478515625, 174.87...           3.0  ...   \n",
       "23  [175.8190155029297, 184.98573303222656, 159.88...           3.0  ...   \n",
       "24  [176.50222778320312, 163.44566345214844, 174.5...           3.0  ...   \n",
       "25  [177.43606567382812, 165.8283233642578, 182.77...           3.0  ...   \n",
       "26  [173.7213134765625, 158.30955505371094, 194.76...           3.0  ...   \n",
       "27  [138.56849670410156, 140.2679443359375, 150.77...           3.0  ...   \n",
       "28  [157.1765899658203, 164.29710388183594, 186.87...           3.0  ...   \n",
       "29  [89.54544067382812, 156.89163208007812, 185.28...           3.0  ...   \n",
       "31  [97.99118041992188, 108.22906494140625, 110.23...           3.0  ...   \n",
       "30  [137.76168823242188, 159.85450744628906, 150.1...           3.0  ...   \n",
       "32  [98.8494873046875, 125.36087036132812, 132.405...           3.0  ...   \n",
       "33  [163.84048461914062, 176.63955688476562, 163.9...           3.0  ...   \n",
       "34  [128.91769409179688, 168.7671661376953, 166.97...           3.0  ...   \n",
       "35  [135.2142333984375, 152.2258758544922, 170.689...           3.0  ...   \n",
       "36  [138.44833374023438, 162.4500274658203, 178.94...           3.0  ...   \n",
       "37  [151.74522399902344, 180.20668029785156, 152.1...           3.0  ...   \n",
       "38  [110.51902770996094, 115.28091430664062, 132.4...           3.0  ...   \n",
       "\n",
       "                                              bunches    xgm_UH_sum  \\\n",
       "0   [657773895, 657773896, 657773897, 657773898, 6...  12189.811142   \n",
       "39  [657881871, 657881872, 657881873, 657881874, 6...  11481.090797   \n",
       "1   [657776943, 657776944, 657776945, 657776946, 6...   9331.876730   \n",
       "2   [657781442, 657781443, 657781444, 657781445, 6...   9850.531391   \n",
       "3   [657783202, 657783203, 657783204, 657783205, 6...  10966.668671   \n",
       "4   [657784860, 657784861, 657784862, 657784863, 6...  11211.029538   \n",
       "5   [657786480, 657786481, 657786482, 657786483, 6...  11206.841059   \n",
       "6   [657788196, 657788197, 657788198, 657788199, 6...  11340.284921   \n",
       "7   [657789781, 657789782, 657789783, 657789784, 6...  10756.321951   \n",
       "8   [657791432, 657791433, 657791434, 657791435, 6...  11635.908905   \n",
       "9   [657793244, 657793245, 657793246, 657793247, 6...  10946.189707   \n",
       "11  [657797981, 657797982, 657797983, 657797984, 6...  11119.587337   \n",
       "10  [657795057, 657795058, 657795059, 657795060, 6...  10812.562355   \n",
       "12  [657802523, 657802524, 657802525, 657802526, 6...  11447.247915   \n",
       "13  [657804479, 657804480, 657804481, 657804482, 6...  11318.867669   \n",
       "14  [657806243, 657806244, 657806245, 657806246, 6...  10833.770367   \n",
       "15  [657807940, 657807941, 657807942, 657807943, 6...  10480.047202   \n",
       "16  [657809569, 657809570, 657809571, 657809572, 6...  11335.229559   \n",
       "17  [657811170, 657811171, 657811172, 657811173, 6...  11120.650042   \n",
       "18  [657812872, 657812873, 657812874, 657812875, 6...  11330.525029   \n",
       "19  [657814631, 657814632, 657814633, 657814634, 6...  11346.405561   \n",
       "20  [657816277, 657816278, 657816279, 657816280, 6...  10341.579260   \n",
       "21  [657819450, 657819451, 657819452, 657819453, 6...  10870.050492   \n",
       "22  [657823943, 657823944, 657823945, 657823946, 6...  11610.594743   \n",
       "23  [657825763, 657825764, 657825765, 657825766, 6...  10810.037170   \n",
       "24  [657827519, 657827520, 657827521, 657827522, 6...  11597.650387   \n",
       "25  [657829178, 657829179, 657829180, 657829181, 6...  11055.829953   \n",
       "26  [657830871, 657830872, 657830873, 657830874, 6...  11983.103419   \n",
       "27  [657832870, 657832871, 657832872, 657832873, 6...  10568.918083   \n",
       "28  [657834757, 657834758, 657834759, 657834760, 6...  11309.256035   \n",
       "29  [657836652, 657836653, 657836654, 657836655, 6...  11205.514353   \n",
       "31  [657847588, 657847589, 657847590, 657847591, 6...   9715.263291   \n",
       "30  [657838482, 657838483, 657838484, 657838485, 6...  10609.879177   \n",
       "32  [657851138, 657851139, 657851140, 657851141, 6...   9306.935536   \n",
       "33  [657856011, 657856012, 657856013, 657856014, 6...  10431.865706   \n",
       "34  [657858124, 657858125, 657858126, 657858127, 6...  11278.111181   \n",
       "35  [657860307, 657860308, 657860309, 657860310, 6...  10499.264777   \n",
       "36  [657862405, 657862406, 657862407, 657862408, 6...  10441.479728   \n",
       "37  [657864512, 657864513, 657864514, 657864515, 6...  11220.641350   \n",
       "38  [657866046, 657866047, 657866048, 657866049, 6...   9323.920723   \n",
       "\n",
       "      xgm_SH_sum  diode_sum_sum diode_sum_mean  diode_sum_std    IR_mean  \\\n",
       "0   11958.793161   46240.074921     154.133583      25.285242  17.261367   \n",
       "39  11250.099565   47396.454620     157.988182      30.095028  17.257633   \n",
       "1    9073.711605   32106.393814     107.021313      46.320861  17.263667   \n",
       "2    9604.809380   35177.875900     117.259586      36.048954  17.281100   \n",
       "3   10731.149569   42170.938110     140.569794      25.071611  17.259433   \n",
       "4   10868.726150   44430.108261     148.100361      30.145105  17.242033   \n",
       "5   10935.744869   45827.160645     152.757202      29.480753  17.269600   \n",
       "6   10983.816026   45726.378250     152.421261      29.705465  17.271833   \n",
       "7   10413.534083   40951.050568     136.503502      45.323682  17.247367   \n",
       "8   11438.678406   48663.875198     162.212917      32.064878  17.256000   \n",
       "9   10575.148911   44653.710938     148.845703      28.718917  17.245933   \n",
       "11  10713.157300   44505.941391     148.353138      28.569257  17.258500   \n",
       "10  10507.512257   42907.022095     143.023407      23.223321  17.255167   \n",
       "12  11174.220113   46595.060349     155.316868      26.085671  17.285167   \n",
       "13  11221.722462   46069.814301     153.566048      24.805545  17.285833   \n",
       "14  10617.179026   42317.097473     141.056992      27.915418  17.269167   \n",
       "15  10288.981572   40361.599731     134.538666      28.247827  17.254033   \n",
       "16  11052.893722   44379.495621     147.931652      30.457188  17.256233   \n",
       "17  10866.966565   44890.507507     149.635025      27.435728  17.279600   \n",
       "18  11116.865589   45962.409210     153.208031      27.043823  17.279733   \n",
       "19  11187.945801   47055.081940     156.850273      26.844244  17.261333   \n",
       "20  10098.928960   43317.055893     144.390186      27.472174  17.278933   \n",
       "21  10602.361506   45018.048477     150.060162      25.987104  17.274867   \n",
       "22  11371.761307   47800.445938     159.334820      25.571433  17.283500   \n",
       "23  10650.006437   44895.169830     149.650566      26.668730  17.279600   \n",
       "24  11229.703960   47377.413940     157.924713      29.379329  17.274167   \n",
       "25  10827.274912   44707.760239     149.025867      34.307547  17.293533   \n",
       "26  11797.842153   49109.432602     163.698109      30.668677  17.292333   \n",
       "27  10328.267610   41596.696472     138.655655      47.368244  17.287300   \n",
       "28  11144.287006   47976.553345     159.921844      29.512594  17.302700   \n",
       "29  10819.040432   46912.342072     156.374474      24.553690  17.299167   \n",
       "31   9596.004389   40103.445053     133.678150      23.388213  17.296500   \n",
       "30  10378.327523   44066.378403     146.887928      25.677877  17.328233   \n",
       "32   8955.791704   35814.324188     119.381081      34.782895  17.286200   \n",
       "33  10323.955442   43970.752716     146.569176      25.467783  17.334667   \n",
       "34  10968.253806   46648.374939     155.494583      26.987695  17.313567   \n",
       "35  10271.743466   43693.207169     145.644024      22.068555  17.337233   \n",
       "36  10200.481196   42705.749130     142.352497      26.010055  17.347700   \n",
       "37  11057.916715   45722.268677     152.407562      36.623889  17.332667   \n",
       "38   9045.631444   37776.207733     125.920692      31.893938  17.342400   \n",
       "\n",
       "      IR_std magnet_mean    bunchid  \n",
       "0   0.097791       2.213  657774194  \n",
       "39  0.095767       2.204  657882170  \n",
       "1   0.087943       2.208  657777242  \n",
       "2   0.085024       2.207  657781741  \n",
       "3   0.093559       2.211  657783501  \n",
       "4   0.092420       2.210  657785159  \n",
       "5   0.084938       2.214  657786779  \n",
       "6   0.083608       2.210  657788495  \n",
       "7   0.089473       2.203  657790080  \n",
       "8   0.091243       2.215  657791731  \n",
       "9   0.082155       2.212  657793543  \n",
       "11  0.082074       2.210  657798280  \n",
       "10  0.092085       2.214  657795356  \n",
       "12  0.092042       2.207  657802822  \n",
       "13  0.087458       2.210  657804778  \n",
       "14  0.090872       2.210  657806542  \n",
       "15  0.090712       2.209  657808239  \n",
       "16  0.087133       2.208  657809868  \n",
       "17  0.090280       2.209  657811469  \n",
       "18  0.094752       2.210  657813171  \n",
       "19  0.086942       2.209  657814930  \n",
       "20  0.093485       2.206  657816576  \n",
       "21  0.091686       2.209  657819749  \n",
       "22  0.085179       2.210  657824242  \n",
       "23  0.079820       2.209  657826062  \n",
       "24  0.089183       2.205  657827818  \n",
       "25  0.088356       2.201  657829477  \n",
       "26  0.086026       2.194  657831170  \n",
       "27  0.084902       2.209  657833169  \n",
       "28  0.096445       2.211  657835056  \n",
       "29  0.088726       2.207  657836951  \n",
       "31  0.088008       2.206  657847887  \n",
       "30  0.090051       2.206  657838781  \n",
       "32  0.089437       2.211  657851437  \n",
       "33  0.091376       2.211  657856310  \n",
       "34  0.091131       2.206  657858423  \n",
       "35  0.088095       2.207  657860606  \n",
       "36  0.088327       2.209  657862704  \n",
       "37  0.086642       2.205  657864811  \n",
       "38  0.087153       2.206  657866345  \n",
       "\n",
       "[40 rows x 32 columns]"
      ]
     },
     "execution_count": 6,
     "metadata": {},
     "output_type": "execute_result"
    }
   ],
   "source": [
    "exp"
   ]
  },
  {
   "cell_type": "markdown",
   "metadata": {},
   "source": [
    "## load dark"
   ]
  },
  {
   "cell_type": "markdown",
   "metadata": {},
   "source": [
    "### Background"
   ]
  },
  {
   "cell_type": "code",
   "execution_count": 29,
   "metadata": {
    "tags": []
   },
   "outputs": [],
   "source": [
    "exp_bg = pf.get_exp_dataframe(datafolder + '_BG', keys=extra_keys)\n",
    "exp_bg['bunchid'] = exp.bunches.apply(lambda l: l[-1])\n",
    "exp_bg = exp_bg.sort_values('time')"
   ]
  },
  {
   "cell_type": "code",
   "execution_count": 30,
   "metadata": {
    "tags": []
   },
   "outputs": [
    {
     "name": "stdout",
     "output_type": "stream",
     "text": [
      "found 4 files\n"
     ]
    }
   ],
   "source": [
    "darkfolder = datafolder + '_BG'\n",
    "darks = []\n",
    "dflist = glob(darkfolder + '/**/*h5', recursive=True)\n",
    "print(f'found {len(dflist)} files')\n",
    "for f in dflist:\n",
    "    _dark = pf.loadh5(f)[0]\n",
    "    darks.append(_dark)\n",
    "dark = np.mean(darks, axis = 0).astype(float)"
   ]
  },
  {
   "cell_type": "markdown",
   "metadata": {},
   "source": [
    "### Only FEL images"
   ]
  },
  {
   "cell_type": "code",
   "execution_count": 31,
   "metadata": {
    "tags": []
   },
   "outputs": [],
   "source": [
    "exp_of = pf.get_exp_dataframe(datafolder + '_OF', keys=extra_keys)\n",
    "for k in ['xgm_UH', 'xgm_SH', 'diode_sum']:\n",
    "    exp_of[k + '_sum'] = exp_of[k].apply(np.sum)\n",
    "exp_of['bunchid'] = exp.bunches.apply(lambda l: l[-1])\n",
    "exp_of = exp_of.sort_values('time')"
   ]
  },
  {
   "cell_type": "code",
   "execution_count": 32,
   "metadata": {
    "tags": []
   },
   "outputs": [
    {
     "name": "stdout",
     "output_type": "stream",
     "text": [
      "found 5 files\n"
     ]
    }
   ],
   "source": [
    "felfolder = datafolder + '_OF'\n",
    "fels = []\n",
    "felflist = exp_of.filename\n",
    "print(f'found {len(felflist)} files')\n",
    "ct = 0\n",
    "for index, r in exp_of.iterrows():\n",
    "    if ct <len(dflist):\n",
    "        _fel = pf.loadh5(r['filename'])[0] - dark\n",
    "        fels.append(deepcopy(_fel/r['diode_sum_sum']))\n",
    "    else:\n",
    "        break\n",
    "fel = np.mean(fels[:-1], axis = 0).astype(float)"
   ]
  },
  {
   "cell_type": "markdown",
   "metadata": {},
   "source": [
    "# Plot single image\n",
    "\n",
    "Load an image and it's meta data. This will be used to setup the azimuthal integrator."
   ]
  },
  {
   "cell_type": "code",
   "execution_count": 33,
   "metadata": {
    "tags": []
   },
   "outputs": [],
   "source": [
    "im, meta = pf.loadh5(exp.iloc[6]['filename'], extra_keys=['alignz', 'PAM/FQPDSum'])\n",
    "im = im - dark\n",
    "im2, meta2 = pf.loadh5(exp.iloc[-1]['filename'], extra_keys=['alignz', 'PAM/FQPDSum'])\n",
    "im2 = im2 - dark"
   ]
  },
  {
   "cell_type": "code",
   "execution_count": 34,
   "metadata": {
    "tags": []
   },
   "outputs": [
    {
     "data": {
      "application/vnd.jupyter.widget-view+json": {
       "model_id": "711b6b7851e0407181eb9ef74ce6bcdc",
       "version_major": 2,
       "version_minor": 0
      },
      "text/html": [
       "\n",
       "            <div style=\"display: inline-block;\">\n",
       "                <div class=\"jupyter-widgets widget-label\" style=\"text-align: center;\">\n",
       "                    Figure\n",
       "                </div>\n",
       "                <img src='data:image/png;base64,iVBORw0KGgoAAAANSUhEUgAAAoAAAAHgCAYAAAA10dzkAAAAOXRFWHRTb2Z0d2FyZQBNYXRwbG90bGliIHZlcnNpb24zLjQuMywgaHR0cHM6Ly9tYXRwbG90bGliLm9yZy/MnkTPAAAACXBIWXMAAA9hAAAPYQGoP6dpAAEAAElEQVR4nOz9abCl2Vnfif7WWu+05zPmybEyK2tQSSoVSCoJARYCZJp5kK7tbhzXNrQnbNzhNhdH0B9sWgSmLYiOS2MH97qv25aNaYMDG1u0DQgECJARlOYqlWqunIcz77OHd1xr3Q/Pu/epcgmQlAK1yfWLyMiTO/c5e5+9373Ws57n//wf5b33BAKBQCAQCATuGvQX+wkEAoFAIBAIBP54CQFgIBAIBAKBwF1GCAADgUAgEAgE7jJCABgIBAKBQCBwlxECwEAgEAgEAoG7jBAABgKBQCAQCNxlhAAwEAgEAoFA4C4jBICBQCAQCAQCdxkhAAwEAoFAIBC4ywgBYCAQCAQCgcBdRggAA4FAIBAIBO4yQgAYCAQCgUAgcJcRAsBAIBAIBAKBu4wQAAYCgUAgEAjcZYQAMBAIBAKBQOAuIwSAgUAgEAgEAncZIQAMBAKBQCAQuMsIAWAgEAgEAoHAXUYIAAOBQCAQCATuMkIAGAgEAoFAIHCXEQLAQCAQCAQCgbuMEAAGAoFAIBAI3GWEADAQCAQCgUDgLiMEgIFAIBAIBAJ3GSEADAQCgUAgELjLCAFgIBAIBAKBwF1GCAADgUAgEAgE7jJCABgIBAKBQCBwlxECwEAgEAgEAoG7jBAABgKBQCAQCNxlhAAwEAgEAoFA4C4jBICBQCAQCAQCdxkhAAwEAoFAIBC4ywgBYCAQCAQCgcBdRggAA4FAIBAIBO4yQgAYCAQCgUAgcJcRAsBAIBAIBAKBu4wQAAYCgUAgEAjcZYQAMBAIBAKBQOAuIwSAgUAgEAgEAncZIQAMBAKBQCAQuMsIAWAgEAgEAoHAXUYIAAOBQCAQCATuMkIAGAgEAoFAIHCXEQLAQCAQCAQCgbuMEAAGAoFAIBAI3GWEADAQCAQCgUDgLiMEgIFAIBAIBAJ3GSEADAQCgUAgELjLCAFgIBAIBAKBwF1GCAADgUAgEAgE7jJCABgIBAKBQCBwlxECwEAgEAgEAoG7jBAABgKBQCAQCNxlhAAwEAgEAoFA4C4jBICBQCAQCAQCdxkhAAwEAoFAIBC4ywgBYCAQCAQCgcBdRggAA4FAIBAIBO4yQgAYCAQCgUAgcJcRAsBAIBAIBAKBu4wQAAYCgUAgEAjcZYQAMBAIBAKBQOAuIwSAgUAgEAgEAncZIQAMBAKBQCAQuMsIAWAgEAgEAoHAXUYIAAOBQCAQCATuMkIAGAgEAoFAIHCXEQLAQCAQCAQCgbuMEAAGAoFAIBAI3GWEADDwx861a9f4H//H/5G3ve1trKysoJTiPe95zxf7aQUCgcDnvD796q/+Kl/+5V9Ot9tlY2OD7/qu72J7e/sV96vrmne9611cuHCBNE156KGH+Ef/6B99xp/5wgsv8M53vpOVlRX6/T5f93Vfx0c/+tEv1K8YCAAhAAx8EXjuuef46Z/+aZIk4Zu+6Zu+2E8nEAgElnwu69MHPvABvvEbv5GtrS3+w3/4D/xv/9v/xq/+6q/y9re/nbIsX3bfv/k3/yb/y//yv/C93/u9/PIv/zLveMc7+Nt/+2/zIz/yIy+7387ODm9961t55pln+Gf/7J/xb/7Nv6EoCr76q7+ap59++gv++wbuYnwg8AXmbW97m/9Lf+kv/b7/b61dfv3YY495wP/zf/7P/+ifWCAQuOv5Qq5Pb3rTm/xrXvMaX9f18rYPfvCDHvA/+ZM/ubztiSee8Eop/yM/8iMv+/6/+lf/qu90On5vb29529/9u3/Xx3HsL126tLxtPB77jY0N/+f+3J/7bH/NQOAPJWQAA3/saP3ZX3ZKKf7W3/pb/JN/8k948MEHSdOU17zmNfzMz/zMy+43n8/5/u//fu69916yLGNtbY1HH32Uf/2v//UX+ukHAoE/wXy269P169d57LHH+At/4S8QRdHy9q/4iq/gwQcf5Od//ueXt/37f//v8d7z3d/93S/7Gd/93d9Nnuf80i/90vK2n//5n+drv/ZrOX/+/PK24XDIO9/5Tn7hF36BpmkAuHTpEkopfvRHf5R/8A/+Affccw9ZlvHoo4/y/ve//2WPs7Ozw1/7a3+Nc+fOkaYpm5ubfOVXfiW/+qu/+tm/MIE/cUR/+F0CgS8u733ve/n1X/91fuiHfoher8dP/uRP8p3f+Z1EUcSf+TN/BoDv+77v46d+6qf44R/+YV7/+tczm8144okn2Nvb+yI/+0Ag8CeRJ554AoBHHnnkFf/3yCOP8MEPfvBl993c3OTkyZOvuN9Lf1ae5zz//PO84x3v+Iw/M89zXnjhBR588MHl7f/4H/9jzp8/z4//+I/jnONHf/RH+cZv/EY+8IEP8OVf/uUA/IW/8Bf46Ec/yj/4B/+ABx98kMPDQz760Y+G9fEuJwSAgTvCe4+19hW3ee+XJ9UFLz0lfy7s7u7y2GOPsbW1BcA3fdM38fDDD/M//U//0zIA/OAHP8h/89/8N/ydv/N3lt/3zd/8zZ/X4wUCgT8Z/FGuT4vgaW1t7RX/t7a29rLgam9v7zPer9frkSTJ8r4HBwd473/fn/nSx11greVXfuVXyLIMgK//+q/nwoUL/P2///f5lV/5FUDWx7/yV/4Kf/Wv/tXl9337t3/75/T7Bv7kEUrAgTviAx/4AHEcv+zPb/7mb/Iv/+W/fMXtly5d+rwe4+1vf/sy+AMwxvDf/rf/Lc899xzXrl0D4M1vfjO/+Iu/yA/8wA/wG7/xG+R5/oX49QKBwH/F/HGsT0qpz+r23+9+d3rfd77zncvgD2AwGPCt3/qt/OZv/uYy+H3zm9/Me97zHn74h3+YD33oQ9R1/fv+/MDdQ8gABu6IN77xjTz22GMvu+2v//W/zunTp/nBH/zBl91++vTpz+sx/suyyUtv29vb4+zZs/zET/wEZ8+e5Wd/9md597vfTZZlfP3Xfz0/9mM/xgMPPPB5PW4gEPivmz/K9Wl9fR14ZUYOYH9//2VZvPX1dT7+8Y+/4n6z2Yyqqpb3XV1dRSn1+/5MeGXG8fdbH6uqYjqdMhqN+Nmf/Vl++Id/mH/6T/8pf+/v/T36/T7veMc7+NEf/dHP+P2Bu4MQAAbuiMFgwKOPPvqK29bX119x++fLrVu3ft/bFotwr9fjXe96F+9617u4ffv2Mhv4rd/6rTz11FNfkOcRCAT+6+KPcn16+OGHAXj88cdfYRfz+OOPL/8f4HWvex0/8zM/w61bt14WcD3++OMv+1mdTof7779/eft/+TM7nQ4XL1582e2/3/qYJAn9fh+AjY0NfvzHf5wf//Ef58qVK7z3ve/lB37gB9je3n5ZA0rg7iKUgAP/t+f9738/t2/fXv7bWsvP/uzPct9993H27NlX3H9ra4vv+q7v4ju/8zt5+umnmc/nf5xPNxAI3AWcOXOGN7/5zfyrf/WvXqYz/NCHPsTTTz/NO9/5zuVt3/7t345Sin/xL/7Fy37Ge97zHjqdDt/wDd+wvO0d73gHv/Zrv8bVq1eXt00mE/7dv/t3fNu3fdsrtIr/7t/9O4qieNl9f+EXfoG3vvWtGGNe8bzvuece/tbf+lvBXDoQMoCBLw4/93M/B4jjPcCHP/zh5Wl10dixYGNjg6/92q/l7/29v7fsAn7qqadeZgXzZV/2ZXzLt3wLjzzyCKurq3z605/mp37qp5YO/YFAIPDZ8tmuT+9+97v5uq/7Ov7sn/2z/M2/+TfZ3t7mB37gB3j44YdfZvny2te+lr/8l/8yP/iDP4gxhje96U28733v43//3/93fviHf/hlZd3v//7v56d+6qf45m/+Zn7oh36INE35h//wH1IUBf/z//w/v+K5GmP4uq/7Or7v+74P5xzvfve7OTo64l3vehcA4/GYr/mar+HP//k/z0MPPcRgMOCxxx7jl37pl14WpAbuQr54FoSBP6n8YUar3nsP/L5//sv7fe/3fq//yZ/8SX/ffff5OI79Qw895H/6p3/6Zff7gR/4Af/oo4/61dVVn6apv3jxov87f+fv+N3d3S/0rxcIBP4r5gu5Pnnv/fve9z7/lre8xWdZ5tfW1vxf/It/0d++ffsV96uqyv/gD/6gv+eee3ySJP7BBx/0P/ETP/EZH/+5557z3/Ed3+GHw6Hvdrv+7W9/u//IRz7ysvu8+OKLHvDvfve7/bve9S5/9uxZnySJf/3rX+9/+Zd/eXm/oij893zP9/hHHnnED4dD3+l0/Kte9Sr/gz/4g342m30Wr1jgTyrKe+//+MPOQOCzQynF937v9/KP//E//mI/lUAgEPi/DZcuXeLee+/lx37sx/j+7//+L/bTCfxXSNAABgKBQCAQCNxlhAAwEAgEAoFA4C4jlIADgUAgEAgE7jJCBjAQCAQCgUDgLiMEgIFAIBAIBAJ3GSEADAQCgUAgELjLCAFgIBAIBAKBwF3GHU0C+cYz/4N8kSb4TorrpfhIo/Oa/EwfrxXpfolLDE3XgAKvFL59VGcU0dwBUPc1dU/Tvd2AgrpvMJUDD/mawVSeuq/wCnrbjrqjsKlC11CuKpKx9LLYDJQD1UDTUQxuNMw3DDZRAGgr91MWpucUpoBkDC4BF0E99OhSke17inVF0/UkRwqvwRu5j0s9Tc+BU/jMokqNjz1manAnSnxp0DODGzbyizaKeFTSlBFKe9bXphzNMk6tHlE0EVvdKeMq43DeYZYnnFkfs9mZ8paVFxmZOdeqNeYu4VRyCMDJaExXlyTK8v+9/tW8c+sj3G5GfG3v05yPajZM707e1s+K+3/6b3D+FyvigwLbT4iOClTjsL0EPa9R3oP3qLwEpXCDDqq2YF375jt8N6Xa6PL+n/o//sifL8DY5dy2jsfLU7x//BoGUcGrOzf4rcMH2UinTJqMK7NVTnWOiLXlQzfPk0SWqjH004rDPKOXVtzeHhEllnoeg4fuak4SWQ53+0S7Me50gT9K8NpD5EluR1RbDWZssF1HfGRoeo7sliGewuSiI5rLtVytOHSlSMZyNivXHPFEoRpFPfD0bsi1aBNQXq7jeOJxsdwezzxNR1H3Idvzct9UERUeZdvPhoNypNCN3N8Zuf5Bfp6y8rNtCtVIoSykBx7dQDWUfwNkB275ubKJ/NxqKJ8p5eT+TUce2xRQriiaHngFKKhGHttxYODUfTucGxzyHRsfY81MGeqCh5Oawlv2HdwXdXiqLrEofuT6N/G7T9yHqjUMaxjL+6BrRTzW9K95Nt/7DH6egzH88viffd7XzDec+B5QGtXv4pMYn0Y0ow7KeWxqcLFCWY/NDLp2uFijnKfpapSV9SIqPC5S1F15zZGXDK+Q23vgo8XPUahGvscm8j7aTL5H1eBjsKlH19B0IJorXNKuR4ByCr9ayfU5SVCZJU4brNUMegVVY1jp5ax35kyqlHP9Axpn2Cn6aDxGO/Im5uu2nuJWNaTxhkQ35DbmYmcXgNVoRu0NPV0y0AW/N7uI8/JLPdS5yYqR0Yszl3BPvI9FMXEdChdztV4jUw3nkx0SZblerzJ3KYWP2IrGrEdTPjE/z4v5Br2oxHnFA51tnp6fRCvHdjngfHefe9MdrpTr7FQD3jp6mgeT27wxhVi9cvTZ58NfvPxVXPmhV9F9fh9V1bJuufaPMaAUNA3eOWga0O3jeifXS5rg6xqsRUURl777Pj71P/zk5/w8am95pq44G8FId/hg4bhar7Nn+zyU3sB6zdynXKo2ANkbKm8Y2x5Pz0/y6t4NzsQH7DV9fm9yL0Z57u3ssF0NeaBzm5vVCnt1jzPpIQAb0YT1aMqT+RlG0Zzr5Sqr8YytaMzEdXg232JSZ2jlefvKkxzaLteqNa4XK6zFMy5ke0xsxth2uFkMOZsdcq1YobAxo7igdIbb8yHjMgMgMZbaaRprmJcxadxQW8Ns3IFZhFktcVbhagO1QlUaVStc5uQz0SjMXBPNFN6AzTzxkXztUi+3K/k6PZCvTQV4+WyayuOVQjceU4KpPVVfEeXgYohyj2483iii3JGvG7JDWfdM6fEG+X8t668zClN7mkxhKk+TKsqRxhtAga481YrEFS4BUyhsKuu0rsFrWX+zfcXwkpXvqWUtUB7iowZvFNn1Kf7pF/DWorTifdW//ryu8zsKAH2eo3o9fGRwWQJKFjGUWt6nXEvRjWxQuvb4WF58ZUFp2Si8UXS3K+YnEsoVg6k9NpE3ysXyZioP8dTLJtPXsqnUsnmZApKZY3bSkO3Jm7PYDOcb8sE0paceKLyV51GtKjo78ibbDjTttLBoroinslmBvEH1wKNrRTQHm3h0BXGjiaeKYl3hY4+PnPw9i0CDGzToxOIqQ7pa0NQRvWFBVUUcjHvYWnNpbwtix/6gx+tO3+DR9Ss8PdliM53yZaMXMDienJ+m9oZUN1wt1oi0Y7sactR0yG3MrJGd+3K+wa/xar6292k2DFxrppyN+nfy9v6BDC6373Gk0WUD3mMHKXpaQaTxzuHTBF3VoBR6koO1+CwFrfAdWQBM3vDgB/4Sz7ztX/wBj/b5s1hAC294Y9rhRjPnuXKLNw9e4Ea1ygfHD7BX9rgyWyXWlnmd8Pj8FKf7YwA6cU0vqbh0cx1XGuadjPOn97h5MCTuVTTbHeq+oSpjTGaBGHZS/KhBzQ3myKArhZ4Z8AqTa9TiXND3aKtIDzQu8lSrDt+xOGOwhSwu3euaaA71AHTTLmYxRPN2wYigXFP0bnjyTUUVKdL9djGrJIgzlfw7P6FIDzx4+WzgJXBLph41haqvoD3oRDNPeuRJx+3BqYFyoIinXgIao1AO0rHDxYpk6onmDrer5GBXOHTpqFYimkwRzzzJVH52PHXoytH0DPG0oRpF8L4Ndqar/L9Pv4rOfkOTaaLc4Y18/vHQdDTxzBHNLA/kFbpqQClsz6NqOSyaeYWe5Li8kM36TvEecPK3VqA1urYo66n7kRxuEoUpbLvOabxp147Kobyi7mpZ4C1EpcMmmroj91FeAmfvZB0zpWwedVdhO2DK9mA68KSFwntQtcK2B1ObtcGfAW883nuUVzSVIRmVxLHFOYVSnqKKWR/M6MQ1AGd6Y27OR0yrhEfWb/DGwWU+Pr2H3bLHjXKFmU0YxTmzJuX+7jb7TY8Hs1vcrkdsxBOs1xzaLl81eIpM1Xw0v8CKmROrhonrkCjLzCdcr9d4bXqNQscMTE7hEt6UbvNs0+d12VUObZcnyzP0dEXtI4xypLrhE/tneHT9CnOXMLMJa/GMtWROpmuuVWucSsaMopznyy3Gtkfhr3I6mrCmIVaake4AMHcVXZ0s//5suDpdJZ7L9cXCKENriAx+OkPFsQR4zoPR7RtoUCrCW4cvK1TUBorGsPqs/YMf8L/gSjPl0EV8tLiH16XXeKKK2LF9Dm2XnWbAuOlSe8OlYoPdss8wLtB4XEdTuJiBKUh1jcFRuJgn56fpmJrtYsA0kbV33UxxsWIUzXFeo5Vj3/awaNaiKV1dMooyRiZnbHvM21Pim4Yv8tjRvdxqRsTKck+6xyPdKzxXnCTVNR+fnGOv7LGeznhhvsGr+7fYq3vsVz2mdUps5LXIooaiidg97JOmNdZqjsoOcWzpDArKOME2mii2uJkc8lSj8Gs1FAada1SjiPJ2j24PuLbrMXM5NIOsXaZWmELikKYjt2n5GGBqf/w5SxSmknVKWYk/XKSIc4cpPZ09izeK5Ej+VoWXg18iB/Yot3itiOZyEOzklk7XoGuPyZvl2tD0IqK5RZcNPtLYLEJX8rqYokE1DlXK3kkt16E6mkKagHX42RyvFcorCaQ+T+5sFnAUQWRQzqNqiyprXDehGaTti2CxqcYrZDHXShbpUrJDulFym4JqEGMqeRN15TGlRzUekzui3DE7EZEeyYZgKkdUOFlYjZyqq77G5PIG2xTiuUT23kC+oejsekwhJ+d6oEgP28xHV6FLibzjqWyITbvw6loyIzUKU9KeHpQEge1mjPL42BPvRigL1QaoSkFlcJWGyFNXEcY4prs9VreO8F4xLxJs7NDa0c0qnrh5iulGytWDFTbPTLlSrnNpvk4vKvn0wUnWsjkOxVY2YSWeo5Vsbl+z+QwfmtzPt61+jNckezxbj3ixHnNv/EcX/IEECKZoL2jnsb0U3ThUVWP7Pcz+TDJ+SqGsw0dGFkrnkCjD42PD/mu7PPO2/88X/Pk9X08ZaMWvzO/hTdkVJi7h38/6PFvex9t6T/GB2UNcLtboRSW/vX2RQbfg9ZvXiJXjt65f5Ln9DQZZyanuEVcmq4xGc+ZFQpI0XN1eA+VJ05o68TRFTJQ2NEUEGzXxTozPDT51+LLNehmPG9WYvRjdKJIDjXJyEvRKgrvOTQMYXCSLWDSV67fpt8Gepc2iy2GoXFdEM+jc9pSrqg0KJQPoYmjaRLAz8pmLjzxOzifUXQnKXKTI1+W0GuVyf13L7c6ATeTAVHcUcS5ZvWJVAsF45lBWvs+msrDFEytZsMZhSvnsloMIE8n3RnOHi45Pz9UoIjmUiHi50BZyH1SbSaw8yiO3xxpTWsykhEijygo9r6CxqFmObxrc+AiMwVU1uM9t430F7QYuT1ACAa8VLjXoRqaDeaOwmcEtqguNR0WytrlIoZzH1NCkkj3VtSdS8pr5du1W3mPTNkPrPfEcbKawiWQ1olxhM9AlxDkSGCvZqEyusX2HmcrfvlHozGGtpprHmNQy7OfkZUKkHY3TXD1cYdQpmFUJnbjm6cMtxnWHjWSGVp43D56n8Am/M76PUZxjvWYtmrHbDJi7hLHtsGZmy4CuVhFrZsaKmWG95nXZNvsuofAR6+mM/zx/AItiKxpzJj7gX45fz6uym8SqweAxeGLVcLnapKsraq9Zz2Y4r+jqilGcM7UpsXLcl97mWrW+fIu+svcMhY+Z+YQd2+HeyPOREjbNlPviPtdszb3KfNbBH8A4z1jTClU38r7HEdQNfl5I8Ndm/VTWfo1MLQJQSYyv6uXPcqtDfvsn/skf+pjbdsbVRn6PfXsSgFhZDJ5fnTzMq7Kb7Dd9Pja+h15U0dUVN/IR8yZhv+xy/2CHVNd8anoagHs6+zw5P02sLFp5pk2MVp4r+RrfuPZJniu3sF7TNSUX0222myHrZsoHjl7FmfRw+b2Xi3VOp4fcm+5wKj7gTHwAQ7BoShdzqdrgvmybWDc8MTvDSjzndjEgNQ2Rthw0XSZNxm7RQytPPy65fyXn+myE84phPyeNGw6nXVxlKErDcHVOqTxR7KjzWF7XbgN5gi81OHAdh55rqhU5zJqJfJjqocPkUlHBQ9Pz6EqhuvKZieaS8EnGctjCy7ro1Uv+GMgOHU2m8ErJOth+DWAzjSklC+lSja49ynp0aXGJwWdS7TTIIc/kTbsPRhJAjiv0Yv/U6jjocx6sxFM0VrLPVS37ZdNAWeHzfHnNyYL0+R907ygAVHEMjZT1VBpLFhBwicYUlmoUkR7Wy1+qWkkk1VpY6n60LFslEysLYSMZi2RcU63EEhgOjWQDSllo8Z66q7GJLK4gGRFTStlEN7JpNZlaRvGDK15+Vl8BbRDYk/KKbiRDkhwpmrZ8LFmT9lCXy8VS9z2mVDQdj6lk49YG3EaNtwo/09iOx0wMdq1GH8kVpQYlJrJ4p1GF5mB3gE4s/X6BBx5c3+HWbEjjNNMqJY0btPLs1z2eH69zMOlycXMPh+Jif5fKRcTKgoZXDW8x0Dnn010sit/Kz/Pf9Xcw6o82+ANourKxNb0Y3TiwHr0jJxRVWoiMlE3iCNuP0bNCysGRwY16NIMUmxk+/K4vfPAHsKY1q0bSuu/Z/3JOJEecjMaci/f5xckjPDs9QeUMjTMMugX3DA/IbYyJKs6vHjCpUqZlyqd3t7BeUZYxaVoTaYdSHqUd8+0e/ZNTpvtd6oMU1W/w84h6rUHlBjMxuFSyw9GRIdpJcbGn7jt0ozC5lHx94tFzTfemxkVyzaZ7svmb8vialMMTJIcSaEQzWajqYXsYabNJppaAI5r75fVdDTR1T5Hty6LWu+Xwuj3o2LYE0UBUOMqhkVJEW8ZVDuK5o8k0Xnk5PEW02X4JVOIji4sV5UokB7xIgiYXKXq3ZKFTzmMKRz001D0J/FyicZFqM31ysgZ5DaRS4IlmDaa01MOEaFbhI4XrJ5JtBtS8kM25aWQTzlJ83aCTGFfd2XXk5zmqk8kpPDL4SMtEWAc21RKkWgnmkomjHBiiuUN5CXCjvM34daWEUw0kGxgVHkpZu7xWNLEExTZVuAQaJRkJ5SGeyaE2mrbPScsm5mKwICVlC3ZgwbVr4lQyJmiPrTVHXtHrFezPO8sgcF7HKOWxXrHRmTJvEnJTESnHp/KzlC7iVDqm9ob7s1tcq9a5mG4zcyk36hUen5/lO1Y+ypHLOBMd8mh6iw/k53lDepWrts9OM2TFzHggHvO23lNYFPu2z8ylbFcDtHKci/e51Yw4HR+wb/vEqqH2ESfTI4ZRwUOdm8xdykY8hRhGJmff9umaEq0c96e3mfuUC9EeA10zcTGamItxzgnTb9eCz700XFtDNKlw/Qw9LSAvJMM36MmG3DSyQViL0u2B1nuUUviyBKXxdY3q99j8/934Qx9v287Ys4qLUcOzjaLyhsvVBrGyPKNOsBbN+O2jB8ltzKlszDAqmLuE8919Ls/XmDcJsbIcND1mNuGg6LJX9siimvPdfTbiCblNuK+3w7RJ+XR+ho8dnmOY5LKnrFqulOuYzHEu22e7GrIezzhqMt7Yv8QzxUkem97LN40+wfuPXkuqGxyKwsU4r9htBpyIjzDZHk/Pt7jY32U1nvPs9ISssVGB7SimdYpWnheP1oi1w2hHFkkw4z1EWS2VEi1BjbXtCcl4/DxCKVC1xmtZM3Wl8JEEeDbzJGMFR1r27/YzFB/J4dhH7YGplBhgIc+AtiK5eA5tdVEOvxCVVsrElSSuFmuZciz/7SIlzy0RKUg89Tijlwc1lxmiqcMUDS6W38n2EnRRo2qLTyLJBmqNsos1sJUbpG0WsK7xVSWZaKXxTY0yBu8+fyvnOysBOydyFmOgfeI2S7GpFm2MkzJJ3dXLhd3FimoUUfU12b5FeWi6epme1bWnXI+Zbxo6e466p4nnUoe3sZIMoZX74mVzs6kimTp04ymHRhZVJWUpr2hP0VLnj3PZHOsuxBMpi+VbimQsmqTOtqKzLXrDagj0ZbHFiXZReWgy0VP5CHxuMNN2sxs0RLsxlBq3UkOliRNLXUT4RtM9PeXEcMql57eYOEWcNjyzt0mRJwz6kn6preHTB1ukUcO5wSGpsSTacro7xnlF7QxX8jU6puaD+f28fnSFL8mu0NMlMRajNLW3XzAtzB9E3Y9Jt2fUa13iaav16yZyevF+WYJTtZXsXxLjswTbS1AeZqc++xP5Z4v1DqM0zzYxJ/2UWI24kO1ypVyndDGfODrLo6PLVM7gvCLSlkFacnm8Ri+pmFUJX7Z1mVmaMMlSdvM+Rjsuz9eYbPcxvYZHzl3j6tEqapCTVzEqckQ7MW6ucYlHlwaXSRYrOdBUaw6XeJgrqg0rG/NcEzVSco0PDPGRXM8ulkDMG0iOJPDTbebPxdBoCaq6206uPwcORXoknxFloViXBUbXbfZ7z1ENFFHu26waFGuyKIL8jHguQWDTZuxde/mkY8f0tCEdy+OnY8kORqXHZnJfmypsokkPm1aX6HGJZMUWejfd+HbRlMx8PVToRh5EucUi7IkmNS4zKOsx1SITqFB5DcMEmxniowpdWZT3EvwZszwRu8lUsi/eoZIEFd9ZkUMlsei7nIOkzURYh4+0lG7bQDkqXJuZtSJT6WjiuVQ9dO0xdZtpiFWrDVRUfcnCiu5HNiWbLaoRHmWlDKxlT5SgL5UKhc38sjTuIo8uNTZ1KKdgFuGHbQaqMOhBTbdXoJUnjRumRYr3or+alQneK27PBxjlGcYFANvlQDZtNBvxlBv1KnOXULiYic04HR8ybrqs6Jzz0REfLU/zWD7gyflpbtQrnI4PeWvnMh8qzjBxHWLV8EK5xVZ8SKIsF7I9NqMjTscHZLpeljY3owk40RlOmxSjHLU3fNvw4wD89MFbGJiCkckxyP8Z5fhkeYZ74n2er05Q+OtsGQ8GDuyc1bYU/LnQSWqwCapoX8dkkexo1zZjjjPCVSVfJzHe+2VJTvW6uFGPf3n+vX/o48UoXp3IgfW0n7JjS76p/wSPFed5bHqRP7v6e1wp13j2aJNxkrGa5GjliNtK0JnuIft1j5vFiEQ3PLJ6ndvlgP2yx2HdoXGamU0oixWGUU7XlJzujtlMJoybDuOmy37V47YZEeuGC9nu8vXt6ZJTySFdXXGp3mQ1ntHVFQOd82J5gkEs5WaRKtX0TUntDdfyVeZNwsXeLi/MNqicYd4kFNZzbnDItckKWdSwM+nTNPKarQ3nTIuU8VGXKLZYNFiFnhpc1+I6DmUVqtdAleAj+ZwoKwclb1h+LquhJ55KSdd2RGKhrOiavZEDlfKe9FDWGeUlS79ITEWFBHmSxYdyZETGMRe5SZQ32FhjM42uPLajUdYvJT7KSVYwPqrxiabpx+jSthI50Q3afoKqHLpoULXFjhLMxOKSCN1YVFlJIsVaWdesBf2S4M/aOyoB31kXcC6LhVsf4pJInpgRTUzUlm5VIwucSyWAckYi6XguL1i5YsDLhrcQlKsGRi9U8ibkfpmW1bbd5JwEdU7WY7IDWXybTFKx6aEnPZJNz1SedOKJZ/LG5BuaYlXhI9l8dQ3ZjvydHsgbX40U81Me2/H4SDIp2V6rqyqUnDKQiykaG2xPFv14O8YbL6+qV6jUUR1k0hSSWvJJxuXrG6jMStbQKabjDrbRzPKUnXGfJGqItGOU5EzrlH5Scl9/hw9vn+NWMeTZ8SaHlSxo37zxSV6V3uSDswfZs31+Z/YAY5czdgXzO019fBboxlNt9tCVpdzo4FZ66HmFyivJyHQS7GpXNIFpjDcarMPMa5qO4eC1X/jnZJTmg4VjU5fMnObPtVq+rxk8yZd0rnCue8CHx+f50+uf5t7envweyjPMCvpJidGOoyZlXGW8eLjGOM+4cTBi0CvorOVEccMnr54lr2J2bo2YHnbwswh9cYrtOdBg12t8vxF5gIbODUM0VVSrjux2RHJgRJ+iId0WjWDT88vrcVEKXJRw6157rc0l6+diKFa0NEFVcn3WPdGN1V21lFBMzyiqVbnm64EEak2qlo0g2vq2sUluN23jgc0gKj1NR5OvGeKZBDjxXLLv2sphbLFoSjOJlc9oJSdiU0oAF80dUWGpe5Lpk/Kvo3dTrk8XSaBoSrmfywy6cpjKYeYSULpY06x2MHlDlLe6GaOkkajXwaexLIwgC6W17QbtlmW5O0FFRgIA30pdainV6Nq12VkpSfm2ImFTRTyXUrZsSL7VA7KUudhYgvbFQVYtgv/aS1OPUTRded9NIf9fD+Tg6jXoSr6vGcg15zoOrMLMND51mNRiEkdnc47Wntkko6wjqsaglKeb1gzTAqU8K52cre6EvJYF9UznkFmT0DE1p5JDTsUHOK8ZN51l0Abw+u5l/sPR6/lPs1fzp7u3uZDs8pruDZzXrJgZhVfsN322myG36hVGZsbcpWyaI7biQzJdc6sZoVud2kAXxMryfHGCuA0SKx/xaPcFHi/P8No44S+u/g6r0QyL4lyyx6HtEqsGh2bbDtqGkngpgenrlG07/5zf81mRYHtxWwJ2smlbKyW4poGmQUUGbx0qjlFZilIKFUWoyMj/JTHVRvezerxFtQIgU4o/3ZnwW/P7mdgOD3VuMnEZD3Vu8rUnnubLVl9kp+izHs8oXUSiLbMmxXrFYdVhGJXcLEa8aXiZRDfMmpSOqcltLH9cwnY15NmjTW4UK3R1xenkgDcOLtE1JaWLmdqMgSl4MLvJrWbEmpnivOKg6XG1WKP2cnib2pSPT87yQr7JpWKDK+U6Fzs7fO3o03zF6Dku9PeovWG/7FK5iEg7ulHFUZXRiWu8V/SzEgBjHNZpvIc0q2kqg53GqLTNiBUSK0QTDUcxPvbgFdG8bQBJ2ope2cpeCrWMFRbrqovaKkkh+5euFg1v7RpY+WXlY3G4kySSyFOiuaMaanykaDqRNL22h9t4YjGFlICbjpR6faSwnQibynPHt01wgMlrzKzG5LWooiItXxuFnklsRdtM6b1HGQ1xvLxOvPMoY+6oBHxnAaBWEEWovEIXFT42+FiCMDgO2tIji42VlHLnDm09yVGzLPF4rWg68lRM6VqBtWk1NPKm2VTKujbVUrKdyCZXjhTVQDYXOQ2LdsgZeTPrtlQJsqmlB/J96YGkaaO5/PymyzLLoix0thXZnugDy1UlJc92MbZZ2200VdiuOxb2t91GqlLocYQ6iEUPqD1uFknQVxjRFFsRanf6JZvrE1baDKBWMK9jntvfoLSRlGPGp8irmCe3T/LI2nW2sgmzJuHf3n4DT+TnAPi92X18SfcKH8jX6aqYrk7YtrM7env/IJSV041vdVqmkJOxVwqMCGBVIycbnENVDb6b4juJaCMKy4nHvgAi/c/Aw0nJvXEfozw/tn8fu/WAj+YXAChdxHdt/TbPFycA6EYVm9mUbz31SRqnyauYD126V4K8MmEyyzDGMZunVGXMyZUJKC/C+shBaSB12EayXapSmL0YpT3RZkG11dB0RTYAUA2ly9fHnqbjafpyoEkP1LIRyRtP0270aJZlxnpwLE6OcrmWfQR4OQS5uD1kRXKQ6d72ZNuidVmInFFId3tHNGpSdmxlEx35vqxtFAFZJLM9iy7lsxSVXpo4GikD111FPLHUPSOlkVYwX64YnJGGkHIlXmbtm/Z+NpVSia4l2Cs2YqpBjE00NjOy6HYiCbK8R1lH049bHbHHpRGum7Qbs0OlqZTljEEnMb4tCd/ppEtfN202+yU/p9W9RpOKKG+P+1reB5vKWqRLR9M1qEZei0UHtk1ko0mmDrsI+OaSVTVVW/L3Ul1IxrKh2VSC/6UTQdxmOQzoQmEKJVmSUmNTL8Ho7Qw7jSjmCUq7ZSbWOo21mshYrh6ukMYNg7igG9U8vHGTnbzPrEl5ZHidm8WQxydneXx+jpvViFQ3vO/odVyuNlkxMy7E0hV8Jj7giSpluxlwMdnmO0cfI8ZyoxkwMAX3Jbfp6ZKerlgzUzZNzn3xDueifZ4pTvFbk1ex2wxYMXM+NT/DKMrJVM25ZI9H0qus65wvTa9hlOZT1UmmNsPgmVjpSv292X3sNAMSZZfB6YLPtxJSzBOiqRxkKcpj94IslSAvSeRAYDS+/T/vvWRpFpnieUGy87mvwWPn+e0iYzOa8HyxyVd3n+PtHcubOpc4n+xyLt5nM5tysxxxUHVovGa3kNNiPy554uAUF7p7DEzON28+zj2dffbrHvf3duiYmpVoztV8lc1sypcOrqCV57lii0zXbEYT7k9v0zcF+02fZ4pTbEYTHkpvcqVc51R8wNevPC7P0/aovWEtmXMimbARTxmZnJ4u+eDkAZ4pTjJrUnbLPlp5ZnXCtEpZT2ck2jKvpXw8LVJW+jmbgxlHswxrNcU0xXtF1K9Jshofe9R6iaoV9dDKv0sp0XojB+166CjXvDiBtI2mi2BLuVbikssBKz30y6Cw6msJGGvfBoDydZtcbZvo/DJeidsMoOx3oNuYxRvRBrtYiQY6b9CVQ1tHfFSJzs97CfKcb/sf5CCrGoc3pg0atWhOW3xZLZNtOHe8JgEoLUHg58md1Uecl/R3VcHKEH2Uo1JDNIdqKBGwabsBs9xJirSNqOVE7IlaywibakwhL6xLFOXI0L1dU42iZTlqYT9R9aUb0NSQHommqRxqtIVqoEgmovFLx454JqfvYkUT5VC18rh8UxPN/fJE7iv5HkVbdmugyaQxxLcC0aYD6EUqWVOse8nm2OOW82YgYlR974x6t4OPHHoS4QYNmyfH7GwP0bFjtC5NBWUhJZim0dTzhKn2nF4dkxjL9qTPYZSx2ZvRNIbTq2N++8ZF7hkdcro7RuPZrgfsln1ibXl9V/ML+1/KrdELvLXzHK9Oetxsppz6I+gG9lrhEskGqdJKnNI4MAqPxg86ImqtGuwww+zP8GmMnszRZQ1mBVN9YUvAHykr3pgmjHSHj5clI+0Z6IIsqvmW3ov83ORBrsxW+UR6D7fLAYWNGZcdOlHNh8cXuLy3hm00TRlx6uQBo7RgZ9anqCOaytAf5TROY6cxdR98o1GdBm819iBF9WucasueeURdGbF+SZFsYNuwVZ6wqFo27qbrqVacNFHoNvvXiPbUVMcNSSi5rRpAZ9fTdOWg47VkMKeruv132+nbBo1iqSTZPV2JdnNhN+AVRJVfBn7yvsrpWXnA+qX2tunIgQovkoumI534+JeUPpxIPEzpcJXCpWLzZJGgVBpUNMnYSvBXWmwa47Sc1JuOorcvJTfbkaUpPiioVzJcatrH8LgspunHRB50Lvf3lSyqKo7wgIo9vm5Q6s4CQBVLpy/eSwkwieRrBd5ovGqb3RKN7eg2A0qrV5a1Iyrk945yR5o7qpGh6muSmax3TUe1EhcwNeAQSUykllolkJ/l4laD3PPLgNBq/zILCV0ZyY7Enii2KAVRbFntzxkkJTuzHtZpOklNFjVcPVrl1OCIVw9vsRbPGEYFhYupXIQxNaeSMftNj7PJPhOXia2L7dBTFV/SvQLAjh1yIprg0OzYhKv1Oj1dUriYZ8uTrJg5m9ERz5YnKXyM85pbzYhU12zEFus1sbLU3lC4mN1mQOFjrlbrnEv2qLzhtcmY3z56kFmTck9nn5vViNV4zr3pDoe2y616xIVkl8obeRFbTkX95drw2bK+NsV2u+gkZulqEUWSAawq+XpRfnMW3yDBoBfxvm8s+Bo9/uwDwIV0Z+JiDJ6eLnmoc5P72mzmI0nGI8kB7511eW3/Oh89uoevWH2B/aZHnsWcy/Z5Id/kXOeA71z5PT6Y34fBcSoZE2tLV1d0OxVPTk9xMjvioc5NurrkQn+HvabP2Paw7UnhQrLL70zv5950hwvxDreaEX1T8tr0Br82ezUDXfBsvsUDndtkqmbf9pjajNVoxk4zoG8kq3fdrrCVHjFpUtbSOUd1hvOa1XTO7XmfblyjtWNWJhxMuqwNZ+wcDOiNcpxTGONwTlNm8sx8T3Suam7a9abNnNv2MFQubLJEs6+cJGwW0prF52ThpJC2jSAuBle366BvJTBK0UTHiaRk6qn7Gt1AMqvFCaEN/BYJEVk0pIxcDxNMYdvgTkvXrpWqxCJBAuCTSP6vlvuhFb4UexeUEhlKlkr3uTFgLN4aKQG3peDPlzvLABojItg4lsg0jpYZvXhqiY8kAnappEyrgfgBet1m8nK3fNEWG9CynbpoNUZaoveoFGFmviaC6IVdQtMR/0BTsbR+UU7KYi4Sr8B8LZIu3vZ10hayfelerPuq7ZpUrWBe7rNoFa+GEgjWfWi6x5mRputF55W0pWIl/lw+cti+ozpKUWUryM4cOrPsXF8h7tSkWU3VyKpuxzFZUuOdpjMs6HdKdqc99iY9qiqirGPOdMecXh2zO+1htGfWJBzVGYd1h1mTspUeMYgKVox08D2SXuWnDt7Ce2dd/tPsfj5dfe4lkD+MeCYdT6rxUuJVClXW2F6CzyJ8EsmG2VjRNzQW1Xpo2ZOr6Lwm2yn4mk99+xfsOd0fH3d8Phgrbtgur8uushkd8c/Hj1D7iMYbnpyeJtWWUVzwjSefYDWds5P3WenPaSqDjh3zMmFeJyStQDnrVcwmGTe2V0DBoJ+T9Ct8raHQ6EKhDhLR9O1HmKlGpRbVKGzfYlPpZFUNeOVJzswoztbYjsf1LKZUZDsS1OnmOPOtm0UGvM0E5SJRaLpS2ijXRMe6aBYxhVzT1UC1merjz5bykEzabHjhRVPY0VRDyXBXffGrKkeKfF233laKatiWm5vFSdqTTNzxqTlvBduZLIRNR4tflRYBtPLymVRWvjfKrQQ3jXz+k3G91PO6VKwzFtnEaq2DTbUcKFspCFphcukEVnM5Gat24Xxpx65O4jvWAHrrZDMHKQe265WupFxd96O2OUdKvqoNDoFldtYZln6MLlXLNa/qa8qRpsnU0tKnEYcO6oFCW080k3JU3WO59rhWzO6S1p5qpjC5wiciI7BrNa5joVbiVQlo7dmf9DgsOjTWLK04amsw2lE2EaWLuJqv8uzsBLmNOZFOuK+7g0VxNtnn+eIEXV3xUHqTwsdcb1ZZ0XM0jj+V3eZivM+Ry/hQfh+Fjzm0XR5Ib/FQepM1M+U3pw9xrVrj0PbYjI54XXaVB9LbnIoPmLuE58otRlHOzWLEbt2ndDEjM+MT83vYaYa8PzdcyPY42zlgalNemG+wW/e5Ua9wMhoztl1+ffJqnijOMXb58j38SFktA5vPlsOjl5Ru6xqMlkwMyH4HqCg6roIlcesPqI83bWOgsTz69//GZ/WYrg1au7ph08w4Hx3w1u5zr7jfvu3zQr5Jx9RcKdcAKF3M1WKNxhvW4xmvTTps10Nqb9iMjvjLq79LrCy3qiH3dPa5kY/43aOLGOWJsTg0FsWXZhLQ36pH3JPukemaS/UmvzV5FV1T8nh5lpHJeXJ+mrcOn2HcdHmmOCll4yblZrWytKiZ2pRT2ZgTyYS3rj7HRjplViec7+xR2ojN7oxYW2Jj5TCS1mx2Z3S7Jc4pirkkR8oiJu63G3OtUbnGJw7bdbiua0+rtAGhHHRRshaCBHrxtD1Iw/JAW/fkb9t+5rxqHUoQOVmTHh+ylz6qvnVJiDVNz9D0F5UPkaosPtumFJmI10qSIm2lTJeNdAlrhY8NthPTDNqDSdtcotuSMHUjmec2S0gUHXecayVSF/jiNYEs8V6epJbFXpcW3TiJgFsdT903pId2WVdXbblWlw7bEUuFpqPbIM5hU6h7x/GpbT0Gk4lsJnVPOoFN5cSGotUPmtK3J2rZcESrJJlCF6s2syE/s+61i2kkRrfFmmQPfSQXy0KALzY2sjFLhhJ85ImPpOQSzZV0CVeK7HpMterQpZGOvNhDpVA3M/SpAlsbksRSVYZBr6DsJFRNxOpoxonelOd3Nnj96Wt84tZpzq8f8tDoNh/dPYf1isZq7l3d54HBNtfzFaZNyrROcanitf0b/KfDL2FcZ8x8wjeMPslr4hnXmgN+dfZqXp1c/oK81QBf/cR3kMwcLjHLjK7yHtdLMfN6mdKm1WKpssan8bIZRFUNLoswk5LoXavc+9//FV78hn96x89r4fv1vnnMs9U55i7hcr7Bxc4OHxmf542jy3SjikFUsF/16Jiaq8UaLx6tczDvcLTdh8jTHc0YZCV7sy7rvTlFnmBrTZQ2DHoF+7dGHE262EmMLqT8r5wIe1WhafpONH6TmGbFgvHYnhPfKquIpoaik6ASh5ob9FgOKPPTDjNXeOOph62JqYZoJlo/jUgVTIkEA6otE1ZS2qiV3F95sLFcs4uut7orhsOdXU8098uSSLkqp+R45mkyCRBdpIgOnSyAXsrHNhFbGGVlcVQO0iMri2LjcJFZGqJGuVtaI4glDOhWp5LuizVUclDSDBJcoqm1onO7wHYimswQeTDzBh/rtkrgSMYVTTemWklIJrUcPooSHxlUVUsZTkmKVcXHC+Vikfy8aY1+fdOgVobyJrRdn7q0qI6hHkrQGU/EG8y01Q6vF/UnySLoqm2OaS1zlPNLtwI4rnDYTDaMaiAbkCnbUrCR68xrLzYXbYbDawkGVaVEED+NQLeBaNqgtUcpT79T0ksqlPIMkpJIO47KjKox9Polu2WfSDmcV3RMTV+VPDk5RS+qWInn0nCB46nyFCejMQOTc71Z5Q3pVZ6rMy7GBRfiXYpWnO3QvFCdkCxTvMuX955dGhefNFOerTfROIamwCjH2WSfnWbAg73bS7uRS9Ump5JDxrbDk8VZPj07xVoyo2sqXtW/zUY05dn8BE9OTxMpx1oy42t7n+Z3iyFflh0x0h0KH2HwPFPPMHhSJTq7P8gw313rYmaHkpmJYykDg5R3rUNZK02QCz9A5LpQRosUodUDojVbv3yVrzz6Hrp//Tq/8upf+H0f87YtWdOW35rfx+Pzs3zrysd4e+fl1+9PT9b5vclF9qsuDw9u8OJ8g74pKV1ELyrZL7r83RO/CvQ5FR/yTHGSTNfMXMqnZ6c439ljuxqQaMt93R1u1CvsNANek17n0Hb5xaNHOJsc8FR+isYZhpHY71zs7ADwYrnJqfiQrxg8h/WaV2U3udyaUPezgu1qiFGOjUXLOjCxGc/mJxhGBV9z4hmen28CIr/ZKySpcTjpgFdsJ30GWclRnmFiy2ySSSa9arVvkcMj6yiAqtvmzKJ1SkB00rpRL5NLqHY/t4kiHR+Xdxcd9V7LARSlWjcE8fWse2ZpWeXaTn3l/LKXQTkvOr/WEUAev5WFLJyANJhZjY9FK6zzBozCpRG6bTJS1i2T1osmSmWd7JtFJRWOsjy+EIxBYcUa7ItlA+PLEtXJ8J10+cSV9RArmm5M09XoSrdt06BrR7EWkY5tK6zUSwuFdL+hHpg2C2FwBnHTrqXunsykoSTxkrXI16U72MZtaUpJsOYiRTWUjkdTtMGaEtH8YgKJKUVMrdv3KZpLVkVbyfx51U4Uaaci+KTV27QGkckYvNb4SBZiOBZlVytuGRBGWzPsWF4bt9lmi5xi3ooUxq5L2qvYGk64trfCZJ4Rxw3PHmzinOby3hrXDldoGk2vU+K9Yj2dcXm+xlO7J/jSretspRM+NT7FzXzIa0c3eefmR7ler/LG7Cq/W4pXVqwaXqynXzBvwFmV0MuPsx3eaElt13bp/Yf3qMaKTKCTyiHBOpq1npj1Fo34HDlPejXhP84zvrlb3NHzutlMqYFM9/m63lN8KD/Px6p76JgRG8mM6+UqG8mM39s+z2vXbrESz/no/jmxwnAa02uw84itwZQbh0PKIuHyfpeo0+CdQmtPWcdgPK4RbafXHrTCbVR4p1DG4as25eOByJHcjqnPVKiZxhQSzCmb0HQ92fZxx65qjk+c8USjK9GaattOg/DSuS6vuVybvZuOckWu+UUJUFlIJm3GcOaPO4mRSR3pgZR2664saMmRvI/R4sTc+vAtNDFey2Iq9kma7FBsEWyqScYNTUfM2+OpHPxsLNd509Ok+7UEpJlkiZuukcNCYrCZSEJsR8MYEVAvGim6kZRNZ1ZOxo3HlBZd2aVxqlrpYW4f4vMcqlr0fovN2LXdtXdQHgFY+G/pXlfKM2rRzWvk30jg13RNq71UaFh2EqYHsq4t/MMk0wnOSONO1NpMyfrYitfbA/WiVAUvyfrFHlMoXCrVCN1Ic5HXHuUUugCXSSbQp1IuK+cxvtFoLZM+xrMOVWMw2qOV5+RgglYerRynsgm3ywFTm3Ih2+VCVxqlRlHOqfgAozwPRTexKHaaIZvmiKvNiMLLE3196tixU54szrTZwhtcjMbcsF1mLiVTNZvmiIlLOGnGxMpytVnj3nSHWDVkqqYk5qn8NIVP6OmSZ4qTWK858Iq1ZMbAFNTecCo+RLfZn41kyonkiJHJudSsczo6YKQ7vHfWZcXMWdE5MZ65N8y8YqAaxm66LK++lPccnaCzrY4TG20WWXWlBCylXyUNRpFZ6l5xTsT6cXyctalriGOy3Zrnnj0Fr37lJfbJqsB5xZ4bcWh7TFwmBtfVFm/vHFvI/JvpCOuVGD57xXY1AMC0gW9uYzR+uc4/X5zgnnSPT07PUjhpAAF4TfcGRScmVpbdekDZWou9Jr3OuXifQ9vlRDzhVZm8z2IJFNM3Ba/vXiZTNc+WJ3lT5wX+r6MvZWpTzqQHdFVN11Ts1n36pmBqxUT6dHLAx4/OMokyHuhuM4gKSttnr+hxob/PC36deSnVlsRYDvOMsmizrMrjvQLjUcbBJMZHizKcetkkDQnmFNWqGEGDZP6ajlTwpNFzMb1DqoTAcjqPTdQym1j39HI6h2sHS0gWD1ykl4b23iz8jg3xpD6WRrXroG5kbbV90YxqQNUO24klSeKQvTDSLCJA20/R8xqyRJIndWs7BEuPSV+UKK1Ei3oH3HEJ2Fc1qqjEsLCxNL1Y0pjWSfBkFKa07Ybl6ezWoqfrG0zh2tKSX+qX4laXlx5J12FnrxGtTPtsy5GhGmgp9Vopd+lGvmfRCNLddmKKa9vsSCGLZ++WXY7RWoxuiXLJkGQ7chEtxdKZXz7mogztEkiOfKsp8MssDO1f8vMU1bpFV4p6P8NMDcoqCf68AqdIuhW+NNhJjHOK20cDmtrQbbuh9vb6NLXBWkVVRgx7BZu9GUp59soez+5tcnF1n6f2t5jZFOs0/bgk1Q0fm5/nWrWOxpOpmhU956H0JuZzq4D8gQyzQjRPiV4aXLo0OhamtiWzZeAHks42Gl01Yq3gHL6TSANJCf/x4Es/7+djvWPqCl5ouvxWfp4zZsqH8vM8mNzmS4bXxAZmvsqkztgu+1inKV3Es5MTvHp0mzO9MVvDCac3DkF7ruyu0k1rBv2cuFfhvcKklnKWMBtnqKnBtxneaLPADSy9UY6aG6LrKWouHV+6VKjSUG2JV6TtOZncMJBrLTnUbVlUArVsT7LV0UyRHL588+/e9MSzVsdSiR5QV2LK7No3d1GiUFau03R87OMnjSIigJbPi/gAqvb/laPV0iryDb0MMMuRoe4dX+Sm8mK63pY8Xayphm1zV2nJNxOqlYhqZIgnbZmxLwGQqVy7mCqaXoRX0hWcjBuqlQSbtvKQTCw24qklyq2U2RYohZnXRJNSFtDIoNIU1e3Ihqu1ZOviSBo37rALeFlmaRpUWaOKGp3Xy01fmmHUcqJR1AaxumzHv/VNW+5uswVGgryFtYRN21KVb8u/CtkUasnU6naaSzyVzIYpJBhfaJXqgSfZ1+hSMq12EfzFDlUa1MygtEfFjnyWsHfYxzlFL6lJjCXSkvFzXvHCeIPDusth1eXPr/0O29WQWFs24ikPd66y2wy5XG5w6Lo8VZ7msalMg6gRK5b3jl/Pz09PcGh7PJDe5qH0BrWP2HcJFs1H5vfi0PRUjUXJz6lOcana4OOze3ixlO7fVNccNl2uV6vcqFcACXK08mS6ZrfuEyvLs/kWN6sVnBerms1owsnokEzVvHf8Buau4i3ZDk+Vp9mxPSY+4pbts2N77LuEmf/M+Y+ulnVYTws5ABiNz5KlEN97f5z1a1rP08XUGeclQHTHjSF46Rg3U82VZvqKx3uknczxO7MHmDj5etx0GOqc9xyd4D/OM9476/KL+yJj6UUlibZcmq2zlojGcLfscyY9JDUNn6py/u6t1zOKcj58dIHcxjROk7YZj1hZShczbrpsxTJN5Vy8x4fnF1vvwYax7TBzCRPb4Z5kj/PJrpSQawn2Jzbj/zr6Ui7N11sdYMOVcp3VaMZDnZvL3+2FfJPb9YjTnTEAT822mDXp0sli0qTE2rLWm1M1EdMywVpNPYuJkwYTW3QkbfI6loMO7XqmbKtXXthpzVoZ17yd2tVKYBY2WspD0zu2eVl4j7pYKoWi42Np07TwAwT5f1MfyztMq39WVrKBeE/Ti44trRq/tMRSL5kUglZto6ysa64b41PTuhq02T/dNtM1FupGfCajqF2P2iYQ2tKvtccOCJ8HdxYAWovu9/CzuaTI28VZl83yTZKFTRolms5iLJuTcsjCGb/y1AOZ1yvu+rR2E61NRKLb8rCMmBKLCXmB07EsvHVHtUbP0pm4CBp1c2z2OD1liGe09gtyMXgjm2B+Qi6E5FACknjSduUVx5suHvItRd0TganteJquzB7UFTSbNc5AdjMiOVJEE0M8FtNKPJisAasopymqkpRxs92hKlsdkZbTTn+U44ETK1P6vYLDSYdrhys4p3ny5hZpLBfAWmfOpw+3KG3EKC6Y2pSBKch0zePVKZ4qT3PoupyPjjh0Ec/UMz5Y3Hnn7VGR0b0+J5rbdtqKxkwryQDOZQSX6ya4foYbdpejbFwnFpNo51DTHFXW1H0xrH3/Cw9+Xs9l185osExcQ6wsJ6NDfmH6MA7Nr01fQ9+IYerOvMf1+QitpBz29P4JXjhY41YxYLfo8cKVE+R1zMrGlNNrY6xT5GWMdxrXyAhByjabNKrpbYiu0t7qgPFMd3v4jqXpydQGQDJ2BxozjkivJURH7fVfLOxb5FBhYzll6hqyXRlFKIcNOdEmR3Kt1v3jRiQ0y263agTpoXQOq4blVAkXtd1sHtJDtzzglCPFfNO0VjCtNs1IydFFMuVjoT1Mpo5szxLlfhm4dHYtLlFLiYY0cGjqQUw0d0s7Gf8Sg2dpYrFEs1Y32jZPSKOYXQZIum6zj4UlmlTgxRuwWokxkwJvFNVqikui1kA1lqCvrlFZKgL9xaxWeNlEhs8HZYxkcVo3fikJt5luZKEHWBhDlyvx0gpLWbHNUW1AV/c0VU/Wtahwx7rI1o4H2qBf1ARSCjYL3edx1tcbqTyYUiwwdNMG/m0GWdXtgaCSf7siQkcOZTzaOFb6Oc4renFF4zTb0z7XJitsdGZcmq7xqsFtnizPLEd/AVyqNhmZOaNozhP5WR5IbvGtKx9n4jp8bH6BnWa4DDDOxdK08Wx5kt+d3cdj+b08VZ7mvvQ2AIWPOGnmzFzK5XKDTNXcl+1wPtll7lIOmh6JbqRcbFP2qj7Wa7biIzSe1WjOyORLo+L1ZMpu3ee5Yot92+fn99/AUZPx20WP38pP4bziVjPisVye59VaKiOZsvxGrvlUlXPtJYHZ+w9fQzL2ywyvms6lmrHo7l0cKtJEMjONPc4WercMDn1RyOaNfF67NzQ/d/TIy66vAzun9paPFOexXrPTDDgZjbkn3efTxWlu1yMuVZt8ZH4viW749YOHuDpfpWNqHuhvM4pyamfYKfs8M9vi0eElHivO47zidw8uMGsSNpMp+3WP1w2usVv3eXx+llPxAWvRlLVoSt8UvO/wdcxdwsRmPF9u8cbeiyTKsm97PFOcZGByDhoZE3dou5xODvhT/Wd43eA6n5ye5VKxzu1yyEHT40q5LlYxzpBbyRz2TUlpI5r2Nq08oySnsob9vMv+rItSnsm0Q5bUqNhRFgm2MRIIphZbRO3os/azadUyc76Y+Qvyb1O2Ehj9Ei3gTGQYuvGtO4EkjJb2c21CR8rGxw4XeFlHvRInk0UDa903Ykrfyl1MaZcxjozslIlIykM0kS5gF2np8m2np5mpHDZUaXGZSAYWzSGLg4UvypeXf7V6Wdn3i2cEXVW46QyVJstF1xzMcCs9TNEQt0JuF5v2tGra0W2LRg2HTbUYJUYatx7LfLzKUQ8i6l5rKaPEYR/0cjByVDiKgZag7Ug2sUVJMiokmyEzS2UCyMIexqat7cZYLGSUlc7IeCpZk6YjF0A8ZTmVYaEXWIjsk1xRbHh6VzTz01KiS/ckqyHzi6UxxBStqD/XuGGDncoCYvYj7MiiCskK1hPRgx2MezSlob+SE0WW6zdXSXsifn1o8zYfv3qWNJXFxaE40ZmwEue874WH2Jn0eN3Jm4zrDqM453q5wqfGp/iuM/+Zy2pI5Q2Zrtm3feCVp9DPhaKOsN2YaFLi0ggzLcWSo1T4tLVHaBxq9pLmkyRGH+X4biqGqe386F/7l//HHT2XDdPjNwu4UZ8QnVGaA1f5t/tv4rDq8NVrT/Oa7DofGZ5nJ+9TNDGzIuHEcMp9q5PlApT0KqZ5SpbU7E575POUrCOvfTNvO0szi28UK+tTDrYH4MANZOavqpV4/Z2pqYcesxfjt0qanZR4qqiHMvGjc02MypuRl3FvM9FyLbM6GmZnRVeq2qYk1RwPEI+dNEEpSzvrt+2gzSDba0e4xW1XmznO7hXrkiFySStlcH6ZvZK52yKbSCaeqJTPm2nHG1UjQ5Q74nkbfBQW5TS+L9l43XiKVY2pFP1rFcVGTDqWQE9KJA68px5Gy89hNHeY0qKswWaGaNZQriYkh5UEhJXFx8dmuwDliR4u1sSTGl1LKVjBcYZwcTJux3d5a++4BOytPS6zeC+LslKo0uKHbeYvEm2PGL+Ksb2sWyIrUVaCv6jw2FTWpKhodZu94ya09MAt7aaOdYIvLxF7DSZX1ENZ61QDOCUaQCtBoI88yU4kYwaNRyWWKJKZwHFs2dkfSKWkX9JJah5a32avtRGJtSW3Cc8VW8tOzlTXZKpmbLvsNz0JAotzvCa7DkBXV0xshy/pXqHyhlvNiIntUPiYjXjCs/kWF7I9Xtu5xtV6nU0zYcd2uFxtSEavGTBuOgxMzn7TYzWaofHLrmOHlD0XM2Zfv3KVWDXMXbI0P3YoTqQTbtcjHulfI1aW35vfR6ws46bDxcE2N+pVNqMjBipnxw6wyLzbh+KU9xyd5s8MXuRGI1UWXSPvc90sPSCXGWVjjoNApaQK1h4+VJqy9AzUBozhyj8a8fiX/XOA9gCuKX3NtaZkwxh+s0g4F++1DRsTBjrnQ9P7yG1MrBwr8ZzcxqzHUua9r7fH+2++irODQ64XK5zMjjjVGZPqhvfvPsTZ7iHr8QznNac7B/SjknPZPpmqWY3mlC6i9hGFj3mmOIX1mmGUsxFPmNuUg6bLjXqVT03PMIxyOqbmUrWJVo6DpkcvKRnoguerE1wt1paB/1tXnuHQdhmZnN8d30sTGwZxQU+X7Nc95k3C6e6Y0kbMm4REW/bLLt24pqzbrv+koRM3HBr53LvCUBRGHPCVxysxfl6MgosPdTtSVtamJpbkTdNjOTpRNe1+nshalx54VOQxk5c02sUcxya2bZKLaAO+ds55rMj27TLQjHLp4lfO03QN6X6D1q3tnFJEucz5VdZhu7HYwFiPbsS32EcaaxLMvMKlkWj+XlKxUGUt680i+9fINJBFxm9R5biTmQ93FgBaK2NLlp13stDb1BDfGuMHa9h2NIry8gJWQ03/SkG1mgDSzdf0YxFYtiaydV/0P/IiWg5PpWSHbmlAq5yMtkqmTqwlMmnNjueyuC5Hs7TeY8rJG7rojoxn8jVKxO/QdlSuSEdQPAE0VCtyUcVH7UzWrgSbogNUS6PeyQW39ARUtcFUogm0CdhUxn5xFBFPNOXZCrvi0EcRrmfBKlTd2okA+iBmWksHqY4ccWypqohxJUOyASZ5SllHNENNx9Rc2NhnLZ2zkuQcVh26aUXflPTjksvVBmtmilGOc2bKV2V38o4L80tDdJVLe3u/1bDNK5qVDtG4QM0LfBZDmixb5OVvaQChsTQnhowvfu4O/a94Lq7ijKk4tF3+z/238Ez/RU5GY1aiORrPRybnedqc5OHBDT5QPMCkFn8pgKuTFd60eYXn9jdkb48s1ivmsxQTWaoywkQOFTt07MiymrXenJ2jPiryEDcSzPQrnNPYpoM5iJbiY8YJplZU6450x0jneCod5KpRdG/KQUJXcv01PenqTA4k+yxzLCHSqu1gU0s7IpfI2KNFx5tLVGuvJJ+RZCwBQpMdNyAA9G5J4Ff1F8bMkEyPmxFcDNbrpSGqixVVT2Fjg7bih2UzI7rdg5pqGMmhrP38Nj1D3dHE3i2bGkD0aYsuVsn6O+p+1JZgRC8Zz1px9OKULL8yqnbER+J9pRuPmdW4TiQL6uFENuo4XhpA60hJVtD+F+Xjz4NlBrDfkwVYKbzWuG4swm6j0YlMRNE1bUNNu0D7tmlsMde4kWyC121ndyJB98J6RyaqKJSRwHvZKFfJRlYPWZZ9FzOhxUDWE00W6Q9wtn0vRw1UGqU9VR6jjKf0atkUkucJWnnmTYJDsV90RVsW91mJ5+xUfTqm5lq+yloy43Y54M9v/i5X6nU+OT1H38jmvm6mvFCe4Hq9yoVkh1v1Cvcl23xg+hAb8YS3DZ/i0+1EkEzXPJbfy2Y0oatLHkhv8Yn8PGlSo3GcT3e5XG5w1GTcViPmLiG3MdNW4X+2e8jtashaNONmMWLWJETKESlH34jtzNzJWLRb5Yi/uPHb7Ns+PV3yquwGz5YnMXjWoikfnt/Lw51r7NuaC8kOI91h1Mb6ce4l+CsrfK8jX7elX5UkSx3g0gtwOmsbRKxs2MagtMatD3n8y/7P5fX0lZlc1x8uDT0Vc6npsmdFszdxGS/ONomVFU2drvjgwf1o5ViN59wqhwyjkiv5GhdHuxQ25t7eHtfzFQob8dDgNic7E7bLAR1T8yUr1zgRH/FsvsVB3aVjJHlgcHxkeoGvHD7LxWQbEB/ZgS5YM1MGpuB8ssPp1QOeK06yV/cYaMkAyiQYMQQ3ODaTCaeSQ25WK1yr1jgVHzK23aV2FOB3ju7j8nRtaQOzW/SItON2PiBSjm5coXqeW4dDbKM5nHdweYSKJfOiEod3rQ6wMG3AJqVgl7QHLyf7vMlbHTWi1V9MV1ropiWwl8+eKcVHNV9trbP8wirGt84FbQLLQLNiSCbSh+A6etmwEU8bmq4hmlvqQSwB5OLgO6upBwnEWlwDYiPXkAXX2lypWhomta/FOWOh1fJeGtzqRq6v0raek3q5Lvm6EauYO+COSsAqiqXTqa1Dq8kMn6W4RJzzo2nVLtoOXUlbdHpgqUcx8UQsYmgHpi9OvHXbVg2SJcg3kzarpqh6eummD/JGea2WYvbFBuiVlK7swtnbtvP/KmkMkRmonmTclspiltpDceWXTGD3lmRi8q32NBJ7yjVPue5pehIoZjuKdE/E/WauiQq1FIvaUYOu5XSeHrQmrVYuZNe3qI6F2NM9NRUvuXGC61uSUcn6+pQ4bcjzhGqccnlb2v3zWUrTGMYHPY7KjA/fPsdaOuew6vCJvdMc1RnPTE/wyckZXje8wTOzLW41I74qq7g37jN1BVN3Z80W8UTJe6wU0WEhUz6SiOhgjhpLdlE17bisWtzzVdnOUo3l2jCziv3X3dHT4Eoz5XfKDr8yexVGOf706FMkyvKx/AJfPfg0u1WPSZ1xsxjxH648wqRMiZTjy85eZjWdE2vHuO5wYfWAKHLkeUKRJyRpw4Mnd9DGUc6Oy2Cz7R7jPKMqI3ypGYxyCdKqCHuUYHsWF3ux4Fit8LEY8EbtkHLViPh/MbO32Fh450G56tu6gSxcNm3NydsSL77V/dVy3SWHajkhItvzRLn8WXQIVyP5TLmY5efLG0WxorCtBsYZuW9UOJKpGKOLObRbzqF1Rsyfe7dryeq1pUlon1Mpna0Ll/y6qxlcLZdZ82RSY4o22+dkVJrJbRu0im2CKcQX0Mxq0c44yUw2XYMuLWbWykrawwSRLKh2kMqh02jRWi0Oom3ZTcXRHU8C8XWz7PpVWqMOjlDOtU1PDl01mHkjk0xy8fxStu0YLI6zl7oWmYu24vXXZLq1+lGtTrrN8C1LwcfznWW6gV+OsjKFWkpTFq+zbfWD1arFpZ6m5yT468ghxVstvpVaysD9XsHDZ24y6hTMmoTUNKxlcx5Zv8EgKnlutsm47uC84t7uLm/pP89mMuXx4iwnoiNOp9KZW/mImUt5VXaT2hs+MT/PwORYFBvxhNLFPF2eYisWDZhM7rD858n9DEyBwdPVJWtmtjSKNsrxQOc2sW64P7vNmfSQi51d7u3ukuqaRDfcrCTrd7ozZhAXXOjucSI54lRyyEY05VY54mJnh33b51Yz4nfn93O1WpcmlOhIdG6NHEAfTvaw/ngrnNapdLTHbSDXzrtf6Jl9K3eitYUhjlHdDmph0xEdX4fl5meeBPKWFDZMzaviMQ8lUhofGSnN71R9LucbTG3GSpJzLtvnRHzE04dbpLrmVDrmns4BzituFkMOqw6juOCF2QYdXdEzFZfnaxzUXT45PYvBcSKZAHB5vsZh6zi/0wy4Wq/zQiWm+HOXcjIaM7EZH5tf4Ea9ilGOYSSyojd3n6d0EXOXsGkkgN+IJ9TecDbZp26rTGPbYSs+WlrBnE7H3D/Y5VQmWcpuVKGV56jIOCg6jEvJSqz056yNZsTGYnq1NN6lFo5iSZTMDD522JUGvJJst/EyFWzRGKLabmC10NqydEKI5h5TyCF24btpE0X3tnyITO2XnsNN1k41M6pNLkmyaaHlU07srGznOF7R9fFABBcpbDeSSoamXbvc8mBnZjU6b9BlI9ZpSes3aqU07LU+PnR4L1WzRSe60rx0/NudlIDvTAPonVzwi8U3S1HeEx+VuDTGdmMphTiWptCLWaAA0dwSTWriaUM8sVQDeTqLbKBNZTOK54545sSSRat25JssnnVPkY0dppauRheLf9ZiEHSx0pac2gHQUe4pR+JrJsGfak/lamkIWa6o5Ygs1bQ6qaTVBc7bU33sqUZQD0W/I4uzoty0yxZ0PTXi89a1SzPXeDcSLZlTJJn4n2nt8LVGddtOH+XZvT2k3O/grSJdKfBe0c1K+sMcY+SC3Zv0xC1dW/ImphvXrCQ546pDz1Q83LlG7TVP5af5ZGX5eFny4bJL4S21vwPhaKkk+9I2dOijXDJ7SsmFGkdLzZRv50T7rB2lVS4mKzhsdmd6xHuiPtfrVR5Kb3K9XuO58iTPlVtcL1f4Z7ffymHZ4VQ2ZiOdcu/KHhvdGY3X3M4HPLu3ye60x4euXuDq4QoXN/ZwtaapDXHccOVwRV5n5fGNxlUGM6ip6gh/kBCNI7GNmcb4eVu+ODREc028H+ErjZ4bmr6VaRAbEvQo106YacsOtuNxsUyViWdSGlReNvt4ylLvEs2PLZCaHsuuN5tII5RoTuS6Sya+nSXrl81LUeHJ9qVrLd/Qy3nDcS4ZdK9EChHljqovB61FeWNR1iyHIuUwhW9n3LYzNC2kuxXJYdXaL0nm0CWSzbOZpukYbCZBnSnEOFk0f6L7sx1DvZJiM4Nq/LIxrOlG2H5CPUza7jmDTQ31KJVSSq8j11o7J9PXDd5a0QK+tDrxebIwgvZVLX6AmZT4pAFFy4Gm1TguOgAXQvC6p9vMg2pnAB8PkF+I0uV+7WM5ed8WfmUStItGWqwmaEvKrf6pDQBdOwJLsiGyPi1cCfw8ws0jdCIdQt4p+t2CNG7YzXvUTuO8YiubsNURjV1uYzqmxnnFftXjmdkJ3j9+DVp5ShfzbLnF+XSXrWjMl2aXybQ0dZyMxjzcucqD8TaHtsdbOs/zhs4lACofcb1eJVOSbXvr8Bl6uuSj+QVqH/FQeoNP5ud4ujy1DCQ2owk7zYCN6Ij9ttxStp1RR02Hm/MhF7JdNpMpma756NE9OK94vtjkYkc0hdvNgE/np7lSrhEry9ylVN5wudrgoc5NKm/4z8UZVsyc32zPxZd212SM6WLiQlktgz+ldbvvyUbvmwY/n+PL8th6KC9abWBDNfrMRbbfKiJ+eXY/n6g2KLyh9hFPzM5wKhnz5sGLDKOc88kup9NDnpye5oV8k7VsxlHTYa/u8eTRScZVh6Oqg1Z+2eF7NV8ltzFnskOc1xjl6Ucl29WArfiIQVTS0RVn0wNiZenpkoOmx6nkkIvpba7W63xZ7zleld1kblM+cXSWqU0Z6oIXKmnSORUfsGNldvRuPeBmtcKFZIdXZzfIVM2J+Ijdps92OeBMKp6NR01KqhtuFwPGVYfDosNWf8KJ3lR+zlTe36qdD54kDd1RjquNNEWVGoYNaNBHEbpq9X+VIsoVupKOYBcf22Q1PZZG0TKCTWEzOQxHc1hMWVo2hai2cbRtKtXtGFuZdCWypoV7iVjERMus/qIpzGbtetAaO9vMYGq39A91qcFFrVekB14iJZAmNtr/azWoi8NEe20ttc1NfcfZP7jDANA7cdv3izElLzklLR/ASgdMPWjND9vFcr6VUA8jyvWUci3GZlqE5u2s0HjaLMdHiU5JhOp+EeFDOxtYmj5kjh9tI0kb2CnobTvpXOxp4lzGLi3GujS91nA3FgF8lPulFcbicZSHaNpG+G27uG9HapVrrk0Ty7+jqUKVinLdyumj69AnCvTcUA8czchSr1rMTKMLLaXI2DG9PkQVGmU8yaikKmKoNJ2NOcNhjlLQ7ZY01jCfpxjjGK3O6HdKXrNxmyd2TvHgaJv1bMbN+ZDGab51/ePs2T7TOuXSfJ2PFBeo0Lzv6GGerjvEynzGjrTPBplC0BpZrnbxqQjyVVHJRdxmSNBazJ+VQs0K2aQjA3WD7adE88/v8vvI4uQNrEdT3nf0ME/OTzMycwoXk+qGeZNwojMh0o79qkdlIzJTsz/rclRmnB4e0Ulq7tvcJS9jZnWCiR2+MBRFzDAraRojp9CjCF8YbNsEolYr0cKNI3BgZuJLZTueZtBmz+Yy71fVGtvx6LJthCihWG993GqIj7SU7WLJENpEGo2qFclCm0KurcX4NtN2tHsj2W5dQ2fbERWiYdVVm0lS0vVrCo8u5ecsDjbRXAKvRZkZ2q63NgtuapZZymTiRCTtj5upmq6m6muqYSxBigYfa4oTKdl+1XbkWbo3cvHHQhbVph2TZjOxTEj2K9L9shVLt6UThWysWvz0TO2Om0laA2hdWeJxidk9Qs1ycSMoS1xeoLP0OPAz5s5tYNpuTpVlYsEQGQkIlELVUtZxkW5H2Glcolr7K08ysbjWBNa3007EIFbeu3jmlhuW1xKAy7hLliWrpifWPTYVzaeuJQCU90ex7NPwIgvwWg6ktudEK2Uk2IwTmVjjnCYvk6V9SllH7E57PHmwxbju8LG9M2jliZQjMzWN1wwjiUhPJWPOJvs4r7lRr+DQyxGLz7WNAnOXcqlZZ91MuWWHWBTfPvgkpq2ZnY4P6KmKt2XbdFVJqmseSG/xn+cPsBrNOB0f0jcFmap5sdzkYrLD13Uv8c2jj7MRTXh08CKxssxswnec/DiZqvlT/WcA6EcVzxcnWI3mvK33FP+P/hHf2ruCwdHVsmacTcTcuHQx+1aCjgvxLvu2z416lX8/69PUkbzGVS2Bv3NysF0kO7wXacFLN2/v5bprGvm+WkbCRflnPuS+NWskE4nl2eoktvVe1MrxVH6K2+WQG/UqI5NzJjvkdjnEec31+QjnxfVhEBcMEzG8XkvmdEzN6c6YC909VuM5M5twPtuTjuJImuFW4jmHdZeDpsvcJVyr1khVw0HT44OTB9ltxFpmzUy5mG7zJcNrpLrhqfIUV8p17kn3WI+m7DRDZi7lVHLIPeke1+tVAJ7IZS7wrXLIICp47PACl+drzJuE52abHBaSdV3Jcmorn81ZFRMbi/eKTiJ6wKY2lEUiyaNIhi54q0DLgdRHrawEyf5J566sczJG0i+z6otDmDRU+eOg0IHJJYP40pnoNpGmUtHr+aUm13ZM61rRNqpVi+YACQp9dCxzMaWV6UVtckk3bam3NZB3kZYGj0hLNc212cHaivavsVJ5qBsoS+n+tYuEm5N1TR2Xgz9f7qwEHEfg3XFU2kllOPJcNgEzr1F1awC7W6HbKDiaW1kcW52erv3ylJyMRShpE02T6mW6VltptlCepW7Gq0U5a6Hzc61RI5RDtbwYQIK5YkVGly3KvSY/FleLV9Dx4pvt+1bLJ9/v4jYLOIPOLXHfjydadF1GUsf1SDp+fMdh+xZVatztbKkX0IXYNXCqwK9WrA1nUBqiI43PHEp7jJELXXUbLm7sUVQxVRmRRJbJUYcospweHrHRnzEvY27nAy6s7HMzH3FUZYySnEfXr/BEfpbtesg9vQO+cvU5EtXwbHWSt/SfW+pQDl3EzWbKwecwLN16R/eWwsyk69fsTUXjl0Ri+6K1bMhGo8q67fytZBJIUcmG7T06bxi88Llfc9a75Uinm82Ur0j3WY1nPHN0gmeKk3xV/ym5xpSlchEjk1PYCIfidcMbvHbzFnkdcX08Yv+gx9XDFXlvlMdZCdLctS5HRUp1lLJ54ghzqn19HFRlhJvGS/NdH3vsqBFPqlKR7LUyhbnGx6LTU60MoF6xVEMR5rtEuoWVlQ425eUaVE70XovbolmbqZvJArco85pCRhfqxlMNlfhaWrEoSsdOZBNRa3O0mGvpIdt3cp0natkgsui8d5Falia9Fv1gNTRior6YsR1LYNa7XS+zWDbVzLcSTOFoOhEukik/TS8WG5S2nJnt1SRHDbrxlOuSwXPp8eJl07Zjtu2CKzZiOf1XYgRNa7egSxFX+zjC9zoyocGYZbPG0h4BcPM7m4KzsPGQcV9ieUQinb5+kQn0tBpXKZnrUgJYF0tGNZnal8w0FwN7OXiqpWTF1BKYL0rqug3u46NjbaFqKxGo43+LZ6nHZl6qFaVUR2jlBzQiK6jmyXEW0Ct2DvtsH/YZZiWRsZwfHlA0MZudGbqtK28mU5xXbCYTjuqMT01PM3MpE5txOj4kVhatPDfqFbbiMet6RqwssWo4chkDXTDQBf9p+losms3oiH3bZ8/12HGeh5IDXpdd5Xq9Su0iurricrnBVjQm0zVdXXGjXuVX5hcYqpI3dV7kRrXKieSINwyusBlNmLuUQ9vl/vQ2SduM8GdGH1muEaumyz2p6NGuVWt8Oj/D+w9fw61yRO0idpohl2oxMv7vBgd8R28qb3csGRmVpXJdLbJ68HLvtUX1S4u+S2WZWBJFItBPxp+5C/0X5kOeLk/xGxMxBtxthgBcTLYpXcRWesRu3We/6XFPuscbhlf4kpVrS7uv1w2us5rkbKUTtrIJK/EcrTypbihdhMbzQHebZ2YyXWVgCqzXHDXZ0vfvfLKL9Zob5Qpnk32+avA0q9GM35k9wMfyC1TecD7ZZRTNGeiCrqkYmIK9ps/vHN3H3CU4rxjbDg4t75mRhg/nRZ9+b2+PVw9uUbkIrTyduBYXiahiP+9yWHQYtvZn+0eiQQXQxkmiPHEQeXSvXurlbd/hIzns6HbGuu34Y+s25HCk2ipHcthmb72UhRd+vsqztM2KcjngLhrjdNPqBGu/TPjI4VWLfK1dM1X7HqvFNQOiYVZqKWcRSYvG9mJcYogmlVQvjMZFxxUDH2mplpk2IGzlJ6rTaedPx0tJi3deMtF3aHR/ZyVg53mp876a5eijuWz0pXTxySipiKYfywlfy4uIh/SwlijaS/08nraLdiwp0rjVFAE0bSZByorS4SuGjjKWaiHhiBYBYy11e6/Fwycde5KptH/LXGDZLL2CYkMtT9ZLbY1Fymi+LcVpiOetWDtblH49cSu+lnZzceLvXI6JJgbfbyQL5MUfULo9PW4vBa84mHRR3UZOK0cGO43b4e0epT03joasDWYSGGpHb1DQ65RcH4+4PelTljFGOWZ1yvasz7jM6EY1tTc8MTnNU9OTpLrhV3Zew28dPsh98TZzly7fvkeSjIlX3LISWJX+D7fMMEoChIUNBkmMmhfoo7mcaNJYyr1ayxi4SSEHgyReZv8AzP4RW79+m/t/47s+68vtSjPlSjPnk1XBe45O8J+L06wa6Tq7f7DDqeSQZ6uTOK/4thOfoGNqnpyeYns+4FRnzHuvPMzj26c4Pzqgk9S86eJl6saQJA2Xbq7jpjFEDrvasN6bkwxLZkVCPZUFP+o2uKP4uPvXSvZPH7VlHicbtHLgY48uZGYrGpJ9g86l9KoaydxEc1mI6r4sXi5tFwLTji7KJdvs22vOdiRrbXKoB1Lys6kiOTrW/nkFk7Pi3WdjeZxqoMTgXMvCNrgutivp2LYG0mo57sjFci2nY0d2YNvsFe2BSTL8TVdjU9127MsBTjnp8pfOXo+u5PrIdms5RS/KnX1DNYqIJ42MZMpEQ2MzOZxJtk9+fve2eP01vWg5lk5O1HLIVI2VgMw70WC1Nh26/ftO/LGWLH7GIqisaqgbMW+F4xJSO8bJlIvStabu6mVD2kLCsvQJW9jGtX6AwLJhTTXHD++j4xJWNWRZsfBt84euIdmXxS851NL1a2VWKoDqN6iOxVuFbzS2iIgiizFeGlq1496VfW7NJACpnKEfVVyfj8hdwvnuPl1T4lqpyc1qha34aOnPBzDQBWfiA7RyZLqiaNOSjxfnMEjZeO4Sah9xaLsULuHBuEemFFfrdWpveLhzlRPREW/oXuJMfEDlDY92X+CB9BYAz9Qn+FB+H1ObMjI5Wjlqb4iV5Yn8LDfqVb60d4XXda/yeHn6ZW/hWzov8B0rH+HhzjX26h5fNXqG//X0b/Mtw0/wQHKLP9cf8w3dY5uNi6d2aTK1tH1Z6rCiSCbOtNeFr2sJ/NpyL1F0PCO4afBFSfTUFR79+3+Dd+89wH+cH3fgfUdvytf3P8VDnRvsN2KcXLYB6SKQe2PvEo/2XuCvjW7wfWsv8GB2i7esvIhWjufmJ9hKRWcXa8uH9+9hLZlxWHc4mY75it6z/Kn+07xp+CKv7VyjqytG0Zw3D17kns4+X9q7jMHzjcNP8Ej/qmRVXcqFeId+Gyx+aXaNFTOnqyteLDe5P73NQOfcbkZ8zegpShdj2xDidj3ig5MHmNqMSS3efrtln8cPT/OJw7Oc7R7SOM28jjHacVB0OTc8INKO1DRYp9lcmeK9Wpo/u9Lgq1YWlrdrrAW0RxeaaKbl4OMUulbEU1kf5DAlnx1TSWIHRJoStT0AC/0yyP1N7VvbrFa/n6ilKf1ioo9IvWQ9qgdysLWpxsVSAVhk/2yrbdZ1a3m10P3lDdGsXtq86LIRLWBlxR7NH8vjiFqjeeckA+3dK8Za+jb+upNGtzsrAdeV6G3qBqUUvpvhWw2Y6yfU/YhqRRYDXUkpR9dS3o2nDTpvRDSpFt6AYiyrvMdmMjw+mR57hNl2gXQGZic1zkiEblMJCBclZPeSjKiLZW6q1zL9o1iTLmCbtJqaVlQftzM3XSybaN1XxzOAO6Bq+XrhG+gM6FpRDaWzM8oh3W+zjhHYjkMVBtuzbSnH06w26LUKvV7iK01dRmLhkErZUHcb/CwiSsUA8+D6iBs31ohjS912/1RNRF0bBlnJvVt7TKqUyhmcV0yLlA+9eC9Pjbc4mR2xk/fZiCcUVk6Ut+yIL0mv86lKyga1tzwY93h10uVnppukKv6s3ndTgEtjqGpUXkrJYzEloREBq+8k7ebspTQcR6INTBMRVVc1qm647yccX/Pdf4Uv/399z+/7eHNX8aHCck/U59l6lR3bY81M+bbeASAL/AOdbQye3zmUTeLnbr0RgNv5gNP9MTfzEa9a26GflTy9c4JOXPPM3ibDbkHTGEajOarX0BsV6NRy80A2xPm4HQ2Tio2G6jXLsppkYRRqq0RvFthMMoIeOQzYgZPrxUkGTzVtU0bmiceK/IRo/UyhiMciapbyhlxrtsNyAo0u22x26ymXHsrtcTvb17Vd7LqGzp6T0W4dRbbvlqPf0qM2Q94atNc9vezUbTqtCXWx+HmKuq9pOmppaKrbbu66KxraaiWS0Y91e+hqvBz2OoZiM8VmGtvRrT2JJ5o16MrLyDStcKnMBlfOi36wdvJnMR6pFimByS0+bucBa4UdJjSrHVmYG4sa9CEv8EW5PBGr1jpBde6w03whtrb2uPynRP6Abhfxxdr1EkPoxcEUaC1h5DVsUtX6APrlJqS8WFXVPbVsSPO6nffcGtnqSq6heMZScmITyXws50cnHl3KhCIfefRcy2Zay+bkG4XS0v1rG00U2WUX8DAt2C+61M5IZ2fniMOqw33ZNl1d8fDgBm9feZKjJqOrS84nu9yoV3hteo1zyR57ts+leoOeqqi94dB2cV4vS7vn4n1el97kXLzHhXgXgGfrDutGZCgT1+HQdqm8oacqmRdsZjxZnOGZ4hQvlid4XXaVVDc8m2/x9Pwke7bPA+ktWeNcTOUjrrRjyV7K/bHnVjPiciVjId/Ru0mqYnZsj3Uze8X9/+HFfyuJh9bQHmulAWiZfXFyfS1Kb1GEaqUHvqwkSKwbcGIFs/UfX+Q3/p+P8nf/xX//ssfJlGVse3xL/1N89/Aq37ryMTIt1/5GPGHiMl6X7C7v/5bsMnOX0Dcl6/GMU8mYE/GEB7u3WEsl0/3lw+c5HR9iUXxVBt+zcp0LsTTPLMrgbx9+igfjbXq65MnyDAbHG1Kx1pm4DgNd8HDnKjEOi+Kg6XE22edcvMfVep1MNZyOD5ajAS8mO9ybynjSW+WQQVyymUwoXUQ/LsmimtPpId2o4t7hPkY7lPJULmJWJUyrlNk8ZVKkTPKUyMj/m8yiMwtOoecGM47wfYvKjfQAxL4t8fplAki0zHJQWhykFn6AosMF2xG52GJimI2Pxy422fFgiYV7wsJBIZqLhlo0hNIR7KNW9+s98ZG8d/G8kcxf4zB5Da18RVkvWnnvoXHS6LFYT7JWRmUtaMR0/iWHjUWybXkAQUq/SqsvnhG0iiW4U0mCtw41mYkRsLXovJYmj7kVm4iOXrpj170Il2iqtYxqKJNDbKpxiRaPsWbxwjuaTFOOJJOYTKWsEc9lE8v25AWvu5LBmJ00S3uFzr5obaqBePwtZp+aQoI7F0uZN5l40kO3LMvEE1lQpQtTPvDxFNLDtizW89K9aaVbU4ZDy0Kdn/Ct9ctxalr1GgkYu1KvsVPZmPTc4HJpFlBO4bsW32hIHPV+RpJYelszqBXFNME5TaQdvbTCGMdRnnGqO2a9M2ezM6WxmshYRsMZ/bjksZ17UMoztRkXB3tcydeovOHp+gSXmlV+I9f8ep5xYOd8upI5ny/lxfoz6wOfqWckU4+yFrfSkzT26pCFPQaALqpjUWtkRDe1eyDXRiuo9q3LOUjwv9gsPxO7rqKra8Yu5w3pIZ/Iz5Oo40aWX56+lo9O7uENnRfpRSWzJuWNq1d4frzBKMl5/fAqmal5en+TaZGy3hcrl9oaZmWCMY5ZnnJi44i13hxXSlbQGIdOLHrSGjgbh88j6eSuNbbbioLzdqrLSiP2P33X2hF5XOqo1+T3TA5b495KNH4LXzcfySFCuTbbl3jJ7mVy0Ijbt2JxnQGiX2n1gdWwbapqZ/96JRls186+FO2ZXP/VQII6Z6SEnB06bCxWMJ29NjAzannY6uxKlm9RAjGlJzuwrSh6Ubb10ulb+OVhzlTiabVoFqlWIppBjEtlwfSRWo5KarqGepiIKwDg0oh43pbbPNT9CBtrsu1S/EVvTYhvTeRQMejip3MZwdVq/nyrP8WYO84CLhtKjHgS+qpGlaJ1VW0ZZ/E8dSXTUSSwe4keun3tdOWXZSYbH2cYVCs817VkKGxrbZHt+Xajk05wXUrDiG6lKcodT5OR5iCpSsghVeG2StwshlrLVJDWzshbhYkcSWRZz2ac6x0QKYvzinkd8/j4NDOb8EB/mxfLTa6U62zXAz4yu5cz6WFbdpUy344dcsaM2W/6vDW7zqHrstMMKXzCpWKdrfiQRDW8JrlFt00DP16e5d9MRxg8GseKmfOp+RliZUmU5dBJl+qtZoBWjlE051R8QIJlLRLz5wc622Sq5shlnIv3AXhidoaRyTlynWU1o/Q1z9WKTNW8oXOJ3XrANSv/90A85pYdvuI9/+8/8ZfIxgsNlozd8otgUCu5DqyTgLBpJPCrjnXJOLuckiVzpC1qXtK/8nJ9/H1Rh9v1kDVjiJXh7R3Lc8UWp5IxA52LIXR0PKru0CV82/Dj9E3JKMrFn1HXfHp2iq9afUaaPHTB69Lr7Nk+H2/NgweqJlENj6RX6emSnWbIb8xfxZ7tcy7eY2ByzkUao5xkaH3MyWhMjaanKsaNeDru2b7Y5ZgZvzR+BI3ndj3i0HZ5pjgFwKTOiJTjxfk6hY04392nY2ou5+uk2jKtU870x0TasZd3KRvDwazDoFcwn6fks5TZLPv/E/enMbdua3oWdo3mbWb/9avba++1u9Ps07uqXFVUuSG2bMsilpAMhIBIFCkKEhJSEEQI8SdSFPETCSWCRCQRESFYQEwCGNtFGbtcdtU5rtPUqdPss/u99uq+frZvN5r8eMb7znVs88O1LTGlpbX3+pr1rTnHHOMZz3Pf1z0Y8EJrwAYxUo7E2R7zQMgjplVoJ1O3bAsD8qWXtniS/rm/9Mp70VRy+dJOJijZbp+Pnm3DkKdu2uRByPpxcurWq0Qr0Qlmr6QzGHI5J3wm+5ub5hJZ2QZ0l3B3oyzJVwQlFbN07sYoLN0Ego5GD5fNocsXg2RNK/1zBpDPMwb+fB1A1w2i67iTTfhl550bCwOwuGlxpTjidCtixx5Yi0726Uaqa7Q4BX2hcRMzVPZZAjFGLeOU8iZQnWb4TA2ZvsUqkq9Cas3u3T62Foag8tC7KsubdHtAxsZ95Es/grFJH5htGDqIppGNtY+caQ6TfmAjo74+t7UXcAPErSVkoLeG7NqQn1vi85Kw6MjmDarT6Fqhci+Gg6UFJciREBR64sBpdrXoLTqvKfOOze2I7z1/hcplfHn2nLuzNa8fXHM62TLLGr5x/JSr3YR3N3f4eHPEdSNRQm9kl/xg9xo/a+/yKLvlr1f3+Cubr/JRc8p/vD7mr+0yfq8RZEwTO7rof04j+H++/BOU17KhmcsVschRdSO8ov5XSgPpRazKpxtzkTOAVK0ZbjYqCij333rx9X/oOnvVTrn2Y5bB819s3mZqan6xuGasc5rY8bg+IteOKz/lF2afCLC0G7OsSnLtWfuSiW1ZriYUmWPbZozLhi+enDMt96OfUdZxvpyST1u2m/24RgXASTwRhRe+W3r4iSd/IfnAqjIykmgl9k21iuLCYG8s21c8bholorCD4kY0g9qnwnArWi7dSUewH+cKfDzujSIeolUD9sWXoufrc4BlXUqOZXEtznjt9sWkaGoZsjBVkE6hCrC9a6Xg3ImW1TRhWMt919BW4uSvDw09aqHnPIL8rNpLIZRtBfXUSz6Ujyk5Jo2jvTiVo05GCavQjceXlm5s8SOLLy35qiO/EXeWqro0YShk7dyswLkBwRE793PamFDvX98/1CMG2YBjGDZhfBgwRyE3uJFJTD5FNzeDrCVq6bIKpzTSzmVT0GncVKw8+TqkjgMD0FskI6n720C2kr1JcDCkPU3g3URw017/J12MmEXMVsNtJt8sAhOHMhFjE4InKLQOvHd9wu9f3cdFI1FrVgxUO5ez8zmXzZStK1h3JWtXolVAK4mPe704J1OO7zcPKXTHe24qXSRf8qQ95M8f/IBSdfio+U79Kn+7esiBrjgyGz5qzvigO8OowOPuiHv5kqfdgXQX7Q137S3vNvd5XB9x0014Mz/nNzfv8KKb81p5zafNEZ+1R1y4OaVuMSqwdiWfNkfctbf8bpPRxI7vNZq/vn2Hv776Kn9j82U2vuA/uPxj/Fsvvs5/svwWv73+An9psximIt9uOtarEbqJQ660KnLZr4wRLVaRp4P4pdGbtbJOujZxALUEJGiFMoL0KFaBf/XpLw1f8v3W8XpxwWfp/Pr3bx9w0c6ok9P51Kx/bil20fBee8bM1CzMjvNuzmU35bXymlO75o3inOduQYiKOmR87I75j1YnfLd5yNqP+K9W3+TCSSjAqV1zYLY8dwfMdU2hMt5NySMT3fD9+jW+X7/CE3fIV8ZP6KLh93av83F7Sqk7DrMtpe540c550S3Y+ZyH4xseja/ItB8MKY+rQ86KNVuXs00g6JtmzKYVHmvTZExKKZ7LskOpSF50NE2GX+XQaHAa1Wh0pbFLIzrXpG31ZaSbpl+zZOJUvYZZLlLaJR20k8uySfGKNhWCEsmYtIQJHVfcugR0TvsgDHtytpJEI90Fgund/ckxHBN5waYUkBBFLhIiupELth+lRBkfwAX0thGShpcJQxhl+7WV5AXRBzEkJcnLoAEM8XOZQD4XCBqlCXWDzgNqOpE2pdVSAFgJe0cp7KZj/LwRl4yP+AMrB0Ub8CnirU/uiFpwMTI6iglpEURf1AbZVBN82JWKyblje0eAss1MNEVuxCDi1J3EyuXbQLEKrF4zyeghHUnTSlwTSRAaNQMPrVukTbcV/Y1N+au2ilR3VApgl4O5dwr7MpIl7hs76TRqwRZJUaghFqK/6dZiM9adJiwzso2mO/LoaUd0Wm5BEVThadc547LlYFTz+OKQrHR0neHJzYLf4XUmWcNlNeX+ZMmz3ZxlU7KpCl4UM75y8Jzn9YwX1Yy/uvkKn9TCFPx+c5+f1fc4sWveKZ/wd7dv8R33Ov/r49/i/7K8z4HZ8ii75BfyfTHkgqE50Ey9mH/0rpaczBAlD1qLOF/VKTpLG6KKMC6FdL6YpuIwEdO1Gl6HHvbaP/7aLuPPjDv+w+Vd/ubtF/jnTr9NrhyfNCf8ZnWff3a65DeqGWf5mr9z9Qa/Zb/IdTvhvBIn24PFEoD/8qOv8fbxBeWoTW4zS+MMP3x6n3uHKw4PbvnJ+w948uF9CRY/bmGT0QBhaylf26I+mMq4zUaiDag2mTyuxO1LVKhWijo3C5itJr9NTEgHKkqnppvFtE4YKPW+lItGeaXS+oPdg0B+q1PutNxwten1qZHmUEaz2SriF+mi00TahDXqNXfapyLNib6lmUun26SRYn1gBiOI7uR7dKM0Diks5Y0fisDBjZ9JEs/gqsu1uHPTRtg/moMsZdqmYswqsq3cmPuOmSrMoBfsxlaydDMlY5QuCP8vxQ26SRo51/JnqnMiKYiRsN3tuzBK0yeIfG4XMKSCMsjdsShSV1sQML4UQLZyUvgGKx2ibOvpJpZ85YcuQpbGRn6ksY1MPYipy2AY0D4qdXqVQ/S/zT6ZCBL2pUmygPT5oQA399ilITpFzCJ2p/FBCXAeiEHRrnOyiRy0y/WY+bTCqMh1NabqLJMcvrx4wdNqztQ0PPaHWO25U6x4UNywdGM+bBac5Ws8mkl+QRstE93w11Zf4062Ij1TPHcHw2Th2+s3eW10KciYqPly+YSA5kl3yDvlEx63xyzMlnUo+W71iLt2yVg3zG3N2DQ87o6ZmZr7+Q23fjww5ja+4ElzKF2xrOK6nfD71atMTU0dnvDb2y9wL7vlt9Zv88b0EhcMSz/iS5Pn/Gx7h4Nsx8/qe/z+7lX+zZPvsA4TtA2ybzkn54RJ4vymkYuGD9LlExElKsuGj8ubOzVBUneQ8Vj2xBj57z97i+7e7/B+1/Cd6m0+ak759vp1MhW47UbcKVaMTcMPdw+pY84vFE8B+M83c763e43Xiws+ro85y9d8a/wxF27OD7ev8G3/BgD38ltuw4hLN2fpJ1y6Kd8af8I1U47slqUfsfQjCr2HQv+5ccMzVzE1NWPdoAl8XJ/g0Zxkax5m1yxMRRMyPm1Es/l28YI2GulgWmE39trzkemYmHZICLluJQUEGNaGC5rSuhS7qak7S13lKJP0f50WI1OrRfZSa0IRiEVA70xKNRIpjeDhGMxrMikRqL6biA46W+8NVr18Jxg1xGNqBz2k3Rd7aUx/ce31uWK008O0JmSa/LYl2jS9jOAmFt0FMa35iJ9kiYXsBQfTQ+59lPGw1UNIgkoJRwMIuiyEo2sEbB+9R2mF0kqKP60+Vwfw8xWAJMF1JkBosb6PiWmDLK47QiYbt609BKjuFGQbjx9p8ls/mEKybeoMJgGlJB7ogQcWX75sVSG9iJrdiZWIpQyKdUz4Fhlh5ZtIdbR39LhCMX0acIWiOVTooGinckj2MOnmMKUwAPla9H/b+6LV8iOYfYQsmEaSQrKNwo2kA+LzpAnz0M09utHYVARma0V9EiSzsPDQaSbHO7bnE7pDR3YlCRIEiMtcxNwHkbCzqJHHjh3Lzxbcqjlq4oiNYX624bXDG1ZNyVcPnvLB9QnrJidGxdl0gw+aXzz+lMt2ymtjGZP8sfHPWLoxSz/iO5s3+IXJx/xB9QqfNsc8KG74tcnPuG/ikAN6v3yCUTKG+Fs1vL8+SW1wOZR7nULUvSMyHbytdGpU56BzMqrTIorX2wZ8wJ8t+Kv/xX80vK7/7/UhAB90G36reoMjs+GD7oavFE/48w/e5zoYvr19k9eLC279hP9wOWIXCs7bGX/69Kf8lRdfwahAaRyPN4f4oFk2JV85e86Pzu9yNNkxsh0fXs8pyo52l/E0LJhNK+anG1bdDFNpMBGz1HSFAa9wnRH95k4OVxU0ptK40iXzRhATzyQAmiyN5bKNXBzawzCYhXwu6011Ugz27tHmkJ9L9ygu9dDZFrRLROWylkiII5+BGivqMxFCd1NFNxPXW+8YbhZ6QB80M7lk+fR9fCE6V9PKZapYBfn8OlIdaRFMWyA5fcXwEXATI2w6Q7r5KtzUDAkfPe+u1+6qGOlZoD5TlJct1Z1CHLPp+xVXLcVlRXs0EsyC0eiA3JbTRmq6QMgMZlWjmkgsc9S2kslDwrUMY99/HAgYkGKy/z7pe0drUFULZSYw2FK6oW5kh0lGN7FDCo7yEPN+KqAGnbJcehMip1RDZ1b2EXnuddcH2DMgY4TLyDAetjtFcGKO8aMgpIGg8HnqcLRiDsErskkHKjIZNaIn9obCVsyyhqUpqZ3ls90Bd0YrXrRzZrbBqEgXDU+aQ06yjRRluiVETRctSz/iSXvIvfyWb5af8FdW3+CinXKWrZjohl0o+NX5+xyYLcd6y8/aO3y9uKCOVsDPBA7KHX97+0VJC1Edz92CA7PjJFtTqo46ZnyxeMo6jPjR7kEagTpWrgSNdKXsjstmSqE7btyEb/s3KZTjs/ZIkDbB0ATLUbalDhldFFnNvUzG2p+4yIWbEy5KsmUthR0Qq0rcvVkmZ5wxoMXsoawVkX6QzrB0i6No4gGs5Sf/xgPRdTmFqTP+j5df415+y4tuwXU7IdOeiW1ogmVkOna+IETFu7u7/NfZNT+uHxCi8BpP7YqROeX93Rlj3XLtJjQh41H5nI/rY540hyzdmJUrOcx23HRjfuP2K3xx/Jy1Lwc498Ls+Kg5pdAd327Oee7OuGtvuXBz1mHEn1v8Pu81dxPjUbPxJQtT8Wp+ybPukJUvCWjOmxkLUzE2DVn0PBzdcN1OuGwn7Nwhr4xvscrjosYFzW0zogua1lnWTrTsEdhtS7TxjMoO5/XAVlWt7MehDKhOpezdIKNhxIypHEMcXE87MCmPXTn2EZiddP4ke13+nygmUdHkxsEQJ8WdFH3RKuxWoM9upEXmoSTBSPko41yjsG3EjS26FS2zLwxGS1RkUArTeWJhBB9V2H1BGBCiQUoKUU6+v/JpTRlNbJIkJksmI6X3EXBqf+n+R318rgJQ90HsdUMsS9RC9BRhOiIWZijmss0+JDlYRTc1mDbSHGWii9n54dCINt2M+yo9U7RTLZ0IpBp3oyRqNtDNFKECNJhlGq0sRU8TUhFo2nRYBmgniey9lrGa3cVBDOrGcrDa3f4JtZVidC4RcaYScb7u5BA3tUrjYjm0Q9L/hQyylcFuJLPTVIpuIq3oaCG7zMRNfCC3nLv3b3jRnUhHceyJnSabNWxux9hZh9tmuCb51guJxVGtZrst+TAc88rBLX/r2VtMy4ZVVfLw4JYH4yUn5Zb31mfM84qfrO7y68cf8De3X+Kro8/4O+u3yJTnb6++wMPymh+uH9BFw2/fvMXu7Dv82cmPWYaCd7sFr1jPMlR8I4d5XrPySETS4VzeNJlBtR1hOkYvN9IJTMYgQNx0IYI16I24gvGBd/83P0/J/5/NbvAx8MiO2Zafctd4xsry7zz/43xl+oSxbrmX3fLt9RusupI/fvgzfrK7RxcMT5oDMu05KTd8sDxhUxd85fQ533v6Cg+mS8rMcVBWzLMad6Z5djvHFp5um3H7YsT4qWZsYfd6J3DnaRB5Qi1Cej1xmCuLH0XsRvA/ZmXQnRo0V6PPLG4iazAWkeosdWiS+QNg/EKlQ3u/abmpHNT5jaI5lv8eP5fv202E7yddRBnhdlM1oGCClTQau4s0R4rySsa+pk2j3RjJqkg10Zg6DizBvrjM1/vxrQr7UeT0mafrnaypYzdKCJeY4M9BCSbG1gHdys3Y54ZsG/Bp0xSQtLzXXs7VHhz/ebpNZxL/ZprUITQiDyHIqEe7gGoiIdN78XQIcsloOxiVUpxFyQDGOcjyz+WQGx4hSncxBNSoRHWOWBbouhMWqlX4wgz/1j7aTveyEh+wiHFGaXmebccAoEX1GIo99eDl7F+dtEj9hELiqvY8VBQQIVtL2lA0cpnoPxZLD06hak2nI8pE6ixjtyoZz2t80Lx/dcKduYwcl23Jq5NrSWvoSia24b31Ga+Mb+mi4Wvjx3zQ3GGsW/6geoUuGg7tllJ1lMoxMzXkcN7N+db4E7ahwBCY6ZpSOeam5mfdGXNdowl0GNZ+xFi3fFyf8KC44cZNeJhd00bLOpR00dBGy8f1CU2wnLczKp/zC7OPAfioOaXyGffKJZ9UJ9wtlpzYNR/UZ5xkG04Kwdtk2nPbyb7zlekzxrqVCLP8lt+pXudZd0DMAzFLXRjnoCj24vvUFRQ5QHp9lRIUUQz73Nad8Cm3v/YWH/7F/+DnltO/+vSXuJMtMSowMi233YinuwWvTq4JUWF0wCMF3399801O8zU7n/P3rl7lWbPgJN/QBMN316/ypclzRqblJ7t7+Ki4XyzJUvtqmp7n03zDX372DR5fHvBrjz7iS5Pn1DFjYSqetQt+3Dzg/foO/+Tsx6x1x9fyxzx3C47thlOz4q+svsE/Ofsx/+3y64R4zC9NP+LD5oxMO3598R4T3fC4O+K83espH5SSU/zZ7gCA23rEJGtRKtJ5w/F4i4+a56sZ07KhKFt2NyNcaylGHflRTXchBq6YJ0lFpsiuDSEXeL6pxf3by7YU0ijSQS7NbiTnbVeKYTNfxaFIzLYMbM3+Up5t5eNulJijzV6qZndRDMjdS/tZMmMpJ504VP+zSCMkWzUQI25UYnpdX9ojdMLj9QUhaWTcpxgNbEmdJFNGE7tOJC6A0i8hYF5KBflHfXzOLOAgb4i+3b2roMjRTYcrLWbnCIVJ+AnpBIwuOkE9JFcMgB9p0Vwk8bru4l4/7aG89bhSp2xMROeXK5xWjC4k8q1v1WbdvnoPJnX+Sph/2tFNpQitDtMIJnsJwZAOtZ7753NpLTcHctCaJt3AW5nzR51C11cyUnMTICZ+m1PYTkTZIZMAeN2B3WjhwR16zEbjPphibORqPBVjQemZLCo2N2NcY1Em4Fsp/NTOEPOIXllGr62p85yTwzW58dwbr3i2mmN0IDOem3rENGt4fXLFj9p7hKh5NL3mvJtx3Y55kh1wnG25aGccZDumpuZL0+cs3Yg/evARv7X6Ag+Prvmt3RcY65Z3sp/woRvzo+YVvvPu67xx2UFmRQyvZOHHskBvBAVDJeOFmI/3n+O9fKyVryUEPvqn/q//wJoySvO3avgjOVyHyE+7kspndNHwp8Y/47/ZfIXTfM2B3fEbV1/m9ckV761POch2dMHw6fqIcSYpBk+3C2KEZTNiW+dUIwE+f/z8mNG45fhgw/nlMW//x1vUTz8mfPkR7/0rmRyaWGg1YRxQQWM/LmnvdajK0B4HMJHRpxndRJy/bu5QIUsdm1QkTgLZRqfLjRzg3RhCEbEbGU0U19LNMa1cPkbPxf3pxpAvZQOKGkKpUkEga123YqhSAWjEtVteyHuoWMak9xNzB8D4PNBOVIo7kr8jZIrFh576yCTYac8AFEmGuPDDQNDf3svRTowMppZxp+4i+dLhcz0wPHXjcbNseJ+EXMY4dpPWhYJuYgadoNk5XGJk6V1HKC0+l65aH63kR+IA1m0gTHPMzU46ME1K6Gg7MYIoRVQakA3yZb3mH26TC2n8YBL3NLn2RnsWnC/MXtds1RB7GayMd5pDm/R9KZc5ZY0OkG0FUcWBO6a9dCX6S7CbSBFst7LPeEggcFknPk9O4E6l38UdrFtFKKOwADMRMKmtJZpIYyLZqBtShQ7GFds25/50iYuGj7fH5NqRa8/TasGj6RXLbkTlM37Hv8XM1nxWHUqEXLYlRE2mHN+pXudedsPrRcer9prbMBYdIJprP+WdckuhzvnN3Re5VZOk9bvHw+yat4vnXLsJmfJMTc0n7QlTU7N0Y+5ky2GcPDIdLmgejM+5dlO+Mf6En1b3OMx2FMqx9QVLJwXloRX98mm+RiOTDU3BWb7mvJ3xqLzi4+qYq27CyIipIr80ZDebfVEH+ySGxGOL6ZIbtYHgUUUuOcHDJExufLt/+fYfWFJvjC64dlMy5QlR0wbLPK8YmY6Pd8cc5BU+KrauYNMVVD6j8ZZfPflInsdWftZlN6IOmZhntOMkucWaaKX75yb80vwTfuvmLbp/7y5v/e33+eydt6j+nYz/6ckPJJZPex5mV7ydP+enzX2WfsyPdg8A0Ry+WZ5zZLc87o6ZmoYbN+Z7u9cY6xYTA5+1R7xo52giKyc3khA1F+2Uo3xH7TJe7KYsipqDouKmHvN8J/KkB4dLYlRcLSe4xmLHDrfKaSJiiMwCjKJkAq8yVJuScdI6FwRTHNBacmEk6akZWJnG7y9T+VoMdiROaraJwzjYFxpbhZQyJuPdbCu1RzexiVcMbmIwTSTbOHymxevgJCM9GoXLLNmqG7R+2aqVy1u6SA8551HAzz3fNGaGkBvMphlkdD1+qodA9+aPXvvXj4H/sI/P5wLOs70IUSspCJtWtDFji11W8oSMRSvTTa0IxCsRUMqIiEFgPrgg0wg3KpU0RCHBbOMQ4NxHX2kvPLN8K7fndia372BJ7seY3MCGbizdxGigWWi62X7DBHH95CvZiPuCrrhNY5Zt6tq0cQhoz9aK+hTaw7Qh1xJHoyK4cX/7TzrCSuHGETeO6Eo6nO7Ao5zCPx8RZw69sWwfz9CZJ7ZyAMZWo2pDeX+LGjv5tzSWctTSOsP1dsxvf/QGR5MdrTO4oLlZj7lpxox1y2m54cHolufVjB/d3uPT9RFfnTwhoHhvdcqTWnQ6a18yNQ2Xnejnfqd6k50veNYe8JvVa1z4OXNdoXMvXZjMirljVw8mkJhnxOl4b/box3I9msN5Kf5iJCz+4RmZADme/3T9iGuf8bVsR6Edhsh/uf46D/Mr3t3c4e9evs7O5fzg5gHPtnN+tLzHsi45X02ZZWIYOCgqZmPhJk7KlsvNhE/Pj1AK2tawazPixIv2Qins02uyz4phswGw85YY0uvpROdH4cGnwn/uiTqSP8mSmFg6MboTh2Y3C5hWUkKClcM9Xyqao/2mVF4rslXadAop3PqYQhVS1FvqBPXpNNGIjEFctnLbdRNBiQypEU6wIy5l99qUgDO+dIwuA4uPHLszg62TO38kOjXTyvss28rr1011KvwkM7gHs+/RC2lTMlLsuZkwP0Mmn9CngfTjEkkCcYOm100yzE5QQt1RKXBo1V/KpBujXCS/qsieL1MMmwSlA/vDGQhNIxnAeb4XS3+ORz9GHrAf6WauNtU+AzS5l/tkgJCL1KEfGeVLj2kDoys3MBND4gb2kXsxjYR9pmgOdPr3y5/brWhkQy4XVF/KXqS8TCVMo4Z9VHkB0mdLSadRbdLP+KRhOmwpjiu0DkxGLZvViPOVSDx2bcYny0Nab6RYcjnPdvNhfDpLMUmvjy4IUXGUb/nK5Aml7nglvyJPnSejIl/IzvmgO+O5W1Dqjrfz58x0xbvdiN+tH5Epz6vZFW9mV4OLdxsKXsmvOTA73i5eMDX1YDZ5r7oz7E0hKqa2YWpqjuyGH+xeY9mNuOnGnHczZrbma+PHdNHw0+0dfNSMdctrxaUY6aLmp9u7XLTy757ZmttOuk11yMRwVaaQA2Pk0vqSFKCPfCOzP+cKHj7WOzeN4Tt/5C/9A2vqxk346fYOP93e5cuTpzwc3RCi5rKZMrEtG5dz08r++Mr4ljfHFxTGcdHO+GBzwsi0HGQVVgU+qw95tbjieT1n6UacZSueN3Me14cUykleb7GlvGhQWUZ2teUk33LtxAF8L7vlb6zf4XF3zLPugCfNAS+aOV00A5S5iwYfNV003MuXVD7jW+OPuXYTTrI1rxQ33C2WfGX6jE1XMLENbbB8sDrhthlRGM/YtqzakpHtOJ1vuLNY8+RmgXMarSP5qMPVluygJh91oCOq9OL63Vp0rYh5FPKCEcOT7npNtEr518lFX+wNU/LmTSa4XDTZumU493VqovXZ6D2cXUXBvvhcD4lk/X4nTSqRqcj7LqJdwFQO0wi2zo/knOvf48FqwsgOUraoIJQZIZceXCjkgivhGZ44HQmGKCXLSOb5S+kf/zgmG3xeF3DabKMX3pHqczKrlvxiS9TC7vIjTbZqpRtgpWLupiYFvouAPF93dBMZOZmES1Ax8cVaCZrPV57i1g1ZfDbZu/ssU1uHNCJOBaTZ881ElyObru6k3VvcxMF8on0ccBraQ74iOSTl3+pLaSf7FNVkd+I6Uh2Ul4KE6Z3DIYuUl4ryUizqphbn8L7Ylc4ggLvTEkppcYdFR8xF94eJhMbIG8GJDu3tB+f4SaCrLdubEYtRzYPFEpt5nl4vOJ1seWWx5OHxLbsu429dvMUPzu/zweYEqwN3RmveOXzOX37+TYFzTm7ZupwbN6HyGeP0jjnMdkx0w71caP8zXfFxe8L7zR3CJhPY764mbnfSDZmOUAmPoTY7Wbg2jeZiTNoYNegGMRq9+Ye7M3+n9pyaCqMC/8/rX+X/vvwqW5/z7eUjTuyK/+jZr/J8O+cbR0/4laOPGNuWed5gdWC1LVlMKq7rCVpFfvz0LstNyWxUM8lblrdjHpzccrjY0u1yNrdjJocVH/6zB+z+2Bf57C++RnuvQx81RBsxa4OrLOazUgDfn2WoCOUnBapVuGlA13rovtiNjGaDleKoOQnoRg1Oce1kDfSjCeFNyq9+pNA71ftOtG6lExiN4I8kc5ohoihkUtj1PEBbye/dRC5SIWPYpFwpF57diU0513HPASxSxykxLiUXO5kXtlKoCShajCC6DQOGyY/E7BWsjITbmRjATOOHjEwVIm5iaRd2KJz6fE4UuGkuayUVtwDZuqObZkLWN4qQm+HioJYbWVNdtx/zei8omL7j/PfhEv7QD6XFYdwXAr0+J91vVAp/B3ld5HKq5TBpkhOwEZB2r400yQTiM3m9+zQjuWzGIe6tN5H1kXsSZp+0TGXqdKR14Au5HNtNmpZkkTDzw88Zj1qCU3SNJUbFtsqxmWdUyGIrrCe3siDGtkWryL3xipHpKHSHVpGjfMtlN6MJlgfFDZ82x+y8QJ7fb+4AcOvH/Ce3v8y1m/J+fYcLNxvQMV20HJgdeYK03YaCqxTDduWnfKl4yrHZsPIlN25CqTu6aHljdEGmPI/KS87yFb86eZ9js+HaTdn4gj99+GPO8jWHdsfXx48xKrJ0Iw6yio+qE561C/7e+vWhe7Z1ObXP+Kw95J3xU+4Uwq1zQRoEuuqEIanNvtCzVnSBPfi5h0AP66Rfh8kx7j0/6/5BzuCn1RG/vPgITeTj+mQotE6KDX9s8S4gJgkXNaMkSJ+k34+LLS6apMFUhKj4/e1DRqZj5Up+vLvPW+NzRqYj045rP+F+cct7/4ucmz/5Oj/51+b8U4ff52F+xa0fs/RjFnbH0+4QjQCoj/Itl6k4vnZTumi49hOMCpy3M44z6QjKCPmA5+2cp80Bj+sj7o9WHGQVi6zisNzxzePPADjfzfBBc12PqV3S96mItQGtI66zUGti0HSthcYMXUCVUGmqVZASPnQrhV+2VukiJCzV/j0TMoYCkaQL7C9UvadAJYNcv7cBgxStdwb3WCd5AzGke/hcsHU+TSZ9ltAuVmoR3YXBEOdT2pHZdslZLE0iXXfY213qBIrhTe0aojHCzu25o8bsR8PxH28h+LkKQBD9Q++4w+gB9Kt8JExzZj+7xW487SJPCQFB+IBbcRfmtw60ojmQ0Vu+DsMh41OElC8N1YnB55r6yGLakDbIFNhsxJ1jOol50x3k2yAjXi8jsb4LAlLt9yzAqATCahqYPE3fN+wPULtjsI3H1Ha2O4FJjp+JO1NGWntcDFHRTeTP+pDpdh5x8wR59Aq71eRXhvKTgvKFJXuRoVaZxMVVBlqN2hn02qKcZHleV2MO7q0gKsp5w+VmQhsMWke6KuNiO+G6GmOUcAK3bc6rCwFwTmzLZ5sD3l2e4dPmctFMKc0+/eN5sxB4p6k5tSuWfsSdbMnjTsTFP8cKLHKYT4lFJoL4EPbgVGvEGTyMh9O4zEsHUNUtXC/5+rf/+Z9bS5tQ8ze3X+JH7RlttHg0U1OjifzKwYf8vc3rA1j0s90BH+1OeLadc1xuCVExKjqePz9g3eSs64Isd2SZ53Yz5vH5IV94+IKnVwty68gnLbbsyIyne9Dy9F9s2f5ShS0dvrai2xuJ2ag7doQyUN1zKK9oTrxsPivN6IUmvzDpwBUdaOgPdROHuC7t0mgik25if2hLNm9aK4rBzab7Q30EzZGs1W4snWnTyCUnW8v3qQ91Go/uZRQoyDeBfBMpr/2AeunGMnrWXpI7UGIOybeCNOhzMwExcaWxZnHTIRGNqdBbWDGDJAds/8g2UuSEXNHOMxFZ5ynL1yZtnIvYncNUDu3DXnhtteT8rtrhpmxqL5/X+oG5Fwq7B4unGK4YY4pLysUUYmQ0F18+oP8QjxiSpjDEtNd5WedKobyY2HQlf4cvTBJws4dCp/xz0wrJQACxaZRU/PyepP0+5nLgmCVNJkoKw2j2+s/eEKKTtjJPRiORpAiNwNxaMYV4hbrJISpCZfGtwXeGLHd03hAB5zXOGy62E27bEY237FzOx+tjPtic8ryWztB1K2Pav3X1Nk2wrNyIn1T30UQ8miZk3MtvObUrXsmvh3/jh+0pP6wfpji5EatQ8sP6IQdmj5l63B0P//3l8glttJS64185eMy/dfIux2bDF4tn/O72TS7cnPNuhkfzs/ouvz75GX929kM+aU54v76T9rKGTHtcMMxtxU07otCOw3xHrj0uaK7dlBfNjHfGT3lcHWLXaj+m6w9YnQxAnYx+RRoQpCA0ySn8ck5wJdnn/8L//l8f/j3P3Ia/+MGfpvIZSzfmS9NnPK4Oue4m7FxG5TN+sH2VNlhOyw1vjC85yTZcdlMu2wmn+Zr3V6f85PYOH1fH/OLiE14fX3JeTwW7Uiw5r2ccmS3fnHw6gJ/XvuTf/uP/P/4n/+Zv86//E3+V392+yZPukFeza+5l0n30KJpo+ebkkyELugo5/9nH3+S7tw9pQsbU1EOh+Xdv3+ST+gijAlpFKi8///3ilhAVhXbcLVd8tjtgmjc0zrJqC0a2Y5x1VF0mnFUdMCZgM8fobIdvjUSheiVnX20wjUDOw8QP5ig3lXO+nQtaS/wD8j7Jtul9k/bkHpmlWwaNc1aJNtqVgrbq04r6/a1PPxqA/zEODmAUgqxqA/mNPMdy8ZO1YhLAXrkwpBf1UjgS6gUnF8gwziX6DfZMQKMGDqBEUcoNTvWd5bD/sxji59rjPrcLOLSJBdi1xI24oNRklMKXNW5eJsBzGKjZfVGnQrJUJ6dcVsvGGhJyoljJ/8dUGLokSPe5Iq/llKsPDEUKXfe5orzxaCejXttE2mmqtrvIaCcvuOkgq8IAtu0miu09ha2U3LDbiAvSQQwK2kUk2yR+WZBDWaLjIm6mBnNHrz3QnRzy2VoRxgF7aWSEmAeCgvGnFt1CfRZpjyUuTjdpocwcupCAnXidc/T2NZfP58SouPnpEf7AUcwbssyxfjGlqTNeP7vicVBYE7hZj+m8ZpR3TPIWFzWn+YapbWi85Sjf8f76hG2X83B6Qxssn1ZH/OT6DiEqZkVDtch50hwyNuL0G+uWqWn4YvkMMtGE4T2CcPHE5QbG5XAo9wkgscjl/3uHnJZ8YNoONRnx8H+740+/9r/C1A4/snzwz1j+4q98h1Bq/mD7gPNmxvvrU46KLf/l028Qo+Ko3PLa9JplN+LT7SFXt1NuN2MWk4ovnpzze9tXub2dYHNPV1vunC3ljTJRfPjihMk4uRqrjHLaCI5g2tBUGcpEXGUZH1Q0ZYavLXQKVacxoJKD16dumRuJ4aebB+JOozqGFBBTQ3luMBW0h9IVylfJpNHKxWL9SDrFzZFoAnUnXWQ32etFlIOYcqh9mcxGqbttGoYsWdHDJGfpTvBJUckNtzoxabyx/57tRBBK3cgOY8hsF2hn8h4zbaSbWdqJFgA7DAzO/jIlgmgS0sUnxIlhdN5Q3SnE4Tsyog0MYBpPfhsGvh/In7m5obhqhtB0N0lZu1rJrVrJhpzfNuCjJIWEgKqcRBGC7D/pLqNUkqMo9bmdwMqY4bCP3qOKgti0KGsGzle0WvRBaTc1dUDFiCvTxp70RdolAxsM+5Pu0ii96DFYDJ1A3YFORWS2lqLf1pFmsQfS9t2M0XNFNxUNsi+S9rKIomGdt1BZwtShgOJARrkxKpo6ZzHf4oPmYFyhVWSSteTacdOM+ejmiKPJDuUj87zihzf3uTNa89b4nKltpItVHfPW+AUhat6r7iTJhqyZnS8wKvDd6hHvlE940h3xKLvgUXbB9+vXJB846eEAxlomA8d2Q4bnzK7IXsrGeyd/zkUY88uTD/hpc4+tK8gyz87nfNodsQ4jjAo8b+f8Uwff57lbsPQTPm2O+L3rV1kUFZ/sjvjq7CmfVMdMbcNPt3c4ync8yi74lYOS7x58QeQKbSuFn05rSGm5AAwd50D07T4yztpkElHpYqI4++uP+fO//RdRmx27r97n439a8+Uvfsa3bx7xzvwZr42v+Wh7zNuzC57VczIVuFuucMHwrFmgVeS6HfPG+JJCOx5Mbnl1dMO9/JalG7P2Ja9PruiiOJwfja/4rD0iICzA63bCL80/knxmV/Jq4Sl1x0Q3rELJXbvkhVsw0zVdsPzt1Rc4zHa8PpIEkn/yQct7mzN8lMLeqEChHQdZRRc1mkiIinVXUBrH0o+4bKd0wXCnWLFsR7wxu6TzhjvjFbftmIvtBIAyk9f14tkClQWUjsSdQU2d5Pym7N9gpfijU4PcwdRpSrARA2c9kcCH3oypk2ZfuSQVS6ixYBj0uEQpBIHhvTVEX9Z7pJXyIkMjTWh0k2QwXaA5Kcg2biAdyBQkE05g61FOINDKi3EoFoZQGMymhUQ5sGsxi9Ahkak9TisEuUi83OXrNan/Q///j/j4fCYQ54Y0EIxBFSICjXmG6jy67ugWJdlKwpK7zOJT9FO2cfhSskN9rvedh1TsRSP8vn5GH4xolIZN0wjc0eeRZmYob6WjKEkHMkbuxffBymEVjLzovkiRLx3YKN2Z0cXeAaSi3CqChfokpvGeLKz2QEa+fTckX0oua7aS330R6eYRW8khbVea9tBjKk35OMeXolUIc3CHTm7oyTgQiwCdJm4N6qglzhy3qzF0mvr5BKVhfFhRZI7WWV57/YKr7ZiPLo6wNlB3FtcZcut5cb7gykwx1tN4wT28Mr3lR7d3qbqMg7Li0/URN7sR37jzhFnR8Hw147Cs2Pqcu8WSD3anXNRT3pjK5vNXb74q48mkd1GNUPJZTKGRyBvlpEMioOcgY7lNPyoeS3RcZonbClUWFO+/kBv0yZxsVfB3zl/na+PH/PLsQ37TfRmrAm2wLPKasW0JKJ5VCwAaZ5lNK47GFbsu48VuxvHBhpv1mHHZMllsePL0iHLW0HWStdxkHmsC2ajjcLrj6bND8IqD0w23V1NUbWjfn6Nf3eFVRLVm2GzcoSdYDVqQGr0LzO60aLNSZy1q4U2ZSi4Lplb7TvBiP5YdXcg4I7+Vw1v7lPf6UtZ8tmbIBpbINdnU+rSagUw/SZnAtRQirlBDEk6+jljh3NLO1dAh3J0K+JmEPejp93YnJquoRROofaRdWEwVkoFLmFcD2zKNcpWW7lY7z4bPNd1Lurh+7ByjuH1t4iSGSHuQk60dbpyRrVt0q/Eji123hNwQM01zMqK42BGNJpYFaluJ+WO92euzvN+7z5Xm8zjkhu+n+wNdOj0xxiHyUDlB06gQ0VUqOhP6xtY+GWj0EBTv0/Pau7BNG2hnZtAA9oW/rYTHKB1EBtLDXkjO4Ahu5xE/EuyLaeTv6b8mqkjsjIzRWoktjFFJE6KV7X+5HjMatVStFDKzw4aresKmKTgcVxTGcVJuGZmOe+MVD0a3fFidcLdY8VpxyZHd8jC/4rfXb/NL04/4rD1iF3IeZtf8XvuIw2zLWDc8MEsemCWF8rzXnTDRDbnynNr1EAl35acENO/W96Q7hWYbChg/BuCxW/C4O6aOGad2za8t3iNTnms3ZRcKHmZXfBJP+eL4OX9m3AGX/Hs3Exa24u35BQfZjkx5ztsZp/kaHzVvji9pguXt7IYHdsW/3/1Z1K6RQq5phmKOftrVrylrBfwcIjF6AYQXqQPtHGCIVQVVRQR8qZmcbfnlo4/ZhZzP6gNC1Bzmkrd7mm+GKctlO5E4z3bKrx+8z3knDtujfMd1N+G6m/BaecWdbMWH1Skj0/KguOGuXXJsNox1w9/cfilhdFqu/ZS7+YrLbkamnSSA6JrH3TGZkkjA+/kNu5DzRycf8G59nyO7ISB6y0x5mmjZ+ZzrdsKb4wtOsjXv7u6iVeTPnPyY39885LwRnebENhIz2GW8vzql84bLesquyzE60jhDkTnOL+fYscM7TYxKOKuVSJ+ChVgKfku1gteKWvZZQhRJjRISSLaGHgBtqphYpXEY5fYpStEo8uW+uPOZktCgtucG93pblYrA/RQv5JJ/HpN0LdtGyTTXSatstaQgNUGaGmMrl0SXUkKi0Az64i/2GBmt0btmYEXSY63KQpzNXYfCEeq9prkf/fZGkD/s43MVgHIbbuTNUTeDBZ7MSuSJVthNK+LHFIicbZwQsY1OGj1DfWgYXbohMzO7rmnORnLYhT0wdXzpiErRzvQg8LSNYGR6wbwvZQN+OXPTFQqjpLjTHSntQMZuXXJn9nP/XuekXCSM5caRr/YbbnmxF2GLk1Ko/CDohWiguBa3b8gF32Eq4XAJEkS6g7GIA0zY5aBbRfRabjpaDlO8wjUGszHoh1u6m5LqyZTqQECun64LUPCFV15wtZuwazKM9VzezHj1niAFrjZj7o2XPN4c8pOrM+o24+2TSy6qCacj0acYFZllNbfZaABJL7JKdIG25Z3xU5Z+zOPqUG5BXSBORqj1Dg7kDU8PSzU6dWQSrLduYDySrt8uPVG9xTsEMY2EQLcoMbXizcUlf/n8W7w5vWTrcz5bH2BTdiRIWP3Fdoo1nl8++4TfPX8NowJVm7GY1eRa/v2vH17x/vUJR6crVusxvjG88cYLOm8wOrBcj7i4mUGn0TvDslpAFokq4o4c3BQor4h5wM87zPMCvZOkD1NpdCP8tb7zFmwcGFTaSfEXrTg07U5JzVjKDbXPnAY5U/rLRu9YMy0vxXulka6WrN98DXEkGCNb9/ICKfJE8xJpRppsl9Z93yXsdXVbGYf0ekAb9mYRm3KCZdOTUPbRRSepPGMjurZcpQ0ydb20IowUtu6kuFPJrNUGMX/lmnzdQRPoZpaYCziVENPtXJOtnEDiY0S3HjfJyK53uLHFjzMxXSXtjZsV5M9WsozGJWq1kfEviE7Gy9hX4in9574hA8no1i/diCoLwmIyaOt0KwyKmInbWZ6bQDu3yZgRk8taDQYbUwlXTHSCqUO8CbRTjekETt+vkf5h2jgkvvRNMQF9i8HMNPL7kG6Q1moICVqvFX6d4QtNPpZ2dT7qCEGxGNVEIDee22aEUpHTyQarA8fFlot6ym074o3pJYbAKElHLtyMUjnea+6gVWSmK06sQKIv3IxXiys+bY5ZqjG/A9zPbsiV58ysOTA7QtR8t3rE99xrvFW+4Gl7yMYXLGxFrjylroeuIMCPG4mMK1XHXXvLTNd83J3w7u4u35p+kgrKFVoFfq9pWYcSj0ITeW10yfeWrzKxLV+YPAfgcX3E26NzvlY+5vVMdG/+YU2YlOiLsC/+QkQVGRG3J1/0KTEp81cVkkajRiPRiyYdaq/baqea/907f5VLN+einVFoz8hUvD0657P2kBfNnLcn54MWsdCOf/fe3wPg37vJ+Lg+ptCOsZa85Z7V+uvznw04ni4a/uQoABnr8DHfrR6xC2Lm+1OzH/Fhe8bSj/lx/QpvF8/5SX0fgLFueZRdkilPFy27kOPdjMf1IffKJZ81hxzYHWf5irFp+aw5pImWjS94WN7wu8s3+HR7yCyrJVWGyJN4wOloSxsMl5sJ86LmajvmcFzROsM0b7lM4OdYGdQodXu87E0AepumL61K2lpZ5zEDvZPLsjPp+OnATWF0udfGRiMFoStFPlPcSFyrbeR9A6A6YQv3CKZ2pimWfphO6mRoi0bRzYSB2qeDqBgxOyf1DFJgKhfwpZXUI6UIpU1UAA1dJOQW7UQnaioxfYRxIQ2UpTRLqNMFJEa55HovFIKX9M7yA2iU/sPvcZ/vepwEjbFLxHO3Z7+pTqjYvUAy5AZTyZioPRTBd7bsMHWgvJa8YO1T2PI0x+68jI2NIlt7QSOkTmG+lqipbqSHuKxmbsTxmH6FBFPto7C0TxnCEUbXEVfu3UAhCfL7ziCIxk8WDANMMtvuTSEgCy5fI13FkQhRi2uVij7BweRLMYGE1PmLVtrWUUXiyBNKoZv7k1b0gV3qhgYFTkNjCONAty7IDmtiMo/Y3GNzz+Hhhvefn7LclOxWJb4zuE3GUblFq8jBpOKn13eouowyc7x2dMO6K7g3EWL/K9NbrpoJLhr++L33+WB5wjRrWHclV/WE892MsW74jfMvcVNLN1K3XnR8VsSqaleLLipG1HorxV+eyQilyOVQHqc0kSRm7en6Ar6Udnl911H7jC/NXqBV5KqesK4LCiOn3ePVgmerOaOsY12V/Gx1xjxveHxzIO7nesT5Zoo2nqebBdt1ybYqRMMbFJebCY8fH/Pp8yNQkW5ZgI2os5o49qhODe8I3WjRY44dsRWNn26SE62QHEo3lVtqz17TnaKbB7p5ELRLAyoIWLxfY3vavPy3cChJbt8kLQgJAZMJpqC4jXTjpF1JWJfeFOLG8jMrl1zEtucHpozLRpzH1Yke1rbEJPXxcZF6oWlnimauqY409ZFJ+lnp/PmRXNZ8Ke+tPrFiMD50kZCSOnyhZSTiIjplAiuXsr7TKKabZYJ1SfpCEhuvx0IFq3DzUgwUXkasooFz2HUj5qJeczUeocrEAOy1ekWx79x9zg5gT92XHyyg+rzr1U40gEnnKiYYTTe1CfQsAvI+7lKmCiEV2HHQQ8aUiNN3KsSNrQXQ3fRrRQ2mkAEDlC4FfddZO0WwYhDpqQZRy7rXlazlMHXonegBXWeIQRGjwneG51cLLpdTrrZjbnYjNk3B5W5C5TK2LmfTFhwVWz7bHXDRzvh0ewjAZTdL0YsTXND89uYL/Ky+y49395mZGq0iU9PwanFFHTN+Y/kV3smvuA1j1kGi5b5YPuXPzH/IfXvD0o94UNzwq5P3aKNBE/hCds6nbsN/X2mWbkwTMnah4L9bfYXvVG9woHf80dkH/M7qTVah5NQKgNqj+KA94352w8JKsTnLaia2YecLMuU5zHbcyW75tXKvhQ7rBB83es8w1Ur0f33x14+FY5CPd+3w8bjbiS4r6bNUWYK1bB5q/qX55dBZe7JbsHYl//mTb/GkOmBkOrpo+Kw+4P5oybfGnww/02ftIQ+KW57Vcza+oNCOm05ID1d+yhfKZ/xsd5c67m8ND+1qeK6+NZbi+GF+xa9P3uV+doNHcWLXfH30KWdWLlW/VH7KfXtDoTvO2zmn+YYHxS1fnzzmop3xuD7is+oQqzzPmzmFdnxSHWO1Z5FXnO9mPJpcsXU5LmjWXYHVgcNxxbP1jNw6uiCMww+enA4Xe2y6uBQeSklSgnSZTkQGuUzJ+u9Bz+XVXgvbMzV9ni5VSUqGkvM52OQa7icWIUldRordqUmhEypdsPYs4aiUdPONXJaznZM9qjRpjGtxI5MueskRXLvEC5SvV40fij3dOlTrMOtGisTMCA+wTrGpbSeNEZPSaIwgqIY6q+/4Kf25UkDgH4MJRBeF6GSybG+H78TNojc1wWps5aW4S7d85SJ+bGmOcxkTpUg4XxiCUTRHGW6SnEI+0hyaxNBKo+GJVOPF0g+5v1kVyHZSCedbCXeOWoo2FePQ2tWd3AAkHzWJ6yeymOyOAbZq6sj4aUzjuogvU3Go5dDuMzmVT9iORBbvZr1rL4pBxAqTK1vqISLOF2A3BrU12KVh9NiilxnRRtSiBQ+hMehE7dd1P/eRxRx3lqLo6LYZq7W4Irtdjs4CykQmJzvOdzMu1hNuNmPqztI6Q+cNXzt4yvV2zLKVSnbVlXxyc8htPeJJfcD96ZLz3YyPNyLw/eXTj7lrl/wLD36X09GG8oXY1enSrWdUiEvOmoHFhjUSX1MWqSsTpNs3KsTeHkSkH1txOkmiSKQ4N3y8POK/ffxlfvvFG8yymtx6niwXFMaxqwsmRYvRgWnZEKLi+XrGbNQwzjvqNqPMO5SCy9sp5bglyzzWeug069sxKg8igu8M9x9dMl5UhOsCtTWSAqKicNP6JuU2Q7UC2NVObqLZWv1c9mq23ju8p58YspXGVvI650sp7EIeiTqSbUTnl21k/UgRCOVVnxMs6zbkkugRtehTe5lCO1MUN5FsKxuXSjiWfhwYchhdBvK16F+buaI60uTLSHnjh053sQoUt2LYMB2Ut5HJC4fpGDSA0ajhVtwXNcVSNpy+mIsa0bt4KdZ8qalPctw4Od92jm7a6/0i2zs2YZJMik+LdBMrnbPSSIyS28NW++6/6gJmWeNHGWE2GowYtB2xFp2M6oGpL3Vfotsf7H/oh9L7tdp1CXVl96YnRBQuWcmefNmJKa0RwxsBTBXopjpB75NJJO41fwDNfB8xJXnJ0lEYXe2diCFPv8zeZNameEG7E0FgzwBERzEiBTlIiSkWTkG8yVE6kmWevHRoHWiXBUVyAa93BXVnWeQVTzcLdl3Gs92C2me8vzphkddMTc29XODQz5oFhXZ8a/wJrxcXPCovmemKuRZH/03i+81tze/UDzh3M7poedod0kXL4+6YgObXpj8jRM1zt+CFW7ALBT9t7/Kxmwq82O541i44tSt+Zfo+T5pD6pix9BO+Pv0MQ6SOGU+6I3539xYf1Gc87aRYfSW/5jTfUGjHV0fiTr2X3TLRDb+Xmoz/h8svibPfx5dSZfRL062kz4iicx5SYpI7HGv3MOhkTOp/7ybyOn3SnHBgd9wbrZiYlm8efybxabbh490xd4o174yf8qX8Oed+y1/aLHBB82F1SoiakekGXXYdskFv+dbonFLt1/v3m/ssTMW1m/Bhc8aBrqhDTh0zjs2G7+0Ex/PcHYhGMJT8sLnHd6o3eH93NugK65DxWXvEL80/GpzgW1fgguEw2w0686/Nn/L2wQWfbo+43ExYNiWZ9jxZzZkXspfv6oLbzZiuM4wmDd5r8qLDjBy2cGgbRQtok3Rm0OQp/FiMHHa7R7I0B9CD0PuknJD00tIJj+nrYXTZXzDFNNobP2wtTM59fGaC3YdIlzS73cRiq5D4p6Ln1S5NQhL6pcc/hWQg6rV9unX4aU7MDG4ujZBQWMI4l4tGCJJuFCNhWoqErmr22lKtCEkLKKaPbugsf95L7uczgWi1d6B0HRHQRS7ROJklTAp0mn+70mC3Tm7/paa46dBJHC0HmJLD7Va6gaaRLE2hdofBZWM3nmzth5asdrC9axhdBmFubWWG7keaybnDlZrtHUOwwlDLtjHpcOTH7vM13UTm//IrjcGUjHlRcuj6UjZSSVOQAyrqlNawTh2YPNIWJEFoEqL2jk8l9HICtAeBaGRBhyKiG4W91TTkorNbW0Lip4UsQlDSscoD+aTFew1O45Y55IFs3HG02FJaeT22bY7WkarKOJtvOF9NKTLHf/PxO9RVjjWBJrN88eCcO/fWXNRTrAo82S4YZy27LmdkO36yustYt2x8wfu3J7TzgOrC3s0LskG2nWx8RwvoF6/z4BMUNeuf6MQC7Bzx9IjrP3LI4v2dkNGj4tX5DTuX03jLRzfHvHl0yQfXJ1xXY5SKTHPRMNXK8v6zMwDGRUtpHcvtCK0Di2nF9e0U99M53SIQJw41ctJV3ewRO8/OD2CdEbOAvbW4ky5tJpHYKWIRyW4M3bEj5tBpg90qdJsYVAkn1BxKl9cXUcDhraKbSQJMdVcMHsW1oj5NupNcnGrBgrdSTHbJTKRbUHkaT2RyARo/l450v37bhYyY3URuurpNyJc8JgK+orwVs0aTK4qViJ/bmaab7NmB2S7BipORILyUI9zMxaSQb6T4GD9vaRfyGmqfYMZBcrohYRBS1wsYGH/R6pRgEqD2TPrLWBOlW5ZpTBuG1CDThIGSrxuP6oI46KzGz2VM4qcFBunCYTR6MSfc3IpuJsvAp8zWz+kA7h8x4WWGuC+LmJ8yu79C+4jdCMsw5FpiopzoANtZRruwQ26yGwn+xdYRW4WBZ2orhgg/XwgUWm3kgtrjelRI62cTYa0SNzJpm0uZWPSaJ7sVGHnoNeQRyANqlaGOG4qyo65yYVvryOiowgeFVhGtI0ZF1m3JSZKKVC7jK4tn/PD2PhPTsvElN92Y225EpgJfGT+hjhlv5Oe829zncXfMqV3xp6c/4ofNK2TKczpeUaqON4sLbsOINhrGquGJP+RRdkEXLadWPudPTH7Kb6y/yp+Y/oRtKPhpI1D7X5u9x0N7zW9svsKrxRW7ULAwWwKa95s7LMyOh/kVF27O27PnfHf3CIBdyCl1x7fKT36OaPCD3Wu8kl8x04/58foe+bJPmol7uUrq6KlME3tX5mgkKKzkThfnuXydnk4GMHS4c4RaV5x9L/Bvn3+NJlgy5TnKtzwobuiiYTGu+LQ5ZjGpEnPP8n+7+nW+OH7OZTejCjl38hXH+YbPqkOy0nOWr5jpmksnTuiF2fHPTK/4UdvwW7u3+Kg5JUTFl0bPmJmK2zDiUXbJd6rXeZhf8Yvjj3jSHdKEjAs3H5AvT5oDvjh+wWU35VmzkLg9YOVKnlYL/umz7/Hfd1+i0E64icD721Nc0NwfLfl4fQRAaR21yzgZ76icfF6ZC8S7rnKyzGNMoG0tfptRHu/YnpegI/q0Ibwohmz1PmcdIBRypvbMv2DBpL2z1wjanZAIBIifCj8jheDL+17PQNVuf+nSjsHRO3BPuyC1jNUJ6+RTBJx08pULEheXzG0hN5CboVtnaicynNTw0HUflpAi4HqklAtS/HkvwRrGSKpMekgGsKy3zwuBhs9bAA6ZdHoY7cXk9qRzqPSi6xBQEyuZeLlKbjgRTkcU2cbTzuXmLxVzxI1NgiuLsNqlTkQ0Js3kU9euChQ6ZQbDEPhcrIPwAY0i2t4ODqMLR3VikzNYjCTtVBZTj4eJIe41CGlRtYv9E+1Gcsj7QhZbr0eMBsZP5c+7eRyAvNlaDToxYvq7NqJ7sDtFt5Cben1XwNC6FQefrnvsRRAI8dShrnNar+hajZ630ilcW1wW+NrxM/7g+i4+aHZNhjWB2aSmMI5v3nvCd5+8QrvLWRxumZc166Yg0573Vqd8ennIF++ec2+84g8u7jIpWqZZw6ot+c7Na9jUpihutNDLU+dFFYV0frtOTIlNJ69/CLIxJiC0ul1LXBdA29E+OuWv/6X/x88tp6/97v+cD2+OeXRwTWk6amfZdAWLkQBhNxQ03vLk8gDXyghrNGtw3vB8M2ZUtCzXY/zOStv/2KPGjvFEisZqVWK2Bu7XhJuc6BWYiHKaUKTXvNaYg5ZgA+ZFQbfwZNdWXjsk9q9dBNGaxsSFLCPK7zsv3SRSXkuhH7I45O7ajaI+SZtTJpuXqZNgv5e/pDGgihFvFDFX2BhlpJzMJPlKpAh2K7Fw2U50fVEJfghgdypdyGK5H6tGLf/fj2+Vl4O/WAdhcI50St3p/x75oaJWAnHv4mAO6ccd7dxid3Jp8yNheoZC44whW3XC7rMKRrIZ2trTjaVw0k0gT9pBXxjJxiRp6VAi39NgKkkUCoUhf7raXzjqZr/nxDR9iG0q2LS8j/sD/A/76DU2SkvmeZE6QM7DqEgbt4x9+mxsYZMabCcHRsjU4BKW/OM9MqIbS4HsSpXYgC/BapGCT7dpSqGR8VcLbpyyx5MJqHeF+zKZiRbSsc5WkkvtJhHVaDGZTR1xZ6l2VkZvKjJZ1LStYdWMmc92PDq+ZtMWBBSVy5jlNZMscJJtGNuWrc+ZhIypaZiahrN8xYtuwZHd8O3dm3y5fMq3t2/waXPMi/yAXcgpdDfw695t7rEwFW/mL5ioljfzc27DmAs3J1OeN7MrrsKIL5bPBk7gG/k5j7JrLvyEOunUMuX5Zvkpv7H5Cn90/AGZ8rzoFjzvDrib3dJGwy9P3uevrb7GDMkw/rA95X52iyFS6o4bN+Z+fsNfWv4iI9PJc580WjQu6frKvcEjmdsioMajPR6mTUxKbYh1g1rM+Nf+u/+aPzXad4p/5ft/kf/lo7/L0ouD9yfbezwsb/hxI13KZTdC02NVckLUrFzJxDSDxu/N8QW7kLPzBUs35hvjT6lDxl27xCjNT9s7fNoc82pxxbHZcOvHrL3kph+ZDZnyTFQrLuDslmO95a+uv4ZRgTpkvD0659SueKt4zu/p16lDxnvrUw5zcYk/7Q6Y2IaFrTjLVjzeHeKCFslOW7KqCx4slmy7HKMDbTAsqxIXNN5rrAmEoMiMZzTvuF5OwESqbQ6FR60t3mcw8YBBV3rozoUCzFLWe30sl2xT798D/USu9w8YJ5dtN46DTCarpBmDkpFuN9HYJoBXmAR91t3+vRgNtGOL3YoBRDeBmHR9MvkIRGPwpRXiyW6vCdaVF81fJ8472TeDjH2NRnVBKBkgYQqjXAyURhOrWiR1SV9IiEPR119KRef8h59yfO4RcO+Ki51DJR6SSnFffpRJvElh5Yc3iuKqTVFIYGufHDNeRiOBxMoCu/MUt91wYy6v2kHcLOYSPwirJdxefm8OpJPQzPSgcSqvAqPLMGiaetekrVM30Ow1WW4kRWA3Vj/XVgbZiEeXAdOAKxk4bpBgvunnk7GxBL2HTA75/BZiBs1RGEZ2biJ0f3EuKeytwewkjsuudBrpyKtkdhrWGeq0oQdbxiAjSHOnwmae3332KhfXc7Z1TlPntJ1lsy0prCOgOFtsODtbMilaOm/IjacLhqe3c+4fLfnw6pjaW4yK/BNnHwGwaQtWTYmLGh+06CFraW2ryVhGwEajylI6v02byPlJG9WPyYyMhfsDefnWS2LK9PjhL/+/qNuM01LE54dlxdlojVKRTZMTo6L1hsm4QWeBw+MNzqVi13oOxxV5LpicfNpK188rmibjcLojG3X4qScGGN/fgI2YjRY95lE7jNl8ZYlOjDv5lRg/Qh4prjXdNA5AZ90kfV8uXbPiSpOtpRDsOXbFZd8B298ugUHM33Pe+oSIdiEdoL4g7L+3fG4PIWW4vZpGAObNgR74g8VKdIMqSNxhnw08uvbYKggTKxmu+ggkn4lpanvXpPEutHMxaPWXoerY4kqN3QV0KyYH0wbcxOAmBrsTY4PuxB0nwNPE6tQKtEI3Hlv54bkGpGiKcstWLuCzpKXLhW9IiMNNO45yYp74f/2B3KWc3syiZ9MEpw8oY9CTyefc4dJDy0VG8jh7kV2UEQ5yc48KdOMSWFboBqZyZGs3aACzjbwG5VUnkpRkuukF6X06gW1iem3SWomRbBMTQ1HWU7bZryG5vEZZn03PClSYaj9GU16hKwWtxkw79Mihc1lodZ1JZ0FFXNC82EzpgqZLXMCrekJuPN9bPcRFwyKreFbPedYsuOomvL+7Qx0ySiVF3n978zVBtCjPZ60wRA/MjgfZNTNT80Z+wUQ3vNfc5SpMeCO7posWTeCuveWxO2AdSjLlODYbumh5YG957mZsQ8Hf2LzDH518wJ+Y/JSxFlD1u819HmZXnNgVXTT8YPca115Gx3eyFa/ml5zY1ZD/e2Q3fNYecZJJkXQvuyUg+7byXhAcmUWlNRRrYfsNMN4YiU0jf94bjl7SZPmT+c8VfwD/7pf+U763eZVDu+XV4gqQMfSj8pIHxU3K+bVcdxOO8i1dNHxj8ikPCtExLkzFL44/5JVcoj0/ro75zeWXufJT/ubmS/zl7XSIcHs7f84qjBjrhnUoOTC7oSu7CiXP3QGP22OeOHl9NJGvjj7jjeIF21Dwvd0jDu2Wk2zNl2YvCEh3+LwV7d/zZs6Ptg84yncsspovH7zA6ECZObZdziyXg3NkOw7HFV0nAHIfNKdHa2JUXLxY4FciR4g+NXnKIOzKIPD8aCI+hSXoZl/oZZtkFkkyivw2/lxsq5g699rqHpsk7nqGBLJsK0g4n6vBCazbQHHjJA2plykmX4K84eVXVAo3y6VA1eLyBaTL10gWunYBvW3QVYfupCBEy2UxJkh0LExKN/JEK2tLaS1xhCGiE2FFaSW8U63o8VT/442AEZ1DDyaMnQPrUM6idjUmM9LeTBa6IdezEGOHT1FRzVGOChG7lYLQjcwQq9Q/+e0skzFShObQoFOCh0/RLXYb8AcCW/S5OBpdKWOs3sptWoFFK69op4KHIUqBFjJxU0q0jPzyfYTWNu4LOy9dlOpExiwkvlq2FoSHSgLt7EoObwJ0c/bU8TzQTVPsnY20i0CYO/TaYhrZoN3cE1w68Ix8j2ghmojNHN4Y9EYRyDCNogNUbSheq1ivMnaVwSwt8aEjLzp+9uKUIneEqGgay93DNbWzjLOOn9zc4eHhLZu24GBcse5KfvHuYx5Xh1xUUw7KCqs8pXHc2BFVf3BrLSOR5iVBfr8mmlYcS0ql0UnqEBtNtAaFFNn/sMcXTi+G/743WvH+6oTT0QYfNKvNiHVdsFmOKMYduzpHKajWpWAtnKG+KZmc7AhB0TYGTIQnI55WFoJ0/EJn2N6MoNNwr0F1WqjzTmEWHeEqH8TGIYOYRfROE/LEn1LS3bVpjJvfprzeBAsvrqWI9/OYRnPC+zNpbKwSN9IX4vJtDyJmp4ab6/aeorzaG0KIUFwn84dOTncfh25hVCkuLLlyTRtp5npAH2Qb+dx8FWmODKZLLEP6IjLgSiM/+23iYw7Fph5QL1IwghtpMhekiEzjXZXA0tnayyYYpUPYzXIp+JDNsjkssJUfEjHwUYq+XBMWOXbnsFsHO+gTN7p5Tn4rG2jILeZ2Q5iM4Hop39f3m7KSDZP9xfTzPnqRtSIxSasalWeSQKLGsmFn/e3fDAYPX8jz2c0yQiYTCl9oyTK2Ch3T+kpGmnwbUsKLSFmq496BuL8A+EKmGO1MJh1urMg2kW4uXElf9gBbuYD2F00/6vevSEwXXb/KQUd5fwQFhXS0tA44Z8iMZ9vkNDpwf77ijeklW1dw1Ux4dXzDshtx3Uz44uwFz+oFX509pdQdHzZn3LgxI9NyN1+xsDseZlf8pH5AHTI+bk857+YsTMUXy6d81JzypeIZ32/u86I74O3iOTNd8zc273Bi16xDybvxHu+UT3jsjtiGgo+aUxlVdkeUquNY73iYXVPqjlJ1THTLL5Wf8tgtmOiG71RviCGkuUOX+HozW3PeznhjdMEvjT7kd3dv8aJb8Nn2QNBIIUJRyAHrEvjZpizokMwhbSd6Z2PE+GaMpIVYQwxedIR/3+NXSsN/GDXnnUS3vZF4ezdugo+ay3ZK7S0T23DbjUTD56fcuAk7n1P5nHfNfTySAjKzNZnygndJ7uiajAOz49u7Nzmxa44zKaB91Ex0w4Wb86w74Mfre/zJo3dZh1LG0HaHR/OkO+LGTeii4XF9xGEmoO53pk95XB/xye6Iw3xHpgK33UhCBaophXFoFXkwXfLR7TE+aG6rkjuzDYVxKBWZlIIb6rymdal7kgd0FvApCCGUySyVLtqxiJitRncpVanaN2x00ixrL11xYalGadLm4n63u33R2NcCwaqUsiMbm60i+conWZmYQXTrk6lOQPhuYrFbN8hVlAtgxEgVMi3Gj87jx7m4gStBROnO70e9pCIxyKS0nwSoxqevaaWBlqYaaEVsX7pEKE1ou7THCevp84yBPz8HMP1QMSQUg5FKNk5G4njZ1MSzOabb/5C2CqDAVp7mKJcNqdDk/ZxcSeeuOcpwhWJ83g0dlZBr6XrMNKbz2CZl944FnwAMuX3F2tNOpAgU0TVUh3pwJ4eUFNIvDl/KQSvk71Q0NnJI1kcaX0J1KousuJFDFZ0O4Er+DjeRYjDkwhAEhhxgW4FpZLStW0X5wlCfBOx1Jv4OJ9pA5RJDcKNk/JvcwrSa5mokMOazBnVREM8acNLFuvzsAHRkdrKlGhdoHWmbTNrtmSe3TpyxbcasaDlfTRkVLZnx3O5GNLV87uK1SqLV6oLaiYFkVrTUnWQZ+qOpBFavdzLqSBBoZRMrrchlTLitiLOJdGfqFkxabp3j5Ad7XUP/uPRbPrw5YtmWtN7wOB6Q6cBVPaELmsm4YbcrGM8amjpjNpXvUemI6wzWeszEUX08I0z9cEsLZYBGkx/Xwtu8LcEG1Mjhd5Z83tDelKhG46OCPBILh1pblAHVKEIZcEGTbRTNsYzsw87QHgQZQzRJU1Kl0USTjECrVAyWJA6grA+7i4ND3W7SOLkQwr3dKXwpxpBuoqhOBSCtooSZ6+Ru93mkvI1DyofP5fvVB0mXEkVzGqwagKfFKtAsBOEiTmF5H7RzAamOrkJyyPesrIAr5L1lq5Ayu+OgTzW1dAC7sRhEzM4Rcy26vfQ+jlo2SN0G3ERkILYKMlZ20kVTEUzS+wWjyDZdcrFG8ttGNDVKobeN3JA1sJjKLbqu9445ZGMMaTz8uUHQffh6L3dJZjeUIuZWaAdOZCo6MQHFqZsKcgVhrKQ7mtIAokWgr0lzlG2CjJsMtCM9XHrLm+RkTN1BV6ohwL45Eh0oat8VCcmI5kv5MzcW+UEoRJqg26QTbTTRJnC1iagsMBq11JW0lkdFS91mhKCpneYqc2h1zLbLWTcF87zCBUOuHU/qA86KNX+wvs8bk0ue1AdMTMsbowteyy/5ve0jHmZX/OL4Qz5uT6lDRqEcmfKs/YgvlM944g45NhveHL/HB90pmsBr+SUXbs7Xysf8uH6FKzflWXfIwuz4cvlUANJ+ypWf8t3qEX9s/DM8iu9Ub3DXysWgw/DcSdb5/ewWkwU8mgfFDb998xaPxlc8aQ75SlHwQX3Kg+JGItjGyOHbF3+2x0SEfSEYolx808djFAew0oroACsXlb//8S998sc5Sty/zkgGe6E7CuX4qD7hS5PnaBV4I7/Ao7h2U551B3xWHfL6+JKtL6RbpwLH2ZYbN+aN0QUbX3Jot5Sq48hseNwd86uT97hwc66c4G2u/JS5rkDB68UFh3bLx/UJJ9mGX5h8xLWb8pPqPk2wFNpx242Z24qdz/FpWLh2JSfFlvN6ynEh2tAH5a3EyBlH4y0vqhl3pmtCVNTOsqxLcuPROrKpCowJ3FzNJOe+8OgsEDotQQk2YpYG5RTGK9xEHMECeE57Y8Gwt/fndx/zph2DNKLX9qkoKJh2JhOb/r1iatFU9yZQia8MQ5RbtHLRJuFcxFvQu7/lRwhGCxfXR0JmMD5KwedE/9zNM7KNwnRePr5rCYVN0o2I2bVyidQaVafo1H56BvQw+/4yO5jaXjaBfI7H5+MAZilw3XUom0kIu1KyQacfvnntSFwylUOFSHNc7vVDBxntVFPeePLbVkLiNx3EjG5mZTxcyQsTrKK47iRgvRTdU5/+Mcz+0yHlCxFqthP9c65G3UW6sRGdoFXka+kchEzRLBR2y1DQuULYat7A7kw2hb4jI6kG+w6fmwGkboyJVHcgX+7NAtGmro8SwXY324fAm0oN7eOoRS+onaY9CHSzSJw6cJrs0tKdddCI+SM4DeOACopi0tJ0JZKTqDEqkuVOoNBFx2zUkBvPOGup0ii1tB13FmtudyNWdcH2cgwmYkaOZTtiWZfEKC3/1lle1AXeadQkJTF0wsNSZSGupc1OQM/OizB6PoVRKYLWEAQLU2SSIdx1ZD97wq/8G/8y7T93w+2nB8zeN3QzCF9bcxknVLsCXxnyWUsMCpt5yrzDO+GaFWXHZidtcaLCO83m+RQzlzxlgnTqzNjjO0VxWDMqOm6fz0QL1SqIFnXQ0u4yyIM0uZIDOGKwW+E5+nGgOLf4MuLLSLZS6FYnKrxcWOwudfPmkXypsFUfNxiZfvqSzACoTyP5rRoEGLZOa0GBikkD1gnEOeqEGmL/Z3KR6DUqcUDDBCsbmmkl3lDGGaRLErR3LXna8HQrnexs66kPDJPnAnYOVg0XqV53m23lwha1Qjcyhuz1tW4khV+vWQsp4Ue0M2kUmgk4OuSaYBSTzyrcOIMkf4hKYpVUKxuarVPs3CgTE0njUjdWwyjD7GpZZzsB7KqyJK7XKKUIdQ1FMcCbQ/UPXjT+0Tc6PXAAh1B2rVEb+d7hYCJav8Lsnb0vdX/ylaOby2g8pM5rNxW0ULYNg4zFlVLAZ1WgvAkyoVBp/JvirvrLhO5k/+mLf92RzEBS/IVCdMroiN6KHCZkaexfBCiCdACRM6epM5QOZJlntR5jkhv4YL6jtI7nmxnjrONkvKUNllVbcpA0YWf5mttuxHUngGCJhFN8b/caY9Ny4eZ8Egoy5XjWHnBkt6x9ycxU/Gx3l3v5Eh8VdRQzwk4XkkwRTRrf3tJFSxcNSz/ml0YfsQ4lY9Uw0wGTRz7oznjaHfBO+YQrN+XvVG8MmsQ7dsk2FJzZFR82Z2TK8/b0nEI5Xisu+VHzgLdHkmTigyZfpSdF6eQEToDnut6vieD3HcHh4pE0z10L1hJeXPDn/sK/yPNfnTM+FzPB819V/Kk//gOukyt6aqW79kZxPqR3fFodcVnMmJmanc8Zm5ajfIsmcr+45f3qjDv5is/qwyGb+chKHOZPm3vUUfSAP65f4dJN+WcXf4+ftndYh5IPmzPu5zc8zK4Gx/CT5pCxbuii5ZX8mqUfpxxl+dluOyFNfGX0Gef5nBfNjK/Mn7FxBT+5uUvtLYusZutznm4kveTpao41ycylIrs2w+iA91qGRSqSzeWS1u16ZzXgFX4iTRCCRML1chjdiq66n9LZmgG3RZL7SkhEAqqnrHOf7Q17wtJU+8Qduzdj7U4toBmfO0Km8SPJ8u7zg38Oxg6ENL4NVqO9T+NdGeP2U9nishr8EX0nUHnR/YVMeIChyAQpVWay1yWkGkUu9VTbycRh2IteYlACn4d1+vlGwP1f3Lcq60bGgmVBNB5VN5iqHMTRocxSsSM3WVMHylTBdzP5WLCabmYorjvagwxbycHhJ4KXsJVwA32pRVhfy6YmRaEYP/qxWd/utXUq/iYmdeqkY9fM9T5+yYFtE3ttF4dxClFu3G4i4xbTCpC3Pu3HLgzctuquIlspCg8E6eDUR3LraI6SsDv9XG4Uh4JPbiTJrt6T/BXCqNsmQ0MRodUi2gYxhQSFvsjp7kb0yBFqC16xXI6xuaNb5fixxpjA+WpOrIVGXhdFShMxaB34+ukzfs8bvn72jI9WR5yvpziv2S1HtAeVxMpNdjw+P2S8TC3rtoO++NvV0vHtW9OTMexq4qhIbrog6SCrFIyegtSPvnOB+s0t98yGOCp4/qfusI2K48mOaxWZHzfMi5qPr45YTCourufEVlMvJ8SxdPiKaYO1nm5ZYJcGp6C8s6OpMmJj8JVBTxzu0wm30yBw53mHvs3I1oJJMYUnvigHrZtyoDfJgJPL+KEfoblZwGwNeSMaTrtLlPkCVAcGRbuI+JF09nwpXb8eCm0aRX6bNFrN/kA3lawX3Uhh6ErZ4HoafZ9gY+qUU526fdHsQdDStRbnm4rJ7WYY+IOycUbylRR6bqQImXTvVBDHm88VQSvyOqASUd+0gXZuRFpRJ76fEm2OS7BUP06czxBRbSCMEwpDq5QXHAhjI+PpQwGYZ1uXtIQZ+bIl5vKc+2mOL4yIqYHuoJRLZOtBa8Jigl5uRXzftChrBxyHslbg9Cm14fN2AEV0/fdtsL28Qe0TAEJpBPqq1bDvqBBTDKaXJKFMOq+6CWmSIbBs6awa8m2vl0xThwM9OIIHzI9NBXPXF5iy/ropQ0dkuKimNZOtFe08EQhiYg1OtSQPGfk+fRJDDJosd4SgmI0bHi2uWTYj8rJilosZa9WWaBXFMKEiH+1OGJkOqzxPmwMmRhBNh9mOt4oXA4ZlrBuO7Ja/MPsBX87H/J9uH3LVTfiFycc87Q6Z6JZTuxpQLl8tH3NgdhzrLR90Z7ySX/NO8YSZ7vhpe4+JbnjeLrh2U746eswdq3jSHQ1YlFJ3/K2bL/CtxaccmS11yFj6ET5qrrsJr48uuHZTtApsfMkvjj/k188W/H8O7iWJS0INEUVaYK0cus5J969PCekf6WOx7VBKi1brZ59y/+MMnCO8/Sr26zNeVHNeK6952hzQxQVfHL/gw+aMOkie7jdnj3nRzSl0h4+atS/5lekH/FfX36Dxlnvlkqtuwp1CtI4/Wt/jK7NnvFZc0kbLTNXctUtO7Yq/vfkiF34yxOll2g3RezNdsQs5TbCMdUOudtx6KfZu3ZiRbsURrgJNsPyoeoXK5xTac9VOeW91ytePnrJyBR9vjphljRR5QWN0xHnRkB6OK243e81302ToTKgP3bKQiVcWICjMTg+yJ52mhqaWIjDkkZgpcMgeOerXt+xTQukQs2UfCefzBGDvGIo+neRYWZXMFx7amZFCsElTDi9NIt0ySF3CSx3BkDEwTqN9Ke9XKXSUz9e1I4xSGgjIftF0xCKD6PdRcyGIrlkpMVj2Dx+IvYZe6+GiMchSenPa/5gawP4vj22LGqUXuWmJ03GqaD1kUZIeGo/ugoxCUpiyaTy69rQHeRqhWnQr3cFmLp0/U4cBl+BGeohacoUeclCRaRWuVBSrvY4pZIJs8aUahO8qKupDuXH3gFv5O8VRtLsjeap90oEvYPpYmGWb+1piY7QUhsolgamG0Qsp+LJrEea7iThEs0uFmwbMRmO3wjEiSlGgPdSHYeg2tYsgZoKNkqSRMqT8XU1+aeiOAnHsUK3FrjV+FDEmiA7BCloGp+lcDhoWix035zO+8PpzPjo/JkaFsZ6b9ZgilwX1O48fcTrf8JOrM+7N1lRtRgS++OgZy6bkdjPm7cMLdocZVRxJTFLbyeaXZ5CicAZuVr80mo5Y5sMNSG0rWeQ9uDcEwp0j9OUStLhW29uCZVmKtldFniwXNHVGnTn8OsPOW8EFLEegI84Zmk2BrjV+Km/oLHOMS3EHr64ncF4QTltoDarWsLGEhaPNDXqZ4RfSjLObfUybL+TNaTeakEX8SIo9h3T+6nseu9KgxPEtcYMMGlC7lZFqt5BRHDrxq+QMphszaALtlehEo1xAZQSbEmv6QtGNpNvjc9Elzh6HlGGtKS97ELXciKNOztFxKtaDjD8mL8JwWbJNchlrRbGUm3E71SmGTFzOvVPYjcSM4VPajjvNhClYB/KV3Jb7zUxXwofM1h0xS2xPq8g2Trr8I4sbG0wTBOWkFMVNcvMGZLOMEZ8l4Hgn5i1TdQJP9hHVumFN9Q7MHpgKCAi6bQe33Ofa3vrbdvoBhcZvBod7mJaoxqOVIuZSRKlO0FchkyLPF/1ERC693dQMLMABBp24ZN1EuqTS9dsjq+QATN+jkWK/naXLohbpQTRAnoTvk33nY0BdzeT1N1stB24e0Lkn1AZtIsGDsYLmyGxkvSt4152x2xVoEzic7di1Gfdma8Z5zVUzITeOr8+f8LQ54Cxf87g+RKvIZTtl4wse14e0wTIyHa+VV2TK893mIU/9LQ+zK948OkcTuJMpMuVY+yl37ZJ3d/e4O7nlO9UbfK18TKk63s6f89PmHt8sP+NL+TOe+zml7nituCSkdnoXDXNTcdcuOfczTo5XlLqji5YLN+f14oIDsyNTjgs3T9/3Be+1d6hjxotmTn4LqnOEtpOuXs8AbDvRBZr9YdwXiMMCTiBy2YisFIOJjxqNoj3xvD07Z2wa7he3HNkNH9RnTE3DvfyWjRc4NsBM17xdvOBJKqDfmT6lVI4P6lP+/MHv83F7AsCvTt+nDhmftCdDCst9u+apm/Hl0RNWyQDy3B3wdvGC592C9+s7fGP8KTtfcLdY8ml7wge7Ux6NrpiZmrdG51y7feTck+aAZ/Wco3zHayNJDCl0h9WBgGJkOy6rCaOsY9vmWOM5GLXcViOut+N0X0p7qvU4ZwhBg4noeYvfZFB6YqWJOmLatBdt5Qwl7JsjvpSLsKLf81Ti/u7Hob5QidUnF+F+CiiTt0hUep8EonipI6hQWr5veSH7kh/vDWnaSVqRz0WqEXKN3Qr+CS+uYLQSZ6+VrwkTOSP1pgWrxWGuFKqWZDNVd/s9rXMSCdc5aZyEBLg3Jo19XxoBpzX3P1oUXL/h6rKUGbVSSbTYyhsokzdCGFlBqcwzsp2THNBEtHelgbIXR6aRhFHYrQgw26lm1IaUFCCfE6yiG2myKv5cjFW0ivLa4yYJCxNTkXdkBs5ZvhHxerZJ5g8reic3kkWkvNjGZWSixKwQoT4WqO/oMtIc9JorWSj1yb6l3C1EVNrDXXWn5GuvtWhwMukcgXSalFXMPtbUJ72bT9EepDgypxIRXeNnnm4ubwS1szDr8ItIXOZ0twV3XrtmtSupbkvMWMCu03EjoOigpCWfeVxneHh8ywePz/DOYDNPCIplVbI6n3K7nDAaiy4wN3J4ZpmjDUZug142R4pcUD+94zdGGQtnNtHKReSqmm7PANQC1FVKCa9tvUVX4qKLx3PR3njFdldwMN+xbTNW51OyeYPWATNvUSrS1JlUWhFCa9ArSxh7VOFRtzmbJ3PMYUNedOjMw5kXR9nIoSYd8bKATkkXtVOY64xgoT11lM8ygolQpu6sgqyWkbztFMWNFITmWlzaIiyWjvboHBLNYQ9nboEoWdI9qiOmYrHPCpYv6NdDTM63/eHtytShW8u66caK+kiKt9FFeh5yaCYCDe6h1CBFowDRJQ0k28aUqrPvItlaCoOQafK1dAHrI02+iuR1oE2d8skLGU0I4y4QCk30YCtHsIJ5crN8GH+aymG2He2h7AO6FU5WeVHjxpl0+m87GZ12IWkLxXWcX9VSQM5lPBS8QfkgFP0q2fL7EV1af0qpwVysckmg0dPp59ri9rftVGx1Tg54HyT3ehekEz7PZdTdyeYerUpawSRSdxGswud7Q4iKKl1QQ0rzEJxPl+L/RKqSuqgOee8HhqzofZ6w7Ek96qpnkLrEovSj9Hps5dDy0zRiW8vBhgK3zcAG2sR1a6tMnJlR4VtDuWixOmBUpHIZN/WIcdZxf7LkebOg8Zafbu5SaMfalXxp8pylG7FyI4IK3MlXrH3JK/m1OHv1jjpmzHTFB63wPB/kNzzujjl3M+5kMrZdujGGwC+XT3nFToFnfNwdAfB+c5c3inMy5bhyU36hfMxjd4AmUMeMf6J8wg/aE9Z+hI+K1/ILfr96lTem50xUy5PuiFs/5lF2iUfzvDugCZZuipjVjBbws1ayp2m1H/2+/NBKjEHaQNOINt5oYi0SGbyHVi5GBPhkd8TYtOx8zlU34Sxfc2IlGu9WdUx0w6WacSnaIjLlufVjDJE3ihd4FFdeso89irGX98PC7HiQ3fDD+hWe+wnfrR6xMDvuFkuedoc8yK553h3wolswMzUrX/J6cc7ST7hf3DI1NeftnHt5zbP2gI0vsMqz9iUPy2tGZsZ1O+GH7QPulSteNHNCEuff1iNab7g7WTGxLe9fnVBaR55+XdxOKUvH+maMKTzzacVyOUZlQbBdWUBtrWDRZuDHQeILvcHs1LDme9SRHwlZo5/aRC15wD5XuJHIW5Tbd/tGN55urDGt7JemjWmKEn8uAjZfSZOqOs1RPpMJ4E4KNaOkXpE4z33BGfv3O+kqoBSqiwMT0G46cIE4ysAF6fIZhWpawmIsLuYujX2R8zU6J2upk8Iw1s0eAA37ycbnjLr8w/cOQTa4lL05dH6MQWUZqhP0gfIe1QZMJ7FQ3dSmmCR5olWIuLFOSBifxhYqgVMDxdpLGgAMt2bdRcbnHdnWD4WXT8YPX+qEY5CIK510AMVSCr/diaadSmUuuix54eaPvaAVdns9VXipu1/cCgi67/SMLmRzr87k6/OVfM7hj6Szk69l489WSZtTJi1g0o3pRlFeKtwksrsbcS9FxbmFx6yMxJF1yRByKy5hNJKLWBuCkzGO6hQvPj2ifiq4gtAarA3c3k5YzLdgIpurMdXFGNeIKFfnHldZcf11hqrKIQvcO1nSNpajyU5wEOcLvnRyzvcfv8Ll7RQ3glgWgnQJQYq+7iXdQir8KHKJf3Pp4yEQy1xE9CAHtrUCuQwRfbmUru2BiMnWu5LrF3NBtZjI0bhiMdvhvabbZsQUmadMENdYp4mVJV8qohU9X/3pDC4KwiaDoIheEVqDSmTcWHr8zEsOcxGwSyudPyVIl5CLlqqbB8LMybg/5fiaSqXDOWk7E5S0d12iZCynXBoPpGhCN90Xh32Rp1upZ9sDRXMgLL8hvFylJAgEXeRK6djZSpBEfcVTLOOQGBGMGqLftEsJOD5S3oi7rrzxIp0gdSzdflPMtp5sF5g894O8QjvIlxJ/5EeabOvSmESc/T4ZPPpHTJ3FmAC5oo1VtAeFyDlGEi8H8u/zmRYXbaYToFXRHZYy8g1prJ0nWGqMsr6aFjUZycHrvRR/KZlB5fn+Z6n3ObJ/6MfLt2zvZfTnZb2rl27fNkVdRqMwlU9ayWT8SGMlW3tMFbC7kOKopCshemZ5zfJ1oLwRIkKvd/KJJancXkrSO7P7/9aOxCyVPdFUokENVg5UeTFIncg0Ao5g563oYiuDSiPh2aJCm8i4bCkmLbl1+Kg4GFdUXUbnDC5o2mAIKLqocVHz7u0ZjbcszI4uGn5x9hFfn35GSK5Vj+b3d69SKM/j9pgrP+XMrnmQ3XAbxty1Sw7Mjjfzc87Mmj87+yGlciyD4SftDkNkohv+oHrIWDfMdMWVm/LN8jN+r34IwLHZ8sXsilfslJmueZhdcZ06i786eQ+AdSg5sytO7RqP4pfKT/mT4/eHgobM7lM/vBcDSIhS5PWGoF56oF86KDIr+5qXbnGsark09MYRDXfLFUs34iTbSM66G7H0Yz5pT1iHkisvKJe3ihec2jUbX6Y83wVrP+K7q1f5zuZ1XnRzxrrl2k85MDuu3ZS/t3udf37+Ay7cnLeK5yz9mO9Wj7hwc279BI/mJFuzMDs+as54lF/yy+P3OTYbHmbXFNrxQX3GB7sTKp8NZpBPqhO2rmBuxQB03U7YdAW37YiNKzgbi1B553KerBccTXbk2nO7HaGAyailaWTvL4qOmxdzmV6agC69yHCyIDppK1KYbGXEYJcmJX2Gus/T3uXTJbsRaUufla1fQmj5dNxs7ol3QKYYexaqK9M+ZHqagRR22TaRCtLEUjiqqQOZJo+6C4M5VbUBXTl065OxI2Aq6db5sSWMMwjpAhukCAzT0fA9Q5mLESREuVzq/vKxL9GUMftoylT4fZ7uH3xeF3Cft2mMbMDOoVQJZWLWtI5QZCIMTxujTqOfzsqYyLQBe+nRjac+KcmXHZlWgrpwAd3p4Ynu5uJGdCNhA+6rfwbhuu6kQ9gcmMGw0R+2+TYQrBFYbhK8F0vpIjZzPQhE5YYuxVa+TC6hKLdr5aXLE1P72LQysosGtmeKfMlAI6/veexHZjCB6FZcnrpTqBQbZxo1sLw6G7Fbhd1JIWI3wqTavhIJRRQcSZUUqF5hz3P8JBBzgUaHmUPtDOa4oVoXqLXlVk3QuSf6xGusDZeXM3QWKGYNReaonk9x046T0zXXmzHlqGVVl+L6dZofPHlAnjuaOhP0yXyEqRspAvtRyKhMyR9pYWaWWMhmKC+MHvKDY5dGKyFCnsnnFLk8740hmIjNvHQyVUSpyNV2LM7ELr0hnMZeZoSHNaiIajVx4WkeSByev83JajkA7crgQA7JaUfIA3prBL+zEle2Gjv5nCxgrrMhzk83CgyMPsoJuQB2/TRQXBlIo383jtgEaTaNSAy6iWz2KoBdy1rqkg4rWzOs3R4IbTegvRibbCWbV76Sy0vvplVGtH4hS509xcCpbBaiUc0qyQ0ubmMyYfSpHbLem4VCRT1gkUImXSjl5GdtDmwac8Q0bhbdWv/ndhdoDrI0+lV0MyuJF5UnRhlv9vILFNjOi/t3JLKPbCMjY7uTHF1fSBLIEHWWxsmmDYRSRPYqJQPpuiWUOZrUhU4C6RijFH1VBUpuyyRe1ssb6Od+KHkPDYOmzhFnY3Fbb6UT7iZy4ogRLR0qQTp+KJUA+AwTjWFSkDoKojXdc019lsDg/QJGLpgq9AL4hNXaxIF+oAcNVT8eg24m+6UvI6qT3GDVJFTQVJ6j4qQS1uYuxzlDUXQoFZmNazZVwa5WxAiTUcPRZMcir6h9xnU7ZudyTosNZ+M1TbDsgjAA/+btF9m6nC/Png8JGK8WV8x0oIuWOmZc+ynbUHDjJhzaLXftklUoyYzjNdPynpty5TOeukO+VnzGqdnyRnHOkRGXbak7QlS8mZ9zaioONJwZ6fzmeE5NxVi3/LB+yNfKx9z6MWdmw1X6e7ehoFSOXyhy/sLJ9/mB/7IU573WL0bp+r08+o2O2Mj+9bIGK9aNmCFTEo0UgzLCC6UBD9+YPObaTzBE7ma3fFCfsUhF720Y00bDN8tPeNwd8zC74verh3TB8M3Jp2xDwZvjS0rdDTFwRgXWYcQfGX/MWDcYpMC9b294p3zCB+0Zx2bDKowwBOamoo4ZrxfnXPspR2bDnxs3/Oebglfya679hJNszeP6iBAVp/maq27CZTNl4wpy7bjeHmB1oDQdx8WOZ9UcHxTLRrizAB9dHDEqOxpnub2cghdjR13l0qXuNGwtMQvojUEDYRzkohf2EObQa+TtfsTbG55sRQIypyaQkYKw1/X3TmC9ZZh4tFMxh9rE9KsP02TkpYCKZm4obj22Sz8PJMZpSIViICZzG4DyAT/OMDsJQlBOXJ/KB1QCv4sOOpdxb2Kkql1HHGWoqhP2ZAiiEWzbfXevE8B47PbFnrjNpSP4eXTOn2t3VH02XdJLyMhD02e/kjqA9raRTT3xv2wljsPqTkF1konFOoiOqTnK6KYaU4uA2u48zULGPNkmkK2lS9jffGU0FsjSaFe9xP7qQblRC3F/e2ZErB/T4RpI4c5BDsMUDyOdDfkepkvC7GQ17yai/evZaH0SSN8Z7KYMOq3pRwnyqMUVnC+l+wdSDHTTiC/SIZ9Gf+1BSCJWcQv7HMIoEEaemAf8whPyiIoKP0oHp4miFYwQy4C7zaExxKknrDPCNsO8yDFjiURTRsbjMSqqJsce1RAVl+dz2tbSdZbL53Ny6xgfVLTrHGu9sPJI7WqdOGtFLuPcvgMYoxg+Ooe+XkuGaj8WjpG4rWQTbdrhkI6taCiKW8mBJCiMCcynFd0mp20k87ipMvAK1Riwge7YES4LzNoQRgG1NWTjjujFpduddanQF+AzCsJGWFOxiKjKDAaL6DTFUYW5tZKkMA/kNxrTKMoLTXMccNOArZWIlq0cwN1EXluVsB4SRi5JIOWlorxQZFvZjMpL0Zj6EQNEvNewRiuuYd2lTtymJ9JDcyi60/I6iKlDi4kpptraNjHFDSq2dwTq3Gf1+h51pMUsMroOApLWconxmaKZG9q5Htz5/UapPRDlctTfmIUzGOjjj6KRXUSYf2JoyLYBU3nahaW+M0J3gWzdYbdeEjI2HXbTCRevS7FKSQeXrzqyjZN0kFFK7EkRTO5wLJtkz1+r5E2qjCQvDDmZ6RF9YpN+zj2uRy4MG/IwfpG13ucS+2IfCC9fLL/1CKqoGCImfa5TJ0Klwm2v1+zpBsIgI7mz5Xnu0TFuJGOxYJM+dPJSvKVhSAQJWaSby/qwm/7GDLpV5EsZG8fKECdi/PBek406iehqMjpvcAnQa61nMmqY5KLz2nYF90YrHo5uqFzG2snF30XNp42Mac+KNW9NLqhDhlZxMGj85u4R125CHTLWfsSb+Tm/PvkZMy3O6jOzljFnhAs35w9q6fjdhhEfd0fMTEWpO07NlgO94zwBn+tomCopwpehQqvAB90hE93g0dQxo8NQKM+pXQFwG8a8197hr+0yfmfzpnATk6EtVrWca10rRhCj/4fHbsEn/qmWqVjXSZMksxDlIhBHgc/aI7pgeSW/4pG94S8svse1n/DcLbhyU7poeeIO+eXyMX+0yPi1yc/4wug5peoSHNtzL7vh9eKc+9kNL7oFXTS8nV0B8G4n2sYLPydTjm+Wn/B+cwdDYOnH1DHjaXvIs+4QTeCnzX3+v9sxt37Ms+6AT6oT7tglhXZ8spNM+Mrn1N6Sa8emKzgoKnItF/RPN4c03tI6S91ZllX5/yfuz3oty9bsMGzMbjW7PU10GZGZN29Xt1reYpUoCjIpgrAMA3qwHiX4pxkG/Af8YBiiJFggDJqkWUWKVUXdulW3zT4ioznN7lczOz+Mb659ssovvFEANxCIiNPss89ec835feMbDb65XWMxGzB6i+2enqu6DZM5PxSQo4IaSMVJs4RcE+Co7jXcUYloqaR4SNPiAR3VJObQgdz9kvurA8/s4oYAlEnL+Z404/keJT0mo70RAWMmD9edGEmZjEastYi2WOyFmZli4EwfWJwZ4fvVlqNfJVMLQIAsKoDLGZnNA8FHzsL5y5ODinLuTGsRUIVZ5/yTS60FkJrwGz7eqwDMMZITURa+VhyPhMCDPondy3WD5DTCjIkBYUYLBD3yjR/XFmFRodrSRb/aUB2YKo6D3IHFZLXzHEM5NWWQlqIvWQW/MPAzXgg/oyq4QMJUMPJ1N/eS/+fJHxyWBqMYE6ss1gpZeFQZqA6M3MqGiJ890Xi32mfMv+FiU4nO/M0tWATUZaNnBxIbIn6lcNSBsWJT2kdWMCfGhVVbGlhmmzFcU86nBg13a9G8dBxZ2sTx8DzSyysqKJeAoKAHCkb0zkIPGmpUCFcBcTBoFxyJ1c1IVO/NDCnTSkbvLBSA4VhBNxH96MhxHjX29zNkT16Y3hyQDyeotmEhB3BhR1HNpXQ+pJfz84jYGqhZAzWbTfYKiBHwNL9UGcijwYcf3GEcLe6/WQGWHJEUFVLQLNrWI/kit/RTYowbEVK/rYFBzEQPFvGCBYDpFcxqpNVNryY+lBkUbKegdxbju5kcjoy8gwaGDzzNnncaccbivP1Gw554nf0yEdmTRA8VQa+qwlnp2TDUmwwr9IJxyQKv2maEuaCEXZ7SPbQo1sYl1017w6KtFARFFVpQs/5SSeHJzxVrEHckn48IUSLa4xg5Vm8SzJAneyR3pNBKR46D6VXJztr2/Dp7ohArK4XYaIS5gR6IyCen0bwbYU68d3XMaN8MaN50tG9Rgk75hNhYRr95qmHHdSWIGP/PQkm65jJ6U6D35CBij34gGmctsg+0otKKSKBWLPzekx/zt/Y7yXmFD1PeuYoJuWHBkS3XTNlVs1FELsP58GF0oKYqvNUSrSdq8EpNk4Vqd74+dsiodwnuSGGIGTID7Dd5Uv2WB9WJpKSU5sIeuM+Ynmh0fXfe9k2viARuHfypQhoNxgMbPqUTHi2OiEmjdgGLZsAYLGaOcW7rusOn+2v8ZPMcS9djO7R4dVjjqjrhdb/Cp6dHGJKFVhlfnS7RxQpv/Br/avMD+Gzx367+HE/sHj4bKe5muLYHOBVwzBUa5fEXw3M4FfCD+jVS1vj1+BQXhqPgv+pfYJ8qVCpOKNhPhhe4SyO+DAf89VjhQo9Y6R7P7Ab/3fLXeOUvsY8tjMp4Hdb4xL3DPrb47eo1XtgdDBLcQYkZb+QeV9H7USlpBooauK65FlM8U6CUnv6tqkrMejWyD1S1i7L1w+oWlYr49/1HWOsB36lusDSdCGEabOK8AE+oVIRTES/sPX5Yv8aVPaBSEZ9UFL/8Z/NP4VTEPz/9Fu7iAs/tHlfmgDd+jU2c43P/GK+HNf7q9Byfdo8BAI/cHgtDtfATu8PPhw/wJ7vv46v+EgkK3/hLfNOvMbMjfnZ4hvuRZOW169EHhyf1Hn10uO3n2A4NOu+wanuc+hopKVS1x+7QQinySPVcFummQu4sII1+WkQor9G8tmheGWaqN2zasyXQYk900jCdkmhVTNZHWaZ0XPsKSNwDhwv9LeutbDA1xcmqifpV7rHQGmiZiJR9XEeijmFuaIivxbJNKVq/jHHy/dQh0Qg6Jtj9gGw13U9S5ri3MuTDF/cAMX5GyQd2FsViSsU0ZU/niXvKf+cYz02u+ADmcfyN97T3m48oDeUq6KZBCT2GMchdB7WYIa5bhIsW1XaECgnVdoTpoqh6A9MtFA8kcqbsVHyNFxamzzh+QEQwzA3GFV312xuPMNM8rOQRG5rLmknpy4vuDkQHlXQI9ZYVuA6MzPKLh+75HOfGigo77bloomORRhsYEYFI9xFrYLg8Wz/4BTB7TZEJ4WlwHDMKV2wAOWZ3HLsZMWyNLXldUMBwzfFhajNUUjB7wgAqcIRT/MFSk7G4pFdTVpk3lgKyyRivI8zTDmkZkKtMgYRN6E8VFose3huMo0XWGVonzJoB80+2eHS5Z8KVSegONe2IHnVoFiOVWGPmAm7q83jNe26STc1oOK2R5y1FIj6cPYyEo1WsEkqklmpb5ErIGkHhqy8eAb+aAy4DvYGde5qG7i2qe410tMh1YqcuUUEqaOhOQ/ca5migPHl9AJDrDL9OFIwcifoRPVXTiDWt/eQ2T/uAjOQyZp+7M98KVKWpSOuB8SJh9kpj8QUP8Gz5d7Vlk+AXGf01eaLHF7QPQgaqvUIyCmGmMPsmTwd4vRHkLYh90MDX1l+yMEhWjMk7Rh6VHNgSCWYGWsm40zl+TYudwfEDO3HGxqVmxBukG04cWcZGw3QJfkG0dFxpGR+LJYInsldeoz0Sja82geo3ALExwssRX8Hawi/Z+cbWTEaqWdIxbCfWBoYbYzIKsWEucKo0kjMIi4ph7If+3O0KuT4Pg0RQsiumb9YIXblvW3S8x2NCAQE2urKGAVDlLg9z8kTyYobxtIjwCzuhm+4Y6KPoM+19IuAOfD9tT56mOyTYnsiq7ROqQxJKCcfqUUbDRQkcWnqiuv15L2QxSWSQLxIYLokEZkcLqlSR08xGmEbnqjPA3kJ1ZjKF3nYNFs2AeT1i3zXouwovt2s0NuDVYY3WcvF+tbtk0kM1YucbSakY4FTEnZ/jk9kttEpY2xP+z4//FD4b/No/xtvABItPxyeIWWMT55jrAV/5a/ylcPqMSljpHn12eGJ3eOUvMWYDny2udE9TZH3Cj6vXuDYHDBl4Fyt87h/hXWyxSTMsdY9/0V1PCtuYFX67egMPg9+uX+F/2P8Y//L0A3xxuoI9gI2ts2c+Vll3fjybQyfhgz5oDKaYuEQ1aOHHK2Oo/jQZvzw+wa+Hp/jl8BT/YvPb+A/DC1RFtYXzSHupFf6fxxlehku8C8spK/m5u6dgJM4wUwOu9RFzPeDv1V/hmdnifzz8Hv68+2SKxLs2B/xny8/ww/YNrqsD/qj5EhfmCCc/8/PxERoV0JoRY7L4TnOLT7tHeFQf8NvzN/jh/C2+Oa6wcAPe9EsYnfDz7dOp8EtZoXUeMfEeWc169B2z1oM3LAKjRjpZ5Lkg8qMm7zQDuU7w84yw5DmYTZ7Qv2L0HNrzflf2SxXzVAhOIs7EeysrsdLqMDXjxeeU0ZxCf6l4XcOMr8UeItwhQkXyd1XIqHYSUJEhyn3Gu8GoyRg/GzUVfNmS06yiRFsu6snCSo1BCr7z3mTuj2ICW9ZYED6zhqoqxsA9mEA8HPl+Cwn8DR7vZwRtDKCVjH8j9HLJG0Vxw9dDgNr3yJWFyTR2LTEqZiCiAOn2kQE/5y8yriya2xGhZUFj+zwdwO4YJluFZBWUOmenJqcQBB1pNgnJKKSZ4vNmTJU6PbISfKsxeycE+5k6x7w9ls0+ZXRPNNyOm3asxCRXc1wXZdHZjjFw9UZGe5rID7t8chIA4YB17FJK3BzALlwHFn7JPfADTN/+PACJFdPoH7NDOrxZCGql4bYafpkADeiTgncOdhYQDg7YOJiTRnjscTw2SFEhHy3Mmk7Zd+9WUCbhaBogKvijAwyTRJTKiEHD3lv6JDUVvf/2R5Lw6wo4dexeup5xSL10JcYAs5aI4DBS9FHRFwuuQs5xMpQGQNHEoOHX/OXNwSA4C11HuJcVYp1h9gZxHWEGcvxUVkCEcCRpJzOsE9ythektxsuE7DLyyQBWDsJZhLlzQFbwqwT7rpqMQZtbeun5Nf2k+idUlLUvLcYLmjgfPlZYfK5IuBcmsIpUeMeW3Wp9J1Y+FTexcZ3R3JJHZUZyS4fHCtWe64lRbBn9pUb77mzoPPkTJmBcM7aoiDNKF1yeT48c9dYbmpnXO95j9e5szqyD8Me8Qr2JU3dcbBFIm6DBs4pAPST0lxZhzvvOdry36g073e5pg8Ep2FMSA2cNewoPNkYSofWYJBFDU5UdyKVx4venhwAL3qenFy2aN3z+IrSI6zn04KEk+YNdciISWNfIXY/U91CumsYm2f/m3TGAKXwdEMqLD1zzyrJIqCuigFojzxx0H6lqjhkwPKTCzExFdKrVlLJSDGvtMSIUaxgn+cleeIP5vE9Ep86+pZlr1YwZQSIrtaCBKmd4MQzPkvFc37FJ9YqoSrXTSIYFIQDok5amM8r7ppGTwiB54kpn6Mk4mgbxh6HCqu5xUdMQujEep1Dhpp/D6oSDr6HnCWOyeFoFfN1fYBtm+Ffjb+Gp22GfGnw9XmFtOjTK489P38GH1R2AC8Ss8U/mP8NtnE8Rb79bv8Qp1TiqCi/MFn12GLLBXI346fgcnzjGSP7F8HziwD0zJzQq4F1c4tocEKEnr7s/6b6Hb8YL/JPFz3Bpj4jQ+GxzhXqXiPBaUldyMRPXisT8VCZfmSig8L0A0g6QikWMJoIoiKAeA+o3Fp/8w1v8Xvs1vh6v8Y8vfoExG7wamMf7gYx0nYr4v9z/Mfaxwdp0+F79Fn/Vv8DanPDp+ARL3WOfGnzk7vDz4Tl/XgW89mucYo1/OP8VNnGOr/wV/t3hu1jYAd+v3+AUK/xP+z+AzwZvxyUMEk6xxn2Y4XW/wh+vvwQA1DrgVbdGECXkf/nkMxxjjbfdEtfNEZ9vrzCvRqzbo7w1Ca93S8So8O5uRUMQk2BdRM4K/qig5wGpN1BNlEmogtpberrqDETFqZYG/JJ7ZXTc50qhZztMtUA2Sjj/mHLQtZyr1T5PYrty70yuIY3ixE2SeuyQqMivFQACS27nqZDPvJ9sF8kPzHQ9UA9UwComxNZCD7z3tQi7aGEVp/0jtg7mNBIgcZqG0SkSNAGAJM4CSp1FbUVkawyUUFHKnpQT/6+s+w13t78LEQiKKzWNoJXRVEBZC1U55MohtQ7JGYwXDm4fiDbUNI5Fzghzi1wR2RtXdhr/JKvQvhPCZKBBY2g4OtKen7ddgp9rmeUnuF3CuOavVbrj6kDuVLWLCDODcXFGD71YbIRGATMx5L1L58NyAKDprRVrdgr2KL5rIxde8SDK5VCW2JpxrlBtJIw6AG6n0D9NcFvN7ly6lGIMXfhoAAUI5qSnoiTbDBiFVNH/rb416J8GVO8M/GVCtkS5sskcC2cAo0YcDeqLHsNtizgjTy4OGmoWgYqHZNOO8L1F7iyykJXULGC2GLBoBviosd3PEFaRB8zArEJVOfpcaX0mSZcUmOIJKPZAuanI96gT1LwFijrTOC700WOcK+QmAqOW1wGedCN9y4YngRuFAuy9RbjyUCeqQ7PNqB91GN/OEKSTCnNyxwAgVwlq1HxPI5B7jVhnxMxirWwU1YbXsX8ekXVG3FmSikXBXQLGUwTGSxb3RZWZvfhW1UTihktB/LY82N2OG9DxOR3uw4z+kuNKndHhfO50d99VaG4wGUBTbZwnXzcUBOiQoUZM/EHtifxFiViLjs/v5wqzGxICjcSH9Zc0gm7viTQNFxbulOBnWmKO6F1XbyP8QiNWih2yVuiftjBdhD3xgDNDgh4j8oGpGKYLUCGgeftgFKvoAAClEFsDFfRUDGmtoIeA5CRT2It9hjOMgNMk5OdZA7U/8fCNCRhHpE4uStmXCmKj3xMFzAk56W9xAbMP0G1LAdOpR1605ARJtrkKaRLtjGuH5mYk+llp2BOTiiAHSGw0dBGf+cJDpv1V8QXUkSNfuhpgcj5QSdbF7KxABwAzcq3FRtKNAMkSh/A1gdDkKUe1jOKg5d4faaeTs0KvMrTJMOIW4KoAZyLuTy1qF3Dft7jvW1y3J3y+ucKiZsH9bL7D0g7ookNrPP588xH+q2sqcP/L+S/x/9j8EV7U9/iwusM+ttilFlf2iOfuHnM94H/e/j1EaKx0B50S/rB+hT4beBWAXOEXntYxIzRehzUuzBH/78Pv4uPqBk/sHs/sBps0w7/uPsGbsMZ/s/hLvItz9NmhUhGVSrg2B3wyf4cv/RVeuHvErPGd9T3ejFdsWAuaVxI/fEDuSxZ0YCP7wP2CY2JOOXKJkgM/XsRDKigcYg2DPKGRTywVtN/4S3w2PMGtn2NhBny/eYuFYU4vAHynuoFTAS/UPWZ6wJ91n6DPDj+qX6FSES/DJb5XvcVMD/j1+BQfu1v8bv0Sj+0enw2PsU8tfrv9hikqGPHx4gZ3cYHPukd4Wu8wRouv+it8p73Byva4XJ7wL978EFfNEc/bHTZji1XVozFMhHm5XWNd9bjp5tj1NUIwMCYjpYyqCuhPFVLS0CZCVQnp4MgB7A0FIVbOvF6T42eEMnNSGC+5z5niY5m5dscVHTaK8jfMzvw3d6Qgis9DhA+QJlmoV2V/TY6Ne9YgGKJKxKUCPCcZseK9Z04BsBwJ6zGBsW/iC+jTlOebKgMtPEHy5IE4a4gEDoEj4tEjzRtMXoEAkLPsGWniE5fUmZxl9OvD5Gv6LdGH0t/iPf/HPt5PBGLM1GGXF5VjotFvXcnBT/m7OY0wA9GIoowDIFy7LHFueTJ8zkZxZOILVMvoqdhqjGsWidpnGS0HONlYx7XFuNQItaCBisVdrOjVkxwPx6wA3wq6oiBpBcIlMOQQjEuFJFy+ogSu9tLJW35viXgrSExWJGTHWgmczYO9vs+o9oDbEqEKsyxjZb6X5Dko4bNxLGOPaoK7uXkzxzPVGcOjCLc1tBcJdFBPdaKAoo68waoEbB25bZIgUj07Qa88clB8Pp1w2Lb0FgQAl6EXHq4OCEHjzdeXOJwaxM5Slt8nboTes/gzGiXqrSxeGMMNdPQk6o+eiGAZm3U9CfoP7YMU5f4wmYWiyTBNRGozzNEAOwe7HlmM31uOcAFAUKodZAABAABJREFUhBdoI5xj0aa9QvXOMoovYBonZJUnQURsEuP6JKqvWAfElmMI3Ss031hyNU8K7VtyU6oNkdlqe3abZ0waJu5nbDj2LR/To9AKLugrWe05kktVxukDNWX80iNSTV5V9kQUutpmURsrjGu+ZiUpIBQykbJQqBRm4OGuPXOBQ82fa/uMWOnJFkZ7cvyK9dGU2pGydMXkyY4rA7/QsMfEJB1Rv5kukpqxtpP4ITY0etYju+KwqOCXToodi9AaDI8qxJYNYPGhU5Gjk+SMoJTCFWz5vQhx2ktKBJuyjJ6cOFfWQjfNRMSnJdX7e91Pj1IQaI18ZA42nEWaccZkj55RcE6ykLVCvfGgdyLFM3qkWC2J1+nD6KqSHlL+2D7J3xz92kEoAtK8lqLvof2F7SDPpSaEuKAnzD9VcEf+SZKZakbAbg10J82UI6WCSI2CNgn9fYOUFPxo4aNBygoz57GoRuxODe77FtYkHEeHw1Dh8+0VRR/yZ+9r/OTwAhEKPx1e4INqi22YwamIU6pQqYBtbPHF+Bifj4/xDxaf4vP+ETaRY0+DjGcmYp9azNWIRnmkrLFURAc/Hx/jidvht+tvAABz5bHUPET/oPka/8vxd/ATGSlf6BN+5h9hrgeccj2NX/vs8Ou7R7KvaK4hseUo11o1DQvCMsUoNlflUczIDXl/eaQQpHijhkWGUxGv/CVOsUbMWuLbKqzNCR9Wd/jx/CvUOuCZ28AgY206XJgTPh0f41/uf4SfDR/g8/ERhkQfxT/vPkGEwtfjFf7H7Y/x6+EpDrHBL4dneBUuJ7Rvrgdc2wNmesQ2tuhzhZkeMbcDvunXWFUdrqsD3o4rbDzj4H508QbP2x12oUZtAqxK2I0trE748dOXeHNaIIqgMHgDYxLjQweHdj4AKiMlDWM5/jYu8WwCoI8GeiAfW5HGjbDkHua2pLwUdK9QqSjqkz1XrKhI9ZIJSMiojhnDhZ7uCyU8/sLFtR0pYKSgJDZghkh8VmenkjKZyFaQQPHvBMhl1mOEHgL5f10Q5D6S/+cMYuugB+oaUuuQZg655V6hTyPSrOIoWHjzua0xeZq2LQqfdKqt/qblS+E4/6dMAlHW8oUJ4pPHkYv/BKjACOm0arlpKipoqrsRfs03goR22RyHCL+0sEcmeSRnpsMhVeTAVduAcWW5UVXAcGlF7XtWNxbri9Cwk86GC6C/NHAnZgSrBFTHs4l0aDk+yxYYxVZhuOTHCgrnDsIjkJEeev6sUWw0ohi4qsCaZPEF0D/i9w6XavKLU4lFhXvQnQPS/ew0YkW0UEVgWJ4hcEBinS4ScpOgNhq5ghhmsiA1vUI4WKigqYpsI/TBILcZeRExvp1BrVm0mzsHv1aA14BLgM6wTUA4WdSLHkZl+NZy9DNquK0YXnrP0UY/UAFsBe2LkYW/EOTh7KTUzN5DzVpC3Dmzk7YWabcn9D2bsTDZWaIRClAqw22I7uagEE4WiApxxuSU3GmShesMDAb9L9dQbUKYEyF2O47EU5PFVNvI6CzTxkUK92TylNBhRoU4y3BbjWwzUlKT1UpsSKILM8CPLFhjw42nvWHahhMLgunwjdzA3J5j1+HyfP2b24xxRX6LHtm1xlpheMLnc3t2yEXF5o4sBOp9QqiJ2oWGqJyKABSpDNUhU70eMwarpw2SvlcExYw/P3fx0XTHhNAybSc0Cs1txHDJiKTCAUy1mnJ9AaDeePi55HYfRuSLWkRPRiLiqORXxSV/zHC7EWFRTZndeogY1xWqMVLFnxV6sZqBAMFpzbFdbisapR5P4iGZMGX15sQRnORkKqXwd2IDk1gIATKN94xBVEoh1w7m/oi0aJjz6ZPQTDLGixpIHOcUD9NYSfMa8jRy5zg/f0u5Tc4ni7gkfMBYa0mJ4b3e3JOWUnwjbXcmw2dzRq29CI1KXnOJBizXHwqIC04ROHKm0j2NHNWPgQdg6g3cakCMGkplvNvPsZr1qCQ3+FLi4k6hwsyysPj08AgLO2BddVi7Dp91j7G0Pb7fvEWtPTZxhu9UN3jlL+FUfOBtN8cjd8BNWOIDt8H/fPwdvHD3uA0LGJXQJ8dxcKox1wNeDpf4r5Y/x6fjE4ySIfzL4SkAYGV6fFLdQCNhpge8DJf4yN3CZ4P/cPwYP26/xGOzx1/0HyMmrn26E3TT2FcB52bVRxRhRxE/5tETGXxwFipnZT1mWaecKA3J4iYs8Mge0GeHT7vHuHQnvKju8f3qLX7Sf4Tfb7/Gz/vn2McGf3/2OQAWsm/tEr/oP0CjPLRK+NXwDAvT43W4wIfVHX6neYl/e/w+AODKHvDF8AjfqW/wUXMHpyJ2scEzu8H/6+Z38f3FDQwSPq7v8I1aI2WFXx8fo9YBrfH49PAIn8xv8XZYYjc22A4NPlpucNPNMQSLXdWgsQFvdwt4z1CBylJNnlLCMDjEjtxj1ZN+E3YVgQkv+6ucWSpynde3nE6UaE2e09w7yxl5NkXPcibKutYQX1EZASs6hGQtMbGtnqIWtc/wrYKOCtrJ/eg0TM9oRz0mKJ8AyfdWkVNJtwuS962gQN5fqjSjKrtAq5dFBRWYcqZCgs4ZqZHwgpgBAbNQlMgCmqjRoyQMTabQ1p5TjYTvl1M+73HvoQAG3lcEUubRxlCJYgy9t1wF1dRIlyvEyxmSlZHvSCPaXGlUd/2E3plB+DpWwx0CtLjp63DmwpQQ+qIQjK0YOhty/IIYy8aKaE/pBEKLKU2BzvrkxKhEfpXt+bzuyE7YDOeFpUeOd5PjZpssMFzxeapdnrzTipmu9rLwHiC02pMbWAyEoYR/NZ5tREJLI+isOPpVmX6BJX5Mj/yTNYtPPZCPp7IUJWvandidIYKYRBgx6Gm8o3cWCHKIvamBIDF6o4gnjnzRYVPBLUYcti32hxauDhhODnrh4ZdE0NA2RAGHkYehD8h1Bcxa5N3+DGNbQ0PoIgIRawWY87JT8znUegVkHmbKK3JBDgZhU8Gv0kQMBgA1qslKBwDSLMFtNOzGEDEdyCOJ84ThOjIeLgPVveE4s+Pnh6uE8YJ/wlWYxq5JTEbj7MF1VBnDJT/e3FJhSdQtw+3ItfILWsOMS3I9mzt2srElIlhviQCrCNgjEeEw5wFf7TJHspprq313jhis9hzlxYom0GbkKFBloLsyGFYs6lxXUDygvzoj4AAmHqAZM+ptPFseFbWqiAwo/iCtQnu+H80dSdHaZ4xrC9MlHD+oSJpOGclouH1AmBn4K6r9o8QjhbmhUCRlhKWbEPYsjZ1fWRZFjYiXnJaiKaN5N9Bf8DDCnDzCwiFZkqjz8QQlBZgSlC8Xc97KTZ1yjgnp78IIWptvdeG5+MIpxbVvNAtNUfhlw99jErwYJXsa6BnYJ1F8iwDkFGGPEfaYpkKcSmwlqLLC6RFH9TqI7U+SmDihnVAZLDQCSFOZz+NigFOHgjTGmvuV6eWglVQc5RVyS+6n6jVgE5RNMIsA3UQEb6HEm9N7w6SQrHCzXWA31vjmuMJhrLEfG4zJIiSNT7fX6KPDmCxenda4GRb4d7vvImWNU6rwxfgIWiUsTI+ZHnFlaUrsVETMGjdhid+uX+HKHPCRu4UWO5OfHF7gJ6cPMdMDfrvl56/MAadU48fVa/xR+zn+qP0cnw5P8NjssNI9Vb4qYJ8a7FOLH7df4kt/jUZFFoXesGgIQfjsWrLLS7GuJmshNStViYGqmTwDoyfeVuGhwhjAOaR5jfFRxMr2+J3mFd74FQ6xwe/OXuGJ26FRI/6s+wQzPdDSJjk8dVucUo1/c/wBnpkdvl+9xSO3x/eqt/g/Ln6K/3rxV7gPc2ziDD4bfOWv8TvtKzwSi5sPq1s8Nju8HVf46ekFEjT+/PQJnjV7LE2PWgc8ddtJEPKi3QAA5nbAj5Zv8PnxGqdAsOaj5QZ9cJg7GoPvenLXYtRYzntonbC5n0/NEhedguoM9+8q0X1h1KjfPsCehBPvjgqhpfVZScui80YW4UaJX6XzRzl7bZ9RHTLq3Vk1ryL/LmPgWCtO/HJBvamst11C4dmqktyjgWwV/NJBjwl+bqWGoRgo1YYWL1mmdTL2zY4fV4Em0JxYOopDfITd9VCJYjblI3JtyHGOkfZWzlIMOXrmmZd1lDMmv78HzgbKmPcWur2fCMRSJQWtZBwcpOsWJd7hBJVEBdMnjI9buO3IN2bm2OUCtHyptYxC1LRhMtVDTWkhUDw89Ui82HTk5CkReBTBSHJn4ccU62Yw5QCakagio5gAlVls+vY8jhtXLA7diV+XFTC7jdjXdhr36gwMK9rLjCtZXOLcT9I/+WAFwbMnJkFUm2ImzXFlc6vQPSHH0Z7EizDRtmG4TtO/9UgOkF+yIPILcLS7d0g2o9pq9I8TPyZeSdlJ3mekuCKbjLhOgFdIrcDyH3QIAzs1ezAIcwvXBIy3DZLc/KlOqEaRz6dES5f5jMhejFA7zrJVXZPv1w3CDeTXTRYxSgH9ANU0JFcrBaXsufCIGjixcDWBiF1sE0ynkQILYQW+/+HKQx3t5MWYNRHUMMuobg1Cm5GXAVlpmM5guEpIlzJePSpAgzFDjmru9i3tW4pxd1k7OBH1m72mlQ9kMxovMKnNx3VGqmi5UW0U/SDrMp4gOtM9ojijmP2GBmjuiPop8cGEVrB7aTauxf5AGpdCV4iNmtBLJfe/b/m1KgNqzBMS6E4JoeHmx41PTWKp9jZRtCT3GAChVWRUh+J5pWGPTKUoNgjVgaNMaCkixVdrXFlUuwATMobrGvTwMuQ/7iO5vprWKDSDTrAHT+XeoKZ88FIMQkbKKgN2P8Lc7Lh+GhmVSOZqHs5FHmO45E3Rihzlv4PH1OgWFChn5BApAJENPisFOI0wt7DHAHsMCHNaFcVKQw9MRAoSfTmuec+RS0w0tL4PiI2BOyaMSy3uAjL+zXL93ZnWYkVNrOWe4EGaMay5t9UbiRaUZkQLIp0N6E7gKaTLKqO6Z+QhklBRxLg3B404KKgqop6PHO/NBszbEd3ooMB0B6MyTqND7QL8WOPXu0f4B9df4FfVY/TBodUjFm5AgoJGxs9PT9EajzFZ/M7sG3zeX+NHs9e4MEd8MT7CTI9Ymh7fqW6wTy365DBmgwSND6s7fKe6wZ+fvoN/f/ou/nj2Gf5d9z08s1v8F+2n+Lm/xlGi0mrt8Tpc4JgqJmZEmkTfxQVejZdY2xMiFC4MHRUmjm3KyHEkyhfBYnD0bDhC4WQJnaltMPmgOntG/WS9ZPlc/c7g3bjAn8Tv45PmBo1iTnGEml7XTVhipkcYlXBlD3hh7/Hp8AT/8vRbiFA4xAZ9dvgqXOCXwzN81V/iB+s3cCrimGrchQW0SrgPc/zXi5/iX55+CzMzSpHpkaDw+/OvsU8NUtb46ekFtMpUQOuEf3z5S3w5XGMXGjSGTfurbo2Tr/Dx8g4/e/MET9YHKJWxObWoqoD72+V0r1QuYHfLAAK4DAyYKEixTUAtnqpHjTBPzPbdaUZjViJmGtVEXVCR3Hw26GevXh25544LhfYuIzoRs0nzQ8FGoVQA1mahtOjJEk6PGa4/05BIRzsX+ypnZpg3llznRGN6LTqFLBOW2BqJuLXQPiIuKiBSLax7j1w7+MuWqODgif4lUtiIGmuoYyf7ilhdadE/GIMcz1S7aRScE7LP74UCvhcCmIpZ5jieDS9FnaesRbascPXJQ48Bdu8xXlaIMyoKVQZMTz+c/sJgvLDIVsH2DFvmCIQdszsmMWRWsF3kSDhlohNjhtsHCV7nRUyWfmiztx7NJsKdqK4skVdQ5FK5U0YyVEwWefiw1hPUnBzHalnTQdydsoyZuVj9gkVDyRMsWZ394wy/wmQSXUjb7WuO/XLx7hMOYXND6Nv0SviQLPTMoITwytfnl+zim3caOihUN4aF7oFmxfaogUheRVpE6DoiHR3cvYE5adiDmQq96s7ALjyCN9A3DujZqeWTRXg5gx418iLSTiWSUN68Hc6JH0azuLNWRCDkM0xZwWUELArgKT7OWo6NlaIljPeA93CHhPpGwW1J3MguIywpaAkrqn7DEw9/EYlc9GbiwOnw0L+pdI4Keus4fsgcuxaFtTvQd7HYYOjIUawZgeTIucsG6J5lnD6gchiQMZqSsa0/F57ZyPksnKpkWPC3b3lwHz6kyjK04u9Xl7VBVSiAaTxRuIMk8nN9FJRQJaDepIkH4455UokWg+AwF+NhLWsvEzVqtmmKhms2ROb8XNzzI9W9w0qje2yRlYI9MbYsVRolvWLi1ErkYjIKeoywx4D2Tc9irgv83iFNyCqd+TPsMUAPkROAlKdxadZnby2/qmC3LOpUpjpYdx5pNaNfVoi0GDKaHpJKiUJ35F4UinN+OBds7/P4G123KgKnxNdRxsxJDGDdwUP3QdA+0hmMFH9IkNjLhGpD5Dlbph0BPEhiTXsKOwhXU8bCRCzytJcAXEfMAOa1GS4KUszGg+puFn8qnTPKORIW6oD8O7SAPWiYnZmQQCjANoFf4xK6Db1j+q7C/tAiZYV+cDAq4/liiyeLA9Z1j8umw5gMPj0+QqUDPpxt8GZY4YNmi6Xt8YPZW7zrF4waG1v8uufo8RAb/Pvjd3Hv5/hyuIbPBps4g1MBP65folIRY7Z4bHZ4bHf4P63/DJf2iH/S3k5jXaeI8n06PsYp1fikeofbuMC1PcCoBKciKhXxLizxYXWLP2i+wlIFXOsBKTL3Og/jOWGmcKyMnkQhSmyrVF3xY11/RoBHjxKEAC1cVGOgdx3f52RgkJCyxg/r15iJTYTPBm/8CgCwNB0+rO7wyl8CoDXMTVjgxi/xTxd/BaMS5mpEyhrfa5ll/EoMr50KSJlF8l/0H+Ox3cMn2sH8883vAgBOqZ44iFplfNld4h9d/QpX1Qn/+v4H+LO7j/BvXn2Cr/YXuB9m6LxFHyw+312jqgLe7RYwOiMJ/0+7hEePd2iXPbrewTQReSP+KyuuH3NPX1pEmjybng297UoyFs+70hSV4s8v1ZSYVOxgsimcVn6db4VDnrn/kvNXfFE1hpXQGMTnLyvAdIlIuaK2gL6ZksYjRWASS5cSW5vFDzA5qW08x7xuNxKZjAm6D+KHGiezZzV4mkbLOFkVl5Tec08byRVGYKwlRk+kWQQgf4vnp/T0sffZ495PBKLVhP4VwmKBLgGwEJCf4q9mGB7VU3GmB75p/EJudqbjnD5ZPY2LIZYIpyeW8VS1moiYWZIJVMpU7dQMsw+tptnt9hxNFVrFsW2m91bWQLWnV5kRMjwPX0ULmYooYahFUVnzcI0VxPaFB22x0EDix4v31vxrjlayHPrFa7BYNZQOxZ3493CVMa64uTc3Cu7AYjDWGePjiOFRRGwy3JYoYXIUMqgk45sIpHmEvw6objkKVoNm8kVH41l81CG2CWrQiPOEMM8Ie+bkxgsqbJPLsHsZXenMm7YzgMkUJUSifwiB5OjjSXgywvkrKB8ElXUOEGV4IdAD4MFZRsLWAs5NHV1yGe6gSUaPCqbTcPcGYZ6gTgZ2YzBeJti9htvxxoaMw4uSOhn+MZ3Yniwy/EUi0qSB7mmimOa6KLEgflIFocvoH2dU9wqLL5VEcYmxaKYSje70vO7VlkUlINdyTfNnWgKJ3cCBa2D5ZaLoRMnzSVGVFZWgfqmmVBCABW42pAuMy7NZcGikgPSYaAhmyGhu8xmFXnBjmwqEtcY4F+rEgpxYM+YpHN11WYQejC3TntYtKtHwOba8x7RnE1XtPEe6Jfs3A2FOIUisC9UDLH6UrJ8HLvlhxoOUnn8acWZhhog4c0hi96RCQlg37JaL6AhE+5ivys1QiVpTSTTl34UARFk3ZXCWR+oHTBmwMU7Kd5VFXLZwSA2FMVlG4iyCiXKqMU2uBioSGfJLuXcy+X7FUge5eATy2qkkllVJSOwnmSy09JUsTWi1yxMnUMezWr00GG6vkKqSP87DMjX0H0w1k4jMnmrNIAKxOBggK8SjQ/QacTAYeocUNZyNeHlY466bwSeDLjhcN0fM7YhPt4/w5ekS35xWeNldoNYBX/VXOIUKP9k8x4t2g5AMak0hyAfVBmvb4XfaV/jA3QMAHCK2qcb3qre4D3P8cnwGpyJ+NjzHM7vF/3D8EE/MHo32+LW/xlyNmOkRzy3VvdvYYhPn8NnijV/jbVjiR/U3eOHu8fn4CP/L6bfA4YZMcppminMDcObyAZii4cqjNAiTXQfXnmobXtNCD8gZYZaxDzWeVHs4FfFn3Se4CUv86vQUvzg+w++1X+MH9Rv0yUlEnce/Ov4In/fXuLRH/L3Zl3gZLvHSX+FluMQpVbi0R/x19xwRCo3yuAlL/FH72ZQcokFhxl/3z7GyHT5wG/z89BSN9njk9rjzcziV8NfHD3A3ztAaj6Xr8Xy1Q20iDmOF76zvURme685EzJoBu2ODmDQuZx1WyxOciRgHB+cilMqwj3oKEneWaU0VR6aq1zI1OWfpMllJaDMlgrkBwrxQsUibKf67pG5hmvrpeG6etSenf5R0HB0yjC+8Z3pt1veBNUYRcYqvJhvVNNEzqATm/UqT+oL6nfO9dVH9+0hVsFFASJIBb0W8oqA7+oSmyiLOK6TasviDjJ+D8OiNOdOkHnpQFq/TkgU8/cm/8f72/jtkKvNpIPsRSgK0s0DlqkSgAILQ0Qewuu0RLor3W0K14RuWvZgsJqDuOTYqXKSSdRlbPZkz8wkAt4vo5g6xUqgOCcNSo95lMXIW81zPjNNhbRhF98jSHuaQxJtQCQldopYsi0vbndEVdhgJ688Cjk8tlZsz+gGGhkXpuMJE4LY9UZowY4ddRsU6qMk4OrQsNMzA/7O4o8mxSgr6pIlmDWoqTlIF5CrDL2n9EtqM5iuH/jmJ8+YgRbKj2hSjgvlVizzPyE8H5Khgv66Reou4TKg2mkjodaAsvsqobgztZZYJqokYV47XqHI8yHPmmHcY6fVXxh7mPCopC1ktZlNhCABpt5cwdS1kfhndLxhx5ucR7l5jfBSncefslYFf5IlLCQB+lfi+RBbM40Wevt5fRiSvUN8I2jwY2usIh7C6V/BLoqYqKGb6nhR8A+FesojqH8mB6TgW7h9lNDeYhDeleExCqPfLhNkrg/6aKN9wQVuY7jGRmVhxvcSann6x5vMkJxYHgRSE/hFzg5t7ItvVriBlmNDOWAH1NiFmNlFqS8V6vSWy3e4ZpRjE7ohqeSLeOhBBH1ei7m40O1gxee4fuSn/Wnui8OUeJB2DCrdYa1TbEWFB0+xU64mknSrDaLcxwYwJfl3BbUfEpZOoJRaOsdKSFRxRYuYAikmQHQsmZ2ikWrzVRo0c48TzU8aQgiDqy4eh6b/xoyh/xYWfP0gTgZwL+iO5xLo3QEUT62zZyCqf4PpIH8SB6GZyjJUqB4iKnHJE8QjMVtFIe2Ynsvg0og/5PIXoiohOxmRjFjshfm1ymPbIKfJQExn0c5k2aOFbZTAjeOLAJiL/gVQJeMU4r1mYOOrNvFhV8H7qvUVKGr2xcJpFxz7UeDLb47o+4fNwhYuqw2fHa3w420xxYikrPK83vJ+zwZAcTqmaIs4+cBs8s3v8u+4T+GzwneoGMz1QBWw6+GzRKI8IBacC5mpEhMILd48EjVOq8bvNSxhkfGQ3eGa2AIB/efotfK96h0Z7/GH1NYYM5Cg2RWXdyBhXGS0F/8hxsC5rIvFzhZ9VCkZPdbByjLqEMVAhwvQKViWcUoVtaOF0xO+1X8Nng31s8I2IYb4Z13hR36NRHrX2WJgBh9jgTi3w2O7x1q8Qs8aVPWIbicR+2j3GjV2yCB6f4M+OnyBlhYNr8GF1J2PdFr/un6A1HjFrfN4/wt04w9IOOIYap1Dhvp9hTAbLakBjAqyO+HJ3iW50uJx1OHY1lrMBj1ZHvLlb4Y1foq493m0W01qIEhuaO8PY0nWEvbX0Nl2Tg5qWAebe0Tx/Q4pTUe0W9XqYi4huEOu1wHWcLKZwhWwE5XacdGQ507PwZwFMhWasNdw+wi9LgkeezJz1mIRTm2VfZ1EIAHoM55jZlJGNhuk8wqKaKC0qnFHf7Bj1pgOQZg76RE4gtEKaOZh9D2jy/3ItPMHKAb3wT4XzVxoQ5ARECB3hjPjpup4msb/J470lcjnGb2+yEluijKZX3OChxgDtI8wQUd2PJI2vayifcHrC6CYj0uv+yqC/ruBXFsNlxYs0sLJ2h4jmLsAeonjnaTn4SVCfCKORBE8Ak5eQjhndlUb3yIgVDIAMtPfkppUAe+2B5i6gvmdcFon4icRggZ2HtcLxKX+eEt+/kgSCTKFAGQUjQThW/FhsWMAwbozfX99xIz5+lBBnkg8cuBnrgSNLFQUWD+cxsdsYqERPQGhgeBxh9gZ+nabRKJKaCpXQAnpQSL2BfleR/1Zl2C2Vx9VWwcwCUsuiMrZMFMGFh35X0dh6Zs8dh9bMYJVIt1y5sx1M5abud4q56WgeDVEEQyso56gOlkJRe6p8zV7DnhSFLVXG8CQyE1KIv+UwS6twVjI2eRppxVkmqT2R4+cX5SQkGqLEDLm+M/CrRLWwdJ6FZ1n+rUcg1TxYY03+4HB93ljGNb+vueXrq28M0zkS1x+RU0ziDr9Qsm44glWB3zd7S9Tbdoz5at89NC4FhgvNjS9QVOI68lm5gbGwZCRhnhTxydHQ2XhB+iSYvKjliQ4ydjEWFWrF2EZ3SChZtWFmEGYa/YWZxFl+QcpGNgrjZT2lXmRV6BRJ+HsDPf0U4LYjdM+4OHvwsF2EHiOq7Uj+oU+wR6KKeqSiVnsp/kLi2holUimRJK2cnaYRRX1ZfPveJygdAEUfReAmk47CBcxBJh1BCNxykCjPoHiUkZKMfWgNw/GSn1mmnrRMOYqNlmsfH4jQxBZL4i9LMpGOmPLQtc8i6uCaLugxLTTEUggQw/LzwVpI9aThkFdrO47k3FbQ90FDiVmvigowGclrJK+RIy1htM5oKo/NbobBOzSVx812gZQVXh9X+Hx7hT46HEOFpevxv779CDfdAncjBRS7scWQHG79HD87PsUpVXg7LqGRsQ0t7v0MN2GJP+s/xrU9YBtneB3W+HR8gmOucG0OeOUvsNQd/qz7Lny2+PX4BI0K0Ej4Sf8hdqmFzxbHVONPuu/CqQitEn5Yv4FRCZWKeGYiNrIBxFYmWpWDXi7YcAD0ZkuZZtAhAHXNfctVZwpMEYg4OyHQynL/y9YgzjJ+f/kKH1e3+L3ZS3zgNuiTwwdugw+qDb7orwEAfzj/Eh+5u4kPuLYdFqaHUxFfjI/w92ef45Hb441foVEBj9wBKWv85/Nf497P8NnwBP/N+j/gh+1bnGKFm7BEhMaHzT2cigjJ4NVwgRf1PV40G9yPLULW6ILDsuqhVcZuaDAmg6/3Fzj2FZyJ6LzDs4s9em+x62sify7ieGgQJfXjtG2hTUb2vAdMr4j6ORZnbqcY6ya566Zn7n1p6k0v07EDE7VSdQZUAK5fM+AcjiCAwJRXrshxLoJQfo9YwsRM5C8B7hj59ZaFoV8amUJpZpYfSWVRIkolP1AQOQUmFMmYVw+BiJ7YXamYoU8ja5/eQ43c05SXsXDCNMkovNFsNPnNABNmisijxMDJXjSJ3JLwBd+jyX2/ArBssMYwjslVE++GL4wZd+OzJSPfdiNMH+jHZzkqZNpAnrri9oacPiW2CLGmGicbRZRAxl/2lFDtmGIwroxwu4pdRca45K9mOx6GvtUk1I/n3FOO3jSiKLSTJUK3+X4FO9DWg9YaGqHRqO+p7sxajKMToevhApMXoDvw4lS7TP6XvMulgFv/SjZisWfQkd9jOxZnpisWDvmsjJrlyYSYyRIsJAoAmhz/ZbrSPrEYCgsZ74xKuGtyEwwGqc3wSxLEU50BnXH6rkcUVXDz2nLEPBTuBCRKh2TV3IoDfuXYuYQINYy0hinEZ0eIW42ePm7jyEM753Ockvw7h0AF+AgqfYt5Z+Iour7qMH48Isz5u1f3FP/ovWVm8lWSoltEPl7B9Bp2Tw+/5oYKs2Q59lLpzLW0Rw09crPIlgWe23H8jszxsQqiMFcUfAwXVPUaMYH2M16f+p6bFn0H+Xe9Ico3rtXU1RZhUCnoYs01Na4UhpUmuXklP2/Fwqy5S6Lg5Ybm21KwFWSaI2DXJXgxSI2VwumJQb1Nko2t4Lok1kfc9JJVgsRholRkw3vPniL9rypmdLe3YfLDUolFYEn30WOSEUvJ8qZFQljWiHPHsa9iR1w8A7NW8KsKYeHgdiMjk7KgYD7K8xt5LsuRiDXIXf9t/zXgrM5UCno24570cFT3m2xxJctVeM78QelMZShm5yFCDRG684AGdBeQaiMiGKINWRpd20e4E0dQ1SbAHSLckRY4oWX8FEVx9CazQ0J7xyK+RFGFWp15oJ1EXApXtCDXxQqjZAJzPzyjJ0SryUXRI++1sm7VQHqF7tWEmMNrugcEBaUz4mgQo4aPBvPZwPEpgHl7FuWMweDNYYFXxzXuhxmezA8ISePNaYXd2GDvaxxjhdZ4/MP1Z/jqdInPjtdIUIwxc0d81V/BqYhfDk/x1G3x2O4x0yPehRVu4wJP7RY/H57jubvHa7/GHzRf4WfjBwCA/8P8r/Cxu0XMGk4FNNrjdVzhZ8MH+MjeIWaNmRrgoPA6rpAjnSjo9O7Z3D5EWLQC/MjzbRgoRNJsRqAND3JRbWZPikJBcVTktOJ/3XyMuzjHMdV47u6xMj2MSvjp4QW+277DTw/P0SeHCIWZHvF79dd4ZPe4MCecUo03foVfDs9wiA0euT22scXL4QL/dP3XMCrhRb3B1/0l/mp4gb88PketAy7FEfzr/hJvhhWGZPG6X+L//vKPYHVCpSNu+zlSVtiPDZZuwLZr8ObAYv7Zeg9rEiob8PLmAn1XwXuLbqhw3DZIO8fztLfQLiIeLUUgSSG2adpfY829txRv0xAvqWkvLA+/UDAdxZ6T+K4v0ZWy343k8Rduq/ZZUECuRSMNT2mOyaNnUxgrTS7emFFtA6ptQDLSkJfCMabJ0zNVhgbQD0RzxfNPDZFGzxnk+qWEcDlDrizioqYVHgAoBXMc2RSGv9HYGiqLlbVTMwsB2CYqSqGjiAVMEaf9po/3SwLxI1RR4on/lm4bbo6jRzYGiBXsbkBqxAhRDht38Biu6qn40z5xlDYyVumhKXSJVYmNge5ZkY8XdvIPBHh4cuSaMC6NZGUWFEehv2AcVuEIhkZJzikwu/HoHrspT1DL6KTEyhBFzGhvIg7P7SQtBx6QSjWNfpubDL+UAz4ASZI+hguOD09P1cQHy8szSlPtM/xKYVwn6MACSI/82mqjEZsswhHy2vonCaYjWpaVltxhIju5U/CrjPpeT8bHyWaqrsQWJddUL5oBGK8S7N7QL1D83UJL02kVgbgmYbfa0uw2e3Y0ExJYOFl9EBug87JSuwM7aKWgEi1hlHOC3DjaxmgFtVhgXDkWywnIDvBS2NZ3BvG4QL6MiPOEOCf6qQeFJAVunGUgAanJiIGq6TDPcDuN44cSzZMA01NJHeaZoo2o4LYK3fNIPmEi98QdQLi+IidzuOLJqANQ36sJYRvXIuYAJkEFFDBcCTocgOMHasqFLkXicKEmrlYS1XFR+S6+idh+16C5Y4pNqMVYvOLzuRM5Yc02iQcgkUQP8lf7Fbl9XFcJJcPSdgndIz3dJ7FSU8RhrMRz7oE9DMfSGkF8M3VMSFHBrwz0wE66pF8ky2Kx8HJNF2jdUrJ9fRKfLYVUa9TvZHzo6J6vZKxSfLWQgeGpQ73xiI2kisQIdRL5XtdTeCY8rUkZp8g3TXuag2nZn95njzsv5jMXp2S9Th/PmeMcMYCFHBL2JAWiAswpIEm+KLQUZlpNRtDuEOBndtoTVcQ02SgEdis8aSuZwn6uJ0/BwkfNij9vXJ79IasNpqzqwlUuqGFpOllAsih0O4WwyIKsCDojcV0qMJknjxqjtagbjz46RDH4DUkjZoXNkebQV/MTbg5zXM9PeNwckLJCYzzuhxnWVY/WePhs8PPTM8ztiEf1AU5FzAxVwBfuhJ+eXsBng0YFFnjDB9inFp8Nj6GRcevn2McGCQqvwxofuVsAwM/GZ1P82zfjBWZ6xMbORCyR8Jfdh/j99mu8ijv8s/s/hN5a2MMRU7Z9Oo/9leHfMBrKlkuvkI5UDyubiUCLE4YqiSCFB+gD3BGoTMRju8dPTy/QzEb82/338Y9Wv8A/WH2GX/dP8I8vfoFjqrEd6ZH4s+E5lqbDZ8MTXFpm+F6YE34xPoPPC1zaE96NC+xTg02c4ZQqaJXwk/2H+Pp4gdVljxvP0XDIGmvXIWUFXSc0JqCLDgkKrfXTSP5+IEJrdMZm32J3bKAU0NYjY0FdhDEJfe+gbUJqgXTkm5IGB9QJ6UQFWl4kqBtyfU3PJj1V+Sx4TN/mxScnY9/DA8Rb6A40gM5TAwPw7C9G0jqwSWKcJSa7pJKgk7XQbireS0rsrrJV8DMD0yXomGD6856kxyQTiQeijgyYyNFvrA2MiH5SbYXnrGGOI4UiXQKKqERsYtRIDj2c4XswZqhhpOG4cJvzRKkywnVWQCTyx4aD7/f7iEDe3wYG4KK3FmmMQAjQizkP95yhAt80EzPG6xZ2PyI0NfzCMTpqiAyGl8PEHkfo0dBINmVU937aeFUGA5orLWMoiWFxGcaTB5DNWQHJvN2MugvwM0cPtQsjoeoAskJ/pZAsD6r2LsK3eiKRqkD0pdqz4z4+tURgXCncIKo+iHWNFIs9F26u2KWEGT9HjiA3WSiODJMF+mtBh8J5DGOPAn07ICwSVFSTqlNL5JhKgL0xGFe0SfHLs/N5fcv/uwOzblOdUd8YmBN98FJHpXNYZlT3hiPgnSa/UIyPwywjLjLUvWMhaUGEQ+mpY1FaT0pe1bYkxOcMdD1Urglpdz1ySlDOAV3HUYo2SHf3UMsFO+ksSSyFTz1PUEHBHkTg4jLMgVw9aP7+7BgVwlwUX22G3WlYiXaj3Q8QnoxAR9VzQUdKkVNigep3RKd0AMY5i72S0gIA9a1CmPO62eNZvKFHTNdq8oQc2eVCNjYV+X5GYDrItS/mpiwyY42pSBwXmv6ThkkeseHaTjVQ3xHlIxqr0F9yvdqe3W/5nUJLHmDpfJOVDTSL0n1ppEBhhGK1E5+/XsbBFc1TVUhwB1rPhNZOohYVEmJtMC61JFRoZJvO6rnaTJYuGMmxDXMFlTTcjt55udIILUUfSSs2giML1ur2BJVb+gzuxvPYxPAgTV3xcZB8XplCJOH+FbuE/B4Eab6Zf2OUnNM5fWT05O60DYr5OQ1fGWmXnUFoDUwfp9xjlTT0EBDnborES4potl9Yrte5maYZKrPoKikGsTpzQLMWz0AAQdDlcaUmwY+RwjNpRSGS4WFZkJYkaHeSKFEVQQ6t/FsPapoR5QREzfWje4XsK+R1QOosOq8xX/cY+wpOsyhYNgOayiMljbvjDG3loVTGX7x5gabyqE3FZAkdMUSLmFt81NzjFCtE+aG34wK/1bzGXZjDw+APZ19iE2f4Z9sf49KeYFSCRsYpVfj9+Uu8nUykF/jE3eFT/wiv/CUWpsf3q7e4Ngd85a/wv2t/hc/DNb4KF5iZAUvd4V2co9UjKSiNhTYaU/xbjLzG4YHYQwyfcxypBB49m9pCfXmAGipnORmbNRguM743u8Fze4+/Vs/x2fAEP5i9ER8/i7Xp8NnwGF92V3hUHfDUbfHZ8BiHWGNhBixMjyFxnL22HX5xfIpaB3zYbPCL7hlOqcIH1RbHUOPHq6/wD1af4S+PH2JtOwyxwtL2WJgBvzo+xmZocVF3+Pp0gbt+PhXuhb85k1i/xWzAZjOHq8+wXd14nI41jI2o24DDzRz6ZJCWVFWogwFkgqM6NX0fI1RlX8/cN4t3ZQFboDCBKqHl+arCmeNKKpVCbHg2cx/O07TOddw7ef9AEo+4rpOBAD95MoY2A+PeYlXBjAlhRk50dtyfVMqwe8/iLSby1a2gh10ALBtXANMEAzEjV3aKsFRHrge9B1FirUv9yr2tcqTMOUdUNGVgGM5eksIBBCDIH8Sr8j+hD+BUmQIs9gS2zF3PovDqkiPA3iOtWrgtw90LUqD8uTIuG+Vw3Yiih55gLAQp/KBpoHBjbj36xxUtUW6DIHB2so4JctiFlkkJ1T6dUxm6jNUXHn5lYTy/PrXnbtmI2rgY79bbhP5KxAyxIEn82iR5hu7IkS7HZkRfsgV8zQ6m2vIAT5bEfRUpHomNjBFxHrPGNkv+61nc8NC5vyj1AEDvFKqdxrjOgtKU5+bny9/mqDFcRcAA7l4j1+KDWCfgaGi50gLh2sNsLWLD168H8gRTTRRB9f7MOSjmpzlDrZYcyRU7BDGLhmcBr0QdrC4v+L2jhzJLCU9nl2y7iPbGQiX+Pu7I1BMjo/EwzzCBhWhs6KGYXAZMhtnTFscvEnIht88SVNSoXlYTigLw/aV9AOP6ioranliUtW/p45ctNwzy6mR8IB+f/CUdPR1Nz7NSj0D/mBnQXDvcjEriTWwBXX7OTRbVuEK14QamAhNozJARWx7c9iSB515JJCEzelm0Z9T7yMJLsSgombJMkBBPwGOGn+lJOWd8ngrGcWXQ3HgRnxi07zywNFNMWazVt4pLFSgUSUiwg4bpONY0XYCyjEEr1i5ZK1TvOvjLBs3tiCiIoQ4JOWcYXcbParJaUDEjtY77g6WKWYUENYxIixn0sYNqakAEIMpZccyXQ1eRp6MQz0jOb/iYfLek0CxrX1UPjH9z/tZGrCIRg+QEnasEAa1kFGxljFS+1gjfcUjCh8ZEWi+H5kQ7UeQQ6szcUu15z1cH7nklDjBroL5LOD3WkotKfmC1LU4Kglw7ID0gApmelJMke4xKEK6wAnSG8hpxHVmUVhFKM+P2tK+hTMbtYQZrEw59DWsils2AmBV8NKh0xNMlkdmYNVrrMbMj3g0LhKRhVMbcDDjGGjfDAv9w/Sl+0T/DpT1iG2bYxwZfDteodcD/9+57+AeXX8CohC46PLE7zPWAfWzwq/4p9rFFrT2eu/vJ328UZ/dNaqGR8M/u/xDfaW7xOqxRqQit2ICa0uTmSNQl8xoz414EH4iksJRRcc4TjxnFvLdQYURApEcP0yvc+jl+PjyHQcLannBlDvhZ9xw+G3xc32EJ4OBqfNLc4C4ssLYn/KB5g7uwgFMRjxwR0n1ssHQ9uuhYsJkRSMDL4QKt8fjV6Qn2vsFVdcK9J6L3ul/hTs/RGo+TqXDwNWZ2RGM9Tr7CtmtwPef7ZVRG5x0qG/H8yQbbrsGqGbDBHN4b8kE7i9A7KJeQWgWMmmBFlWEKtUbOyWrLezlbElhLMlZy56baHTmBKVxoKCXcd+FPrymGsyeu81idvX8f2mjZgTnvKj5oaHyGsqwJtOfYd1xbIukrN6WRWXAfRQKbU9lb9UjhVmotCzwoGFHzm9sD0qLFlO+rFNB53uu1o9Gz2KNlZ6BOAz1yQzo3DEVwpBRSUZQnphs99B+dJhFKoSSC/KaP9+IA5rHYuEjuYSkGxxHFNLOoQmnUTK8v03mokAmpjkQNwsLQI7DhODjMSEQPc/oDllcbq1KIJYmXyjh+4BAW7Jrdga76tfADky1+WpjgZgA4flBhnHMhZMVF2F0Z9Bf0DCoZm7N3CcenhoVfFruFVk3+WyXBocQtFQSuKPGg6fsW5hAOBL/HzzEZVMeKhWEWZMttFaqdmjzUzElNHnahzeifBaQ6wx70hGTV96KQrjjSNSOh9rCOOMfEabh7IacL10f358IWGWi+qkR9zNFPsph4HGGmkBvHsb81gKh3S/xb7gcuyhIHZw3yYiadsijkSpH4wAdQLRdAZK7s4WMmaWRL4YbbshiMbcbsGz35R5FES9+y9qVBtVFiqEvOXqoyTKdhD2LGPSpkVxA6NTnN60EBKiM2tG4pY/aisC3XdLggz69E+RnxYzODrKss19BgUnPHWuH4TDKlLR74VmUsXlGN6+fyXltM6mYzFHuPPAmLVKaaXEdueCUHNmtQEQ/pdEXsUbIuk2WBkJWSWCRMxSEA9Jc0MBwv7CQC6a9puVSKEB0y3NaLYCSIAjkjtgb1vUe2tIyJjUWcWdIEtIJfWPphffUa9jByVNLTPHm8rJFqBq4XEVixUwgzvjj6C9LTD0ZB9SM32JyZyfrQniVnku6LNUKih9v7+gBOtgsPFcAA13uxbAgRKnD8O6kGhwB79HCbnoVtSOfC2JA/CaMQZnZC+kpG+ZkDyc3KjCzEiYAoNNtIux45+EYRfdS7BJUz/IzThtMT3ut+zkLcHkozc17jWYMmu/m8N5pBRmaWqOF03xwN+blHrpl0cIi9RehF7KAAP1r0xwqjt+hHFibd6LBuerTWow8OF3WHp+0eCQpvTitc10f84cXX0MjQKuNmmAMAfn56hlf9Bf3xxhW2cUaEz8/xyfwOPhucYoX/9vLPsIkzxKzQiHfSlT3grV9haTr8pP8QjfLoc4XvVDf4i/5j/Gp4hv98+Slq7XFKNcZssLad5GyLslcpaVATVeXlwAXYDDzMMpdIQuakMxChTMhU5fi9iaLCY6jxo/oVfm/2EkNy+Gx4gl1ocSmG1I/tDivL1JLP+2vc+CX+9faHWJgeKSv8oH6Dn5+e4ffbrwFQOb3xsylJ5evTBbrocAw1rioWc1+crvBNv0YfHVJW2I4NXh+WaIyHVhkXdYd9X2PV9ng+38InjePoMAaDmDSsTlAqY4gG2mbGgw60CcqDhnaJE49ew3Qa5sBiz18FZLDZHtdJONylgDlPtJLQW2KF6WwiRQUYVxKlqrknIpMfqIOsYYlanDxgNb+32FtpsZ7rHhn4ueZe49lsKaGdMaM7TbQVHWQiuRtgT+Tzkg7jkMXGSkVOQnTngXe30GMgsidFIYxCnNesL5oKed4w+WMMyJU728kUXrM1yEGEbaWZ+BvpH5MEX59Fae8jAnm/EbAx37J+0eLQTydrqqiQM1JTwWw7+CdLMZUliTxVJWVCY/ayIxlc4pNMl868oSFOiQL2FJn/W58Ll3qXUO08kBgvFZszLymJ0WO1FX7SimM1Ht5ZRir8OhNpqWE8Ez7ckbnBZnzgL+cAt8/Tpkzz4BLlRe6X7YD+kaQmbGnimixfKzmCtAPRI9+mMlK2HcfChxe0Q7GH4veFKRC7vtfw49kjDooo0rjO0yaueyJmTgG2s1J8UNHr7s0EwwMsOMMswwjfsH8aYE6aAd0Niy3/dIR7XdGEtvfcDFPieHeQJqByRGVypk2M5yJXw0jkrylk6cxxsTGTijKfOsAwKaEUPHpU0+/spIg7fpgAkzH7ymB8moWLR3QjrBOqGwO3p6Js9kojyvvCCCFgFN5VtkQPAY6WdVBIrfinbRSGS7C7bDPsUTpV8VALMyKF3VOF9k2Gv1aodpisUagSFiqAZEyHeeF0spiqtxnjnI2EjmwOqi1QEkb8knYgts8YFyzeQ6PQnBJHtidByKM42y80Eb76zN9jOsqZn0pO2NnQ2U6ZxVk4KIAGBVJhpiWJx0xkZ78SkndjJqGIOwT+v/B4Roo2dMNMXBaWFfLvfAxkjlFUJBJmjwHjysGdgvB7LZJWsKfAkc8QkVoLNUYka6BzZtMQEycMSbhWDzmAQo5mI/pAsPG+e1zxNRXSdU5Evag2LjNS8nVUlwBH0YvuAvx1y+xkKf70EOEXnLlS0R9hu3NKShFsFCGOHpmDbroEVSu4E613/Izj32RpiaUim1PawZynCaUZzUb8TJ1CboiyTLFxplA+eD+UhlH3WpoH7h8lJzjrDN1ppDZNMV96xdGfPzrYGfNgmypi2zXYH1qsmgFvxgX6kQUIADyb7zAEi1fHNbroMDcjdqHGl7tLfLy6x5AsNmOL1owYosUpVXg9rHDtjljbDl/1V/BZ4//25h/jwnW4roiM+WzwF8ePoVXGbVhgSA6/GJ/h56dn+Ki5g0HGSebez+wWx1QjQeP1sIYZFRASYy7FmmPK+X2Y0VrSQJTiiNjQCxO2Bvp+oh4oy/EvnKMbQgYOvsbrsMY3/hKX9ohrc8D/ho+wticMySFCY2YGRGisbI+lqH//dPs9fHd2g2duiyfVHl+Mj5CywjHUSFD4xfEZvtPe4h9d/Ro+G9yFOW6GBba+wdpR2Zug8Oq4hk8aWbh+tQnogoPWCd3ocNvP4XTCZnQYBodqRQ5nd+J5/fR6i7d3K5ijpsBjFabbLDvm+052LkczUWPsSc5ZMXnuH3N/nZS6EVN6UklAig331/LxIp5zB57BacZzgvQrJXZudE/wcz09j8oZ1T7LFFDBSBKHHjPC3KC+8/ALC7f3MprWYjnnaEsHTNxm2n6JWM0Z6OMAPGfudK4NEXVNBNluO04zSkoMwHVkNVQ3SuGngSFC9SMRwuNJpg1nXrMymOIuCeAk5NLbvgcC+H4ikJTPXY5WSP1AEQhA1OfmDmgb6LpCFnKkHjJVvVZNKQOx0ugfN9Ajw+iTYxB8mBnESmG44CKyPQ1oTZ8RG0ZUcSxnGAI9Z5FItVCCUXTstj3tKIhw0PZiXOopR1ClBNcp9GuelDpmFBK1O+ZJXBErjl9szOivNQ1zK25mseKIt3AUbC8IjVFwR0zj59iS36ej8LMiYNJ5w+6eEKmyJzWNHbMChstzkZYNoE8cX6Yqiz1NgtsZZJzHw7HNyFJchmUU2xi+lvFxhN0Zig8EWSxwfdbA8DhA9xoZgLl1knkrXdNiRnRXEL88b1koDB1HIV5MbVPCZIIaIv8dg7jrK+ByBWz3hL3nM0CT/5jqjGpD0cNwlVDtit2Pgj1qjBcZtjsX1VkDulOMFzpoVBv6AWZDPzNzayZ0TUcAhXwcgDRnQVjtyMFUmWNz25GnYkZAy+FImxkFvxROX6PQ3kgTURcEl0hcbDg6LTYwsTkr3PYfaVQ7rrH6Lk8jPjswPhDgNe6v9MT3q/bn7Fc/l5zsSM4L/yb3K9RCW9hl2J4WIjmzkNCGm98w12g2CTrlSTkcZiL4ES+6ItwoI5RxbWF7GqsDQKoU6o2XAlHRRzAD9d1AtVxtJgSLwhBN/u+iIv3jgdIOGTAdraLGi5rZ4FbDLx3coYjAIpGzfuBITbz/0ujPh688dFMjdZ3cjO815DiPfLUi4qiybL6JJO6UuB9bM71XuguIrkKcOXKcFZWB2Yg3oBTlpcFFzLAH5h37Je9Rt2ckXGl6VcyTeTYPOkgqEq95sX6xHcQKS01qyVRzvUctKGL+ts9l8a90e6EqWACezZUeeF9lw4lDqmmvFC8CYBPUxiEvEnJScBU9RFNSiKPDIVIsoE3Erq+nlJC3hwV+6/odTqHCbhQvWJXRzhgL9+NHL7H14pG3/gb70OCqOsKLWbTPBqdU4evTBT5Z3OI7DdHA79ZvcRcX8A/C2H89PMUHboNGjag1EzIeuy0A4CfHD/Gi3uAnhxf4uL3DMVYwHaD3Rx62ks+qKofcD2xiZWqBcvblBKXteZ358bzvxUghJDBRYZID/v7FV/DZ4tIe8cvuKd7aFT5wG7zxazxye/yweo1NnOE+zDEzA14OFxiSw9wOiFnjf7r/A3TR4bfmb/Gi3mBvGxxijZAMvuovYVRGzAqf7h/hw/kGWmW0xuNunOHVYY3bwwwX8w6P5wdUOmI7NvDRwEdmO9+cOC6eNyNi1OhGhxg1qjogRo3XN2sYGxFFpJc3FYVChulNemsmjjbAc6i659rJ5tviIyXiDDNyjwtB3AgU95iS0WsGdW6wO/HeHYS/N565zuR0q+neoNlznuytsnng/Zd5D5pDmhLGoOg2wp+ZaEx/P8B0AUkyzIE80TgAIF20TCs6CVdZ64kvmi3XRTa0s1P9SGBk9PJ18ewvKP65KNni3n9r/Pttte+3I+F+08d7G0HnlIHspxsgj57mrHebsxhEvpZKX8kNvWA3wTSQim7/czONPQmNyjisS2IxAfiVkbxdzsL9nJFx/bUTk9OEMCd5s9rGiSRdYqxKJnCJVIqVolFlhUlF1F/ywtbbPBVcZsxwHSeYdAs/ozyFx5A94HbljWGXkhWgM4uGrJj9OlxSURtmMnrVmBImiDJmfs+ivKaCsPDz1YaL196yyOg/YDHXvlE4fUAz4+FKPJduWQzZPU2Qc0UxSHVjEJsMO+gJio/LCN1pmEHBHkUq39ByBcB0YOdTd94MgSndAdZCWcMFfuqhOvIYclsDhxPUYkbVr7Mc4W333ExLcogiUpdPZyTLSlavPSoEsIMLy4TqTotBN0UU7TuOhU/P8/Q+ARxjlyK6sG7dju85bV/I1/MLfs4vs3SN5+sYG1q5eC+kY3AkoSIbAho4Z4xrJWIQNiG2y8IrVJN3oTsWHqiaot6SYaMRRbBqO/6e1TZ/a11mTZPqPAoHzADVMaG71vBzNhpmoPVBdECotah9uYbdISHVCvU9G5dxqc/Rd+BaJk+QVIrYCn9MVHVIQHszws+sbMaCBgp9ILYWsaWNhu4TTJYsX89iMywqdtCAqGHL5kwkKzkig0mycuubDtmxuUuLBubVLVBXk9K8mM1nH6BdPYlB8gN7mKkh/Q0f0yYL/O0xcKTojd2+mzb76WcP8Wz3IJ+LMwvTRUkVwGSknbWViUFAbIkK2C4iZvoEukOkQMcJ+Tyeie/1vsAvYlYPAA/We7XL0/rWI4UiRDc4/tVaeFeZB3HEeSKhIqCCQi0Z20zmUYgLofTUCaqOSKPBcHBAlQCdkQO5nR48zXNWeHfkaNfojNfHFT5e3iEkjZfbNYzKeKOW+Gh+j2+6NQCgDw63wxx/fPElXg1rOJXwul9i7XrM2hEfzjZUrIYZXtT3+Fn3HJsww1LGpxEaIWl8gwscQo0X9QY/al7hXVjhL4/PkbLGnZ/jt+evKbY4XcN24NitGO7KmF9VlXC4aqLMmTYwxbJjsnoxml/LywFl9JkqoBSggV8enwAAvlu/Ra0DXg0XeDsucQw1DrGGAePqtqHF2gIRGlZH/BeLX+NPDt9HrQOe11ucYoW17fBld4mP23u8CSusbId344IRccsbtMZjOzb455//Fh6vDjA6obIRRjbz7dig8w4+csx76itolVHZiG50WM4G1DbgZjfHcKyo+A0aae+Y85tBBLhnYxPn4pcrwiLTE6gofoBaaCvQRO20F+71olAVeN7ZIU9uGxShcf+Jc54DwBmgKV+nC+ivHkxkKo2qC2c3kVDOdEnOOSVB2glG8TUHCrVax7pj8EiLmhm/jSUXUCmOfJ1BRvEINIBmk6dzBjLHvaovvqU8J+O6pVgkJRaMPjA1LTFfHJFCs+wcFPy3DegLBaGggTn9p7OB4WtSAB44VjsLpS1UVUE1NQ//0QOzGsme+WdWZNZ+xeIP+pxMMCklxXA2WcWw5S7ywJdDU3tuilZEI7yoRE1Kh9xfkhs4LjTO6iJ2EwU6Rs5TLutwqWE6uu2rfFZORqfgjhG+JTm+8A+M5+aZNRfwJOiogBRI4g/VWTTSXynYE0fExeeuoIXuIERYGWNqsAtHokmzDuQOkhfI8WasgerWIMyYMay9ELnbxC6s5vemirygcBFYNFcZ1ZYK4eqeNjM6CNJ6lESNBKQ20RtwFF6QMVAhAIM6jzmUQh5HKuVyhtruhSgNbqBKQc0a5MPpXPyJMCQDHOkBcDuPcU3URwfh19mijib/KcwzzEnzwEqlECcKlWoWjCUe6/QsozmIVF4ELWWMOzyiJ1cx4Z6SFcROyC9oU6C0/FvGqWEmptyer4mFl6R6HMnTI6eUIqJ6w8qP0W4Z3SOF5i5PqEu9ZYJMf62m8bLbC5dRjKkzZGzRc43YIUsDREWu6bmxxYbo3SAHvDty3Wvpor0IO5KIkGxPk+msNe1mWi2IIEUd2mdmZBoi6v21ZZcMFqR275EaQ2V+prLOS8FmxsDM75mBsQp272FPVM0WYUa1HYFMw9R00bKhW1h5jQZImoWTBtRpRJ41NFTNWQ5U2XNS/Fbur64ccuTBW9bW++xvk+GqCD2UFr5XMf6dzcgBjBnQkNE1M0FhNWLrZPStp33K7UY2uU6EOcgT/zEbIAfwvesiQiuUlkpP3pUwQJhRnBBF/OGFrlJGwUm+1owZUSgPseZBaY78umJub0/nJqggMrEFyfz92Yg+zDOUAzNde47J8tECNQ+mZjmg3zSAV0gKUC4hR4X9sUHbjlg0A0Lk+/jyeIGUFZYNu603B76Ap+0eQ7TY+QZWJfyrm+/jg9kWx6wxJovWeLweVvhOc4e3fomNnyFlhZ0kawDAKVX4o/nn+Gx4gjfjChoZn3aPUWtazrSGaONKd3jqOAb+xf0TTOChIl2l0FYQ6V+qxBZGWUuuM0Aes1i/5JL+UUZ4D6Ix1TByfKgSDrHGTVjhg2oDpyI+767xw9lbGJXgs8WVOWBtO3zRXQMA7scW/5/0I7R6xE+3L/DhfIMhWnw0u8eHzQaN9mjNiC9OVxiTRcoKN/0cViccfYWPr+4ntDVlhZQVXm7XsCZi8ET4jEnIWSEmjW7kmhuCwf12jjhqekAqwNYRqiEamA6s9LLNUKNC/YbWL7EBSjyn7RSDBRqGHvhllikG2IirM22GjgnCfS6iz5jhLRtcveX+VSJZHwYwxOpM1UlGTaPfKKKPjHI9QAurTJN76xPNv1NmQk+l4ZsG9uSBkBAXBDvUEJDnovIfA31JcR4HQ4MooBg+Z8v7M89qIoIaUjhK8RdJj9P9yGlCTESbU0QOmaixFr+/SC7GxEl+8PhPlgUMSIesOOab+A4Ab5h+IHF79EDM8kbxDQstDwp7DDA9xyRILNpiKwRcpcQcNnEjnBtRtwVUh8gLOZwrdy1Qb/H/ARh9ZXua4JY4OB7MEfU2odqzQAmthjvyotS7BL9Q9NHKZ/4dO3UWhWbkuxcaGS0X1ChDFEZnpZJfnMmrpetp32RU90SEtAead/y6giaqwJgyt1fnyCZRR/klO/pxzZvLHWkYrUfalZheOq+a6M64ylCehWD1yk3jVI5BaXhsjzR8nSLRDgrVljFqtIuQBbPZn4UfwHSYY/TTYTsp4EoReHtPqLsQq0Mgz2EY2f3MZlDOIc4smlvp5gLfj+Gy3PAM+w5LFrbNW/l9N1LgmjOK6hckDpueisr+hX9QtPElmZ6jrmzEZFSTk5INDbxLZnD7Lk+CHJUx/ZwwA04fsLAu0URlExouqQRXCTh8ROWu6WVcYiWRJfDrxyU/X99nuCPTQHTkCDcJCs6YOTUhsMdnGv2lkKwXTAdJDpi9jWg2CdU+ozpItq+8Do4S06QkzWKHUB2YcuMOkUaoVsQjRp+5tNKMNbcBsdaSja0RliREM1fYYlw6mC7B9AGxNohO0+pE1kjJ04Qo/NVI9DesaZKqYoLbeZghwhwGGrBaOTw979Pc1Gw0hARNBIYjYN3UpKKUGDiloSv3fvtbjPJcqmx408dLPFzuB65j2YjNTuBjIXnrQdChkMkHrBgwH2Zu4v1pscpRMUOLkpdJKMJp8oKsGB5asWKDoSM5ocUPMIuozHVijdSQHjCuiFSnSk3IoQ4iBgksAt0RE58zViTuc++hCItINNcPZNymshSDXkH3Gv2uhnK0cNIV349mMcK5iMYFnIYK232Lbdfg7jjD3XGGVd3DmYhVM2CIFm+6Je6GGXw0WFUdrpsjQjLQKuGiOuHr0wW2vsU2trQ3kdHwd9ubSQjiVMQ3/hKHWGOIFn9/8QW0Svhl9xSfdo+xMAMqHbCwAxrl8XK4RGUijfwLX0vW0BkFdCz4S/rV6HlwA0BdkxagpcGR5jhPCDE5Z1DA226JF/U9ftU9wX2Y46nb4p9e/DUSFF4OF+izxWfDY3zVXyJlhZA1rusjDqGCzwb/9PEvsB0bzO2Ir06XTFE5PMPnx2vsxwYaGT4axKyxcj0673D0FQ59jc47FnjewuiEEA3Gkft0CBrORXhv0PcOKSmcTjXShnu9cgnaJYSDgz865syfaM2lJd83W4ISesAknNSDAvJZyKjEL9J0mPLXUyUNhy3cfe7PTnh7wBn8sB2dOQCZGp14ZqsE+JbhEvU+TnQxxlfyHp5cBqxiRKV4aJohTkK0ZPRkMafEo1SfPOLcTT+TMXGZTR5k1Ct8YHUSWzMfkZpqKg6RwD3vQaY0bZ7SlDDyN61dJnP7B1zkCf2Tjyv7m+9x71cA5jTlbU52CcAZ9VkvqaByliapmqhdnDs0bzuqbuZ0+m9eH2GGxAvR0YjRniLCzLHztZqHT5DYN6XOfL8uCidQLoZRk29drBTGheb4RPyz6PN3ns2rJIo6S4l5aDXam8Sibsxo7ou6TsH4DHdk0HpRUhpRGZfFaU/cqMNMNumRG687spgZL4DhijdByRDuH5NobYbCIwPqO42H9i8F9WresbCxnZqg8eqeObIlaSK2ogQdFGzP4qF/kjA+94x8G8Aib8NCsMDnYZ5o1uuYmOGXiSKMFtLNNIxxGz2UtbIpenphDQPy4chGQDbRPI60iFEK+XIFNZ9xRGI0C8GSCpLP7u3kQmYxbE7wi8zfqcY5Ik/89cYV35eCalEwk0XYws/NvnAyosw4vkjQEZi9kt9dYyLB26PC/CVwfHFGBLvHPKCLyoyCkgy35yjZnijasKcsJHol9gV83vZtRr2hF6Q7ArNvKAKxPX3xYq3Q3LHhoC8kk0DGBcdFZbxqPMU+fs5NMRvaGWThNVKhrrnWJe2m3jNfNjqOC2OtUO8iYsV7yXbc5KotRyRhbpg24RRSRbWcOwTYY5oI1tpn2GOASlnWOLl+ZqCFixkp6MiOhaKOmfFmmSi9CpnRSJ6q2VSKpC5wJJyJoMZ5NWVxmx07ZOUDVD8g3d4jH4+Iux3SUTqTlIm+VNWDdKL388g6b3MZD7mExX1fVQ5qRr4UrKHdg/xeKnKsnZXimMjoKQGpZIeeDWcLukdje8bBgXtoSJNHqpbrWtZsKRhVYnNpxoxhpfH8v/8cAKAy11op6nitZdphMKknk7gQlMakxMUxa5giK/qqcdwHhUn1riJg9zSHTnWCcgnYW6ikkI4OxibEoDGcHE6Dw9X8hPlswCAq4UUzwCeDN9slrpsjrpsjdkODnBUSFJxKuO9n2IwtbvoFbnqihE/qPbroELPGbiTy98jt8dXxEv/+/mN81V3ii/4al/aEY6zwz979AVLW+NX+MX6xe4K1PWFMFvd+htu4wNf9BTZdI/GZ56JO1dVZiVkO4JxpAaOVpBvlSZQ0qTeBc9FYcqSNnkDrl8MlLuwJPht8PV7hX+9+iK/6SwDAZ91j+Gzw9xZf41F9QBcdvjqS2/fX22cwKmFMFlvfQKuMhRnwot3AqghnIp7Ptng620Ej48v9JaxO+OHFO/zO4ze4aDs4E1HZiJwV2spj3o6wNsI5/n7joYIxCd2mQQoauY5E/WxCPFiYvYHe2UnNqyS4ILsMv0oy+waKX2vWmRxBeVRbAh30pcRUHJkeE2gCnJHAghbaE87noRK7t5bNUKwVbJ/hTgl+puFbzUmXK68xnYtwAPYUEWsje15CdNwT48wyyQNgMdhauhssKkBGxRSJWDalRgk3UM4uZyZHAMbHnaPfsiuOAWdufCkW+QO18EtF4PZgv5n2IKm1St1FCt5vzgH8u0EAH2RkTjElVUVEyFH8oU49dE8zxWQ5CklOi7TbI84qhLkhUjgSIVQpo3/EGDjm8lEE4vZhGg8XJWO98fBLCz/TU6BzGR3aPk9IgjuwAAgNDxc/ZyoILWW4AbY3PBCrI9MSDs+N8LR4YBbLlnonPMKWhtJ6FI7ajMWnOxAFtCeg2Ja4A6RAJGrTXyvYHpi/pDJ1CrzGuegoqGF9T4uUKBC4HlicDFcZ4yXQXxHFopeV2MhoQHkhgzeJCGDmmDlbTOKFArm7gxbEk59XnhFq+eFKUSTETxyZwv9r22lcUngwqm0pAFEKavDIpx75dGIBWewRLEUjbjOQmG4xGUC7LTmJeuTGUd9qjqjXglQ0fG1FBU1bAXabfsk1UApo7dWUqzyuymgX51BxTXpAtZVNI3Hk1dxmIdaLUtLS9gfg8zwU/vCQVBguOdIdLhS6p9wgYyNiEqfQPTqntOhInlaJfNOCQi9eRlR7RhtV+yzUCXa81T5PvpPJAu0tN15yWDX8jPw92yW4LgtSeFa821OCnxtBQA1V+TJVDYL8FRsYlYisF/QKOVNkVYyeASBRmBVrw0JeOI96iJOAA5oFTf90JmIQPRGgi7eWinniy+lA1WyuDXJtkeYtm8lZCxgD3TS0JEoROZAr89CrD8CZmvJ+m9z098OiMo+e4z859NWxFx6QvG8xQY/8+abzE7EcMUPHRE6TCD3YZORJ/Wt65p+nmjnBVF5DmtSIap/Q3LFQ1AP3OCiKPG7+r9+RpJpComf6jO3PB6qVA1iHDCuellQlCzVGGsJqr6Z9EeA9VLwJbaeQmgy/pkhED8wIzi4D1wwazgBS0nBNgPcGr+7WiFnBmARjEranFkYlLNoBb09LHHwNrTKUynA6Yh9qKJVxUXXwiV6CXXD43+5eYONb7EKD31+/AgC8HC/xqDngR8s3+OP1F1Pe8PdmN9AqY2U7LNyA7yzu8Ofbj1HpMIlKak1eXKwg4h42pvnUTWPgXOgHYgI+5UKXwuKBL66ylhSXfphsYXh9gIUbUOsApyNqFfBuXKCLDo+rA1rj6ZuYDJyK+PXhEVrjcVF10Mj4excv8ee7jzCzIyodEbLGm2GFz47XOIUKQ7R425MDOESLIVjUNuDr4wV2YwOjEtZtj0U1YgwG726XmNUjQjAYR4uhd4DOSJHUi3yyQFQIvUU6WeiOCUz2pBi3OaipKHP3mg4Sg4I70M6srJXyiDUbjmm9DZgSjooRf7Uj6p2MmuyujOytxnMd20Fy17eJUxl3dk6AYjFoRZhmT+cpIcDmJQvqV20D/Jw53sbzniQ3+cyr1T5R5CFxb3qksXuqLJAzx8HOIM4c1GlAWrZsbis7+fwpH6AHT26poIPZKGkcKzqm/I1oS4i47VuN7ENRm8TBvc/jvQrA0m1PY99iSpgTN96URTVB5IhvilhLyAtPlcJwVWO8qliVN1QQmiFNKEV3zSxQ7ROMKFGZpsDNshw4ZkioDknUmGFCJuiFZZhsEGkA6Tqqgtg5YyokQ0NS9jgneocMNHdJsoH1hBZy3AzxAiTUXMQafl5sGQAvea5GYudMn1HfZ6y+KNJyHrSx5vfEhihPcrxxumcJ45pj3OQAPRK9q+9ZuGgPNLdKeHDnhJBqqzA+9VIE8+tmX0pUjyVKOK6YjWsGMX91HBXT/4vPpwOLRRVAM+0SxZXPKQvZe1p0ABSHNDVy7bi4xU6huOrzaxqS+CXOiwd4RKrMtwqq2GJCI7OhF1+Y0bMPmqkFHFMxYJxPzkKRhthq+t2rLUcO5qTOtjsn2vhAED6AIpLJE/Emo3mncPpAYbiQscXIEXNBfIvwIomy1R2ZaFJt82Qs7nZ5Eg7Zk6wZ8fKLFdBdKbguw+0ly3qEdLA8fIeVwvGpntYpyc8J9VYQuV4c8nMWBI9fFxvFblgsQyZXfE+kzvQJbh/h9qJU9Rw1ukMUw3H6dgJAf2URFg4qJIyXFT/nNKqdR2w0kmPCR6wV/MLAHkaxPmABWcae2ShUG2b+xsZOB2bWCuGinqKSqOSnclbFDDUEGkCL+lJVTBrKPgj9xHHcW7riGM8jvPfZ46zjn/9/z1U25sLzkpEO46MkRD7xXomNnVBOInsUh5g+wh7D9H7qIU7j4OQ0jWpHEZIYTEhqUTEmKybNivd1s6HXnBPKSWiEguDzFCFYkBVyLcVqqkRxRTappB1ADkDJKLfcc1QAdDGn97K/HTVSlaBOFmrQyLsKqolIQbMQzEAMBn6wyFnB6oSLWYecgZOvMHiL4+hw181w1ZywH2t8cXeJ3digMQFf7i+hkdFHi/u+xcyNCMngVbfGy/4CX3ZXOEmm8GfHa7wcLnEKFV6PK/zF5kOkrLC2HR5VR9RSzR5DDZ8NPu0eU2UcDQuIUuT5MPE8c85sWMvUo1x7/QD1qxz/gI0H86PT30Jovthe4c3A1JJGexiV8bTe45t+ja9Ol0hZQ6uMt36FSkdcuSNu+zmRwI4o4dIOmNsBz5odNmOL7UAaxck7fLa5wtcH8iuVykhZ4TBWyFnh1W4FAOi8Q0oatopQABbtgMvlCcZGNIsRKSm41sOsRqg2QrsIaPqzZs1zKM0i18IgoIgAI8mR70dfVdpRsfkWu6uEyexce+E8C6MIQj+gjQzXerLiABI50St+pSpyv1MyIUmOVK5yH4ZGwy+I7E11AgAk4dpq+v25Y4DtKexQIbE5rfQ0nQC4h6khTnsYUjp/bmBBaI4jcuOQWge971kY1o6FotFAiEjzGql1Ml6WvasfaKemFCcKZe+KD7jN4m9aCr7Jc7mgy7/h4/1sYHw4vyDJBS4duAIoia8c8qyBv57DnMbJX8wvnKAKvHD2yCSBKNErZ7l2xuKVR+HWmS4gzEkUVzFTXdga+v4sSHJ3x4Th2lFq3keohodIVgwxzyASMiwV6l06q4c0uTNBUjDMkTCwHrOMk4lu9Bc8sP2cPMXQYEprKN1MtZcDPmFK+0jVubgZVhr1PT3o9HjOlNWi4DQ9i536VtAQz8Kh2vL5hwtJp0iSWiEjS/6b75+9cUy9GDk2PXvV8WPuKNdO5we+YTI+lc4OALoXEctfGdiOkW+Tcrd0v8YgHztMuZnjOEUBIidgGDkKXswpDOo6KjhLbnCMgDYyNnywvnSGiaJ8VRmLr4tQpygURV0tpPXQcjMhlw9wW4XTc460q50cWJnIn4pqKnKRgSqwWCwWMe5Irz898n3uHmfYtvAtieSV6D/X0V9NRxqUuj0FGfUmT9YcABE+aBn7t6QbRMn5HRdibSAHd3Ic6ZaRyGQsDh7Sw9qIMp2NUmj01GTM3qUJsa0OaUryUJLsMKyJBpZGBiDv0PTCj5ERMWp2z1EScWKtUA0Zqk/wS4P61lOcNeSpqSv53eNFPUWgJUcE3R4DUb8kYyLQEBqKiJfy7NR1H6F9RKpZIKbKQLUVSfQSuQVr2RmnjCwishyCFGnxvD+97xi4cP6mUYuMAws8Wg73QIPrNG+gfJKxb/kaHiDZcuyjJU801Zx4hLk0ZpWG1+4cRJ+ItBbEQnva9dghwh6JdCQLVDuOvQq9JWsekioVrpPsaTKWq/aSmKAUoj6vZXckbzQsWPyZAZO/KQVKajJCj44xkqlJTHwYFJQ3iIuE7BL0yJQIPfeIg4GdR/iTRX3Ro+8qhIPDfuFhbcS+rzF6S8spnXHXz+BErWp1wk03x6ru8UG7w8vTGo0NqHTEl/tL/PDiHV4d13g+3+LNsMRXh0v8weUreuNlha9PF5jZEd8cV/g3+Xv4cLbBtSNtQKuML48sFP/3T36GcbCkb2h9nnBkri30I1DNuO+FdBaFyCgYgExDKD5Sdc31GIdzsZgzLaWiRmtGOBXxb7efyI0KvBsWWNgBF47mzb8+Pcaj+oA/ffcJrE7Yycj3g3aLvW/Qjy0aEzBErp+lHXDXzTCX2L2YNHwwOKKC0QljMlg2A15vlqirAGsjjrsG97ZFd6hh64DlvMfh1CAHDd8bICkgKWSVoXqDXKWJ66e8ps2YgXAClBjQA0hcLwX906PYYdU4Bxx0nEC5A+lV0GcHg8lr9CQTAkn4ik64rO7My7ad7LNjgsq0l4uN+PdmcTHoE6eAWp1zy4UTOF64iQ+YrYbpAznIjUO2Fojcw1DxGmZNAaPpPPRp5HrpPAtWZ6API0rGNzRoFC1iEH2i8A0hEjTxYdIrFO5pMR8vnEJuBvq8DwEPCsH3a3D/TkbAunI0gy4KlQfE2RwC1P7EuXqSscgQp2zLYiirUkb/pJbuInIeX9MKgUWjBhSYFtIa6TQkYSSLIk6ezy8Mqi27vDA3E/+pjKtiQy6hFdSOJOyzz1rh/YVGYf/CoL805FYN5GFVxyxj40JIZYE4ydq7jGFdIrT4/EUgYjuOfZMDxguKCErxV7hm7kDumOmlux6Ey/bmbEhdxAxaeGkqEi2kwTU36npDX71iL1I6sVSzCCx2KSpSDev2/Ft7BXtUaF/z39WtoYP9s5p+fTIewTCg5EAXo1S1mEO17TQqUU0jHloNya4jGwVVVyz+xDkfOcF0AdUDzpI9sWucvVJo7khkp7iDhTb5cMxWLpuSX5IjCRn71reaXnIyCuM4QUkhzcJQe359kui3MOO1oH8bkTknnoDI/LmTWCefRxPDBd9rlWkIXhIYSFcQ89I+o4iBVDqPOwAIWsSC0h1lDCIWM7bja6O3VVHHgzwXURSbkSp67cXwV8aK1Yb3V6h5A1T7jHpHcnNySrhk8t4MSZTgfB6/0KQ/7MWGxPB57SFyRKRZvHHcmGE6cnfdbkR2GkgcY1a3PcxplPtP1HMhwZ4iTB/FGN5wEzYKsaVXaJzZSTWXK0dKSducc8iBc5EnXC3lxJctxb+FvvxH72+lw/4bz5NjJP/L2snQHM5CjRz1qM5Dd0xEyVafR0rAhGpCrKyg1JROYAbudeT98eMqpAmxKFnBWYvjwSiNb8jTiNiMCX7Gw7g6kAJQ1mrWFIUUHiHtgYqxPXhNlewvCugfnUfDWorB6HhQIwHuniPBsE4c/WbAHmgOjQSkowN6g+GuBYLC2FFcgKSgdUKKGk3lsZz1uJp12OxbxKzw9btLHLsKr3Yr3Ozm+GpzgWOscBhr+KQRpMP55eYxjE5Y2h6bUUyNY4Wn9Q5/fPklGhOgVcZl08HqiLtxhj+9+wRvB9qubMcWlYn4xfEZ/H1NXmxJuAJkHeVz9F+ZbBXkrxhEp8yxsB/PCGLiWlRVheL5lg1wMevwdljip4fnqHSARsbnhytoZLzplvizu49gVMIH9RZvhyVa5/GH11+j0gFjNAjJYG5HfLG9xGZsMbcjNl2LU6jwZH7Ax8t7xtoBsCbB6ITLhgeGAnCx6FgY7hq0iwHdnlZJ/lRhf2iRooayCQgadsP7zG4s18GRjUah3ADcd5E58jU9z5FUUThkBq4dd8SEMDOIAOL6kads6jI1SxWmONhk6XoQa4VQqwnZtl2h/JQUIVq+ZK0m8ZpKWRw7sqTxnN0TssS7pUrDdILWa45/Y2Phr0kfMD1TQCB1huk87ewU97s0qxCXNeKyZtMnf1JTSXylKITBnxnn1Vk4FMgLLVNS5Izc91BNM3nl0mxeTQXf30QA33d/e78RsDHQbUO4O555ON/quoXgb95tUXJ/AR4cdjvwzQ8PBABGIbaWVhQnHiyhpcmqOVGF6PYBeqSZM4Cz4ncXyGtSzBaOtYI70EQ1a5qrZsXYJTMQ+SuH6LhkgVdvyC8sfCp3IMxcijp7wlQoDpfkek1cLAc02yRiBC626pCnjlt7KkcLEsVRrnQ4AnsXx/Py+WrDcW1YZJye8ueG+flGQpKbKSq4XRG2YLJ2KEab9qgmtbH2AtcrcGS6kYNhlTFeACWKJ09Gy2IxE7lIVVOT4NzIQWyNbHaOUHYIPKRrJoOgcsjDcEYPy0M2Ur1aQjnHuB2rpt9feyJvYYYpLg84c0d0INpXAsXd/pyQMn9JB/l6k+EO5EmGhghqGbUnx9Fp+y5PBtD1fZY0DkycwJKuUDKg640IVGZnRBc4b3ShZUqI7VjEjUtuNox7U1wTwvkLM/L6QqumxJnQUIFuexl9r4nuZQu4Lk3X2HZlfHqmL5we2wnhy4b/90tLpZsHhgsWC1nsEFTMSLWWLh7wC0txiVUi+KCKXsnYRAtHj6ITK/5axfpGRi1KIRvhAzpaxISLGnFGRVzZhFl4svCxJ04Awozk6VRpIGbY/QjVeX6P0Axy1yPvD9/ejOID4rSMUJR7/yi4KW7pb35M1m/ueihrpgMfAFLrQDsYRwWwKEr1wOJBD4F+fhIlVd+SVkEOJbPSkaXId5rpSeInqGV0D2A63Ioog02x5C8fkiAgmOxgimijFIraA819moQfyUlGcH+ml+gRE+cZEMP4QPoI70PeH+3XZlKDpkroI8uSzQzA8YDNvYHSGWbp4U8VUla43Sxwt1ng7tTCmIxv3lzg+aMNR8bRwNqE6/kJr48r7Poa22OLw1jjNDo4EzGzI/7i9kNs+ha3pznuxxZ/evsJfrJ9jkf1AadQ4ej5s160G3yyuMMpVFjZDi/mG4zRoIsOZu0nIOFvcUcLylcO3sL3k8xWaMV9zoeziAQAxCKLTyppQzrCqoS5HfD57hpf7C/RGI/KBHxveYsX8w3ejUv8+7uPcd/PoKXSCtngrpvhL949x09uP8BF2+P1fonP7q+QMnB7muOi6vDNaYU+WKzrHsees9WvNhe4OcxxHCrcbefwo0U984x0A5CDBhLge4uwq5COFtCZ0yJJ/EAqEyOmM9k9KVRWokpjI69zxv3JdOf9OLRgATXkiU9aRJJZnVOfCrgRJWChnFOF9xdrNjbjQk/hEKkqZwYR84KWF7U6wQFN6xcnOdwxC8WFDSwAJOEpFwVwyfNWIRFo0grQ4u0nHD4VMxE+QEQeUkhm2Sd9YAycM3L/RibCpITcOIIii/Y82dCG3FP5U1BlvsA42cB8S3T7Ho/3GwHHCBX1pIrL4QEHMEagH6BXS/5CTfWt7421Rno644Y28M1s3g4co7R2ukhhZqRzyAhLB3ekiiYuKjR3spEmWidkQSqK8S/TNngoNXeRB6FjUZicQnMX0F0znqckIvTXFr5VmL+N6C80sgVGrWA8R4TlAI6XGvNvuHkenmsifz2+5UhuO/r+IRPlm33DAiPMFAt3xZFhgcQB+VudN9xiIG16Info2H0VJTC5XrSVGdcK4yqjvlOIDYsmKG7a9qSw+Dph+z0Kb9yOIonmhj84NvyYjoAKRLuGyzyJLOxJobmR9I+coRZzLt5hlIxMQTOAaSSs5u3U7ZCsn4CqQu57EugBGqU+KAxDC9R3fD0ANxp3oCq4uVXorynosUf+bnpUYllR+JhnVXByROLqO+ExPkABqz0mf7NxrWREwZGyPRU07OyVpwILv+GShRU5frx2w6VCfZen586OhWDhDdab/OBgzegviNw0d6X7zah2mMYVBXlTkcbhKufJDsTto9h2qAnlMzKKhowKjc+o9oH3zVxPBUOsSJZuBkmwkSYHCag2bK5iq6fRoQkJClyrZSSjkvAZY4ZJUfiP5wJJDyy+cqWnbvr8SY5NoFkcxtpAjxz1mtOI1DjYE4UmHAlzY45LQtjuzZbrbPRcY8MgXBk+fRoGKOu4L4ETCF3X/9H72sPH2XfLfLuYlKJOVRXXrzFi3moArZHlAJtGRDlPvmEl0aO8J3wv9HksFTJRB7ENAdTEfS5pIxTGRd7Lgt6eD7SEtDQTrUMHNjA60COyuCFkDY7F5JC0R47xCgVn8gMUfzUAUwKP24uHoKO6PiyyHPAKQTi66ejYoA4aKNFxdUK6q4Glp3VMm6E012AIBot2gNYJX7+5hLYJVidonXB/ajGMFheLDjL8gFIZx7HCKCkWIWrc3y7QOubb3oQFQubnxmjw+eYKJzHXvKpP+KZfQ6uMmR3RR4s4nK8LLatYEOSRbzCnHHQ2mIRuxSOwxMUBpLn0A9dGMYgWoZsZMoZocdPPsfMNFtWATxZ3uBtnOPgav7x9jN959AabsYUzEW+PCzxf7PCT++c4jhWOfYV5M6KxAeuqwxAs5m7Efd9i3fT4cn+JPlj4cE72OPT19N5uDw3qxmMcLWJU8L5CNSPnz29rQkJVgtoT8YvzBHiNbDPMrjQY52lVbMo0hLQhMxTQ4cE5KBObMOd+XRw6AGlGKjYa7pQntXlzl85FoAEQRbzUcc3ZXqLgZDRc7SLCTE/7WhJRCDSgxVQ6KzobICsJhZBiT/yJVcps6pymZ6nQNRg2QNQ91gYmiUhECmIoBbMfAPH9I0qTSFlxlkKwgTFvk9DDmCnMgkCI5v7hxULK+2n/mTY4bb7FRaZH6fsNcd/bCDqJGz+kCCwPJRydMh5RIUL1AXAGYV3B9hFJYNhYG4SZRtYVeUMDiam54igkNgZqBMzeE7atqZyLmTFy7hin2CmAIxJ219wU3YHIwrDSXGROobu2cKeE5j4iNmoKi663Ep+lCT1DeHnjgsVR4SyGVmxdLBMbSnRciaDxC/K53JH8hvqORUCy9KxLYuniF+QBtm9lHK0FAVoJn6IUI6PwAluaaTK+S8nI89y9Nzd8Xb1wJCidL7FQMlLupXAQda1fCPw+Z5EVa5HnZ6C50SxeBqKqddtwMUsBB63I/9PM+82HIwvE5ZxfVzko2yJvdtJBiVhEjFMB8LkqJ+pI2RxkBOsOxR9R4fQ0o30n4/M10L7le8KiEJNfYhknKA0027O4BjhzJ/2CCmK3YzHpF9xogsNk91JGsv0jooShUfSuilSoAYL0SnxRUbyFBsBaCiwRlBSkcFyzmPRzBYAFZX3P6zsstXhVYrq+dpBsTUW7g+Qclexjhm/F3yrTu6o0J4yPU1DImL0eJz5s1gr1nurd0mABECEHkbfCZdQjRzBmKJw+ovJIgO0ijPhiFTV/tRmRrZaEj8z0D0VBFY1T2UWHZU1EPwNmiAgVbWSyMwhzC3OiIGJcOxLGAdhNx411GCcrDuQke45Glg1R12I/FDFNIlJZp7/ho/hvPey6lbOsy1JGHgaouUjCfZiioKYIqMoSFTBc76WQJgrIeyHVBu7AZjaJ1yjj4EaEZYXgeEDpTnhMiddmuLSwJ0Edxd8vVyIKyRKPJSCBO6XJFHz63bwcvp4IYiHT+4WM+TsesMjniULx2oz1g/sk00h+aryHs2ikpA/pQREFVBnZJai9A0yWoiPDLDyzaXczpKBRtx6LdkA3OlzUI6KN5LEFg5QVtl0DrRO0ynA6YVnRTqYbKmy6BrPK4zQ6GJ2wrnoYnbDrGgzR4pPlHW6HOcZocPIVZm5EZSJsE5AM852zpVqTPEDh+gkPVDlL54IQkGOCKseoHO45pskFASlNtlhKkRb0bj/H4+URfXBQKuOXu8eoTcBuaHA1P+Gb0wqP2wN/NxPx+rhENzr88PodxrnFzI44hQpjsngy2+Pn755g3owYgsXdcYbaeRy7CtYmtPUIozOOUSNEDX/kx6sq4LBpgcEgzQJy0HDrAeGmlXWbkJRQYxomfUy2P0euqzDPZ8/ZhiLCQjEqgsjiMFEaCIYJcI+0vTSgmVy5YjdkO56ThWpV+NLuKE1GaXjlQbWwRqg13ClBJ57hrC1oAq0Cm1cdE/dHK5Gvmeea23vAsHEFZDqBTB4ywCLvAdLH+xzISpPqoRTUsUdatPQDNUSEkRKy1jQHtxpQjp/XeppGqhDPZ2FBlo2Rr5OsaevOwJrKZ3No4G9NKP5/xP3ZjiRZsiWKLdmDDmY+RURmDaf7krwgQID//y98IEj27bqnT2VmTO5uk6ruiQ9LZKtF9dOpKKANSGSEhw/mZqqyRZas4T/z+OkVsJgXkj35bs66w5YyRNTnI6RWuPMN49eFXKLglBy9G+WaF085BEZOYYeB82PE+nGEWwvihd46XrkyzdPHbHti82d7/zoI3v73ERCdMAI4ler6pAbBdnSdz9ecoj6z65Fc2+N+2JdRsD47XakQwuYkomrglXyv+Q/lOBb0+DDyvsjnstWkKXgtOSI9SEcApULTLQCzOLH1pDUVqGwKl09UBkNUTHDbfQO9euad/wtFDOG6x+usn9AVWOEmfU1Kg2qihLy5wVVVylznbhva5cq1r1MT8MuN/L4Q9gYRAG4LG8EYIdPIrwFAwrRybrYEl6uqXKnAPfzBn8s1A9CiClkaC4n5loUrrVumr0AdyNMMV66plk/8fEtZ8Sv69xy/U6iRHtEFNtM39Pe9eb6WxhmpIyOLyiBYP/L9pP8U0T4jNI+vvAaYUUnPR7/y78P7DtsPp4b5c+uDhBmVS7XgclOl8/oLq6E/+txmIr3XX33nzDTH62R75Hpme4l3hOraFc72PcvksPyi0VW6Siy6UinqlWl83TI4pIegYg1Po+K1INzIk5Ha4BZ63AHk19ia0xU2L6RwJLiNQhC3ld7UeM3idFvF8Ja4LlX+H1JG/fTEBs8JD2CAhTQndBGIGTcDPZXhpx53HqcmBGkp889OWPPu14VqYG+TfZ0jDaGDKoMVZSCHqOrvWDufmYcUEwnSy8hr4S11lToA1HF/X0zdmA6uozNmFROWXdFe1RvVr8o7XdAJ+1LJC1w+8VrzCwfaomI4o690I/uy/z8fGsph9wp0ibxj6HXIHGfmeyMLcOJ63BKhRI2l6+ZRq6Amh5Yd84Sr4Hoe8XabkIvH5TZiy4GWJdljjhlB0cHzNuL7dca/fXjDYUgYfMHLvOB5WPD79QG/nx/wMK04xg3/cXnG19uBxs+6Qq4q6onXilYrm7tl5ZAxjt3yqhXdct3nAQdNN9Ih2KgITYUiVBQnwDu4DViuA/7t+IZD3PB6nfH1QtPrMdAapjXB2zrDoWHwBaU6PE4rvi5HBCl4XWesOeD/9+UTfr8+4tfHC1L2+H6dsa0Bb6cDjvOG22nEdRnw5d9f4FzDbY3wc8btfcL5dcZwSJA58z1ZHdLrhBYrOX3CeouxAkXpIpVNH5s1ctSZ8sEm0CVBemCtMEGjxQnWQGSQ52MjB1uvKTijgxCRzrPe2mkPdrDULtJk1AJOueKu8PyM17rzmis0SCIjnnKnlOU5sPm7ZUiqyLNnXnADZOMgzV6CwQSSaErvzxvqyCbO3VLn+vX7PTi0cYC7rgQOrHxEjzZH1OMISYUCuFLRvf9MBAkAMe5cU73WzP+v5cTh0xpBW//excP9M4+fWwHnBDeOP4QVt5TRmhIfh4GTcil0wM4FbR6QnkeES8b2MqAM7NDDmpFn2r2UO8NFUyeWyeskUJgQoMWyQZT/IhjeM9YXNhfD9w3bywCpDU9/25AePJYXh8MXdu7G2yqTYHrl898eAiDA8F5w/TUAI5s7s98gSZUT8fhatYjd2TGMVHimA/lbAJvH8fWOZL+QI+EXolhlQk+aqIH/rX9qeP5/s/HdHgVOJ6n1I9e7wxs0/sm4bGzm8oHij+6zlKBrUv6u43cldasv4Px3KojrADTPaLjtCaibcoCU45OPXG/2CJsYSX6/3YDgmf8b1fdq3SjwyBmIUYmuHqIml21RiNtIrYeZcGjOCrnzOd/+RGNkWzNJAx7+u0Oe0T0Lw6KT5E3zTo+C+E6EMB80Pq9w9ZAeiULYqrgFijnSgSvmy/9W4RLRF5+I0rpC8D2e9wIWVm3irzwc87DbZozfmayxvDjkA5AHZgdf/yKQwmaNaEtDvAK3T+T2AeQFppmr9+3ISXY4sxkLi5L4iw0hDkX/DgDjtaKoYGC8tW50fv01IB+Ax38vpBvMqhRuO+1geXEY32tv2oC98LoL03fM0y+eiM6lp4j4nrptSXqIoMKRhs9UEQ8Y3jbkQ4DlGEtuiEvC9mHQYuwpNjD06bwBngpiwKkNjJBQnQrc+xXt6QFSKtrpAvEOdVkBcT1WkBeVg0Ff7R+9tf7TNS5T4GZF9m79IiKc8LeNTec8EQWMHg3kSZbg4GpRThFjoOpAOyymnaiKVBGiKk7tYxrCOTEx5IFIoSsVxTm4VcPtNTOZDR9NtGtkzTLT6bBWrI9UjIelYn1i98VrRLrZ/f26Nz1SOSwZWD9Jrx9Wv1qADk2NtkpDQ7wwUahMKkZx+9c0B+AhA5sDikBuDvBgesRAFMYNBSEUbMuI8JhQssf5MsGHinUNWG4DahUMQ0atfO2/no54PBDdy9Xh7Z3E/SGU3tD9dnnElj0+Ha8Yfcbv50eMIWPwBZc04Pt1xvNww+QT8juvS6zrjuLZ+z6QrwXjZVkNMy9UGzq21AWQAJRDSu4Y1g1+bXh6uuGcR1zTgP/7xy/4++UJW/Wa0BFRG/CtzGhNMISMNUWs2UMAXDYOa1PIOE4bzsuIMWZMA9feb03QGnC6TJxBioMcMnJ22JaIdvNAaJgeNyzfJk59QZs8TwoAHBW+bhEUjfij/QsbvjK0vj3i64BuQ+aSdD6qlD1e0GpXOtoWime332gvlifWbUtQIghDJNrWwabqtWve7Iy48WDTSu9QugnQSsxDdEO4PUcMr3zSTdH34XVDNSrK4BFPW1/3ihpBS1Uk0PjL+hzMXLrNrH/wiug12h6hNW49K2t+zwNWFbBbbwTGSkW3SnOOedOqnZAmPfnDzJ/tumoFP9X8AT+7Am6akdkabWD8zv9zw7Cb/MYIOd9QfnlGGz3NXb0gXjPyHCCN5EhR/78m9PG7/tukRacSai2cdpdPUUUWSuYUfs76ErtJdJlIZq9RkGbXI5Nc4psXL7S3YDpJ67YarjQsH3dVHcDppAbRWJuGehSFqHX94nlIy5WNQjkCdRRmCqvCrgxE96yhyTOLrNsE179yDexvakycKA4AFP1TXmA8S28E6kR+2PyZK+PhpKvbWTkXKre3RgZN0cRlV7BWtawhoZ+mxvFsNyt/PhXGzK8tc4QzZNc7TsYWjXRb9gM4KCqSMzBPO1II0L/teutQt8TIfx8HpOeBCK0oivXEZtsanRp5SG1PbFjzxAi19ECfvqYqXl6b/F3t69MjX4dwa6hFOkdw/MYG8fg/2PxtT/or3Pj6HL7QcDnPtmJvnbcpG9f/8Uyhx/rM1BW/sgGNFyKBh99aT4QxPhbfJ1X6BqZ1AMD6KD3GrUReV9sDr72g9AWXGnzSYlOB4a1ge6aA5j4pIt5aV8k3R27g+EoUavkQ4LJgemPzSOIzEC5E1cvokB98jyUb3sruHQd0xC8fg07kTPVxpSGekhpGc11co2MzM/LNiSeGrVs2risVyBX5eSQS0NALPQByaIxY3xpwvaEtC+uKIix9Wm4VEliH3MMD6un0UyWO0YV3aHYtgFMCduEwJCGQE9uaTvSabzxHhPNG5V9loyNbBgYOujj+iLzSDisx/cje57X0PwNQJLHqekvRM6XSSJHuTmPNH0DessvMhbbB1FZvRg1pXv0lzw3Da9OhUtTDkjwrszGCUktMSOK+a/Mj9OxkRjoHRxSiQ+HLiOUXroD91aHMrdMm0ICyelxPvAny2wCMFUWb7TACtQjTQapgOw84frghZ8HpOuEvL++MjXu80fqkNGzZYwgFU8h4v07475ePeDguHWm7pYgtexyGhG/LEe/LiPDu0aQAcYDI3ui1loFNFb0h/DgMDO6HbYd4SjZkHJQjve7bMOf6zu2WI07rgNFP+HW+YPAZv12esGYPLw1eGrbikIrHEDJKdbhcR/iH2rl9pQq2FFCqwxAyzpcJkIaSPeKQEaaEZYlo2WG9DJBLgDwmtFvA8jYCA/l9MlTI94iWdYUbG9rIoTB8YYqS1N30ua91tc4117qTQpl4XbkNMAcL20qkozAF6aapWisbwnRUwdmyN44QdJ/feK1w2XVXjXCryKNDqFVpXuioG1X3SrXQdW8dyG2Ol9zFH4DeczpEldFzbbs2RebpEYjMyErXdpP6NkZ+vHJjUQZHhwO58xrULUAbIlfLjX0Er4FGccjjEbIktGmArGoVsyVgXXlO3kp3O2i17Stfs1eza/B/eRIIwF/WirYZtOpqELWizSPcdSUM2qBkck6++eCxfhx7oLxfK/JjxPxlUwKmxkVtjWpBNV7mz9L/7HWvwPJLxPYcNL2hYfqWcfh9xfQ9wyK0bE3chKsts0GoXpSLx6I6vnGV4hJzBpvnBRuvVRMhpPNirJgOb42r2aMqL5/5edK0Kdi0OYGJT3jzQLleXtMwmgczDkvrcU0Qfu38mc1AOjKmLU+6FlQy9vDGVWiNbAYNfWrCFSu9lLSZjFz/mp0Mif1EAZkjC1V1JUXxFvL+hqjea8I1b1XuX2tqDh2YAPF4ZDOonAhb4bVt40HeTNVIE1uzmzB/Mlf4vI33UQNfDzgVcKSdPzJ/ZhMtTbl4wuYvXPi+lIkXyvit4fAbm/PxG1XO6ciGsK/oT3zt1hfphqXpQblNE//NJap0jfC8PbJJj+fWkcN7CyLR69UlRXU/ENUsA9d3UT0CjQ5QvWD+ynxfxhby+4yvuftf3X4JPRs2HZ2aodKuYzhXIjambvTA9uj7Cs4vmocNtUzSnN90dNiODnUU5S4G1KgikQb4G5X4PlXE1xVNBOmJauM8e6SHgPS8C7/yQ0R6irj8bzPq4DhZlz2hp400jwaA+L4B6tvZRFAPA5FkALKoYeo4dANe8v1ct3/hMOrRbrcf7GL+qYe4/T+AHNa7ZBAAHHLXjUj3skGKRkGpEtBt9Ah0uaIcB66gtj1tgPm/WWPy8p5LqgKqcC1clTtdzY8O6Rj6YOQ3qrWlta4M76hr4YFZvfzAw8oz+dC23g9XqEG4Gutu+rwKAMcByGX0KDOnNSIfoXQBXv/xLN1YHoDmcZP3Gt+FWeO/cKUtDWiDkumz8hyPmc3s1feP51tAq4JhSliuA+AacnZY3yY8HhZ8Pj3gfRkZL7dG5OLxMDLp4rIN+L98/I7HB0pHppjxvozYskfwfH1P6wBRxFgagLSpIlO6159Mu5iISl9d7W6a7uA9h5CkyTBqBI1a9xWw+ja+v894vc346+MJj8OCpQT8t9dPiL7gr48nNqkxo1aHZSFP8Hle8MvLGe/nGdsW8HaacbmNKNnhdh3wfjqgVoeSPFoRrOcRlzdGuQEANgo5XKyQQwaSA26esW6fBwp0lMvskkA2R/EO+L5KRh+mDTQwSk08y04NUGFcUXDRhIjDiQ1e9UAedyCEq11F9XR4l0obK+OvWmJRV7VHDjdMZlLPUgVJ2Gnp+amefwB/hiQqhFs0sUbrP69FGj+XY+xmz2YEXSc191baWrUEI/1PiolCqjZ4bvcBDY52T87x33VYaNMABEf+X9QtgJ2NwI88UmAXfwg51f9TjfonHz/XAHZViuyKKHF9SmrKF4PJnmNgPEqpSI8R6SEgXGkDY2vcPHlsz3zBS3SYvizwa9F8zNYj4uhflTG8bTCyZzxllNlh+cC1Mhrh5Rpdz/qrgTyX268soGGtPSbLaYrC9kC0pAZ6Ci0vtqrjzTC+1e5RZE2fVOD6Fwow8kFvgoE3Sbwq90HjxMLSlIcILL9IN3c2WDvPgL81rB+A5QOVTe4OhPBLo5egh4ZnozcY4cwprUZa1lRrTjOfzw+5wrbJSDsXiOTenedjPIvtkc26xbaJd1QE14Z2nCHPT+imz8sKeXygL9pthVxuvGiN75cyEUPjTnkPTCNqdPu6Vr3HTHHGiZB/DzfB9Fm6vYVx4gCdNB/RJ1BrZCF8f7YnFpr0wDSZMvCQPP67KXH1+wnXF5f/wvcyPQLpyVBk5VK98ZpITzwgpfB1zrOalQY2/ONr09dceqB5N0zV1z8sdM+Pt4p4qRjO6kU527q/dTsjnxpuvwS1juHf/UaOn6k3AX7/eK2KUNeecjO85W7YTKFQQXrweu1RNWwCKa982DIQ/XEqCll+HZEeoxZDpQcAWD8EVL0X/VKQHiNRvVRVycxGKE9cLQ/fFkjSIWcMcGtWjy6B23QFPDAuqT4f0Z6OPGzPFxbJwKavrsrX8h49TF1NeX/6oS78/JayfwzgliNtu3nrHVIpKxECSWW3g7EUkKQEb+NLRs+17cRVU/OCcs+ltIFZ79HhlDqP09/YMALoSm3LQGUaiOv1AUJajX0eoFzVCT+s7rwivzUoZ1Z5e2ZTxcguQIwbqKbRAGuSAN1zk6r1ncqBjXGOLTTE75opW9h01HOEzJmq0zkjPmwYH1eIb1jfR9TNA5tDWgPi44rrOmBdIk5fj1hvEaU4BF+w5ACRhtN1xP/3t1/x7fMTthzwdp6wrhGtCS7LgLfbhNs64GVe0BzjDlupXQXcs3w10o2UgMB1v/c7h0vj3joNKt0hiMYFDJo+oQb0txzx2+UJr8vMWLbzEd8Xqn9TcRhixjAUvJ0O+PvXZ7yeZ7QqeDgsqJWvgT2cZ0fdmuD4RHTBhYqWHcQ1yFwA11A3z2b3DjGuY2WiiwPcxuYsnBybuzdBOEtX7Za5dZTXuNS9DusGwfxwea2hn0eoIDqnNblTDZQC4jI3c1V5gGnWwVq3fPw5avWighoCKNxYmAdgE6rmLcLSKaWiRXqN7n6BgbQVtX2z+8F8/sivdYoI6u1TGpHBWtG8Z0M4sq9BBeNOg4O76M1QK6RWZv7m0hvBNgTIzTwj98ZRRHhuiuxUA+CHzN9uTfWT61/gJ1fA3ZzwLhbHODeinjnY0u56HRz8LWH5y7GbnMKRiE4D5IwWBMNr0qmTCJLkBnj0JjAdA7ZHT/LlMXQhSI1EPo6/cecvCruuz1FVu4TZ5s8J1z9zzULVUUWenKrm1M5D0Fe3XsmngCI6GkUTbk0vUDYUs4oW4rnBori2J8H8mZN0jntDBW0e4zuLI3//hnyULi4Yv6MjPjUQ3QKISFGgQLFGE10Vg7zCOqJn6sYTmxLLWtyeKHTYHvcInqY3sKgfmJkiGxmXvxOQH0cMr2euczUBRKaRN5eaPbfzmQcveDi2hwNwutASQY1zzSDaqW0CAKBUhFvG8Mog+XAFrn8hL9EIwNa8QlfWXlHUMpOMLkVQZukfH781pEdRIjJh4qJIaVVKDwTYoiZwQCfFIkhPFMyMr039qtDzKKniBbz6UTz8e0UeBelRkPyeAJJnongu0/7HuG5mW1MGW+uyQMYLBR2idAXzH7TnZad4mp0ibXofNh6+x/9g8Vk+eqSZKjpb39VAdTrjv5wOCCy2XtDN0l0iKhffM7rR81qwfLRVEBDfEtJTRDgz29vWjsMrM7Tje0IbWIjDJcMyv/2NkXN58hi/rdg+jCjHSNuTwRMl2wryI+0o6hh4MFwTZEuclgFeYwDq5fpDDbJVrRtHdSeQPuX/0487EQhtF378fiT5N64MbZqvbPDKw0jUQQRQzhFtWWrPPoZ6IcIp2hkc/FoAZOSHyGSUXBnDV5oquIHtMdKfMdsQQsN7Wxe7lSi5NYnmbOAyr588kzrC4a911H/55BhJGJWyUKAekPzccaFyfXvW1d6gGeaihP9K8VW4CfJH3mDpoVFQAPTEkDoA/sw64RYHqJBOBJDvA1Wo30Y6bTTAfdiA7CBJ4D5ugDQiZDc2NBIqWnGYjwu2TM6goXoA4EeqiGuN+Ph8QWuCZYt4nG+4bhGndcT0xcGU5bTmIJmx5bynFin6105ntbZqsPSZpupO0QAERDaPUitjC8cB+Qg8PtywZY//8e0ZMRbUKridRwwzldDHccPrecZ6GjE8bIixoBSBcw3eV1yXEbUIXKjIXya4TyvSiWpqALheiFa+vFzwfjogvw5AaJCholVBWyLj+iIznKUJZNsHBn+X4JE1Tx2gotsoAH5Fz7Pn9cVzhyjw7tfX6VO6evU3fo86cIAOi56xK90PykjnA2kcWoPmmNsjHUzMtMclNqH1UT7Qy9dvtV/zKA0+VxWUauLR2roAtaoLgV9y/34mWgOActg9/Gr0cKlwO+Hpb4q1Ii7XHf1TNLBOw05dscbPTJ9FIGfdoM0j5P0CeNet0QB0YW23EXLSOX+tAOLRm8CfSTv6ORGIWiIAUB5O2afcMHIt8+FFu+AGnG/Ivz6pvUfuyFyNguk9wa0F9UPsO3xAUcEDOXkkjTMrM15tj09LDit84ULj5+XXgReJEwxnJg1sTx7xXLG+BDQBbh8dxvc9O3X6XpCOd+thM3rMLJZhoU/RkPbJ2VZr1kBY8wGwebAJKR9F+V7osLS0nYfn8p3i9UZPP1uF0uyVK754ZrEe3wiTM6JJ+XsX9Mgdlxvkos3KgxZs4efUqJYv34DauBp1mSbVVVHCEkEEQD3tjJvVXczN+29LFIIcZ5riThMwjbzoc2bzF2P3NUIlitiut06sbjlD5ob0EMiPy3zNhlc+n/E7uqHt9JV2OuuHffVbIn3J/EYvM7eSR7e+SBffEFHSpuvG17M5AI7ijdsv0pW1YQFX+BNQPgjiu67Al6YNma6ShdcFV7m7gMUQycMXvlbLi03awPylYlWRSDzvyl4pXP0C0geLPFthZBEMK4vl8oGIzvR9nwDzJDj/lwHDmR+zoSXPFIxM38gTNK9Asw8po6AOUZHVijw7jN8z0mPoNg5+rYpg187NC1fGvEGEdjAiCFfy17aX4YdsTbcV8mtaQ9DINzQau7tckY8R4UIrhfxMlX9TmyB3TTRdPYyQtwuwrJDHR6A2OFgDtgFeNxC17NZUGjH4Uw9xP+Ru2sd67rkhfrr2YxpIQj3O/D0VwXSbKZz19w8O4bSizpH/nivzk2vrKShSWrfPMd4fmjZJyq1k3XAIZ/onxnPpm4tu+Jxtpda6DYd5XJZR+jajCRBPNNw1SyNDyGvgVqJpVrWhgFKlqzmzuuHEkyjX2CE9NoRFUNVqxuyQ7N5rjgiU+cOZt5oktw+/U0X9MgJjRTsU1OTgNMO2JF1ThoqaBMui26NbwPi4Yr0MGA4UldyWiLIEvLoZ45jhXMVti8jZ46ZTDA/ttjf2g9/j3hwJ1a1UbjhqYxpSDEBRIKQ3iRU9IzpGiOal5wOQdeX86emCwRf8j6/PeHi+4fw+Y70MqE8C7yumpxXbEtAKf8fjhwtTVAC0zWE8rrg9OdTs8PjrGesaUYtDfh8gRfDt789E+rIAh4Jmr+3q0Mbamz7JApeND6q2VrEhvjnkQ4Oru9WLv0rn6gHotkJlBIbv6Gb3edaBQKSr0ZtvvWbGs4Iik/RNCIDOUTULrTrI3kRWKP1GIPq7hGvVe2TnfDehg4HFIjah5YsrdkbnboQPKGpeGv1MVZ0vqaBOsacXSWlwIuTwiqA5rocFDjV6mtVrWpFcV3JBvVeLF9fDEnDXrNEouug5yI2AOIeW9PPuTKBbTjAhyD9uNX7GEPqnEcC2bf1J/k/u1GYHEjy5YEOE2zLCQvSOrva5ry/yY8T824I6cX/uV5o3B41qCdibJ7dVtY+p2J75a7hV1T4vsUPA1vSVaA0UMJwKhreG7TmwYA7kO90+ecQrb9x4rVhePFwTpJkX8aJcLwZVAz5RXZkPhLfDTbl66pnlNnR+IKzotTvErfBzmSzBqC4nRuwnVzCr1xu5P+RYDCct0K7BFXIAw5VrXVT03E5XGvs0hy7hb4GIWLhIjxC7/UlzcKs2kLeG/Cs5GJYKML43+LeFUTUPR7RAvhNVcFpIlLPQgoes275KUZ6gACTE5qpFs+rBuV8y6Uhl8vxHQx1FeXd8nuaD2Pxu6jy8E50wNXQ+Mou3Z+GeWucODif+J3kXaawfhKrt656FuvzC93f8TqFNPlCRnI+ia1mKT2w1LIVoY5nJU01HUTWbTpufPMxKZnt0GE4Nt09aXO1eDlxHB+Vl1cgCJZWcmTwJ4pXvzYRKNV3bV9/x2ugPmCpq4PrLqWVCvPB9L1HgJumF0a9NV8OuX49+JQfQUHCpel9Fh/VDwOHvK+roEdSjrnnyFOtgDbUgLAVl9Bg/X3U94ju/t4wePlWkpxGWBuKvmRya4OC/31COY1+zlGNEeC+cmGtFyzz4e9FU8+ceQ+kCa9AdMvNTj3uy9f+UCOL6dS8h0Oi1VrTjjKaCF5SmVjcObmFMXBsjD6Eh8PCwAyg6VDXLLsfIRli5SffG2HXmBS2VRvcQgj8dEdGh0d80t1XomDCc2UyOb2purlwrr+h6vFFwZEONUUTyzCHRyP8uAf6iOdaKAJmzgVlVbc/7OVBj6+bR23PD8M7vnx6Y9U5DdUE5FribQ33JwOq4kj3z3nEZqM8FeItoU4GbEtJlgBsKavJoiVyRunm0KhgfV2y3CD9Upl2EApGG4bghrQHPDwvGQBuZf//8ATULns/oq3mx7sBU5P94yKoauDUS+gHsAIiiQWJZ6VWHXPA1LZWD3ufvj/ChwvsGAVe29TQiHzwO04baKmoV8OxvePv3Z+AhIYz8ede3GRIqxDXmKyePdg2Abzwb5oy6BAo73iJ8Ir+veaAWh3osgAPC19AFfF5tXZAEELpOmENFfDc0+Q5MGFhPfdX3CNBscJ6J+UEpLsonRwOCsO5J2XmqzQuQGi3ZKgdjqQ1p5vU8vRZy9ysH8TqIbgMda5rGY5qgyiWlWWnz6HWopFKeSF4Tq6EKa6qApMwR3jl+3AmTPtS0uSN/XkEqaRSEpIw2Ra1jnt5/taLNw936WM87RyRQlqTf0+2+oiURRdSNGRvCfFeLfLeC6UbQ/+tsYFQAYNMw0OFIGmQCiAEteL4Q9sumClcbyhyQj1E9wegD1gKtJdxSkB9jP4BMzRguGflIQnq4Ee2zKaDMDlU5AlIb8uQV7QHCUrku9cD114BBI67WF4pFxvfKi/xckY9EJX0i5FwHwJ35PSyC5vZnQToEjG/1B5sXCLANouooc9XfXc6HW0MqXCMvnwSjIlp5ZhOWZsH0tSI9qLjEiq5a0VTPdBHax+jaFjsfI16IfMGxcahB18Mrb+4a2TStHwTLr8DD33iz2s1pz2X8vjeoJhYBwMk3ZUrdk1oeLCtNoNX0VJaNBuBOeCgCuiKmQ35fy7XKm8eUTsJm1q9gM7Wy+Qs39ebLnP6IILfO5zRzboAI4PILf5/xG5FUclAAM8aOiT5oZdyRuXgisrp+MJ9E5WENRnYWfm/19Muz9AYmz7xGqPgG/FvF7VcHl3lzhiv5LmZxwCQSRYOVsycNGM4Nt0+C8VXRu1HNnwMwf9eB5oH+lOHWEC+lC0AA5XSJ+VISFR/ec0/TMQSxCa2OXG7IkQdsPGV6CXpy0eJrwvYc0QDkIxHzeOUqEq0hPw4oE9MrwpmNCgqtSaoXxPcN24cJPtErMD9GIDrEM1FCM/pmY+yAxHu5PE6cwLVRkoadWD3RF8/QZImBCQzGMc51N039Vz3umj4zhbaCS6SxsViXCtkSVe+DqZWAFnmQ+FuCbBltjOQNKSoopYJJQQPX5SNtQyRVfq2if02ANgfIxrVvftSfoahgDdIHYl7TDunJUyWpyQndESHv4o94bR09qX7npdo1Wb0ORiPrWbjuA5XbAKecwPG7CkKCOoporRFbGWq2cLiqytSrq4GK22ji7ohWvQWujKugTjzIy2MBrrru3RxK9sDqUFfHZqMI2lSA5AHf4J5Y91sDltMIPxaEmJHWgOPjgtN1xGs+4OG4YJw2XN8nJkeAZxeAblbfSqWqV5Nnus9fypDDgWu528LrUXNdad2hnECge6O6BGzFIYSC0hyOQ8JtjTifJrQmwDGjFIfzZdrRvsrGFlOBCJBeJ/IkkwPeI9oTm2FZ2Ui0hwpsDvUSEV49yrGiPWSUIpCvEWWqcKuDfw9ovun6XrA9VYoBr/Smtfg2ggJ3qK0Aw0WdDC78nPxwd81oQlFIDbjwuqxD64CDiRHDtjtt2PXokw2e3K6ZItiEbT6z6RvOBelAu6ymBus9oSRVhEvduX8DewoAqJGpOy3wHiNNrHbVsFsKKVBTgEtMKSqHAf5KcZcpgWVhQ8/kHy0QijDWwwB33fTzlLpSK+rDgc1j5rVBDrAnPzDl3SHDtqnGHbU1b+c03w219ee2HD8nArFH2/kxTaFMN09c711ukJQht41yaiWLp6cBbmUQvOgqyaXSBSBEGVInnOcHrqmaZmgObwnp0VMUkhmgzpQNgb9m5MmjDoJwK7AMQsu2jVcqDPPEC6k54PJnh/XJIT04Et9HhzxyOpm+cQ1H0181Rf7eVDEpHZ7OB8LNPQBbTYHjWcUDilqlA0Otw611+4X0oBydjXYLxqFIR2gEWMP0hQbBLrH58zcW8niiubTbVFRy2iH6cGMDUyMbHW/k2wswfdlJ3eszer6umXcWVRG7TLEMvKAFVTeeL4q+BBbHQIsEswUCtICK8IJ/PCofNO9TtTiixE7QEvNeh1e1wtE1U3pqnWNJHlJDURRwe9Lfa+BrNb42XQ/w99+epQtbvJLUy0jEs4tGBgCVTfXySfmDAmwvgvUDG1FTIDNtRXrz52+NIefgatepQ71ZtoS1afoCrWLMiDwddgGRK/w8+xnhyrWIjeTLRx4CeeTH/Aa93iwGic1xOgrWF/5SNQqm70W9tVz/XQFVtd8a0gPJ0GbAaubCAD00m2Yyx0tW1LjArUSUIILtOWB4TTrgaIEVQZmI8JUpoMwe6RiI6CulY/l1gl9J43Cl6f1ctTBTPVxHjzpRYOLPJFO3ITJayfy0zES8FB66akLfeTExoOW0izb+BY/71Yt4v3NvrCkMoed8ylpUNJPhlsxc0VEb0676JV+IGaalW+tAc39R6AUoRUnpwqSCMlmuaO3DblgKwqWQ4B5cR1a2RyKEtn61tBi7TlymgChPajW0qBH1tg+0veFLZsoryN3PTa/j3Hr2eLxofVp3bnKNihSt+wYEuBOtKZeQLgDkpPmTA7LAXzyGzwFudXBJ4G8Ui/ibUy/BCvm09mbYP29YbxE4RdRrwPiwomwO2x8HtMVjuQ0UlBTjAa7AjTZKkvZM6aZuFuIdmqq8ezycDbI5E7GxBAfnyI22bYiigk2v23AByvvABrYJXn97xHqiuMX5hpYcWhXkJUBUtOFCZWzeWPjnWNFuoUe0tdUDReAXFfusDrIJ3JW5zG2o8F8G+DfGu7lVvy6oZ+OgfOOFzZ9kAM4UvtDVMGuxRQty46VoYACG10ZP2Xt3icBGLp5br6tWB6SxjtRAr9b1yXUzZ1sNm3el3wjyUFjpKBSJ0u+J4TUhnnk/hYWCUfKcHfIjjfDzMSIfI91EMj1L4dU2qe73I0R+QO9pUJ905etp7F4aP8cBbtloDD0GSK2oh4FrYgBNKQH1MLF+JeUJG0oMdHTQsqTh74RrznXk+ccYyrrXtX9UBP8nHz/XAOqE8z89rBFsOjmJ8JcXQfowoRwC0wMGNnD5GLr7tsVTuVRR5tC9x1yi5UT3FhtcPwhdJupHErSj/YQ2U/Te4ffLk/L1bpX8QJ2c/drw8BvtadYn+g0NJ/U9K/t61gqi1zXp/KV2K44aFNXRGu8yv3b5wAPY1HTbg2gcnSFsun48te4RVz3XoLdfd/Wvy0Ss7MZoAiT1yfMrp+8adSIDX7P1hT/XQt27KvnUFKHkyrQMVCrLfjbAJ1qjlAF7buL7lWtfS/WYZ6rhxoGm0LXS2FmEOcAmFgEIkSuJH/fiDzvQH4+I16wTJKfLMgHzb+Y0T+SyTNJ/x8e/tV6conL+1g/8/UzUgsYm2qwMutIx8/uN342DCW2w2GBLZjIIg8jVoLTwe5NXozemQO2ERL3VWLykkJvYPIvecCbC7Df09W281DvfNl4bRtSvgV9z+FwRb01tF8hrcYXT8frMe8+Vhulb7Zy/JsDyUeMSJ8Hy4jVnlt+3DiRYN/2z36qu1Pn801NEGb0q+wTxLRHx9aKKuYb595Uc3tEjPVKsxedHha+RqF0mR9dtVb01G5FFL3C6KiZKJn1141banjg1Wq1TAIKjp5bZL1R6ZEkMbALXFT0FRBzqTRU6P2GR8MPjh6LLIt1K6ao9Np6NYpWyG9ZagW6CrkKsh8jC3xo5jpr8YYpEi5yiZRCbQSlsFEkHUYsMQRfTFUUL4WiNYTxUKrQV+fWsdfSC1PoTdw5WGTjg2IBidYYxczrY3NANeMtk7gZExPNsfGFGLqbHtqPb7xy28twQT4rW34Dtg95ver9W5R7Hk3IApXUksgU2iVIBf/JcLU+V6uGVtjEtNgodCgUjALAtkYrY0OCPGSU7uJGJG+s14vffXiCadtEs+s+7vroF0D1uu4F9DD8evmb8bB9L6QdSvygfLFwbJAnyNaAmB3jec+LpTypjQd08Hj9eUG4BLhaUayDyVgWtCPxExS8EwFggV89GWIA2F/iLQ7i63uDJxkbQeJbhxiab9jzS175SiRabctevfE0ANvLjd55VTfjeGzWHTaR02pM5XVjiTFgIdLgNfYhtsg8YwF5/8+gQlqoiOf5jVJsqv2qMZeAaePyWei/QNGqxjAYKkcri9Z5qXmha/xhQdCDNEweuOgaUOdLsWTQi07ERrKNHmenlJ2rsXA9R70lt+AH+33jxAOoY4ZZNfQM9V79euYC9hpE+YJsbNPri/hCp690Pgy3/+wc6wv9KH0CIo1M+0PMyRRUtbVn3Ahg8pc/a0VokC4DuWcXDtlD9Fh3ykdYU4Vrgb0T1pFAskA8e47fcxSF14OHTw+rz7oZvU8dwKjq1ls6RIULEQ2o47U3hpu75jCZz3QvOiiJd89WdvBK6Hk5F0zNoDOw3rvWGMw96M/atHl067zbyxKbXPeKG6Sf7FG1xZGbHYE0DM26lNy3x3BCuDde/EEU05Ww+oIs5wpViD+MsDu+tx6PZOob8HFUjH5pC8LxA2/WK9n7aDcCvN7TromKOsqN7CnvD7DG835HCGHuEHABO0LVBtop4IZppYooajVNCq4p0pOCljPyz8SotO9nyYwF0g2s0bX61aIWLvo5erVy0iabnoaKD+tQYbt46YpGeLJdSScr6ehWL/tQmGwCWj64PCOng9KBrGN/2IPPtcV/xTt8rgvLyzMqjOa5rLRZue3DYHhyGU+0rjzxqGo2X7uVm16pfGidmtRJhMow2yJqy45dKvu0xdOSxCYemGpn8sX6I3WYBQq8/oky8P/NR1/iBKmDJDeOXlT8jqbH0zEY0nnIvsuNvZ640jwF10IK90pW/HALqtA+FAKgqB7qPpIh0IVorpXOQZRh+UAb/9MMaybtiK0445Nzxw1rw9ARMRBSobi5d/OGWBHdNPBREeLAk8vvckomGTlwTGzLavEOLDnm6405f8x15ne9/mR2cqiPDmZuP8Ttf6/G1ED3XrGCzCzKRiDX/VQUiUqApNLxOzBaKyknpBuh+2xtCgPeYDZTMLOf6t4ymEpbuK7p+aIhvOuCtehYkIlIA4DeifWWmAMYtTptEpVKEBn9zaFMhFy4p6vUe0RIbQFkc5MuAmjxkzigL+YI+VHjlz/mxoE1ag2r9YZUromifIs68ye0maRw87q6JHkc4DLSQAdDFINDmR8UQbiiIx8RaowretnpgcTi/HiA3v/v4FSGieYkol4D4tJE76YnwWbMf/4hAkz2ZIwv81SGedzGPVBW8HUnTCheme9AXFBxOT5oq5YkC7vWwdcsWa/ZoWM6zJFwbpq+1C4jitWF9ootCWLkFgSHNaU/WCEvrG5EyOIR1H44BID34vupltq9uEASMEFUkzy+FoI1uGpvZuQg06YP2VPDkKsOEapn3ZjmE/r2kNMQvV96XS1bz50qrKqN5bDRwlpuKRdTb012W3hy6JZPCotw/OK3F3VJK18LLymttHOmuYd7KagHT1OZKQvgp4cf94yddUvXhBC3pk7PJqFS649eKdphQHydIKkiHsKvBAA2b5wvib3qQ1Ib0GAjrKnE8H3gBpCd6/NTIgtfE1lM8JNdfRl1L8UIxQ+jmiWRsHwZc/jpwKn0r8JZUcK2oI9WjduA0B+TAQ5w3FT21wqqxXal1KwWpDeuTVysD/nLpQEXn8uyUaK2HU0P33msOGDQL1jiDlvHqtLh2zsSNjV087Zw2y3VtCq83TzNjv/LzywAMG1em6ZEN0fgN3Xxze+RBUCLgVvT1cTrqtL/tFin16QBniN1q+VCNjd3DAe37K6ecceC/q+VLN8oNHiID6usbZBzIm9Gg9Pb7Z+Avz1QdZo0a0tcnH/Z0DWvUDFkINxWBaCSbNK64nX6eRY1BG8V4Bu6d6S1dxN+I4G7K1TMrHpda93YkT0Vw/TN/3vSVB6BUvoemmDRe1XBS9bia89bIgkRvyv1ASGqxUQZaIAzv5PYN54p0dLj+KWD6XtA8r5PxlR8PK6+t6Y1RSS5zHRMvBX5VdWek/VE+0MvSKUrIJB2ugl3hoJRHwfjOzEy3ciVZBqcNIlSAxUEgvm9ITxSBhK32+4hqUCqI/S1zcHtgBFN+VCuZXPuasmhGZny35pS2GTUEhLcVclmQf3mk4AqAXBfgMAPf31Q5p0XVkmW8J1onAbULQX7iYRwbtV+wh3hPGxBgtwlRU9gWPK/1JcFvXP+a4q8ZUmSvQeCax10ToKsnSaUbyfLAK0CqCJX3sdsKmjb0ooggih7gqcK90epneGPailtVJXmDkudZd0Ph9bI90FaoaKyiCTui2gbxZqOp+PrkEK5NxULmd0n0x5pDExmVid+LJtO8dGKDEvmVYnACAFFvQ/U2jWyS+LUC0Vw5aVAaj66r3z3yU4HcPHD1zLBtoIoV5A3K6lCfMsKUkVdyYSFAukTI4oGnhGFIaJ9HDnnZfAD93dmm/n9m4wGoUW/cs4G7WEh28YfWx44Ua830N2Ydt7EgXfliy9BQE5+fNEG7edb31UMOGW1zaELBDDZByiPgG+Q1wq8Oda7kTI4N4bInSeUjG2OpgjLz37anivG7g/vqmd0rRPfKpMBE3c8oG3CdorNlJBe6DuoY0QDRGtsc/93r1yHwerU6nI677ZDVXXMnsOStrN5+ADBcWNfKwLxev1W9jmjInCOvuRxCH4Z4v1TGxWpOtl9KR+Rls/tO4G+Z9JUtM+WqNvj3u6i4WnXV6/omwl03DmxLQn0Y4QzwCGr8XCt5fylTDLnl3ghKVbGIxb7ZOrg1bsWE/NK2UVxpTgYN7cdNqziIR4+I+5nHz6mAVY0CaNH1kS9ao5eSpYDI+QrXGtoUaQSbKspMsrjoKpcNmEcdnXbtPEBqcPC3AonMBs0PEWXSWJfEzn39OCI9+i4U8WvrEy4PRks3GLE+O1TPhA3zC7KLhBmAQDzRHNoVqo+kNEhlOoIZU44nXnA9Qi41Xbv6vq68/lkwfbWV3t6wWV5vUZ5F0WYgTwDUBmR4Iw/Nb7xRmM8q2B55060fGMZ9+K0hHVQNO5thsCg/cW+CmuP61BrHGgXrR+N5qJp4AuIX9TIEf9b0ldP/+FZ3JMaKm3PA7cbpJiX6AGYaojbNROyWMNYUVtICZJ45PXnPSdk8mTSOSBqbsPVF0U9SZoi8zsD22LqizdC55gG3MMHDkKz0QdHfV8DihVwiP7A5YHzl625GprbGtcJnKm/jaErma7K+7JmX25NoDJs2gXXnTflNrVbCvhpJx12pKZUNI4RrdykN60uAqYZtVbJ88BQRXZqmxXCtMqkpuR3IFKiwKCwffE97sOHD1MVlYqMblqoegbXbBzVPLh//78ivjaLUCfMSJNcPq14PIvBLRrg25KPxIPS1/75CtqzNkesegVTt874jAlx6s+RWPWiP037NtUbfrFVpCN7pMDFSDHKXlVmXRWvUT8649yI3/X935bdDZZpIeQCI1g0RsiW0KeowrK9XprDDbYUboDH0w8BdE+oQyInMakMxKMG82naAljkmDjEagljzt1SkB0VxG4AgXTlp7318zyizHlagsMpr9vNw2VG/PFGA5FKDmVDXwMHHb+i54/bzrUFwl9YjL5uz5k8bBs+mIs/YB7pFkX51ORhfiSLz/iV/2m2i9iK6kp4bwtVh/VAhSRHAlckVdarAqB1MYyNoaSISK3DSe2usFI2sHss1ICw6/G+JSLI16hCK17aErip3Kpozfta27atA4MfILvuYRhbGW+1OFvU9stmbCtW6J486VbRY4S7mHFCB1wgMDbKxkXOKlpq7g3Efw1WQnpoa/ouueXnWNP2cMnIVbIitX3errPE734c68vOrNu9Nt5ao3KBYJOnwqqhdgiZdtd68hSu/Z7wRJMkz7jZoNkwD+cgnYjUo3lr3szTO4PBedmHmUrvIRCo9/9IxINwqkcOFlm8mPmvRIT0ExJNxqVinysiB0emKP5w3lIM24+bjeRgQTqt+v8Lmz4QeTzNtmJbAIQ4c6uS2osWANo+72CNtaMcJcllgeb/NkkGc41Czpp4WA2BX/npmQNet3InQ7FrU++8neM4/jwCKIwwuQjd+cTT4dYTM5TjTxf9xQo0e8fvC3Xp0nUJRB4ctOgynBLeSK1QH19WC+UA+0/AGNoMDzaFbdNiOAX6t3Rg13KiSaw5IjwHja0FYSDovk8f2MMA1kuHLyMMNAFx2/NoKJb3zUN4eaS5pWcKWxpBmEuyNkHr75DEo2dWg7Ke/NTXk5SGdR8HtV36/cINytUiCrX5PmTB15PwHn49FgnE9yJt6fOWNm4+qflIkSgrQRnSHfmlAUkUyVdS8Ma1R3F72RmP+3HoY/PjdVLG0zgnXQvSltm5SKQDk+QntunA6DmG36FhWtMsFWDzassK9PHOaMbTEfAFDUPI0b3hL9uhu8A/oB9j8WQPsV8Drqjaeic6Nr7oyDVQFSwUu/yZ4+D/5O9WwF5Ttma+N38BV5St/me1JFbRRuTLXvYC7dc+SNlPc6gVOG1VXTE25oyNSiZpc/uQRL8rHqVyRjW+1q9yM/2JefOuzZxj6yAnWxCPjOz+WDtJzfonk7s+ZFi5q87K1bjptK1+ip9L5X3awSwHG7ytuf2HDFc9FByMi434jQu+XgjJ5wJND4xLvExqy0t8TIDqfHj2Gt0xk+iFS2arRaOUQ0BxTgfprfEvYnkbEr1fGL9VKX7ZD7E0m7qxX2vkCdzgwUrCUnX7SaKvxr5iQ++PO6YCm0Du1AQDFbo80wpNayQu0R3A9OF6SroUb4G65cyuhh0i3jGjQ1ykiPwy0sYByoyfWT99KT1sJN3pwpEfSZpqAr3VucCu/hgIqr0Ny7V5ofuF7WJTn7FKDC+oTqLSVpivKeOX1U0ZB9Q3xqn6ZgzYkoteb3gMA9rg/XVNyrQytbfufmyd30JJ2ygSsH625ZUOTHxviyXU0q3mgJc+hNwHbDLi3oMKm1klOsgTUY2GefGiw5JHm6YLgCnrzcs/tI48vdYEbERodXEX2pBC7jo3g730n+ov9OQR1J3BY/pzZsD5mvgdvnopnBz6vSIscFIEUQXh1EKXklEPF+MWjjA3hKj32LB9Yg1zdGz233fmTKveOT0rPAfP0E4YDhBstfMLZABRSh8rEGjh901qj52QD+jBqW5eiPEJXuN0AuF2xhrXMHGTp1EF0OV7qTsGxrbfRVvSaLCpU85piRB4/KSgQfT6KDkJFi5IqgnLsOt96YP0yz01ybhv8NaFOAVXTP5xuHfw1EbhIbOjaEDjQigJcZmOWCyPeSt3rlRPODG8krrcY0IYId7rw3++I962LihT9qw0tZ/ZRd8PtP9rt/cw6+F9THZ3f40mww+MSfE8B8d/O5NrNgWqd84b4nuCvmc1FaShRO/dEThIvmIZ43r0CKfpg8HwZPfKR0+z8Je0mqKNDUb5RmRzywWN7icgHj+PviZYvUZAePJZnfc5C8rTxrOpg/MG9QYrn0iPrmDwCmJLJMg3H99qbge24F1jLP2QaA3osW7w2hEvTxoHFcDhX5vcOopm25qqOjggNamAtmY2K3xqWT2zeuuhk2E2KW9gJ1qYKtAm8jPw7GyB+zPiD0xdyfWhEq3yYnCHO9dWuEVVbSuREbQniHOTxkejIPKFtCfVyRbstaCnxv9bQTid1fm7wt4zrXxy2J02tuFMUzp913a7pBNO31jktzZlghq/lHjAOvWZAAm9pXYwzvjbMf/DGSQ+inM2mDRkLWgvkdqZHNmFUTEuPd4Oup+O59Z/D/Et1q1+A9dHx2tBrYn3m72b5wN3/UdWYLMTSeX3jG+8Da/yo7JWOUuZZsD5Ssb49SkcVx9fM6/G19oM4HR0FAkZnU4sRS8yBCMbvCeFSGL94LX11Pn5PJGFfSLzenojmGwfTJSrwtheNfssNh/+4Kfk6I35futChjh5+KYgnkqT9NaEGh/w8E6U4jkTGPG0SaJeir/H7Be26UHSkNgmtkBzdSuEQagKNfxUH0DwAlYRtCKAMA+kPmhsLoCt2O/pTiCawKddhcyu9OQDAla82gF4Vw0UVwfF14cesidJDzGmuaZ4VntFvF8/0QvVqreXWu/e3cd1LMRl/XhmkN398/qwPfmtdPGJfsz47FYqoaE2FQ0bLCAt6XSxW764NWT06O6oO4/YSKbKG0GgxaBSQSNH66/bmkXnC0EaVjUjU2DIA8GcHfyNSZiIQZMaZDb+rf2ISuMXBX2k7I4liCKJktPWBrW3vGjnU2u1d7M9tWdkQ2uer8TNKgeUD968X0ThGRQ5jA7JTxFbgFn3Oita5RdGxuSIfKppafYWTw/aiqtipkb8Hbbo2viaG/tnDrWyiadwtHaG7V+36le99OLMhLvPuUypGF3hU6sqiXHiNLrUaaA4WdlYZZ745cgDNQLwGYYiCfg97NMea5lJDuFXy8pWD7VdNvtHtSA17ck64JJ73sw5bjolD8BSGGL3KlL+i55kle1hutyRaM/nLRpqGsAa1IXAtDNC6Zctw6uNXh8BhKvid816J+PZ0ILWyggjcdemNoF0XbRp2P1HR89T8c+8yz+3//yp3g5/zAUwb7nM3xdbUtiIB0J4f+P/I/fn2yxH5QNTOX+kVZhzAOroe0WKB6PkY4JcCr/YFxhFsAjDFIaF6hdQjLyipgL8UTgnqpN/VmVUQTxktOB6S2auijQHPZZDOfek8rbXi/G8e07ddLcVVJVRl2zAkYNVmMh0E41vt69blgyf37q2pLYuuOIQ8v3zgBZ2ExfTyF0+oXdE6lxlpVm/A4Q/yInIADr8puqWN3fF/7BNvE/QmEuANPL7yOV//woJn8L55dNWBK1fz+iqjqJkwsH6KGP7G9QcyYWzYdPJwADKJz9DmTh6OOw/QMjVbpZ0CAOM7YBrRVjqnu/PGpA/7nbBPqOmBBs/xQp4ehK8nV60Ng1oClIlWOTTOlt5kM9vXsid1TRvZHA/v6ER3AKhupw9Ibbpe59+HE1c4bK4aJ1xRCxrNy4Uisbwm1aT5Ygchi6u9r1YYbXXcnBp1L0SG1iePeKs9LonWQXcIhfJzpLZdvbfUvvorI1crlnCzPjqMJ4tREiwfyTWEU78//d39JWF7GTtKVIyflineiqe8CwjUgDicNr4Ho+PAVisbVV11SqGa1W1sClk8fUdcXNapW4iup6cR8UTaQDkO8KdKKsH1RjRmmoBlAW2nZnK1CtFBbBsn459FAFvTA/kO4QF6UeZKR4hIGrdHTWHpfpCQPx5JabBVYa4QvVFlTTxYxA5+NbPVmLj8MPThOGSS1/0t0yFByPmTS1X/QEV5c8X2MrDpDPv938DhEo2HuRH7raZZxKUhNdsT1cRhIVUAcN16qOqKd31yGPTwt6zWuJJiUAXaBOp6WNhkGI0lvuu6UZ9DPPPz0gN2/1KQ81wm7M+78r8yWrKJNkBJdneFsVFE8u5QPetBfqhoQ0N492hOEfnEFIwy0+oLqtzt6R+p7ByurhDe+YHwnu+3ef+ZcAQg2d848Y2bE781pA+VXL4iCGencX+s1/7qUA4Vbahwq+fat0jfEDQH5McKf3XwKz0Vywj6J1aif35T/1m9pOxrTaFtIrUWgPCu6J6hWI2v+/asqGvfHvDzXdbGLtm1BkRtNCkOab2pRANa5XnqNw4gZr5s/NXqeC5PrxSKkcdqTR6QI2uJbTXaIPv7nSkItRhCAPsGMTgOQaUhXLJu1XhGCPT7C9T4G6hj5P2rjzoEuBtpGVBhB1e3gDsvpAhU6LnH9J8++Flj5x3/fVH7KqNF1QqEPTSh15FsfMKAdr0qgsgoQlsFW03rqN/dZuKfefxLEEC7MboH4DjSDgTgTlwE9TCiThFuK7qfz6hTRHzf1KetYvi2Ib5vXHOMHuun2NeBBv+KrofDjU0hUwhUBn5HvJXWkI+711mNgvE7I2BqdMiz00OSbuPpILh98J14WlVB7DfAbQ3H30wltjdVPKwblk9Onc3538NvpSO7oqsFv9HmIx0F6cAil2edijUj0RS94drw+H/SYDqaUvdGbs36QhHC+oE8P/Ppq37npFF8AjVYpWeh14SKMgBP/62yMjhg+QWdNxIu6FE+6YEFhYkAjVJ8a9qUsGpmz+105ko36WokRk5CIkQLvdEEHNzDERZxY0RpGSJkmlAeR3j1QWQCCnqyyuH3qvY5Oxpa7yZSVPI6+cYorzFzPZWOXKVWrxm/JzZ0UoHHv1Umq4DNUnqQ3gwDirKpL5/L/HnhVjnpRo1FsntYOYL2vLdnUaW3+rGBqvA88rmIujk0Ac7/1eH6ZyIt8cb3p+ohbRyddNCoLw9FqqUXTENOnE7Ifm2YviXavajCvnnpzR95iErQvpAOUQMRwTKy+bIVIhp5hTXQh257ilxdBg5N4bQifl+QHwbl0CaUyaMcBkVeK9JTxPZxouXCRGuF9Dj01ahXo1abxsPrDa5wXVoH8mzqYUCLATKNcM9PQC07lQAg2lcLV8I5ww1xj6r8Zx8qAPnh733TYfAIa09H/2qFrJkEcM+h1C25q33L09gRh3ociS7oSqoOvJgsgiqc+X+XG7mASTmf19zFb5acJLn19brFWYpaZFlN7PYwit6FW+2HstU9l1r3nZy+l+7SEJbWhWXxxmF2ODU1lkZHd2yN7BdNYdhaH4KYzsBak57QFcFm9g6wUZm+6lCQ0N0A7HPZVAqVqivXnKJRZlKhxu5EAqtvXJtOVAy7m0OZOJw38PuUY+2WURiirt3uxCDGy7IG3uK4alMEUBOR9FroSM22C+VaykDOiOeKh/8W4BbWsfLA4YuOBGwEh+8O7uL5e15o5+I3bj+mzw7xTYe7gbFtfqVq13LdCUoI190GWNwJmPwKoGpOvH7c2XpY65xL6N6yfm2YvlfyA3VzZZzm5rnytVxgy7SPF55drGOioQQUTpoDAkAqjNV1f6udG2jNoNPG0SyP8sTVL2s0aWMW+exy5XvjRC2k0Bthl9lzhPMGf0sIbwv8SXnCK72I/WmBv2zwp4XUE4B0DqeNoiaA2PUgtQJe49ws6k0HQLkuOwdQRP1B6Zna7V9yoUl00zSZIZK+EjxkGrvBPQBYspGJ3H6wpfqJx081gFS+VRqumgK40vSybYmd7DTAXRfUOcCfV74xAEPgU1Elob7hTkiCThXhnGj+mBvClSuQFoQrX7Wf8AtXLzzQWATjmZyj7Sl0Yqmt/qAKoXxg4xcuHIsPfyRM3woOXwqn4EReQRkAtEaBiR7yXuO1/AbYOjUfyAmEQA9cHuzT94rptfYL1G5Ov91NUhvw9H9klcVbs8u81xLBpmDQ4ru0vnKMJ/BzJulo0vYkHWGCcG0qjQRsrluaJlDwe2SNkBtemfxRg64KtobtBZo2QVg/PXq0y+3ufW/7Klgc2rJw9WF+SMHfNYpZeREVrVYgDn3aIWpT+fVgsYkXbWIWNsPh0nD71eH0vzlc/2zonag6mJ9rq/Lm2DyuL2qk/chGtgY2ShYVBG28jHPiV/RGu8neuDslyS+fGAOHtlu6NPV/bIJOdL4X3syfK7z2J76vPxrmr4Uq5AcS7bdHweH3tqOIbbcM4qFb1cSXhr+GGs7fKoZLVW5f635bZXT6+vheaOevGdO3rCIsFuHp28Yp+skjnsmjKRNVv0WFJOGSVQXc9HenAXTRyLEyeqy/zMjPI8xuqQ4e45cb/C3RK3AOVFO/b7R60ftZaqPVy3A3BQdma7boacGwFbrwq2lyN0zNmSuTh2NHZCREWlKJA5xHXZadTP1Thc5R8GZrYCe7ylP/vaWk8U4b048mvRdKRfhyJskb4Ep7zdoIE3GtY2CDqIeUv9Fawq3MR5ZSu2AGts51XP+WmaIPt1KFbfQUv9W+3jebGIAHariQE23XRhfLGQqu94gr6Ks2ozV0tblDt8mqqvS8F2NJRm9q7eu6b6s2FV550AC61yh/F34snpULOIOIXQHC2ZAmdHoCGmDpIpLZDNnasRx2Ltz9SjTc7AcDKBRDNC8/uhtoFBj/qlsPbfysEeQTjTr46rChDaCthNudotN+fykCVFq0NMeak+eGfGiKyO38vel331HZfKCPIgUV0pthcyMIV9HIzIY8a/1a2dDlg20L0BG2OvJ1ZsTmPnC7sn/M4kjjhe+ZASG24TL+JrA3mzXsQAkaFb3S7PMVUbZbSBtPqznc4pm/r3pWZiYfxWul1UtqugmkmGx7irRJcgSEJPOc4+aBn8thkg19NRsX53gdlUZrl1y7EK0Fp0kfDu668HPuDd3tYbUgBp57AJqaP3PQ489s84geB6eeuM3oU0OkeEwFlQCILt9vHO58SNEaUcDWfhxQ/5OPn2oAzZemG6OmzM71bm+NxPgjf2bwubtu7NDV7DXc+EKYqawo/6/MgdYSg2MqyJU3nvEF+QTAw8T8z9a6mzuqatE4hONbQfU8FA39WH6Jfc1ryQfNsdilB48SBUlVSuRuMBd4fKtdHbc8Ozz+jRNJvFTEq5L77T3RtU68VPq/rYxWMoQqHZWbNVGFSzRUE0SuDfPnysnO7erSsPB7ADah8SY1Xzy/Nv2+sk9R+lzWF3Lsrn+hofL0tVH8MaEjYdULDn9XscsR/XvIOPDirJUCj8EsDNQLrVYiMqb4zYXZrdMEeXnixbquQFKZu9eJJvHAq5MnUqaHgPEQ95UpNBuYa+p4JmoKQPmXbHChHEnjjmzPnBwBoqG2AslKUE4PRP6yCk7jhV5Xol5XzQHzF+akmrCDqS9a0Br64Tm+sRGztYuhcnYAL89szoZzVSEGegzX8kFV3FWf08yDfHvyHd1cPg3kWXm+T04/3/woy8DGLFwKtgffkfMyOD1kyG8to8P2GDVJpnQEroxOfSgrwoWK0eFNG7C2VwyfKu9dszZS82OLZyzHiDp4hDN5vk5N3OPrwkzchfGO8X3rz9GQSn/d0IaA/DLTLP5xVIW+0+tMh8w7bhYArUHbngDyExFJ//gg4mN7/bY3AXYdDwOtIEY2foZsthjQDiPaGHtKgLtuHCJvib6AC+8pyxutI/lG9TgSHbo7kOAEllnqVdzmlwyXK+Jp2wdbQNfOauuTqia5cANCCyX+3eWG4VQQFh6yPOxrXwd34+eRCI5lrtJcGh21AaAJIhxC7bovE+/PFtBTcszqylAmM86n5ZIhUEQZ/QJMX3Yes6FaVLg2bB8qhndDZWRvRoo2WoIdoVS0sMamXnf0GvQL75keAxcC0b17S5j7hi6oV6BzWsf02mxtH4QB2EoY9W5VZ8CNayhThVTR7HY2cPShQ28UnTa1Zticj3SAMLSuTBrbpk1vHe0cQDdtBtD9XsugHM6NNc5ACcufdwkYvzYMrzoIr0pfCaS4SDHkV39FZ5/HpJnq0ekoYdEULR1KtiN/n6x1Jmt+utNhQgrg7jmBXhAuuaPQNmQA/3DdraxX4Zz6BsJqrjWU/ppIPelouIfcaMQOr/fdyNVui9p8tcaeZR4hpXQUnzYv+3vcdNjrj5RpCn9d+N7HAHjLF3YcEs3kWYeLLojTAdZ4pOaqYX6Avba1+sNG4p95/BwC6IjuSAw0gY7hLieRWZ482Afk55nk5oeRxd87pJeJMO73DeP3DWV2yIfQ/cSWX4buBRjfVgzfFx4i54ztOXL69YJwLRi/b0gPNISOp8RM30mwPnusHwf6naXapw2/UjHsFzvsdwGARbYFtbwww9SgiQxNV3BcP0PNU9l0Xv4cODk5XrzmwJ8OrosL1mcW0nilKbARo+OZli5mqWDrzumbku0rVyemVqUpJ1e7fms9RcOpkANQpWvjcwS48jXOGqC/iwW565rFq21DPogqorGT8DWkGpbfqw2hHA/dNd94EG1LRP1SYl5wVBQlBDaP1jxMI+A8wvvKxiYIDl9qX1sn9QFE27mBDLnnanj61nD4o2J54VrU34ks/EK0lh582lCaL+LDHsuWD+gcvDLwkGoBGkquxU1NTG+/ODVYJrLsNo1qq1wRS9Mp2iw2bDtUWRDzzEZy+s4kGUMrXFZPtqjcG0UbN1thK4l+fK+dh5qPuz0RhMWdnFFywoJyZ11uWD5RhRjfi/pvCsKldLP0cCmaqENLhfQUUAYieDU6uK0iviV9LpyyiXYSfUrHAEkF/rzBXxLWT+y0aelDj8/11wPgheao4Ovt14oaHLcCDUgf5r5OMa6gv2kayRSZERwjkehSe8xW9+bTqdkNkY4E/4KHOOkEbRki3DztIgG75pva7ZhXnHNUG64Jcl25KgJ6IwGATaGiDlJr50BLaeQKrjxwwvvCeDlw9VX93jTX4HSNS5SjeW5FtsdIA+4j30eAjVg/GNV4vgz6/l+5/vdqVWLWQbQXaspF3DcMNnSYNZb5c5owoKcY6SBnwoEaNPNbUasWdNWrA1M860vqdEC6KHKVOSwZf48NAzlyZbK0Cijnjw1KODPeLB8aLPOW1ieC9NyQj1TVxrPWuKbcVeP36Z9lmni+WQRgqzy0tRHsKuD7dBAAZovWSuVGzPE+ptmyQ3x3CCfpgIFbBXCqYlc/xPTY+uvjtx1V46od8DcigPNvexpHuGlzuwLz7+TqGZVEGg3tLSHJxIcWOGDXSFh2YVpP6Uk8w7ZH6bXY3VFZ0sH16yJq4lZYqibMuL4WDmvF+D3r15LXHG4UgLbAptArfYW+og3hllUcKt2onogfhWKMKiU65peCcNrgz1vnD/LecB39K48j2hyJItowdktwy75xcEvutah5RjDKpmfejSAHjZ0V2VMFcBsim7zj3IcBWTUX+K5eAOAaeUsETZRbj8rhWpQHaE4ZRk/4wZrqJx4/zQGUOPSD3CLgenzOmlBfjiQuX0kQr6OHFCV8CpGJMimR80J+4PY8wG0F0xeihZe/jMiPA60hhLYwNuWtH3gV1qgvcuGePR8c5i+pE+Snz8o1vFWMJ/JaTAF3/TXAbxXxlEmYPxDtO/yWOtpHcmztCiafGqbXgsPn/Q1Ih52HYv6D9pyqGq4aH3B5dspjU9WWcbiK3WxQMis/J2ljEa+MoJOG7jEXFv6ccEFHj2gp0joHrQ680R//DypDTaHlVYFXVKAQz61zeMjp0GQSVWE34zWUSqR3HLuqFwALnV7kVIFnYEtouaAti0YDKoTdVOae7IJHV8yuj8oDVPWfoXAPf2fTbmrEsLbeDNuBk48skuuLrolvRAb9SjRwe1GrmMI7oIzqV5ZtVUu+zXBquP3idpsKMYEQi+Py0fX3LqkwxWvckWX+rk+C5YP0tXK88blSOb6vsF0BDp+rNn2ilkN8H4w341JDPFci06rmZQOmTd7WMH0vMLubeNmR6u2RlkXxXLC9BDZ6qfUpNj0wiQPg10Lvx+GNIqvhXXN/NbateQ4H6UlTeEpFPGekpwF1DsgPA+PnosPy69QJ1tN/nPgePY9MrtgKwtsKf1ohqfafX8cAt2byBqNDeRioyLPp2YqlE7jHh47E8IWgTULd0n4w/7OPZtQFvZetCFshBn7Iv2466VdTDYqgTgMQ6X4AjcRErVxPKSWmDgHNkU/krhtf3+gYO1VqVyCaWt6VqrWONTU9D/29tOB7r0pHNK7TgiGxYE1pwfX1MGPmoFYxrsfOuUwrK9ZKXheWYmS2Rx3REl67fmMTV0b0TPPmtaYV8mDHb0TwbTAzhf32IrtIwUmPb3SJljPVA/MfsiNkFRjehKvJDKW12OYDfW06fXEdNeMLwM8LF8H4mQb+LjdNKfoH3qj3aMtCqoq9z4l2HX3d613nnkKVwk1rXOcHJq6X84G/kyR0L1OzXJFCDiAtuxQRX6TXdiJ0e120od1iPusAfu1NG2e1gLEzwrLezfTfhIw1QN0JdlRwfdktoqx+xgs56S7dGXwDmuLFn5Enp9Gp9KGsXpROVBEvFeFK3ml60HWphjn4RdHXQuTahJ5oTAeRe34g1HC+GXLIwAi7bqkLUH5eVZCnQR0F9Oe01gUe+WmCWbzY/dkRPWvgWuNZNrG5wxAJdIjwzDMOcPCQZaWgyAmbvjsleJuGXg9lS9yUBd+towwQsYeE8ENt+yGV6H+lETS5L1ufvvkEHY1+pwkInsVMkT+Ab7YZ/tqkatYuafIIt4rx+8pcYP348beVKkSdMlxqCEtCGT1NI9VMOp73CTlcuQ4eX5P6CDrlBVqTpMVZlU2Xv0QVcrTObckH3+1gaqDHFjt3cv2cNkV5ij+IPqKuXE1RWb1guKhitIAxXl46WtMcML0VpNn1ScpvDZe/eozfK26/OEzfKtcmw65utRuyjGzebIVLRJCFJtxYHPIk8EJV4PAG3P5MdV24MoYOQt6ZeTuRJ6aGySI4Gv8gc83f2ta5fXI8AOvWPf7a9bZPzccjb6CU0DAolF32nEzlCApGuC13kUS8ctKEsCBtLyyG539jMsv0WpFm6dzLMrhuvkzOERtGZogCVdBTCsI7C9yga5Dxe+tcvOG9wV2aNt+C8ZXpBy4TsbW0jDQ7DCdOusOlMi94aUoTcD2BJNz4Hk/fqZrdnnxHY6nSdbrW53XQBJi/FOQDPx6vvNbYnFPNO5wL8uy6fYJxR8O1aPPa+kHgNpoDx6vZKahh+YfA6MKNfD+/EvmD8sLie1K/Ok7TTX0UJTe4QiuX6gXDm/r+RUcVv9sHHxKvCzlZTs3JH0a4NVOs8CGS7zcJpAQatM5Rve4C/JXrYw6Q9MyTLbPYfnwGLrfe4PyQ22rRcNu98dlPPMwFF3sTJmMANAlE7viuJIEXOEfRirzfdk9AFVDVwwBZE9GFXNDmAeF9YZOXW2/23FbIAWwN+XlQf1MzJDdkpsFfMlXAahYNS+TYaq+x6SH8wPnra7GlEtnoKLWij6KIztGRn1xoMVMiPSr799J17HCp2MBhyYRJ7Q55M680l7S2OM0Ofm+74CruSFi7P9eqDnWNz7uMvKebDlpxIU/QRAn0t5OudB5fZVcfF3Ke00ODdB6vOgMUKnXbsnL1plYczRCfGDq3/d74WTSFBp6xf2bwa2diM5/TOMBtFfPvDde/CsqBIo6gq93hXTpn2Lrq4V26NY/w6On2Oda4mUjG7Lz8DR2lNVeMPPMMCxcKEP0GON1o+U0dMjLXwC3sCUbDO8/pPPL1LNDh8NY6SmwepHx/mzb9muSi9AHmrZOzlw9KSxkJBCAKkvcqqiRVxLyAa6Qojlx2RcfFBFOuf65bMtzk4ZQ+Zg1jmyk8rYOHWxLaEHhfacQiotaqjRxclH0oNs/RJkJ0PnqIFu8WPeS2kbdXCg3EZ51ciq58q6KG25UIYS6sE0YduK28rgB+LHg6YmjD17xXvmDu11PbNtzbUv2sEOTn2sfGjteNI6ckC9H2nl3uELkDN58dhW2rduouV4QrK0N6iAgXLeCl9SkAFajeIZwS8pFJIfbIM1HE7cmr/5RDjQ7ri2YOO2D5GKn4PfiOlhkhOdwITbvCw918h/zaVGnKvODxrahwo3WOYJ4d1g8By6cIM36mLxNw++Rg6R/LB3Lutsc9Jky0cJVIFCgdqCg1I9bmgOWFCM/67ChOUOSwmBeeEqnnr1SxHn7X/MWRH7/+VTC+KWpRd1WsNR+Hv3Oi8xvw/n9zRNvU0oYCEaJT0+eG4x93UTrTiC70AICcUb+90volKDLz6YUX/6J5iHY4OyEHEOi8GfGeZP4Yu72JTWtp3tMG4jtV0DXYhEpUlIVNi9WZaFlzbFyDIn9lFOYgX1r3duz+fcLXOD3sogsjxYdb7VmnpmaTRm+/5mniDfB9XJ9dT0+Qxvzn4ayZvprIsHz0/YCL1936xXzUXG4YT1XREl6T2wNXvOvjPReVB63xGo1/5zc2inl2GF5JnVg/BF7vavFRJjZ78+eEeM78uK6DjWfq1auvDk4zux3SIcAttExwW+mCj/C+Ku8sY/y8IFyKNpnq2VUbhs8XhO83zSquRPcU4actDBtXRhlqA/q2KD+NRZlG09KnckmZ15qQh0e7lrtypnysf0lm5j2XUO6QxrShh7PblG8mwCnDXdaODNbDsKOEAsA51CmgzQNQK+pshHElniviLKWgTgF5VnSgNvhLgikKmxNSYSpQx8B17xz09a/wajYdz7mbdIcbG0u718Kl6Pq1aSISm63m2cjFG+kyZXLdLNn4fSbcKKbQ3HRr4VkL/aJNSYKal2O/j+82H37hijgqt8xUqcZf9rfWeb9mVWJiK7OQsfWxXwA4rXWV/08Pu1UI19H7tsY2DC7tnFaz35Ahcg1nHCxd+5PzVzvK1yyWEOD7r2t+CWFHFBv57cZJjO+C+XcVaWx8rmXUZCJ9bk03FHlGd3xw2sxuz9rI3Vldum1fqbvMZjCorZlRi+IJ3RXA6pEJyIxqY/zLzpH3+jGlxPBrKEIbzq2/t67YMLvfy/dioKrWWlJ3UYfL5ACa2M0V28KwGSzq1iGZKJ9fcs8NN7S7Hmg0X6NX9DSTPlKrNnCN/qLBcbDdMsKXs94DbCDJscWPnn/qdAAAcmXghUXDUegFtXIK+5moPD9ZVjaGxxn14cAGUd0CJBdS5EzpqzGDPRo1Z24erjeizSJAKey1rBTZgGII8z/x+LkGUCecuq6cirXrRW3A6QLUivLLU++2LZ8P4JrC3fgmOfX8c7nCXRPyMSI9BFz/MvYJIx/p7h6uusI6b/ALifTTl9SJypamIOqAT0QxYziZJYauId6yqkbRlXNc9VKhRKUSkZj04DofJiy1E/i9rteMt2bk/6e/ZYXAKUZ4/PfSTTbLIDuBWrkgVFEJpu+Fh7rC6cffavfYSgdHfuC2q+/SQXD6rx555poxz1y3hAV4/O/qFzgpPL/yBowXXelu/LMVY7vprUCbYTXAJlZS3TkLtXJVMs/AEGnJYU75xwPkfNVVr9wZpda9uAI8wNQ/SzxTY5r3yJNg+STYjqL5ukT/APSJNCwNw4ncv+1JsD1JX7v7RZvdpLw8IeFZdA0wnKikloxuVjt9r3j4e9E4Kv6sfKBZrl8rDl8L5q+8dvK0oxNs3FpXaS8fHLkxXs2ZJ+kCkTzxsE4zrYCWF10f64rXrgnj5tELk6Ii+z4A38eqPnz9ujjut/H4SkP0fPSQwqI6vha4takQhI3W+iFg+Tj0iCR3Z61QRo9wSWwGVE08vCe4VLB+oLjDXzPKRIGGZAp4WvSqzIdGmXFFm19mbH8+UnyQeN+XY4S/bszABZtOU7v6G73xivLjIILw/bqjK1Zonx94QD88aDUTtNpoOdQq6Sk/++jEfV3ZeKckf0W4LWoueK5xhsiD4Y4PBDWY5RAscNeka3TX0wUs39TuDbfljjq4W8L09zNR09GjjtoM5gpJ6pGmiFzQ97MFQTkEpKeB6OzgsL1EfQ92uw3y4tiAQ6gsju88UMKtdv9V4+fZMCFN144Duip0eqsIS8P0VtXO6s6/T9gsWqqNcWeNmtJXdJpgROEIds6csBmhiEXfbs3wpgqfdb2b3WsDC2D39zSuoVrJmLgsnpWKcdf8AVy9NY2G65sKT5Smf25K+4q3ViBGIn/WJOgBLd4D3lO5rerYOgDXv1L0kufW7VmCGvFbkzu+qhjHovequje8WyO3N4J+3Zs4y3tfnzgwhlvrg6a9BtvTXYRlMacBng12npbx7r3w0jcPNXDbQREJryny7aDCIjZ0wzs3FjbYSuEQb4Mnz3enqVsaOdqUarVq46fXsL8VpQbwutw+mJ+edEqE2yhqI2XFo06m+BXISv1B5wlvBbJlfo5zQAVELZtQKps+Wwer0bPcNvL/hFSE5gRt3Ac8JFJC2nHWr2G+eV8Fp8xmrwvJ9GyMgdePceXVENoyz5sa34sTUlF+ovGzx8+tgE315DTPtX+8QB6f0FqDOy0ozzOkVPhr5bQKcPUTpMdDlYkES0SHMjoMrxvKRAGHKHIxfmVygJSG8jAgLAXVOyyfyA0UJZQOrxnLp4j5ywafSDB3a0F8540d1D8QogqrS8H26JEePOKlMB7sW+4RdKZmsozCdDSO3T7dWnbi4XPpsvhwabh9EsSrijY2IpvbAxGn8bV2lCePgu3BE+UbuOodzrsIBQDmr5xAywBMr5U3jNrHhNvuuC8ZWP/s4BJFFNM3JW9nIEdVB4M39/qRObm9OABIA5M2lo8OedJV6qAX4jRy3bttwMabgDYHavlyufLw0wtYjjPa+bLzZQyyNjK1xXW1inqIfF2vVCV7Tf0w7zBgJyZzIq2IF9fNtV1SdaE50Xuiex25taBxPRzMsiUdBPELm+31yWF6Zei4Tw2Xv3iMr7v4xyZrc78vakczvlLQY+9dvPHn2Np+1Mb1+itXx8NZbTiaGm0/OczfKL6woSAfHErkYFBGR/QssLFrwWF4L0gPvsfXldH316EGgdPvMbyXjkKGxXZsPFCXP42YficqWycq5Cctki5VDO+JBS4IchwQzqWvhodTQvXM7a3DwMbxmpAmD+cd4tuCMkfGkGUOHmwYK8LbynUvQCQL6GukOoZu0IrS4M9UBVsTJTpQyD9mrlbSCzpip/y9n3rY15v5ams74Vtkz8Ae2BSalUTPiR2Hnf9TKm2TWkODhz8tXeErW+6/I+04mAvcgoNDhjuvaMHRGBtAOQSiHwXdsLYFDtluY8PiUJFnD6+m0pJ1+M4V4ZaRDgFhq9ieYl/pSlEOYG4Uzm2q4Exs3CzWkkI6vZfu1v7m29p0PT2crC6jbzkAiwYThDMb+uVFFcUblfR5Rs8JJnIlthXt/ENDu0izQFe8Dm9NxQPWoNJ0Oix2n+jnahpJnoD5D7A26VZLzM9Pm7r+cNJrXjd69oy7NESmbhtV4bYK7pyygjo6iu5uWqsjET0HFcbo+jYd0dW5JhqTQkBh+UXTUNTnta+DDzufmfQfNlD0NtWhcrEBklsNv6B7P7pidj2AOIuS5IaqCRvDfRPS+hZiuDSsj143aXWnQ1Xm11tDXoN0YQcbeo3CTLUry+tAsRnAwRmlkN4TqRo2nrIFEgyvW7dVcqnAbfQXBthj2PVuiTwIymGOe5NuSTpm1YRAdF48hVmG2jXvIXW3lbIVMFFh4UVpGwDlyktSEclKPmCLup1s6gmoKH+3hdk2rnwDucTSHBpiv35giWvG//tJhstPNYA2GYkThrHH0HffSBl4PEAuN8jTjOrYmVuouVszzWYHD1fIP8qPsXP8mGzQkD0QTwXJE2ItyhOUreL214koYKO4w21UHcEB85cN22NUbgXJ6WJKyKY301vG8jEgTw5pFjz+j4T04CGBKjIzkaY4gBeu2ZRA2EiRs9DU9gC4/skThbqwkBy+1M7t2o6uc/i8qkHRaCty++C6v5YoUboGQUg2iVFQAKd2LcrRsYm5yZ756FMDTrpi2bgaXR+5hg4qfkiPnJjm33YT4duvgvkPWtBc/+w6aZvqZ06zUiIFH5rhK+b1pyIQGQeu5jz6KkzmGYiR3Bon+/Ss3kZtSxAX4a4Jw3kiV7Ltq5nhnUhgUUNmInHSJ8nhxIJx+8Ux9k7I65u/ViwfnRqBgmia2vjkkUiCTb/XXzzSo3oHzsxdLlEwfTMFG/9tODddubofiM8m3vCJytwySRfbtMDVp08N0ze9dxzUtoiO9Ycv5Bquz4LDH7U3/WFtPbZr+RRRomBYm/o/8uNVp1/LO87KJV1fHEUytwLnRZXwSrDWayodHbYPg/JzgMNvK5G9mbzZ4T2hjhRrtNHTk9NzVVID0z/QGsL7inIYUIPD+HXB9pGk6nBa4TZm/uanETU6+MJcTQ9QmRccUb/gaMCqtAF/0WuqtR7H5K9LR8wwDmjBk0vTi7WWNOVl9XSif/ZxHwGnlgww70sdgBCVkFYaUCujniYiApJyv+abHkxy3dgIKgJgKCAtKQowBeU7knMHEdQHxuPZuhzgASeZYhK3EMVgBFpB1UHbq9+atNYRtHyMfdVWB9fdESwO0K7n6oE67yeMWXuYzUfQzO2knC5DfuzfRe8lpz8rrK0L5Sz5wr62DoLhrXVUkUp9dK9PKU2j5tC3JC43IAPrRwEUPbOG1G9E+v3CYdYG9Hzg592vWL1uVdwtdaT3HrVDDLuyW/mA3Z6j1L4dqutKfloIXUHcEl0yWsqk5BUiekntUJx6+oVb68rasKiYrO4NrKF6lkMOALKh10NDT+NZXSyadCeJ+N6UXqSr0AmACObPdJ2ongNqDcofX6F/Jt/6+Ptu7VJVfAKwMY0XXS/rv+fR9Y0GTOE/CMJaSTXQNWueOIx6dRCoUVM6CsEeCBHCcM3k8mnOr6mEy+T0vKOnn9SG/DgQ+dwKlfHB0VBdeG66lTGL8Y8T6vOBNlJegOK78TMAAlfnjYOmxbtZYod3HNRuTCgSS3/JlSpeW/0nrZP3Q6pnf8SVruMa2DYFo8YPDgMwDGi3GxFoAOJbz582K5hObbkfeP+Jx0+tgDvZWrkS/cB/ftRuVw0OhRdNfhj6pAmA/JSqhVNXBPTzU2fuS0J8Z8GT1rB+ivALeRrby0CCv2d+aXznXVFGhzwxS3P8unbYGtUSRDgFAVB/tUKn+lvD9ugRrvWHKWU42UoOsISFeCUvMNzq3lhM5BIC+xS8HfdM13hlA/DwW8agkWadU6EcRJogV+VF3Cm3Cqep8Z0KUMrtSaIGFLZfSaZ2CSq0UXuXjbYzZkHCzGMW++k7vfPMVJWTI5sYgJ8X3xvCWhE/X1kcnfD/OZP8LkKun/mzmdElQFPLZaEAJBddixEJNAFJW1g0OfGIKmS1iW20PGmBjdf0bc9Znr8VLZbMCK5hJ0fPn1Xx++AwfSeaF28N67OuyZTrZ+iu30h8LuO+3jVrHXOfBwxlld64ry/8t+ZBZO+iohDlXhZ976dvmi7jSWgOukK5/uJhCR+mGp+/8jqx954rN+jzrp3GYNeBVCLYVOXqfaUWCvZ/M4Q+/MdCQZNaL8VLxuGPrQtewiWrcs+jzH4nWgNY/jRiewnID5H/lhtpHNcEd15ZhM0rEOCK+BjJbQPY8N0y4tsCd8tIHw8kUuswyPtGVbGKmDm1fpHbttudHCaUT4/k0zhH42XzZSv3hVEL5c+uScz7z1Yy9ggBMs8cbgxFMAusMVLcoR5fcl10/ZTZZA2RtXG6ywI1zpEZ1Kqliz8tuuqlb6o9JFUNsQfgBNuvsxpFK4ldOYRNLX5g3qminL3ZaxoNB+3hjVnPUFUlasP4VtTbstCrLSlXa+FwZM2HV8eA7tWpSne7twAoHYVfM33b84m71+CNjYkJv4xOYzZJw2kXk4Qb2BxNpH8Mb3vTGTTW0nLD44XPrcxE6otl39rKWc/9qhYilt7xj80fww22fm1KDD+agTv1gvSeH7eB2Dse+MoVdRZNCl3pNjZb25NSfzTBiQ36j43qbrmDngFvQg8Amt8r+4o9Kbpol40+3XhumFQg5zIFNiaCc4mAxPhWMX1TClKDcnT5vYyC1Guv+pr6tSpSbPxKHY4zQZ38wJqCSoBEcuN90fh++qX88PvUUfl6tcEtRb1EuRKO77mbpAMchtxS4NVQnT+39gQeu8ckFZSXA//dVqtTQJ3JQe9qfHtvt8QhrjW404U/f9XGUIT1x5v1kpEjqYFgLWB6UZtHXP6fv+L8//hADuCW0G2jhkjFsH69iZB6gELKQEo6fMqPvOZ/TCr6Tz5+jgNob3DUaXeaWNxuS4dG2zgQDYBCvaWhTB7bx4nWBebjsxbykQREH2yCXQviK8kP0+eNaw8nqIPg8PcVXo2ky6RIghpC+rVg+zj01VOZWWDpSVZ/8MNqHhhOBcNJCaV9Itkv4qJG0OMrjafL6BCvtI5ZnzzC2rAdKdgINzaJ8/eCeKVZtN0U67PHeCqIt9rXgGUk8rM+72vpbh3zJF2Bam792yNFI9MrV6HLB94x4yt/r3zgTVej4PYn3tjNs5mavzFiDg1Yn+ib13QVYPyQdFQ+yDuRpuXZk2TrHdrlyqiaYWDTlonw0Qw3KiLoeC20Rm5gqdosEvVoOXN6XtcfUOP0NJKwfm0dzUwzDzOzFTCuiqVxuEyUbH1yutLZV7z5sAsl+jrlQH6eRVSlB9F4QOkKRQgwf925T8arjCoI2h74Pliz5jeiDPazDl8yZkV+46V1pXKepDd91pCHlYdgHqXb9pRBsD24PnH7tfXVbbyacAn9eq7qN4mmrxfI6zr8B30zXdpztm3124LD+hJ7c1gUZSyzR5noCWjNAvOQcxct8fM9WnQoj6OiU4I2uO7bJ7VpOoXvMW6iuarlGOFvCeVA41UWxLwX8yGgjkGj3zzaPJArnIgguNMCi1wCsJv3DnFXxf0LLBJYtO5sFxzRP/EcbNrlqm+CQM5XNqK3O1QwOPoWmnDKbGPU86/OcVf83lL/mLslrqwa0Pz++kH90qrmDJcpKK/aIZyVy9nFH4kk+aRCEG0A/Vq6jcZ9xmo+Bm4VdE1na7zxe9L3RFRMx6916t4wnIgwjm8V02vpSnw7xMNiIhI2kJYIQYsafg6zYqH+dfr2OcGo1iMu7Q0SY+zUF092vhw/jz/DawNqK8wyilrS0PrEBiroJshU0e6WdlDDhtSUu7sBjNtnYo9au+9tX9EB+8fspTDD38IhKFz5e1kGb1h2lE8UxbTfO1xZmw0llLKLLSwFyjz+4onBAfZ9TPBXPe9hUpCASSkt3e/2yu/r130AzhNrZFZFL9eWipRmBS8UeCj6epaR7hvmFQiQgsLMYK1tav/GtWpTOoE+n6xG8j2+EL1ZdhtN6fNDJN+1Nbii6HcqRPeCuzOsJ2hUJ9aSnsc87CtYgFuMPrw5tV2yIco7InbzyIFuVE5xLv1rmkbAyZopBGmNGwlDhq1hBHD4/3zHw//rC6NTgZ4D3Jx00AQp7UMnwDqmQkk+4dYbvr3W3TWE/8nHT1VIg8n74a+HvAi9b5pFOr1vukMXdvKZUxARB8CVSjKnJnVQJcvDRIryKDT42dbE4VaRj4GH58Fjewn9hcgPjIVhjFxBnpkwkR4UmWosaC435Jk8KynA9uhpvxF1ioqC5QNzNZsI4qmoq37bUxVGh+Fcu6GqKXzXJ99l8uM7D20z/AWITtlqL82C+SuFCMb5s1zM6XvtKlTL0zx8YZal5eCKNozSWChF19GSiYZNX/fGQlpT1ErUiJify+mvcYWqPz9eWVSf/rbCv912vtO2odXK/6e0x7pdb0qU1jgbkc7LatsGrCtJrIYWC9HEtqxoy4Lh65X8SDUkTbN0FNOn1pvi9YUNj6F666ODT7o2Abq4Jtygh5v01ZNfaZtjJPN80Mk2NUzfrMihI8C2ovdbw/UXj8tffOcb0R/LChW64KYMJDwbkdrI8XkWDGdmT+dJughJKnD4zHshXmtHgbtHpNIV0tHh8ufQKQV2WEhtNFXNDeNr6ebplhFbRoo/lk8RftuJ/RCKquz3hK5gXG7doqHo96iRvpowCqGg+3ruHnVAeh47EdvMnvMDTb/rFFEmIr35YYA/b2x2Kvq1Iv/+Owu65oGXKSA/a3au43qTfDvXjeb7BNwas6Z7dZOfbwK1GN+nQbQt8VC3SERdR9shIsumSTh1zwltDe04cU17ZzJr5tDmJeauG3/H6OEu685BMhPpuzQUvxaEk6rqa+t+qs1bs9+QJ3oE1snDJ4pGXCJaY1npTQB/K51/avGI1ZTZahI9fkt9yxGuVAW7rWJ81TWdiVkc6S6w1e+ldn6YCUmozOTwFpba7WQANoJluNtyON6rZdQVqG5ELDXJZfSUJbuuTTRiiT5+Qc/tHt6IjMXTblESbuq1GJg13a2FlOYEi3NTEVLTc8liAfu/mRrYrhf7PwCEgPQUlbfYurjFbU2j8xTtC3eoX9uHUhPrUfDBJng4WbaughSm4NYmMV7abrhtzd2otmaauDKceW8Nd+K5HsW2MTe8BtJiqkcfxCmgIVpIT1PGrFpNM9TYrxV+q30IMXpPPu6vjWhPwPV9VZ4qa1MZmQcupTEi9py6RRJ09duCowCt0CrKLQn+tJI/vubehJXRd1cSOAd/WXnP6b+bKI38vkAEbkuwCLfmPRtBESr4g9+vg3lQdD/sSLFtvpQHKrdVOfF1XxObj2BWUeQw7EOEDg4dbXbCWMr7NfBPrIB/UgRS0OB7t9u2jWKAw4z6MKkJY0UdR0Ui+KKkQ+jpAXCCdAiYPi+8CN/p7xfOieaMAByKTiiVHKJUYcHrPIg9oqJ36THw8F93Qj0aML5S0Uune6p0XbELnZMKY2d4YZmfGuO4+Ovmg8f1z5EWHbeK9Ym2Hn0Vd21q0wG9yIV+VxMhckAh98lh/pxJ4F9bJ0Qn9X6jmo03w/IiKNNO2pUKJI398Qs6d2t54d0dzyyeedabf92f0/bk8Pjvra8l8+x6Uzq+V6SjIJ6B6TtjzxgpJzj/lwFP6xHxfEVbt77qgKJ4DEn3fcXbXe/XG+TxkWve4HfIvlW0220nV2tTmF6mboDst0aAESqgSY2N3saJNh1EOZgN6ZFrIEM+qTQUXZWic4sA/ju8ft5lV6xlx1Wrvdem7M4zulWE0QDilWuwdFCkLrNYDhclwHsWUVul10qk1XI484FIxPRKTqJLwPLBYzirP2S8+9ooKA1YfqFA5vCZDd7yka9d80JDZeUKGgK6fBwU7W4dxR5OtfsF1sHRsiVVuFUwfNPVVxAKPaLD8Lahjh558sgHD4Aiqe7Gr4arUnS1UyoQmeXrKoVaaA3xdVWxgyDPbIDGz1cq9MyJX1ec9X//N6J81w1h5RBRDAkMbPrc91Of6Ok7as7BVXmpA+qy/jz/DwCc56TdKlCAPQEnQ+Kg9kd+fz6t9exPvqDC9c7A7HPZMlfDDjtiocgmPcX4OjojpJcGKQXlaYSTQoHJ4PtALU3617tcUY6Ra0bwcHRqqQVds0EE8Zx01c/Xra9+PQ15bQg3O44aKTrwGhu4PQWKdxx6E2gDk6E/UltPhgjCGuTCLoYrg2B4r0gPrEHz16JUDt4nRomgNxwN2V1qmL5WrM+OtRZcJ0rh4Guq1W7mnlrns9nqND0IZwJbh2qkZnOiHpO5224Yd481rfyIxFgaCG/wHcFR/qqtguUuGMGGEZegIkBy84y7y6QUNeM3cMfvg6jl+uZD68h+nqQjcqbstdWyS60PumZe37R2Oh2YpXL7UCZdu2tj7jdeOzUIknFOg+wcTw1SiJeKbsHUAAjP0xagjfsuKuKGiedOFVK30oHipfG80cjZUEGlhJG2xes7XJJua1xXAktrCKcNZWK2tlszyhDhLwnlUX06bwoilYZwWikyq22/CPTRApuxlitBraTNmxo112mA//beFb9iw18tkE0pH5Y9LnzTOipoYpAY4P7ypy4SMbsYqBG0NN7/bd0YsmDG4ro9MbGRDMNOLfhfFgWnHkcyxN1AMwROS0q4lDWTa9Ia/JkiAL9xCpXWMP7HGcPb1r16jOhpj3wMJJvfSo+EKSPVbumBvlf2+RYrBbf/ucwknTqFoI0QPb4Rxp2+pg43hxvNnXvBBDC90q8snjJXg58zhhNtYIynYqrUdOQN4Zc9Nqyqt952dIjn0r2XiikyhbB40akrPUi3kAHQfeiirgfNwy7cgE0/13hofe3SRQJcd1gROPzBBiAd+N/2SK5gemDTARBJzBMb6+1xX7n6s9q5JFUAm/daILwugZwZibwWxJTATmgJ07Mx2Rz2VdpGDgVFJSxI67NgfbJVEwvWdnTd8V4aMH+rnUtpXmFU7gK3Xx2WX1hEGJum6/7G12J813g4ncQtrs+vmsF7RJ+4x/fWFYw2TMQLRTtc3+9r0Tzyv+3I9e367HZF+MLkGK5TOVjcm+m6okhAYS7r+sjrxSZxfqJGEKoiDuDzWp6JXNu0XiaPeMpwK1cpNTL/d332KLNDegiwNA8TYcARzaP5OcUfTci7syxOl3TdrKbsfaIHYxvb4BDfV3LRgK5iFUWs4ucL4vtGGsOnw44QC1DmiPw4asPTuPKs6BxCgJN8OURaS9k15aR7abWUO+IikXXoXxUFB+OEAXvDCVDMAeyTPEAO0BjI81GD187xMcUgAPd+o81E4oq2Pgw88IO+J7nQZNYsI4D+tRYLJ4taad148Litdp9GlwoFQPmOI9Qa0gOR2Kb8K1sJhyuH33AtNN5WL1a3VQTjZzUKS+IpI55J8KdX2o4chpv6w50qxu+lq+eD5sRarSnT7sV6++g5kDpDr1qPwjRqRXpQ/q2gC+Ca15pQqMKfv+zenX7R+2XQJKXKelgDhWU1Ss++dUWFRmZQr0grzzcOvKJetz2PWTnMALqgpz9K+UEwRPpLQbhk1nHh7++yDrtXExs2PS9x11Az+7xfc9oIdv/QhJ6pbPGUw/u+Pjck0Zpr+7txnOkTyW1YuHHYJmWF3ORBs9Etxs/Ww9ZQFvv7tfTzVbIihepZCmBXgL9n1uLRd/4pgO5ZyV+SnMDpM2ksP6h/G6kM/brWzYVfFPm7JE0sYhNnYrkWHP+sm4RuKaVrfcmVBu1X2vzUOarbgKJ5re12L2rfIsvWwSjovduHwVIg67YPhpb/q2lGnR9s4pHWsGcD39EIQoDM04+eksZt/sk4uJ9DAEWNfOeJL4btyE3+nCtaDEQSokM5kvMX31ZsLyN8qmi6EjG37uYF4bTxzSvqvXbkgdXFGWCjAFFbgYUFyp/VlkRGHq7RYrx4U8VTxvohIB/8vgbDPmU1B0U0eGOYK/nyy6CTVQMcEC8Z23NAPBW40nD7JaiAQ9Mj3gtvnFNVJ31OPeszFcxmNOy2htsnz8iuAqZ0qOmzU7uYeGlIhYISn1jUakJX9FqMmFOfv7CQDze+tm4B0PM2NX3Fb/w96rCjWz7RDZ8G1eiWKeNrw/hOUY6MA1raSHwvjHZD0bVHYA50qxXu4weSVqexox/YUifq9z+nzEkmZ660zhvkOcKv5BRJ47q0h84n9NSA7ZEKXQAY39kkhhvfN+Nh8nBgo2PorEvkPjYvGN75e7dCErqUxsglbbTKALgid6sXFsLLn31fvxoSiMYViTce0lYRFt99ArsNhq6uqZhTr8gb45GyZfoqV6rbD2kDOK6aWPJEv0TjOZkfpbnipwdyUdODQ934ea3yOndrU0VyBSoR8XjOPyR9MJIrIr5nIjy5dmsGa9r8kuHfbqjTgHKMmL5s9BCcIyRXbJ9GlMlheM/k9wWH8jShjr5z0oheBkRFA9vo6Zm3ZbQx9PHU6fSLWuHfFU0cddC0iblWJtQsK/lb5phv6MvPPKzxC6GvglmQdf2TC2ApAGYt4RzaPNAzbE2dKwRH9bY7Xckv0iEZTVWoTq1crrSYaFPg63fnF2gHkj+tyM9Tb7CNItE80ZEWHK22VMxjBvs+VY3fqv1jdaCFTw0O+SHCg2hN9U6j4bjB4daGnGvaiqD/LL9ygC6T2seMDqIDsBQicD+ojHUA8huQn/eNBQSde2Y0CapRW0fzzO9veNds7caaYAh+US9NACqIYbM4vqroTb/W6r7LDe7tgnrH32ulQOA7gtcyBwyigrav5oHe7PBOGj/o1ErGECE9t4jUUtG8Pe2esC7z/jWu9vrkML7TxaBbdBU1uFex2fqBm6E68PfpiR7K5bZkI7NI2x4F6YE1kPxA4abDSxemBU236rZAFUDjlsocFJpQ6etXrmmtYbVM3xwMRaxdcGkrYFforhFutXvv1oE2bSIK3CwZLfKaK1PoBvym7A0X9dFUVXM19wCAHL/M2ukuTCGTrPdP1eZLbbTcdetDmQD0AgwBzXvmAaeiVDa1ZFnTnvyxJqVaKAewNrjTrT8n8vr038pdoykCFCrJWwzqDajbtKCbFOd2AaWtd7sPqUcr24/16ScQwJ+3gQGA28JifJgB71AfDqiH2GXXltPrtoL0HCA1KCeBBa2OAeUQ+4RZB09ukaBHVFmTlmePeDHVIKfKMjiss8MgnDjKzHUBY454IcdrRnoI5NZVTr3NCdJDUNJpQz64jnSM3zO/T24It9R/h3xwKAP5e+VRMH/J9KZb6p5ROLlO1qfHm++HuPm0WRGKV0OviGQtHz3SQTC9VcxfCq5/CtoEC8a/c/0RFlq7lDtD1jxxVTx9I8eNryVv8Ol7w/oiWD44HP8oaEKenRSujPOBhfbh77lzF13RiLmGPYGhNcZfmeoR6IbPfEN+hNTph5TRzhe0LcEdD4TUdVVn03bThhCe07q5ylcnWF9U/p8t0UObIVPaDqJNl+wIhDZNxXHyp+eXXj+aAMKw+Na5LObO7zd6cM3fWrdgcJlfb56N89faHfJNSWd/tsNqffaqDnddNWmcvuXFdTQ33oja0Y5CrVwa9Nrk11oGZj46xFPpEUjNKQISBWEFWty5WdujrSFbL5J+vRNhvRABYqIDp9GwlI7qlckhPQXSIURRe20C/WXD9mnm129MDXErydsu0YLBqyWT1Ib06UA+7mmlKEQoGPGnhfe5GrWKeXUpn9UoIF4/LltGHSO655ZZTlnAOrB7SxpP5l9gltrtGQxxNFK/RTUBPGiWtPt/FS3wW0I7UBAly4YW1HJiHFDnuDe7dW+k3FVRg+Do8WdGtqUBpuodPYquwigcy/p/xuhJY9PvLwnlELm2v9+uBKIoNToYPScf4m6im9jIwQnie9FYLtc946Q05JkrOwH6xqJGIr55JkrNlZ1y3tQAOR1VcJVbb0aCuiA0L3t6n13jjvy9PO5OC6RvWBIQEbA8tc6PNUUtgwS4Gei8RtkFgN3WpIHvW1dfKopdim640l7nlPver61qa1DZD+9u/1E7UAIoOtbQrVz8xmaOaudd5De+M5OeClr9VkKhX3PkRpvlS2208Dr8RvTT+JXTdx0IROBzhcsCr0jj9siM9Ji0/ugGLqlhs4nkoub2NhWjlWF3R5AoyPDaRAvrVCOyadGTLQjS5PbNnTp+yFp7PCBtrJSLeknatPH68mvF8Lqqsr1BbolDZmndCB2jJ73BoSNpNTo09cqsxwH+mpTnp8h54sq2TQNo0lzJF7Rs3plovKl5ARDts/V+DJ3bi+b6Mllua1+jtxggq4JZNgjcn51rougjBDZ/KaPdFgJqGWz+nABbBdqd/6CGLvS/36OF/8nHTzWA9oPl4cgmUE1P3VUtywNVNbbmMWNG/7ZAHugZVpXPIpWFLb0EjEuGv2a0wXWj2fwwwBWuHHDhNBDfmFc6rOQSbC8Bbm0I54IyaePZ1GpATBxRdDXskRWFMwsNekUJOUyauLB8CCT0XyuGtwzJDrdfAlGcuzxjwvRFDTUrLn8ZOzdMmvRQdK64uKrZnn33qLPpT2qDTzyYb5/YOK7P5Lj1PFpDfxqTMGiRIJhea1eT1aiIWWQBtmD028f9Z5pdiRGEr7+EngJCbhqRwg7LG5S+JRa2LaHZmte5rvY1zh90YqaUnfzBnbNQ4I4zUcCJXAd3S10EY0IVSz4JKxVi6cjm1WLyxjdtruKPRbXq2pVN0s5nNI89M8M2ywRLSNlGQbwSJYwXFmOKM9A5NtL479Io0klelMjOpI+wSI/Icpq/i8GseCqkERUuA30hreHLkxruDlbEyP8rD6QIDOdKs/JzQZ48Y7pOBbdfYv994bhiKSObQL/QizBcC9ITke82E80O19wj4jr3xukKcGOWdrxlXbnRUkS2ivQyIc8eLlekOSDPHkFXgH7bEfr49Yo6xb5mbtHD3xJVeY2iEFR0A2Ovk315nuFuGfHrBc175JcJOARIHuCuCaJpIwBYODdGo8GQP+fYlOT6Q3TSP1vjJITO6+oWSDH2Q78FD3deeCgALPrTSBXwOPD6r7UfJnUKcOcVstAEtlvAiGhDGLtlBYnu+mS88v2mAKn0+hNV/fbnuxY4v3OkAPAQ1Ca9N4ipqljP6p/0rFVr9EUbSFJLgg4SvucQu1Q5jBQObjZEm5dpGfjn4a0oehioElVDaosjM27z+kRBnVcqB5XxVhO5mbA1pk/A9qAq+y7kQheGpAP2BJGw26vYUW3KYAoZlEZyp/jlVkLf83pX/2q921rUH9a+5m4A4McGUQcREQ0+EHK0qWhGF/SFG+AW7n5L5EDvl6YqXhB59daMaaPboClTmsGb0J0BfN2bStvo+A1Aa4hnKHigPOqjwGXWsSI7r7DoNQHbEhXdMug1BtyBH45JRDVEbhp0CA+3inT0mvalSOMloxxCv95Ye4A6h46i0QNQ492coEW9pr1oPXLwTW1fNG2noXbBVHhbef+MSqmonmbOqZB2EQO5dYCi+Hd0Edt6iOxuA8EDEiA3irMatDlUd4C+ygV6LW2HieekuqLIwgaRSCKRYqaLqJgrqPDEe9awbdMh09FdpbDjb6VAQuS2494W5j/5+LkG0AixpUCOBxZg+0WNI1Ybi/5kiENF/jDTqmCh71g5RlUFJ8TTzgU0Mmh+HDSWymH6Y4XkivLCXD9XKqDQsjtXVR8VhGsmMXR2yJ3TBJSj7wgKwCIW3qkUjpV/v/51BFrF9DUR7TsyqHp9URWlIjUlAmYKzdWF4P3/GvHw96x+beRLhFtlkPrkeqJDevQd/qdnUu0+hVRo0cSXDRFXg+ngsHx0GN/2Ah3P+l6orB5Aj91Baz98bomiii+aJo/fKxvId/4+NepaBMC41Y5G+UVJzupF1PTFk8OMdr0B80RLjCGiWWScpyG0mKoOQLteedM1zQZWdZ0dpPUwsDkfueIMK7kQeWbD9vQ3/f0mze293sXwaUPOSDZFj5VwTt6cFlvPj6MqD2ng4UAkkN/Xrw3ri8f8tWoD7hS1ZSGsQfDw94L12eH6C/l+43vDOjv1VWxqOk1eniHA03cKf+x7mKJuONFHcjhx7V1GIn+tcxvpqB/PJM0Tmably/CaMX3P5O9cC7bnoJmZrpuR8/2n+pdG7NZMB+YHB0FYixZWUi7CLdP8XBXAbtNEHb33vabw+KX06w/iOsrkVvX60wEpHzws39MOfZ8r/HVTM1TaAHlDEteM/LJ/vT+tO5/HItOccmhsGg4BMrR+8Lba/iUr4FaquhwELfYDV873mdj6EDsEnEDON+W3eiDtTYSU1onfPX2gNiKBzanJLFdRolmk5TggfLvQDHth8+E14YC/OxEURP1/owrcbaJ8QF5bpk4sU1DPtMZOQgShZm5HJq9rf/LdmpCz7Bf7Wv7Zr6TeNCcY3jjQ1CCI56LDz578Aa3logOwDZ2tsnauzxRBuQI2bYqmO+NjtwZXBEXv36wxjukg3UKE/DTeU1E98np9bcB4orgNMKoEG6wyckXJC5vNhmWyikj3BrxX9MqgxvaG+nkH6OvTikZl1kpTXxWS7OkPrNtOLaQsFjSjYThzWKfyXxNR1J6lI4W6tnXKbc5RaBezaYb7AjSn9lNAF8Q0R/Sz6SaCrwNfi+G0x8HZRsP4nDXudjCWyOLX1vnJHQRRQCjcNG5Uz2zURk5yITLn19K5wU1kv97WgjIHcowBxLR1wUZziqrrvU+bKT7RXhdaY4M9hN0wvXKwckvusXDWs0spwBh1OIu0lwLY5G+J6P047Hm9tXUhhzV4cI4NYm07Mlgb7+3LjY1e5WvUkzw0Fq55B4HfNxiGJFtykAEvWsP64IF9wBAnP6CB/9nHP788BuHx1qO8GuXNjmq2qtOuP60ox4EB5RvXO1TieKTnEeUQEV5XrmS9xrxNQVMBdiWvTah19EhPA3kLF8u9dF3yD4DTbqq9wNm6bvqydMSv6oHvdSIrk0d68jj/17F7GS2fOBE4NdQFuN7ljcgYN645iH6kB6rTKIlX36sTydPpwWN98kiz4PYrc43jrepNhX6TpQObN7MmuX1k82lNw/StaqGTnmXrV9749ntGNU+9/JvD+sxDytYqmyJffuENz9gl6bxE49bEK+1rzNVdlo0X2sTmGMDOe6mNAwB0gjF7DADtdqMo5DgT2u5kdvKnTM0k8wTZMq14RoFP0DVGvVPPuv33eCAiZgjW9ihdSGMZmDRxdjBxzPRauoWBVwL54UvtiQZlYnpGGcmtyTOn5nBTXpK+99b4W7Ec3tsuYnLA9uj6aplG4Pz6y18jXGk6WIiqr+mdFrXQWni9DShUZtZOuK6Bq2RaKzRsL0GjnYraedROf/CLHjoOfd3rtkL0+Skgnlm4xm+8H2Eu/I00CcZmuZ6rGd830LA1888AGPGY+yRPDgv6gc9rLWP6/crmLwiRqEUVyNdt57QttH0yL0GAB7dbMppzff0riX57TUQLdGSR1OxMG0zFELufeLTKrGo4R+U6SHsQ59jYZfKE+uer8Wv3SDUhCND9w2RNRAhT7l5g0NoH6OrIGrtq9lmJK6vo6V1WcWcNo/9b+T6E9wX+lhDeVyKmpfas4PIw8DXe2KRB0ZZ+2Nh6yqLdAptDE8q5u8zXquvofPBYP9BId4+EI7oYLhT8mSUWsDd/tk4uo+uNhHmvmkAF2Lm3XXjUGEk3qIm9pXk0AeJFfw2tZ7RJ0pd/3P9unESKF8h3NISvbYm1zQ5iexjiZzxAI+wDd7Ywd+K2/jUC80D1t4R4rUjH/Xn5rWH8TnFYVtpQOkCTingPxBu3P+kg3c7LGjU0tY+6Vn1ddV38XjFcLFxAc3o9zxUT4tiGxChZREtrb/ZsKwVFay1HGFBByOy47s8NdaSJfLixxuRjQDgn5ZirzYsA6RiwPUeqfmsjKj16pAcq2MON9cU8ArvvX+LAaNe+bFnV86rMN/5f5WAkiSIqf1mJENaq+eNbV/CSG4geMwn9mYiBYJa9hxZwIIL6dCCv3R7dssXoIIHc9zv1r5ihtCrMu8F0UZuoceDZKsI/W8Sc8nubumfYEGqoH0VJ/7zdwU9VRwkBbp76iyDzjPLhgPI0Ag5q4kqoUxItClpkzt595l85RviFmZQ2TYiqb8JSOLHk1v/zqfYQ+6oTgSkxXSG6lh8imicXaXjNuP6JO/14Slx76IHYRJRwyhfUkj8ATkb56LE9uY6w1KBK37X2RoMrRhbIeKmdA2O+g/R9cyq0MK5ZxXak9cz0lavNpvL66RvzhK+/+j7d2mS8vhApGs612yeEW4PbdrNkgAVj/G4Tpq5z1KLBYpHqoFyPFRhPFY//kWEm1Mszmxi/Eopv6oLezhdAHJG9ELj+B3jTlLr7FZVCw+gYgXUlPG4PXdd141RTRG2cEm+/ul4gaxDM3wpJ0+otZhzIvto9SPe7ypPrh5B52vmtYfpe1AuS79dwrvvrJfZa7Pm+XjNQ1yfP/FPh2rdGvn/p6NQB35pD6ea0DL2vHZWkz1jrXMTlF0a60ehZNDXGqWHzfvC53DB+T9gefV+rBT2I09FheMsIZ/XKmojG1UGbYJ22rWhL44G9fho7lwsgkrc9D3DKPwsXel2mh4D0qGpfPZzT00BFdTHvLYo4mGXLe3n9EDtvkBYzbLrrxHvbVopSmP2c/vSgxsgN7papbtXi7S/rfsBGJXoXrupQCqkmbydeO9O48/OGyOvQyU9zALv/X0psLEv5IQqRb5TbEQFbC8eAdpy49g2+Hx690bpTDXcfxZVNLTSrVGrtvEi3ZCKfpcHrAVZNKCOigjs28fUwdLWhGeqbT1+1/NGm61cV0+VjQJ6DCjhqH7bL6Pt1JHfqRNodSecQ+oVNA626VBEKaGzXfkClR4/twXVUrqP16y7wyNoQmh2UWYKYeTEEuH1wd0MUX6ewKvK07isxG9B3io02SLr6Hd/Vg3CrHCIcaxuffOtDrgyq/ryjGfCFlb2W1dqbRBFh/OWdfxuV9gHpwE2BNVfjW+1NVlGeJBM3oI1eU99NWkfZwMr0o4bxxFz4dHCdr7yb5puhuDV40odmJgvRyNnlhvlL7gbzTHypiug3jN+L+hWyATdvwu6tOjgNIXDI884LzMeAcEr9Z1sDH65URPuFiR7+RmpWE/Ra0oKi5VuFX3cfTH8jTzA/z/x+Va2U/J6og6DX/0GHweuK7v8H9KaOzS83JW2KHMqOk96HTsVmisyZPdCauAZe024KrYpeWRPc5bbXBROK2LYg7uAIlcN+F1KmzG1aIKjScmEj6D39d1PuFjDi5EfT+3/y8XMNoE5CEmjj0aYB7pbg3+m1g8wX+PpXzSyrIGlT0QTJFf5KHh95VgpvZr4hkqsWLXJUXCHfJR1MMOC5UhM61jcnKJFE+Tx5ThkDQ+mHU0WZQ7cEIXK2T6ZOSal+oe2L2yqLTm0q06/Ynmk8zQgiD78UhHPRJoS2HeFWIIU5icuLYHvkaoNZiBXja9EVpMLviaiL14glrhmbqqh0ijvV7rb+9DcaBq8v/BqzIXF3NzpAE+XjbwXzl9wnbr/uK2HzioqXihqAy588eSeRz92nxqSQR4d8CBR7qBu+eIeWM9MQbjdFX6Qng5ihpX0+vOfndeK8EqLNPmjbOHWPkdP9G9WFywsn0u24N4TpKB2xDNfap+NgK4nCA80b0htpebO8UHwwnHTF+0RbGZu4/aIKQeUgmpIOIJfJJxLR2XyzGM1fckfr7HVvXoUdB9eRN1P7mgdkWCrGU93fl80SEu5ilFpDOvIAttzT5QM5fONr5rrn6Hcz1UbDZaf8rDJy+LEmOj0ExBORx3ykY3/ztH6RCiqwW+uH9fC2IZ4KhlcidDVSqZdnz0Z9LUQBGzjMZRbp6cvWhQZ+YSJPHekBaAR40WaFU7zaLtkglgrc+cb7fookb5fSfe+oFNZrygnweCTPJgQOG6VySNH61G0T/tmH2n30mC/7c1CCdkos3iKQ05VcnkqTV1nS/n2yNQgUg8ht3TmDmXxa/jxAltSVv329JqIWMVRCNtkHBZpK32WeXjduRXTN1lXCiqLsKLxo6oFg/ONGY+lbUYSQ73m4ZLhUEV93uxMivuhxbtYIoLY9xUGRPLs33FY7f4zCBzaLhz9S50p3g+Os14mhHLZl72g2zdXnbxnjiTGLeeZ9Ey9sQGk2TV7g8ffcxRZMstgN4KvXTN4tMxvWGjwbHFLqjWDfeNl/TQ2g9SCXYegN330cHJS3harNfOYQO77Z2tr1qEhLNhreidyFZfc0bZ4BAttR9GzSzdPB9ZW3S/e10DiTOnwOoLDPM5LShsDhYrXA+OzctqRZN2vZBlMFSd54BvHs433vlccXT1Tm59kr0OCYEGQrdicdjQaAfIw72u32a9I2Xi0w6cPWo0UFUZYM5K6q9N0SXQlUUOUu5P+Zsr4NkfeO9zxnAKVgqKJ73fjnqFFw2pDJQvFPN33WRrB5R6T+ylQiua07mq/IX7Pm7bbq0Mqf08GQcte4ldpXzTsfUAVt3vXhpDXdSOjjZ7ccP7cfsYs+F1XTNC1e6qatq4/D328I500PGXCFGz19/RpvaJIheRFbJFGZI1ypiFfLKKWTumihaUGIgrwr2VPYwLlMhLAF8NCbCS3nybPZlB1dkkZjapOxQ6eWOnLqHd4yhveC9Oj3XT50Uj3yEPALG5Hbr6EnKLhMJampV5vw4DWVb5kcwkokz6T7Bqkz+BrKH3P9eZLP5jqiZNmQVjwsG5hG1bQBSUeH8a3w+X1yWD7wv+mt4vCZN75PqioeBGaL4M0fK5HLgXBHhg4KcYfAi68UNnhNuS+HA7kz1+vdpOz4NcZZ0MPUJm4ZSKrPE4ng1oTdr+8bPhIAAQAASURBVIIs2s1SV/LskGbpPB9OvYyEs2Kfjmx8m5NOuraGanolV295kR4yTyEG9DWpbKDVKqMoYrp88Jp/Kh2RMI8+gI3p+Fr6ep8CFs0xVtWuIchmAmsrmaC50jR13o1yDZX2W8X6IXTFpCHfUdewJigZv22dhN+jmCopCcN76b5eppjMjyOqp98mHNA8D38APbkCUFT8aaItg3J1bNVsZsJsIDJq9Fj+NPEA0YZkeyY6VdUjEE7grhsd+J1QNDZE5E9zTxKCNoPlQbmkSgqHHr6yJVINVhKmxTzbbMXykw8TKfXM4U1VurXtZubBsxFVzo+kvK9/zfRV+WVtHlkvVVna1BesHUZylhQl6OKQ6LnCKjvfym2ZamERoFbUh4nvZ/SoU+z8KCjPSpR/1gJ52E0Ad8vIx4gSiRS6hc1fmQO2JyqH6+CUfkM0OJ4TD2lFgnsiTCTCRT9AjRE7ejo1XIqKM2ofRM1JATAKC1G/PKvATePjrA4GrbHxwqQcRlZ6NTVu3XfV1pnDuXZE7fYpsAY76POjeIQeiDqEH4b9WjEU0M43bQrFe348xi4Qacvar437bOD7ODjaB/F3JT+dNi8EPVrPS6Yrga7Ho/kmcm29o6BNo/O0/ped8gJFSF3Gnh//xq0VY0TpnjCc2YyP3zOpIjdutAD8sP2KNyZ4lInvlQ0dFudWzfVi9l0scu9ZGq+5c4Vh3ONLRlAzeTMLN/GRpArZCPrAWY3ke1I1N1uU829+oeU4wJ03tMOIqj1Ii9qoqdE6Mu3m6hTgzFLJ7Jq0wWoPdDCBcxymAK5iG7m5ctt2KoclWSkfULT/wRB1E7Cj/bJpbjCANg2sEfPE2nWPBrbG76GCMRs8bNPWBUbmd/qP2eT/5OPnvoMTJV4zmqk+TGhjQD1OLDYT17DMq9TpdON6M5xWHtqezvQsNgx0tuD39BTgrxn+fev2AmEpGL+tXSFXg+D2b0d+X7W4yJNXv7G7DlvQLTDyUUUgjegOsHOrrr8GbGqFMrzxDU9HD/OKCtdKHqFC3E1YVEjGL8jmmZUb4qX072Er4nAj0hdPGcszI+r8ZkbRRPuSxtEtLxrP9uR6fE8NguXF9Skyj2wgpreC+SuLApVvgtsvvBAvfwookXy/6Tunyu2Ba2/GLTFUvarZMVXJjZFFi4pLnAOSTS5q+VMKP2ZIxjSxqevq38Im0Ej5OaO+nznlmG9gD1pPaMFh+p7ppag5oBbDNn+pmL8yoLwp6pYn2iUMZ0UBRqpwjagslfy8Mkpv6O79+NCA659cTx+JVzbCLutrfscfpFeXFVYirNujw/YgHQWh0KOQ0H3kgXb4jcrm5aPvXBxr2pojomjvcXOCpNemufAPrxnj94w0Oxz+0MGq0GoBAMZvWTk9tCeCTt3rBwpq7O/8fq4b/ObZIT/4Puhc/m1APnD9Z5YK5EVpMV6Y1EFVnqM3p2gzsihKorYwNij409qV5MbfokgrI74uHY2qQ0A5RojWgO3XI2Srqv5XRaymDVnT04ag+cKcrOV44BpY3B7fBfyUQg5AL7oSQuf9yL0tkiYFyHXhQTBGNnhGaygVCB71uFNlWOQbm0a1imERArlChd+nc4t0xYXWeiPeFAlkhrKtzLd9SAN6TJ9LBbIW+POKcGJEXTgTJfS3zEZfzAg8coC+7sbS9BEk4lqjh6RK/rX+KIseBKANW9UkGSrI6+CwfghIR4/hlYii32pH62mUvg99UhvykRQad8fVs6GHjZ3rqJM1inmSLh5ZXyios0bQ6CBNuPr1GlNma+XwdtvVlyHsQiK1ALLroHMkh6HTAvrK+O5rmm5BWso9q5oZ9szapgCE61fbGkhjLJslotx+CYCQH3z4LWF8L12o1vnuNoS2hrCS1lL9jqTa2tuM6M2jFA1YPwT6fKadJx+u3IQZl9qtes92upM22YXXa57VXiqpq8FEGgkcuX6uEKipo1eOs2b4Bv453ArcWvZGyFblw48pOfagMAld9eu2XUXf75GqGwZdFQOAe7/BXTfUYd8I2OB1L7z4/xP3J0uSJNl2IHh4EhEdzMyHiMwEGtX1A73u/9/2X1QVCg8vM8PdbdBBRHjqxbn3snqiF/3CQQQlCooIdzM1NVUR5stnNLROzR0pkj7WA5xzA83XIRJ8//Wg15dp3NdZOoKdE1ZA0GXJw7XBL0X+3b9EupgE4eGaNPMtZH37XxYELa0fBodLwGJbIuKPu7kKXeEi34NDvOwSHxCQPnZz/FAjGBFvHVUKm8PaUM48UcdroT5lq6hq65ahLieH9fdZKtay6dwoTOXJVcvuu3PmYAJgETDorIGL12qmkh4demEGWj4GaNl4PgdMb4X1XKoR6t5QHr0pWqIjy1VqXTSWxFfg/peEkLvoORi2rBpAUrlEEbVuZ/qgqzSfmJPHRYI39vrikQ+BtGId1EmUVHhfB9KjGkQdAn3pmN/53+XA19oBrJ+lE1kWBuQCdz6T3lVHlFS+qRGENXGJAZYAMwN1GATkOuGN0/ddjB87kBL8yzP3VC+BylsDwO9rYWSJqelCTS97YvD2+tnDFeD4R8V+5mdRFg7j2tiip2mNfgFA99zW0aVHs07U2Sh1tb2QImWmX7DFlcixlzYCPq/mY6mGKR89QtQIGo/1UzBTiSK3+5M3xNZVJvJ3cV+32WH/FA2xW78mpGs1Z173wP4pMm+vM6C8HNkKMr0yxzLeqsUq0G1HbaC68gBWHB7/PZvpA6LXgWRkxpVUrcaOpPcN618O1Fp58N6evNW8xVvhoP0cEeR+DXcWtpenSTRz1O/6wuflwZB0kv9xR32aRwyKiLXbIuYyDzMpWK6WD0Cl/MB0e+nXFkd99FLGRq/3g3fQarUuIdCuyMIuGkC3Cs2bC/yexdyQoNEPKBXuMd9rzzZQIgQOglMkDRW8OR1RGjc5qa6qpwS/Zvaldtig6HfpVD4kDoGXCue4OVbdVB0327AWRDHftOglgstx33vf0V9mQyDhPWoYh6Mm+q8gbU1h5ZDXgsPyz11CoyGHSn72aIB11oqDF+C9VI7edHx+l8otDLRb45WaGKQ0ekbrNuPagbtQpk+iJxS2RA8qWiSAu0ZFSeVfZT6cmyb0Tej8EIBlZvPHvsMrOih/xnDhal/7qDv1U0IT5sM5GQAn7dLlMNtEBuIqmYeaxeAWlWYHyjmgzGQD2H2uh1ZSudQoc32xUDoBOZRp2CVoviVGSbElhGsMBKFVjR5zb7s5912Vz8c7kxKUQ0C8EmGM18LraON1l+R9ttIFGcLLicUQdYmoxwht81BmTQ2P8SLDkaCHrv08CLpceR/0jvY0MxoqOGvIsSFxo7SoI43e7RTgbpsZQQAMLR7AoXCj9KUDg8USKQpaQz8dmBcoGZ+mEQw0hnVFLBUN1AYQjZUpxfrDdd3oxwXutqKfDnCXG4e/R9kBYA1HLkU0baH5hcevaQClDqU/noTXDL8W1KeZb3RnrIR90JInlp8n1KPoJxzF6a52CtIlcb5FJzlXPEn7wrBSGjyc0V3TG6uqDv/MiJddaF+iePkUTRvhSsf0kel+FLpAtVvpQ7IDJ4/9OTC+oIEZWmp9l+R8v3fUQxA9STc9TDlQf+hzx/qJWYKb5AgGyagCqONwFZjeGQ8THoKkt2cvKfYq5uXvePnPUdpJ+k9RCqphU/Ev4X6P6aNheWvIB6I0y1tF96C5Y5b4hMahSqvf0oXPy9YQ9gX7TNE5APTr7WdRc4xwyzL0SwBjYWxxXQXpiBZw6T+92Omp39efh0OA773oWsLexuBaYTqYKG0BLUIq/QC/A9NVtJgy/D3qIevkbGgOmbEHijrsT0JByO+mYadlcVbvR0rkQUeUu1Hr6SJianFxK1WlnzcgOZLXkYPlGrU66rZG5+/eJod0keo1+ZyhcQseFrMStob5e0ZNDvcvUQa/IBuxuKM3LtL5PMLYy0EbHKr8ruzp9Gq4Cs5ac7R5pztHjZQfDROuEnW0VP2tYv62kiJ0DvUY0eaA+LZh/vvVtLd+b/y76FGeSKW5Il3iU+QpfRGDRZXPpHfkl4XxTdJy4UqDf7sNpx5gLryxQLlfRgC70DAQ3St/zsNmociAsCAqLtcICffwdf1RRgEQFZwSncOqSxJHrgrTLeOv871wEtfTZmqn+sShnOGzgmJImLbqq2mo6yifD6RyAW6+ucGvXDMZpSEU0+ThJQYIjrpLV9pwDzdQf7U3CvnvrJzTz6XOwaQbrPKUAGo31tseRzRJOQwqON4atJ88Xjk4KCPSAmlRAKb3nT6Yz6qtOOos1nVZTViMKdHrQrRzh5HW4B5E/gDQt83o3t67Vb456fjt+z4kBg+VYtb8IfQcNVui5XLKYvGeTzeyF/oatGcX4DqnQ2I5jEPl/M61ZvlGXaMCGl70lToc+0o5jYZv6+GfB1C5r72zAgKfB4UOgFV/78WGfNUV83OEmD7IEHRBNtkEI5pf+fPpx26lC3owbIkHDtUF5lPkvS5h864QIBqB6kEkCiJJEfpXY13UCALAdITwXhqDhEEQSYU5hhfedwieWkBF49TBr7pBCXzuSwJmylcs2L1UHtY0BuYh1szdd64BMRDZU/o20SthDl9FDmNgNJRc24hRhkfPPTaxBq7vWVqOnEld7MD7Jx6/NACqS8XFKJlXHu04ox2TbaYuk++vS0S4Z5SXmVSVpyPN1YZyDJi/70jv0gm4clHhqUI6f4+Jw2DvP0UF7M/RBqJwL9g/z0L/VllkuLmiqQCdWoPplUONnj67J4Jy+z0SWbuSBtk/TSiLx/K9os50ODkRIysiyAFklGdvnwLmd+nJdIPWAHg6Pf3bbiLnFhj4ub9EoSmIvmm4qUa8RAkELYujdmMfbjfVkfRAA4c+6qR9jQ63r6Sx40bxcVw7NYFf+LP0fUg3pvPPb0Ov40pDfxKKbds48OlGVgr6JjoY76wNBo7wujtSmOgikZB+X+W0lOV7xDHXO/yWx6DjGYaqw6mvKnjm77d8b0hXZuzdvwaLQAC4YexP7DoGiAqq/g6AbQzl4DFd+d4lS+Kn03p/Iqpw+N6wfgm4/GcuHHQQ8nk1529/poh7fm2SPUi0tibqBRVF3c+k+cPeGAkk+iUeEDrShYeA/Zmapem9SpsGzJzC/DKh4yZv8Q+QA4g2MDhxATNWQfR7tVv0i+ZwaUWTLQiCQMMD8ZrlfXOo54k62icGuGs/sK4i+Xmitlfz6GoXN6mEQDui0PHtbge6cFenqIS4ip6sB49ynpgmIIjW9P1OVEB0Pz08xJfoEKibd+9oGxfTX+0CdhJXpC53aPyLuozlWnDXO/qcRuk7wAVfoyFks3H7EKW7XInaZdblqVYIEzetJhlljBEhCuqvd24urfF+cqDj0dFhCgB9ikZ9hauYcrSSSjfr+0AemZeauDkvXGe1ilOHR9eBnrxtyvUQecieA+CBeqC+0TWYa9xrX7EgUVViWDRSSw0Hk1RnagVn2DmUNO3ZTg7za8X00YzStBiX5MSE1LE/8b2OdzU/cZBkDiglIi2NSKy4ddHasgbuMcEAzo2w54f8Nvv7BxewS1IRKNo1Xjf/49bqlpn3bQBU696ik/Bruc8mGjRqkqrP3iUfFGbya5GxYi3y96e0YrBJphWv3F80PooJFfJaOg/RShOXAyVaGsjcg0N+imTEwhgW6+IF+ebzdGXhnoJ8T6JcK3OYM9PG3hjPVprc3xKk3mCNQXrYe0QF63FCuO4PDSHs69UDkUa49EnMG1uR0Gd+Hbt9d+vb9rcdWpVoBQd7Nj0xopjMlO7X6KbbZl+nbR/ML63DvLGy9tHJAVAPggBMEqKHhX7SfVLQQR0+NUImeM5XAFMHPA+PjIHxg02zYoU/9/i1AfDjg//RmkywO1ytiK/3QQdPI+E/vyxSNdRYCr8z+DGupA765BFXUkZQ8bq6qmSTqZNHuhUihNOguHwmQpjeszmkIMicClbziQYQiPsxXQum14zDv29C2XrMH9xQt88B26dEE8UPLpZVTlS6wKUPBqemj4L9mRSk65BkdZ5al+9lnLAAC8JNH1WojuE21iHl+EfDom5hCAUgi9f+5FDOXNw1FFrRJo22CVuztpDle0W6NRx+NKizSrMAp48ulCYH0+MfxdzIRVCz/VnE+nLycE9PcOcTI16CJ+2rbQtKgxwOQCNs3a9Xfq+WqPcO93QmdSJxMBoK3Q6MA0oP2k3tKd7PPLGrRi+uDfuZm8Xp70WCU6tEF3CA1V7lLu666ULETYdi1Qy5yk0pro0n7DvMCLOLJi9dOKD5Ii7ptTEWJvDzBqg76oI2mwbxo2F6p4YvXZsVp6c7B9h0rbxuKhf35Vs2Q1CLpMPKkU5g/Tk6lAMU2E9vFFurliefAso52KahWjsevGBIt8YqwTPkHADCrSC97WjB2zAXVqFie2flm+a59U5ETk7u8ZrF3UmUSocjvmZ+/k0WdM2s4xM5uOvKjeHTQkpTNH/px536YkGuFOWqpxnt+Yj2+UwKtndz17ng4Z/O1Jw+oNN/9uGEpYAuvjrkyTBkAfi18d+qLQqBg1/kodH+fttFHO7hr6v0pgua4CUC5r5L7E0bSAGAdjpQYy1Dn8sN/rqxuWCjMcTdqSPUDcftvL/CLSP8uInwXoTpYeQ8ui0j/rjxc9HPzjlGwUze4nlUO61ojWpBVaeth/RyogQgCIuiKQnaT9zFQAcQMefPE7amcQgMG9djzdic3uhALirZkKFS41PixsOXuu5tcElSGSkuW6WE5w9qdruG/epDkV/AOqBNe6VxL/J1vTaj6ZwgM0rf2UHZieyldjnMD/SxB1gtmnaAT5cmmuFmQx6vf1hGarx3i15RPXpcJY9T41ZWatbTB4eJeKNWPtxFyy5ARro1xFtlL7igt2GTphfAfn688jDtd+458UYkePljp8Hjzs87PydDDBm9RnTQiaZUKXgWQlT4+0DRunO8lu+ZQfFyrQNg9t/EYa1NQfTFkvknc4hqhC0SBhhavy6d2/8S7aKDnhnPdMD3bgQ1T2w1U/ev5X8KGtjPB6J7WhsoA16fE93Ccj9ZJuADxY1cONjeVw58gBgj22DYQrB1BSkNg8gvGN1+rQlkmX9yqLTjwjdeFh6fOzAF1CVaNITRSMEbFVVO0sd7oyutPIsmITQTg4bckCdSrHX24n5qiJfM7zkFoE8soP+xo08e+xIR3go7BdeGsCq0DDsFlpckQmcVGreB6uWO6JrlEFLc7IxOUw1imz2m9yabr0TNNG7U22f+Lpqenp8C5h8F+3Ngr6uccPezw/Gflac+UIx7+xowXRlRc//q4W/A838t1jmcrhw0061ZHAnDQjl8FoCngw42Zgi1PF1lQNyp/7v97rHDS/AxJCC6ISQZwuXU1dUBuWe4eeKFWivc0xm43Tn45cwYjuCpAVR0UF2TImj1hwVt2yiyDowRqodkobCPpeQt0Oxx+02zCYkEThehXTsRmf23iHRjlZQXIbNuEKN392eRLVswiKq5RlPNdGnIQktpuwhPv1wY7588fA5YfjTpfKZYffpeKHY/0lgRV2oy95do+iS6J4F8JvLAoGXpXYUzGreJU1jvGYCbX108NajvjGpg9+/I/ZreebBwEpCrzmBfO6qE86ZrYQhrrog/rqj/+2dxoEf0k15HHNCmHxvagbou7ZhtcYQWh8tu2p6Yq6F28XVFn6Ih/6z98mbwqsdoCKBfM/LfXtCTR3zfgM2bNlhDzJU6ci5yeJRoFH+T7LwklEnO0HOtn+eh0f3Ti5wjjdc7UKSWSVFBpW5kM+ki5DYkEBjoEST9X76+ew//fhP37sThSlAH0/wFB0T5u8zTZT9OUmXVjCpWSr5XWBaa2yr6wvuiTfwM0DvacRbEqEq0Dw+xvjTU0zwGv8fEg9r5+uVQ34M04+xEyloYRii9xrVZw2VFfrrVuKkuPGxkf3Qt7p5DYnekiOOt2lrbhYI05BfU/2k+Ids/eL9BwoypA9SYLFh6gBNkzEOudYl1Mv2eHHYe6+DM6StOcNMIqoZMN2Ghe9mYJA8vdJ12SQNGV5MdcPCuI10q9udgQ2GJ3mhdZXgoT2l2YDQtoxyUdfib3qukSTg4dEMc85P00jvp/E2e+ac3UvfaxFNnL+gfD8dEAWHSpFC6ULWUf9QlmAkzrFWaYuTzc7yBrWpwq3B7N01feFvRjomtH3UM1vpQijnKWoO1MF9YqFr0CrcVtOMMRFAPCNgw10OwmKQeBFx61P8pMtc73HUdiL9+Te/mCHbrxuthSoaq9yCDnLx2rXx0taEfZjjJBexTIh2skgGlkVU6IteP070SgEsJ3VWCLc0NJ7Jel3v+JQr410wg88yFV4Y/1xrqzAiB+cfGyqpdbNzJ8zQvU3Z+WahpEY1fuJPuLSeKRm3Dad02wuXvN9r1vQMK66WaVB+p+YFtBwX5sGD+kaWzdCAXbQ7YnyIRn1tFEOs5m0qaxWOEjTdTnSOgYtitwRWtHnpY+IJDfvGmveBiBxskw95swIj3jvVLZOC0iGan94p0Je04fZDKvP4toU0AJNl+fiOtp6HAmve0vgS47q1gXWlkOqyB9ZNnUKosIvkoWYk30jpldphfibCxOYPIoDaNuCbhmio43TZGVtRmotd+I/3fL1cxhYybgaHRnrTW9caF8+MCq1l6uNERnA2h6aMin3Wx4mK/vBJxK4dBC/M9pgYmPMSq5CMRPq2+03YULaef36lCz0cuQi3yM9XgWY2e0E3w/pV5jq51PP9fRbpEndW8AUSIuwNCAUpi5p+5DduoUWKVE9BODt15wMnQd3Dj8JB5nRjF2IEwcVBNIrzWQZHyhwq/83eZXoUG6czjqjNNH6520WeBf3eesH9ZEC8Zh9zQApGTemD+YNybiPad3R/7S2LIb+9oIaA/z0b11UNCuDNmoXxi/IsXZ551cAaPeuDwx1gl6RoVxLA8zzSELQHhTYTezrFKMnH4COJg1eHGa51aLtTLlIL2+kb91q/GwKhEQda7XopIIXahaokK0r0rTIi6CAEgkOLt4vhlubvkhh1odFEEoi8J/kKkQDMCe/RAhOmY/NttxEqoK1kHs8SMRnVx05XdGKitcTOgOxtKk8n3Kn3J0H66huvzbO1N7RBt+GK1mND7FtwvwewrM9IceK2VY+QaWzpcZSi0DfQSJm2dq52yjHSpqJ6tEgAsuD/sDV5RKZ1TpalEh0tWYkodpqM+ty3SgvPQEBR25uyVo7cDtT10TXrs+lV9pQ6H9xH265xDe6ATXYoW1dFLhouSSyX9r+y+9YJ2DlrX9RHQDIxGoXQTCYdEv3SRAk3vvHbqMowe/H9BYktHWxw6RGriWH2n6KsaaOJdJSaUVIWtw98JToR7Y93qTrMP3zseetOtoKlJS/MgC68ptvqMIap7h3Bjdl9V3V7v6JOn4asy8sVVcZynwOtIWIxHPXWf6fCFB+p5hi8B/TnxurqRfQAAf9uIqKtJUQZCv+WfB7uHDl9EGRhvq+l5AZCOrdUcvSapKDLsiznDDgCK2u8Zmn3rsuYMOtMP9sNsshDUytcTZ+63EjHlIgwV5PrBg0nX9qP/VS5gp5Vf6nhbZvhbxrKSr/c7RfLxsmP96xHumVEIemozJ64HNPvPZ54UuqejLdw4GCoS2IOz6qmWklGq4Z65Odwr8qdFKn6otzLB+yKGEDl9onfkU8JyW1E8aeL0XiwOwzWeGHsQc0fpgCxG7UDabHpnLA3cLK7fZr8HereMwHittpm36Oykl48Rhz8ytk/RbmIWdDfE1Vm2nPXAJtKH+cgeZK1qo8NYMgkbjR6okIR90RPuw31aDs6qheA59MV7w/Wv1KYd/6hom9Asx4QoLja9mdDE8RSEHpbTsJsSnIvoKjYBFz7s+eeg1Pt9XLyBGWo10aUWVrkGgkO6EvHdz0FKxUfA8vRa7CS8iyZGM880+qB7SL8vh/D5o1r+GMD3ZD87EVZnZl4dvKCHMkTJIJdPnuHP8vnsZ94+caOmLV6rLZBwHmVx2M8e83uV07044W8Nk2us45PCd1cYNA5IFuBxxAlpziC6oCYHoofxWlEP1OS42hE6dXU8GPHIP71n+N1Dmx/CNWP/RCdtScz9K+cEn6WNoDvMf7Aari1BnJZsBtEEfwDILwnpLcPvFW2OvMeCg9s41CmaX8+RSM7kkd42eHVEViJDTta1+IMaOkUhwpUUKfPvKvwOuKvErAg66C87T/PrToPFg0lD+6fxqwhga1bR5FLiAQdglhdAoXeKI/ZBq8J0Q6jS+amF8oeZr1UDqsU1jBSpZdI/946ZqitzxBTlQ6Q20AwfpaGeJoTLZusjggMykVUVy+vA7DKDelsKcDv7gpkPKBmBt2qyG6+93tGbMQ+OQx5RYOq1AXBgPLEFBo33g0ty3TkHSHwIhz2akXx3NpSFrdKl7xhnpOYFxoRVaBNOlsM794lBIfudaQ51caZ5rbMn4pV5IG8HZzFO8d7QpN823ivcfeMQ17sgKyPyij/Aj4GwtZH/KPl/bpoMRWrrZkOgoYq9GapTTkHqRSt1lHDoyWF9YQbqfmZklM8cBkmldvYx3yWgW9ZISoi8mOQYw9S9l/dG3vOsRkXRG+/DEKPlBwDQ5TDppR5VkzdK4iFX98WWPNKlcE2QYR6dGnz34OZtmmMZnDjSuVbUJdj+6+R6oB7ew3Wpguzd3mujSQHGuDQZArcqbveCnh2lcMGNQxXA+7Z3mjicg9/yOCh5iVLaMNA8lWs0onfW/2v3279cDw+9wG6nycNtch8HP1D/dR+dvrI29W2nVlR/hupIxVjW9/2nPEmthHOHBf16G/vn/7IgaH2xALstg4Orcno8RNYQyRs3f+PJVp1kfqtyIimmB1SHI2FncXdKw8D0fUVbgtG/PXk7ebbksX+ezKkWrxnpPaNHh3AvDJkV0Ws5BOogOrVKYW24//WA/BQlgBKygZO6S7dG4b7SFZ5RGSoebpPD+tvCf38SJ6aG/CaPcgp20lU0U29A17ok13uLe9HAUgCYv0v2k4NUfMHoDgYT06VKyoWnyP0lsvXCO9y/jjiFdGdGVNiIUE4fQxDsMxfEOnsc/+BQCUEHw9YR3umIax8X0fEpXO1tg1WdDErhaSXv/KcTwXHL/FM/Jg8PbehsrndD29rEjUJ7QvkZM+ZgfqtIV3l9YnrQwVp/N23Y8BXIZw676+fAlhNB6Vp02J452J3+O7WPt78kdhHL0K30StzUscvrYHrljXz4Xi2yxgn9pun8AEzbCQD7MxdLNYYoLa10MOkRWSyrxgWJRsgB6VpZS/g0gqG3z1GMSHJKdeKw25ppfZrkxSlSzveJw+r8baPgulPcrbVeiuooh1WlyYOuUkGRxBHfJglIl4xBdZ3y8FMwve1i6iqSIcc4GFeaHKR04CEtHC8MWa4nbrA9ONTTDH/PTOoX1Mrfs6A9zNHqS+KgpgOfXldaVfknH9Ykote2yRmIgKvmTxd6y//bpC5MAs75ZI4bgd4zlifmLEOsHWdD0N2eBzV1l/Dp2mz46ykQAd0lIkM2J3/d5Hvls9wy3y9xDavpxjLtOhBf7/D3gnqexD0ZkJ8m1IMmLogZLKorvBqS1INHfWadoIbpGzooB2bVBVZB5pipWq3iqyWPJoNO+shIH9WGu10qCcNWqbv2NHppVFKbhObVwHXNrJOfowHQGv9SpDPcFdg1bj2uqmNW3Z+gPY8NRrb5/+s/ne5gJ6yYVnVZgHRgmHJ6LxzCBVHTUG1lHdKN+4+vHRqXA2GmvOr3tNbTj7WqJYf8HIwVQO/Wa48+3L6mJ6x90Oy6hq6iEVzp5m2zt9rV9FFsPerBCbgiGs6Pn7V6fq88HIihxExKjdWimi3Z5mAoMxxo/loidXqlCZrtED420ZpWhqDfM/oS2ZEdPXX9S7LcwB5Z49bEXe9yFXe8hNqr7lYzbvUQJ2xCPy5E9/bM+1RnHc9qt676PjVytM7DnXbcl2p0tslBDstAlAEOf8IaAIB2i5unwo/9VZFIp9F73o+16V+yA/8jj18bAGOwRc/Vinqc0JaE8vkgVBA/wPIyY/+yIFx20yuUI9GQHr0YNbioxNcN8z9XE5PXJVprADca/rL5GBGvUkKfG8WrUforF1It4coYhHqe5M890pUGkvXLhPX3hWLzzmDmdCmCQg0kzlUuSITMiUa1WRG1hnjhQrj8c8fTf92JQkUvw2XF9F6Mwq6HQTeo/mv9EhDvxUTJ03sdPZuSrwVAXMpV7PUUApOq5keh5d/dU+PHm5g0wnSp2J54Ie1nagbV5Rq3MUwpldmiw+X/EaRKSJ5/z9xMYwTSBPd8HgGo88yNbkqEvw+HIX5OE/q2M0ZBitL905n/fTjAspHAwUS1Qqr9sfLzNlx7+n7oENVE4K25htoK4iUra3sRqkkoYzWZcAjuhgS06Kwf2DW+V/P3TORRaOftc5RBLNjrqLOXnmE92ZKuKUfqNGty7Na8SZzMjUim6k7vX/i9PnfM39lVzfuBC/H8WoZzUeJmdEDkBuzMEFVnLxsLQ1nzU7Br0cmBSu8ZV0f/tiJ7+0tEOacR31E64k2ik5TG2blxh3u2AVJpYNLFTMT3QgduX2ZxkALlZTG3avp+J5q/FtLHN72Hxdm/8/vhHdqJg5HLlf3fqqG5rXC3lS7Ow0xERiMd/icYQJAmMyvBCQp+uZI2UqesmkK85yDRaPZw2z5yAXXACPyafpjkINfQQ7DcML/K94gzkGiixMzon4sul20I3NhcaWjnsQH1JQ0xuxMZRxmGkHpI1hrCF9YpvN/oSG7TqM10uaIltigZ3X9MNsijSdOL6jYf9FVO1ldFSSi9KYiXTGRLasSgWtWd9H+XNTCsrD4kc6F6QAl/logixsdUO4jVWXJcg5i8Ou/76VLtHmzS/+4a+DvVBhdGIoHFu/wLBazojLnDHzLibFAUpIZfT5SmC13Yo5eyAtGp5tFXHtdusUx6AFM2ifKhEbbcoqPON4iGsZM50MG5LKSCNTqrHAU1l+c2fTAwBnnvJFO0D2fxlXuwIreuEzG1EgTR9NnBT98j5+j0rR3pdTVUWNmM7pkJHD9YG8uu74r0g61hVhWpgxsg1YjB+n27uOMhKLfLQq030BFcO/y6w902q09UkxVmNr94MWd0Rd8ehnkAggLKPe5G5qdqBF2p/GfdgEKXfvfOWAGjmgEi/zHQ6CH1uYZU6rWkhpQ6NH5sznq4zvQw0gaA8mcfvzYAyi+PFNFDQPx+leBKDiD1wA82vq78/zML5JsJRYkUai4YROvj92qCccsh6kBNnnl5hygBp5HIxMpsKkXo4IBw2VCP7BI1MbPc+Gj954yzjdRJPkc0CbTtng7esDasv01GWbeJJ02r0ZG2hfyUWE33wWys/TkxGqEDmkJPCiPIkNLNfZWPkVTkExGtw/eCSQwidDkD+eCxPZMGpeuNg48+ByAC4a2bVkRRq3JgcGi6STVdouHEbkQxnhjiM3EYXT85c55i23jBC/XRrzcGPrdOpK8OvQS1DDPcsvCUo24mcJBs7x//g5OOcHmzOqT92ZsBw14DYLEFmoZv9W0bWzZYuwfLD5w+GtIFVilFLScXQG3f8NtwCcatoxxGgGx+irh/4eKp1CsAMSVQd1QW6SaWk7k2dTz938XciPCwlhjqZ6TRxDFqJsr/339P2D5Htsj8YIhufuKGqCf46YMo5PTGLK16YOVfPg+zlc8N6b0gfVRDYAAgP03YXyL2TwnlPGH+vtP99/0uJ3vSiorMqMvTBrzICIdwFfMFONS0JWB/EfFz62hz5Ak/yVBeug0M4UK5wPb70bQ84bpZZAxjH1je7m/iTL1noldzYi6l9AnXL3QB93niBns6wD2dmKOlbTW/8miVz6WB5/NEuk+QAF4YMhxuO5FsjYqQ6jeAa6I5DnNhlIuKxB+bPqQN4PH7Df0DJIoGNNld7j8jgxqCKzprJ5RvTxJrEb0gSrIZe0+aeC80o0w02HQxjcSrRlgE+LUQ0RGHsOUTyrWl0R3lxOFfB7guB7l4yZTryHrehR7OT8kijQAMJNxBHKViQFB0Ww77uhbMr1l0q96Qd40Fo4ymS+ix6HQnNoT0CEPX6hKJ7soh9TFOCADpXjEG9FKYAagoMGDX2E96Zq+Doh+btBwYAAitTYBBJSfpKp26IrtQ9FKz95QBYlSTAgPyPqsZJjip+4McIKmbnN6LGLCcgRBO5CWujoq2fI7YnxLy85BXQRA/3R9U1+8F3VV5gbriXWXWp9+qxb4AlAnQXFkRbjsBIr0GayOqF/WAT1RPtYAAaPzo3e6V8LFSJlGrmahcpRvYS1QMf88xRBqtHCnLUD0edbvu53sasIGfr3+3P/9p2JXgdj5vGDWQj9dD79bxS/dzHYe8B6SfF0c05sDp65HX0EuRXmGpHvxFicuvDYCal5QCu/aeD3TvdQClcfL3DuVpRvwgFeSkhoZZPZ0RMbJI+jXDC4Sr1U/dOUSJkVEdzOOFXmduMjxpCkwu2gAKk6VSpvRxwcpFrREy2mGpAx4zhjBQuNKp35KYlXrgQsRWEmpWemA2kzmjMk9P5cjOY61ZC0ptTtJjfGNeYNibmTe2F6UIHbbPybppQ+YwpLlOrI1zplGjs5eDhIaKlsVjlXgSmiH4c+gUhoVZ5yO/tyyO7taLiqlFU6QXoOoW5ISCvPMkY7QwnYfYNvR15QW7Z56A9YTlnG2iCAFuntGXGWEt0pbBoSncq7jZZEMQ5Gx79mZg0ZaOOvH36U77fCWKQgKhl9dqp1pt2jj+UVGTs+Dv5XtBmR3bQfaO+VXkCx/NXIas6AuoE3D/7K0ZRId1QDcuLuw0ksAQiem1UEQtiF24NzsQtEhxep1J4eyfJg6ZO6+lSagxbSIpB5qmXJW4mdedKG7rlvPWkofmeMVrIY12GUiy3i/a7zt/Z6SMK0QfjaKLHvmcSE1lCWc9Jvi12H2a3ncJpBanbmflY1hJ+9YDGytcrshPE6/RY2Kl20apRovyeueE+sxM0XZIPKlLh21PAfVlQT1N3MQFgXM7c7+w7ZY/+ct9mYIa8NoWmlXQbrfuVudkwa7qTEzRNhNzCS90Elp/qG4AQkdZYKwbG5Hb8k+doU6GR3jPoVeMIH2O1ENWisv9RTabR/pKBkM4kSZICHebIyAVf106m3twcHvh8L1V23jtd4me+WqK9DfA5WZaUIsiwTh4u06TXJVGGf0abX1iD7kTVJ95mC0Og0GPvA6VOi0LjSKUPHDdVUc8r31m4OVTkAxXvgZdgxkPJRIKjXlxztA9i315OETon5k268HI5qZJvtcNJ3Al+udSRF9mq0TT3yHeK+K12XCmneVNTIdh6zbQdtmzmJHLSB1SuIPtAGCIIYO4uT/a+2+mOg57debAvX9K1vAxvRHxVxOOxf14ZyCLDoG2FysaLgNfuBUbcBXF74kHxTazMagdImUBR5EdBMf7GQA80A7JjF89BRqkNCNw5rqB4KUDmIh4lyaOx+u9PT0wUrkYqqi5ezoD6H6E1o36dW8XfjZPZKvctg/vghq19L72MuDLPeK20R/cj8vQ/T7QwJY/CDAjV6QlFv0iYdB2Dep11xqvxYeWkD/z+MXVkS/IXe42YccLgxbrWfUjpEO1oNnvhZvCLVukgLpz63lCEd0JM65YZaThzulttx87f98Q7tX0g+pECpkaw/33k52K2hQMjdMNTStr9NSY3neka0G8qH0eFhraxYVaZ9J002vB/bcJ619m9OjNlWnZhxLAm5+CnXqpZ3OSvcSh7fY3od+ulblaZQShQgY2dtI6qwpyvWP+UcUs0bC8NkOjpku3WBkNb4UjWnb7q5eUfWfGAi46/N7DN74XVQYVxg2waYMoQwPDKKvFv/DzVx2DDIHOERmc5zEM6kUqi6rZ1v8ldys/zzj9d1Ku01tBk+HaS56hOvzmN5p70l2HfifuZg5pRqfMjrlaeIyQgJyCHe5fA8pBXd3A7feI5bVi/tDfjZ9B2PizlCKh6QM4SAyM6xzAti9EM9Yv1GFuTzSvuArESyUtfGKlE4fZaPRUXbwF2OoQCAjtH5zE4XARLweP/SXKYQWYfuysCXyZoKJs1WDFO0PV60SRvy7qALB9SchPHOrCWsSd2a3z1+/Vgk29DAia4aVo3/71YNqqNkfM31ZMb7sNEvDeUJ5wzbLwJ6QfQxPMcnZuEOGeqSGW9gmNfKkvJw6ce4XbOSyG940nfV1EJZYFtXIBVc3eLzz6tttBF9v+889ybqA/3olBRQNuZSBdd/6dOXYbD0Qa+to69T4yEPbgmRkmCECXCjiin5GIoTgIqasbr8XdxAhyZBexy1JJVZoNgf7jxs9UDsjcDEn7hRt1g+G2j58bPfxtg8bL6AYULzvacSKleYgijZGBYaui9RyIJD+3xliYxK/VQ7uF5N9GxiRAlCxsw8TXvdKaNIelC8GEcggW+O8KA/3ThYhWeq+mXdMsvBYl0UGcmj5Xi3gBQISvVokUkkfOdoB1zg09M0DKtxT0+53uXx0QRA9JA0jj8FA60bjAe60sktcpenZXiFiyo7gbCqf6cZrc5G2Vw1tYtR+9234T780iXfQ9dpXDeLwW+K2y4rF2ORQWi2VTEwZRSHG7ij4/XcoDPZylS1prDoXmvxNV9rtQw4I4M9ux2dDHHL/R7EOkmTEp7P/mLxqudK1rDSRao5xhqzYnQPSBer2NnM4utDCRc83rBEDfgqB3XYO+vSMyqMPdgQYwf1ltyNOBz607267k4bQVpEuos6J8+tx6UJySDHt6+JNCBNUIqqFN/tsdF65DwNg7Q7Dr81do4F8aAG0QeNRJtIb4sfGmcgO6Z5hosKFQS8pZaM4y6XArCFdBAT1FoxyQilw0hJXDlUiBzxX5eRLnk/RENqA8TYTWT9QDkj5rssk5RDGYsCeWjSPdM1Q1XTKdUHIzlpPqTkDY+SHdXqlGi6GpEP0eBwcvQc7lxEEGDhI7wME03RrSR0E5B6N6rYQ7cyGYPhrmd6FrgyBcRyKh+Wl0PyoSFdZuFUr65+jA6b9zIWlSs1YfhlsdCPORr1HbINK9yXsqGpbeGLMhcLlLCU4bDlISlE+uhbzDnU/UYQkdYtSJlwVUc9tEF5WfSXe2yGYUNQW1yaGcuPBPsjiyJm+c9B9jYLQ9RI0scaULUEOd9yfSQPNbw/xGNEDRxHLwKJLrqMXnj85s7SwNVo6uHcJOTDke+5nvY9ipO5re+Bmza5dDao9E0rggOnMdK42cPrgZ5lOARmxotEPYO+Yf2a6Jck6WUZlP1M+VY7DGENc6+zcljy3cCtJHod5QFm4dGNGp73K1UZB9ZqVjix7T207RdANCHnReWAvSHzc5/XYidd4xi/PzjOn7Cn+jaaN8Pg70MDfsnxeU5xntvLBrWEKk4+uK8MFFt7zMdJimgP3LQTYgoTQLh1TEMBA6gNed87+skeHN7tl/ndJY4BfGUfXzkV+Siw3HhuAJnWhicEEM+TmOzULDZZGYg9Zn0Tg9GEpcGXo0RVT4u+9SZVUMDeRQV6iPvO/WsOD2gn5axDzCGi1WytGAp8G5LleK65Nn4PZxZsC0VvDdi8UD+Y0yBG1zILIVTNfVgmq3vQn+p++raEeJLkFiQ/wmof6VWZWDVo7mhOUaR2DA124omGYPam6eViO2yVtvPBxrMtHJtPhdMl5zRZce38dMtd67mULkD0SPFbjW2cHWMQw/BK6RwaM3xlwxRNybZIBmDc91+jb0uFbLlpsNgxwOuw0yZBm46bdJWJAzD1fKGHGNZ49znQPiXQGPaqBGS57Imh8B0/r1qlftQUxjDQPdq000wMXW3u4H8s0BnYhaPU0mAWka6bI+DMeBGkB/21nxphKVryf0EMwEok52tMZYF8c93tUKCzt/mGLaMdk1jkqq16872vnA61oDnHcxkQlCp2Hs7r7ZmmmUrNK0zlnWp8mdVBqgkjXvKBNpnYNeHGuwyj+QCw0ekgbQz0dohRwKw9+7dA5jz+ir1BKKDKXr1wK/fMD9tRgYoe76gQtWPSQE7yUigBNvOTEGgsggOwCZ9yfdtldC2nDuIZjUDXu0pzg0eAdWTiU7hYa1UkQup5R06dhfEtJ7Zo6giIzVuUvXokfrPA3Hy466TKhHxmH43FCOfF3Ta5GQ3m43UZObxteG5R+b9WlaXpWltXdBYRz2l4TlexFKjdR3PrNajvrCBHQgChKkWg8tPdc2kJ5kuDw6C3X2lTl2IXeJN+AJa/8U4feO5Qdf9/olGA1Zk5hEuuRkySJ0/xqtemj95HH6e4VWj7nW4U5Hmjm2jW6m1mFp97Wh101OZiObqK8bT9YAtTDzjF7ryDR6iFNwW4bfOvaTx/Ja4TOHJSJJpERJhxKRq+eA7eiE2gXYVcnYleWVA3AS7eD64iV4lQNTvFMXOb9VXP/KW2C6DtcxMDSAALB+YgYga6X4fRo9M71XxKsMUTNzs7SpoHuIC5KHgR6ABnFwzx5YPNoEzH9s6JPH5T/PSB8N851DIdyDMUeab6b3zN9/8lj+2BGuO9a/nQCogJ7OczRgfuWmWs6JCOLkeB+BG0idPaZXbvRuZ4uOofHHJDouz6iKpL/bGEaZudmwfZmR3r1pderzhP2Jn+v8g5SJRbesmcNBFEOJhqp3DpbtzMNbPUZqh9eMcCs88eeK/vmAdqC4HNGP4WbL5qjra6N2b0po319/ZYkbLvVlHvSuPoTy6YdZ6Ns2KF5FGZJUvZWKvrAb2BpSHhym7rbSzTwnCV2frWJKEUcnrmM3T0KL70Mc7kSL5b1kATYLq1U6tysi30ANp2gDNSzb33a0g1Dy0sfKBhegPi2kbdcdSAEdwQx8HF5ozvGSHdmSR3rf6OZ2PESFWx5DprQpKTUJiQFh2LGX6KyCPgny9DGiTJr00BIVJwVck+4XonET1Kt7SDSW7BmqKfSw8OI2RQTn0DT42XtKz+Xg2z1IC2ompAx9Su06YFC+zkP7f7tU7ykCCK9NQQ37c4R1EIsxox5oAIFGP3mim+laJOycMgx11ZajR3qXg+I50pzhYKYavcedmHRUKxhXViq2RbNEJXJKTFg9BImYkQYgR2RVEV5XwOFeTGi+A0XC4p2Yy1xuHDJbN4R4kvvcC/rsb7tdD2r6YCB5Inq5EZHm8CcHnceIF4DX6ioh6YFGEHO4B7kXADOQYJb79rbKIdGNKKd5Iu0rw1+fJ7g9oz0deC1J1BOjYsIYjDX3U1iC/vmZKL5zP0k4evAc/AAmFtxXYJn5/TGKsYzon5OOYiAAt5X3uVxL6v7tKsfQYfRPPH6NAp4e6A4LNJWFT6zZmgGm9UI8yfPHpvcimX9ulJSfJ54YhI7qnm6i/SVhVypJ6oXiVYrnRStQDsFEqfuXRajYIk4oXvzpQz700oh06IZWR1yBq7yhNHRz+xTttOpKRznQKbl+jtg+JcmVquMGuxY6QqWWrE7eXFiE2ak1vP+eTNvmxL0KjIiD7VOwQGZWllHnl4/M8GOcCdHG7qkdXL9G1EQkansJpv3bnvk881szulrpFo0iUMfc/N6xvfDUnN6pY2AfoRunIoBD4H2FdhI6DbpVwfx9ZS6gVujoZq36Pxkg29sH6suJLS7XJnStuNreqadTnUs5MFoCECNIBXrkwAWhYtU1q78THF3T07XbcB025voBsJBYXSzDRvG4r3wNDI0mjTxdKu6/BeSjZ1uJh2y+NJO0xNDlkDvK0bGzU4wQGi8DSOVbBfLJozwl5BMH8JCbtWAwi6v+tJntT4yq6dFh/X3C9pcjPz+hdubXjCTO83Av6MkjvW6mk1LEIdxJje0vzG5rkzckXfWILfDQFbbKaKPazGHscrOsRrbnVKF5GtE7QWkgcQ8aodDmiHDLzMySezz9uBM1SsPFr/RhO8/WQFJfmCTQUuDr+vbBE/SBHav9JL3Tcr0BGHmAf/Yhi25/vzC7sjWrjcJ95cZ/30wnaJ2fzhFlEGSha+E8MFBBiYtA8INaliwyqOA8l5+iIpzog/w9k9qyxhFZPMSVTRQkWq9wn+IQ1Uu0i7ttsGaE1uj8lVw/hnpnW8/H7xeMOvabbK6loSUOi35l2K9rnZ+baFJdY/C4rhs6CPjcED9IjfboSN3eKnufO12x+RRNj12WYFo5X5jQUBc/kK8kVLdElKhJzwmdGlbKR3wlYhhX5tNZPukDffho4nAa9wHwc1OtnyKGwoA8dgBrPRx70WWvDApeKAUNHvQ31TF7aUchTa1aPY3iUcd+vBarj2ODSoE2/mihgbqIh86ymmGyLpQz+dokeo0h3XQXN8SPLC5zNSxWDvCyvzoxoui+HS87vITAu9oZ3B4I6IR7wfSWEa6in2vd+ntdacz008iX1hkF9ejAdiKvCE7kE8G0fm4vNH+sGf62sj6xjCgYiMueCH2jlEI0i5gS2vNxUPsqAVhG5R8lGUQFUSuwbpR16D0rhxfeNJXuYn2okURoYrdlSwlAqeYMty7iZZYuYg2bJvLoYhjXmfOGuLrg4ef5/2fv9P+/j1+jgKfEmhPnUJ4X0r4ezOnZivX+AVxQWvK8SPYmOoQCzRLzmzpy5M10ToTnhJTn75tpO5SuLeeENnnk50STR+2YXnfTNbjWsX89IN4K0jsX37pQl5cu/H+/VqRrsXfD5SbVXN7MAulS4WtDfiatoJoU1erVxVlrRdgbtt8mWvOdM7dnvPPUeP1bohlFqNewk8q9/TU96L74GubXakOh6tri2rEIbRl2+X7J1go7h5bDPzPp5RvDTrnAgB3AYwZBushAO48svem9ogramA8e628LYyvWbbgY9yyn2krdgnYBa0aR1CaZxqn14aQ6LD9XLNUKlyL8uiNdVcMBUtJn6iSZkVilmYRmm7g2TB9VInz4PmlIdDmSGm9BAp5/NIs+YIQOrzFfOpbXisO3OmJx7ipG5wC2fWJFXrw1i2GYPppQzcyDvP1O1Hh/JtKqbQeHPxqWb5mf7+8RvmAUuAu13cTQo00xNXkRrJO+yU+BXZ/BYX4lQse6LCcbhrOaQpVThHuW63Vip6/EroSNi7Pfiulj442a16ZOeaF4461g/rbKBg4xl8AiZfzO4F6lrPIzB7U2s5R9emM3qKtEAupCV7CGFZcTM7zCZUc9TfZ6vNRHudJQnmbbdJngX9DnwEXeSVyPnLQBwL1feALfM69Fddf94sPFCDdPjC2a0hBzO0cdkbSBAEIFZ8bXWEexnOa7GkMehrk+kVbukleGKDVT2iigLSeaD6YHsFwYPTEJI6Iidg8OexJd0SUY1zLaVM/UgHZaSKWJEaQdIlHVtSB8bMZooBEdpP4KDOOVQ7Sa83QYhOdAGG556Pm8G6YjoSmHi5guXGo+pRlK9WQi12HFmFSCbkI3Vx5k8kuC5mdq0LSXAS9dysNg6A0RqxP3FR1M/T0z5QCAtRNpnJD3Rvs+DiRuSkT59p26Pz0gy3MA4IFYN+7Mgdbl4azVqBc1hCi9zRzUSjlS6aZX1N8dHpZ+oWiohi3r72kSJ8kDZZanN6o+ZHH6N5FoiQs7igxL9ZlKzdv9K++7kyFOqWWyXt2MTX4vZgoBIOkbBIrCx4q2cHhqEzP/yOJxXUFr8B8r3G2jGWRO/G8AfZmlqWYnQlf7WCMOsx2IXO1wa+aMolIL/Uc+Q+QC/37jfaVmKplpdMAzhE+/JwSi9KrfW7cBjOgacN+49ghSrEHy/SyxZ5o1KVE0Y7hzlH8Ez+YReb193XhNtc59VyVVuVCm8AjK/AcfvzQAulzQjwv8xx3xfRWY1TNbSnoP/cagZ8scqmrBloT8ByQKkAv7nhE/+IGrW6uJu1gjXcI9w4uWL16LaRAgqIVmKTVxQJpJ5FboHhZYuh6iuXmZ5C15buJQ0+iN/Skh3Bmw26I4KlfGccQbTQvo1Gx5ydYbTScO+SmgTmyFUPosiqtUs+vivaEFx8aPg8f2KYjOpZlea3orFnsS10azhgyDzBLsWL/y5F0E4rf0e4kwodN1LES+0GQxv8tgm1k07rogmzFwMTss1LpIe4fSvyzx1sXRo91uQ+uhKfi9USStlXIpUQfYOkOmT7MsLhRJ+40h2fGu1Xqqc4GZXvLJmyGie2D5Xk2LB0FWLfG+wXSBSmtr9pVrjMhRjZ+rLFHvHli+VYZ1z3T/5iMppuM/MgvsZfAO94bpItdR53uu9G3YGVGjifwAsH+eWNJ+71LVVhnl8qxd0kIrJyc0Gyx5n78Qg8KrtAF0R4NHPUZsvx2wPyUpiZf7yo17Yv39gPVrYqzSvViJO9Qh33n91iMPWEFChPNzRPxxZwTTKSHeCvJTgs8V6WPH/PcLqeN5oAL1mCwuRjfcNkcs//YBy94CGYMoh7KwVUOIADUlyD0sQywNDtKqoYiNnL7dcSEiPU9wx+OfW9z0oci1Ij6lot9XC3R264YuWh8uWLIJ6PAgdXHm8A2eQ53qgRQNfNAJkg4r0hPKeBkAsqFW9KNUcIrOD0JB0bDTB5oibIYK5d1tI3JoYdnevs7fsiC2DQiOaMkD1eZuG3WAmju4Fro3JWWB4vlqn6WJ/sX17WrH9G2VqCeliWUQ7kC8aatMGAi43J9xrdbEpA5hXdtV/+dVR741adogQp1PAfGSLQki3YgwqjPZtI/O22HBRfbZW9AuwLUuS5qBlwNxa0Y7Q0Kjf9JkmSnh50NIvBZD6aIg5azqpIZxeqNMioOxULeOB6Q6U1dZliBB8dI8VQiIdEU7a0O8F3sPeWiT4VHWAvRusqZ0pfu/J29Isd/4OlQrqGyZZkYSaa1mOmtLJJqq+ZOeCSB+K5LkIZ/rFE33p4cTt49DEO/vwtabozh8nYOTAyAADn95oH2GrAHDgOE4C5g+GKAmVvW0qt2T+9Otu9HBrja7Z/syDI39+TRmmVIph9Ju4Psqg1+ztahLPiCaPF8uo0XG2oDqSAKQAHkXRa6R0njtwY99tlOzCtGu/tnHryGA1lcZrIsyXHeECzO9/JqRn2eKXi8bpn+y2JaoADcrAAjvIu4MLKQvL7OdNtL7jvS60VnWibgxpVzyAye6DNsSzERSk0c5RcmGK0bRudrQFr5ZGjSsNHO8V5QnVlHN3zPmb5vRtuFeiPQdCM+rjkTr6+K1jMFUQp+jwOXbC1GhsBKlaYEu0XAnWhrWzrw2iTKJ92Yatbh2ST8Htq/J6I3lGwfffAqkQRvsBLk9B+xnLhq+wrqDlzciNusniv23zwE98u/ziSfQ7Tnw/d14gp5fKwO968PAp8jd7U7kT/P95ATd9x1+nvl3mb2pvdI8YrEKjxvLwgL68P1CRCsyaqDNfH/rRKStRQmDXoX6DswoTJcGv3cLdY4rh+E6eewv/H3WTzTe5LO4gMUNXKURYH8OZuTR6iTSKUqhgEjwvWH5zjDZ218T0qXw8xOklSLt9hNlW06B+plITagO3oNaIa29v/CznN4K0psMCA5Y/uCmrgicZknmo0eRg0oXRGD+sYkrkJExVpO1FUO8y4GuQ7bYeNu4aaLixlrOSajYgPi6mWZv+rGjPi1A74ivm0XLuMzrok0R8WOTAWT0CPvcSOs4oKXAliAJcy1nRm+YC7l2xD8u3FzuWQwJZVDE0knb5oh2TBLo2uwwinnioisarF+mgBUZKIJ+dx5YDAl0MqA9IAB9SkQShAJ2ReKm4sNgY5oekZ5oXESK8FeaX/pxwaO7mTolQUN6R3s6GX1lQ7AOMdIm0B31fy5XyWsVpPW2wl9WDhUn6pC0h5iRH3KQ2TJlNAtDpvvEuJl2puPc3/j3LktaQIM5OrvIc+Ad/F7ExV2G21m1YnJdaJyQ36sd5PNZ8uQkW1YRLJUeWJd85vBUDoFOVbmm5x/ZHLVNjGOKYIVdTF1dkRVvCI2uVT0Xft7ydy5FQfv80Php5Z/SyGKYM2QnBA6UrZtOlu5/jToDopQN6EGXkTbBfq/0sQ/ThgOmd/bcEy2XfUIQWR0SLSNQKPNwJ5r3uP4GyXf0guoHyX7U61KlIV4AGzhnjILLdPla9FuTisHSpMVDDnGqSw2O6LFKgQoPG3AO5eXA+3+TdJDjgu4laqh2+gwi698YUj6MORalJEOjk5w8yGEFrRGVEyTQ3alNt33twezRl2kAN1LnqLl+bsuDVciFMg25n5mHnH5+Ps0P9W40j5QyGLJ1Q2+NBjMn64NzRBX12inFDiRsIWpAjIb+8Xqrf3p5+5+AAM6on472gbZDQpsZ5twWRkzQnj8WqaDVbB2I14wm9S/xbUP6IOydn+myC9edkQ8SUaAagp48oymisxNgOUXsXxZz6FJEG8Xp1Qhj6w2Shp1++22SbCPSteUU+XquPF2WJ272fu8GsZej2NRbR10C0usqNy11ZOVE4f3hW2FcATiwucbNt5yDlHfDRPX7E19XlR7M7YVZcdsn3mD5wOaQctQ0+IGIdgdc/+pRJzaCqL7N1Y75jRdIXNmCEe8N00cz04lS2Yd/SvCrdxZ4XA+yyQmS0jUIU/p9Mc/AtvH/AS6M+y5uKBkCtUbOMf/PLTPRmWkCcoY7HNCOCweESGSvJkeTxUfl63ccotRgk64N+zMbOJxce9Nbhi8d27PHfqIb2BXg6b/umD4qTv9eDU1U1JXB086uo7CO924/i2NbkOD5exmGoEgKVuMTuABj0GYdYnCSA8FdwseDw/LPnTrBteH2W4AvwPTBfD6A+X+asF9nj3SR/mI5vcdbw/KjkLp3DkE2wf1lQn5KyE+RTTl3aoXagUHrzNlsSG87Dv9+E3SXC3qdvSEz8V6g4bv8ZbtlgZUTtT31PNnmUc8TF9rouTiLYSM/z4ZYUjfE9yK9c2DqM+M7/Jr5M1Y290C6acvTzPXkkBDf7vb92jPOYnQOWV0XT+c49NVKN6Yizn92jVNEL434CAA87UtZfI/B4l1QKt23q2wO0pbE2rdu4flOBejbPmJddOPSTU2euy/TQDkAmL5QNxrt55bf36JhHsNsM40ELhNtIHIqg9Q9W3NInyLKy0J0sHe6wKOnTkuz1lJgDzNAtqVy+O1zJD0PWOewJi/o8NymKMg2nahtDqYJ14MAv58/K32ozrCLzpaxRoBQpxIz0sVoEgXpanM0V7JmxfpMF71SqHWRkPK9GLLSVdAv1JzpqxRdqtUcmuw9dwOVUamLd+gqfVG9VtQIH5oG48duOleVFKWPTNq3dzOLAJB1QH4HSQRgZzZRPoDrESlbSRbwMDqciCPX0C6fg78NPaqWJ2gLj+r6XKaOGLqmyUO1wpQaiJZThn79LIbpq4yQ89JY6SaRcBor1CRo3ItJqHuCSRBQSd//Hj3DoGuVukJxzqv8QFG3ORoCbWi7H05mZHFyL9OQiKhuV+85iZPS+Cbt71btbt936muXh1B473gwDB79eh/PaWik47D3UCnopokyKn0dpQ5DiaCAvXeTFXRZZxT9Iyjz5yngX8tIuN3pgpoig2Rbt0Xa7QUeRBx69MifD2OyXnhzRgl+rYeI9L5h++1gdHFszA4qnxZUKa3XcdXvBci8cKa3PDZGEcyGIs42Ff5eM5q0h+QzBzvtz2TVGwOb00fGpBe3lKOr5pBif2D6yGjB2ynNS6hvDwcuLnLKZHaaVModGCESxEQCRyPL9W8TES0vyJ+2TDT+rMO3yr7XMvp76yyZgKUDkFy4mSXicNSnKe2XDyP3DgApyslzLQ6jF3f64DBVJzqSAaJj6cI2CeSC9vom/b2F9ViasVYKF8KUeKEuC59CqJBeChMYpok08LaNaI7KU1O/3uA+PRkNvqeAkDtqooZl+5wwfy90uB5Ia4bK9yPcWahel2CUK2ltQeEiNXlhrTIYMSW/Ts5q91p0aAvgK/P5ogxqSvHWhTTr9iXCVRBVaB35rLlnzUTpjHmQ1o7aTVvjesf0llGlz1rrApfXZiG4Wsfnasf+FJAeDBlahTW/ZmuzOf5dqMHS0WcnOX+y0cnBqx6iGK1gsQz1ENEn6gw1OLoHh/w8USe4N6TLjvKfTigvs4i/idAoctkmj/wyG5pZz0Ovt39lVEu87FYRpfea0j71yDgoPheRqXDdTRxOjSwHSf+xor0ciZpcd/Qpoi3Rgon7YbYBsx8XuMvNTs2q7fqzj54zr9ciTj0dNHWgU/2f0kVzsoFOEQmLj9j2UQ8laJ0ihSood7oB6BCiqOMqGrPGkNp+YIaZhUkHybnMo7aKzRMyBAplDO0wPUwjH7AMM5PbC8JeSA1HPzJWVUfYYH8X3pnPpo/yvFi0R5sT/J2Ob78S/UEHulSdeYkMsnB/0YoCztZIODbQtCXAr2QjWEFXge7guh5++XUcRGGyjhokR9R31m3ubKjQwxn3EnmPayXap1RiCNIM4mz96vs+0MDHLFR9aCSKd3CeSRaKEhpdJy7mNgWEe8b2fOSQdtnRnUc5kulJH5nvWSXAYPrCRn17WXhd+aI5gXo47mjOC2ultHGQ4Y8HXr9VRi7J0MbrU97rKIeoxpD27h2CoKnhtkufb4NTR/NeSPPujA5S9Njfszn12xTg8pAI2EC2F14nmZEufZb4F2DMEXofxkgkW6JgLEh9SqSKpxl+y9QLZhncvHvI/Jug3b79uAxaVQc+yQp0GiP1EMHUZw6KfZks19NJO4wGz9s6sNPo4c7DXGL3eop838Tdr/3h7nLjPimHjl4K90uVfqgppKpusAkFTA1hf8gi/I8+fm0AXGazWqfrhvosxevC/bc5sPi5iCupNOxf+TW+dsR3ihtdpy7Ia3NHLnBR/nuXXCVDI4Dr//OM5TtPUEyCrwavx6tc+IURNGFn4jgqW0fQJZNqChL7Ehgb4x3KMVoop0bH+J30Y1gfaDJxUvbGm8WqiTI1HQwv5onLNW9VOexuJNJY52CmBK+9vlJP5zyk75VDCOvOOCQCkkt30oWXrmDAI10b1s8Bh28MPg2bk5gMybeT5yiLZ02cfH0+Mw2e1KnD9FHx/r9FuOpwyA1IEf40tFR9XQlvTweBxDsRPu/hX57hYuDGmYYbs+87kT81STnZuHIGnp54muxdgrKpl3S1Y/uSEDbqefbngBZghpV0YeRNl4GvHANDtWePFojwlcUjXRjS7CV6IkjZOjuHOVCnG1+n3xvWrwn56DBdWc9UFjp7mwzIKhlg2woNHNMHdUVVu4qjw+2vE8LWrcO5nCI1e2u1uIv0UVAPAdN7xv23Ca4B0yXDV7muc8P+MiHexVE+U1LQnYeTFgANh7bKK9mENDgXkLBokUXk54AWIuJKqcHyjw37pwnpdTdRfw0Jyx8rigxqaLxvwp2IZ52ki1s28XDLFHYDQJch109ok0d62w3VUFpQo0MUIWjHCdvfzhY8S62RmAVUD1O7XSfhndoaHf7gHNztZqfn/nQC3i/DoPRnH84Pd2d9OMlrpItEQxBlo2NPjR4qIH8c+pw6/3RD12iXx/YCGWD4BTIAirHETCIaC3M62LBJdqRZBFc/MMPRlWbNAu04m46P1LGzCI4uJhJNdOgNA1UMwRyszCvrw00sCE+87HJwJq3fC+UHqB3lLA7tXULFQY2ZxQ4tUmPoYRpAL5IdV7oER6vmjYdzRd7VCKHtM6qZY/MN147H5zATipOqOmEyvHccAuWwyhfBwUAzTJ06exXFUbQ2BA4xIFqjncx4QG9QaKYIa7NIlXgh6p2fpRln8kaNtuCBCEsGoEaTTxU1HFuQT6XG6yxZg4KMtuipv/NqEhlpFO0QEd53yiokvg0gLdwlNibcRJPWgbZIbd9CRzPNJ9LnfOf97x7RQtH2hSwJGXOwa03RMR3a+sQ9msMSRlyQxhcJAog0y3oxE7mV/VwpYX/bjJZ3uaOdF0oTHtz5btvRw0K0T2OXgjjyex/Urzr1lerVJUGd+/r5P5jCLBkFGIH0QgPrvW/fL4Ms5kmqJj2HvBgH8peSRKs5A1X4vVK8EDzcYyj5f/DxSwOgLjD1OJFGcA6+VritAaIT6N6hfJox/dhII3QgSTdweZlNd6RUZj3w+8opYnpljpR2TfbKTWN686hpXLAtetJKkTdrPTMc2leeoNoc4DwpJ2aMeXMbj5ohZ4tHXTy0VofDKSu3fBk5cToEMPw3Il0Kc6UaQ3jrgRlNfm/wcSTYs1OYN/n8ThHz/fcEXxzSBx1gLTlxAHPTDF5owGPA8j0zJiCwIeT0bxnhJYr+xZuWUANRNccJoLGhzowvcZWaNF9Ip+aTN8RwewmIdwDOoZwSyvmLOcPakhDeVnhxf/dP/Lz8nlF+f4b7P/9upyBMSYKew7iIDf4OfFkxwsWA/LygBzpp060ZpbE9eRz2jvws9XorEU9fqMlskQNw2GhE2Z/ktBuYcTgqpIB461LR5rB8r7h/DdifHJ7+bzqMy8Eh/6cJ6dZw+N6o3/SBkTHP/D3r5NBfuIh3WXiX7xllCeizZ2C0/Ny4NruOOPQxi69NfK5YiF6yrop90PHKPDU0xg3Vz85igvaXyODw4wh7Vge7L0QkpzdWODEeg5IDujyJgpZTRHqvMvhSQwXANlb+D9CixHoobQJYLpxGUShCEdbCUGH5/vS2yr0seV69G7oYLoLyzUqteG4chY0Pqg8O9/yATki80xwR3lZDq+iW5WtwrVIYfluhaf5IidEtv/IoZVA7OqClZBSv06FQKKB+XODer7z+1ZEosSemLxJTmlK5OMzcXHonquU9Oobu9qc6OEUIASIZm3QK64aUIroT3dK6W9is3nf+cufzS35dm0WXN0UK5AUh0Voul0kPu9bgtoZ2GmgrGilGOPa7w6K0YFpa1YuhjzgRHYQVbfQ52eBSp0ijniDLOnT6zDaROosbvIjOWVA1vT50IAi3LIcgQb7EIWuI9XHUzMVlJsq37oAM9igVuFCz3vcd7nCA6w347Qvwj2/mDLbhTjWA6saWZhEnaBdEA6rgArW6xeJKvDh1tWigSu9xCxKmLeyCGXvUwOZJv2t5Ap29D39fOQT60lAPyXSCfq0k1KJHOUaJiOGwzoHQIb6vkv/Igygif482DcNWT8G6vVv0cBIa70UHyGDzyCiWrYqbnINxOyRDbWkoyT/Txze5x1pDE+OE/7jxfdfhbyIyiFIf7pHGGCRxAptG0Hv0CBhFBlAPKAcsQ+HlfQZgKD3RQCLvLovkQQ9qYviy9WFKozd4nqSqEoDvBoRANMvucuPXxDA0ggB/x2VGv974OmfKpvom9ZOHBbjL3voLJpBfQwBFEBqupFnCXRA2T5EvTwWMaCEMrDC9nKYbED+oFytHGfR2Qua+MDfK9Q6/8uSkOgW1xPfogE06Dz/NDxe8Q0CzDKr0vouGQvsG+SHnp8iQzTQuCE1Ln64FQJCTJIcv17hRbp8ilm8ZTSji/CTuzM6fHe/UEqqDK94rgzI3VnylrMglUZ3pXRLwcwdAZ3E58bUqhXj7S8L8Rjq0e6AmVrXd/prYgrGRctbXyuxA6gmnC00dNTnR0ZGW7oG6wCZOYsBhP/N5D984jN7+xpNpONNZnM8e7m8zlm9HlEPA4b9fUU8T9k8Jf/y/Ev72/0mY/nnlyTQFeHVmfnrmxny5jw1QT1xHGgt8kQFPsg9dBcoR2AoRS63ti1tDmRmATUe0DoaC5l1FWD6x9cTnzoFxdmiJJpBy8JjfG+Iq2r+NCGgXql9jdsrssPyRZUgXBPFSBalwcMUJdSOn5OiklcOjwclrli5m2XD0IFEPnt3Aa8H624J4pSavyGum/nNCPng8/R93LJnITksecaWph9rWwN7Qu752Hdg80YbJo/mO+XUljbpLrEPyqGdGGjDhn80609sOLJELuLTCVJFt1GM0PVYLDtP7zgGud97vM6mQJiHB4Uq93ySBwm1JcIlUT3leKJXQcvlbJkrgnbmltbfTA8DKv3eb0jQBfQ4If3zIkOPRzweGvAqq5pbll5Y4mgMesr1U7weM6xggguAcaRtZzB9r2/oyGcrXl5koxJQAoaZYYUdNIVIU0bo4jIV6wnEh6vegqQPwkFsmG5duWpVog+q+0Lv9HKfVjKLZ4vOIY1mQknaMcJ2B03Y4KJSaWI2nar9E89eilzBgZsG1xPdLtX2oHa43+BtRXxp/GsLaZdjn4SmsxXR8/Kw9apRcQU/qswY1H0BigzQObBiQUDtc4PWr1WRwYIHARKR6+9sJYTtQz3qMRCnXAvflSQw0w9m7/5fPmJxjILa4gv3pyIFg2/j5eQefEjdr6033Nvh4uX7K02Ruf5dH7VsPDvEj09j4UGTQG9t1vJhnvOja/d7s8NWTh1+roGQJ8Zolj1GYNBnem+j16hx4v8v10SWCyVeijVyzBCmVz4qNVx7htsMDRI5FLtCSDN+S72cmsynCXTPa82EgcavQnikAXgCZdYPLgRWGbtxfqj81U5b348/sw8kDlV8FhOhDl+m2PCKXlA5Oamgpg1LW/E7AwqHtAKf3cAzm2P0JAVTDiXf8c0ERzfhyPIzqxl0GODUTOcdD6+1GaVXlwc3FaLIEKFJ4Xw3p/Cmc/j/4+LUBsIqA21EQ6q8b2pyoHXBAPU6IHxu6m3jCS54uwdqtaWA/Eh1MP1aUF1rG9y8Lg20vO7PMzlEoTTkdzWwU8TsXHDggXLMNjPEu6MyVGqR6jDatxzfqVurChpJwK1j/skiZNi/M+Y+duotOlAVCCwOwUF9FAnkxE2nrGjkDZjepGJgasi4DV7P0++5Ay33gILl+oWmmnIK9Hs0kDLmLk4vDnDqMvSBMbXKD3hCjRIvOhqTlR0NNY2ONElVjJp3W4aLD8jbQwdtvHvObomYeNQGu0Q1bDoEuW39CnT3uXzz6//sN39+f8SzDLRxQ/gtbKrRcPL2fjN5IP1b+/t4ha2xJYDaeIpPpTjNG9zQl8L+B6dKwn0h7awWc5vcZygLpMq7MFGTuooML3Yw2rtMJHbdGLeiBSNku4d9x5cB1+FawP9GV1yX/Lt6Z5QfHwXM/i3nkOYqbu2KfFNEO8DuvTQsdF31f/TTD9Y777wlxbUAHgkQCLd8LysHj+l8WxuLc/kV35Bzio9O9dA5LvWP6QXRo/7KwXu/rAdO3O/P1PCm23uTQpIGut0IDFoD6dSGF+84N1u+FqN51R48znHeCqoubcyYyXYNHuOzoc2DGn3eIP+4onxYzb5RPCw0sqxoLiGKg0JQACNslYnGXKyUmrcP3YqJp5tU19GlsFuoK/tXFEQCz/3SRV8RONWAAXceJg4q2fihVaw8ZGq0VxEwYgsDepftXxeSiDTKaSShfBI9ehTZSgfqUWF91XODWddDNwEAS9X08LUL9dmgANF/f2KAQHJe0XOGEWldqT6k2tzXSaqJvdIWHgHpIzHltDfUoh/etGJKrgvyeJDXC8V6t52no+DRjrjR4CH38aab0YKuGFhdpjHG90SEZ1KwlQcRCmVLP7VBjQLw06w0OjYYT14VinjzKcWbs2MnDHSLvD0+0rB6Y9fnxXxK+3k7wqxxst4Km+srn08hKVb2WfA48uAmNvRaUpwktOKR7QTt6+yy6YwySDrCuNso9RMut2ZptjnBl9PKi9ZFwsQT4DYBIRuA5bAKgo3rnZ1IPYpRRxM6NNRENPFypKxhyiUzM8uUXKrXkjcHTmkB+3nL/bTvcHtCPsyGQZgJ5uD17cHzPVA6xZ/TTwiHPzHVEwdV0aEyUJpJoq87T0QZNaL+23IuPa4Kietr6YUYvRduTzA4yUHaRYPjr3aJoNAJK9YPW4AOMw9ujw3dKwJaB6kYjiCLFANkxSRnQe50SGDW+DXYAwP+oRf0PPH6NAl4SN5PgEN53W6DjjxvKywHhulpyvN8ZGmmUgOON5cTs4SRpXBPlneQkTd9kMMxECvYX0UrMwfQQYS08kWgoZa5oKTFiIjjm+y0BNXl42aRaoo6kr9yEwr2gHgiFa8VRuFWLTchnDgQtEZlynRouTVSvBwqk1ZkX1or8TP2aX1mMvn2hHonRIxwSWiKN2L3DIrluvvDvIRSj3xkQ6prEiuykcsvicPyjYBdHcbo01MUJ+kZkrEXWnDFvEGiQbMQEyZ6SirLERWr+wUFt++SRrp0DCUB38SuRzbB1rF8Clu/ikl4AOOA4Z/grbJArB4f7V4/zv1esX5PoOBMH+L1h/3RG93S1bi/BdIjakFGngOmjYflRsT8Fa9OYLg3p2uAfaxA720CCfzBTiHEinxgIvT95JKGBW3LYXjz7gF8L9peIkNiAkiZngo8g/ZwteUwflYHfvRlFpqHeYa2ISQaaLrRr5P9rjdrjaw2bIMlrw35mDmAUDWj6KPC1oUzRWkvC1qFdrPAB+0tkHeESUZ+o7VMNpNUtHgMO/3ZFvFJnCAAogsYIbUYphZMMMtH0SF6Y2xv8j/LTQBHWIgNZs+7etgznYLjtyC8L+suM+LbBV0bHPJa7QxzOXWJQIA7lep5RDxHzjUYPr/VuQqspqojemQ+Wia6104G5dcHB3XYuiLrQ/8LiCICL9UMshAPGBiWnd7fdmJF5vfPnnQ6mNcKejT52pVrPr6F3MfwcVeP9QJwk+NkczrmYvg/SbkBEYxraJXAj6umBZu5kXdxtQ184pDE3DeCiJZ+vvFYLd77LwKZ/DwAB4+sfhnO3VQSV8tRuhwJS9HzN9TQTWVsZCaNaNdSOuI2wXq2oaynBea6f3Ts4oUub5/BWDxG9CA3XgfR9pelA6+XkoS0gminY5N7leu4R98K6wUPkHiXOYX8fRQZhqywzmIDttwVhm5BeSZH6vaJ8PgiLofdQJVoqr0cf3Tv0znvM9y6mCaBMlDx5iW9pknKBNoAP7TRuB9Lkbi9Gd+vfOalS03xbPXAx1UIOVguv6XjJcHthb2/yFktjSKAYddi53YAEkVRFKXoolunr10xdXmtA5mfYU6BpI0Vee8eZ73tKcu/y+qAmsEpHdYTXzy5RF+jEZOHugohrBmDwqF/ORiu796shb+5OWrp7B3fd7ZBmBx39GYrkOWdmD3fna8Y0dIHQ729yENOAadH9uR/vXA9SHB3fzsGhjINcqbZmaF0gND5GAIt+W2UIfihLaI0my5xpIgGA3qxEwRI4/sTjl47H9TgJlNkkW2oXKzkXkf23k9EMehFruGRL1BN0mXzL54PZyOOPOzP5ljiEpaKHS+87aeMmaFxm16lWBXXJCvOZXZZN3nzdpB+Lp8NtlFrXJZrRpAeH9L7zNTpYr6kvnVVbl2KajPzM15dPhNKDIDzlxD+vspjkc4KVkGcOHa7Q9BBvNC6sXxPyOWD7RE2f66wrc+IEy8/sZNUgz+M/i8SAsA1k9AdLU8jWhPr0uEsf8PReMV3Y89sCNW0cYjg47c+RQ6QfDuL1U8D8ys/4/iVY5iA6kdD9iUMWAJQDUbhyoDj59I+G7TmgSItH9w7TOyNQWiAd25JDujesX6jZ8RII3SJf3/opoGoG4psMpOLMXT95XP7G7MP5jRVuGutSFtFTvhHdcxUWEk2EVTp7xSVdjqSFKaiW4U+6mKu2rWx8bzfJU0wXZkSGhxL3NjtqZSSwdv7GDDzXMWKIosPhnzQypQu/N16r0cz5GCW7kJIHHeK2rxPNI+8V5ciII+0A1caENgdDRDicsRzel4b82xH7y4R6Ska9Tm87tMhdhx3/QLNuX5lHV+dg+Zs90NwBOSABMJpw+n4nHbhEbvobXaB+LyaGNkR9jiinhHqaRQfUTIAO0LTQlgn5Myk6tI52mtkUIPlgPQW46x1uFeomDsH3r/Rk2qN3VkBp3h8wTus6CCriKBuDbiqYp2FMETOL2zOHRXlu7ezlhUZ3IzVtEwe9LRt92x/yABUx1Ho4bhhedErFxOt8Ixu0S7V7yi/aIdmwpW0I+r6jgRuVbOS6UzipmtMBW4cAcoFC40kVnPU0lyZifke06JBGYkQne4PWrLcVEKlApbFDK+OqXMvaGhU/dpoUAN5vx/H6tWpQX3dYi9Gp6phVlJDX4UAMm6z/Ljc+j7AUfmusomzch+pxklgkDqHlTJOEVpuyDm0M4k4iU6pEk/XgUU8J0+uG9LabLAN4kHE8tPiElYbKcM3ymnhd1WOypg51SYeVvbrtQLe8F3CkzhoZxH2uHR5es2k7YQaIplKQ3q3ij8gpUF4OhugS5Za4FzUZAeJ47YKUy1C46eedx32aAtxWaOIQHZ/dY5HxRH2ZhukKGIcUwDR1dg8dZkNQtcVF23lcbT8jbiHYvYnepT5RwqQVnVNE0jsOiAD//+NKdFEaPPjaC+l/be7RaCE58PaFUWiWC6oSDs2PlHWr50zDJUBK2DnGzwQ/dH+t/6/rAna98wZ04MUuwu62RMTLzgtl1+o20V/4cVKheFT0GaKLcxv1AtOPzbp8IRefxkYA1Cb4vQra5YlCXkeOXTmxnFp1CxqDsX85cIP01EK50pC+r4T7hdpr0aEeI+rBY/3CxSq9F9m8g2kyAIhm0GN+pThfKQgr2RaNhy6S7OblgGLGlzkYYgcHQwa1CQIOrLiTaJP8HBk8rLSve0D59i4VZc66MOOdfbZlcSinQOq4KI3KDtvTv28MU+7sKlZ6UmnVOlOPOH/w56SrdsHyWmgJePs4IN6I4oVMZBEdOPzBBYPicA5v+RyQLqRv6XB1iDdYEwedzHyu6dpw+ntGvDOWxsKgJ3YiL6/8mrB3TK/FYl4sLFYMEpqBqIPg/F4Rt85wbE96uSX5bB34Xh499ZgOWL8QBb7/FuV6ogHItY7tU4LWO3UvOr7Sx2Ywcbh1ndcuhP7qich1XYI1fig9HNZm7t82ecRrxfyaMb0XShM8ByYVt6ePwuskN8RrpiP9QOfxY82cvq77fzoRJV2GIF7bBpjzxWt8/rZSiiEHtyYhvvCSIbhEQc25mG9/OUqAOVHFKvSgOlLrecL2RcPeiWpqRhdr6jiotNNsw6UGTIc7N4/2tKBJHEw7ROrqVJ/zfOKmMyX8awvDf3yRU5prtAv0OdF9m+KghmMYaKEKwpUSao00mDgANVDX3Tcxa2xDJ+ScIQs2cGon6ZbH5qXOX6WgHl+LDJsmXn+g1OC95Jelnw7DUK2gDiv6c50jqtNANE/qvNy6M6PxvIzmBzEotONE5Ejr3hydo2Et1lWM3hkSraz9cUI9zWb40UcXYx8A+Fx5+Ffa0xFt1M5bv9NA1XXfEKkJ82JlsNqHHjFe2EGsB/1w4/vt5XDSvZMYJQ7AZEzkI7Vkh26DBvMzeY/ptf/INjUJx9ZOeW3hqOqmlp+rQ5bVtAk4kc/M2G0zDVddsgGNrZA2F79zEFM9ZpvoQq2nBI3ccfqeyPvoC3WPbEaRvU2QYJVyoHapciU65TXWRQ+AEwPe24kSE1dFF3qexbUuX+89JQi9D0ewp2yiHyY5WGRraTHnsN6L0t7hP+5E4C93DmXy5+aSl4gXvYe03UNDyO3af7zPQxiO4BioyVMQaZmM3qcT3A+aX34veE9Xr5rGlMJVtFAqGqEtSF4kHXsmwjfPI6JGjC9aT9j13gfQ9/xzU82ffPzSM4Q/Ppggf1yw/adn0rx3Bjb34Eg1yEVdTxP8Vog8rCMPyO/N4OToHUfS2oEApI/9J6QAvaM8TUj/vDHGRSByonVCQd1JBzfJSQo3Io7T247ty2zOR989ytM0Tnfa0QiIGYM6LL81lHPA/pIYovu6UU/hmSXVEqf6IBmETm5agMNAXCuq/H8+R0Rx6bZJatoyN1w9laJrantDPdCNrAMtwP/OB4fDt2ZOTv4wIlhtdhI90mxxzWc/atD2jnb2mCUHa37nzymnCa4OZIx5gg755LC8VnMw9z4W57I4q6CrE/Dp+YZyOGK6kP71BaO/EgH7SXV4rMHrkSaVLvTu/M6sxO7oBp4kAmf9HPD8fxWrfkPvYthwdDRr5l9Q6kQXV2B7Zm+wL0SB6+wQV1LIAICdBhC/NeQnMTpMzkLCFZlTR20P7Hdmawj/fn8hBRvuDftLJDX/dw69dfaiJSKy6jOfb3+JlCPYYQBCDXNzjNfCg8rekd4zylOSe4WbXLxXc7CXIylkeKBaO490hCYinPGD1JaizUGK5tVtHddq1+30yiaf8M7+V78WOAl+1vusBwaid8dqK9c7XX57QbwyMDU/T/Y6+8QNECnA3wvmm7RH7AWhcqBTBylveEGStgzMCe66csApFe3zSYwGFajeBhnN+sK285SdCzV8v/LQ03spMuA1GUplUdeTPyCn8ocNLfSBHuifyzWFR62eBEjz79rQ/ugwp1mBKj6/b8wB1G5h6/31Rvm62tCeDhzcNGwaQHsQ1hMVfNgCFOXbi23IfmVdI4JHhzfDSjsv9rUuVzM69Aihp6u5OdGoW+YmzNxHlyswRzMMhMsODZUuL7Pp2vLLYnmxrgMIEI1aN115PZDetCFPpEYuswmqLhH5OTHu60Zktk1Es32ucKLzRYNQ9Z36OBk0w1psCGO+ZYZfuZfFyz4O+TIIhpVxK+3kh6N5IyMVlGK1GBH5l5g3NFS8zmHINnbSrjzMEiH3W/kpXF1lVuUQ0fOouCSgwZ8VP8Y+CRAAYYyLON0j2ar4vjKWBbDnDx8r+pzgLysPaBLGjMCv6fKehvcNWt3G+DMeGPphsoHP9S4JEIJGelBTCvCQ0Xm92eEosSrU3zOf+6FxB4BFMtm9pmsgIK9D3uPgxiEsBjjV3u6ZiJyikVEOIZJU4TY6410uzBW1/m0ZoNVBDAwZRu+SD5h+Zgv0v5UhsA/DM3S+NQ6vR8bUIDNGxjnHRANB+9yUOAQ+PsefePyaQjoE1C/PqE+8ScM1m/uIncAR9XlmPdx1F3hddAyzZPs42KnaOvrUwdXaTxSw6hrakR9Ad24I1mcvwljqGKZXCuC9FFa3iRVB+Uy0Qk+BSkF66f7NT4n6q4XRL65Ro+Yqq4MUYo83td13CdcdCI4OZbqZ+SJtIRfZdCeH6VV1PjRY7E+MMHGdX8+auIZ0a+jS+NGDukzVqg6JhCGilC4N8das4ig/BWbnRQ4trIbzOP6jIB/5OaQrzRRVaV2QCm6RiFL3dNJqnqBS0NTxsXquO6AnIPgGn0n/xrUjHwTllPeFMTRj4NifvBk79iePdCVNq4OrDkbLD5otXAONKJ0aQe067gHWe1sPHvvZY3tymH9UzB8V0zs/L9c7Tv+2we8MWmYeF19ffo5EBV+zDK6CPK3N9BmKhk5vhYNTAfI5mHTAhs/ohu7HAWgMjw6rBoGLBvCFaGyPwPLHDqsVFNRQM/zqge5Hv8mCXZppmlwmvU3KO0iv8G5Ca1c75u+7oKESlC5uYg1D14ooto9wY6mHaBvy/pcT6hKwf5qJwlyYKcjhVuQOuWL//YB2UJee46bfWQzv73Q7w8PeTwt9XhIPdDdGxPCeryxq98zsxJSILEjAq6tsGtLMN/5QGbAut4GMPXaz/pmH0i5RHH264CtCAAzhuHaTqg7Ie4q+9WuFhjINIWAGkH6Y0U8Hsig6EDqpjNOoGf23DnryO/+0+QEcDKdESu16FwZEB5TKfDZpX3FrHhTeJpmtQtHRCTzZz3XbjvZy5J/JoNn9GAq1ScTiW2SIN5oOGDVeQRqhAPQl8jVpRMlWbR1XRoXmiSz9vZBrgOtg/NDWFW+O9SKSGzQCDNMPYZvOE4czdZsLUun3ivo8yfUJaBNPvGaigNGJq14O6kEOK0rrpWAZmWEt1n/raiOd3GG9veiwfcnLveg0YUBQxJ48wp0mxbAWxLc7WbCJ6FW47vD3YjVtrnJvgmTpemHYWiIYQhaBEivIuuFys75tVxlzorIQc30LW6f5mz1II0x8CBmX6y5+u3JgA0aE00QZiOZFdkvikHtG5Ai2JojZSCOUDFUDeF9oZ26WodU7u3+grlxt+xB5hBPtrNuZ99fVkS0SC83uM4lGLkTnVRu4TCML8DCP4V3z/PR3aY0tQLmYzs9+R+94r9c67pecuT5Js4xRxr0/oIyCYGahy/W5MJBBa6v5E49fwxB7t5ulToFxPvc2iqI/mP2npzF4h/QuPZZz4MUkN6zSr3hYrHoU2sA7hMtmX6ORFL5woOremXmjTQH5KWH+484PWxy/1vkrg0A+c6Oaf2zUFc1cuFoirVAPHvFSpdoNVvnVkufiAtK5SXSE5Ugad3oljdZlsNQATx0K9xcuJttnxorUQ8Dhnzv2F6KDLfJ3LDEgP3nMrxWtO6OG2R3rbfErB9J/p/9K3eT9a0SSr2vO4/DPjPwU2PrhOdh0T3dsPnHQPvzBjblFh10dyB3YPstppsEcxL4QvSviwNX4mvtfI95vC572ztqzrSFI1Ew5BcR7F/RN+m+PwRDCdBeU8yBI6ZH/TrcGdHEyC3UZ4JAPpJ6nD4Zaa2cwIOit04icaKYSDUtVujSKu9oVoeQDoHpP17VphTQvwBPd9CrayYfhbvqoEvfDIXR6K5g/+HnlJ/YA56eIcmQId9iaNXD4CoRLpVv4U7IYGJbaV7DRpJnZCd7RjCR61seICNdglVJ1iRJbxE2snBNF47UDRxChT3TzTa+bDZg9qEPTUY7RZsSPnYHtxwn7C/VCDqyt6o55nemD8S8aaut3/kzXBlVXniai88HDg8hfmyJpOql265LirxmAfYpoB6Eq60A/6hLN/YsM+HUXcXiAf78Dy2zGiV+tgutZTtneCQ3qf6aOTI8UgPvKaqfbyjT/7IgAaKXTQ2uHbRqGPPhBD02DdnLrPkTne+YmJu0H2kDQ00D06Bp1I4omhp/y7XpmM8+jEN7MOSpEn4XKVo3VTJeuc+xn7tGL0aMyo+20GFXvCg/t3TFHri1xGIC8t8HQYmTkR9clwmlUmGRHtokuVB4ICA5ECfNH5VBi1GBtaKdkjSCudOuadw+Im97XZpDogjg+3PMQhKoHhzInybftlGd1jHpMyV9UWtWQUu9k0JBEBgmptoxEGWCbRK6om1kfdeb9oLE1Gq7tJWsX3qG8LPY7UTYhv18nld1TQFuo82UlGoETRYpJk1f00ng9BCfDnQx5D4NhT172bxDVraygdF6lDKJL0+tc5ADs8t0Q85AXeK1mU0mCONmhCLf+nRob5Dr17+L2XdIIdrZDkuTrZmqEe4ritN3RjguvU3XKb3mYz+SA5WT40xae7h1wmPl5ajtIqQAk1zGGQekCI5pGkPt+vcFJzVs/zNQIxjC0yVOyilTLLlSnb3rQAyu1vmdSyqIvNMTRO7gQx7D8Jx6/hAD2I8XYqJIC7xjv0FJAfpqYFC8cfv68jHJwpycQ6gJUq6e6Bb9TwMr+X9FRzdG0HK516Q/lc5RzElSkGqTOmwrSQtLlhqfoGFUS1zuwv0woTxOqbMo9OHaxlgdhvwiW6xJsQFOnpLrJhpkkYPuc6ObNHCjLgVB3vBbES2UX71tBurDX0l5Xo+aszqT4lj+yZd9p4jsEIawztR/UpTTsnyegdRy+FUyvBemNG1M5SKtG50BFitqZONnyFCF0Ze7iwCXSOL9V0qydg2A+UMs4vVfkU0A5OOxPHuUA5ByYOaiRNXuH3zp7lAudrNNbNZNGkuGJJ+JuyKN29SpdDPCQEVcO0tQNchDVDaQFagfDyt9xfq+Id8kEDDK43oV+0Bsr0Ams9P/0xsVSPxvXOtKl2nu/v7CtZnsJiDd+buXoRSNaka6kWcNd0LkCC2qe3qtIBkjD7k8e6Z0/p8trd5Vuc6VWu6CH6trVAcyLC3x/SaiHEQbdohNXejWTUjkncX1zoUsXnob9zoYRAHYt+70JndeRrkWaTWST9axa1DYByhQy5m8USXfRItUlwl/WgTAIqjf9ceP7JLKO8jSjPk+j+mkt8JcV9ZBQT9SD1dNk2rd2no1Cmv55Bbad1HSTHLo9w3+sjI0AByd3uQ309lceKaEvM7T7lz/g543Ktc5Oz0f9jmh4IEOoohEaxNwP4v7ds1FT9vzqYhY62TRJqtG7b6aV0qHUbZkb2W21jE2llB9dwhzugtVXaYOLu2/cgFuX8F4R+D8YSgzZOSQ6XCVImtRVM1oy3PaHaJBsf8cWGG/hwi5X6b2t9mdqnmAv9EMs0BQM2W5ztD/Xdgo9FPlc7TrTqjm/cTjw0hvbvRMqmIZBxpc4PChcjEIN98JqtS5Zpao11/dKGC3XeSDSmBtrqHKCToruzEmDRvzY5IAE2+d0IAmroFZd135P06V3Fp+j+5ImaSiaWI+TffZWtSdrXj1OvC9FP68VbKisfoMYx9xaxF0LGXKJ5Pp7FpNPM31m19KH4NBOC0GholmTTij/MpD6XH56PwwttyFdKGTveXjR961UGr3W3YYqNTu5+8Z7yjtmCYpRw0v8S0+RB7MYqNGTgfDxsKWUsg18MlR2RRh7H5l/AD8LNbnIz+wx8N5XuYi6iHWt8J5IYBH5iFRKdtULAzR+PKD8bpl5oPSeQ6S+hhjFBPK/KAbGAkeDQ03ROnp1AXCloXw6sOOz0jlYjkFS/wvaeRoZRH3clPll5k3mmSXkfRUIV5yFU0B3iVl9gGkAfZbNSQwW7p65UEkuFEAYPj8nTK90XQEw2B1d4lY6jQpNquW0tLxF6qn2J9K5StXWmXC9NoHEGxeO9GNFOU80lCyD3g1yM+RzJIIZ6YxVSlk3eFICjKLRIGqAQ07YSVMraugaeLMFh3YKyKfJcurSlcMaQKQr3TmY1gSExO+Jt44WgOnS0RJRM41LyScOJPO14njn0NMikcR0a+LQBfI7N7Q2MTx7yjRMzO8Mx27R4f57ZIevhGLHu8Sg3HkNuMbnDBtNEE6MNG6iQcNvHVOuyEdWw00XDjtay1aOQVzI/qfFPF6rRfkAgN/o5A07Dwrx3sylu31KVkKfz8EMOcs3nsDdw8Dvty7Bz9QOtYPIAhy/Jp+jmGka0OjqjTeIAaahHoIFPwOsbKtLMCcvAOSnCXX2mL9vyOeEKtV05cQFwBUpWs8NXYe2xnia9E7tq98FOVdN7hIEKaFWT7V87RCJ0okpox4itr+cEDLNUtwQnOiGRsC1GrA0TyxcM+p5olNQNzTpIPVZhPiiE+qRsg/smciPc4i3Qet16/ccNJTvo9JLKUzkIkOLdG5eM9z59EtLHC8ekaschtEEbdBMcI6n/mUe4m6Ai/gm9LH3Fg+hsS2PVCsAe90UrXf72T/VVHkHd70PQboOfEINu1LZ5DElbn66+YQgz++MxnaFWYL+sllPsRNxew8BfiPa15fEg6589q600dKglLdzcLUAuyCKXVoapBtWhfzeO6JNoLGiyQaq+tF2kG7YrSIIhdwPiQdQyZx1pcE3aVmpPAW7Ndv/t2lCm90wDTlna30+zEgfO5A7h5yZ0SMaW6N6Qper5RO63gGJgmKETIcv/CzbktDBylKi30rjQYZexnkB4GcLAJ7UNjWIXNQV9XO5wWu1q/dm2OiVw7gZPKZgw2xLNIQ1YQzcVomsz4KcikbPgrABQxb9Bmvw8jsPA17kUT1SX0sTCfWddI0Lg7AV+2zR+Pm42IwSN3evHD56CnCrygkKh6raxN3uKUFwbUQ/pWBDGTT+RO6rriic/p2GLvc+QuBVUmbmLcnta3x+zQZk5WxGnyfRBhYg9kE/K7oo6wBKJTMQ6Lbv+87P1otJVcO/NYZKED9jJLrUvd3X8fyP+t3jqF3Vh1tmfq/KMbTr/JGN+BOPX8sBDAH9KM7dgwd22Ri1DmYvpj1o4gBM71kgV4/wscE/iMq7A+LbnS47MWc4jYMQOLsH1tDsn2empYutXbPPOFw2Qy2KCHXbFEzY62WTJJLXRW9F+Npnea40mUsTEI2h/PfyR+bw52CnmnqQQFHR47nK4F1DJHs3N2abhkmkHAN8lj8PHCLitSDHCeXo4AoNI+mjWDgxDnTRAkR90rVhfxoUQBetGhEs6s6qtELkp2E80NMlHLVz8ztPhVrF1oOcNGuH7/yaeBvDelxJT64vAXXpCKeCHiaEOzPuWIfW7es1PkZdxeayXRzSXaUE0n98oBiXMSzDJHH7a0RcO6b3ykE0OdQjg7Lr5LD8qHBddIsVYJuIh5+79Pl6Q1mXH0rp8j1gCTuHCKVp4YjeMVuwkSIWSUA5RcR7ofbuQASsRVLZfu/SYtO4lhTWOtF1y1N5dlHiJdjGUk4jviRcC/wu11XtmH9szMiUSjml7H0Xbc1TQk7eeqld7USewfdNh2HTWe0N8WNjeK+gdezr7vC12gDnCw8arXkEDe/toKNQEHLUjnoizdwdkL8cJbqj2gFv6Ltk09KWhymOBqGFOmDnHOppkn5h3vf+B2NT2nGSE7fmxdXhNu0dXmqp+jKR2tqH/uzPPFwkxWJOXX3uB5MGghsJ/wHjdC+DF/R1BM9IDR3MtEBe/t7p5qVUr9C4jximVVbpoPi4CWpXcAjwinY4aRyoFU42TQ2t7okVXY8RLj0EIihK44nD17/dZMBsQi9GQ2qYwagaxwB3v0uUhhhU0EYkTFbtF0xE3w4RIUvbSOehpJ2Z89glGoXh434MFeomBhHGdpBDgjpbK6D98IwCoSlRw/JbiggYB7nyPBt9rLQuake6bAydFsQt7Hy92jKFJvEoYpxxS4S/7KhPsx12AI1fEfetRK8AsCYUv0OMVQQKVC/3qPvym5iwHH7S6rnaOITqc6qLN7JhpB0T7zvJJXSdA3N9Io1stYsAwpVFDcOBC2g7iSsAGrivN0YAORlaIDpUHfzsYFNFJqY0p+PaZYcn7b9VaYQGptdqsU4atIzemSUoqDh6J8Wrmlz5GnXau9qGMQyw+BiEYPQucmEVox7K5GuMTlbZhvdGUwOAOywWweSSOn5HliUkU1DRfzjHrFBgfJ2aPh5z/BTll8xApxpAyNAn399LAZz/JfpXb8NfenDR8Yhvd2iJ8/obaZieqOHQCJR6pAFDaaH8+WB8t2ZHcWKXjUUQgnJM3LhP/Le/boiXzItVoO5HcbDfG9b//IQeAtIfN4GTxeouVHCdx2sCYJqHNlEAn95pWtlfIim0MFxV8c5cJRUrw0kExzujN9JHGbU+kSfGdCloM92t+ehRZ72phF4WmjZsDfUY2Yl7IdpWDh7bl4SyOMyvBX4jTRulFcQ10d3tMkTKht8Sf57qE+vBGxIXNmbmza+Zv58HB4Uoi2InilakhUQ7bevixPUGXP/CPKvDt4rph4P7bwv8zpqw5VuGzx2Hf+xI12JoX8iDft1fiNad/lEQVtLNDHjuEvgL01IyuDlgfm9IFw3QZuTN/atq+YDbX6JQyGDtnQjI+fOoxavyfPszF5Y6efud81NEEVSuLqRmW+Cwms+qJaUOsBw88pGZjcxdZJC2ayAiKhEyAFAEHU6XSnd5Ic06f99s8GXION+f/RMPQfGS6XCcA/ITkeSwk7KK90oKOZI69yJtaBImzgrCUQ5fl4D1r8zbCysHXV8a4sduzsoReixdq7JpBtESljPRQnZDi2A7OITLzn5Voe26c/AaBVUGFcVVxyP9+xvvt4dNXQcqvxe6CS/3QRO5gTxp+5DbSEW5deNgGMLPoauqpfmV9W3bhk5npiFCg2K7BD6z67ONBoBltk3QqKMH+ha18vtl07F4llIHlSWbSz/MA8WQjcuCoQHTxtlGlQuRv20fG545mSv6MhMt8YIofVzhtmJsjtZbKWXoLxtQqPNTWk7Df91KV6a7bzbY+IfeYreTRnS7RIc4J5l0mYjf+10QLrkuRCfYU2AkiVCp/l6MNlYquUdPjejMKKDHSjDXKUnyuRmCZn/vAL8WxA+l5dlwY+0jG9km/qUbiFkKduDszhlt7aXPty2JBsE76wpVwuRvO/cz3dtkuAq3bMN0FwSPVagSl+Id/Jrt3gEgeutq5pnyNNm+6fdihysdGLt3HELl691DdEtbEu8jwGpazQktJh2/Fvg7zZ16jyrd79ZsnxUAyeOU4Gatb3y7sqmjtHEvOho+6WD34/W2Pqhe7dENnjStyiGS9P5qtAvAg5kepgSJ1ly9/jBY6SDZY+D9p4aLGAZq/36RAdUNNO6+8cDWZJhMzCM0WYYift5xfXhsDFKnr/b1yn2PENjlq4OtIpRq/nowxcA5mkVkjXAxcuBU1HB+CJH/E49fGgDtgr1n5v8cIi+qB6qgqwnispsOqC3J4NL6tLCkWnQRqkdpUxBzBt1VLXmG03agPi8mLvdbpa6hNBGr8oZIb7uJVl2uiO+rhXpmaU5owQ+xfe1IH7wh6kQ0J2xMjY93cf0Gh/SRkZ8S9k8T882OrAiqS8D+nMTK77B9TYZ61UNAWQIz6iqdpQxFJhp0/515WD6zg7FORNoUtUnXhuVbxtN/3bA/R2yf2JDRg0NYiaLBwVC9dBH3sKOWLp88WqCbWQOiGXZdkE9jgNk+BQ5BR0ExG80VLUhTxC6B00oLC5KXzx753FF+y+hRmjhqHw5R1XGKvq9OTqJhmPOnTt46czDW4bYHh+mVOsh4b5b/x8gDhlLXyeH0d0YvHP9ZaAyZ+XunW5ehvCGfFXXl+xm2bkPS9FYMsVMj0PRW4Cp/P80Ac4WDsH6u1BPSLMPO6AKt1dO4GFLPdGPXmQ0AbaYZqYlgPK6VLu3cza3r94btC/Up+SFgNj9FlCUIIlCxfSHSNL3uNGHIQUhRzLhWiagpiNdiP4NvhjMRPXPUig1qbZKQXO+QLplRTblh+nazTEeAAvQo6Jw6fd0u1FsYCykgqIbkopW/PA+N1pYRvn1wA36/Qwvi2+ezHQTb+YD89YTyvJgphvqciPrlzD9QIbXo2/5nuIBdokC9984FPQgNtGduPjpkySGTb8QY2Nx9GxvWtg8dUKn8fs0Ey5kbi8SAqIbJqUNwEtRIxfZKW8VgGxJC4IAXAzdOoaCMLlb9qziR/cedQ6xWWT3Q0xAEBN7ZGgpxUvqPlUNV8BwIVctYO13gzlnIdJ8i2jINNEsfHihfWRTgb5molVf2YqB8fpWIIUGU/MYIFoZZt+ESFsoZgA2PhmqqyegxR1aH8TgoTDZ4MNbG3xgyrV3VTfaEFpi3Z40Z4ibuQQbVFKQxJIwwaOnH1WDqcN0kX1HuC4kz4++bRxaiH65mvRac/G7s9x33lb/tkqvZ4S+M7gnXjHDZOXBrBp+4nl3n+xSuO98bpZchKLC07FjTS2l2KGinGe08DyRWBluX+VmpNrKdDkTLRadr0gj5Hot+eRyiVLfaO6Ufd/Yrm67vUSOr9xpgaJ4r1SoHDY1TGYRzY7iXe9YOailSw6vB0Xrf6dAGcODbdqKDei3rv6XyjhQxUfquQyZg91y/3sbrfcj55HPI/Z0z+uVKLaAGQJdKJ7AMkIY69vZLeYC/RAG3JSK83e003p4nYGc7gtKu1k/bHep5Rnhj/2uzNHjqEhhS2Qjnz9FOQTV4xM6YizYHoU2TaZw0QLYexxA5qAAAwSF/mnkDSrBl+iAq4XdqkurEXLT8PDHTrHXk52QO4HIIaLPGjLAuaH+OcF0oEaFb5+8r8vMs7kteeOmd2rO6MAw0vReJl9FhAqQiHX5Ogc+iwaisPwt3YH8W5/J7peZChlQgokdq9uK9ID8FQbWIXk3XZoOJDmDp1ljP5vl8qqNjUDA/X1c5RNVJEJ3ccPgnF0On5he5D/NzB6qT4bkjn6L9fU3eXNDTm7pbu6GR65dxGWqQcj4FzN8z1t8nTK/FaHNfOajObxXn/7YPvebMwXR6L6izXlvUuvmtAVaXxwF9fs0ox4D7b0mGL24wdXFoEdxsMnWKGvodbzRPuEbUKt6kXurefnLwxlu2AOZy5uDPwFeP4tlq4ne6gfOT1AVuPOnHG5+nSzBzjw7lHBDuTeranLjRqRGcfnARcXA2tLGJJmD6vkugbzdtX7jzui/imKwv1Ae6nf2i8JDYCGqG6jFh/xRHS8lG2rouEfHHHe3IFg9tZGBuoiByzsNfVpTPR/RAA0BYC5z0xapGqT4tEschVM2WLS5CY0S66mt65+A0JYlUIGXsJAqjJ4xF1zmicb/6cHTAqs7OhkxxDT5uXOYmLGWgkYBpAXvwdPRZZ2w1RECpWfT+c72TUEWuSw7gRkrXOo9VXxSDUa32/4KE9imRXgsOgINzidVd6uDU8Fw1h6g2KziEj204i5U22zmUuge9l6sVbu/2udmg7rohcD0FoOr9Ja/HeQmJl3XR6gbrOETUjq60MyCULDuHw42h1IwLE0Sryc8UowIbZnjgyJ8WomjeIbyvqOdZmJzxXrcj69Hi24o2SfXaC1MFNGMTjcObF7qWOalEx0eYMv+toed9ToaO9sB9zhorBB3zt8zXLd8XxQyp2YqUcAhj1iDUOfM14YG+8DoLH9tAGAGjY+EhcW0SYqyMG4SurXTw6mfrahk5nIA1fgHgAShFMQTNROX3zINMa1A3uVK2PXpDg+3+0OsK4EFHvk8du+rO5Rva7dDktp0HFifDsn69DdYVkK5go5sLWYOfbu9S4ar28Y7BsS/L0OQKncwswIeWH10Xeh9h8XJoNM1nrTRxiCms5wxX9AAS7ZDqkrjv54l0b858L/R7Q0B/+xCDiKf8pdahF/4Tj19CAMPHhvq08GT+aaZbaY7sqj0m0RQ1hPfVgpxdl8iVrTLZfBrJ7+GWUY8T8qdZHF+eFz+Aw79dLUepew5J9SAXpOSY9eSZk9SB/JRQT2k872ksqDxhMjewO2eoiOa3+a1g/scd03tB+igIa8X0KiL3rcKvFdN7GSGZWxdzySwGhGDxNG3yInoXLciB+XOjbUM+CKHZmPw+DCuuECVr8zi97mdqzurshJ4GyuIxve6kJsw5CyyvFfFSqXUU5Gd+qwyhNqd0J0IlOsGwdczf6cxOl4rlOy/Q7TOpo+l1F9q5SbRJx/G/e/hrQFkcophMvIQ1A/wZ28uoXtJKprAJReuJjMa7UMEXmnGYzcgcq3SpHJ4qsH0KKKKDVB3m9FZYp3d00tpCFKwHRslojA0dx6Ti002iZACktx3xUgU9lWt87fbczOiDGW/yKUgeIKnX9WvC/S+TVTq15DH/yNIl7MyZy+o3dVZ3Gfg4wJYTr8kgTnGKw7sMVvIa3LiOyznxuhcKSTs9l3+jA1avUQASFyMap9LQFmoK20TkQ0XogGiMHNHIdOFg9pMLXza9NlPr2Q7U73Xn0E4z8qdFpB/+JyrOSUODtjkQQbyhPC8oX05EFgI3LXUddskcC28rwvuGflqI9kzJNsr6PKP+9sxNVE/wGp3wK48YxyCpGX4iFifypgOKoIJ3oaSOB9s0mPslKIIObI/h0Q9UsNt2Oh910HqMhHisi1tm9KfjCMMVA4h7u9Al+aCJ6inyz3ZSihzOGntaw8PG+igql/YCQ2nFYMPfabYYjh49/MeddP1jqwPAz9nDBhB14FvjxS4HcaGgtfWJ118RdE0QOtEH1tOEekymF/RiDvK33doxTEuYq6UdsKKUA2S8DMlDTxKXJGgYgYeHKkJFFfMIXtd8QQaRd6PFNeGiJ9V6C7XbRvuGGnnq0wL0jvB2NzQOGpbdO5w03njNa3xgzvxtt6g1vsf/Egh9zxYFA/m92xyJ5IrG0gaxB/2sIWXyu+k96Fob91ylScPdtp8CnnkAEOReur+7miD2zBabx9Bwic2x4RR4QN3kd7lvdqh6DEo3Q1SKI+fvvsF6fMVV371DPx+HKQOAtoUgiMFEtYCPQ6FUKlr4+izI/Mqe8d77QPcecz1VmiG1i3rP996h8TFumqD5fYb8670aPPV9N+YFupTgltmGP3acx58OuF1d/n/y8UsDoN4c4casMO3q7GHk9iFwQ0Dv/LMkSefPEztIRfhKiJ4nofS6UcOxZuRzIgUmkH76dsP0Y5U4DNmwgpPNTuuugonhVcfhpBvYFWasdaeOUScNHyuWf9xlsw4on2bUmRuk/l6u8kTGEFwuNPunaHb//WV0Oa5fk9FkYa0MIgWsBWJ/Im17/MdOE0LrViuWroXI3yGgLqM7F430bFyJOjJLrpt2zHVI+O7IDAQ4dMJLlqGEavN7OIBV1fl1/re2RfhNO4J5k8Z7w/23iPzMmJweOHyRHgamV4/pow3KPEpkiXx/2DmghLUhXiUGZ62Yf5C6dYWbRIvOshVJr5BmZq4iDwDpyjYODswSo5Ib0rXi/N9I+zZx3+3PgrqVjst/nrA/BzMZofH3gmP1WVgr/EbNzv7MkGaNcqgz9XXpWqRrUxzA0rU7fy+WjdgSE+i3z4O+ZYYic/968BxsReMYLxka9A2M9yE+CNd18CtHtgTQVNNQJU+sBQ5b5RRRzxPyUyIi3fnexHul/OEiDltBHuI1s1YtjT5Uohy66PJ1u51oR51p8moHiawR0XybI+rzJGXx1ZACDQP3SiWVhr5EO5Tl3080aPWhATPq90AHKgOGqx0ge3Boc7LNyt/H/e4UoRNq55ceQsdooHOXzl0nCMWj268/0s3q1lMEQjeIdRvuYKXEFA2U/+/LZJvOY4tAn8V8EqT/F0QvegyGjiIGmuji2FiVulJ00QZko+Sq/b9GbLhtxMuoEcEV2dh0qFqSoVb9tNj74d9Vdy2SnDvF/O3Awa2eJvvZ/roZxaiGE0O5PlbSl7tGJfHA4O9FtHbpJ0TJCxUa31aoa1md7v66/aQl1cgZ1TNqa4nq+9A6WaPkrZhAUxiIqgP1PHMwjd5SKPw9G82oP1uHYu3udR0jjkZ0o6TM/UB7a/1JY6eu3YHuiilR3ketX+vBPWQvVkPGVU/Ylog2J75nSq2LXAtyzwFE4d2a7fN3O5Mr6suB14WgXxb+fRsB0Gpg4XM/ULWKpiWGv1umn2jfzFilWlpxzrvCjNC+TJYUYveKdmPrn3vPQ5dkYprGTwc6NXIp0hf80AA+DoE6MD70FaN3YJnhTkc6/quYPMTU0ackaKjcX1l0e6oD3HZ779wk6KtGRelBrjU+t/fo64p+WzlwyjDqpsTvbZV9wwD/7k8+fml1pAB7IAHx9U5YeaceI7yvQG082U8BeFp4QQrqpK7AsEIolG4jaf68wBXq1XQD1guuzaOFoM8B5SjUUu2IUvHVBEXbzkm0T9VOZW6v1ERdmp0K63my2p4egoV0aqBtOZNi8LUhHyLC2iTMuBuFPL9midvgwBW2Sr0WgDYzjNlnGgFc7XTKdkgun3xdk07gxnw/OD8yAEFXrZOhxVXWy2mkyvobo19c6wg3Gl3yyWN6l4DgQ+CG7WHDYbw3pLcd619nIqDBAceA+xeP098r9mOkrvCdLuQoyGWdvdTFccDKZ6AFavla8kPH5xkJU47MDHTdMwpl5WerjRY98DVp7MJ+DphfC+rEqJZwJ/Ub10FVh12ockEZL//bgpCJdE7vdTSmOC/PUXG+VauJm1/LiHTpHfsTw7nDWlFmhjrTKDH6QvdniXrwouNLHEyRqA+lHtSjTmw28RL10qNDCQHpQayuCKmGmMdLtQFeswDzLCHNiqTWxiHyws2piUyAFVTso47XgroElIPHlClt8KUxkPvGza6KjrCJiYNVTt4Co+NVNEuBG1m47OJ+JMXtckU9JKR3ityhJqk7g9sdYMYAZmlyM2pL5OZceVgLziH988qv22QjDg5NaqL8XrnBToH3u+iF/bpz08vgRt8a3NsqsSY3LsApGgX3px+yefTOcGCnG5+Xjlylc2Mcg+dDphcXs4xeG+udRB9ldPBjJVxm6DIRjmJOyT4lbuaqQVQtYS6CCkxEnQQ55HrZRyOB1MY57Q927icjiHPMFewar9E9MLmfhjgbUnuXIZSxHVbnVfsQ3/fwgMA90NK1WzyJGhCgppL94fnXTHo6/Yze9hQ4THaifu6e4SSUGjLIQQa4doiIbwUQLSr3IwIQ6rRVx7HuPfU4cYjbijmY/crA6R4Dwr3CPalxAULBcnAOYmxU+rue5qE380pDF/Qehh5OrmdqGbMBKvo97p4ZhTKT3u0z9YVujjYIK9qo7zdAKh1hDGNOkgLaMsFfdjavNPlsq8bKsKHFbdTz4zgRlZSYH6cd0LVykPUAmjOan1FBAjr0DrQyBizVwGpzRu+klCUrz+hhdTEHhkzrPccBWg5DU0Iv1Vo6AABO9hANSE90y7pGVF1Rxa7SIDWWPXw2vL6iaW6t+q13mkAeD5La5qGDHUBU9Hrn1+15DJUPwypi5L07c4DT390FDrrImWif1r8p+9A7Oh6kHQ/ri1M6+E8+fm11rJ2nIMcTfvl0kNM5h6f9L2fkvzyhHiNh91x546vYVdC/NgU4CbtVN1L82JGfomihpP/wRn2gbnIU5ZM61VocnoAC2wsKextVnwTnEAX9aHNgdQ6oodCTn3vYoKlzEyPKRsclK7lYoRNvFemjUvwPDmP5HC3cWOuwNErl8MdudHC8FsyvBfsTKb7prfC5buwO1nBmloY7C65mWDVfnyKPfm80mEivcDkGy68LmRQqnDNzi4ZLq5u3LUIzNkjoc8fhe7OQ0pqcddzWxOfxMpR0B2nY6GgzTNdnCJvnfuJ6x/Jj0Ikav6KvV39XgO5Z7fp1HQj3inKSIW7lexU26hr5ZEIvi2NXH3xd1OqFjZrH8XvL18l7kJ84HAGwyB6lgawVJBF91YDwlmgiSoLQtpnv8/S6M07GUQ9UJ+ZEEp0L7BadGeA8vWXr+Ay5IVwzykkDxzum14zpbWcMzByGK3EOdCBLsXx+5uk43miY0kDrOglSULsN/QBR6fkfFCSrvpM6KYmoeWYIc104LLLRh6L2Jrqi+M44k7ZErH85cDETaUZLQTRqdWzuDYD3RAmPPJg1cXoCsNBWXZzrUVzHQjtz02mAByk09xAJosND76xrOi4/U5p/8tFLgXs6m36HF2hhFp9WUyk9q8NfEOoLMKTEEANFQQD8FBKrlFDrIhanscaE6+rQlp+jw5Y9j4ZLz5Ohnn2eqB9SFOWhO1ivff/Bn9Nl4yTaMj0gfxhRE6p7kkw3fS/6HIfQX7IFWSm324ABQJzDhQYhzzq67hz/rXEXdXxmPbihU9PrQgFR0QeqCx3680GaPVw2yZAMgu5T3+p3/p2/7dy/Dgk9BLI9EnIMx8YTrbLrEmVUF7YXMdLIy+chmjhp3tA4nCBIoCuNJsmZrTYQepc6Vxl8kpgfRZ9nOsFKWVOT2B11LxtiOgcbMtsUTTqhw7DRwqWhLRO0ucW/38WhzefyHyv8bRM3M69Xf9k4kLZGJ2/n8K41fxoG7feHPEb5jKjX5c/sj0PtI/osOlND6XpH+3Ti760HC61pc6IDVKQrBl7ndmDppnV1OoiFwPv0IqYL78YQ97guaNxS7/w+GezcfTO5h17niux1dRwDMPc/wHt+3Ugvr7KWBT9kJGW48fmaHtaJLENj7yYJsSo5Qf56bZI/6DkQmzzkZ03jf+TxSwNgfZ7h74UoWu8IVw5XfivInxgFE99X6vPUmj5Ri4BGNCNsdeQ9zRH1NHFze55JZX7sVmbdDkTMpm/rT3oRLZhG7Ujfb/BrZQYfMNyK4hyrJzUINLtofebmrH9OB6VEITgHv1LrUY4B22cW3LfAYYroX7UYkZbo9FTXMFq3YbAFT02aB7bfJppCbo0RMYHIkUZ4GHWoQ4jQCelS2TpxISSv0Lc6ew01rTCX8KOjOOyiP6zdKI3u6Lz1maaV+VtmQPNzgPb4ugaka0fIHdsLh6M609hQJ9KdPpPCnN4y0gdz+gB5HfdmcS7TB4fgQV0rvU56tU4jg9DnjnIOVkUHB3z8lyHs10XOV/6e6daw/CjYPrNLd37NaJO4gq/MQVTXNAChVYDptWD9Skf39jmxu3cbbm1uHnx/9qckTlu+d+UcHobhinIkRVmOAeVpklYRecEdg2p1jGMpJ4l3uRGR9Llj+rHDy+LegwSRCyqdPhjdkz7yGJ47LFzZAmV3pZuB9ffZhmNF4cvTbJVTVYPOPXWw8ZrZ+/uxY3qlCaBOfB2uUCaRvxzt3nNVWkcOEenHSrT9abGfZ32wcs/GPy4I94z4vtLZ6z3ql7MgNBTHx4+NVWAz4x/acTKNlsvcyPyW0Wa2h/TTIqhYG4v8/DBA/ImHm1TDF8agpq5ZNaIA/Dnem6C7nxiAbf2kugFp48Gj5kpjWhQpCR7ufKR+SX/mI2IBkDKrjcMaQN2TIha5kMrNxZ6D5jj+uboPrRtVRfpKJ2temxgPdBO2R2vcpB8fuZAGlJ5YOCcIj6AWote0Fh7nmOkWPXVkKkWcA7VSqgV8u5lswIkOTwOmUYdhhPo0GSBrHX8vrleUZgMSncmsIfS5UoqgtOohjTVXqFt/2eGvG3oQuYi+tnWgi1CdXx0ooEo36tNMF/2utG+Aup+dII4atow24tL6FHkviwO3LdJjL9E84WMzsCXcdvibRttwv6K7GD8P0WbuCWx7ScFQOlK3YyQgNc46M0WDe/T8nEX/ycKFnfdsaeM61MPfXa430eVp5qTbBrXK1xBI0z/KImTAs/gWHZ5qgzVlODd0tnKd2yD1eP9vO9yHHHhjQDsfLTrJXMNK4SodLC7gfjrwz7edB6r7NiQc+pr0ulat4uEgsVHtoceXtC4POmLO0jVeDpHM99NImMLnU/2fFzNajHCiJ0T6tfXtFyngLggPg2vROy39IkqNl53O37WIjoMnGRWoegmgdCIGrUvk1zbSSdGykjy8bAThtqMdE8J1pwO2EaLfv7Br1OVKxE/Euq425JfF6rS6hI/WYzQtYAMvmPw8I9yLmDiIrIResf5lRvoQ40SR6qLaeGrcG7avC7qX4eomURqdlKM+fG6SyQahD5u4XT3C5iVXighek4GpLqRk5x/FdHhqBKmJTlxFirYvCdN7sbYLjTIBgPvvCdMbBwGlHBlf4jG9VWyfI/P5OnVuGikDcHhLQjfXyWH6qPDZm5vYV2D97BFvDApt0eH2twnzj4J0lZ+Xm+n5ANHkFN78+TkK+tixPQfcv8yseruSTnCViPBUGPXiGjBFIodha4aMzj8KndaygCzf+Tntz4mmDY1t2YRiaDRulMVhfhvOZh4KiHgy0BsITQ4ElZ/x/H2Ta1VrBrtVurXJW5Vd2Ju5mpu4o8NGjV5LdMtrVzRpdamQulfsnycOoL4bykfDxih0hwyBYt7D9nUhGu1o3kDXyixeT6y14j0Xf9yI2AsdpjVY8ZYNHW0zMxF97eNgkZsNz3oocZkHEm0aaBPvp3Ke4GqS6/8xFLqjvhwYnZGCrQ9qOChP3HDqISH9cREUMXNGaOBaMkW04wx/ucOlgPj3N1u8dbABMBCAP/no+z70OiomlzYB1zs1PBLhQt1cEKehoHXivlXRO1+UvIGKBqoeCRib4pRGwK2ii9omAgxE5HGYBEZsjOhO3Z5JZ33ciNydDxzWchmvWY0Aj5vvvw6q8vd6yOxz5BCourpcoF2ouO8m0EfwFiqsHeluLRwGdw0FT7ykqgwss/RxZw7eeiDQAbc/zcMlXkY0CqI3g4w6XZELtWYq2neOzuE7nfrhuiHIAcblKgOgoP9CD/YU0NIkmlypB61iPpEQc+ccO6lFv2paOBdHzd19Rz9MlC+cF6Km3sOvO7wnChhyRXxd+bUnMYrc8wje1vdpYsyIOoZ79OhPi7mt25kIWXy9w11WtPNCWhQaQgwzg2gYuCsN4fUm1WeTfe5NmnjsM0lxSANkGPN7MYOQk4OPBlM7ya7UucDy+dSVe2NUkg6FPciBRBE/axF5iHcR1FtzK/W+NyRdNbc6gD1IN7RC0bIZdbiT97YvE93wTVH5Nu4JvS80wkWRSkXjlBouBWiC8KlbWKQifV3H7+EckGZg37mmaETUPKGvK1zw1PppVmKQXMDH+jelof/E45cQQH/PqIfEUE05bfiNF2TYRpJ5SwHtOFlAJkDkxUTC4h40xOwB0ezOmVgXfhhP8ueFG2YKKE/J+oRdLhYZEa6bpbG3KdgC1yaiLXUeifK6CeZnaUYoHaoNiRKdAcDaPPanZJsyo0GE0hT0J59IB+siBQBBaLZ84sWliJ7Rjf9i504fzKhricggqUIJexZkSpG0FllhRg2esyGO0SejMxcA2uwFuexoM9+TINpBX6WxpHbMr9XiVACIMYXuY1864sqImnTrKMeO/Ex9XrpICLYbwcZJ4nXitSK975Ih2UzjuYq+L65EAy3eJVHjpjEy+0vkoL03bC+kucvikM9B3LNVNJXj6t6fvCDOpIW9OJIBMDfw6E1XCRnE6eym+YE1ac2yCdscbGDaPiciwuLe1gHa7xxgGWAe6NQ+BqONpx8MGqehiDS4OuK19q8lbxRuPms+Jn+p6ftq+WMAB6x0ocO2J4/8PJH2lbiIeNkHxab3787Gj+4djVdS0xQ/NsY51MbPKgvCsFNqYQh6kbiMOUq3KEbemHz2qr1V05ZViAn9o7RgWxJpLO1QlTqqdppRn2b0iXEzTShhACPOoUtDgGdtWTsd6Fo8zBwGfuHhFJkDBrLomMqPeRr6vnUfC7oigbphSL0aYvgfO0V1w1CaNQYb7Hoc6Iwt8sGbAxfz9HP0jOqo1NBhm2Q2U4zbSE12ped6t99LBzbb5HRoNb2Tt7XZX0hxuaKDzYx+/JdGBXES6zDm9sL7UPRk+tn5LfM5lsRhSAwHSt36XfLl5kh0tHZzEPdJkDzNunuILyHbJIeCu9C0h0QQYYnmZPdrkR7lB4ctYMORHuKorwaRuAdktot+Tq95dUM3eW12fT8zOLyLecny9hylMr40ImadeYz9Yb9yyjI5h36YeAhSGr5x7+UgTgTS3zNlVkLrajizvh+KJGtjFoeWinbiYKrh3fp9TqRb5soOvGb5ObcxDGk8jGpdax3yAnG4u9bQng8W26I1jvp+uo0ooqsqQ3KUKsgQ77Q7+7ElxND1YAcfQ8uPB76WbZd4INEQ6s/Ua1WNW03yMINnXZsGRD868s3pHoD7in6X++GJNHY/H38Keu4fF3lbBMFLCe5wgFsWDqiPcS7OweKhQuAwCpD6BQRV95Ip6n4eBv+Dj18aAHsKSN9v8uF7tPNETWCXFPj3O08V1w3hg/8AsJu3fJoZ//C8WG1cFUOH39jP22fNEvQWMBsubALxpaEck0WL+K2g/HZGPSXUQ0T5TBqYAcM8ffA04scF6gYaBABxrbZZ0XklTssjB8n0wZPj9EbB//6SpB2kYP7najlEHJCq9MASiaK7khl0XjbieK+oC290RVr099E4mTozu9BukI6RxedgkSzzjwxXwRo1xwGKQ5RSquDF6eiqDXuD3/h8+TwWunLybC158kYbanWbmiLitQIdmH9U+ALUwwhztuDkRtRI0dh4IxK4/b5g/TpZfVpYG6YrEZXlGx28zDfk76d6Rtc4zDGjruPwR5GBjdrI+cdug7iFNdeO4z+0t5SvJWwVx79nGcIgWVON75V83noI0EHOizapJQ5odfLIz5HU9jSK313rhgyGuwxFhZ8rY3OI5lrThiBrLarOU6N5aM5RKYHrHOjTB41G+WVmzuCRyEp+lo23dKF/aczIzxPS62qBue1Auip/PVGvK3pBIvJFgnjp8GUxPSziwrVu95brnTFMXZyZPy4SAi+huGuWSsXAeI3WsX2lbm/EbQhCsG52wLKFNnAQ5UZGAbz2i7va2TCxiuOygZsqYPllbheq5hcWRz6hIGDq9tPB7YHedIqUqeBbUYiHHlMApME07f/B3YttH8Jydfu9X38Ovn0QnpuDUaqm3IOmyKl28PH131eh2qIMxRz+3JoH1QUMsfy/NCg4CYBGLtw4Y0A7LoB3aKcDRfLavQrIoNistkv1YijVnmf0s1Lv1g8Thxg1NCilFhwd6ofxXvrLOqJetkwzhQ6zrRExlPWjiTmhLzQjdafmhz5iSbpo05yzn9O0lrCRPmbeq+jEt/rT4QOAOXzpeJfrQq+dyCq7Zl3WSlU6GjJq4+stDe048z2R6CONS3K1Inys1A9KYLsFXgPmlgYod7IQbR38HHMaASJ6P6G6s1Dgi/zup9n0nKiNw5egvLwWhUmbklxPaRzKbtuoTPNuHFxKRft0ts/bf6xmTjKZgLbjSP91P8y81hXRf0DNHg+/aM2SFkwPqINdlu+NvB9tYPTeGkns3o3R0Hh3W3nPz5P0/LpBJ5cqh7DyEOas16ugkZcb1OylkS4A6CJ+7AzXusZ5HtmfDwNm3zbq/jy1hOz/bXBB3MXbhl8xgfwSBVwPCY9hmxR0S6RF9OjPHMD6nFCOzAeEd2ifjugTmz3aTOQG54ki+Msu8L7e4NQHOgkxbZNkhN0yHLwZFdoUEN9W1CP1JAzj5IcdlTap7Eysmn+WqLcrklnoChGS6W23xawuHMK8dLB2aSTRAF9kcRVJRIxuwr5z2GizR9+I3tWJ5o5yjKbLa95Z5dv0luFmOotdo2Fg/U3F/RQ9t+ANhQRgNHCbFXHpWL5X0yVqzEhZPNKFhhU6mwWh82zVgANryzoRMNcAJ5qXHsE8vM4YG9UbanhyXBv8HnD8b6QeiSA2TK8721IODCDm70+jxvxaRkXdwvdHmy7q5OALXwsAcZbBGkEY+FxtYHOdyGx+ShxUN/4+04+Mck7IZ9bD9RiI6l0L2sGjgXpA9j9Xo5QhaDDjVrwFQOcnPk+8Vd45nSd3t4lb9cSBUBG9eOWCm25FWj+6GTea5E5GGTRdk4WpA/GD909+mZg7eK/wpSGfI4pQAfFe4b2TIcuLmYUDSJPrw3SpS8T+aUa8qIjaW3c15oD0vmH77YB4l7aRLwvCnQeOukTEa8b2Zcb8bUW8Z2r2AEx/XA2laS9HE8S3o1Ql7cUajdA6ln8wHqSeJg6kG1P728tRaDNSWX4n4tCXhHac4N/vP2l+oO7iXd2sEERFNt1Gx1+fEyNJfuXhHPp95WK7zKQU98z/97Jp6AleNop+27iYy9Cjvz9P9kP0bsOXPC/Do8PQIQGwLlttGWgMvlbEBvM0qqNaI40k7md3Ww09VG2Ue78KGpOHc3JKIyYG4JCmzkgdbpPU4NWG3jtdmktim8hhpnlENzAL6pXeYcBQT6u6058ldDERetLd7flg9K1/1EDK+9cXiQVTtE32H9OEzSMCBbM8tzing8TN+OtmaBbjbeRguVKP52qTxgqYw900gB5wt0yKU7SDXnL74Lg/6TDmdLgslZq9OYge86FZ4zyjCdKpKJ6773RCt0ptHDAMFVsB/ASNWXMX6tEcBLVso72FRiAeqAAOaL6xZaMrtf6Qz+diB25D01ZfDnB1HprKBxROBxWXeR/boOX5XlqvrnbzSruIPTbqS92+w/R7OljrvaL06sM1oEOcHXwc44sMSdT7R5G4RMRWUUM7ZIq20J6nFCBM6JcbnGp4e+cA1jvvU8/15ycNoPR3Y2KZBaltWDyMRb0ouq6HUh1gJ2kbao1yk95pPhMGQQOhdSmF45/Bh5+f5088fgkBjD/u40JLgUjAyovB3wkZ12MipCtOyv8vcX+2JDmSLQmCLBsAVTUzXyIy81ZXd9E8zv//zcy89UzfezMywt3NTBcAss0Dn3MEFl0PXeFNVEqUFOnuZrpAAQgLH17i9zvz1t4Isvw+5r0aQdFkd6eBzU4WIs1CclXyjFQU/31lltkp0WHWBOzJSErz/0anIsTgwbFcD+Js3amNa3KRhrWYq1JjZYL0snJs2GWh5PtXVqdHBTLeRqsAEO/SA7uxvk31NOg0MKCNDLwu30y8VXGpisjZAW2i+aKbjoMxLd1Tq1bOg7mL1ywtEsz4K0+J+XGFzwWQMVSHaNgathcJdJaGDP2vzxy9rr8m1NnbjqvM1AD2SKNE2Hjs909c6HVsFO8V04/CHMNA44rPbBpJ10LjQ+44/SsLKGv2M9qKcfk/Viz/2sisdgLg9C7H6KKA3vMYLYE5eqVbmDIAY/B6dDj9c6d28lMy57W2cNBh3Y0dteoliWrRfEb9rvxO3ev8x2pVdwCsQ1hDYUNu9u9aCRUelZuS6FCehRVxMIaXGX/CSKquUDIvyTxyA7J/TlAzkjqGe/AWDeN3MrfhPhaolgKmHxtQmUWZXjdey/sQbce1oijDL+dd/npGPU/MBJyY69ckPsJE3t6hPDPYvZ65GOUnmjr8lkVAz9fwOwXxJpIGpwUc687UQSmb1DvqZaZpQMTzrI7aUT6f+frCDPzMQ3U5XbR/AAa4UxBoGh9Z8LRvVM0j2j2qN37V8jk3AJwwEOZelogXde9ahRwwbvjBE3R5CautDS6locWTkRhkkXOaQ6Y6K4Bhu283/rvoFo3pObKYstjrOI8syfYRnClwVKaki/ZLR5UbR8UuF/jbg+8HgL+vY2Q3id7sthoIPv63i/4MlaNjjWtxagABGHUiDItfZfGekmh/GSHUlWFJlCLV0wgVh7CObNQQsLFqRBhbryCfS2VO3TmTOQGgllBZJg+ya8Gxg/eeCfYOxpZw37lurfx7smEcqWqVnr7n9nQaRko16aRorK7LhcRJCkzckPW4y0ixz+nAJstxiN5kAtaakdj05a8bQWITqUMdIM2tGzefs9S7rrsx3abZ1E2EMnP+sJlTI5LUCRpAky5s+7OT1i9hpNFHa4719DpHwwZgDSVOA9o1gL010/s5ZaT1oa/zzIrCfpop1VoWgrhj9Es8uIDXbUg3lN2WwObeO+8LWbqBtUlEo19UZtElLFpMIG6ZBQgKMJ8mxt84RwPI+Qy0yo3Z/6wcQIAXW3tivlAV526fIuozs4ri64a2JIT3FfnrmXlMt2zAMdx2uOeZKe7BwWm1ZiHgqE9k9BjQzNDZIJZ1Cw89Uv+dolkA/K9z1gOpDicCFIf0XmgmWKu1HFCbJ2L0JUjvKsGL60B+mTD92BAeMqKeJCQ0k+GCIxuVrsX0Xq42dEXrIMAIGtTsOC7t6Ng/TwSJm3RPbg1t9jj/+0rjwMxGjOX3HfvnRBan0YSQXyJaYEByei/YviZojV2dHTPxKsFvD2ThFNgta+OYNTrE2jmOlUzGeK0ol4hy4hg6XyLBpbBkqEBLwP6pYfmXNxYmPpiBWM8RbXJGUxPgS3Czah46sH6d2K7SO9ZfJH2/YByjRrCUXybUxaFIPVu609kLsCmkB4d0a3a+FAGa6hIvlziyEGXzkZ8ipreM7XMyTabWymn6v462tTVGNXrxxhtSfiZbV7/M1EG+7ainyM9wr6ingHilfICh0Hxt1zu2r5OwqjDNY10CwfiXiHinjCA8eF7UyWP5fUVLE8eyi5hK3jh2BWBNAVpL5QSs29jEkT2kUPzOWJUg7KbTnLsOrdaKr3QC9znAr5UjstqlHB5c3JxExaRgC1p3zPo0RjLwfdqiDpB9abDrFwDa89l0VcDYyHXngERNFJTBeOxwMZjbMdw2MhxOXHP/Nzyc7t69Q183agDXg2vxMObVHb1Gsxi48R5934H5AufkZ4KMjvZ9jIl0oWkdQOM4KYahKbIctjZ0fsoCyn1Ga+E4xu8GWLu6mSEMioBZzUBzuRBMKutyENv38/Lx/cnnA/g9M+bGDWbTgJewbCHAXe/olxPaKVEP6v2H8Z57vwNzYtuKxo7kQm2afA7/fqeZBbD+auRM4N3ledYqQEfBgox45+EwRmuWXBF/3M2kCIBGRXUtd9bQhVVMXUuEu++8nzpwFfXcaIUr2bp6nhAO7RzoDe0yc4yr76d35hTKdQXgA4Pt7zvcfUN/Pg+mrTVgcujNiQxjMiMMo3HkPrvtcP2Qs6fPrdmPYnDROrV+SnwvNh5mV6+GMLt1p3RANaiaUelmeY3wAbx1CStX9s++39bRfReZQB9MuJo5Drl6dr8SPWo/zSPrMrehhZ34/ixXsLYP7n+nzmE9d/W/Uvmp7KgBU2Hjnf5Z3mtfNIh93AsM7EnVI4If9wWdDhzDsJtEuQDjWGmnuBjGnDxfrxz1dkTeN7w0iPQOiDmtlwp3Pv1fuIP99x8/xQC2p4kCbcdRWHjbeOGohk6DKKU3MQgz4B+ZN3CvLBgpatuVqlDdA+G6U/t33ZFeV2oDnSMtXmQkkkcheD1FLohLQn2asP79hP3zhD55xnd4R6eu6PGYrddQFwrZw303Yb4Td6ayYz0yZ608c7fx+Ptki1ybAu7/SOae1UYQsno8WfJT5EjvJkHQXzheA2DOVI3F0bGeK52jQGmCCLkZy5OuxbLyXO3wBUjvhbrEncxa2Bvm7wXzHxubQ3Y2bij40+PdPXtyCQykzSI6As3ZYf6e8fhbQn7yxkr5TDNFdw7tU0GLHNPe/s6mFNO2JQ1TFmAhQNQ0dsK25adRCzi9VYZUX8mwMtYGktXIvMLpjYaP0287R+yLN2eqtmjomFi/I+7iYSHV9cSA17IEu6Grji9IC0d6OwRGy/FS524PDvsnRvq02VNDGhiw7Hc6l5Vh1m5sgMB8/rZZKHVLDn5jbEt8z4gPMjKn33cBUfK8yWP+YxXWzfN8n4dWz7VOuYU2c1wSyvNk+V3UHTI0mnEuHvnvT2Ls6GaYaprlB2EgJafMrlvvkL7dyeqJozPcdoRbHgaRU6SwvWPs4Ncsi63cPEVb6d9X/vtWbRxcXhYxR1EcH95X02T1FJD++Up9UiJT42Xx7epaFBfpzzxckm5SHUXpDfqoLdQ/y2i33+68YUsumUW8NKb8a6UUpMUAbTyntiGophHqVATGInZ0HNY6tFLiKna3hz2PsTDKjBxaRHjf8dan2mOgY1hbGXonS6dAvDa2hIjT2PSMOqYVcPEh5wyAf7+L23MFQkD5dCJDNclIWBnRPRsThG2ny7hUjppvK+vmtkJdloxL2xJtIW3nUUumxg/rs5UoGH/nujGyKZuB1w9VeXXUlNWnmbFHF4/wKMz9k0gUgLIH1tGJIWLPCLfNzu2umZgbWbju3Oi7PuotBTC2sxhABBBZwLMwji5X5vY5R5CYK9y6Deeyc3JNuHG+NHH8zokGnlL5XwkZt5G/SDps3CosWFdXrG4KNPNSGT01VGhHda0DwCnbpxsQddXqyDdFmrWCF6JGNhXKXAtDjVLRzouFmB8rFftpJtO3ipvXNKQH7aCekwd270PHcCmDxdafPWR7GqvuPXW1x98/5oTKddZz5khXx75Z9L3nM+8ZGhOjj1LGBgrg9SQgkGasAmwbWUBpC7Eqyr/4+CkG0KtTbxLE7zs1HWfq1vw9oz1NNiLuzqF8PgPesTXER7HYU88RrqLLCAQJ3GHKmEUWn/plQtxW7vC1kmiKjJzokhs4R8vdo2GB46/52yb5a0C8qmW/Yf88Y/pGF0+fItLbbnoqn+mg7MGjniPSLduobXqv1JdNNHZ8/n/fgNaxf104Qr3VwVR6h3Qngzb92FGeEubvZGBc6Yg7NYP75wRXIsd9meOyuFa0wLy58HsVN6to7WTRdoV6wzp7y5+avxeyXZPD/mlhc4V0EzsZE7oOrJ+8Odzijb8DB6BhxJtExsF0x8/avcP+EpDuDfuzh7sFNLl3x1W6gDMNHvGuTu+IdC2m1es+WB6hL93AYrqz81nbYjT+ZX9JzKa7D1Dld0bghK0Be0ebHIp0RMdb4fNOUhcnelHNQfSi3cxPbNuId+ZBNo2YmckAqwPZgpS9Ywi+9O56zRuLDqh0afvkTYjuerfvHL2bEzk/JbKCExfw8pQsjFmr3oKMy93agdKQ3jW6YUgQ3Mzg88f/csH8e7NxMJs8+LnzyySxBw7ufaOOr/PYhHcxPq3Z9LcK5IrESbTk0Z4S0jWzbmvLKJ8WG8e4XJF/ucBVbsL8Kt3CYuBg3BNkXJmYQThLO4Nk5NE4RF0tnEPoWoMXGF8hAKcLS1O/XOAl8NdtxWIl/JXjQ9c7NW8/86hV9H6yWJUCpDTK3UsZ7J2CrnkeY19deNRpeHT/AuO5dSGVEZy73rlAqDYoxpFFWBuAZto7i50BhuNS42B0cRC3pma0IXb+GcUWXHhmz/UUON51bgRLy9hKe1QJ9iDu2U6GSPWKysw4R9DnPTPnOvXS8cedPx8D2vOJY/7zPEAZQK1lootW9YPaEtTOk238CfQkRuQQCG7xOeA1oL/bj8c/BTpkG40vbh/1Z4xrKQYe/V4R19nem5sSsDIEG90PEiNOFlGjVYgcx8p4tu8fcxWjMnF1PLdz3FRt2er2tC7VenwbDSodnvedebL7vsvUnvbz2eQ3bs8Wn6Tu8o5oEhQzvGR+p9rgQ524SAwa4HOBFhF86MGdEpVQzh0MPtPBTS7j42MY8yoj0dYBz0mKxQcBwxSizB7Alh/dYKiWFrANzzGv056rC+Mojl2EALzfBnjT62SeRtzLnxhwrBv603lEMyVpHVm3cY0r0F3GJkZBce+d9wh9z5Jj3Is083gHtyw0fbTO86sUoDf07oBOlhU+8Lm2nZmBtaH/RBD0TwHAbjswwN8z6vOM0Oj6pX2+wmnPamQ6Ojord9SJW54IFqdvD56cwZkj0N93lBdZZBwDNdG7/RzZCOaNAUB4XVE+L/ClwW8N4c6kd7+zl7Z7Z5qp/fOE+ZswBoELJhPlOT5znoLg/Hkx8OckOZ4u5Yr8SaqPgiz82tuoocWqkXtONm6M98oFMjeURUwzIvoHYDqv/CysxsZYFgUfbdZoHW8dr1VBXYW5b9O9ELysVUKl5blvBdsvE9nB3DH/keEKd7PbJ9ac+Z1GhihGmXLmGFnBU36KSO8FYW/Yn6kX7EuFKzSwPP3/dtz+q1wEHZheGZi6v4QPRpN0oyPW72xXQeONrZwDGbi9jfxDieOBkyiYtfH3z6QFu3OIGyMH0o1Gkf3zhB6AsJFZpZYPNKLEwAiYRXbkDsjPHj3QoIMOiybSZhMF0NS8eDHrdOrpHJk15kvS5KFAxbXOTblsLOqi4x5+n2Hnd5jeNcrCWX+ytsj4nRq8cMtkHIOTmBmaOcrzTBb0JOGxtcFVOgW3X0+MjUkB698mhBt3+PkTo4y0aUdzNgFQzxe8hDo3lL+dEW8F++cZc+2mr1O5Rf7lgnDLNk5pZ7LtXgXy3lPO4Zzo/yobaGZqh9uikSQdrhaOdzVTs4k7MgnAAAx0Uigvf6ehqgJi/Ps6NGx/9SEhrH3f4U7LGJ+asDuMjLkYgEowi4eMV48h0vK++2kmwAsB/f7ggj9PsBaQczINEOaJOitlHnQEVSqcF/AtTCAAG1ExR7Bby4Gyiq5xMXQb8wGhTR0y5tWR4IfYGcDAXL+chCURvayyNctk93xzgapGUR4fGkYU6Gh4MTCAcKkWdYK9MVC81ZE1KM5drRREDASB4DTKASM7LosGOXoyuRCmTY6Lv28GNBVsuSzZdMLO+spIl3LymJJH/eWJG75Gpy0BXGO2nyzsfq0iH2nDJPm8kOHuAr6zsqzFmJz26cz3KNeVWzPa08zvrYyFXj+bZuKSPRWm33v0k0zfNNRbv//HLmxgAlSbufLejV3cpsHTpTslM7G42snWLpO1BR17sFHl+1FTkYKigwETUSJTLicg0Aik16678/U+9PECIklIHCVDxrtiInKPDZZ32SCgzZsRxO1Z9LB60Lq5911KAzCuB5Co16pu9i3KxQ1ZhjLHdwmGfnmGGb56R7/e4JZFJAmi7zsyjZIv2LedI15lTlv72DhU66iD+++xfKUAzluY9F95/NQI2OXKFo1dBKcOqJcZ9Wm2Fg29UWuZNNsHCgHTTFdl2CqT/B2GeBVgMOZD6oJKs9dyuSI/JZTPpEGtOP7MXUt+SqinxAgAR2bFaVSMRMEs/7yjye4svYpm8F5EI8ZR5PbrCT1QlO+3Sn2VB7Yv7HkMa8X0RpNFPUeUS0R+jgai0KTmR6Jg0Ogq7k7Hxhzr5pdE56ZEXJQzLzgd06rjdvpRrBPZZ8mv60CbZJS9k91kFVw08OKaRIv0LgYXJ12YQH4ZPxd2Ao38EmmmWAK2rxF1ZgB0uhJ0sZqNwGl6rUi3DhRehGWhAWb+zrq26TUTzDoBUg5Yvu2Y3jP8VgkOAQG8zvqVe5BeYkd2sJ48DS7iGA4bg7hbopaT1Ww0kzC0uUuvr4RASwbh9J7pahZAbk0ajR3N4cHxZT1xxKo/a2HOMvatE/V/TW+GHhSmZxmvNh5vn1lBp9EPXZznLXnk52BB0PHBTcr2twVNs/Dk59okdVATu3/TNfP7rs1G3l5+XkfTbaZmNH+abfPRJo/Tf642Lk7Xgul1N7OVzxX1PMFJhzU/R8P+yxnTK/PZ0huZTA3TpcOS4bXsoy3cADrA58rjJZVS6ber3ch8rohvXPyttQAAghTOO4L6epmQfznz/e117NoBXvuHOI4xOhLQ+ePto+vwrzxk0XDTNHb03g2HHyDg7cC2HUasyjx0cSaaQUNr2vQGr+BVmwZkJEqBefzgHO6P1TL2jNECuLCoQ1LGs8fAW6dGFh3vHgT2xtgAZgKwRofj4q4MH2CuSidmnq7j2OPIWk0jEu2DzM/Xn6WJYUof2kx0IXa31bIVw/cb2a75Y62Yafnku9eRZxcWyrIGVUYgbDIAtFlr25w5hnuQ7EBp5WjzYMGgdYTK9gtr1xNNFfV5gb9tYsKolCkEZ0CNNajlYDBJNm7uc+RES39WsnQHQ4XxnQKizSP48lKnx1FuHwBbMYH3ps00xzVAh7Zm/WnWYwjGKKs+0N0efN1dXOPe22jesh7NUKPmoBXW1qHxK5J/aVKEGHhuPoSE0XFvbUP+oM8pWZfGHoq2UJMBLBRdP6uy70f3cJUqRM3OO0pDlllkHGK+OeZuqnEDgHs/TBNiYJbfsoxrKokUpBTbWPVNmPSch8sfsEo3jXhxpxN6qbZJQYpsEwHs73opfB4nWsA0QSNh/urjpwBgT4E1TdLWEX88EO47wtvGjkXPIE3TLvSO+LZK7Q0QbjubC7pkid0zXGsI1425Yb+emAv4LgL06FGeJpSnSXpExQUpY6h65ohw+mNlPMbkaUS5ZoS3zYwe/rrTvTgF7qDWYiPReM2m04p3XhzTH48hFAXEVACO/7Yii6OAvg4ZoXJ0XSWvz8sNwbVOE8laML0SuKirVDMzGJoM6+ylE5bjyel1R7xm5KcIv9EpOr1yTFtnj2aZgTB9HSveCpwYI3Ts6hrgN94Ywyo9xKKFA5gjyDDkJkGoZG7C1hgHs1ZWsG0d8OzpTWIg6dGRHbxEMRYAl//YEdeGciIg3L9MKJcoALVbjI3mFmpHs0ba5DOBqKvA9oXANN4btq+JYDo46djlZ/G7jrqdBSrXxM/U5GfD1mz0G9bK71LCsAEgvRFY1cVZ73FcGdDNmwtQRFtKdhZi9OD51BJjZFzvFuZczgR95//vjVl/77s41hum77t9XgZS8/X7xLaY/evEFpI7wWc9EdC3mSMiRtdIaHTk+NxLkLrLzeIYVP+ZXyZoEHs5J7Jxp2jNHn2KiPdsQerx+51j59J4jScaElxlz3dfNJBVwmgl/NnlivL1MtgmrfeqnQJ0AG4vqOeJ5gANT3/bkP7FKJd6TqyEm4YDUkd2HE8G1K8XG4W1/+3vQ1P2Vx+tWZ6YZnf1+zp23bUSkE2JYyJ1+Gk1nPyMLnTqksS68TnU3asM3sQcNP19q4pSrZ73w9iisRMfxPf+gw5MP4PlmqmjWFgaG5HpYqmjYwFjNjLWhVT0SMbEtsF8WajxMVpDF8fazKVrRhRt+VAQ4Rzc9SG6v9nYJHV42lh/LwZCvAYix2BMH0+coy6tj6SKncBaR6gE5VyUvQAiCONsTKOcm2HtnP68PSzQXPWErmootbdoNKdaw9ZM19c9WzO6RKVoHp27bxYdY+cdQOAmn0Hz9vp5HiBNtYqiq1O3sBmo/vS9ukwNpTXLyPhRq8Y+BCvr5qA1O2ecZkG2Q17k0WiirnU95/Qc2LNpTQEyfjZiVVYviiYyF3tPTnMu9fnUoaznjLKQwjhDNhWQzmF3YMfctg+Aq6apw4aI5qGd16oy2Aq+TE7gD+/7sCFtbYQ9nyRCJiVu8LyHu5w5Nr4/qA8GJFYmoLdGt69EfCFwtNz3nfcTAY4upaHDlHMDaRqO5L/w+DkN4MYLSZs3umhIWvSjKP6UUE4cXZF50qwu8MtdIqoE0gbANBP1lLD85w3lZeFo+ZGRJfQ5rGQQ59uG/dcL9s8TwkqnZX5iSDN6R/r2INN4TnBBUtKXiPoyE6gCdvLoqNPvDUF6WuN1Z3zFKYEVRQHlFI1pqzNfj3oygph0Lcgv3AnF94x6Zq6duSoB5JeZDudl1ICVhZlz0/cd+yfpG56GKaZcEsHEg2NqC4z2DuXskZ8IfAh22JbRo0eZgPVrwPKdOX++EGSFa2WEjdwAtKoLzqF6hyw/CzDHbn9O2L4kVuLtHNNqhl6dHNAc5rduRpPWPWKns7V7B18J/HzuyJcg+jUGPms12v4SELcmgBM0cSSPFjzC2rCIWaUuzAOMN9HsBQYk9+ixf4pwMp4K94LqgzGGrjPmpE58Plc62tkjvVVsv0zQKjg6vgX0ecbFTG8MdS6XSLB8pStLA8JdbhLeKiaUmbrW9L6jx1mA5xhvq0moTx7Yi5hFvLTREJRpS4pHk41Ot41HlqiYIIHPcLDRcnzf7RrNTxHT943dv5eE+P2BdkrWPRwFFKp7uEdumurTBGhtXhkxG/nvTzLy5tgZgLQpDGdvj14aRhhmq+G6agzzvZOdB+DX/KED1OcK/3ZHezoP96on+9c70D03mpDxvOsi6k4CQl93FtqH8HFB/YsP09/pjb4U1jTlIRZ3egOOkVpFFWwf871EL2jA7l6kbqrx7xQ4itylewc3JXMLulKtGQKnxZhNji/90PylCLQ6Fm7VTZ5muCzswyKh4ZuEO3sPoKM9LQfdHHXdzEoTcLZn6zq1/DTnGMwc/MgpU7YweALJGKSFQUBI6+iiQfTXxxDaJ+oE+2ka7J2O1Y66OckCVKOGX+kgdb0Dkh+oI3nLhwPMCOEaI7U0nNpAYx9A0SnDmAtwnkcESwrwMYg5CfxdqXxsS+QgQNpGUJnZ2EMwx7OaTlytvG7XYprVHliHZu7l1kaUS5cCg9rhJG5IzRdewBUDu4tMnqKZTpz8XD9Rn+jfGBZubNsxlsWNQGhj1s7LkB6I2Ygxa+4D49svC9zb3ZhlA/p67uimQ0CZ03OjNQJ61W/q9FDOQ9SKfr7INZ3tvDcWcDtkAEqmJSYMU1YMoE6zHqKZ2mDtegeCRspQb6qbOadAWa7DD3o/iXrhuRbNWW25mvtuTuK+bqIBjNzA9c5rQnM6s2SLzmmwhTGKvjhS77dxGmCbTH38zwqCpogYaE905fRzQr1Q2G41cAt1J6pX6MEbpd7mBS5XRG1ZmCPCO0XD8W0VIWqT3sZk1VUAwWf5fELYqrUcTN8ZBK3huN17QFi08rJIZEYwJs5fd9RPyRZjjhIbyjkKe8ixW9AvvXbER2GYbyZzxbFps0xCAHSp3hkt0/eG9Lohf5rFDd1lZO4t962eyRylt4L8MjHDrlGDp7vmOhN4ur0J0ISMPjy6gBxXgSTNIXDUuvTJY/4h4ck/in121zrKU2JbRXTo1QHBGcBdvu0CboFyIugBwJH1EzV4dfaok0OZHcLdI+xk1vZfE+KNer1ykhtnYUA4gjqBO7oXY4cwkpOYEfZnj+WPYmOM/EKdYHwI2JMQaMh7aRMZsPTG91xnh/DoloNXZ4/5XyvaKQqogvU5++yNecxPcsPwDmHt8t7JBqabjAEKx73584xwLwSwp4j5mlEPLQBeWLX8MpEF7h3plSA13AvcElBeOJ4tzzPKKWB6y0ABYuaItzuCpur42VoU3WdlowirDMlK1Dlgei/crHiOT5PEzjgZFfudLNn+eRYGLyK9c6TLEXKzpg91xmtGmToDgxiiACD92IRxYL5Z9w7pt3cg+JGJVtnc0JaJC9WF4np/Zx+qXwv1g9rysRfk/+ULWUvAWoO0/aAnj94I7urnCwHk+zr0PIcRsTYc/N/yUAZQc/UAGkByHq5HHRsdFzHvCRCFnVAThQNGJpguCKqdkngXdeTyBlbHwqF/p/lmytZ4P0Tq3tnY2T22MS51zpySCh6V6fPvD7nGDw7iXBgNImDJYlGmhHZeqE+EMD/qFNVjoDEgk7AaylSiD9Bh99ZqoznrGFZAC+b34bodAEXhObVp3M5HINEn9v92ydBzj90YSp6Lxcbubiuj2xgYvcSdYICaQaBHDNPTWj6wQa5UhC0DrSOA7HQ/sWuZ1WJxjGg9bOSsUSL9QvDdIbm6kfd1M0JqELPGrwihQedsMA2jv5J46XNkSUGhptMFjm5drjTc5Io+carmHmLwmSKZyMc+rqPICVvX7wOygdDIHz1OgJlw1ECp548yfxoJY2kfsklh1Mw0NJ63B8/9x8YxVTwAP2nAMDCnDLowfnzPcRhAcgGud7jzwnNTqxtVduAPmxS9zvXziDMZudgmr9/uNHnpOPfPbmjnRs5gSmOjaEHxfoyGAVh3uMTBOL0WnCNgTJFjZgBYFoK/GD9sMOH7/4Ub2H//8VMjYLX9t1lcf2vG9M+rBVy2mdb4cN1Qn2eOebdiIZgquEXTxYZUeT0lK4d3TUa7e0H6LqNYD+SvZ2t50DgOV5kB6DI7SxVs9CBduredY9Q/HnBbRXuaCPT2ag6rcM9I10ynqYldO2M4kh/aCtF3aZxM+v6gXjF56QYmwIIHjS5OmJGVOz9XusWQKGCsp0CzRuEIlV3HNKBMr6zTKpeI/dNkuYBs5yiYf2TEBwGJau/Yq8oolelHsfDkOgfsz0lGrQ77J7qm80V7k6k185sEQO90xrrOGJoeHMqFjGNZPFoCpu8e+UQmeP42wFK6jpqeconI5yjAL4pRBvY9x3uVoGTR/F3UFESAGN8z4irsnPbnJjqYAeD+X09I14J0o4kmi+kkvXFs6HKDLwRPYecN1Uw5hRrA6X3o6gwsxoNWsDaLeGkTXcI+8+/qzBux/gzNM142J5I3Ji05ZTk83+Sx/OuB/EQNqUYBlUukfrXSxZufE7YvZAfjHw8LEWc0Ds1QqhfUbulyInNYLxPQgfXvJ0w/NsSHaFpLo+NXFm6GQFf7LG2R8PWsJoNm1wvAhcxvBeHK8GjtO/VvvMaUUYEnUxhuu0VNuJ0bEr1mtSzePwr8bUP4452sxz5MUi5LC8i683p+vY8oiOjhHhv8+51Skj/ebQP1lx+to++ZzNS2scjdensjR7aAMW69MuerK3ukkRXrxh3/7UEDyD4YUwAc9R7HdarBOwjJLaT3qPvTUecxdFdB5pZlofyTVnCj7lM1WG4TXZECxtqkmk0WLgE4/TTbz2lIr/a19mWy8ZQGSiMGLuyPzRZ6DZO23MAm2X8isHePzfLjFDSy7k1GmhJ6DO8J/gAZ40llWfA0TRiwbAZw2E3LYGRqEr0ZaNzGwHGXy6hKC95SKdopUUZyikOvqSaKo7NYtXZeOpiVcZL36bZiRAFbQQLBHyDAC6Zf1EYRt0nW5bqhz5ESqgbpOpbauMc+DB4pEgjGgPZ0Ipu5SQ2h6Bht5KlRSQKq7RiLJKHPE79b73lOODe6qjXLUM/DUm3SZXEsCoqAIf8QI4Xp7ZStlmPZXy62AdJzTk1IJllQ+YSGIB//692QLrQ2WLzeWcWmr6nxNUfZhHMDrKmbHRigbJ7HzyrDrptPOxYi4egH84d+fnnQhCJyCj0/ghfWMQ5WUEOodXSu7z94ahDn/4kj4HbhlxOkaN52AHNATR71wry6sBbu8GVn46+b2OIL6svMgnnNRzsnpPedz10aXCebsv9yQvqximCdN6p4K2YKqSeJltgK2cXEhStcd6OcaaUnrV7nII7NivC2EQymYFltOmZL75mLqnxmZSryC4X9zHILKM90KapmjaGqYE3ZSWI0EpCuEojrYbVjXmqByGAlY3+COMnyU4Q7s6miJcbLbF8SCYcGtjScA8KjAQEMw35l/+v664IggNTqvwQwAGTQ4l0+661gfyErWM5kpNSAs38m61cWjkf8zty49GjwlQBvurahn5ToGgILmhrWr2T7unNY/rUJIztJ/263nD2/07yheYPbZ7LI/cuE9JYtzFXNNeGd42u6vJmrN73SIRwEvBIoCst1jqzhS3Rn15OOgGCAl8eFbGq8U59YTgFeAL7fqsS1RHQJmGa/KJm17sAxvoRFK1hnnh8wf9+QnxL6JaGcPOIsrLM6ezOBvLK4rnS2Ut3pxPWVwdPhlrH944z5j5Ws3Rzs/OnRY/nXitFPCkw/dhv1O9EqhRsXjvLlDH/bESW7r86BI+wpoqbA9yGSBTS+T2pbPSBhzzqWa5eJml4Nmk0B8NzMaewExDzDlgJ+900E4O2U4EUX2iXiwt0luule2UG7c6TalmihuWSNxEFaD+O9v/oQXY7zHr11jlcBG9n02uAuJ9bFeU/WoChA/MhKIHgyCDIKAmALrlOHb2tcQHSnr+yePqcuWrpAKXuhC5H3wLp+/J3TwoUVGG5Mfb0qwvPnC8GDaKjcfYPmpbn3u4BKD8g620XwbqNgGcu6rZgGTAFwFxZJR4HtcuICHf60eHrH0b82QHgH+AiI27M9nWjukZYHi9LRAGthptwR9B/G6tDKJv39rDFcVdhmqYsUQEpWUTaosrGmpGim/Kke2NgUjU1T9hHKbO0Zrh2+r1rRPl94jkYvhAkZHV4XBJJeUjPILgsAA5hlCPC7EBZOdXIKqLocH39k7QDbeH0YfwLjzzq2l9xLY/E+bDqCbcg+jGu9IzMK0GGuEglhiTmWFiOKjEudjqtX9l5rJI+eV9bxq5sffS1978rA/ZlFVzCnn0f/TsfEel3qRkT/OyX0+wo3h7GBy+VjnZtzdAnHiP5+peZPzSf62GQD0/u43pXRdtwQuolxUuiMg0EIcPPMqkm9RnWsDAzdcW/8ucOo+K8+furu2CWryMlOoj7NInTllxTfd6kC6xIzwX7OviTkX89MV79nLgKiXUjvMurSfkaphfOlIX9mJEy4MvQyXDc7OOF9EzZpiI2VkWObiEM98+Ro0TMqRnpY66cF5SJVQVXGubkivWplTEf6dgdDmReOG6+FzRgvDAF2jcCmXJgR2BKBZJvInMED6T1TO3eSKjIPTO8ZdSF4KedkmXJha1JP5jF/2wEHe7+AjJgzF1CaCmieqCfq4LZ/u6BKeG9838kU3quAQZiWjO+bfy6nyNcCGI0jzCkNBp1j6vdsx6R7IGz8b7lQC7h/HgYI1zh+ZThxQFylVq50bL/QhBMFbIZ7MbZM41byM8eL8U7jRw8Oj3/M8FvF/EdGWXj6bhKMDUBicGAOWQDi4JX4lTBMJS06eU1QT7gzTLpcxKR0z2YmscBuP1ibOks9m2jzXGXkT0sOITfE9304ecUN3gPjaR7/WBBykw0S9aCuUGLgahPWW1hnwBiNKtIBvf7KZ3b0ArANTde36JgfVp/I/inzoIakHjycgC9GLVDPWy/UE6XvqznimWfZzbnot8ImEe8QbjvK52WwbY2ayH5KXLSih7/vBGlFWJ+jaaCN78r1bjVX8B71nMwkglzg3+40fgTHTaLUXn3oABWdUv3bpw/RGX/1oSXtVtau8Qwx8katIyINi9Ybt4bKKoNXeeO2Oq7gKQQ/6K8ALtb96WyfuS8TcD4JaJMR5+OBfn8Yc3Z0btpiqHVUOsZqfQj3VaMlI2rNXrMA6HW3cXFfJhHltw/sH9/soVZOTROHBdgqAQEGVp+XES5dGx3BanoRV7HGZzll+AD+rGy6+jKMPS4XPu+xfUKNJFFzDSM/R4qDQXWOI1oFDxIb054XM0m4NZvLvJ0ohwmPTM3hwUjQzhI/I0yjVtz1M2sTTZ8GkO2bEps7ahe388iSUweyhm5b2HAlwzkicCSUW5ox2nkh6FJgJM5tZT1RqjGlBhhz4e97T5B6XwczLdmcysC5Uvn6dp4Vfl79HjYJYQ4fQVo/TQR0l5NtFPT92bW05yGFAEbPsASjqzvYzmutj9MRvLC1Fiyt2kV9HKUZAI+JGqG8MxmHgkkbDx+iXbihEQY1F2gjh0vJxsYWGK/HYEoDtDlngJBgVswhKdnvuIMZzI7RwVHMQOg6ri/ZiJvs4i88fgoAum3U7WiocnuaEO6ZfYePbBEkdKeBPyu0+nGXZdRw73T9SptCDx71iSL67gbtHl83YxPdXrhISLRMT6xoa4lsSAteGDW5eQYnI2tW0aF3pB+rZShpjhpEgwUPCblt5i62hxg4tLouPCoX9UfG/nmS/1/MVUltIMX702sWOh4DwIimq02ezt3Whfkju6gj0CDCYx0fdweEvSG9Zo571YF6qwymFuMF2TZehG3m90CTBA0k+ZkgNKwd+6coblkxN/SO7ZeZu+LekZ+jAdLuAa1sU4NBFYDmCkeg2lzCFhM6g+vkMb0W5JeEdB/Htkld3vYl0o1cyDi6TqDTksf8oxgwVPZMx8nrL6wQrLO3cXtLDutXdtcG0VLWhYBKO6HDygs2vWYJLxZTx6EVg4JvjpddIfDvjoAxPKpFR+RPM4/pU0T6sSHkZufA/IMRKmEtmL9tQ5e6VdsA8dwkE8fzqEqINFnK6cfG4PPkUS40KpWnhDYFM3WUS5T2G45MFcClHwSN7cz4CTZ9OFQZI9clIn9ZZLzc7E6ho+J6IWPu98qO3tJRXya4Wk2TVC7Jrtf6vKAtXGS1SafPEt6rDP05wb/duZkDr/X429uI1DjTGdqeF15v13WMojQCJkW0yzw0Uj/JAJoBZNFwZ9n5bxsZsFK5e5dHPwY+a1q/7uZVuK3g5tgNCgy3X6myMDtWnD22DwtaXya404mLx0E7B8DGc7oYKvOjYnoFJybG14UQsPEsahsZgcJa6NhOtVjt5TzOB9EesqlDXJSqFZTxmoLQHg7vVTMIgQGcAZ4byiAJ6MQxM05Hmdqk0jt1bf0Q9CxjXfeg+aQ9LRbQDEDiaBhGrX3FLldKCjRSBKCOvFEa5EtnlIuCdQH1NKFA9ItDT6ZRLR/aHiDEicT4GGsrjJ2ZXwB5X3GEcEtUTJ8SwWWK/H6TOKmBEfHTOtp5GYyVfefyncrrdjVRQFg77T5+bHC3xzAbiZRqML4C3ITBtXEuYLE+3XvTJGqgMrMINwOV9jmfzsOxr3o6ZbtzGeymPAwU1sN5470ZTTClsdnRc/o027luzudSh4wjFxv16nv4YJIJwVh1i2+KYlxSY84BlKoruK/rAKm1oYvDVzXEfdvG2Lc26hWdY+zLuhFsWp1cIHh0YhJb5p+KgfmpETCFrAy89bcNPVLgbexF7RzvpIB6mRBv2TKXwlptcWnnRJ3geUKbA6Iyip8WxOsO14FpHyYEV5oFXZZfn+TkdOY2hXO2yNeFMRb+QR2Rc9KheJEIkkoWps0RPXLRAgSA5Ibqmawe3jayaqeA+Y9NmDOyXOla7PcBgg4Fn+UcMO0V8TuDrl3TOjYd17E3l9VlFfk5YfpWZAxdpf9X2jBkfKn5eJotiM6Rq4lvSwN8EH0j403gINmDHq6ThWsAHNQYA47HvWP4cgdHHo4AM153BhFvDfE9I78kTK9k7VpwqE8V+yXgcm3m1C4XHhPq0pJlFapLVwGtmk00+kTbPzTksywO0+uONnkUz+8m5gY4ahzrFFAXagX3l4h8cQhbh3fSYLI1uEeT2JiK9ZckESvNgHTYpLYtikElejTvJGCbY+TpByOOyueFLR4STA0I89hhhiLNeyRgk6YGZV4rR+nxVhC/c9wUkx8SgrWYrKDJ+4m3jO6A7dcF8eEkhJmgvE0B4c7rLP7xQPlCHd7+kpCu/I56CgxgDw5w0eQArno5TxOmb2QYtJNXg7DrKTGv0DcAvGb8VkxXowC5zoG1qCuduEH7STEWkPivd4Rl3FR7lJ3yTANBezmLuN0BpaN9vnCj97pbzIbLzA3VvmOvjQKyqPk7/+xyGbljf/kmJ6NUyfNzn56p5UtpjG6ds9onp2G22m1aK9AOzKAxhG6MopTF0Idm/8FJCX0Z7OLEUFwbm4pj0RbM0zLaDmLA7f/5N1z+X7+Pz6KmBS+C++N4DMoAlqHN8mNBU0elK9Sk8fkG62hxLcJ6mjHkMMZyD0pyNNetAx8dmfo+1TygUR0CPL2Ervdl+jD6c0f3r0aJHIERQMcxQMByWchaSbi15u/1SBaxAzzW8tnYwzs6fK3xRE+TOtpQeMILQ/QQp6oGZCdhKh8720Zeb4y8cU4YHtmcv5zg18L3L+CQekpp03hky8iz8TcwzBRQoNxsU4EqTnIBbG7dTbPXPl3IrNc6nMjCDBrw0g2AgmN9rePoVR+983e9Q19mbgxV5ydxMhoM7gTgmQNX2WU9z6X1wmGx78+0enINdMsVlPuAMIdHeYGylyiFx1pZP5MIYDh7JduTOk45r3TDVStBXZrgLieCNwHq/b7S0FGZHkDzjLffcUnuGeIUds4p90ODR6vGhrqU0AOd5HZ9ajTS9S6/1EYKwV94/Nz2ODiLCFA9oJZpGxMnifzTv24jO+kgHvZrofNXFptwz+wXlYWQWXCAVv8omOxiQOEu0yG+suZNxXphrQjvG+NoGttH8qdlhIWKE7XNkSaAR5GcNIf4zt5cpyybjJHioxrD1x2dpz1Sz9cj+1p97Vh+3xkPsjPXrQeP8uVE5qP1wUR6oAXHUXnpFgq8/Y3F5/unCXUm03QcX8a12tg4bGLaEHd1OasGzBkrZ87f3jG9Zeud1S7kOo++Xp81MgUCHhtDn5WVelSU5zR0cwBaBNL3gNM30SoEh+v/40JGTowKBIEO+Tmw+cQB8bpLniFBYzsYaHztxnid/kUdZp080pUj7O2LAPUg73sjy+e6dCLfybDGh/QCXzPSe7UcxO7p+va5I79ERuKAGjs1mdTZIz/RiMFzOmD7X56A4EQfyQ0JOpnMHhzS+y4GC2YK1pnHKb9wHFSeyFT70lHPEY//9gn1ZTGmr54YRE42g+BMWcF2Yo0gWeLKSsIvyxif5ort356o8WtNfrYh3otk8hVzImoVXl0ktukuOjyJ0/BroWHmbUW4ZaS3HfHHhvC+SgNQMoaH1xLNVWiQxUOukfNEJqZ1tou8nOi2bI3v6cHQW8Z5FNMWde9QPs0C8IoJ4lHIMPpVRvLSb6rmABOqez8MCD/x6OoK1NyvTcZcMQ4AIs5EZGF/dPRaCtlBW1zCENgrQFSG5jgikhYQ6zzVWih12er7Ua2X93ytmdopnBZjpy7/n29SAzZGsar/+/B3wBgfO9HuysJs42D9vIcFycT7tcFd78YKqQHCHVgVp65lwECnW/cxfr6v43+ai1YO7kkN8tX3bKO5YmNN17pp/NzOGBT+myz21uwg7KKMngGet/08o11OH8aYcDSBtCRGidoHsCjyXZYBNG08dzT2yEbB3VaCIe1fvpx4/hyMTuidvdYyMrUxrY6R9fhLrI59p71bm4uaJUwbmKRvV8ectwevXRmnqxnTHcLE9b04yaYzE48AfXPtqunjIAfQfx/xPMXYYjseyiZK7mSf0wB/TvqwK8elTs/pDxurPq4BZUs1dFqAHpyzAPN+fwzGUPSDxhLqJkhHr9s+vj8d6wIiD4jAPBOMyXvpt8ef7hky5m0EnwiBhg4Fa7XZvUGrI8noLTSS6fmk491S0LedE4Y9DzmKNIr81cfPAUCAuxSteJP+QHUJ+r2KKJzOpXYeSfMqRO/BoYrhI153jo43dhaaZmkr5igEwHL71rl4CWjqM52G8fVhz5F/PYPJ7WRq0hvz0KqAVJosGvILR2Bhq2KWSIi3LPEXokNaKOzXhZvMHAFAWch+8CZ5cCRvlbqsR4aTkGiOHakx68HRFBG9AaQWRfOW6d4FZCy8jRtM9w7ztywAqSL92JCfgwVFM7SZo8iWPNCBfGb+XZ0DvOgLXeVzz98ywtqNvQJgkTlhq5i+7ainyLaTc8D+zIo6NVkAQHqXns6Jr92Cw+PviY5mYfaYUeiwf2XOIQC4SrasTmQSXWfsSn7ia1GbV220qxq35V/qMuNztNlh/mPD/PuO5XeaV+rM8W58SOzOxtzA5Y+M5Vs2p2y889/3TwnlKWF/TqaR1O+ySZ+oBjMDZF1dg2QWVritIj9Pdu7vnydjCNVZjU4QGO7F9I56Hk9/PND9Ydyim5Qp0ETSQE1g79hfmOXn5bi41tFOEfE9M/B8jgL4uLstnxbkTwsZ3beV4P5eEK+71bl1kUq0mTe7JgtS/sI6xLbwGtZKRwCjdk7MIOXzIpujCDg+R3te4O9ZtKgd+e/P0Gqp8vkkUo6dwPPOxTS8Pripu+9wt9VaGpQBdLnC3VbKTCRYF3uGf7uPUc4hcuKvPri7l7GRLh6a8r9njnCUsdPFSEZsNIUs48nk5m3PpaPM00Kd3Z+K6N1xEVBQcWRZ1J17XuDOp+H0VG2gAAsDC8ro6YhYR2hqOqnNjBFddJTm2k2UEtiC3RqfW/VOwRPMaMzFMlnnrYEK5wbjKe9fRf5OwZgu2Bpno4uyuEztM+gxkWNlY0j9vuVnnZoH9O8E2OooGwADluVzuNtqzJmN3ms1LaytYaphVKZZX1tkTX2Ow11aJTRZ3baPncyeHgd9PzLytGMMwMbhB6eoU3c2YCYKY8D1+LhDj7MysLUOwK3HDjBds7F9Ct5aIzsp1Wv9vPDf9yzxPhyz9iMDJ59FjR9wzn7exqt6DSlDOE9056r+ExgB0HpuWXh4HKBbJ17bTv2inqMCPLvqHCUn0E3TAJ+FAe7uscm5NbIj4f24Fv+cASimK2Pdtl0CnwP67U7gF+TfRbdnTmBlD5UNn2dKSLaN95H743D9MztQTWcAhmbxdpOfrXaf+6uPn7o7tlOSNHOQHZJOvS6i7zaF8Qpe2JJCut/vldU5j52aH2HmXGO8RoueETI37j73v1/I/EVHQb6YJeKPTRhCMnZ9iuYC9tK7SLEoOJbNlXoOEdN273D6z9U+E0Xt2UwtLlP/kV/mj8YJ7+gunZSxoN4qv/AkZAMCF2M4Z1osABZkraBGq780i84r2OtkweK9wq+VGq8lYPsSUU6BkSzRIX+eER/M5dOeWHSykul1l7y7ZuNbzR8ECEzg5bW2MWb3mbVvTWJoGNxckd4zjRy1G4gLGTSWFAKzljyma8Xpt2yGg/0lIKwdXjSLrFSTtPzGAO24kl1tk5hB1mqAm65d6ulUE6nv1/UOV0Tvljhe65HjVo6QCTC1V1gbQwBg/o31PmWRLEVhQbU9Iz6qNG0wLLlKNZu2majJp3uH/ZdlxP84srPpVuD3hvn3B8KjWAtIjx7T73duMoR1bhPjaLhJof6wyuuSfSWwVUZy+fd3Gk0qR7AtkIV0O0e0en7pIhvWYrWNZuZYMyM0DiDQFQmddUCfInu6I5k4q2zrIPCSGChqqBri+yYu8WpSAItw2ZVl5WeuXy4I7yvcWlB+OYm+iTVZfY5DhC2RHz0yXxBiWrGbc6VhjML+GVpPZm7Zn3gw9oVjIHPmSRirisUt7wsgs7JtY6d/yNojK1hlPCRslHcjHua8kL1TNvEoZj8s4hp1wegVYYgULDrH51DwocdQmLCuwK93LnoKHhSgSICwkygaBRDGKh0Ywj6lIcQXcMyxaxvsorB0GjWjbJQ6d5X5VHNJPzF7rS/SVnFsXogEVrrIawwNgAEynLMRIzzBRz+AHQDjd+T9uK1YviEB2mZaV/1Z/2AFJu9XA/wpgFFAR/CT+XOPzTSX7gjoLosYVqqNrLvqB4EPIL8vSRh3cZFr3t1hlPtRW7qbLtKOjzKBcn30E7W0Tly3Fpmio10Fm2oOyYWA7EFQ5tQ9vW6D1dUNBngPMWNS8EMDK+fRsUVE3eAKngF8jGXxAoCPrGfv4qoPFgmkcUJDF+h4farBQ1twVH6h43s9dsrwHdltvT71ZzQa5/YY4PAI5E+LdACLHvn+4AhYfzfGD40i/SbVcuLkdQsBIdrQGpsWsEukTOts/9B6yj/LR/4HHz91dzSNAiC7+JVBtABp7DWLwUM1dp4RMZ/Plvmn4l0nyefIBfF9AxxQPi8GMpO0G7i9Ibwx1BeAjZx78CbQNTfvHEx4Di/GD6m60h1kWAv8ypiO8pTM7VklhLpNgQ4w0Zl07xDfNoZSrw3pXQwepWP+7Y75j40O1NaB4Ghe0THlzsy5cpYWhNpRTpHgVxzDYRNaO3jmzF1oeKgnsoauA9OPgunHzlYLiRkJj0rnqYA7nxvSWyFbGT2ZxuCw/mNG/pQQNgmDPhPM0CxDRjK/RLjcDDAdmcHt60zgp6xT8qgz8Pi3ZnmM+uiR+sk2OUyvxfqMw40LWHmmy9nvDY+/T2zxkDGzjuC7d5i+rYiPinStyBeCw7AWxPcd0/cdfmuY3jN1fI/Cnt57I5P4wpE43DCKUKPJ86TI+NWXbuBz+xJtHF1O7Bt2pWP920xN31ox/+sOrdBjTl9Amz3i+4ayUH+ZnwIdyhjtL+lW7HW692hzRHrd0JZEOYRqJ4ODl3o+OEYhlWeC+3grSO+Z5qhLImPnQEDs5LjK+aOa0Pi+waqp5KFhtGoE6ZE3R2XYdPOlRq22cPGtFwbplpeFbLZzSP/x408Cdi7c/pER3jdqfzX/LHjUZ7KKOi4ONwKG/IW1YvCM1GhPAgimSJDqRnao6oMYFMsRqRbW23jpJxlAvQHDOd68xQ14FF5bir8tIrLILLPt6M0NqC7y0zKYLB1JaX6ejqMOY+GuQFDHxDqSO4CsY+OFCvxtPHZ01spIynSF8jkt305Hces2steAASgdwaeZVYDR9wvwNSXuRT+Hvn4/LwSOy8RFUYCngiluymXxV2AyT9BMPupDw9AW6nsX9qddFpoMBTQQzFa416s5XQ187JlmCo0SEdDXn88cB+tIfZ6kd/4AQFT+oI5kBU/HDD3JQTTxv1TWuSyB2sLq9nA4d3TcDZDtWzV14QAo/X9nBC/nT7+coFpNZc6UrbNjpS5uMUHYeaCssR4Lzdf04/1pJqAxj/pa+r0Lw8Z8QmliMY3fkAsYKFXwtu4DhMq/m6FHGVJ9DokqMgYxhnE+WbtIH0CxVqhr18KrvUQ26fWnzLiAKfd8+bh5FOlB33n89V7QZaOEZSaAE72ihU3LlMCO7cT32a83gsUpwV0ug9GdEnWCh/uLk1GyvrYTxtKe9yceP2UC4c7+oAVbJoTrzpwiFWs/L3A1MLIF4GKm8S1K3QuL2Gc6Gd2agTPHvG6rlpUEAUJ9uiC87cLuOWFO2EfcpoB43QVYCHtwzxxfnaI0I4zdXRXTh+a6tRSQv86YfuxW/9OddvpGoHbkzwvrsAACxtYQAS6ijmCunoQ125q5Ol0HkBtr6WpH2LLEkXg4z+qx9M6Lb/vbBL9Rs8f3ALthENAwPiSsBFZ1DkCFmDMy9pdEMJg8mzHWJiBURtQCtKJk/+VnVr+FtcHvkkXXYFV3dQ4cgwZg/xwRr8winL9ndM/ol3LyllPIY8ebZFgJTPdnKSzHxO/Oi04xSl9uG+0dLTlz+zKfka7msHekW0G47chfT9hfIsfmq+gVzwE9Aq1JNuErWzLq7DD/yATMj8oA503aWmrH9itbOXpwWL4VxFtBOTGmZn+JOP/xwOZnccQ61qA5WI2fK0B4sB837IxBmb9lAZs8F/PLRF3dPaMuEff/dkG60ujj14p64eg5vst42vEc7d5h/zIbwPV7RXlizp46ftscuDm6Z/Q4y44acJnyh/2Xs9TXScTSBORfz2IEoZGGuk+eM5DLtZ65GUCnKalHxuQsPyRM/ZyEmVvQnibZiGVuOvSaEOadLmH2fveOASYOtW1+DaifKIDvl4UjYY2NeWzoLwvanLjxdOIMniU4/sZKsnaZ4WTB8vfB7v+lhzj/+rrJjb8zv2tdB9PgPSubgsSqTN6E3KxyEg3fdIL1+GrI85EZmpW5kgVJ2kf6aR41a8EDgQuLdZ7qc5ourANOwJ4yeMfRq9Ze6e/0wSjRVSysUlqMYXKPje9DAJ9pK3Xx1/xAdY6eFumwpaPYAnydg789bHRoMTCAMEQZCHWMIUMYMTPbbtcDdZHaPjLG5gwBl6lPDOjPZ76Hy4ns5u3BUai6i4EBDIQxMyCTCwGiANgWxWBX2NzB/l4BJqoN1WNaqhkJeghwjoHUpskTMw/H6jI2l5/X49TmhPB6E7OHgHwXPzLf4LrJtq2CHmXTkSIBM+pgadUpf57hrqudO+1poS638tzpJyFl1t2AmrKo7vbgd6Lj1z2PdpttJ5sdxkZEK/x6PPzu83mw1p4jXBvxI9hmQmNjXOi2oXGlsjHjTHOXUwMRwHNCNXNHM06McGWEpdvmQt4jMJh43WzoiF9HscrqqaSjazyL/vsBuLuTjMpXMXkUpgU4uZ+4lKC6XSfvwc0zTSKLOoAPm+naeI22PwVL6+f7icfPuYBFnO3vG/OTAAFyGsnA5H8GOktA7MS8G7qqRGMlKewUoTa0pxm+NOsy5HNJE8Vh7NcWImP2EsKaRshERHjn7LWZM8idlN95QrdTRLhxMdbQ6Px1Icujz3OZ0ZbAJo7K8R4rugrguEAqGKxLJAP0NJFN60CUHVxTdqWRFannyUaTYefocXrluJDgjlVkW5gwvWcBlSPIuZwj2brnNIKepS92/5zYdSu7oPkH6+tcbZh/P7Cn4hKOj4qjm1V7iNPbLuHZFdvXGctvD9RLEpDlDXABwPnfPcJepK2EuYRofC+ucsw9/ZDasdyMhUtXjpnjVpEvEQ2grjAznzC97YxcEWdyulJX2k7M/vM7a9y0tzjsmnEnQccdiNcMVwjOXQOP8Slg/0wgGlaOx71Ew+QnHh9fO+I1I9yLAapy5r/Fe+E5mRumRxEzUUCDfKcPibzwDuXkESLBe01kXNWUorEyPTCCJ64V8X3HflFmgQad+Y+N3+2XGX4PH6QI1Ch64MyFPr7vfD9zQJu6mJM4dsZWUC+ThZ/7K/VIwXO86h4Z8daQv54Zkn7n96PVcOGRMf92Z7OIsOq9c5TTHXfULlfE0lCfZkbEiH7Xt0bziBdQvDX4t4f0xrIdBA7w77v9uTvVlgaE3hH+uDJLzTNH0/+4op8X1KcZHmQPw79eqX9SQfjPPGoFfICbwihsB2DdnzLWhQ+8oateUMei6gTU2AkxeEBHYaUYK+BuDy4ik7fn6jnDNTKa/bHCpdMYCz9Waxwgg0dtVO+dDsRSBtN0AAAGPpXBOc2WC2cLZ+tALbxHz5PEpmxchJVd0cVH2aL94wjTXe/WhNJ1nAZAa+16DOggc2n6ueN7VcG7vq/eh6tbwZ+6L+dI4mBKdFVqTp8yqRYXswzWUqc6qjfX2JF9AGf//mA49L7YsXM6bpbnw97GaBEAfBi5e8AYdcvIXNtO0Dtcl8Ve2Nk+RTG7RGssUR1nn2ii8o88xvgCmg2Iyei3C0tnWj4BzADgevjgAHePXcbro3HCQrX1MyiD3TrQCqCOb9GqdgVA83TQFMqYPAYzkkBBf4qDAdSHADOyjGF87/pvYgRy+meJ8NHnNMPF8dzUcfQ8DWYxZ5pKgMH+aqCygne5bvrtMSJfZBpgIExCvnupXDgBYxjdtpsxjT8jTn7RADpP45hVwsk9xXSSOgYOHqorBEDm8c9ZgT/RBfxzGsAnlna388xuTtnhA2AHcJULTKJMNCtQw23bSZDwkqzz81g71c4TqgY0Z1Ku8YcUWT92jqBlt9dO3PH0KaK+LKinRD2cBumWxp/R3DAPhOtmWWb5hQyh3yodoQ2olxl+LaIzZERMeBQCJOk+DTeyNU1GvW2JVt1mBgB5D+UUCDaDtyqzuog2zZOt0R1ui87MBer6YqAxwUXITUwJZIW4k2SuXXql9s7tZN4YMFxZ8XVmfV4+U0fYJo4tOc5skhFIgwz7ikV/tlbkzzPQgflfK9stJgc0IN6BloAeQCD7VhghAzptpx+75Yil1x35mcxevFeybFeaZMpJ2zxoPmmzRzkTyLgGG3PWhcexLjxuyjzSlEO2U7P/1l+SudV5/L3Vo/XAyB4188T3DTXx+GleYX6ZJM+xmzu6zWLQkDif8jSNi0KpGseaP58b5t83TN9WRu9YNE+xzYzF/QS6uHXUW574PtNV3LtNvh9QI7h/XSzIO94zaDCZ+Pve8Tx23CyFt90c9j14tLPsliVQmVVx3KR1T8BXniTSpDMmhiM1yf2TXmsLWvYO4X2jQUQWcZfrR/2VJ0PflojwxuiS+vmM+iJu39c73fh7FsaPIfEQTWG7zAzvFSZSX5ubt43tFcIa9Cn9n1yuf+mhN9fOyibNDCPA0tFSG2JvWXzcMg+nnj5CsEo4e3rtCdZ/F0bLSXuHc47i8nrQ/wmYYDahMn5HFlAAmI5SdTysP6NidndYLA1EtmE+0Tw7XcDauD+NEeSRSZTnUObrvg7Ao7EcOIyYlbk7ul0lX8693XjPu5zGKFbHgwqecjHQ7Gofjmp1H3f5u1ppEhC2qM8jI8495LyR0aFq40zjF+gmDxqYfma2Yz84SPXepuNEdTHbcVRTRqSGrwvgVebzGL7tVgG9W5YKxDDOjxjYtKHSBtWg/WnEaoyrZOf1eRoVesfjc9DtGRDrNGepA9ZMHkfNnJh2VG/Y1Z2t7LN8Jo2mcQJkVbOq3519XypZOEg33GEc3Oc0AvhVM3lgIJ0CdpU8HOQMxg7mYppXp0BfmUAv5+yfo2yUMT2w507MJe5yHve54E3rp+aPvsq9SLuydRQt7mSVdBBcersmLU9Q9I/Ys0XHONl0uhilSu7nxr/ATzKA/i6W8xYtg6wn1kOF7xQ4ulLh0kWcOHLTPnkGN5c2GAIZnbYzd0k+0/jge0d5nhGEJem5Yv+U0NLLqA7LDfHHinZKCO8bdV0QZ2ZjR2qP3toUmgP81jiezqTI5z8IBo1lg7A9l4h0zdD6tJYCwp0MCzzr7sLbDu8dyjmivUxIPzaUSyKT83mGFxfp9GOjZusUEST2JL0XMxEwliYYkze9ckS5vyTEe0V+4qh0/zLBbw3pbcf+ZUYPrDTzRZieJEDqKWL6kSngz6wo8wIc59eNmYvXjPxZ9DKtSRdtQ28c6wRPcOszx5o1eUAq/ubvPFnfLsLcZLJxLjdU0bHBU3OX3jLqOaK+RDJ5d7KSmn2oDR5tckjXisevE0fSD4xu2k6QHCUyZ38JiA8ZreskrZP1U2es6xyxq6M3PwVMP9hQs/16ojjbU1dXT4kGlj9W9ORRniZpMhHnrlS7aQQQTUYO07cHz1FpGNGOaNYM7mhLJChzzowZVYKbNZ8x/Vjh2kyQH5yMY/lZVBsFxzibOgeEVaQF4iIHgPl//4Z+IRu2fZlw+o+b6WvbEiUip/FlBUjmrycLH4dzKJ8njqNPYrZZyHjP//EG1GYhzG2J1r6D3rH/45mbp/dNOk45srFQ58Abfbhl+C2jvsh4d05wDzZ8tOeTMDLsN+UXSkexax3+xl1+TxHh29WAgWajsYnAo/3ywnvBW/vpGBgAw/yhIboynj3e+BnHsEH1f3ZrbgSIyhAqS+G0GkoWNCyz6RmPkSK9FFZNBc9FR/LnevBjxKthuTrulVBvuEjWUINudax1GH12MX2YWF8XY9Hl6VjMeW9jS1u0Q+BFq8zSuo8mit7hni/CfvoPWjEA/DldrHuXeB8FSjD3ujFjmvt3jO04ZNxZ0PR5htsk9FdYS6gmsDWOUo8Mj2YNHvIYdWTag+fz50J5g8pw5LxUzan+nbuvYmIJMvr1djy135gNMMG+ewO23qHPvLf4dSOLeWiWcdsmo1YMtlMBXAzDPSzH7QO4VGZVNwK1j6gU7+HuedQEGgMlRh9UG+/2GODA64CRW36wm7UaCFS20GJi9NgqSJb3q8yvk2Pl9jw2OhKx0i8nHmP97lvnPUedvJop6DlJtKpDYORnxgAUGFvMFg43GOvj+zv+r3dee3+K23GyWT660p2TLNBEEOnmaWgP9XrusrEQs0eXEbO5eRUMAsNIAgyD2bIY60uAWWgIOQTR/48+fooBdPftw0XM5oQ2spuUkn7sHNu0xleUA+q3bA7gNgtTkwJ8rhbVUiV2wj0YmdCniNP//s74id4ZFF1l3JSCgUAtmK8XxmXE626tDRTKz+JE4xfboqfD+D3TcOJo3Jh+bNJM4q1dYf+yIL9MoxXhZUJ+mWjCuFJk7TNvNq4B+ULAp5/Jycg33QvS2y66ro9AJmwcza5fJzJ4t4z5uzA6hTl55WkSpyyPq+YZKovZIseKNTH+pSUZQRdG0fi1SizMcAW7Im0htdtoWXMDXeHn0X7gsgRq6aqwgPIcPXqLf7GYFR0338RVKwt8nYaTOuzUzbnWcf7PjUxeJ2BKbzu89hdLDuH8LWP6vuP0TwKRNntqAiePuNKxHNZmkSvaOtIDmy7mP8hkMicyUj/5ltFOEfnzDL9XTD92Bjbfirht+d16MVzUExszyoWsqsvM3asnHtf1v5xRZeTL6jzq9MwcFegQbwvZZQL/XYwe1PvpMXWZeYDhls3Vu/59NpBYvz6JVqizo3oWoJAr/F5GzMsiOstzku+0m0M/vm00ozwK4jWPyrcQ0D5x1+tKo7FjG5rC6bcrwjvHyoBsHm4CBsVxXS8z2jmhSVwUPI1jfQ5sLagdfaGLX4N5/SMjfL+xocFLH2pwh8aK2UZm7euzNDt4E83/NAPoHWvZHHt/+7pyB6+NAN4Dzh929GH8e4p09ip7uMxwAqaMDXCOo1wNc9b3q65S7SBVQ4QuTDoeeohLGeD/1+eQEag7LQPgHBdHZdF0LHbsUK11ABt1M8+TMVoW2VIHkNKxrcbgWDPE8f0Ag93R96CjUn0ec1qHodNScACMSA99f61ZTZ3L3Ejw+AkQUoft40+GFmAAWQWEyn4qEFZji5gKwt7ss9EZO+rL2NU707WbIptStOKr1AG41FFroEDYV81clDiYrlIBOZ/p3lVGrYxMSWW7JHewq+FHvicAxt45ZVmd47F4bB82SGr20O9NR7fqEjZtZQijWu94vjTtCT8wZio3AMZrOWeaPwWoGilkrRl7HmaV4zkmoNq938aIWr8L3XwoQx4jwZFKN5RVVHnBnxlQPR/0dXQ0rP/+583Hsfu3sA6yb/sA0Xp/0NNN2X7vOTGYEpxz4xp3/Pues7mc3TTx75dFtMir4Ci5Nnsb0oO/8Pg5ACgXDmukVJh60Jo4h/b5ySIdXFW9kxcNj0ebInPQThH1aaZmUFyeWtmGBobFirOxS/YfRfse4Y1RMPmJTrB+SjZGJksDi4BxpYlWsFreWZdF1a8cLeVn6fftzARk7ZWX8a2z1ogqwntXCFD4ZDDgs//CJpPpneaDeqZrty1hZBo+TRbJwUYOslG8kDpOvwmFXMneTD9YQt6dQ12YLdedM+dpm6ReS/VuuY2suA4xNlAbtH+Z7LMvv68ST0LNWUsymm7A8k/milUJvq6zt3gbOGb7eYmC0eaP9LYj7A3rLxypbJ/TCGEOQF0k5Dh3pPeCcC9Ir8xejNeMcuKNTLML908TGbgpIL1nY0C5uxVDzKMhXRnWXSRQOdzphAYIMPNz4Pj5uiO/sA3G104n9crdaznHMR6dA/JzxP6SjKXlGDjY961h1+mqLnQ6s5s4nNPrChS+37CS8a0nnjvxxnG5v2djCOsiLuSNjmm98eavJ/TJo3yayfJGj+mt8Hxqnb3Up4TyLL2+wgTr6BZqsumS7acM+prp2FfWzYOO+b2aq991jntdrkBpzMWcJ6vXauLmBUBZwNvKa+1OqYYaEdgNDtNp9hAQvt/FIenh1sL3qOOk3tEvC9oLY2Lc9WGLizkbaxvvTQCqv/PcaJ8uP3OL441d690atX7jBjjE2m6ehlD8xHaAfntQIK43+FLHvXGZOfXQhUcNAMoCKnMh7kQrjd93gsX7QzR7YQjXwyG2otYx9tVRuP5ZF2DJIuxZNGQabCvvx0aHCjL+PFJ3zvpnnWjn3AHo2UIJDMbtYBpxCri8N8MBx5+7jT4tGkaBZJWOXHlOZSoti28eIcUfxrAAAYaObbdsBgWLShFzClSvVsZCDmXmlXmT129nutl1LOskJNqt/BwGhO6rAUc1NPAeTbDBMWk3h7QTt6u2hqD3YTpRQH1g2jTb0e3Zgpl1NGuafB256ghfXd3yfSmhYXVwKlXQTM0D0LBxruoLaxvRS/rcR7a4dWN9u3fDCa5aThCousuZuZuq31VAp4HqvVvVnI2Qxelu57WAR/ue9NoTGQPuD4IsvcZkrK3HxcLf9XPodaFZhqovVUe+98MA1BvMcQzA+sIPD9MDyrXYRStsPxeC5IuuYi7zHxjKvgn7Z/eEjL/6+CkAWP/2CeXL2f6s9vZ2npjXJAn/cI5iWqWi1e4/B4uRiT8eiL9fOSL2fC5/pxhc3b4A4KXqpUVvbQBNqueW/+TuTzuD1T2W3nYu2N5RE+jYjeo3MoQ0rgQyh9edzlRg6PtmNkX4jV212liibmNdWMvC12iTjMEzdYf+UZCuWQKdyR7pSNDvBDX584z8xMVUgUaPBAHpXow1i99uiPdCzZt3xt6lKxkbvWGVSzSwWMRE0eQY1nnEk7jSUF9EF5Y4Ck/XKiaFQjb2kqxlI2yVLSCNQI71ccD+iWAu3Fk9Vi4J8Vaw/JFRnhK7bx3kNbI4hUEt3EpDBYJjWDEAJ2NiDWGeXtlqoePQ+bcb6pmGlPyJOlGN3/FbIcgtjAJCJ4AO94L0xvdPzRsZSHXCEpzwuIfMEWs5BySJXSEjuFkYNcEigXc9UbYAgFmQ0Zn+tD5NZNsE1OvoNr8kjmW3QlORdzz3q/QUnykXcBJHE993hOtONnsn4AnSYOOz6BOPY+HG41vPiXWLN24m6kLncLjucuwDI2UkbJqbngT/9kC4H6JgguzCPahF8pCQahWsA/66o50YGN1TQHtaUJ9n2cxx8WyniPDHlSDz9kB7mi3g2vUuY5HOv/fSGy4AwNVGAHmiANttQ2jv3m4yqu0GDvzr7WducQRvspC7lGBl7MBI/BeDR895sHqyS3fTNJL9VcPXu7mE7VFkBLTM6I+VO31N/u+dI6Y9k1EQZkn/7UOUhS5O4jQ0kKjsyIExg0ScqJ7pCFj0mBqbkSKBpoI4XXxrI/N4ZH7CYPGc6DH7Mg3mT1hA67qVY2ZNE8cFXTRraNJPrO9dTA1OnasCFrU5pS/TB53dkZFSls/MHKohE8G+HodjzE5dmNHZT9PI63OOETOil7NeZ3WAq4YsBqk4LDbWPbJzNuIOfoAuZTyr6PVKHTEwAgZM56dtMJLvpw5oNc5YbJICcs0v1AgVHVXr2PvAAFuQNGCAx4Cgfs+dwd+a4WjnkGo2xcmOPdMlrBmOrZO97kM7aY0gzpHlO34+M5cIQ7ZuBtIsiNtyMw+jXPmujho/l8TJr8y6sqiq5a0H8Lhn9MfDRrrW8KMMYGsEZeLmVdNI793YeacB2zGK3K2ODaRKQkLg78g6oY9+AL/udJLN3CDZ/GVgsP/Rx08BQBQRpfshyK6XCf66cqfknAWA1l+eoWHPbRYGzDPrK153tFNC/UJBuAbCtjPZsXoio+F1l98Zs9IWATGWsQWOhhtZSW0oYBZUH3EbczDgpqwcOxI96stEZqkB6F02l4bNAAEAAElEQVQ+H7B/mSwNvs7egJ62jIR7xvR9s3Fmlcy0LjsLXazJenhzcNYl4PGPWcZ2bEtwRaqLOqvq0IDbfz0BHShfzujecby5N1Rh/rpnVlx+jth+JbujjJuOcsPWrGJt+X1Hei9jNC6fKz8nTL/f2fxxCiiXhO1LQj0F5g7OAemtIL8QQMEB3QPzN8jnDkjvHD+jd3PStujRoiP4mr1EsEjLRQrG9MHReBHuBen3O2vVNi4QrNerku84hMBoMKextmiEe0FdWKPXEoFVFy3g9IPVcnDA9JrH8Q50hkcBVQCw/LbSnNOB/ctMVvGWka5Z9Jocq4YHR/zWsattIY9qjDB1ow7htnGkXbqNwsvLwmzJtx3lHFGWQ9SCaEX2z7NUGs4y9icr7TrP1RYd9s+TMaPxfbPsyvUfI5MtvdMw4rdsG456kpuWgNZwoy6szQzhrpcJbeY1R8ZaYlt2moX6FMfdxDm7TsnmdRv5tikivq4of3tGO09ozydqiRud3fV5JlsZPPz7CrdurIy7M5apL5MwcoNdameO3rTqy7/fmB4g7QU/9Uii2fpTDARZmDFO7K2NzLFdRuPK/B0XzCMjpiAOGAu2kwaRmVoyp5lmMVJXpIux1xwzAXKmCRJtXc6AAkl7v9zguE2y0nT0qKNYAVo8qGPcaWNKrXk7/Kzbdho1nk7mcrXx8mMbo00BiG7PQM6WT6dAoM8HU0bh+N8ASx+ZcBpLY6AgcKTXF9Xeyes8NpoqygDsx5xCAz0Aj5cAUmUZj6PEdplH4H8St6xGuEi/sGrhbC1Spkq+Dy9xLsysm01n6MQoY2BFGVcnz300a8iIlp9t4+uv+wD1aiY5GhwOWkCrlFMpgY6yt2ymj6O84ENXtDCkGi7tWpfvsgxAt+0DBCvjLJsjM51odJFuLuZDf3QQzZ+ej473TRsvK4DW7L2UuPkQwOpkE8VWDWkGERORbSjmaYzmj0aKenD4q35PrmPo9ThPA7wdzU+qhz3kKfbW+PyH3E70TgBZD9eYJ7up8pIPMS/2Gp6jZTdipdyRdfyJx08BQH/fRJg9Yl78XaJbYrCQ5npiVlh5nlGfZ8TXjS6/XJnjpZqf2hF/PLgolmZMBjPjpBNYAFS87gjvKxfCBr6uxMxARml+G/P7+L5JmnsW3SCfO73tQ9+1EOCUZ+oOywtF+d1RD+hkVJjeufjre6lLpNZQWB6tYAuPAi9BwT14dHHc+kxHrjpa40rdWD9oIHWspyB2+caFIlw3jjSds1YPjiEb9k+kxtvk4PeGevLYviZmz60SOSKCf31ei9Jp0ryRu9SINavGW/61G3uYn2iUiRJ9E9aKegLaBDGaBFa43ctgKCcym9pfrKHUqmPbPx3ckh3M5ps89r9fjJnj/+gS38WxbdE1qmGT66VLZmC6Zrao5A7/ICAkOynxP3JT379O2D/PQGPHcJU8Sc0lLE+UFMzfNtQlIr/MqAtd1Kd/rgR1W2OvcWbeYrhucIUxPS15tJlAv54iysuCckkytk2iGa3Yflm4AblmGTVLRt85jVq6IjEvU2AE0VoQfzzgMruH03umUcU7ycgMCI+M03/c0aeI+PrgMV2LhayH285Aa3Hhh7WQ0ZObY48E52qYaqdEPZKycllGsDIabokMq9sKj0Ple0eXOKZtt1zQdubz+HeySBou7+7SD/504uulQPPIpxPaZaEk5EJGyG95BOaK29PfyaCZjuyvPmS333Pm7ryOhckcwrIgcEGRsNcD4+KO453jDb7TQWjsnQIyBT7eixbID12SAgVlIVtDv94JQPW59TPPExkD/XlZrPp+WKg1/kM1TYdojn57DEeoMpiPdbBtmnuooFLMDpYNKIDcdFwKxE7LR8apcRRszKKwPV3G0NZM0g+LLsCNtUbTaH1bLjwHhEnucxrMZwzWFGPPoyNQZQNVI+ZkEvPgGhek9UjDyK2JRvSCXcG5jp81LuZOlqlrJIiCbB3/AuPv9kyQJcYVpGiBy32OoyJPzxk5P61zV0beXeNRAAP2VqVW62BYlTnu/QPw1LYYXrdjw6EdwHru6jlpI1kdt6t8IJcBYnIhsPpT3SG8HxE2whYCGM7n49hZwp+R83D1KgupY3jV2qrGcN0H4NVjpp9Bx7D6PPpQZk5Z7ca4pn5fpcUn0uGvRo19N12vRr3gsTIUettsJNxrk6SANu4bAGUl3hHolUp9YAzc8OlrbaJnrnV0/4rG8X9aF3BfeNJ4qXZCcIx0kAyv8E6Lffx2o7B8o7vQ3EdSrN2mILVr3MGkb3fUpwlVoifC22pmgO0fF7IOgSOuqkBsDmQF5whtMtCTNH9eUJ5nEcFL//D5ADocCN5y/ZDpl76vDNmdPAXxOzPR8nOCy40jtEemC/mdztIqDEp632Ep713GisIsducYUaO9v1I/xjYU3qjrTC2famXQwWiUJdl7hOMILl2pc4srTQvz7zs1jBLsnM/MU1NWsCVveXbjy2RUSHrbOHaUUZvfxPkanQVFdw9+LxsdynUCfCY4NJPJSSUAHuGeyQg6xsKsXxP2LxPirWD7MmP+vnOEfWOodZb35veGciaA5XsO4qIFb86NTRwcTwsbFRz1hqIbZAWgw+O/nMSEwvOwnaj9q5Iv2GXcSwcxwSyNG85G/Aq4fCbzykaPIGNwRzZR2a7eEe4EZHTueragPPjdlRN/b/ntge4d8svM93YvzJO8F5EgeDE7DVBoMQzm5D3b9dNFK2sxCoDkV05o0dOIIdcMGkzL6XKFz5XArHeLU0LntWDVhqKzK8+ztX2ENzF7eOoS43VHuO1cAB8SHCzXpH+I9qYBbssI3+9k/j6dOCLuYho7zSL234fuMAX+vocFPytgaucZ9Zdn9NOM+m9fxrjY/9QtznK3NMDZ+oAPwMzNM80eytLkA3vl3BDs1ypOYcdRrzpGYxi9wMfFyXPHf4zk+ND9KcJzlshL3qEuwketX86jIUGjbI4LovdcnIHBDJYKJ+HJlhmo/abqygRsZIjHOsZvKuzXz6Nj3TD6ej9UranhQHVtasAQ17WCuKMzmOdoQn+5DACiC6QybQKYzKzhHGNj2gAExyDpfhgR9okbNOvGlfxY+/fzPJhJBczy2dTA4Y6MnLi7zZ2rcTpHDZ5+vtbYpSvdsdy4C2B+Ptv361pnj3SKZN9sPB8sNNsYYv0evYLlcazMvCPsrgJ2ZVd1A2DXk4BVZY/d++0jiAQZ0X5erDnEQKuCWO/HCBe8F3wIQlc2VPW3ej2eyMTZeapmIWUF9zz0ecrQK3utgLRWM3MZO+fc0H+u22jiEPDnnIM7L7wmRI7R141uXDknNeIFvVv+JZwfQFIZXMno7HL90h1c7TW7PJcxhQC/o85Np13r2zYA5198/FQMjO1Y5SLxtw2uJEv+N2pUTvQeIqY/7mQIW4X2d8YfD6b7PxjoqQfUP8gG9ClaXMz8n1cAYN5YcIg/VrIOc8T02w31MqF8mhGuO+rzidojGQtXicKAXFAan+G3YjsdFd23aTQYKDBpS+JCLnq0Nkc6OgXgudKMTdy/zEhvO9I3Ctz7JaG5hB4dID26mncXHkK9CyupzBR1gkDwzowi8E4aTkQHWcXUknkh7Z8mjnoFHMT3nQ0TEgOjMSS+CJAQJihIvlt5TgbU1djSk6dmL7LlQ0EkQDNHD8D01jH/sbM5onSG9FbVgjiOhRPHrqffdo7Re0eb6IL1e2PG4Z2ax3DLPL4bna91kXBpEET2QPOH6/yf/v/wqNhfyEJ6ddw62UhsFfmF2sQu0TblHBiV4zi+Xv612Rh0/zQRbAqTphmJXAxG9Z03tprMKyJQPp3IQLeO8pwYj6NaJRnL9+jQq/+Qt1iXiPRjRf6ycHfWOsKV+X1eHL7KcvvMXWpYtbN5sqgjZv4lnvN6vk8cvYc/HszwlBtHPScCP88Kp3qOiN8fNG+Akg2/83r1N/6cBjjnv535mVsHlkQTlzD2+3/7Cv9gF7B3DmjUDfZToqsXXEhdafBy7ffogcsCDfLmwiiLLuQ6WCW2RBfs1uFvK/NE1x1ewmdNV/QzD2H2eqlsAFGmKQb05oajd8+8pzlpNjnGvEhLRK9tNAlcb4eICWGSNKKlFAN5TvV36nxU1kKDjXeppTuOooCPgdMSMdOPbJyaRpRVE32TZRnq84uOz5inflgyxNhnoFM/i64LB/G6e1Cf54APmXvKStmoNkXgwQ2/ZvIRzInBQRZs/XvVLlqfbQwEeacF6KI/1Fw8YIxJvR9xMxLV4xSo9g7/432EiJdqBIcCR//9Ogw9dVS7Edj5wZ4fWkVcqRIcrSYDbwYX+/wCRJR9syDldR8j6mOMjI7Cjy5ueV2OawFsGe3Tk5hU/sQ+pUglz3oAE8pkSiyLMVwGisZ43GJV9FxSF7i+d/0dfW7dEGnDjUTnWG9xawPMHXRw0HxGHdHbcwro0nHr0emuz6N/t+2AXMvoXYxX3f7NlQNoBCz+yXUJjwaG9q6TCewQhq41OGBo+GK0e0CX69LuFbUJMKzDELJndNc+RkvpfUA3hY+VMovcPmoUf+Lxcwyg7My6REG4+8obeOUJ0i4z2vPCqplcbUHpyTMuoncbE/v7hvZyQvnEpHe/14/uYoCmkVVs8sHJKCpRW+VkfLrXoQN7ZMRb5iLkHNLvsuio27EDLQXsv5wo5l+SgVK/Vax/Wzh+2+hM1Dw9bWFoEwOu4zuDov1WyFZNBHb+vqN8PrE2DJCTl0Av/X7H9McD8Q9qSNocqW0T8BdvBDnxXsjmtc4gZkAMIxyrd6Hsu4DEeK/Glsb3ndE4suMOaxXTiJzUkeyt66DzObB3V00okDDgcCUzqJ87XncZjYMu3huwP1GjRyBGgFnOGm6cCO7Wwtq0Rm0gHb0V5ezN/dyTF4c2R4n5Sdy8a7XnCPeMIMYanivNjlM5Byy/M/4lPqrV86VXglnr1t2b5emZIDsM/aC/ZwmrzmQn7xnlEtnTO/HvXWlIrxvQADTG/dSF7t56CqjnZJ+LJo1OZ7WDvX5+SrxewI2IZfYJiwoH5M8CiAplDWSdq4WrQ5zt2r1cZ29jYzggvm6Ib6sYnGSBCJ6a1yVaPBEKG3XcTva3BzJ98cqRbVsi6vOCeplQP5OJSH/cqV18MG8SgDGKVpf440G2Pzgb+fZlRvnbi4xgGsPkHzuDpqdgOXf9NJkBTA0B7u0K937n/98yYzXeb2RAlTmUcVDf//p4BABvyAddnNOFVu9Luuh2BRJ9AEJlKpR9Utdy8KMeTpmKY1yKitCVEVLDiIy7+u0BrBtfQ3WwArb6MnFRUTbt2B2sfav6XMLyaASHOwsgPTIzuugeQZ0yQ/oaFt0SjWU0hkYXL2XK9DnKR9DXZSRpNW/adQzI+xOTw3kZzJmwkcYa6Tmi47jW4K73ESGj5hH9Nxkf040qZiLVDaoh5P1mwCW87Xw+aato5+VDtqHbDteXsFdmdjiAQjsf9N86NZB6HzfpwH4Yq8u5pno4Xq/DgKIRN05H9YCxrhCG0LSBeo3WNo5fG8ynPRo3EO4I8NSVree+fte62Tm4k42l1O/56J7ViBeN9AEIjHWDI7pnZvb5wZ7KsUcMFk6OODSv2oaD9RABpezjMo+N1TSJyWpHf6z2no4VbADG9+bUrUs9sOr7nLHyNHA454BWydIdg591HJwzGfsweoFRCse9rY4x8eFh+aFqMJEpkGqTDTD+hcdPAcAWuXPtUqXWn87mBKYeo8LfNropv15oY7+tps3rKZgWqT3NbDR4ZajucUTbU7AYC9UM1qeJLsL7Lu5Cgsl6SjQdCEvCmx9HM10XOhkX+lxNLxVkQW7JY/9EcOV3gr0ijSeAADOH4dSdg9SARey/nC1yxGWOLnR04HY6Usn4ZQOaXfSRzGqrEr8SBeio+we8AT1GPmJLHvtnAgTr1Y3imGygCaFSc+Vrk4iRJg5TMGrnlpH//kS93HdqrsrTCCxuZ+rXtr+dkV/YlZufIrZfyGL4yv7iFvge6sT4E5ogGsJOx3NdyHr5nSzi9mWyY8tRK7MMq0SrtMTFIL5vSNfCsfTE+Jp6jpIxtyO8bwT4uRloj3cex3jLthlI71KgLmOkLtl7YSMgVjNOeiOIqWdqDJd/cTzr7zSxMJ7ncP5PAfkTb4Z19pi/bRY7k37wvanxqZwZ8B2UiS2NG4BbsZ/pnlrB7sRoBPne7wXxdeN7uwwjQFt4U64vE+opwa88R9vMc6vFQzvNZRb5QEb5cqJzWWvtrruw70EYVV4zThz5/pEFbFXR4kl4+cyF37/e4W4EmLopclXAWW5oWmtXO/xVBOJeomLuzAH173fubmfWR9JcQnDL0ZZEZXiH/nwhowGgPS1ozxcyBBJDwUo5GaXpgveTD2cGgXoQcQtjowuyLgYAFwZ1mKorUBeCdRuaPRXFi0C+7/tY4HXUqayE43hZ9YQuSADt84XP3zvweuXComO/I2Min4Fj5WoAGttu41vLdtOWB3XqyuczgKBgwlEi0UuxSY+NIpXBqW0syqWYBq2rE1cz/bwanvwwNYgRRQ0l7r6OHEIdsx8ZSgFNBnSU6dK1wJy4fTBivZMZkggdA3UCJgkwIZmWksVXZUyrx1dbO5SJVcODMbMizXi/D1ZaxqlOmj/UXGHHdc+M+5Gg66OkoT/WD2CuiwShB0bquOt9fDYBf9bWoWNxMbLYON8PZ7FFtjydh7v3oHm0+j49TwFjKK1a0ILTx6j7GAKtY3z73agMpLPNnv2OGlKcs3xPl5JFIFn0ipojNKdSz73HamYnNyUzn2i7Rn88eD4s83iOEIaLN1GrrWBWpSFdDRw5cyQLwD1daEJxMiHQ6Ci9jmW8az3hIHPopsnWKcj11LVjOkYCRNE1W+6oc9aL/FcePwUAwzsvXP/jNvQ4VeqkgjhtK927/p7RLgvyv33iovZO5sRMG0U0TY4jNealdcv30qiXek4ECBr1kKiViz/uBB23zQwlKI0jThnldonIaDPZmXric07fVgECov17L4jvm7BOYTSISF4Q4wW8ZZ3BO0y/3xhDsje6Lxvt95q/50W8r9rELgCwPNFh26Slg+5gmFOZ41GJHZEYlPS2Y/l9xek/V/hV8gxlwVfg0CZvuW7hyj7dukQz6oStApXdtN0TJITrDp957Ht0HPleM9LrbpqdeJNYGmF7wtYRNsA1YP5j43c0+6GpE23c9iVh/fuJUTE7gWiW0OZ0zXIueDObUKdJnSTd1Bi5i5V6sPzlhCIxPi151FNkS8tE9/L+ZZZcQxkn6Ho0ezvWdaHJIz4YlsyKM+D+Xxa0OSI/J9z/24WAqDYJ2PbYP00Emu/iYBVdZbjv4ppNNHpksmpha5j//QrUjulfN76WmGFcJmt8rFJM18zRaicTWF/YL11PMprzDvGHLJwC5rsweuk6AqTju7CkK1nN8jQhvm+Y/nmFhlG7DjaISBOKf2TblMTvD7QlIv/9mc8jZiu0hjaRnbUb9MaFyq/Uv9ro1kEK6xvjcKR/tU2R4dK9UzeVizCA0fIsnbAvrIbbLL/NX+9jhw9wofKs6nKqJXy7ERz9xKNXAZGy02bPrjBeIubWaiYXI3fp6i7s3XRCfd0oThcNHls96qiFE6bEdvjKnmlshIBPW/QBLgqnZZgAUhLxexnuXmCMYksd3aMyOjOno7Ji0pOrGWyuSu6euHudaqwUCApoMtbCE4S56/1Dt6zFyJyWkbt3iFlxGhdyMMt80P4Bg7HTfDhgxMioCeDPms+URjiyBgLrmB34+P4U8Kn2T8aEfZ4swsxG6OpK1d+bJwNvR62cvV/N2ROg01M0fVzXNhcFzvqYJ/5PgbF83n6aef4A4/jI79pryPWE1qwv2hjA+cB41gH29PkUSAIcDR/je3qKHLHr+al5icCHoHCs22CbVV+nekIFyvo7AlqNPdTMQN3EKBsODLZZHxoto6Bf2c8jA6jsH0AApZE9yi4q+NINRylk69aVo2V5Dqt50w2T5iXGwGt0nsXNKxrCEGxz6IQ51Iw/PqeAzGO2aBOXsOcmxb88y7EvQ3cszKNGTOHx12UuP6eQBsbNIEXefHtH+P0NThjAfqIjrp2i5cihcPEAYHEo6OIQ1Bk6IHEQNG3oCMo/CvxakL4/jBloc0T+9YlM3BNjZMKdjEb5vACOI9ZyZq2V36uEQUvQbofo3Ioxg+gC3DaCgh48Qd7K8ZvPDfUyCdCR3uOdI7fuvQnX/SNj/zQR0Gn+oYzJlVWcf7sjXHc4MZQs/7wjXneUS7Cw6x4ZID3/5zu0F7acE9oSEH9wV+xLk/aLIuNf2bU1SD4eP9f+yyILt+wmoyNTuJPd9JtEMzgBHNDdIb+PoC5qxxBoVwG/A/mF4/h0pVZn/kMKulvH8vtuJow6McB6+r6jSNSMzxV1duI4ldYVAX35ZUJ8VMR3ASYddhy7A9ZfWNkWf2xY/3Fmj7Ij+AkPjpXbIg0zJ+Z51UnGy8kjPAiw86dFRuUFp39uxgyHjd+tai/V6BGvO8FQ70jvGdPrzuYaAZeqPVUmsvxyQrzuqM8El/svJzv/XWlowQvwJltAAxEZuibZhGGtjIHZCrQxgzdiMcVsFf5RkJ+pBzTTiLBuTkbvTaKVunPm0g5btYBpjVhibES3rnNXK9xeaLbq+tk844lOaegGn6RfGCCDvhfUl0XGXOqy5oamJ9lkyVga0SO8yvWtuWlbRr+c0J4W+PtqzIG/rvC3h42W3I2u7HY5jQXkZx4S7Gqj5NZHDRNAsfa2Dd2ULCj9dicrFuMQlMvPmynjoOUjaMsWU2HxMMpuCDhRPZGN3/TfjoyQMjXA0BZq6LGOkSIXJ/3/NnqTRdOtO4+5dwOkKKunC21rH8dtuuDrmEwZUB0rHxdfFcbLgq/3RgUPGuNi2jYBVRpnYiYHYVYHkG4HBynH1caqafivc9QIKjsnr2Hsl4JTYd6oyesj01DPKc+eYxtha9wJYGyU6icV7Fo7SmvQXmJ7yHtXk42xsSGIKzoNkK4snIDbD0HO+rsaBK0B2fJvyoJamDMw3ruANTsW+v15kh/uvppEwe08P7rE+igw796ZycmApG5IFIir1lAZ2iNTq+eVc0MS4J0xrZBz0s53cWDbteGkXeO0kNnTa083Pwr8DhpVBfV9XWWjFhn9ovKMOhhNJ0SQmYdud57v0v/tvDfgqJuynvMIip/nw3vaofKRvsv/l+g4iFnEphjmGubn662B4fR/fcrxcwAweuS/P6NPrGIi6KmswTm+yFoQX1eOf98kS0hGxToi1YUUjrEU/rrDVWrB3FYtgsKrlmihs9U/8tghinC2SS5Z+ONKRlEiNLSFoc3BXMFNAE78/rDnaZGtC/4+MuI0ogUA34sDWSQZbbYzL7Bw3bgwl8b+yBQk800s9bXbgq0tHMqm1JeZYzzRdoVHo/7qwWYMu5GVhvIyW8xM+UxAR4aPTSb1lKAOznZO1EFO3swdfqXGbf7thuk7maT89WyxOi14lAu1d4CAEDlW5Xmmvi+ytxcOiJu2vDi0FKQWraJcorlnASA/RwFzm3QAy+/M7PWNt4KQG8rzxKzAnQ0a1IQGM160WcbkuWH5Y+f4NhFU9ujZA10bWgrwj2K5eunbyu+usKIuPirClYHj3ZNlBcYmIUig9P5lQn7hhes3/p7mQCrIq3Mg0HwUxB+r3cDaHNkpXChT6JEbmvRt5esUfs/zf76zbaBRn6lZhXosINFG839eqd2Uc1/fMzrjcNocEa/SwCFMdI9iEpFz3N+5YKbvDzp2xbTlckP+TM1uOyVq95TBX3S0Cmvb0E1MeF/Fqctrz99H1Mv0+810wvFt5WZD2f67sr/UF/ZIgwkawal/v8G/88/M9pRYDImhaS/KIKbBcBTeW/oyjzHSX3xQyN1HCbtElfScAUfmy/L+DoykO5/I9BmjxQXMLTNv7KI/UkekLV462lF3bREHsnMfFusuo73+WM1kgtaAwzio7/vIZNP4DHPYtsFUKiujDNoyj3HzgaHp15uNeG3xVQ2SMpfqVtb3IJpMY7P09+T9awuDAYQ9m0i/X040TiRlPoZJw9iXdWfdnY7u/uzoFRBKFjNY8LGNtnXUqqyrfofOoV9OwghSCkFWXMDcAejZ6Ne54XLW8aoeB3F62zmqIFJzEJfJ/szvoow8PGVit2xxNxBDiQFOreXTjdSRxdOIGxmz65jWApSPOZX63R6+3+NnM12rHCO3sf/WauXk70z/KOzdh7G6soze8RrV80GNRxq0rLpFPef0+2oK1g493/M0xrcHN65bFmMcLb5FtYNiEhm9vDKu3Q+RT8o0H9nElAyAOefIxuomRHV/yhQeTB//p5y/LgDueL3vGdbyAQxnvZpZAILFjVMWYxH/4uPntsfHcOZtp6jbE8C5LZv2p0cZK80T/O2B+usLF5vDwtVOIwZGR0ymdzgl4JGZKXZ7wAWyUX1OaFNkdpiMlaJWSckJFa50wabvD5SXBXmRUauCxtLISC5sXQh3iZXoEeUTGU2tplOXbjslG5MRlNLw0S+TvKfAa0ZZwKL0PfWSdeECXaQhgVEiIn6P3kwq4VGwf12QfmyYv2/w952tCs7BrxxZrv92Rlgb0MERdOnwWijsOcb1j4rt1wXTjx1OAEkPNK8ANIDY7jEDfQ6Yfrth/V+fR8j0VhmILE7WeJcdZwfYtAHq2+aA8KiYv7OLVvMAt68z4qoxJQ77r2fGyrxlYeYSs7Z6h39UM8XU2aPOMxm3R8X+kjiCFmCvIdY9ciGpC7WCLXn0hQDWrxnTW4BfM+oTz8n4TvauJU9gkRuCyhcambMmbKNW/+lIXp3UmLwBxHoaTR/6HHUJSK8b3L7BZ2pWmwaET9SrukptaPcOXlg+6kG5KWlnDdzmDbku0ercwm0zZqKlgHDdsP3bE8KDcS71ZTG22L89gHriGPbEKIbwLpuVvdi1yjDqzbSt/n1Fv1Cb5/dCINerLEjUc7Uzd+iuNPg120YQE8e+2spDDai3haoHx2af6OHuGw0fiU7Vdl640Xu+cJrw2LgRSwEOgLut6JfFQmzdg2MZB6A9n+Rn40/POPpG/WgvgFvGDt4YulnE5LpTF3DnAC6wCkC7LGKQuI0pAY2sUZc4h77noTV0wnzYdZnNSagtBB0Emhaqq65MBcE6olOWS40bqp07Akvvga4TmANbpousZgrK/XoAhNHmpGyjK/I76wYXAoHKYxsRIMISaq6cjYLVTTldBsOo71UNJJMbAcX6UMNA8ECS6BF9HdOFCRjSAGf9/VzgFFjIz2rcjjswdG5n/zUg0xA/zuOjg9dtO9m21jgSdHWYVBRko1oIszVvCCNmUTBHh7ZG+AgLDOCDqceOtzyvfk47b/S7AUfIzol5ROv39N+FeXOA6Bj72DAAI0BcwNhoHGHsTJ8Sf1fBprpwex9Gj4N71eXC9wDIhkPG0pNUG6ozWUGubnTkNdwiDJ06fJ2cA2XICQxE+z5AZGEMjItRcv0CQWAp1NlluvX7ugLOcyN0OvG6TolB5nJfgP69xjx1cZhvO59LTcUC9Li54eYRtcHNExlUBXz6+WoluDsw96o5VD0gmrCS8a/DuJ+6PTKoVoS1ibl/Gpzczhz7WM/t08xF5XKym4+GQVPr04z5AmD6IaNao4dbhWoOI6LFb9l0gKo/bFOAf1+50EX21nbvjdFhDdY2stQ82cP0769kUKaA8LpaeLTGaFiX8HW33DXTbz3PfM5cJWiXYuR2ThT5Ry/sj+gQl2jsp5eFrS5hNIAIW6exHzrqU3ez31nhla4FYWXLiLou/VYNXGsjBRwEeGaL2IBzKF9OZOecjAfFNctAagI67U3WCJMeGeoMQN4n0D2su1f1gfVERtJ1IL3TEOD3ZqNZA52AgBhGohRxiMfXja5dAL4yVHn5fbWQ426icYiEoNoovnsn1WkbHXbe0WHeAddAk5Ew0PvnCfk5IT8nA5P5ZaJJQt5j2KoBTut77jxmToK1u4NpGeuJcoP8MqN8OsHVjvxFAFkH3F5MSuBKt4yx7iSjUjYlCjZd6xy9N4al+0zWuWpIslxjqm3c/sszwagDMzV/eUL5PGP/hUat8vcX1E8LHv/1QqZvEyH6XoTx8NKOQtZdN1lk33lT6qeJkoBXGbM4R4CtGzfnmA2YAsKPOxf3O68R/75S4gHQgCI3ujZHW+BdrqjPZKP6Mhl4JNj38G+MlOrPZ2iLAAC+xmPjiPonq+DM8dfJOPRtG0J178iKAQQEkWM3d164AK0bR0IxEDzFA9DQ0NgQgM8vpg/sokGysWdrBJsh2CJhrMOfHzqaVTG9Mm76uqtmPKYBABVg6YjrADK6jqkBGR0KiygA88NzKNum0RUalKtVaUcGM0WC9Qe7ba2yTViZ7snKOTFWOBXyp0gTiL4ve28yulRjyIHJ6y8XYXz60Ce2Pka5qrvro2PWbbtpIa3NxDveyxUwKfN3jONQLabW90k4tgUzH963aimtG1iz+OS5AYK1/nweoEtH6nIszTGsx1S/J2Eo7d9Ft27vqZCwsZw+Zed652hcnwMY/5bLYJBVJqCaRwkVtwBuOReNgVaNoba55Dz0fvpd6bmq495SB6usD90kHNjCD60iGi8j57OddwAsjkXOUbcsw7ikAKpWspk6opW4OmX4FXB2Pcdls6cjWHXr9pwN8ME7mrVSgrtcCBRDgOqHDVQ6uX9omoCBvG7gtCvwNB2vjs8P5+D/4OOnNYD+9W60rFs3Ycqq0c/1lAgGK/VwrjVxzfLv20nCpHcBgpuMq57HnNyVRm1PDGifzpIRFUfIspbRa65faahfzgRgcZgcXMcwQ4TAHmAxG6gjj6No2EKnOi4AKC8Ltr+fUT8t0nZAUKuasB6lASFXhvPKv1knsjiHlbkBwNGsMFfTjw375wnbL2TkfOb4s0eP/cuC/OXERfEyGVBG7dQXTuzfVcauT94AJeNKuBPMzxPggPDIBHt2c8AYry6BwK12yxNEFyfrEuG3ivRWqM+7BBIZMy+C6TUjP0XkJzJi4V6o8zvTUMGmDILmJvrOekrWCkJALbt1qSpLV/59es+Mq/GOwdIeNFrsjd/jHEQ76BjTImYRNdC4wiiW9LqiTRKGHRymN9bqpTs3B6bxuxXkl2QsbbnQtNIm1RWBWswvpwHkAzdAPcq4xUGMHtwsMCeR4C68svUmvj44TlXTRHDY/3ayG0t85WalXhIB8qcT6/MOuZZqmkjfeRMO94J6SdZF7Qod2eExnOUuVyz/fNB0sSSOdtUstVMjq5WM9TLZBsHfs0gyeP01YVW5IeMYr72cuPm6rQh/XNGXRLB2mkwD5GQEyMUvjHagJYE1dAnxbeW5novVwbnMm317JqNpLsYljcU86kbmJzWA6rwDbIyrDJyZMwD0x4M/p+L3SoZi7Njlhj8PpkBHUW4le9lz/hApQS2hANjWyIwAH0bFx/YFa1vQBUHZotY4KlZN0aEpw9gmf9AaysLqpsTRqr7/lCRvzQ/tWqn8O9McxhG66xz/LZdhCFHDg7JuGkWy8tj1ZSIzpmBH3r89dEHX19DXBAajpsBKj+0y2+gTKRKsKGAB5D4Rx5j0wHD1GNDPM3bpToeTTacaLuw8aYPFOsTSuD2TCX9sNJScFx4/ySfUY6hxMMcRrCvSyXtsx5in0Zqh0Tp6TGsd5gk1Vmie3vttsJDOSQbeoYEFYEWdEi5/1uQddKhHgGhVcQq+ARtDu2UWnZqw8dtujGTXsHRlgzXCxR0MIwJ6+y5yCeeot9PjrO9R3dbikLXNmIJLNZIdx6+lAE6MHQLSzG2rmyGALJxGNuV8YPQZ+WISD0B0g9TwumUh6JsO0gc1hKhkRI+RXq97RjfjlgDb3mw8PHTBOqqX7zb8dRj3k3dHQIM3u2o8NLF/K1zk3jfUTwvC97t94fH7fXQq9m4gsE2qsWsIknfkmyyWu1RXeTd6GS/SiiE9ruUpWQSJ10yz2sTJC7qCtQotVwkf5sJJs8GTRK8Q7HkZ4WosSZsDwp1GiSAAYzg5Kx7/9Rmn/+MdfYpIv99RP0kn7xQlTLdx3LYkAxRzaWbQ6F7AjmipdORVTgHzHysjOh4ZCAX7r+fRCALQVBLAUfCjANlj/d/OOK0cp/Y4QIvfhW0Nzl63XCKWf9/QJGuwzTLqlIu6nAPm7zSW1MgxZnwUdB/ha8DynY0mrjZ+hsYRKsfLQD15+NxHzIpo3OpCA0B4NDEVSJh2I8jfP0cs/yI48uJO9lvF9gur2/zeaISR6J/9ExtGevTAHKjv895ct24vKJ9OCPdC9zRg8TQAWVJ4yHdSEB0sGPoYG+P3ivI02eg3v8xsCZHaunpKCJnvw5WG7e9nTN9WbnwEqJbP1FzWCxcovxUzjESJS2lzpJY0MBpm+ecd+fOC9O0OuBnlnJDed9nUcAwefzxQXxbKBNRN3zs8IG0zjcHMpZmukxuKjLaQ1WMHdR8gWnbl4UGDT68AJg841srlU5Jw6Y7+y5M4gnmD7J6mEr9m9CmO3uPrRu3wltHOCb16gkvRrXl1NEoUDGozmUg7T/DXbYj2FWToYlTqMIf8xMOlhH5/cGHYNsvispGN5/gIspAoy+ACtUi26Mh4ym0C9DQY+uDI5LhpH6PePQMqRO8iPO/OQKIDxiKn7B8wANPhs7tlJsgJXpjJySJTeilwpfDzxWjMJTVQ4pg9ghANzdUR9bG1o5QxwjsA5GPWnIExWfyNPVRw5T1Z1G0fuXcabC3s4dHco2HIbt3guh/M3JTMIGE5izIO7ynCYbcxpysYrCZAtlG0a917hIdMdfSYyzTGqYYuyKhO4j/UQNGfzgbENPZGK/jckQVTE8Zxw3IEVPr+JRPRxvmlAIjDFGEj9oPBwct57B0QZNN4jFvR11DAXAXUK7MV5VxzH3+eE6FqmZ0Wn2J5mKIzbX2YR0Q3Z80zYgKy+sTHyv+eFjvXCOA8ehvXFc8jAbQa/XMYy1tjziHHz6QASVjOKudWFcDtnDF8Ttz3HWLOKMUmAQSOYvTofRwbANrOY5KQRk29ahv5uxIU77RybgBZFxY5BhHuchatMcGe02YbGRvr/eBnquB+DgC2Ro3SnFiTdp7gf9zQnk5we0EQLVD8bScj0AB4mkJMrNmA8nlG+vbgmLd2ZoOBVDwuJ7p0p2haQh31YgX8uqNdZtRTwvTbDds/npDkZ5r0rYaV9Vrh9UZt1xQAGdGFnQsiF9UV/vpAezpZ84irjMKoL/MwCBy1TgD6hf82/djJmKQA77iglycxhyiw/LxwjBhYA0cdVEb55cxYktnDTXSmutqQLxOmH4w2QXAI4q72kieoY+XylMgWeod24k1p+Y0jn/KUoP3E8SbMjurmROuWrgX5y4L0KnmAzxJ94AEk8L16h/1TRLxVODWKnOjEdU130gI0G5BeN2y/LBxTbzSEdO/QgmMTSgPS9xXb309oycFnYP11wvRaZLTpkd4JzsKNjFZZAoJzvCFnicDpowElimmlLrJgyfFHCoAH9ucnAlkZbcMxJkbz+1zrqFOwijQAFnrdhGFuqvvMMq5X5hEEi805Zj3WjvJ5pr5TdH6skpNj7wB/XVH//kR28MTQ8fyFWZdhZeQMjSYC1tXMtGZ4YavdlhEAG4+2OYkmcIffC+rzbN+/7x1wgc8beI6aM/gs+Zcb+4W7cxLdMpEtXjg67LrAyDEqnxbEtxX1MiO+PoDKYOeeAso8auTqp4XSir2gXmbkr2ekP8hMUDgvN/ZJtL3CAOuYyXpcY4C/btYh6nKhYWAfwnxlJjQv8K8+ej6AjcQy+LETZz2UjoEBcEGuFZif7L30x4M38/sKN0/mBkRwdCmq0WQSdq0U6vtkkewALGRWFg0N5+3bDvd8GQyUPwAvLyyBPNwmLSZH04qXCBfvCTZFx2U5Y7K49D2TjUhpLLCAMWr62k7ZDo1cUTAAmGtVgZUZP4ChYdQ+YucI+mobYEFfRwGR5sJt9+HqBSRS5gC8S/0QPUJXucTfuD6AFUBwqO9NgKG/bwinSM2rd0BMskmhLtFh6OFM11gbsMhxvbPBQUFwf74MjZ4aNkT2YPmyGsOj+YzewW0DIFpm3zKPjEA1NgB8P2IS6SnC+TYq8XIGlnk0pgBQh3VfJjhNFZHxuP2efX8HkCe/hyPTrdE8CoBU7iDAT98vP5M0icQArIXGCo1kUY2lnHO9S5+uPpe6eBUEynfbFZSp21g2Z8jyZwGXprfVJhHVmkqun2X/7ZkbqHXj76kzX/SxZuAAoP28znOjhSkNQKiZf3q8ehOmfbK/d06SD3pD36kD7Ov2AayrgcwliZ3SkfBfePzcCLh17sKjIHuJffFbNldsezmhfrmQwblvdpPvwVlkRLhpLg5Hpf08o08J9W+fUF8Whv96z5937P311wfB3HmCf2Sp3WpIbxJJoI0emaMzOIf69Qn1MpFV0fzBXGXUy59rTyeEH1eE9415Zo4RGvHHQ9o1NoQ3XiF9lrDX2pF/Yd5YeZ5ML1WeeQzqIjEb98wswd6p+8o0j7Q5GuOU3jPiO40RbQqIt8IWh62iLAH584J6mVGXYOxlfN0EhDGuQ3tyvTCJ+uge1qrQZrZW5DNHukEClZXt8aLPivdCR23rgAfmH9kaOLo8dY8cAeeXCZYtqCySvbaz+jTXgPycAAe41gQgNsAB6UqH8PzbncJryd2jYaLz54CRQyjve3rdxV27I9wyQmYTCF3WsCaN+KjQyjYFWfyOojWAhJW/x6iSjvS6WedvuGXEO2vq/D3bsW7S3RzE9AIAbYmIPzbsX2aEtfL8mthnXE8R4cYNg38UlHO02sKwNdsYRNH9MXy58zho9AuAPnkzTWl2n2vsqYY0xQAkjlRj2+cA6Fo4R9ukWMe2czRM/e1MJvG2selDnP7usONkx/VGQFrIerhtJ5u7Dg1wnwPC+ypxNGRkw8psv+4cwk1uYsLCuE7WQKvf+nnhJlBipZyaE4JHezoPF+JhMe8xwP9sFZw+WjWmjm0gY2zjxBXovKT7p2kAQa2FEwAFEMyZi3VZxuhIReQv1G+O15ukRoqLvIthiPsBMgbKcglj8KENBEB/rCNkulb0+53vww9QZM/V2tA4HthNOiqj1W51jbPRkd1RqwaIxlHND+LK1FiUo7ux9+Hi1YeyV3KMse0EZyeCVDMg6CIugF+1bsY2ahSQ5vd5z2nVwUzQb/fx3MruacWad+iSB2qfT37GMvQkWNk9Dpl57QBydUyo4dM6NlXwq+9TRvEfxq7AyPeTa9OcxPqZ9D1pJJt39n60cUWva9PN1TY0mgLEu45BhQljLufYAPX3q3UOK+tuwEvdvArqFYTr5kIBpDKy2oIyT9aCgmUGJLezL9MAbzri937IKvT8PuoVdcR6Wuz77UcdoJ67ooFUR6+CtuGkbh90geoUttD2Y8+waPPsfBKQit5tA6faQnX7W4yM8zSXlErAafFFDh8eeq9RjaZ3BMFp+pBH+FceP8cAijXZ7YX9l48d7SzdhiJS96939MvChWiRWAknuWdqFNn7oOdFh8S8KIl52SIXM63Jqg31C08UHVGF95UL1EoRu7o9uyNIcHtBfV5kkWNoMnRBrQ1+a5aNV78+Ad6jptmMGm1iQ0E7JTZgPFGc7qOnNkmAVnyvprtSM4YTFzEA+Do6eT1g71NNGRpZQ7CTYfVZAOZvG8pFWJrSJcbGG4PHkGsHSDRNPXHHMf3rIS5OduTGK+BzRbwRGClw6M8T3EPMNJEOVy8uaS86OG16qCfGmrgG+AzEB1s9CJpAcJ7oFm6Tl4YTj+V35nf11ZmGxlzGtTHoe2E3rfVv6iRENIME0wSGXaJByiVJpl0cwd2Th6v8nuN1CNrrHODR0KJDuSSUU2C/85ZRnxfTwYXbPo7hbze0pwn1kuS7ZexMkGxFHbG3mT26/SSsuEandIY11wtHIi15ydID/D3DnxPyU0S88WIOD2bt+Y2fMwiQCrmiPk2i2aPWzylb6TuZMydOx0xpRPjjyvL6rYjJgjt4l6uNKFv0qJdA5lLAm4LEHvid8zwP6Odp/G7pdOnrOXRZ+HV1MWTNZEfiG3VnyuS3KSD+eGD/336B3wr7iEVW4SU+5oN+T2Il+kUYC2Enegrw7w+yCg2HUYyMgI76sb/ycHTg9ZVhyH3bheUS5kYZDmHaON4RTd120G/dHwQZyqjJnzXjq+f8IUPQ2L9t58KwzNRJATB3b+/WT+yWeTh2ZfzU11VaQSSc+pi95iQr7cje6WeOkSPh3oE5jfGXAqlSGOgs3zOOIEcBoX6OKMHFCjqOblh9vgObp8xdP83G5BkLBZAlUyOAjkxVg5gLnKvG+HXVbAZvxxkP5rzhISG/Tgw1Cuhk86KjWZciumwgrVFjGREqbtv5Xq93q0iju3X7yPLpQyN3FIifF8s2tN9tDQ6iZdXPqk5g/Xd9ntrgfBtjWn3vwADHufDflK3VlhrN1vvTaJcESrTRvrp7jTnWczbFwWzq8/kwgLyw3zwGAS67wX7rZ5KRqV1r8r7dxigWpwyfOOY/hI5rdJIywjJVVD0hw9nlWJdm5z6duDqebgaKe6F/wc3z0Iqq4783YG8D1AGyKZpHsLNqBQHRCbcBGsXB62IcE4TD/cDYwZwBHz6kAfQiWr9axczkRpi5gte/+PgpBtC930cuk+e4wIuTUHdP7dOZo0Rpq6jPvIG3ORKUXSb7eTgHf32MoFDnUJ9nMnFaS5V5orkOhjI/5GA6Rms4WXh6CtbI0Wbu5sJ14/MAwrTwufx153vooD7qvpsjtQdvMRb568mci36TqBGJbWGYLbD9eiIwOydzqYb7bp8VgGUIonE8S8OF3HAeHC1rA4lbizmTW/KWnRivvFHF1426vNlj/XUx12+bI/tiPQ0F6pxNbxnr3042zgT4Xh7/9YkBzSmgfJqx/TLj9r8ubCp54VjDxqYAln8+jE10DchnAsb0fWWTiGfMjBONY3zPmH9khJu0RDSCtvI8Iz9HupqDp7lDo1SilzEmK/IAjtLDvQhArmSRpCFFR635ZUK47uJ45u/VU0J+YbNIeBSyi2JwSVfm0tWn2cC+s0Ybh+2XRXR4Htrb206si2vCNLc5UCvaO/Lfzvx7Ybp07K6u8y4jfs3fa08T0rc7Tv9xo3Tini2HsHvPUaF3trFyhxijJucfcx/J+uqmpUoOZZexXJ84jg3vq424R47fNm7+ch2Gt03Y7EKpxSnR+CRNP5DNgdsy+4GlvrHrtfzjRsZcQGUXJ7wrTXIppblljkjf2CnsH9Q4uUyA0M7TBybBPQSEakabRNHAj4YIVyr60wkWHfIzD3X9NTFGmCmC4nSn+pxA/Z4FRuuuX5kFHbUBvH+dT6NZ4Mjm1ToiRnSspN2pUltlgEfTFDR2BMIuKkP1/MTFTpkiQHL54lh0tecV4Hs8SW7aYRE3rV5rZkT4ENFiuqs2GMBShQ2NQ4N3ZKrUcax/N08jC885M2R00eKZ+9N7A0sGJPW9HR+VBgeyyHIclc0ErELM3o/+vo6d9fk977nxXuVz8zN37zhC1WP05waXIBrJKbFJJPjhkC6ykIuuUbMJ7feBYWh4bJbFqMYPrWazfEQZXVqjiDKVElxtQFD1j/pedIyrfwb4mfTPG1287vYYlYby/Sjws35pNWO1PsKj5Ti4ZTH5ggFN/f71GlEQo6HiuulQptNJF29hzp6ZSPR46+ZBwsqP/cVdNazej2aVlMi8qblJrx/d0On7UMbOHeQNNt7uQ/dYx4TApBcH80Yvak4RZlLz/iQLsD8eln+pOl3LCrWIo3gwlQkQ/InxL/CTAJAnImfWbs2oX565GGo0hZTb+70wNy8NV2ybOdYNt/1QLRXQPl9kzBtt7Md8pCpRKaK3KHrSB7Qlos3JBOLmYBSm0cDVXmjlB0Yg7kpt0vZv1Oz0FAgkW0d4240F4UiYY7z6iTfzsDIeQ+vV3F6Q3naLcvGloZ45ci4vC1mgtx3xTvBYLgxlRlVBLYG0tqS0JdprlZM4c3eK7rdfFpRzwv7LCfFBkJGk9ksdZXWJYJNENpati+sVAEHSKwOZW3KIa6UOrnZMbxnzd2lK2RsjZN6ElfMMe56+78hnMnQhH3RkQmHXE8e84bqLs5RmiPUfJ2OvylOiSeRpEhYNaEvA9stiDmQ1B1k+osTS1DmgzQH71wktkS30uSH92JA/L3JOeQPPfpfmi3nU+7kiPyNmDWVf6zmymzg4soOZYeS+NGP7dIyP0hDedjqxzzzm4UZgXl5mqaeLY+csbINeJ907uMcOf90k3mg0ZABksHvwcHIN+Qcr03xmFmRVtnFm6LYyta6wx1rBdA/sEu5TlFzAbtINBOZ3cuHoaJ/odkdr6EtCu8wW3k5ziAS512qsvYI6LxrefllMl8c+bzp51bQFYcfj64P6Jh37rrt00QZjN9UZzPEvHaC2+ewSBP3ghg9aVyaao596aHMGAE3r79vOcahWOHUxPzw/j4R+Y+imUROni3vrXADMtCHZYU2aOTSmxXuOno/xKb1Tc1jbgX0cY1fnnIHAfqyIkkXT3R4C6A6RHPXwGuLa5Og0DQbDgFsbwAKApid8qPg6jC9tcVbwqODPRrBlvAddVKUij9fFNlpEFKgdQ4WP41UFril+bNhQMJ1EC9a7mAsOgPbomJZeXQMruXDDfV/HZ9SRZop2v7W6NtUD6vkqY1h7L4eYH9c+Vrl9aF0RTegYXcvaJZl6lj8o4dRODSL1cL7oMdWRuDKtCuL1u5qnMVrW70YZ+CmN46MbilzYd6ubl+N5oz/fOzdMx+tQGT19fdW2zYceXB1TS7yPSgw0hsXFaKytjm37utpo14Cajsz9AXznwhExhK1fZsohVPPX1KxxuI40K1BBp4C+48brOALm+HwfFZHH70QYfScxSR82YhL7AuDDvUE3n2iiA9b4Gj02fx4Z/w88fm4EHAn8LMRSHXDZoZ2DOHG1Q1E+kKOYNdx3soZ7s3GNNW6cJsvTc4/MsV5lGX3Qjt+DTb17h36Sztw4CcOQzeQQ3lbWVX29CEMg7t1GjVz87Q3ulyeaNwSsMKWcbEVdIkLviG8rimoSRVOlAnp/p+gfHcZquA7EO2+4bs3If39GOzOqJTwKXCJrRF2knGwhcPwmC3Z4XbkQS76ilziQeBeGKHgyc7XB6Ub3aWKtlyfb1aMWiRMk5YWAaHJk6aYfGx7/WJBFhzaVhpo4ZnYd2F8S4k12iBL+3JYAv1ZM14ZH8XAVjLOR96IVezrOb8kj3XcA1FuqxijeCIar5AW6xlGpKxH5KSIkTxC5kgVUsXN83VA+z2QXb2KOkGo2jbOpT4zTKefAHMLaSb86Vtx15xAKW13qOVIHegpIPzb4G28s5XkGWkd9mhBfeeOtWnkmDnUNQy9uRnzwIu5TtDFsTwH7F5p5XOsoM00kdYnses4d4TQhfz2bq7xFB1+7GEf4XuonjqfDfUU7Mw4n/HgYSAqvKzdkU5QFiaxjfZnMvcwS+0KpRnBoKVmdGwC5+Tr4twe8k6w/HUVMEeH7He15IfO2JABe4lskKLoH9DkOYFmbCJvlZt0ig53fpV92Z0Znl2zB9nKGdRTvxXS2fZpNY+weDNvVXlbVVPU5cZHWBeAIbH7iwao3h6M2SEObexnjX3guGk5fWyvdJFrDLcuIulAWoYqzMUYJvnWj4aAM7ZAyCS54G0O5aZLFj+9P+1BdSmQnvacWOvixwIVAU8rMhdkts7hSo41sLVqklcGMaMXVccQI8POoJFQBiTJzCnSOjCIw/r+4TZ2MA53E5zCOI0hmXRlATEbVBDwHVlJjgDSwWNg/AMM1HOma7U8nCTSOw6TiFGwfQPBhPNoltcGLecGcvMtsTRzHVg4LflbWNQZOjvTYzhO/azVNaHSJGA4geZYfwH1tcE4ihC4nO/fteOrPHoK7TaenG4cgEyQdQXpmZ9JpXcf3s+0WJ9SrrLX9AExU26qjbdnw6Di73+5yrsmY/Hof35+Ggev5rw9lifXaFVCK2jiuPy1j5Ns4jrXP7Zmz19eVeZueIKnf1/Ee9dg7x42RMp4Af6fWIbdQR7exugr8DhsPwI6Jc06y/0Q/6EQvq8yibn6AARQzz+0OENgt4uwNot+d53F/KWVoiK3J5DC2Xg7Thf/Bx08BwO4VWHi0T2eOTl9OHHFKa4XLVeI75OAHKWw/VKzBRfj7CneZ4cVgAceaqHZONDaAYze/V/j3OzVNzn1gGruUyMfHY7SJ4MDqZY7d2nlCeSYz47dC48oj8/2fJ9STsl2MpTCHYpGe4NUxEkAYxvJlRqoN/rbCVTl5OqwRpE0B/evJDAPK8Jjr0RH4lJcF4UGdWLhlG/+F28HmrQaD5OEzjTQ9uBFz0xpCYPdtEJaoSxSOxp5ozMr2lTqbco5YftuoLcwV5ZIQNn4/+5eZBgthpPZPBDLhlpE/z8gXj3jvFmYcbpmB3wKwCPgq6uzhzxM7esVRXOdgAct1Jii2z+gVUHob97s8Ru1wXYwczly6WlFWTwlhYzWbz42fpXVjy8JK0KlVbvEB5KcIgKP0KYt5xnthA5kFmKVX2oBU5nFXZlKdtnD8u3AXDWHrI3Ko08jiMzcWyz/vqKdEfWpu0lXdABd4LJUhbHyP6QqOX+U41a8XnreiVdRmG/47GKnU5RzRvMqFWtkeE8/vhc718MjozQEBQGC/Lzqo33Nk4JtKOF5O1Hi+riK58MAuoG2ivKM9SaXcEuGvEuRbq7WO2GZszeiIgOfu2r/fuJhrZITETej1ZptNja0ohY0TwGAeSv0YrvtXHxKNYk5d1en1ymOV5dpME5k5ZQ5Um1PKcLd6AWJi6uiim2LkC5kLW4QAsqQqygcI/GSk5RQYaWTKIeqkrxuBXe/GAhmwk/HXR63kYCsJqI4LNBdTtx8WsNoItI/H9sC4mB4NFMybFnBOI5xX2EBrCfHHhVrGl8sELNMAEBJFZKN+0Z71y4nmhLcrm1GOY0F1pQIEWveVi6eyrAeBPTt/23g/rQHdm6TCjpceB3GfW6aljgNXhiy7TSYyuaC/Xck2zUymMH2bgiL9/oLEqinI8x4I/YPWTY+9mUwUrMYw4nKEqbWHxs4ccyODsIkxcCO2Z8mx8wSSWq+mv6PyA5U1KCCX0aZ7v/F3zOUexvmr14MeJ2CwlcqqNe78+uMuDPtBNrBuH4GuAlIFaQICqS3kyJc6WLkWagVaGBskgNfysXGlN4I/qW9zMZClE4bS1TYY61LQVS8o96mOBufYLtJ7hytlsPRd9JDzzOfzgSzh6STh79xI6rXfS+H9Rd+X87J5W3mvk+mLMYJ/8fFzGkDdeZ8m+CvdY27LZMM89WR+5ShW9Uvhj3eE7+8AxqgTHmjnxUa49WmW4GSQFdoyEL1phPoym8AclYuaNnO05FE+n5i3tojzRt2RYhjxd/brogH568luFj1Q+5W+r3wv3snr8oaobAjru6LpwTSPry9pjKSTt/EjxIHK8F0FpV7GrawCK5eE+PpAeZrQgo7IHcrzbP2xbJvgQh7vvLm0JXKBbtRIOhlRAgRN5WlC/jyzj/cu3ba1s6/2ThYKAFmsKmznQ5otJsajWFD0VpHuBeU5oTxPcIVNE+VMwMYMvCKO2C6uWJolNN9w+r4hP0XG1rxLobsH9XjOiRGAbR6+dhtr0/3M6B6AGsf9JaHprlbGyJQIONMA+pVaTxtvOsfPeN2QftBlGm474sponfn3jTrW3CRipgMOiO878nO0cGs99uq+LZ9miRsiOPPmLqemcPqxESDfC+L7ZmymfldoHeF9Rfrt3RabNnHMrU010/fNHLVoBJxkDIOFqDdt0mnNchy741jKP0Sf2zv/fcsoX7gxCbfNDC8K4nxusiGZxghZwKJ70H3dFur0XAdH2lOkkeeU4K8r/I8rgVOnY78n1Sd1siIi93BdOosTA57hHA0lE+UdXU0EpZK9BEz315/OEmDbP7IKwMdR4F996E5fx3H60KiUZfk40lHAJgufk0VHQZa6/o4PNwn4k3BgTf63RVB1RqoRVPeicxzFtdGNqgJyc+kq46OjT0BK6Ptw7+rYVFkH7wdrIaMxY1Xl2H9wrKpOExgavW0fr+39ACsKzGMQsCVgTRlDHaneVzE7COuqQM5TgmEmhJ3si0tpjDiPzlf9Xzpop2odmXnyGdSAoWHN+nm66NktrLl3cw27bZd4HTkvNKNP2Ux1bp9PAxD1zjGkZvlBzlNl9U4CHh0Zwb5KXp262xeGQbuHhI6L27rr6PXIsOox1e9K+3wP54U2ojg9XrUNt6wCGGWFAeC0DK2pyjCUPVXQqePW+zq6nZUN0/NH2C1zo+sGRbMv9zyOIy8oO4+7avv0vE7xw+uo7o+u4UpgLJo669HVa6Q1iVVJdpy0lYefJQxJib4HjWEqxV7XWkDk/Orr9vG9yxi318aGoKcnceZ3iYfivdGagFQn2Lpd6y4EHiOVZvzkBvfnAKCeIL3LTrzCvz+4uOwF8VW6TEXv05aI9nJG+3QhM3h92I4eAPtAAztN9QJwW5ZsPRk1vd0AD2nvcPYJdNFkZ20FHMjcOGf6Q/++jqww51A+zdYJ6zLdu2ps6FMcbIpqDSeaS1r01DtJj6yXMXEVZqNcknSfNtOK1ZMAAzWhSCuDum3jLaPPSdo/NhoEJMqFgEVu3NFbLRsAjgvPmj1FFtHJ6L28zJZXF7aKIKaMtgTUpwk+00zia2eEixMXstyQw3VHXQL2Twn1FPlZt3oIRAbi2rG/gM7gS8L2b08oJzZmxLcV9cymDi/fSZsj0rUgvmcDJm4XDZ0DTMO5F0zfN6AD07eVN3x5X6oJnN4yx82PIkBLjTtj/NsjHcj568k6ol3l6BYAswU/zWTK1iJ5fd7YMxt5nyLmbzvQ5DsUFpDyBNa0bb8so/LuulsIOeQcdBJOTsdq/1DV5KUdpPyNOtr4xladeKcGkzKKZpuYKnV5bi+DSRAGFx7GCGpfNXq3QHAd5/YUmNsnxzW+PqANOO6x27VgWt7rzm5kafRB40aI0TDZ3k+4bkAT5l0BTfQErVtB+ONdUgLk+vx+HfoywNoyXK5w9w3++qCuUMCXV4Ahui6ysWUs6oBEWOyWKfqXH0m0SwpknIjRVQM0z9YMAmF2DMQAQKvj7446QHMNCzNXChed2/3w9zriLNQ4HcGnNBPYCBngoqAOXB1Jyf2571m6TWUzruaBdeNCJToyAIMFOrA7x1GridJVV6exKuoGVWZHjBDufILFdrQ+asP0uyr1Y5itspvabiILqo383672ZwN5gL1Pqz07ZsOp/lDH0fq/4O051HHrcvnYRiEmv66xM8DoE3bOpjJ4rGTvgicjqDEx6n7WwGxhp3l+xQ+9xeokNlYvSLSQ48hbI2HcYxuATh42Ftax7wGkoB+q63of35/mCdqoVLIMFZAd8x4V6PcOfHrm8+trHoCo6TL1vFQTCjDAUu+UVig7XZucz7LeHs71LuezhSIfN1WlUGaxbjynU7QQZ9Q6QJyNj7u9J+vtbY1jYB0vH+rkkHnd9D0Pg5foVBn03AeIBXjNHh3Ah2OjQdKWG6hGMYCfT5nAI7s5JeZz9mbue6Tpw1TiZzSAPwUA+5xIjT52nlyOrq36sqB8OROYNGp8ED2L5SWtv0d/0IqQBWrPi5XHHx1/LlfE73cZNT/xz28rHZBiCGnmxNVeVWD6jzd+X6dEndnns518TnPI9gJ/24ajtbKPVVkKrajSC70pAEsHZrE0xFvm3zsQ0Enshbo/460Mx6o4Wv1hFKzieHWG1otWnnEE0WYZo3W2hgSJyojvGyBOZ4INWMdsfN8R7hnxbUOLHuUzF2O/VlvU88uEFhzStxXhupmz2dWG/GlBumbr421zQJG4Er9XBImsufx7R9hZNeb3hu450lbHdz1FA6wtKRjhTsZuDFKbVy8T6tOM8jwbQ1qXyKDkmcCsLoFZfquArfvOke9CpjLcC7YvozWGLSJVADx/Zv8yiwO9ibN4hLDu/7gwiubG46f5fn7NPN69o4g0QWvtANDQ07s5tMP7xuiX2WP7xxPC+4oq4eTlkiz6BwC/5w5pwshWl9jlvHO9W++15V7KSFSr28pFnMDXjWPhaYyK0flfZQLZOcwMLs3XbHOSc5HZX+qwb/o+omfckhOjV/AjO3JOPIcBguTbaoyek8BsJ2CkPS1kjFcCyfrrJ2g4r3+9w5o/emcm6Hk25kgzxI6jSygDJDdD7Tc1o8LPPFodYzroAtY+MH2juk1G1vrQHmF9aM7a0S2oC6w+txuLny0UGhY7T4P5M6H7GLH1UtDf3tk+oSBPy+SXeRhM5mk4OnURAbhQiZGg3x7jOPcBJD+MFXVst+1jZKyjXYlHsWoxdWECZGuezoM9qqzNM6e0jYEFYAaONvs8DQOB9xbLoq/bYyB7pmyNGUe6SQVUf9a1m1YNGiIbMLf5fWV0T6Z84gPgk/YrAwzKliqD9H6DZfId3aGP1UgT936zCjbgwJqqCQSw5+5zGsdQ75fLNECbnkNHAP7/J+5PliQ5tiVBkEVEJzNz9xiAe19WFnV1U39A//9v9K6WvajMfO9eABHhboNOItILPnxEDa+oui9ikUYEAhDhboOaqgoLHx7kBhb7qOMEWJpB8dGzzCcK0w7XuwExA+FiDHNx0B4U4/NnN7fOI2euY9N0dp2Hneu6kTavPh4tSxBoUS9dchPVU4SMxQvVXHiNHh3Dek82BtYYu25bq27T80WLCLJNtJh3j2c6bOacIbQImbpt1tzD6/QpH1QO3c6c2ocxbRWo3Lanfm/P/pQRajMG3WQmVXpIfefSJP9p6vGvPH4KAKJU3wHUcUD+eqGOYsssrDeXbKiV+rSdu3qNWrdfLm2XoEaCi/L7zAySbbdgF0E59/6FpNvWRoj31cESKvt2y+vE8akxLogBZeIYSp29ej91tNiWdUe8L4i3hbojy8nzFpIUMP6PDw/nBUzrt5LFS/NOtuzUe7BuPnVYP/Vm2Og83Hi/0ECQTz3qSCZKwb3ptnqtmDNz5npluPVgjlYLkV6zaeMMUAyRbs6pa8aIPhKA1Gqh0RX9dcPwgyfY9vXEarZcm+7FmKo8MjS5/1iRHszry31kGP4LT9647MwXfGRrGuFIN482/r8uZtSJ1hldrfM4I590cYPu3i4ABVi/NgZp/G1G931G/312hgkAmyqGhPF3c58OEePvm2cqIsLdvWz/ANJSsHwd3E28/tIYwnTfbRPBDUC0c0rj/dpFzznMqpOz6Bs1rOTLgO3XM/ZPI800xUwKJgHgaJ3MoMbMAlAyeHQfC+pAMB7vK/LLaN3WllE4ddTZ2si2/+PODczYYft6xvY2tH5de61QqrmQM+OJjLmrfYLqo8K88PqwiJdg2tJqjn9KIuAmrfTjwet7JgAOtVIrWCrdzfPasgrldi88V53BlAZrZ5B1tTq32kW6fmPkOEwjNi2EcqF6JRcXs/J6eh5N/dWHmAbAR0pa+KvAhS0iXhF3iJ5xZsD0SHW2VohpdGaHpfQR4XJqIFI3dluU62bGg30nY6cRrtiRx6ONTh9L60c9xqQcxp08aWNjEGVaiAQHQeHNxgRpVOZO3tncuQdGx9m1oUcwDdx/cr8aWxGOYcFHFu0QzVKtlcNzCwVKBS5OUwOhe26surNc6VkDeHSEH6NjxExmA0M6Vn2POjHYXzmuDqSmsf23PkuXyEQJaOs8sHFvfTk3EBwY1nyM6EHfcewtICcnsb7HbN3AOZsezb6HUikD0ChV9Wn1oHW0phGaLQ9MqL2PKjIm27hUwdQKTVbkjH7u2PUcQnMDC/QBbdOgpo4QyPo9bSLsfBSbqPet71V/piy9UngN5dy6nIeh5Q32psGTecKkBV7NdnB7u6P70Cwi4OnRMRq/Lktj4oF2vcnpO47ts4UAxIRwOj31D9f7w/WT4XTyKQDPx84MKASY6Ad+DrGO6i0WyNR4+Cf0f8DPMoC2I3cQ9uNhVWd2QZp2Lix0CpdXOrBC4Ti4/8eHs3aolcxHZ8yfGg+UV6Yu1wq6eUPA/nkki2ERG3HeydpZ3yhC4GIFONOWX2gA0f+HeUU1EJAsuJnuJcs6s5Om9IkdphZ1gczQ3Xxu2VXqBCYLFjyyJi4ERYoJYJwG2Ts1SJQucsEfU8sLNNdZ9z5TezW0nWG6Lh5lUmPA9jp4uHWYGUKNLlJnVQh84pI9GgcAtVwWDaOate7BCJ39dcD+0qOcOgx/PDD94846sAD07xwlpzljeQtIj0qnapBGjCwbY2ci0lKwfp0IbDpqIxWGHJbs75fl6wxX7u470oOtHGKyll8nizoZ3MkN2zkpEiZPyeNuagr8TtfimYE8YATI/UcLUU733Q0d+6uZPr6e/TuVxizeV8+CDIVZhABw/3+8MdKmwlpD2NwSNzKjeSQoDLk6qFWVn+QL+TIgzivHogKg0Yw+I5+7+z5TejB0jQUfTLoQ2fxRph79twfG3x48HxfrVjY2m+fY2CJWzLQRls3DnIM2859O2D6NbOK5r7yOz4Nr9tgCVBE/7m3h3DPZfhuzc3Etfo3DQF64za3rdRxQx4HsYLDcUIDXsxpllMu2WChuzoi/f3d9VFgoo8C6OWhUZMZfv8nVJvqeGXuhhSQogsHABoXjxiwVa5iwTLK6Zy+pF+NQJWyHLTgCD7AFplZzi6bm9KuWE1ao06Jwf4QE5B5uK+2cFlSxHDICiPHYNu801X3MF0Xd/4qJ0NX9a9+XhwUfmZnja5hpQ/fQJyewAKxGvRohi2ULoWXgCegodsMy8lyj5mPnxuahSxynjgOZPJtO1WloxAXAz9QlH1s/AVMRB7b5eQq8Nqdw1esI7AjwmC7tqL9UC4oY2yfWTJ9Dvxt5XT2Nhkt9yiJE3xkQ3RqA3jNwPrXvxLV2By2aonxSbEHEpiOVzhZ7Rv24cbw6jY2NlGbUmNv2WQ0ISls4L+2/D8DLjRrVNJsGnMMw+DlSl7Xp4HR+6N5SKsesatLRmFVsYqA+zs0Uqr0z6YaHMMuNb2Cyii0G2cdwOjVmHOB3Pc9wJzBgmxeaueo8WydxY+PI8DWGn1E2k7d/YFlMi1v4mSXz6DpuBMV0j40ZhfUJ11rttfdnQP0vPn5OA1isLHvoGQuREjqL4gCMmdEFlwvix8NPhPgx0w28MEdPMRCsnOI4iS7jjDBvKCp634tnr3XXzQKZyeBUC28uvTFMW2beGeAj03RfnTEDCGLTH1f0f9wJ2LpIFjKQOVJ/ZtzYCey6ri6SvVOkx4UALJ/pFhIYQCQLFg0gpQ+WYqcPslhhr6hDBAL8oq89g33zqSNY7RP2S4f1y0DwMvXmqDPmbyvof8x0NT+4wIcK5HMHdBH5zPYKBAKi/XXA+nXCfk7Ib4MDwrSwQixfesQ50y1sHbUcgzKUsvSpNZfsQFqA9QtbMrrbhuH3B4HP3cKqbXS9vQ1ukmB4dmSrhb2/uLHfeD9x4ZGhIW4Ee8O31QHk9tZj/nWiRvHLiPRgQHR32x3wkgGz9w2OfZVLmUc+T//7jfrKKPCeqaU8M8OwJmb5KUtvf5to+Lht2F64SakBGL6t6D82lx/kc89cxUnjYYKr9GDVH/P07EKq7Xwsl9H1hfvrCFS4oz2sO/W0Zk6qQ9dqFEHWPNTq4I3By9QKxgd7qWUYiVvm5ilGSiAiNXqoFfHj4aau+Ngw/MeNES+jnXcKK5960+nNPqqrNg4Ly8rr9tMZ+cuZN3mLBGKbgwGd0+iykLBuiB8Pnm8LR0xx2fheDrltzFcz0PX1UxtngaO0sG4tE+1nx8BiaEyTJ4cfAA+Irrlw9++j3cOY6TAekuAbKnOvxmYo60umDhs7VQGBI5uhgNuDlgnRomGkCxLQqrUtbK4ramYSH88BjUERgNHnU7aajjnAzyEAJ0PLn0aEPmbNmbEbh+flMbL3OC/u+HbdodgmHX8bwYvhrcp0E9sF2GuVZhoIwSOjNFoMR52jgMlhzO2mm2hRIQJoAmNDAy91Gh2gheu9sXT9gXld1sZCAo2NWtbGpmnUaOHO/j2JKZ1XY8Wrb27UAFLF8o5DY5o8n9Heg6r9BDAfM0FwpdYxnJlPW/f9iVkHQGNCik8dzK77lz5yO3wX+l417lewuPR0bvLR+7FzRQDGAF8wwOYxKmJ9u66NcO0c8yihvicQXjdv4Km5cHO07RyfAvARLeDfT7Vxt4xZ5f2D9yl9rhiou7OKR27yDmyyInRSate+RrvalNmj7rtfa+H1hc9luYHth2wjoQ2l9LvmToazmRYCX/8nAcBystGLhbR6NMPOi9+z/wCws3MyZ9BiN3LSrvH97lqmmgJbF6zmi4sOmyKw02VaY8D+5WSsIJ2K3Y16sFAJ9srAcd3+6yvZMmuLkKNVbsRymeiqGjpvrkBl/lvYC/JlZJjvtzvHwRpZ2yI4/mZGFjNseMNCrgQylbluHJvRsZnPpj3INhaVSxWw7DyGPQv45KlDmrN38ipCpQyJWrlL78Ha5dRxLJyL6ebUasHgaTFT3W3H+PvMMboFHJee7FFJAQiM/wg7j+/+eaIjuafOUDrBtHJ8WSO8bUQ1ZfuXk+s0vYv3ujnIjQs/Dxmz3U0eCsrW+QAAtQs+/u7fCbam32Zz01avF9PPA8DwbbE+5OQuaDJ0HcbfFgZRf7Yx7X1r8Ty5msYwUw8Hfra4kY3tTHow/D63Jg2rMUPhOaA8w+622SaAppD168k1ReXUAQUeFu5Sgu/cKKV5Z/agAbEy8qabTF+q8XNYKbUo595MN2wQqV00Y1NCKNSpxtUimbLJJKYO+6cTGTnbZXuQ9+vUFoRa2zj51JMFNFZP14+0fQgB5fMLEAN7hFUDFyPK25mF8zfTshiryokBj7U6wuvQeeBz+XTmPSNG1sGVwoV33VC+vKCcJxeqV0Vk3GeUT5efucW1BdVyuIIW28JrPiQrlbdxjhYTMnE0gDhAzLkxgwBHyidmvrX4h9zAhrRAYvs0ouuon62r5feZ27De7q4HqzYuljbQe1UFYIyBDKZRCi+H42TP55oraQ8jR31hmjjONIAZBDwPzlnFmQCwHuPcRq1i7GqlZm8+LH5a4I9smAFij1WJplGMDcCGZWtGknEg0Pm4PjfBaDyn8acMMqfRO50F+IKAt53/5cRzqlpGn3+2mXmA9TQ284Qt0pDOsFSeP4+ZbJTGx2qb6JJlINo/Amti9ox5c23jIVtSx8bH4gKeR/c40P7/fGqGKRv3u4ZM2j2N6308HxvgF0trxiFn5Y5sppi7bX92gncdNzW2WfGeXn3HgBkuVh+bH2vzHIwf9XQClGLhxZAtS3M1G5AL0hMerrUQGaMkCQcirwVWP6Z27R9yEmsuLappWwn6tDkruXV7B2MzZV6xByNu+P0xKDu2zZs/T20bNcDeWyCTqXNL4PEIRv/Fx08BwPTt5owBKvV7QUHN9oUqvBViGOTUeSxkAe1CrEMH5bjF++rjL190DtoCivPthCwgK3ileUJ9pfFhzsW9UfPxzoiaqOeUlss0ZLVPXNhmi0GJ0bICs1PQ8c6A6e1vZ9eM1T4h3VibFe8r4n1zsIEKX7jjllF71puVISG/TgQ5NvLIU+ctJqEyeLqmQDYx000s/V53tde5GqNp2XX51PE1zamcbqbxMlfy9jYgrWy/yJMZDQYK/sffZ8SFLJo76Ur17t24ZuxnXhR5bK+1vQRMv60Y/uOK7W3A+skE88osHBOGHxv6D37utBCY5lNH4JVp/ohbMSMD3DCTHru5TtmnvHw1p/ULq926K8fENUnICyAGrJ8Hb/PQMVbcDgB0v19dBxlqxfrLxMBkGy2nhU0X+cLg6u595rk19shjwv42Ir9Q56cg6DjvmP/OGjiBmDImP5cQOd6mFtFG7Z/HAwObCaRMVhDMHJVPPfLb1LLIKjcF3XV1EKlMw2iMOtlrspGIcLfu/mmiLjdnjoFryyOrfUJ+m5zdCJstCMY2lrFvxicbF2u0xSaT2U1UYcteZeXNHBEtlsVYHWcErFUBpVAzWPk89cKAXekjg42RQ+YYkqX3K6cRCtJNyU0SAg1/+ZFL29V7p6d0b6XFQABNzyxtlfp3AYRx5PjnfObzeBWULXy26IYuGajsWtRDttq5xIooH+eZaNxHRYd2Dv9dM6xUjex2yzgTKBPQEWMq7ZdGo8puqweQYbIeAE0/qJ5ZLcZayPQ+ht70kdsz0yV2cz5ow0pp7SIQ00pgrecN6sUVoNNx6Np3FRS0rHGsxtPzgnp/8FgKfB3BsT6TgOKerXM7t3M5RX4WO3/dlSs9o/RztT6bHkppsS7SJMbIjc62PbdujG1cHW4PfnfT4McmPJbWzRwCgewxOFvAQ+aKoz5V56D9uTNo7gY28K/xr74rPbdYviPzZ3Eq7h7ejK0cenPOm+FiXrzizKNS7FoIlzPHwdtOwCx3cdcR4IeA8PZirKVdB6pIi9G0tX2TMOh9Hx8CUfbeFZ9U74/m7o0W8XJ/2M8mZwPD0KNqhN0PjZW0EOi6bc+u9hAbUNcEIefmbLbzxUficvaqueZPDzeHqRbufxYDWK2rM3994WjI9HZBeVS3mSxeFz2WQlog9RiGWpF/feNNPGfAqt8AIH3nTnn/cgYs7kTNImLwCIgKC+lBVrIMHH2GzXLuXINiY+sUybI9uX9L00CdCEL0HHHZsf/tlSDCOmHVdJEvA1k2YzC3LycDDTtKF7C/cnwKM7PIqCEGLZ8HIAD7JwM2nyeoWitfBnQfC8Z/3tmpel/RfSebsn2Z3NCxv/QORLsPi+8IwcaFfL1oruf0sLq6rQDJRu4BznzWLmL7RHaHcRyWNReAuDCahbl+m+fhSVO3/e3Czt/fZgMj+ambFgCG3++Iy07X7hAt3JsXI18jow4EbAJ+PG+qg9eaAoqZOhRu3H+fgQrEmXq96beZAHhhg0zY5VIm8N//9gpU0M27FYy/PXycGkql1i7R8Q2Lk5E2k7tWUOto39X++YT9ZcBkn73ad9xyKhmCHeeNGYFDc0Yvv4w+KpZho6bAPL2h80YVuYLrKIMRtYL508R+X4uaiR987/nCYFu6gjeTTzC6BpGMcI3swpZZiCA3IX86EYhtGeH6sM/fmwaSY9mwcxHitb9RSL6siB8WiDyN/DNzAQLg8yeG0qqpx7U2IdD8YYuUNmq+cAOMgXLjWY/6RuYqfNy5kJ8mRnBooYs/dYtrC+HA8VuV9kvjmZSeQZuNnT2LTEBHDBwAdyYKoADuKq6ltHGVWCoY62Wj7rq21oEqgGPPWyVuz7nlpAFcXDQy1ILTdagfH1yEzHTjoEtGE8A1kFDuq72nKpejDCoaP2vxt/GhRqvSQLppQaDOwGFVDIjG1gIFGqHtlq0mw4HGtgAZSQD1em8mCH1/yu/r2/EG4OCK790WcZ03Mo7YWlUDrNHDXlsL/FHfZiYo/33TFdYjMM0F+PTiTKKvheaSdYDp8THBWULs1r3rQDM2oA1YZ3D7HPUIqBVILhbv+PtHF7Mdp/p6hrdwiBXUdXAYhTtovz8IzGN0Zhp92+w5GzcOzoIG0+sBaCy5bSKqxufehrL7z/q94HKyKJj8dI7oeuHxPoDWyipHnVNhGCybkCy9503uO00f5rgNBxMIK/AebfN23AACTYsodi6GBspjgMe52PsJfe/63uoxO6V9xyE2uYZ0uAK3XdfA5V98/NzdMefG1lkwc038kmufUL68kMFbVUeWm8hW9HNhNZXT/PMCZe85c7dJAArUqQMiGIkiUCX3YSkeERM2sim1C8hvExfvaEA0BkQL7wyWGxivS2MnaiWDsxeCTgMCoXA0q1gWAGQazXiCSuYoWijv8G0h2CrVO4iLgYK4FV/4uh90t3Y/HoiL5aN1EenOHVwZO7ZQ2FiPDuHCSJK9YPj94Xo5gGzQfk4e8pzuq18E6b5he2Vwr3Lo9peBQP6FesDhO/P3yMxYl+7Y+T8A6HQeE7q5cgwM2Jg0u5lCRpvtE28YeUxQeHZYC/r37cktzr8A0vvq8SpywaV5R/99YUj1lhHteeLGm6T6cPfXnoDqTECzv/TYvk6Qm5vmld13WbXjhVaGxJ7nE0FRPlMn07+v1Mu9DFi/jGQwryuGf96sC9dAfCG4Zx5kz9Dqg4gcgOsL+d+8JvpvM8Y/FsSV7Gc+m5mnVKTrQoAeee6nj4WbmNts+lLbKF0XlGnw91zO0hFa68zY0VQROS5GBGoI6K/ULAaTbcgUEizn0EfAISB+zOj//YePmfKnC7avdDWGZSP7YLqrOg4EgqaNqiOvjbCRQQnm5qWJxJi/lY7RcJ8bO2EbkvLpwo5wsR2JWWXl0loK6nniGM7GhmHdOAL88+7/X33UwsR+Yxf0CENv/aN7YxBsd1/vszsDNQpGCI2FSqmNc02/J7Co+JZ6cPhJTC49EfV4GQjRDSl13aAaunp/eJRFWxj3NprUOG00XZNGiPo56f06mgzCONoI2jb4xvw4w2lsa13XxgApuFsA+pCjCMBbFjy8+uViDuvD+9DvHn/vGH9TikdzBBk3YmhBxYqTOUbY2LoSejqVPVJGoEiND8Z01tQyYJ/GnGisLdatAcZl5fksE4SkCmZ2qKcR4Xr3sXc9jdxEWZ4iTSqHUbWAAGCj02Yw8fVKzvjC9hR11jpTpO/XtGT1/iCIPjJ2YnF1nOfVNy31+F0cNzQGwOu8NK1jjF4DJ5mEs5B2jKvYYnseD4IO0T+vAtHdaGTayqcAdbm9Bca2jdeBQJkYXDFu2kyIvTQtXegSrycxaSGya7jvWramtLI2lq2PGeV25+9UG93LqasN7XGkC7TNxUFeoXDso1uY99zDqLs3oKdrw7Wr+zOr+xcePwcAh96L5cNjo7EBIAgsBfG7MQFjzxDiY3hlZewDnYl2Mo4dyusZMl/U00Am4v3RFhCAJ5n1Zu5vE7Z/++SLBWx0FO6LxbwUpI+F7Mb73RiIiP3TiTEzlQxNeeHiHpbNjSPBwKnHC9gj3RYfCZZTZ0DCDmWlgWD/PKGcuuYYzdSipQdH0MWyANO807FcrdHBGEcXB3cR+7nDfkrWLtL5OG/95UywaDe+OG82Ys2Y/uOOuBfsbyaANg1iPvcMF87MCVT7Qz53/nOu2Vsy9pfeK+KO0Teu9+sC+qsB2etGF3AXfUwNwNmw7vvsoEms3/75hO0L2bN8NuY1wnMd491MALWinDqGbPfJu4nXL6PV8sH/vL/u7tqtMTTG0x5ifbvvD4z/QRlDNoAebZzMFhAejzKYpKDCAJY1XczZmcD9YhuABw0/DJQOBlAjum+MSikauxtgZ2uJhT7fNm5ejHGsibIEHa94t3Pu5cRz21o9ZJZSyHO+9MwKNNMIm1826g1fRl/s42MDcsX+5Uz20GQRtYvMMLzyuqmXCeXFqhftBh3nla51gS4A6v7UYliHnoauDzMY7CYHMRF5HTqE68PilprWJ/z48I1d2DLi9yvPgaFH/fyKsG4o08Bgdy2mFguhVgjkwpv4zz5CZNizLZYhBB+fMsrheIOn3kkRKtUCYqUtq9d70/TFBmLEcPCkPIxrxeydTm3M5A0HExce5QpaNITr/UJwBqjOszuCq43Z/OPpeWWKOP75MVjb9FPo+8YWRnMj24g4nKilao5N21CI6TwCMrFmPq6U+/ag+4sH8KPAXwAeS6MF1lzgyIUNGwakFVniZpae2XEQQAnBNxrOFOm9H4FXZGKD1q86mbzgNJHJO7DWGIdnJu5PQC6s5rq2AOhg4+Qws24zLFuLbhHgNNZOgd2u0Vya61RZfmHZmPunvETL3aPJJHFT8nJxQPV0/AXKjpumnDmS1fl4bE9R6LKAqY+Ho28cEUPrJ+471NuD16sAkG1ayMgRaNHwUA4gshDcbVsDTrb5akyvsWIxWGagTW7WDR4j4yd3eDrXNX4Nfd/AqK69yc5pdfyasSWcTz4B8DiXaiwmQEC5re36PIycEaKBcPMFWAg0zLyi5/L7yvG96j4hjXDXEZT+xcdPAcDwcUf8fnXnndc8Se+nxeL9YaOrAeX1xB3VZSIjmCv2X15QPp0tHoUnjpy4YeGiUQeyGGoH0Dij/+1KcLJk1/CpAB21ov/9hpoCun9+UHh/HsigzY2ZVGxFsl5TAGwbqJVs44PjTkbDBP8ZgHpEGQVU3zb88UD/7UGt36kj4zc33WFRywjASq1Dd6sYr+VXq7MbqZlLC53FdWh9uHGj0WP9MnJE0dOFrfGgOmhR4D2ccdl9NF6tXq+7MkOx+7G4gSOuGfmV7tq4MNtQgdPItenuApBHjkTzmZmEdYhtrNhFnP793mq+NPoMgXo1Y6oEVI4tHWRLTJt2HuhwDmAcTQzMXbzvHtOiGBiNggGYOYiguruuzjyVie8FgRVP/beHhT2zqo0jWDNd3DeaKzIDrNONN+v0wSie/tuM4dvM4x4pS+i/z3Srw0B1nygtKGwNCTaORQGObuDaJ+tUXllJt+5eubb+18/IZtjYX0eGMSu/L0bmAD5W+w66VrXWaVQUWd136T3AHHae0Axiu+4QvOItXwZuEsx8oTJ5sutswqkDq9qk5y2TOYLPY2spycWZFeWcxfc7F+tlQ3kZ+TyvlyZUlwP36Gq1e0xcNlYvXk7OPkLmALEBx9y3v/o4BrVGBj57ldtx9NL3jGuw+47njoEjJR/HAa3+ydgJatG6ZyBoEQ9HptBZrUP7Q12sySOQSQynExk7ayqpByBRd+mbojNCAlrKNzt2D3uLgmucbHHUmFcLz6Ftwsdf6U9Li9hTc2nWxUa5Yntt7Fdv9waqBQK0gFs4dF0WghItrPoelFF4ZBsPwJkAa/X34aNiD5cOTaJk4JMpEKAj3zSSPgaOBG4ezgs08GS9zf6e5F4XKNKYV8e175yFc5e7NHB918Cv2E89LLbFR8MCu/pZG6kr79PZUB03fW4d52OkyFE7KJCs81PniYDzMe5FLnVd+wCP9bI2Fn3f6d6VUzgEfkb7Lt2VPg6+MfBz10ApWT4zk8g8A7TrRe0ggIPMKpe42PVMJ75GwCFa84pJNOqyWFTS0HSl+s5SpDZQYM0MKNhWB3dMK7Dxrf7RdRODu3+DvldJRY7H3N6jpge+SbKw6DD89ftc9//7R/4vHn3HDl+NMmaydmGlVoFdibxRUweXUeNI4Cd5wqnniDKzIaAGWA9rx1FdBMJjBSqfI9xnlMvJ6+akPdw/TxaJwoUlf33h99QnX0R8IVw2BNMUcnFmF+n26xnDP64ob6d28Qdq0/QeIX1dCAzhXbID0/jY6cIFEOzn4sbw6hqD57GFbL+TK+rUIaiq7rGhXEbL2ls52jsP7FSOQJjZrYvK7uM0M/KFADGbGHlFmc5cEIwJ2Sx3Lpp+LtTaXKsg6Bx+uzv7g8O6FgxcyznN9pAe/ceGtGSslx77hRf5PiXEjv3B+W2kqeOFTBlHg3zu9Nh8RNy9z/weHnZBGotbRoLZ0iegT+g+FuRzj/6dMTXpZuOVTDYXEUi3DfV1QP99dpavDI19kEZu/Xoy80/vY1kHqGZs6b/P2D5N2L5MGP5xY6zNdScoHzgSCluxNozVR8xAMKZ1oJN4yQiBDl8aW6rrMqlj4828dBEIQHdbANDVjbHzsXJcdjeo0DCTPTQ8LquZqArqMHkOYSgF4Tr7+Vp7ssO4MdB8v4x8XnMRs1c4sI0jRpS3UwO1xjbun0/o1g3x/W7sX6RW9r74IhYfG8fOKaCmDtGqqfJlInC7nPy6DNL7yeRhrt8gXVa0JgQToAcJ4VdG6XgshUZX0lYBjXH5mYcxyayz3D3apdam3ZOjVqOgmqr/O4SAGqKPl+pWgJiceau1spZqz6jgiDZMky/mddtQV9M4PWYHRsr/q+uGcJm4YKplYd+pxVrWNmrdd77vXDg9OS7EubRxbj10rGp8J2E6wIVcI989++cIikrxxe0AdmpocSGniYuowF8IqBfLhz3mDIZgLuXkYIqLZEQAfLGve+b/a/R2BCiFUSkB4PmijDs7Jv75jyYeAy3hmBUIcJqhkWPfNQOIZQjWoeeod+ibC1dGkBAsKq1JcTxKxUFoRxc+gLDmBnqNWQvnqb1+CKi3+1M2pIMwY0B94xQOgG/ogR1k0sSQ6nuu9UkDqBGjO16PrSfzQsC0bQQfKQLVjvd5auP4UlAflEN43qA2D0eDhmQb+qyjbeiWlZmGJoHxsfyykoEbD79XTZu676h2LIMCreWqHnquvYVh63XPZC+1QTuCT7nL+95r4ULgKDpsG2qp7sYP3UhGb1Q0UASG2NzDAnW5tPtAzgjRzsFcUCFZEpr8IURgsPsaOoJNPd+2w6v3jhuCf/HxUwwgRbGHHVVHjReZOLZw5E8naq9uzNBL368WwGy6GdGtEUCtvnCx5stAwdixJ9gupPJiu4IQXC/Yf3v4iVLOk7uHEQIZN2v9CMvmrESwRgNEeDuFtIwKoM4vI5CC1YZtHm4NcyvHeUX6dkd8bNbPCrBxxEarY2LwcYSH++5vU3NLbxnlZUB+YyZb6dpXsn86OVPo48RCs0mcm3kjzTtDm6eeDJExXtUy+9J9d3bNa41qYxvDVnyEXXsb92bqHcvQIX+a2D5ijtruTjfzfurQPyrGb5WfEbBAaD7P47+cmMl4WxjPYw7s2icUHedCgCPmS++h+1h87B5Xq2Oy3VzpLd7EGFmN/QGg//3uju5qJqOQKw0/gVrBtGR03xd03x8uKyimnxODF3LF8PsdYSvY36anY+3vY+qwvXTIb6yVYxal3TgK6+fio/18sO8bIXjMTbyvFga9k0X9xOdI3+9sgrmvjS22buq4EpTHLaP742bXYjtv0iFGRc8nWYbG0HR+G/j6YC9rWHcyHUNvTR6mDdyai7n77Yqw7YxzMeYRFp7uur0Y7XyrvL66xHDrD5q6ijnPy9vJdVEotWkDre0AuTTTh8ZhvfUZS5MzcszsC21nna0ao/2kBjBMk4vPw/kElNy6VQ9VTgBaHMq+c/GxLL+Q4oGVo0vxyCAeK6o0bvPoiJj8eQA0J22kkzFMYwMF+456vVGLVwrCefL3GELw8VbVcam1xZJoEVFlXGkLsoO6o0EF8AxClOKLrzuRBSZv96Yt06IOOOuDI4hXHt9Cl6i7m4HGpEjHJy2f8g9lfjmOb4s9t7SIAhumx0PfNUPL1ty9HtNjwdFKtHh6CJBbtE1YLUNQr6XwYnsed8MDDRzrdyYDPNaw4XmEejzmBsbte/DRoo1iHbxqVKsMQBuVe1YjwO/7CFC3rUWuuBQhOYvMXzKGXZuglzMBuRzcGpkamyvmUix3GPr2fR5ZbL1XnWPS2GmDIA0j0BzDurYFcg+ue8UqVX0u5VOWwuNRjZXr+yZz0MOAc7ic22bG2eUDk2xMdxj6pkFVckIyJ/I40tEs1z8Amcc4crbGkmw6TLnwQ2hyCEXPCDhuq2tmffR/fzwz0P/i4+cYQLt41QOsR3isCI8F+d8+06yRAvO4cvWssf1vb+i+3wlE+oRoQc2+II/UHcXrwhHwOJAtqxynFuuZjY8NxcZbGrOWqeO4bkgW+sxdXrkMjDJ56Y2NA13I59EbM8pozQwpoCLaTYS5bvU8QlrEcqYGiW9C4OPmoG2/cDfbfSzYX0eyXpaRpw7ich5QAjP7ut8fZDtr9TYJjYzTx4L0wb/TCJrMoy2+RW5YVrTFJaOeDDxt2bL4aHSI1mvLXD4Dfh24yKSIsPLCyqce+dxh+GPG9jYiZsu2s+qy9cuE7SVifQk4/1Zc/yeNYI4BwzcbRxtLm88DjwMKQuZxq1aZJyczQCYRhQ5oIDd93rKjjB26K5m8miK/pxjQvS8cVZ56smMypKzVDEDUr0U7pgL1ALC/DkgzNwisF+T3yxEvTINHUwqBLLVp29czxj8Y6VCGjrrEWn2Ek00f6gu0jWvZUZzQ/8FxlxpBgo1JQ7YOXAOTijyqA4ORa2RGZukTwkg5QbyurgdNN3PmbhlRbEriNVb7jjvnvSDeGOBczyMUxZQOuYcAK+Pkhg/LhvJ2Qk1npPeZG7uH6utGRhx9sMoqmDA+GgDb/8sndDkjvN8Qqzk2U+J1nQKB8nnytoXy6QXxPnsbTg282Yf73BzqqXf931O8TAhA3lv/68/c4jQatZL3IDNEqc28oeDZkl2X4+PSnMkA5kLgdxwNa3ExMImUDPjJCGIMhUwhClYWO2EmiqDFOkaaNTbTQWrxA1BDbKyjmJJSnhgRByG9sVH6HED7eVWBeSQOQagyIX2Euu8Ixxw1xbbEyIVZrt9agb1rAFVslBhHxdTU2qQSAnEa8W6Hqi87hi6qP4AwX+wFPjYL9a3Vo3s8D3AzzVZvHesxkC2xY1TXtf1OIYtQL6fWqLFuz8fv6ALW82gke2Cw3S2tz37M5rPvAbCNgrSkMTZ2WK9rI1aAjBaNPMYezwuP9+3eRpqHBhbVrznDK83isjoL6+arPxkYqlXTkTW0JpZDzEp4e22fBfDRtrPT2ghJp3kw5Oh6c4ZQx0/Zl3JN59x6e41tlFPXczv9+Ob2e+AGK+j9yHMgABrxXHmnirvjNQLbAFq7DeUZwUa/ZOE9L9DGwa47PMpEjLEHgLrtHJUfzbPWnOPf3198/BQDGPbMMZCoyI1CdaW6pz+ubdQzb2T9smmEAJRpMCFrJLW/HW5uuTh7AICL0Lp7DEx8bIg/7sZCgM//WJ0JYqfvRocxgDr11OqV4v26CAH7J7JxcV5pohg7qzNLQArofjzYu2sAokZmosWPGXXssP9ywf7lTDA3sts33ldqwCyQV2HLZezIOq078mW0cN/kBoXwMIPKpUfpo5kbCJIYP9ME/WXqHMjWPjEwGCATagwcQmAm3V6Aano4AzL7hRpKspi7x63kc+dVdXEtyJce/ceK7gd7fEtPdi3NGS//nxu214B95LHsv80+Rg4GfhXQzMo+Npzsr9b33BEI1Rgw/vcr2dPK1gwAWP5+xvZ58kq9YPq5dGc8jI7dk2QAQLyuBPi2CVDWoDIh84mMhFpUFOzMzuTiXbzbVwIVRffEZbfvbvAmCwYPN41UfDSxb3ddnTkUMF6/TnzvXfCYHeXmiRH0nDVje32zMCRKBPqEMO/ofr+6tKFOHcqpI0AHmqFjJNvGkfcIVTaGUgj8VsbDhFxp5ioV5dT7+eBRLbW2fMIlNw1fzmToLdRcP1OHnhq9jtOA7vcbwrxi/69f6S4OBJfVzCBy76LvUC4c6Ze3M40ffedyBUQTtD8tijQo6Zp2sf7Y/3QTiGeSyemnh0wctQLjoddXnaFiRMbRFx0J0qtGroeRaeg6d+yGLnFkVnIbB6XDeAwcpRGIZtcUev+pFkSxBRKpD42tcH0f0CJptJBr8jIvLchW2ii5cI/HR7l4QGMubXwZjhVhDsb6QwZeel7E6gEMHXWEWsyN2fO8vHnhYikw5uyrAQMBG7EkGu1qBAu01wuhjdHlYNXiLAbSQJcfC5lTqnUwK0NQ7FFvzKNnNxZzqx4iY3RcPO8wPredSLOmjYMxWq7/lFZWr23HWA077nq1kXy4nMnASsepUXOt3quNaWzg0tb2Y5SR2OAQgrnJTU/ddRxXWzyLt4iMA8LrS3PxGvNFBrs85fJ5haEdk7quPLeVlSf2T9IWma00aRnt/iD3ro7vMVPPTFr+UGySh0mTfa/73gCj3WPCNLXIHvs+9H2pPYQ5k3bO6RwaGPkSxqEBXN1H/Dy3nxsHZ9uD2F6gMbLaoBwcyn/l8VMAUILbIJr2cGOoZuMOOqGnHuXTma0e1wXdHzeyGRafkt8m6yQVZdvYwPBYvQ82LCvS9yuw7TSO7IWapRQJyKyLuEZqk+J9JvPRsalEI9586gnO3hmlUsceKriPy856NsCYIAYkiwkpQ0J5O/n7ipu1n4yWo+bgAKaPBLVRqoybeva7dhxdh1KQ30bUy4Tu252MljloyS4l7Oce+TLSRGGgbvzHvTGWxQK0A80QqsPrvz1Qusj8vftKl+p9ozP20QTOYd59DFnHnpl1WwFyxfY6uFs1zju1dBXIlx6X/1FQE9jBu+50QF+o12QsCbCfknXHFtSBUSz6Phl6DexfTjRgvM/WAbwjPbLX3Yn9A0BGMHBUq3H2frYmjb1Qm5nJYsZld51dPMThFAuHrqP6kMna1RhZA2fvrXaUCuQTnb/7m51fVg0H0z6lx8a6wQi6Z4eI9YuALqN7agC6j83eOziWtUq8+GCtYf50YkC4ZfJpE+VSgGDnlLSohecuX4NgLr/Y68ZoG6HVOoI7j3qJHw+E64MjWGV1mhFLZqa4Nqcxf2cm49xFunm1YNrIt1xGZiL+cmE7kOmMmNM5oJ5GD8DmAaZ7OVr9Y7g+eD/Zdr4/E9uXc6vyqtL0JLKBqJUZcIU9rs7AVAsxV5zEX3xU0w7xv/e2gIkBMOCmPw/j2IDHylgKBI5dxQr4QmWj4XA6NYB3OuHJTKGRcgj/6UbvoHE7sAW7sQIlt9+316oGljSGVQ5avc/P4+xjsO3RrazfzQfAd7+3XMK+A14vT4HUbm5JqWUW7jur1iyomq/ZIQyDR+cEsSsy1Uh3JmBwACQEw5nv9RDVg6En0NFIVbotG5Ujk8BAl1plWaktF9ABmoWii3FaGGLswEaayJO99rEfWa0dGtFaZaJrLoe+/azAtQCCsXX1wIKh65qRQs+zbQQhj9lH2wBcw/7k9D2YM9wNLlCtY/uYzc3eNUawlMYEHtg0ngS1gVCgsc6HvEa9zpGZdfZV57HemwLK7ZiwJzj4+Sljk7fdWBxStefy35/NbGRSAX9tjY7FvunPxJpDTOZ/lo+EcSTwFtO9mc4vRN+cufbVr6HkGllVwZXb/UlTzOslNCOO5A32PSMlbhp0jer5raHorz5+ij+s09DoeDsxqrKu7GZdI3VYqGQYeKEYk2C6vBoj4sZIijr0xsL06L5zVLn97Q39dzMLWHG9GICaAufpJkTv90KWJLEyq7zyhirAVfuE7o+buyllyKglAGNyXVR/vVGT98KCejKVFO3XFFmX9nJy/V3YbXHdSCHXpCiMjiyktHf5MLq07uB8SgRkh2y4uGxkYizrMC2swStTx3qzANSJbGWoFcku6tIT2HQfG3P39s7bQPJlYD3cGxmubi9WAVYJnHPrpBWbVvqE4Q/2s8ZC0McO5IR8ishDwOm3jO5jxf42eXMHANRgms9/+8RYFQAS84ZckIeEBDKBNRKMlc7G2jrHrEJOhgsAFslSEVa2kXT3Df2Vv7Ofe2+3KFNCGU9s9jCt3fY2ov9YDfQzKzEGVut19w3rLxO6Gw0X8f2BcnolIOoCsLCNpAY0U8djQ/48IZ97DP/xwTcdAlnf3Y7nXmh2MoaMetNsIJnRNzL/AHAzU5kG4DLyvClkF/PbYN3AFTgTmPff6JgrE0d33bc7QWOMDagCzFo0TWwMjPFBjIjfb6xXM2Db/fMD+68vwJpdboAIjnTvC8p5tJxNY3d03i/BjvVB32bX63Ezh8SO4ig35Z4BA4gU1HcEjF1EfH9wl3rUYaXEEfeyeQQS9DPDM0MQ7n9dH8P3ZgycytntXuaaMls4w2isU1c9duWp3g0cxSEmwJgZjZuU2VeVKRcDf98YrTrPFJjnjFoa0+G9vvb5PVRXY0DLugzBnu/gfOS4yk5XaY/0eauZJCz2xhk9ASAJ2u1cP8Zm4ONGHWHfc/Rnxo46WWNCLlzUBSoiMwyDmLd6kExsG9kP05JVac00Mj2fCDym0Z3lro+rFrAMNAAkBi8Yg5cLQjBBvY+FTXu2rM0UATAVQufeZl3TB+0pgMYAyll8BBfSHQJt7arVTUp13xH607PRxAwUAJ61ajEAyfR1G40fQexvqUBR7EhsOtHd3NOnE/977BFqbOBT7wcgiNZ71vegKkAxqz0DyRW3ovPRcx3tGDvLJ3Cnc2bn9wbTwYVphNNH+v5ud0gO4cAupfZzOu9lhJhnmjMABLCNo3VkJ39Ngv/SjmtKAGwzUjnOJ/tJ04VLFWJC/bginE+odrzc+YsMlHTYRHVNp1kzzV+6l+Tc3rOcwQA3GtNkzGFq71EMdCZWCp39jo+3/7rM5ecGyF17k3LY1tH0fCGgvE4EebO5Ai+2G99Lc/vtBWHfsP/6Yvohovfu250X5nlkn6oJ0jkmK8C+AVPf2DZjI2qMKH1E9/1hTlOyDGXogBQ8cDhZ1IezF+bqRBctx6547VU03Vu52A2lVoS1AYiwUyfY/XjQBW21YBrbpXXH9uWE4T8+uKgneLAoR1vJIkZ6slWlosTeRsQ94sYKt7Bl6sWs9guFxhAyTh2r0W4b0mNHmRLz6M7GgkWaLPKp985k1owNjL+xGrqiIGJ7RDMNJKvYUytF/yMjbgPi5wR1A7tJJQTUniPb8nZmTd/OgOS4cYxMN7Dy+oCAajvt7KHOAMw4o5E23CmHStbNAXWAV+IhgqBps9DnELC/je3/AWxfJ6Q5E8TlivhjRlgykjW0aKSS3lUxuLW2mYGuZGQ6iUMluNo/n9mvO3ae3yfNaJ5GlM8nfu7b0moAY/AYoDhvJqcI2P7+4tKAuNCsFEphtNDUe02g2nEU5lx7brpqH5mh+CBbsf1yQbptzo7iY2XafwTq50sbqdi1lOwaBoKzjSUFxJ3gVGM/GazotoOxJ5PJN2xkZddguM8ezRLvi7N2tWNGp0rqa+T1F28LK7BM46b8NfWJ12lgiG6wUZWaK4whCcce0r/6iMEWBi4A4RAB9cRIHLRIYrbqljny0c+qTkrjHBu7BrEZsTEH7pwsmXVT08iQ4Vx84QnJCu9Pp5YjloszcA5Aa20RHDZqC+cTFIbrrkgt9JZVGIaBerFp9L+rpSBYPI26VY+xMOrQretmgdVc+L3rVsACoGZuzwiw9odZppamcVSbiDMi0n7JdBQCmR45NRXFs/M89sDl9aAL1Pi4VoLUruO/lWcnQCPXqzYYFp0TZDwAGqjT+zrE9iiHUE5h/zkzrIRkjJEBcr/+iun0rL3F8wGlExPorGywCGI/o0bXxTYdpuHz1pJof8cNtDfDmI4yDEO7XnQ/qNX6akN7nwYGfUMkQC79pOsZD0Hk+pmD7i7ISSzDzDFPMR4YNR3L2Vi3dW3PCzRTyREICQ8YqK3XGzWzxjxzU3D4TvrU3MD2Z+4Qtms3pNjygHWOiPF3cBtxDIbW5iIoriYQ+IVhaAypu6yra4B5r0B7LgPdQbE4AJ3E+LnHT42ABb7q1CP+uNkoGB7jED9m7viVy2N6IjmF3EFsIcZh3nys46/huihYDRUbPnSSxfvqoc9kIJMDovjxYJ3UvBGY3haPjilTh/w6kQ15v3OBt9FpqLW5OTejZHMxMKvIDOuMtdw4Z72GjiD01PuNb/90okbP8tYEluK8ARXIZuZQE0e8UzOoUV7pI/ofDOXFbg7pJbvOsZzIevRWX5ZPHeJaHOx6J++QsL/2WD8PdObm6qA9T62DNs68QVRj48Se6vOoEWT+24DSB6DCmUO6P1ugMHJFPfU2cqcrmTEo/H7LqcN+TjSuJGUcVmyfJjqLAwFStey//XVEfhnpcL1YeHQAP4duslYRl6ybuaZAR+5K93JNwU0z8br691z7hP7bo7l87TypY2rH3sbo+TygvJBRTbeVWZG3pV0TgcexxsB6v0Agp40Bfyb4yD48uJiViYCq//cPniOPnd91ZbRMmXoypiG4Xrb2yZo0eIOMWiyStXDE6CCTkT7GMHQRYSEg15/Hx9a0RKYR5YtUmkYE2pQXOa+I95ltO28js/+27I0+Mr6EeeU4VnoiuS/PE8onG+HOVhPnjsBCjbECfEN4ZlxkEtE9w1pFwrKSEaqVo72feRwDcC3k1Ts8JfZ+WCit5YRxEYweFO2tHmYSae4/u2fUCmWJhWF4Gik/OSBtfBxsMa6PB52BGg2JmdTipONkI2FpqTyKo5RmGJFW7JgzFiN7V7uDm9OaFNzReWS57B8XsB8YNAYwG6A75untubVxFAIoD7M2lrWWQrZIGjkzB3hFnS3o4XRqzwMA79c2ZnNNW2iuUB0vCfP1kCPWWMFiUg8xig60VmZN1qPOVCBEVW4CmwJQag1xMNRG4B694tpNjgQd4Nn/k5GNralC36G9Ti2MbqHpiMABCmy2c7ouzC+s1oussb6y9WScqAK1ek2Fef8pLBpmJgLg7w2l2iamNtbPjp9vRp70frl9RgHGYH3B1vF91NG64apL3rwShsEZ39D37VwP0eUaYrWrmOZyyAKUszcwRsnZNY2gdZ4sjH1yaUapvB7tfORnyA1kB9t0Vb7vujbs42Pv4yj3sBl0XaDOIddMRtMf/3Wd808BwPjxYMZfrkxEt5gX/iU1eUF5NTZS276esP/ygnqZOAqubMCIM/U79Txh/3yi3urXV+9GBcgkIHHxK+ex6RNi9OBoeP5bQrG8sbDtzwaT++LNB+gi9r+/OWuU7puL8rdPE8HieWwRA4kghA0FNwrqTSdVxp7jsNRwuSJZGI5LdildFwS9fgC6WzbG0T6ngQDEgPWXFs6bp8RKuRiRP5lObOH7zdZRXPqI/n0hm1qKZw8WAyZhrxi+rwz5NQdu2IuNlTnCK+e+gdxaXXOHGJG+3VH7iO21x/B9R9ytK1jjgVqRL6NHngRbQINcxPNOpzHIpKbbhv5jQ+kiivXh1hg4Sr5z3IpavcO39rEFMV8XRrPcmJnITD++TukTtrcR+6cTw5vvNIZ032e6qo19rKeeJpOR9W3lzIw9aQz137Au3GPcCh2qzOPL5wH5MmL9PFrLymKjT9PcLbuP/gUMdfGn64p4ezgjHHYyBL4Zsbyr9LEgzhu6H4t3YIe9IM4r6nls3/FMQMrvm4xB+uPmjt4a6UguluGX7quzmzUExrQYgFfAczXdXz3GWwAWcD1ahmBs1+TQ2k7yydpqtp2L/iHfDBs1pfU0ktFbzbDzwUDneplQX048Ny0eJlim3FPm2HFEHNtOvbz8JAA8BrcamDyyD3VZOYLr+7bLB7jYDgc2pB98EZZQ3G/4OXslmxoujjo+18MB7vL1xVzPa4u8wpHF1tV55kgp2r3Peop1PYtl8cYSwMd+VYxirU1bJw2f1W55ILD+LbAopkvMlo1n6xEQiT0zXWGw4+UNCwbqAfCcOgLFnFuciRZzoC2cGqEDDjirgRLP/ssWPi2ZgMbdx9DlUjz5INwe7bww40xYN4SPW4vuEOgVk2UMpV8zAitq9Og7jioVbH0+PevhZKIQ8ydwcWDrARBQbARHLifQeWjfQdVx7ns/99yQUCsz+zQm7wjy/Rgeol6eQqw1ctc5q8++bi3MWSNUgV4x5qYxrBrd58zz1WrqNE4PtiHVeR8uF3sfJo+w9+aRSIfIFtcoHyKC/Fwp9QBayc5ro+MhzVbvFoahPXfXEXipOcSkFv7dLAvbOeLB+W0bI7+f6O/s+g/K/VOw9Lq18bI2gQKJJi8JQe/xr/OAP8cARorJZYV2Rg9gJ2GfzNFngay1ov/nnbEWe0G8snmjjmxl2P/rV+rtdhbYp9vCUc/QNVYAYHDtlSdXPQ3In89k9qYe8WYahEyGMdwUJcHQ5RojionsAXjvak0J3Y+Zi5WNs8f/47vrlxzcZYKCOnS+g8tvE3WMK40i+WxVQcYqhUqwk19Gj84ItXKsZ9ly5dQ7IwSxO6Vi+LE6E9N9WMuD2huGDmXs0f1g60j6mNHdNuwvg3fOhr24TjBshY7e7+wOrkN0fVrYmCuXrelifxkOlWQR+6sEqTxlujudl9s5oIyBAcoAqH9jfMr2acL2ywXBsvPSO40QCGjds4BFl2zUKoIav7hlpPvKMOiRjmcA6L7zYq99wvrLmU0y1oqBUtD9mI1pjMhjxP7aUzt3GVpfdZ8IpjaC1GRd1DLMxPuKeF+Rz70bT5S/l60zOZlpwxtqDOSO/2SGmL772h/GDEALkS6s1es+bGR8nhBuM5noLiJfBjOOBO+rrqfeWT6xq/G2NK1OH8kQTgODmat1VKfYdLePjW73iVpJ2PcQb7YpWsiyq7PZo2tstBwthmX7eqbcwVzo8Tp7B3d5Ofk5hVLQvc8+Mitnug/r0DWdlFgQLbLb7gAuPHgNSysVbg9zFnNcxPtL5CKwZ4bxHtiscF/+9Rvb8aGU/4MOrR4XQxtz1VpNcF4a4/eYUe92PkivJ2ZLZrd9N+YqtBv+wTEsoBcm0wB+fEDuRGe6AI7UYmzv10BguFycAWO+WWmsZlHDQGnA6Khx1HNvm7O2ajUJXcfQbbFJT20hsS30lhCh+3+YbSyvxo5sDKB3/MYGlopNXuLhz/T+jiPY2lpVjrpMAVJk06geAFy1BTYoB1HA5cjWAQQPu0bXjEZxoKgMPEUDWTAwUmqM9bpZJqCNSvfcHLge5ZHaOWuf09+Txqz67Bov77m13gg0H88FGTYOrTEyIaHSLOHaNmP2gkw7APV3hygZfh9kruqy8LWPusTjCFvfRUrNEazvT7Vn2hxIRmFgURupJ6mAomvUeKH4G1UhpnbuOXgE4DmHgGuDfXwc41NXsuQB3PjYOVrq8/UcbXRszuB6YEHF3IfzibKPl4uBTnPd6zm2lWPjo4lDsTbAwVhTGtsK8DpQw4o2Xscsxb/4+CkAGG6PtuvPxenwYDsAMWwUAXOXkV+NHVo3hslqnCtTxNRxNHrMFrQFP17viD/uZAL058liPuaNYPEwui0vNIDUaeTi+tjItNgjfczofjwQtuIBxXHe2dtaKxe4vaBOHVkWA6vpY0GYd2afnUcaHFKwmrNguYPFhe81wHRa1KjVkQJ3gdpgWYPDP24ts++FpeTq8C3nodHFMPbMxnP75xPyy4D985nmFxsLr7+cqd9b2E3rLmaL+WBjx4Bsocr7y0D2snKEmideiHHL1BN2Efvnk0ftsFUEKF0gqxdCq8qrrEhLt80ZrHzpLZeR8SulT2Td+khm077T/DIQFBmjla5k7NJsTKoxgsMfD/veDFzYWDjNO//+x4r0yB4hkyc6hfeXgeC5j9i+WMjzuvOzJTJg++cTx68bF8s6JmrxYkD3feYxqNXO1yYLqF1E+mYGIgOPad6RL+1GGufNg7ppgCquR60WkizHOE06lBHIFSuAuH+emgHLHjWRDa/nkeDnsHA+BUrH4JuEch4QPu7c5Aw9mKm5ssLRW24sxDsybFmxQ76b181w21lhlyn1iB88VvXExSfe2UwS7hzZ1GnkmHrP1v89Nu2VGcq8Q1xMVClIf1yNLTQnp/pPxTYJ5PzE7hiAtXJwZ86svtj0XDZu9XGwsSDSQTlYMN0SWZZHM27EYCO4u+u9UEtjYvqD6UQPdxryfag9I3Tmsu0Hjnt9YT+wIY+Z7+OwaIaztQYdxkiKVXE9YM5PY29/2FgakZlyx2iZdgCDA7B61GnV2qq/Mp3If459qYdzt+4HZ2g96M4EEo6gUXq4ag0t+lkA3kaiMO7SwJ27twGPH4Kx+2L3gtjmbW9Cf+klHzOPw7rxnNXiLbZT5pB1a4yqQsv1ueSytmPgjLpp0dhJvfnPVIVJGzgHAHx6cXDZWKv0vKYCraMZ8KaOOpvMQ8BPx9IMJyFGjzJ5csSbntQBawhNH6pxJWABzF1zhFdz6E7Tfz5/BLhLbmuf1r9o14edr27OMYZcrCJZ7Oz3BGc0tRELkc9f2WWNlJoze2gxOhqrA/DuXrFwjHhauQk0VtlJseN3W2rbaKnmL0UfxaPk1tvdD+39puh6RoZJ873XdUPd9hZc/hceP+cCtiLsauOy2kXEPz58V1YLLAYlQCGe6cMuyN6E8g8T15t70YWn84p6OaF8vnDBKvZ6pSC/nQgEcwVCaXofjRfkLut54Mq5R7ARVwSAAroyH7wpxxBcHO+gLUY6cc+Dvb7VhVlrhZ4sfCxI1mwRomnKDMQBjemqoSBeHwz4PR1CazWqGjuk3YCoa9A6pGWhYeXUo/QJ/cfiOrE6sEYudhF47DRI1MpGkKmjhu7KCyb3Ed1G3WAVO2MtD2Vib2w99wgbc+BqiohLZnD1j5kj50Dw0X0s2N94A0sz3IFbu4gyJmMygf6PB8rYYf0yortZF6/lAqICZWSETtp2B4bYC4L9fT53QGG+337uCZDPPR7/6yvGbwtQ1PJSfIwNGPjvk1fO5UsPrBzNh40sIds3ZDBJKJGMLUyHKL3mk3ZPQde1MnPvuqDbi0fDRDu+5Twhv0rAHIAtI5nWkKPgxEaSx0Z3obSAr3Tihmr5hY8d+WVkN/DDWLtCnZ6aUxTHUu2zpdvq+lMHgXYDd3f8B8+pfBmAPiF+uzKixYw3dNdyt+tmqQK/GZaX8UkbWM4DgsXW+E39+vDPFWoFNrb/1MvJ43PCujc9cKlsFtozm3zmBdhh9V3cbEW7b3BEaXowY21U5+gLsrGi4SebQDjiyc8LBoDQG+DSmOiQrRcAA0YFIVKHFYaeWivTVnmg9NA1xgpoY+QuNtbQdFJVo919tVGRAcNtRY0t/iRM05NBDznT8Vuqj55cZxei68s8161U3ig10rLnCF3XXKWKjTH2rRarvTMXc4jRf98NI9p8J7ZtPAn5YyAIrA18yPmpsXi93tuCOvQ+wvUxJggEgyJptPYIgB2lAtE0mkfXplhDMaEpIuxMXxCD6czoJqd18fcTdgNsfU9GXyyStXswvLna2kcGPDy4HlbFoiRmQAZtdg6jZNebGaAKU9fcvgqhruzWPkahuK7OfleAiedxz+9ipMwpHMCeM9WAjV/HBpQNCMLy73z8LWZP2jwBZY18dc6cpqeNWhUItxFtCKZ7A4AaWwSN3k8pvC5hGxAZgvwaaW0iimzxsPHrtb13u37rzhQD5WiG04nOXQNtDGbfDdTacdx2bsgs6uXIyCu8PWjjapKEen/gGH3E9d+iXOLgz42s994MPGJ5Q0p0iIfAY/ITXcA/xwAaHekuW4BfxmlEPY2+CNbR9EAm0C4vHMGm3z8QZjNmWPyDj8ouLISPD6tfM2aqTAP/zDQRBGU98teLjcu2VvtWqmkAbWwW4BesDBJKOE+/X60XmOM8RNCVa3lx+cvZNVcK6g2Z7ES8E9iECjI4ITjIlIYxrrs7hMMhrFcAMWRm47G+DMy+M1BXTxw/p+vqej8U+yxdxPY6OIOKGD2qpbu1BX34wfe4fT1z9FxMWxaY94YIdBawHLaM/o87tS+lEjjZYtJ/p14m3TaUPmI/gYYTYzzTnUAvbMwBzNaDXPvoO8MyJJQxtee6Ls605deRI+H7ahV2jLxJC8F3PvdIK/WKZexYh3YAlmXqGEdj30npE40oysmrwPblRMnB68DxZKF+jcHbYPfyugMB6H7MbZRvEoAqvZOBorjwZ2Eayjrxwi5TagHTW27nuDYHG+MY8ht1r2Iaw32xhhxmR8YrzVTpZjmP5vxVjJB3XAO2ebLRtIv66aoNjw3pnbVvZegIFs896suJjl5tbgK1kbxm+DkV5cRzn2OTchlRp5Hj9B/3wyg6ob6cmJW5m/u3i6gjmcZwp0HE+2EBj4+q04B4vQM/qCUu5wkYB6QfN2cEyRwesuaKgUtbVOu+t0q4nxiPAOCipEW4WgSLuWD5Bm1UrgUcaPqr4TC+c2bKFiw5An1xsYL7fGAaxM48Ho1tEqup0fO6kZERcNHrW4Cz67AODzGVfI8Ul0tfRWamtFBpgNl8CqC2qi0ZXp7CkgGE8+Tj2LqsT8wJAJfNPI01K/WHYeibo/kIMDVeU/MKALVxaMGu0r91bEfBnpujs1Y6hVXd5vlxoR3Xvnset+bs4KwMXcsLHMydrRHt4XPU0hzaft5EjQy7xgDvmey1xup27iiA2I+XNZwcARtqbUDLR8c2YhfoO47IgWeGEbB6w8HNFt6scdwsmSP6KYBZmxEfk9vPOzhO/DtrrxFz6TmMOl4hNGey2Fw7p2o9jDhz8WNa56X9jjnnNaINh3ufV61580pu16zOh/FPmyVz4boBRkHSoZlejtWNfh0PfRtjx0BAWkgiYN/NRJIboO06yjDEms9z+6whEowC/EznUzOKAPw7i6N6+l4PPeN/5fFzMTDV+mVDaJo874Ikm1UGtQRwsS8vk5smapdoItkLYsgOAsJjAQwAqlNXdH9cLBrFTlbp6tJttaq0ZBEzxuiEttimjweZjvuC7e+v/PC1crdtAKbGyHaQvSCExggqXLqGAAwdgrVClE8vjOe4r8hn6uYigHhlbiFZiDbiyy99C0G+wzMCEYK5zQLSt4OOyYBh3MkgIgT0v5k2r2PHZMyHYOU1syrN6tDyubU6uDGgVpRIByhGcJQc2nsIe7Hxo0WtrDtirlxrp56j6U31aAF5iujuwc0ftY+Ic0b3PnNjEEbmJubK56+Vrl/l2dkNpYx2sXWBY9DbgmBGhO1twLDSNJPmTHC1V+QT32/3xw371wsXRgNsGl+XkLwCLm4Zeeipmbwt2L4wJ7D0EfVtYs5fR11hum9cSC/Mgdy/nKkTtUpBMamhECjlMaF0k4/G021rVWYpmaOdlYCKo+F5YOOXkYaq7e+vdJhLA3ummaX/xwc3HrvpoqzOrvTJ+ptt7JmoGS1jz5u4Objr2AMWs6SfTT/mdr3eV2x/f0F6D2TmR56r6WNu1YchkPmeF8TOOoY328BcJmr2tgyEwio36WC2jHKZEI2ZpAaQLCCGHuHjjvp24fPJMdpRWoGUUN7OBMaWNRrf75BWVuc3uoQKOBgMt0dbOP/iw4Xe2w4kjZvsZt0PHCdKt3uI0Hjq3y0ZiH1j/bIxffMMVcgp0Bcls1IO4CKTgo17/pTJt27tXqtAXcBaOwzcGRsFY1NchyamKxjbM/QIj7mNnF4u1HjpMTBsuhqQCr5g7m4g8MdhJBmGnp9R8TECDRoPHgEt4OySmD+ZGcLp1ADPUsmi6LNLv3bsz7XYnifgmWxjrzq0x8OZ2rpuPj3xhhKB6YFMfXgsvhHwPEPFk5TqdWcCSn7uGRANYr/MvRyGM0d/YswEanTft88i4CD5g3dlAw7Y6mMmCytzUD4AgoMrvK4bNXnSHtpx9eO575QEGCnizlTbIOjc5jHonr674zFUrt9T84uAewgENl3H43/87lWBKDb2sFGRQURmJ41DFcxMFn5q0o+uc/OJbw50Les68Wsstd9DIqMudrwW/pnYaL9+YnvfHldjBo6jEawW1PvqbKZvYJRnaDpGvzfY/9dlJdNXi4+6lSKAoW9B82JO/+Lj5wCgvjzdmOwCK0PH7tglu4C8nCfb8QCI1QKSD0GwuokOncVBBNLo6gY+D4AiLZbNR0VlSGzNCMEX5v3twhwzAOGxIm47b2DnydoQovevpvcZZewRlt2rsuKDurIaA//ORovJWhBKHxETMwbrqUcJHFV13x5k4oaO5odc0f14YP/CculortD+Sq3icbQWbwtCn7D+ekZ4m5yhLKcTA4THjm5lAGqeyGNCHs8tcDgE7K8D/9/YK4CMV/+NO8/STxz7HfWZFkwbv98Qzb1ZTp13BsPYL+a5FWyfJka1vCbErboT2IOkzVFcrMKt//3uEoA478DOhV/jzc3aW2gEWanle7OawAJgjBi+EXzEJVuThFX7GSjdv14sdy/Y+JqNLKVjJuT+6WTdvtTC7S/sGpZBp//jjv3LCfnSo/v24M+8Dgj57EydgF6cTRqQK5/nnTmKZUhIj1ar5+HVPk4O7qhWbI5GwRydMABdbGp+GVHfJnTfabCopwHxP/5A+bevZBVNk9d9n73lhi0uAaFSi0ftH/g92g5cuj4K0hPd/D1jKNJ1RbyzfzusO2USOSMsZBLLZWQF4zh45zb2tYVCH9iHep5a7MUxX8v6g+P3K+p5IlM5MYMsaFwXVOk28TPcZoI/q5iTzCNsHLnH6x3h27sxF9QUVmtd+JlHnU3LlZLf4MM0eUZfSL07YuViBcAF+fForkGBLi2O0gQhNzDVdfhzVmA10IAY2hjXNEFyH9Ztc5OIFk0HoPa7kIjeQJWiXDxyRI9C40mQnEYGkBQBYQAzGfB1MoLl+SlTEOqQLX8a53aJeiXLQfMxo9ya0nFJq1ZrAwBmfKDzd2qmAOn4DICHLj0zsSEyL3GeDYTRtBKk8dL3pp+33EOgTaPc6X4Ir3YZ0+3RemyludQi71o+Wyf7voHO253sr2XseaeuO3YXlwOE3tbXeeHvu+GFmjvJJILVr9FV3IwXDr7tfA7H9do0b8qk5DlQ2vgy8LXC5dyuYWMl/Xds8+GjTjDKJqQID5cW2IexyDL/zAtBTIgEp3tuQFhgTYyq4mQOOkYdJz9HYmybJaDJDE4ngr7Fch81ktVxtE1JXdaW7af3fZRnOIuJFvmyma5WG9EU4cNVjW43C14PwWUY6Dq+H4uGcgAs8O1O68zf8USVdvw9K/MvPn5qBFxeWJ/DxYKgjDlh2cadu0WBWPafxU94uHKKiNfZqGtwV3J90EiSGXNBZqhv7R82OuKolM7NYOwj8/E2ujutQQMpopwn1Ncz8pdzu7FsmXo9jZzf2AyiCrq4svKt/+NOJnMkkxKWzeraogVCk/6tNmYDQDC1ZtTBFsx5s9/NjBIx8Bu2jGxaOkXfxCVTj9dTJ8YduzF4y+4u0f11ZP2YVZCFdUe8zoizsagbb8Q1BHTvM7YvJ1Z0dQS/VZo3AHlkxh4c/PXsDO5tpGy5e+w77thUMmcMP3akmSNg7IVj4x8PN0Uws85YhmS1azm7flEjeda+GWvZReyfRxpOvpywf+HIqZg8QFmB0TYPIVfX6IVcsL1YzV6fWhZfFwk8E0Ep9uLu27hm6xqmsSHZOcG8x8Ygl6lzZypDnqm10fvuriuGP+w8XLM3mzCuhTcMsYXpx0yGzc6hahuffKHeMuzcPKX3xbILE7Msu4jy9y8cdRurpxaQ/fOJmjo5zHUTtX/XxFG4wFdYdmoEJb+YetMxmXte+ZcG6ELObfRdaeqK8+5av3IeCfzPLS5EG4Ywr7ZwgjKQPSP+uBE07pmvt1qot36/7xj8bEHR4ePG83rdEN/vHC1LPzgvBIZvLz4G9s/+f2ZM+FcfYmEOjsXQWZirAbkwTU2Xl3Mb3xx1QebGdSPGaWpjplpb8LNiIgpNCWGyuriYXIfI2rTBR1D1TqaNRo+tLRK2AfER8UG3B6Dl4ykWpO9ZDWfHVllp7q5VPZx0XkBjosyZHFK0CJrFR3J1N1AwTab/2n2MWC2SpWWwBbgbWNVts8T8BMQhmIFGG46BI2SNSMVOuot6bOelZxQezm8xjuGYG6loK5P8SEfHphX7ro2tDepkPeRUaiwcIvur2znB988sRQKaMAyt1zXGFoWjY30cN9u5xPo62xAcW2rqn4wxx9gY05IC8CxKdwyn5A53f30YW7bn9vwyOgkIC/AqMBp4Zl/1PvR9Px7NBHI41jIz1FJo6sq5seoAdXXr2gCex6cQyCmH7wjsfOyrn5UrvDzrDp25tNd9GiNrHC1QDPj57258e253+4b4vBGwDXbo+9YRrJG6mb9QsptxWgagvYdlObzf2M63GBob+RcePwUAUWA7eAvhLbzZh5wRbq2CiQtcb2MmK4xfyaLIaRWvMwFj5kWvnwFAxk8u34kHrJr5pIbgNVZOm5uWT7Vj6CL2TyfGezw2BiwfFnZEIN4W7G8TQ38tCkYjzPgxE2iuu+Xk0YGpKA43jnQR25dTSwsHvJ9WXcIa/dXTQAfzmjk6Lcx5S0tGXDa+V4tPKS8DWaeBzFw+0eBQRjapKNoEMfpz1D6yzquLyJaRGJfdI3jCVnzxB0CX7AtDlsPCUSsZK34/ZTLHYx8NSCVsrx26uWI/J7qJX0cUC68OYjiMmd3fpgb8LGpF4dn7mUHR0sbVGBhqbe9ZYdQAGLr9Qd1l0I5yy17R192sJm6j05h1f9Ud0Cgg0/cy0pW8bOaa7mjyMPC4/Xq2EPH9sGnZ7RzlKE2Bzqp30+cuY9e+ZwOT3Y/ZcgrtvWR+R9vbgPxGZqb/425j3Z6hyhYhFJeNrTrSWd6MIU/Jcy75Z3T6BXVs2wJXzoON3TdGJu0F5e3Urhntqo2dq+fJdE9DC+/NB2A4Dg5I61nnFkdA8f0OxXcgBYY4x8AaOYvbKeepxWQYSKwG+OK7yR/k+pSh7IUMRLWbcrmc2kgumxEshiaEfyxtU/ozD9djtSow15zVCixLW8hlOBBQ7jkCcuF9MW2dYlwAxkYcWQ3PAzPN0PnUxnNeJRYYL3MEYSWTDeupE1Kvrj80sgPa2FYLVCETJGAUBrpdvePX9HjOrikOxPSF9XZ3B6b3HMfIzzb0VkE2tTovsY42ngtD3zRz+nst3NbyEYa+jWftGEu/iG0jABZrI2Ah0C6nOgC1yjx9/sN4EstqGkIDrLlVUHq8zuvFtYwOWA1E+nvoqCkUkApq2tBmQu/Bjj1KaR3EfefAO+i5Bdo0gtTxqrW9ZzNbOOsqYGwB2WrukEnCQcZu3cymlyPrHTlaLflpnFuPx0rvyYCuZwUKaAH/+Tuxh6r4/tNDn9nqDP07FpMmEFmr61Hr4TN7xiVgm7LGdkpTikSDlYO5A4Cq8wxpc+u6NlmCjdZ9dDwcAtFT4n0g8ZzXdR8uF17/40gg13c03BjzV+UEXpZnsCgXsM5NfV57rSfQeWBD/8rj50wgJrZNf1ztDxgRURPdfGGjGDkaKISNd+J9RR1NU9QlRqm8nlAu/AcgiEPPWA/XMJkesEzUDwFw/RwifOFRdl8wsXvtEzPK9uLidzEH8c7GEhj4DFt2nRUXoIhiFXYaBSMEd5gGW4RUcD/88+ZtJPGxu8YqfczU8llziRoVyshuXwbpHpoX1o0LaIpe8ZXuG+Jjx/CNjB8A7K+jV4UJzJa+OVm3zxO69xndtwf1e+Zkhh1TOWfVkwyAuYxiBTPNM9Kypfvu8Sb7KSLuFf375qB3fx2duZRxoPvj5lVyMGZ2+/UMRFaJdXcaavILQc/w+4Pa0VoRKmh6SYHOZvtn/3ImmBiSta8QOJWRzOn+mWBeJglF2NC9u6L7dkf/x8NZRZlfAAAaZRegvPBCzObczl8YtYNgodmWB7m/DMxOXHJjJxfLVnwbUc4Dts+T1+yVM4O70yOzN3ghI5gvA5nI96XF55jLeH8ZqOsDGKht7KGYdQAWt5F8LBYsdkXnbRl502Agc7t57C+DXVfmDiyFGy7JBE4DQ5lDALYd+fO5ZSR2ySu3+OFMn2PXsIwwZWK0T/z2zgXGrmevutKClksDcneOfkOhyDwYwxKWlWDnkAEoQFiHvpXW/+QNkk9Y205933lzNucg+oGLxkHb47oi5ZTZn1drEtHi46NKLSrSa+37U/Czvw25aTXOO5pNtOgKgAIEnDYe1CJSd2r5VCnHeJoDI2JaOh+NybBir390jzrAUiitsvz0EFAJkYudxqcpMT1C2rgjKDuMzGtp+iiCOBsJ3u/N8GBjOWdEDNzSzRra8wlAmubYzTH6O9Mk8hh3BML6LIogEXh7zPzH2EYCueLsncflyJhxNETouzEDBs+tA9NkGYktx4/guObCzuNp5Hdjx57VYcE1hmLWWjzMwWSxE4TKlR6GgWPXrnP3rwcb6/0I8GssfD418CzHvV5H14ry9QCofs5ja8ScGcjWe/cgZJ2nZmLic5ChlpsXIVL/th9Gs9vWNhhi4W2DJjdwOIxfnwKgdT7ba8k0wvPXzFpmphMAVXagdyTrOn7M7f/vD7SYGQOmGuuaDKKua3t+C9D3n9d5EmIDmtG+a0Uq6T70Fx8/xwAmA2+XU8vMAaxKzZxT0U5+OaKkESnsMKyBWWhh3X2EWkMgEwACK7FbAJyF00gp3Bfqg7bMsZbpcGoXvYs4/f7BBWXPiB93spPBRp4DD2YdB6R325lGskXhzsaOcuoIhIy9CvPu4bzIdPJuNqqsKaAGYP9ytvcNbyFRNEV5IwNVT4OzOen3D2rZ3uiQzr+8WIBysMxA6s3ivHJ8mBihEirYkAK0aJhSmTU3W/RKnzhKrdW1eD762IuPMVFohmDn8O6gVhEtZexaNuCckdaC+98Z/ZJuG93Z9nx16JBPxlAaAxkWi1TIHFHXAJozYiDj6MydNXrs1XuPw7pb2PVikStkPoP1D5eBdXLdx4K47gRVmaPXfB5oovG6uuzHDAABuI3dy9TR1HNbrU93BWJkIPWpQ/pYmjGp0OiURzK5yUb8ABgLZNcD42bYgpIUlRKjN5TIwJPfRm5O9uYczlOH9IO5lCGbc9vc8YxP4aIabwvd+G+sH/OQ7WlE/HZ1gNX/48MbX5xp6zt07zPH9pcR5WJM8M5rAInh5TAWEX1njLUFuQdz/g+dTwLyq2UUrpszKHE2FuxMIKnGk6qmHbtvBBuxST5Qh94MY4NvMqkTbs7COi9WmWWbxY4g42cE0n6dAG0xl0YvHoCW5QSGELiblyO27znyVLit9DuKNZlt1GoLoBg+ZxTFvr1fjXEsOIbPolYe39u9gRUAcub6z1bTS2q0aMDOa7LscRz7OYgX02Ofq8rxqJ87BGHDmCO9Ny3g+lzeTLJuNC4IeAHumjyOK12zaAu437NMGydg5h2/YvqO8odgpgNNoTTGNAalzsbC6L2qwcV+v3apXSsCV6pI6xJ/T4yvERy+oNt7hY3T/TNUA9sAPK5HIEmjy/lQidr3TTeaye7yuzCwqg5jwMOcxarWdXVtHF+v80gTH62bCcXBWKL202vTKiUEYRrtfLs1HaKPrA9mimX1z+7AHGhj2ONmSWBfGx6do/HQI2wMqLqnn5p0TOahsa+DQbHfApaSM+h6FYu/6rraXcvnlW/j2LI5182ZQm2q6ro2IGlNPg7iBdKPn0PniWsWQ9u82abRR8D7ATPpvFCmoV2fes/HEPB/9fFzDOC6mbsVBDafLhzHbjtNGqe+XRjqBlTY7Lph//WVAbt368k1diOsm4NHLdTV2AYP5k28MPOXC0fGLxNBZ2/jY+u5DTmjTgPyr29caMzy767eoXOnMiJZG+zFR0henWVRLNLjaeGtLyfEHzdGn2TGziRjgRSdUofOokGYD7j8MiE+NH6g+7JONLDIrSona7KOXJld6tgzKsXASZy39i2GQDYTaIuuWle27EDDKXEBHmeywgFY0WwRd2OSjHFk0HMEAhAy/4lrG5OEXDnyfRkQZwNVCpmO8PiSmhhxkhVKfWsxJzDmbz8lgqvFdoraMddqGwaNUys6i3hBIBsW76trG6Pc5RYQXaaeFXDGLiuwXJ3TOjc8H82YsrixNQXgaF8/273PiI/dDCcmGzAjTLwtzlTKYY1aqddcuNjFrfhzITAEvNj5EvfCawbwnD6EQKlBSv49+iZJC9+2N51SSu5IR4qUYajJJgZnNLEzoijeFvT/7Q9+p9F6fGVw2M1NfbPmjSV7A1C40k0Yth3dP9957E6Dj4n13us4eLMHSkF4rIx9MnNXPY1uAONomK8d5pWxMAY4YcAQ08jw251jULGEeMysrvuZR0xtcZKmzrRoLtrXQqeb+7q12A+NyRb1mUavefLFTKycNsBaqCTyHy0fzEbDzgDpYbq1uqwtpDcXSFeEkSO8uq7m0JwawxaiR7DUZbFFxYwYMbX3Mo4uWFeAMFmj1PqFw8EJfdBmOfjYdwJly5vTWFxMrdzFPtqWXlHMztEMoNxAE/2jFOA0OXCqFj6NZCzNxqpRD0R29tICvuVUrdW7natrEA+jymymF10LAob84nh8zEBTBWpllhDrl+14KedPQEpAWhE7f66Qs9f3thA1sVxvPk6Vq1i5eG6U0WdVLqDSF0zv5vcKoK3ZYtGk1wRohrlc+HfL0tjGP4143S1/2GR4JMrp1KKO7neek+PQ9K8A1CPsodcKfc7FpBHnp7GvnL7H1w/BwFdpMUF+DQOH8HU7/sYsAnjWzmpEvFgft0bL+j6Ag0QkurFHLLCz8DpO29p+v1obz1FLCvxpc3m4rqT5BOBROD+xyf0pAFhPI+L7gzdwZYiVQrFml7xxwPOBKt182DgaimtmXMUrg0vVb8ocnezArCZj5GbS2uHBsTKkfVJkSGYURjD9Vfx2bW/W8vtq36FMtih00XRQeN4lAc5gVgsUxl5ai4j0XsuGfOqRf3n1iJX4486FbMlI7zMX770QfFgUzvQfd5RTx3FaksbDFtYHna/5xKqueLee2zvjWPaXgW0VY4ftq43hYnQQjq5lziGRXa0GhPKU2DBi+sEy2Gj8saL7fkcZItKPmaNmY6rSx4JkruVQCLRKIihePkXEDdhemcdHJ++C0kek+4Z86lo/b2VHcDlbvlwX/DlDrtjfJs9NLCPbQYbfZ7pqLZ6nWEsGv6DqY1mCMQNitwXpjxvNN3tBsloz9d8i0Cmdp84ZXzlk60gdIsGRjSbNaavgbDZi2IJVm6mC0Tdiq/l82xdzuNrimG6bXydkcI3tNPY7LrsD0nTjzT8+uMmioYKfI386oftY/NyR0aqcem4mUkB5YQ+2XLN+LR6ufI28xba7GWvPKC/n1oZQK39+5caO2tfSNjjjwMW1t6rFTxeUTxd/qXBnnE059ezhvj3awm/BuEEu/ZeJOmL1s4LAOPz4MJmGmUYW/ky4K1Hf2IczO8kVw/HU3/oXH2HoPXbEx71mXhBbV9etifxNP+fgT6yTjr9lydXtEOOgEVoMbacfDWTsO8FcbaO05uQ0h6exDWKPwkEv5xlk1jerjt+g0Zq9ho/iOjU1FP88oe+b5mpmfEktxVocRmfGgjVcSBMIoLFbMbUmDRun12XxcSUrv6w28Dj+s7G2wGgYB5o1YrCRtYGX+8NHfOE88TmlS9P9fVm5cRkHMmt93xhE09u5S/pkLLaWBY2va31ilx1ciHEzkBa0MVBvsp8H9l7EDMo57IyQsWnSBqo9RDl1YtksZDl07BP2OsCDgcENRzY2VIVZGBgR1b6j6uuHP8TGaby/rLxOJT24MDJGbl+XHKQmU8BhU8Ocx+lZu9p1UGxP6841F3m0lg1zWCub0q9BnXMCeiE6QATgOZTtQrbA9m1ro1O1cxyAVaumNKBtmkEPohbzePzZfvBA8irDTIo4Rkb56x0ZY2lvlTUaD3830jh0dOrXyhik+nj49eCbtL/w+DkA2CcKxQc6AuPHzJFRLm18ZAe3nHrkz9R9+Rj4yt7P9McVHoMx9g0gzmTVQoX/GQA3UNTTwBtknxwYBGPEvBUg0onr4+U+tQq2+wJEeIh17WKrlzJgFWysWfvIUXci5ayol7jurZ81BeRfXy2At4lPmWVGtF4H2z2boD9smWHJA40n5dR7AHANrVat9gn7pxO668q4lOvKirbH3sam98XF81HGFItiqTFg+GNGGRPKuWfGHWAj5w7506ll8wEo0+DjaLKkCekbwe3wx4Nj4R3olor+tnt2oBoq4p1AKSzbwZADjqwTo3QYkE1g1f14IL3PrUHDHsFumLXnjqxMHfJlRL6M1BVKxxaC6QMH5K8EH+y23cx53DSJac5e8cdYooh86h2g65wIVsEXH+xqRoS3bMjZrV1uXHaOZ1MgYO4i0sMMJMvWdIEG1hTFQsf1jvw2MUdy3tsCUXS+VgLoU295l8D29eT5ksXOqRrpJi5j5808iHCzkq6R/OnEca+xguXl3G5GklfIMR3BDL6Z+Zvr/+2Lj8Rqb0B5YpcxcwyzAz5eS6xirKY/DTJyiAW0m1+wxSXkinI5cQOjkvidwK6eOV2oJwMZ0nXtu2txYWkDLpyPP3WLg0cwAFxATicWwU8TwZMYEjsHFZshrY6PUNWIoIywaWyj4XGk2F5gLUSyLDE5y6LxH6qJ+LMZbXqyff8p8FlZZWIvdCy6zppCuiaKBxoQyBYjIi1hqRYvYmzc5dTG2tJDGYOJYg5PjSkPAcTsSWUGnXe7ekSMHV9pJsWeGaCW4cZZRrlS7ZgHc8E666nzQCDUAGVVdZ00YsdOZ9WHHRlHMxeFhYCrPh6NkfOw4vw07pV+0KdeAmSqF7Pj7gHPZiZxQGGmSNeaaYQM8LW1aTiaLGSWUB2ggXNnlO1YYF6a6SaEFpOkKZuNRB3AqInG3iNd6odGjVJ9g+Ku8nHwDe+TyUNgV6N1q5w7OnkdSALN6StDkuf2hfYdhvBkjKAz/6DdVMc18ASKqWvMzq4hHthn+39FCDm4EmhLAsVkv+Vc9wmAridVSOr1qrGc0hFqktX3LUewHs5fu554TvzJCKPvTOaQn4iB+evDY+DgtjXNUrVKpnnhTn7LdCAujH1RhyxAEJdfJ6SPGcEW3rCyq7emaEyIHaSHjYaigcBcCWJMGxXfHyivE6J1idax5zTwQTCYpw69zBWRTFT6WICp9zGYRnsohc0iBjDCXpDHniDUGEO1JITMRbl7nx2ouVHEGBnUinwe+HogmxE/HqwDe2NwclyzA5+k45SC/x5Zj519xGPvJo34oLM4dzRoYCJA8JNwtdGpN2FwZFxTatq6XDhS7mIL1N0L4rLyPZx6M3/QiVqM4QpbxvTHjscvHfYpARgJRi2WJb+NPGYAx+EWyl0NnMYz8+riSoC4v53Q/f5gNE8E0p2j5DwmdNbU0f1xA7rEkOoKrwLUI16ZX7dPHfMCdwIgsbMIFhJ96lsw9L4Dy4a0F4sQ2lEvE7p5JqC/jEi3BfvLifmA1mlap85H5QAYv2LMcL6wPjCA4D+sfJ905rIZJiyMMYkgIONnMc3gdbZsvM66oAmEU23XQ7S6wfTbe9O9pogwb4h9MrZy5Q3L9J01UXqRftgY+mZRLfNCQKbg9TTSda9FwHSC7oQ2JhB1R3kZqVUNByOHBNPrRtYgRpOAUI7BCKCAWEY/V+vATRCS5QQqO7CUBhq7hHBboRgHgV5fsKU3qnSrB+CZ9fwrj6NmaWCgMZaFYbUCf1qkjSmoOwiKDmNv9JY7BkABzGLieN+xGBgtQGtzxzZgUw0Urk9aQ5TcxPq2FrhA3vLg6p4Rkh1rOR3t83lzh43iAvaWa3eZUD+uzaByYwQOwV3nmXPOFJnmrt7veMpaEztVimvQqlifWnksNPr0sSePfbCRv5o5NF4PIbQGFo0RxbruuTFLQGP5FA1yOC+cEau1ZejF6JOoYIDLf2PdvK0kqDUCgFfNaePi56QtswZA3XBxnoDrvcWLrBuQigNqN8hUA4kW4RIuZ/7sOHD8u+cnECDg7JWAMoLouJp8yTdNAjk5E2xUahSDQqwTu27h5xLBkY/MtenRZgfw38PQ2+c2kPl+bZuQfefxs2PljRm6Hix5wKNcYuCG3dqpgAP7WqszeyFR71rlwtd3Jre560cLkHHYiHSox2iZo9724GYucvJKv+gbNFbIhWBSBb32UfMIvX9uzlwiINOYjqMdy2DMt/IU/Vw5n2gyOT7vX3j8HAC0zlB3Zw0dw11Po/05R6JaEIJ0SSATkn7MZBrezhzFSosQApCrC70D4D3AWFbEYrmC0rKduODW09j0c8a6hceKZAeonAcDRc+fobPWDmbFJa+DqzGiTmxvcEbPFvn9lU0Z3ffZA42RGegsJgQzCGbENkWOK4MYjBjQ3VZLZR/IoBn4q+aCpdFlw/pfPzeABiA+ds+Iu/+vE9JMQDptBfFjRh07lKknC1eLO6C9e9ZWirAXROzYpxFhKQSXU4fYc2ys3ECB2/xpJIOmrMUApKV4120NwXV93fcHln97Qf+xovZk1aLV+sU1twaSXNH/dsf++YT0Y2b/8MeMGIJ379YUUd5OqMYiijGO94Uu7cTdGUpB94NgW0HI/KAE1IxD2ZHPdmy2jPl/ecH4z7vlWhLAxcdOw9CZgCXNBNtYycZh3dkaMnVkDwWo94JYzKFrANpzCO0GXIYOoU8MVwYsHLv4mqy2HJc9pIgyDbbpMVe5Hbt6OTEns1bTC3auaaypt9Fxbj3XFgVBwwZvqPHG3X2VfKBPlGVkO/+W6Odi+nZjtZtp8NRLrIq8uGyo0ZiB88SfvQxt8dksSmfofZMY9OfzQjexASZFRGFd+TPrRiZiHHwEGh5tcYEFRQd7De8o/ZnHkd2zxYPhvBGkaKtr0uQidUAmzdFkGr3DqMbBX97IANiC4AYSaadsTAvA+m+t0aC0BYjB1DZ5OZ8aENs2dx4fTRvI/HeIvY/RUHmtKDA5dBbKvHdP42NUy7Zb1vbexBKJiVHQL8CNhTpfDbABaF2s+gxqH9Fo+WBIcaasS0CJjUWZS1sUJ00ODBymiJrR9IIa+6rvNmcbqdpEaLB79tijTgPCYyGI/eULr5NpQJjhukx0Cfi4tUBksTpi8yqji5SEoRF3MGARhgi8X1ubyjTy/aSIutXGrs6lfXdilM2VG+QWtr+rD3OdioksBfV2CJQ2gOqMqp03DsJsQ0MGt/dNi845nrerMVcEhTKk+Dmm60X5hTo3YKA8xabJk55Uv3cAdhyH903yMJn2V2P3Iyi0kfNTy8fRCHPsNbYQdY7Nec3UUJr0whhqr17LQFUjSKCsKoDnVTgEPh+ZS59CHBhBVr0ZgeWbSm7sQtdioQA4u+wueRl5FNOTi01PUtMB/sXHz42AY2iaHIs2qRYFEOrhy7R4FmkZwrJS57OQYavBQnPtpqIxZP76Yhdmazk4sgHZokDCzDFtmaxdpDA3jrVUO0FHsTDPQPBBof1B/1DgsS4az8b7Qvo/BWoXdy3gbHxI73TYpttKZ7DdAGoKrf/YAA4sPxAA8tvkIMgT5SMZuGrGmRrIcAUzAbRu4ObI3V8G7Jce47cdpQ/YXiLWv504vhaTbMcy1PZthy0/GRLyqcfyucdv/68zrv/bGdf/+wnx+iCgKRa1Yuxnd7MA6wt1eqHAGlNM29ZzXCvdYP9j5mi1kN0MO40UYnmrendrZXtLx07echmtOYXgJc67BTvb6Pp1ZLzK24kgxUaa0vHVns/PrMnkI5Z4Xa1reENcdmxfTkhLsREyv7O48LssX15cfxpvC9tNPp1bX+7UIcx01kY7B10buGyI14XmoL20nuktUy7x2EzjaXVvY3LQXwNBqDY3iARg3Xc2zQQ752sI2L+c+V0t1KkGueYr9YnxNref/cRN1P7p1JiRjUBNoyf1cTMIe21tPjpfYkT99GJZgLyO4weZ0bBuXu+4/dsbN1By/C5Wp2XMQngsiO+Pdl2a5ql+evHQVG94eLs0ZsWiYOoh88+BgtoaTMuFeXnWNP2Vx8GV6izf+dQWuuPNt5jAO+eW7SXHqjbKKT4zU5czAaM0YIHu3Gp6Kg/M1SKpXUJsUTKu35P+Touj/rxvAcs+Sur7Zgo5iuJDbJ/XXpNNBlsDbxo/aoQVLJR53WwR5SJLUDI7QwOA0SNiHI018XGYoi50TEtx80yQs1Sa1HkhoDgAcweJ0jxOowPUMI2olxPyL6/MoewNICkm6THDs/cMiIbzucUOyflpzSjBjC9P0SMCujYWDte7j5nVUqJxsEcCvb7wvH/Mz6Pto2NUx0nGHWkFTR7j37XG7ACk2wvTZAxVaWDzEK1zbNEI53PTpAEH1pEgSk50f21je1tFYfRr0YFptVrEcTQtXefnYZDxxI6rjk9z6wYf7dZ5bm0ux1GpScyeOpgjz6E6z/z9YWjX5ZFl1uvoWpbMwDI4lWKAzbqj7fkdDNtY3F9b/wgQ61o9jpbnxWQl5k4v1dpxbAMoSUEt/lmfwsmPj1IIiH/CBPJzDGAhS1bezmQS/vjgF/7phUyb6dEo8LYTYuhRppG7rVKpAbQbeTWNX1ipmZFGyJmCx9JuTrvFsNjCRXbLbqIWPRJ/7HQmW+2aBPUIAen3a9NbxEAQYg5EjvOSjckeXMSm0UCqVZHlaqHWIxmjZfcxJwCr4+IYM10XVnWVyNiS2MDd/vmM7verCbWja+bYtUtgxNox+72FETq9MUDb1zOWrzy2/Z2s3P7phHRfyVwCBMYGfuVETveVI2oLd/7x/0woPcHc+bdi+W105+pRzTEsFq70AaGATGSKiNuO9dOAUMDR6UNRLIFasZg4zt8y+h8PAuJSPPOv9onmjOtKw8vnE0ImmI+3mawUONrvxfLGaOCPkoDyMiLOO/ZPU9MuLjQ31IEXZLotDN/ONInEq9XMFatge7WGmxQM7A7UTEa+toAfhoB4n5G/vpAp/TDH72ijyMHOBQOiZPoy4ryiTAN1qV3i+L9YNI5GG310sKxNkjSMAHieV4tiOZuU4PpgvuatjRbr1Iwz6U62OcrNbld/uN65cZkGxB83Z+9400Lr+h76trPdWY9XU+II2W6owcbF/A5N93OZyC7et8bspdgaQmptG6GOoDHUSuZElVbrxhFsigjXe1t4e3MC9x1BgoHE2nccQf1sELRFejyNb32h0QJdfJRaMTwBPK93+ri27021VFUxHXTc+hisPzAf/eQLoY9ULcSXDEGCQrcVI+GCeYHqdSOLIGZo29roSY99B6aJY2JzDLN5JProEZW5kz5ACaFNd8SA7JGxNOPY6uiOWi/LL3tqVQBahzBAF7Oc5ZczvNZPRkKNMC0n0+Mzts1NEPw8Yzv+5wnr//KGmgKG/7g1gFQXB45Bo8FxaO7casz5g73NZH+M0NDPWbKE+pMVuIy+R/hzhE2KBjqjhyHL4RmGvjFBWpsOukUfkQqYiVUXC7wZuSJQLNlECG0kbeDLTTpG2NTbw8KO7Zp6PODtLGqvOWx2fAysrzDa5yr2GsdrSJso9V3/iQkP4+jHWnmPDjI1fta41UAsx9xk5dzwooimg5MYya6XEIEhmis3N+ZemX+GNXyM3HWoeW2awwPDW7HzvmQdxK7xtaQTXecOUv0YRATlAHYdQi/9aHJQCOi1jOndWrUov/+EkOyzxQj1Zf/Vx08BwDr2rb9TJ6zEkAdrfO07LjJ7Rr2cEEJpsS6Z4706dB547FEv4+DVYaqEKpepxXZcucOvXSu3B8BRiI3/VGYv80l4FBfnhpljr/I6If3+Qfai71Avk40FOmBh+XY9T14rVvqEiMz+WRuNhiV7/qHq5JACUIGwcPQdsTsgzC/SzLGVIaw7tYzn0dzPBVjRAGWy6JS9IFzpfIaNM4cfCjIuzLszF3Qw3YNYTIRAMGnO02jfU/qYkeYJ3a0ibpwOK3wYgS0t++czWTHrEY7zhlB6jN93B4Bhy+huzC6MYmQ3M6U8aCJgBh/PkTgzqBtddB1F3DLKiX3N1ChSv1i+XuiqluEhqcrOAsfRE/xd6aDsftux/f2VppOR5ob+H1fUscf+MjBIOVvA6UCtXT1EoyCxZaa7kcksQ2LDR9zZBW3ndjlPBIN9cmYgAv79wBnuDt3thvL5gvj+QFx3rH+/sFbvulKXaBpPHU/kgvTtRt1cH7Fdzl79VlPybD4kC/E+saGDi0/HTVKuCDdb5BQNse6QCzjkjPJ6QZTrttYGoEy/l186xHvipuq2+PMABIjoO4T3m994i1zxtWL/2xu1m6p2UyLARjAcBCRPA8Kyc+FQpaSNuhAjypc3xI8bYEYQxIj6diELeRgxcgHrANMauTP3r97jbPxcgQb2BFy2HRgPLIZ+RpjTuoPrXhBeX0z4Xtt7EhOnxcgcjFqcPQxX4AlomifFYkhTt1FvCYAaxBjgJhIBm31HldtTC6VGXv3ARV9O3VKBzgCuQnZ1L3LQalmCxpL5qA2Aok6qLeiud1pWGmDkbl3WxkxJ76gxuEb4IfA73sy1rxEbyCj6OC4cOnW1YBeLK3k5c5KwFbDP/YT02w+CEpMW1VoRcvRRO8bBm2d0HDxr7on5smvfo4BSC36WVEHHb1mbWUMaOmN+/XPpXJZz+DgWtmOLafQNVjUgE3Jsgcgyl3iLS/f03dHEZJssfa+breX6+Q6e+xhiRM3N2S23q4NdbYgKWtOMPa8y+Y4dvfXg3vaNgpg00xR6B7A+s1hHc0OHyM9bS3CA5V2/IQLRWOcuocpQUQvBlaQHztDHhh/WBXUc27msTE4UoGb+PtDYagE09Ujr3AsR2C3oWYyijEN6vwDP0XlxvV9QnznQ9KDHaxaAxw/9ZN/5TwFA7a7Dzt1I/vUT0rcPC4ftOJrS7i09R1KEmYtIVQTENACpumsSKXlWGCupqCmsfSRT9tgIcEpBKPwiysvYWLhcUT6dPUjaF0btFuQo7jtGZ5xGyPVFJo6grY49g3EnZrul368U48eItO6WR2hVZIEsY7CRc40cb9aph/f5bgS53Y/ZXMcECSFTHxHNmSymLl8mdN/vyJ9O8CDt0Hp8Qy7o/5jJgF15g9xfLQLlYe0bYrJOvefT5c8nslohYPv1Bb/+v+8WKs1cuPTjwYXZbmDd71fuhj/TYSvn9PqW0F05Ug1bJqg0FissBeXUIRYA1erPLLJn/3xC99sV9ZXVcyGzEg8xIN0YjuyO2RQQryvHnfcNQdWDgLOa6bYiXwaUM8+BYLEw5Tz45w4mNeiuzEbMb6O7oZEZuULwTVAfQ3Ahf6hkvOO3K8ILR6h16FBPvQMpANh/NdBpADJamHdayHjH2+Lnw/CPG4+jAUxMA88X+z2kiHy+eJ9wWqhbqjaqltM3rDtHv6fBbz7lPHirTJlsI2UMG4B2nRyjj15OgHcFrw7K4rKjnEffJOVfXhCvK+J9Rvj+wYXyPBk7Uz2LMuwZ3W8fbZHLBfmTNQCl6IXxIQbgYTfVzgwkfecdsWHhwljV7gHwOdfNa+bC1UC4Muo6C6LHs6v8X34cxysu5uYY2Eet0vRIj5M1pjs4ULUwidkzoKfIEZSmjwLwzPgp3kKuRonb1YgAtLGTwIuNuqplmQLg4jgEZ4c1DmxVdRVhMEArtlCaMRBssZZtcNbNNYZ+EhVnTLyB4eh8tHFx6BKwlnYM7TWxPRASZRw+/pRJoJTWvKDF+36Hh+ium8ff1GI6KRPrh9sD/b+39xAfLVT3qWElUaZEMEgmt3YRGHuEo2taTKOdIx5WXSpClt4yHtio4uPNADyzn0DTcwE8Vha3wuDk3BhvPVSbF9pokRErxiIrbQNw/ZzGxNoo6busj0f7GRv1OyALxuyBQK7OcwsoDpFmS4HkA3MnHaGbe3pOmzB0zkCi0DRR55nOejHgXWNxwziai1mNGQaEZOqwh8evCFTpWkmhfU5tvHQstflJka8jRi/VA+iz577dG6NnbL2uB2eHx9FkHwl1mREG8FpdFoLfvgNKbAYvfY8pcfxectP5G+CVE1pOcIHBEAIZbgB/OpP+pcdPaQA9v2sklUzwEl0/B6AJue8P1weyXsoOvFGc6cfN2SYALRtQotOdO7ew2Um9MDzWFz1ptT6YSxhKQfx+e3qvzvr9eZxmzFgdeuxfL8yXqwQeZSJA7L89CAY6gslwm11jhQKPWvEbFsC/NyexumhrALVmBuLKkHz8CQD5y5kjz+83G7HZIm0tHdmy8MpIgX98WAfr2m4OEvwz7mNF6dWqEExHt3r8SrAYm+59RlyoZxv+xztvOncbXcfIYO+XE4/xdTZdJZCHBsbKmZVtyjNUo4Y0ZDUlhJVtE+m2Yv/1hWHWFnAcTXtJdo+B1LCxrLSByjsMCjK1h8bkoRTr4+39WMSVsS/5jWyBG4T2w6gOBG3lZPqQUmzUze8zvj8IMr++UM9m57dMEyjcqERtNEo1pnRlZp9dC3KGs596ssifvTHG62b9xXzeeKMb+dg5jVw9mNvH+NKz2s04/XH1RZda1t1q1UrLUgSMaedGJ76bFiVnBrobQxzfHzym5wlIEenHA/E+ky3/8maZmdQqOiAzDV+weqPwWJyNDg8LkX69oL698EYeGcFUpo7avqWNkOupBbjXXpEzNGGF650gtFJLU9eVN2tpwX7y4eYCH4MaCLEQZ2fLzPDh0Q2dNX3c721Eo5u74iVsl390qDqIVOuA6a4ALsDhfCLI0ehJWWM5txGeftf6SQF4rhoAm9JEZy7JUtl4crdC+lraeD4eAJ3iWXLmZ5VOqrb37AyUctd8PMzfdcZSbPuBKRMDWm3MqXNUDLYiasLp5BpCuYp9UTUwK6OBL+T3mefLx62xb0CLLjmwVmpT4fcBc70fImIOui8HpsW0dophMW0btWjZWVFn3LSZKdQIVnNr/zlaiBmTh/gXgfbMUX07f3gOuAFENWi1ttFr34w/6lH2x2GkDKAZPGppoHuaLP9v8K5nGVwAwOvk9t1Br4+cD7FA3qPsGyDbDFj4eMvoM5lDPzjoFBsWQuA14Yz8Cjd+6b6uY2Xstlf5Wd8vtYF/0rYCFlvDa7rerHpQ16XArxhNGTsAyEzi7LACnhNDuLXhq/Mh6xN4Hhfvexvz20bXz0nT/bG20c7znzC6/RQADKaPO+olsG680NaNgM9Eq+XXL4j3GfHHjTqjkU4rAUg5EHkAMuKPO0HDNHoQcLgvSH+8t3gTCb73jHB7uN4sPMwRl4uL2jlqlFi858LpLKC9dgS6P25kbc50MqePxTtqu9+v3sogqr98OvN/Kwy09OawTA2gLGSn8suIOG/ufqY2MZoWDswrtGw3gt+N7R8GeIZ/3ji6fDCipU4d9k+slSt9RDaTSbq3sVe5jGRhAh21IRcyQjZurykBwQDUXriQS5xbK0Fgzhx12vdDjRxQu4DxR0bpRWUX7wQug/U4Dx1KF59aSOI743vEWIplxF6ol9wL8qVH99sVwVjMKsAWWnNFWDbPQKwBBIxZ/bgcw4Zlc31m2DhWVBRPuq00KvTUyrDDujQGcN4sYw+oo7lmY2CQuBLkS+FYtIveLAPwXJCBZ38dCbaldxSruXLHp/+Oj43nnWX/IQTU82gZm3ee96aBUgtIvP/JTGUbhnoanb2op6EFmw8d4vuDr2E7+/jYmr7qwUq1cLWNlK5jEAxrTJ6/vngXOGp1I0i9TNQ0GptSh56ierGAy+osdh17LqwAb3ajsZY2KqmW74Za+Rk/7gf3qcktlObfd7YgDQhvr7wP7cyh/KmHjW+qAQ0kju/q/d5GtDFwgToaPTRq9ViJ2NoC9MiZ4n+NVIF2nDqLhdCfb6uL2r05oJa2kPZD66C1RgWN3uTo9YoygKyEAa/WyxrbIh3aNU03pS2SA1tJ2ihxbGX3xv55e4MWVwu/DSd+P5DZBICX2tfKRXrffbx83Exrk//01QwDX1uMSLB8ua5r2i0J86UhkzZW4zh7OMASUBIAjpHjaoXxCmykROb7CAIthkjmnHCaaCQZx/YdHNaFYJsUrwAMoTVkaCxqYNwZSo1F9XsxWT5hA6QCf9wwnP3zVotVcoOMTDfSKB7YadfeKbj4ILFwDarCzrX5kOHGMiAlV6jz3EBaKQ5ka2aDRzhNbm7xx7I0MD0vtuk5/H1MtqFQPmC0cyE66+udxOrmFsOnc1xufcv94/HJ/jlc8hEDn7vvrLGE0gLfFGljd5SHKPBa2kC7V4UUCaJPJ2PKYzvXt70x+zk3g1bPvmuy6al9R0e94198/BQArGclpUe/QOsrRbvYdsQfVwrUH2wtKGeKwZG5EFYJwnNpuV96rhAMRJluTaLWlLyf1Of2XeIiVVkNV35545d6soXXRqw1BL5nAxIcp3XeLywnM3PTzISxboh3uijr0DO8OsXmBi0F5WXwMW6wRgxEYP/lQvD5enZHrW4owd5XZ1mGrMRbCY5sNBff7wzjBUezZepQ+sQxpzFA6b4S4JRKJum+oIydLeoGxj5fyBqZ+xRdJDgbE9lDAyvx/W6sZMeb22nA/usr8uuEcu7puh0sJqcUbJeI/RQ51u6ix85wfMnXXj+16JVigLW8nQgMrftYQN5Z2cDswvI6UR+ZK7t6u+h/5z+3ZQN8Ad2PmVEixqg6yBUrLSC400leu4i4bNTwhcD/ruBnjLHF+RzHpiCDWvtEllPVfQuPa9gJCBU8vn2ZyABGoIw9u4QVwGyA9cl0cl+oR1RFXbWavqEnYCvF3dYI5lw+T22XiMY0ho87n08gKAQC8UqHsAdA2+/mzy+sTFTXrkaYIJtdOwOJ1zvP00THL8aBDHjfIdwXdP94Nw2jafymsYn4Y0T9/GoBu+wJDjt1nOFGN3M9jc4eCJT6JCEE1/2FxXIx5Rq23Xi93cmk3B+tfP0v3+SKZe4dmL7lYEazYFwtCN5P6/emzsdd/tAiXisBwjBwgb9cHDiq9QAxcDxnmr8jw6dAZwBcWAYVxj/n6blZQOyVta/4QyHFh/+XkaRcbwYmhuYgFauojYG6iwV+tFj7GI/MZL3eCCrUa6wsw2oZiGaMCOfpCYT4mK7rnvVRMgfVynNw254iaNRfG8bBjQTHZgnXoxqTK7ay5kKWS6YnGWoAvk9jrDwk24GRgTYxmhqVAm1EKDZTmxiFLscWY+LjySOLpcc4HBjG3ACFgU85xzX+Zybj4zC+jO27NwD39J5D8EaWEFumHgA+l85JO5bOaIrJC+YM1vge8BYMNciogcbPyXkxVnfya8rB3NGocTgO7ihelsYWi4XXcwjY7rs7nP3v9TwCi6USUIthlaGj65ouFrBNwtqaO44pANrUWMsNOt63tSFiRJPJPHReaNRcDqyn9K3ObBqo33caWBSUnhvD+lcfPzcCNhYu7NkoU6LYOvYEZScyWuXNWLKc7WaTOPK1A1APbEo5D9Q4nQYfr7Heyk4udTmKsdgL3YR95+xEeKxNPFzJCOXL6PEYcdnMzWktDK+TgcOR3cKWj+Y1PMnibkppsQAWcu0drmL0VPU19gRGln0XLQ5ErEw5Dx5RUs1ZWbvo+Ws1MeMtPjaUc89mjcfGUa0Y0HW38Wzx50DkiE4LVLyviN9vpjEM3q0c5801YgBBz/ZvnxwAF2NOu/fZImSCxeMUpB8z9rcJeQhIS2UGYKB2Dwa64o0Vct1tZyTPTkDd/Xg4kxWXHd33GfvXC7bPkxtGUKu1fER4nM2pP+giB8/Iy28T2bcQsH+aCHbXzaNXPBMvRijqh/o9jtD3TyfP7NMYHgDHohbnIxBeJubeCUjlVzJqIdfmVLeqwzJ2KFOH4b+/ew5gXOjSi/fVwWPImSYJu/mWtxMZ2gdbTgTKYZuXkNmdy2OdaRLpop+n8eNBBq4yxiZk6xK2yJ30/d4cj7qMbSQbbzOvi8vELLR5IUBbGQIebtb0Y5IAgjcK6EOp3uZRO7b0lNeLO34RozOB4T47QNR9hDt4iu6DLephtegYgN/ZNDiDKKaZ7t+tLcIGhMLl1MZ4P/GockKqDm4cCca0c3fnYPAFKvR9+zM9IhkwKFMM8B1/tRaKIyDizt+qpebZYywI7A5gUlVuB3dlGHofD0oPFqxtxANn/zSG9OgPLdAGtjRSfIqk0cOYryr3LfCkc/Rxrsa9Am42unPNXN+TvRVo1nd81BdqQU9mJtlpBHKwuRjosPd0ZPsQDmHhYr9CcG0bFDYs5nJZjBXNznz67x6duodoHB0PhNBMEMCTuxkhtAo8afUEpqMBLQEQoI06D8eO+snOR98+NrdKvWOXrD/35dy+Y9OsqRUlDIO/z7pbO4oZiHwDoxG36UK9x1mn4GGUjdpAcTifES7nBtZklhD7auBH7JYMMnpwU9NTn3d/ONCptrb77wGt1cY2L09sojZDAvQ67uq6ts/ixhxdt8awo4o9bYDWWTsRUXpYz7dPRYFnaYLOA7tf+aZSmmGgOcvtmDIZoGvfpyYL9jn/p1XBienz0dGNpg8HZ9bXiQKaIHIxZmVAeT35SBbWLYoYkX7/aAs1QE2gwmwtRwzFolFmc72dWKodv1+NkRs5nh0672rtvt+p1zvow/hc4PjWDmL3jx82ukttlJsrRfZDh/J29s7a9I0dqkVs0MK8OI0l451xJhzpcoQtBiveWnQGwOOjcWSxyJyaAsfGy+6asDJ0ZE/tval6q/sxs+P20wn5y5mxJO9mNLFFNL+MQATZG8ABqcakCCA7e+6dwZKTNyyZ+YPnHvl1xPbSoSQgj8bcmX6vnKlbrDY6TY8N+dwzJ9DG3dQRLr6BiHtB/xuPperwyti1KjN3/ALdf/uDWrzzgDoy+iesO/p//47unx9k7868wRcLcdbYVHrOMvYGKG1crjyxYBpJM8fo+yX723E8fackIKuJBtLhFWfskBjjExZzs1oItyJKioUwK0y7mp4z7IVSgImgiSAwNiBkGZh16gkyXxjGHLaM8sKWlpoY3B0/TJuqaBeAEoHDzUIj6WI6vrCbmSUESi+M+Qh7pp7WRq2+ybNNS9h4w6vTiHoaGcwdaLiBrlsxeKXwOIxDY/XsWqyThQbrHmIGsmoAEl2i/k+awBDoPtbCtm4u3HdX5nGB/guPMPTMsgOvDR+xuiHEtIZiIcSmSCem421AzUeTAMdE9hzS9WmhVQxKnS3r0ICnsurg40FbzGRE0BgUcI0Vx2gzJF73sV+yeiw3KuRn7ZpFgdR952uYWUQRMn+OcnlyxcJAzenkGjctyqorE8Pk4F1jShuz84I30CjDjLF6XvUnCUA4PLexRUFs2aEtQpo3jZurAnUVdSL2hx+onZ8CdaoaE1Oo8f5Bsynnuvf/bhYxMs/Un9XaQLwArNhxuXjts6tn2T8/4CxwvT8agJ8mH8uqacQrxADbfLTPE85Tk/oAUE6dwEzoTItn9W8uLxAgdAdu8dE/gHbuu1a0HDZIsYGdw+SBBo69bRZKduBTFSXl6SIG0G2j4lmPB/a07nvL4TS2sS6tltarFO0c9ed1A0Zp5wvgDK0/jj8rAGkja3flKt5F2X5Hhh2w7840vAcW0L8LgGyf5SfyXBnbCFitR6X+1D3u5wCghMWW/eXi7J16nvzrG0eZ1zt1S6e2g4eN8cJj4UI3ctEr5wnx9uACFtGcqNI1yVlVio1zM8rUUTt1GskWismJfI+hVo+aqENnOVKwHL6pGQ8k7H8sDt7oULYxy33xyBcAFP3fF6Sb7RaNMUKtPhoE0JpJAChMGoCzQN0/38kSGlNI1yXZRQ8YLtV7juN94fPIIGIjv/4b2br0sSCfB7JbW0b5+mpVcnYhSgs5dG2HWwBUuHM6bBlQAHPHnK9g4dDd+4zhx4q0VaSl+ihVPcBhy9g/T1DUiCro0sfMZpgQUM6mUZt6H4GrszYZ6xi3dqzLkKjz++WN36/n0RXPoixvJwYEP1ayQpmxNWHdsf79BXHdLY9vpZvXPuNR/J1uZLHSH1eO2pcN0cfG0YDhzcLE6XyNP+4EW6ktfvG++Eib5qS731zjbaZmTgChWIZfCEg/bkgPBmGXT2dUhftOrUeSn48hzfvbxDDm94e3g8RvH405y8UCkjPlBpI+dNzgxCsNHfE+8/NsO4L9GaxNo7wof5Hnefn6ymaS14nnJMCokG1HmFekHzfEjwfPncvkDmEABGgpcrefWbuIdeO9I0Z+TjHvyvcTm++B19l1hE3PU1BfzmSPTDfj0Tc/83BwZDfnYOyI10rllvyvRzLRuqI/xKZoxKNFWMxQqa71OjIrfuMPXCDa/xtQ1Oj2ALp8PJxMjB/TM6uhMZWYLjlMBahD6zA+9vmq3zfYWEvh0g5UrTbMw5KNtRIYdcCjvMM9OwvmIK1kB7N6T9I6OVOj9UMPhesevy8LAkatbaxoTBkAnquvr+07yxn1fm+RMtNEgCJ2pzuMDmXSMD2XBzofGG0FXYfLiZl6yqcM0TuLPShZwE8yA8BZWOnLVJvnvyP2TP8GnBhxZgrwCBHkbOPb3Mwjt7t3A9dltT7boZk2ymGzY6HEzmweHNlyTou91s+4E9lYLu/ytfcm1iro2Mpg4Zl7di7d7/57Hh0j7b42e0cGTP+vfl0HzcWNUO6oF1vs4eqHa1vvQ3peG6dDwebavHZWa6ex71EPqOOXkhFcwksW0C4zVj88G0K8ozgSWNqf1fujXecCf9Jc/sXHzzOAx6BVY7SUsh4f1gxgI94wb2TtogWHqrppPbgqZc0fzEzRJzIMO0FUOfOLjQoyDozMCHdjSIYOYcnMLHts5j497FL3g97t447+n9fG3oyDRdVYQKfpi9ji0PmiE0yvxZFv76APIFu0/e2C/W1i40VvYw6FVkeyXPonv07In1/4Hmu1RgXTJBp4kM6RWU88vnVMHrchRjLcZgLX9xsDlI9RH9UMA4+VgFmahhMbUciQ2dgzRrKk0dioQP0h8xEbYEpLRdz430VA3V4nPgi21r9f+D1aM0pV5V0fsb9Z3VgI/r3sX048bgHNGRvp/o4Lwaj/Xa4cz0vr1CfsLz0ZwBiBFAimph7995nvvYAsydk6o+XK1XhehpCOlXgoZHh5zGwEdbbqP9PS+bm1mTj6RCYWpdg5ZXqmlKj3k5tVO3ItGKWQJR3MLT3w3C9vJ0YRvZjgXSzJ1CHdFmPEyDDX00AmTuNSMSwbj50HJnem5XywujB/uhhjOFogM9m28Fj4uceB1+A4kHm2RhNnFcbB8gq7Boq0EeqpKdSf1fMEN4jMG3XDtdJZPHSon1/NUNO3a25liDSs/zKsm0dB1L7zSAQBXIRAlucnR8BPsRJaXJel3ZhtROw3fklhSrbF4iBuV1yMGgRUG3V8buBpMfAWj2ri+VLJSkp8LlF+R2ZWrmQfk9pzQC0den57PzIiVBtd+Xht255MANIEOutXLc9Qn01jNHO7VkVfGIBzl6xckRrVHX5X7Kn+OfbCuslDxgIt3mJOtImT7tCcwVWMm/7+kIfHyJIWRSOnqvcU7zQf1gMwq4+HR6w0YX4bxQZjyDSWlt4Rma539fbWapEpcstbuLGOrcB4fTxahp8A3L7zPQh06Du16BMf/69ry+sTePTrhGAr2BhdBpEQwvO40zIDq2UgujbXWDjfsMh5baCSb9hyPJWBVxu41kbCwb+1e1Cv2L6vcD637049v4egdM+QNIevQLxvtPrBtY46Hk/OW11rGslWkwKIvdOYtxZn33zTZczfExNs56ubUHQOe0pANU1v1+QYJT9pcvndbX6OVZOKPIU+WwyQt+n8xcdPAcA69aiXUxNtHz+sMrs0wprXtqOfF2fH6tRDgbASckt/RIej9XpG6pvistFBvGyMp9CsvZhQeC9I36+NcbBxrHRnDlol8leorBXUI0VffOSCRIw0eqSE/fPJAUu8LX5zqGbMqGNC/+8fXveFXGlkWDgm807WAoR587FqHTrsX86ul2IMSXDAsv16Rhn7ZsIQk2igO18GRnesG+rbBen73ceo4bG6y7UOPdLvH94SwrOAo7zhv/1AjQH5hXl0Ydn9NeJ9tefaHNSm7bC4RtDoM3Yo00CgFgOG//7u427XaJaKeKeesbwMKH1sbS3LbqHSxb83BReXEzWbcSWrWF4GAm0b6cd5x/j7zN8zYFaG5GCN+Xpri0HZC4/nafDWlioA0SU2h+ia7lhxJ0lAfCdL7XEptiEQ8HMWtXCz4R3YWqz6zruKw7q3UVAIzDpcdnS/33jev1M3yUBzxu7kTxfk6XDTsBGpG6QGhStvztCHXAm6bXQab4szPHHZED9uFnvDm149DSifLmRyHwsB3shomrBuzrbVLqG+0BQV1o0mlF+sCs60h+X1xPdkrmBWewVjMm3EXQp1hgfnrss+JLq20XS1YOnam7vfjCQYeE8CQJ3Z+Nd3x7o2wjQ2oXlM1t1rC4R28ZZN9qSxO+icnNWwURtHdofnkvs1GyNhY2CJ/X3Hf7jm+cXXppsanyNXNNqqm4HnI8OgRfbIxBy1TYcgWj3fkeWqEtaLNbycCeo6MzuYocOF7ToWcmQKPChUXMYVO64CIk8tB/Z+n5yXRU7Jvgn3B4ZrH5lMsZOekSiWy75jfV9PwHMcPJKJI28DUqaBe9Lt6b3l5/syUkJ4feX3sqzPjHLRORWbcUMjU4CARsBN30UIzjAKaHhrysgcVTfRAI2BVVzOY4ZcxTJlACBbaZ/FNXQxNfeynk+j4HF86muGtKkxOAir2UK51ZRjBp267wR60r/peKfUrgsx0ekQMWMMuc4JaQv9uwVsjB/bebzvzb1rz4tlObx+kwz49zUOfN0bpTNy2T+xrbr+LI6pCiiKldeIeWyJCDrXnmKh1s3q4Yy1HHpn9IJMVX3XAPuREdfY/Sc2uT8FAOlY5C68vF6e20Bi9BszYCOsPXMHnwviD2OprjPy3z8RRAbLCBSr6IXu2YFbeCxtrGOj3TCv7QZp4vT0x9Xckqn1m+4F+9cLAdMnvt/yRr1cvpjTWLu9CB9RlsnAYaEBAstqzQfFe4ZVtxavPAHjlYt2vM/UT6VIbVS1ky4FmlAerGyjZnDjoqkRkW4+y4p042dO1+Wp9SS/cEenYOl6mdwUoCBlfQ916vi6lxPijyviP7+TeZkJusrrhHTfkIw5VZaanifkSn1irUAASgpIc9O5Kew6lNIiXiZG7hRr28Be6Lo1nWANwfSHNubvotfPUQNIQB4W9r/KyINlbeyoftZYvDJ1BGKZUTNysAYzGZEFpcO3+/5wyUB6Xzi6laM0VyBGpPuK7n3mc81Lu2psLA6ARpv7Qta5T9g/T+72rROBah2TdwLrHC6nHttX7nLLeUD+enEWvJiWsQ69b5gohSCD2v/OGxRH4qARJduoetu5eTDgFK53YN3Q/XgwDuY0osaI/Murf/46Wm9yit53zOilqwOteF0MtK3WVrMxCsnAW3nj2Dqs/I7DsjvzzB15R7DYJQN9lUyZQp/vMw1UP678b2MjnwwjAnspId4eHrXgekHTmLlL9GceEmq7K7mQSbNx21M7w6ju2dLGwkfThmelJdcouQYvZxzNHcEYhHq9ocW6cBGqpThjB+CpYQGltny2lJp4/+Xy/F5i02w54JD2SNEePWvAnPGz0ZXGe66j2y1nTeDQxoF1XR0cs5Eku3PUTQjSPgrE6jlyob7rOHo/jNRbXE1oo8B5caYkaKx61BMCzmL6cZ6m/8zehsNCn6lZZeC0jnFxIOhSAICmh64dV/0sdLzWrWnPjKHUSFVatDCNLSIEwJMb2Ny3tRTqR5WFZyCpKn+u1AZwXJuXnXV0h64AZkrOlNbHowHzeGhWkX7OAqMZUbM0ECxAKi2qxvnAf+4FlowgNe2kV+PF4PFBHrMkjV+tbfMi1nbfG7CX89YC0p3R8+82t82DdHoCoDoHHrNfEwJvjNnJzwyfa2lNJrDvDga9D9h1wbFpIw+gzx3Vw5/BZWng+iBTELAVW0uG/tDn/BceP5mRADZpfNDF6K0edqPy7l6jlMPtgfp6gevQAgvd49UMERLCA4yh+PTiY6eniJnedj3fP4C/faHG6fbwxRapR1F5vTGE5dMZ8b6i+343rSGdkcvXEd09o/8f3w0krsBp5OKpbuIlI265gatIxs8dqn1y0IYuAhuBQzkPiMUAmOkOjw0OfHKLMrG6MgDmQDXgUwrHcjYilCkkzjtNEMvuv6fYE9Rqv2vu1pQQlxVhppmkvEyIJsZn1A7IvA0dsDCIWC7o6FVoHULOiEt153KNQB4j4toh5c10bsnA7sjXNyARVfOXaxvrLRvSFu39wjqKSX2HWmmM6fhdpQ8CwGAhyMrz6789+N62bN3RBtxO/J7KeSAQf2wePRMsb7BcRmDdPWImbFbvZxmSabaoEpMi8IbPfmGcB5pArJw+PHbkX17pKj8PZAkfm4/nowVue7+vgbqwF3RXyhnCsgFm8AmWGxgeC3AaEX7QSFFcw2qbhGX3jYTcwnQ+243/lQ7A8unSImuMEQ6lIHcRaTEAreM4r6gvkzOS1djA+Ps7TR6fLohXAjVkA/8CZbNVJ76em873em8bK7HwwRz9Q4/wAEdlpwmAsWAmHQmLxdF0XUvDt0DqcLcRaz+hKt5mXlvLT/m/KFL///dRKhBLC4QG4GL5fWf/qBaHZWn6oeWw8Gjhxm4LFxcPZyu0sCnixcT8AJ5f14BC3bYnlgZiVIaer3O70UE8WbuRYnLEfJmJw1sYQnTnrD9Mx4VqzQOvL9SM2f+LsTo6e5/qzQ6fhX9vkxJ1rb7ZvX2hq9UNMgKDGjEvC88LZ6ZNQ3i7EXDvZvYRM7RbO5MxSHXdngwewcaJXrenYxkS0KOZKjSKNVkOpsk3Aa7pqwUhd85o6pzzsaz0cKq/Awz4Dq3HWROkffcRLEfhtiEwFlNjWR8dz0vTkNp5Umeut3yNpvV0MCFCJqWWn6fXzg0Yh74HpuQGpGqbBRmBBOT8vNHI8zji17GVI1iANxfUYMeqalNHlrA+HnbclClYGtDS+mrnWhj7Z6Z0HOxcNrat6ywY2n73mMXYd9bpXNvodVt5Ph3uMzCAGibeQ2ikCi103MbSDkBxaG8BwVu53T2qh8eu2Og9tOsjZ6Ac2PVcgLw52+faTjvmcoE/VcT9xcfPMYDGyLHcOpBBuD2MFbTdmml3lODvB1bMzWQjGs3g160JwNfNzSE1JdcMUvB9An797C5P7f5ZTr8SaEgsXi0uRu9TACYAaeFCX6cR+9/frA+YrKFCexHhTldv9gjUnq3/dsH2NmD9YhEWt9liYLoGdmzMLJasnAeCDrV/vI5erYYuWjtGbi0cG3uCGaVC7Vs52ejux92/D68FW3eLPgnYvp45agwB8bdv/PdtoYv00xnxvpDV2QsU4QLAb5T5E8dpav4QK4YUULqAtBTEh254HUf6AiGFbmcfvwMWVkzAHJa9MWKRQLvaboyAhqAp3VYs/+WFGX1Th3IZrbqPu6l4ZQi4OpUBsK3kauNDaeysO1fnZjZ9Y5B2NbKVIy4EjPFjdoduvC5e8UdgTYBP85C5Li2eJ11XvtcLa+4QgnfjsgVHX1j1sfaRdQj3xfR5azNQDD2B/H1BuM3uQEYMjJ6x76q8nRFmAso6HUYRM3e+XhlnjEOcd3e4h2Xz0b2P0WPgmLtWc+Harnjsnaln7mX0LM46Db5h4TkxoryeCPjESGqkq0VlbGypg0Mx/7pPWKSMxsZ1spHJ+5XXvJlUnkwCP5GSr3P6acwlTY45P12kHsOz8FzCbtMB+RhLLIB2/jJ0iC30n5H2t2tuXnNJKkJFzk90nbGPNh5V5IsmKfqeHAhYXMrj0QDX3j7Tk1EEAKaR34fAl0ZrdkycgROLIoZJbklFVpQDKFw3Z+jkRg7T2NyNer86psFiMgxYhsvF/7yq4/rw854fCLQRm8CfxZa5ycISKMiomKbSN/TJpxMCc3xSjuqPTR/1emufX99lz7F4Xdemh+t74NNLYzRhgFOMrjZ4AlUGoGS+cfZH4FGgU2PPY/ag2DebJNV142bBwMiTQ/pwD/JRr97XQSsJgWOLJhLr6tKGlNzowpFtfhrjtn8O8oNsgE+sl1jPfmijWsBkBhaM7IwwR6JkJ2PT1QKNKa/l0MEdXFfrsgvpc+XMzdn1u+58B9roWw9dB3b9h8ul3S88tqlyI6NNkT3qurZz81Br5+c+0CJzDs/poBjG4N/u+KuPn2cAT7Qp16FH/Lih/u0LtRL3hYCoWA5ZOlxQQrTbzkVFi+AOZwWRZBgYkT6WljcoLdWyWZBsaozCafCQ33LqgdzRMWvjKY+hGTpnebrrinzq0T02pOuCeplMfE8GBtuO0EVGiBiLpJ3h+m8vWN86dI+C7m5jO6tLq2Mylm5wJqe+nlAnMkjJYmTq1KP78SCokQ7ucHzJ2I0EIykA5lyOe0HpR+S/8UZYU8B+jpj+sZDNC0DYyJABQHk7IQ59c0gby1RPBOD5zNxC6hh75CEh3jek95mOVOsHDvOK/WVA2Mna5SmhuwZUo+Z9LLsHxAPYoo6Po0VF+2x/f0X/x92+z+y9xXXqkS8DmzqM0Rz//cquYMC6hM9IH4vnReZL20iEnJFfJ2/XAODduN23exv5XlcHYQLG4Z6bYWXsGWJ950irXEZz9M6Id7v5dtEkEBPideHYNgXEmSHHcduB1W7iK0FLQEa4zyif2albYyQ7K+bVjEflMiHeF24mttz0rsdcMdO9oVakD8oj5PolgDsImXUT3ezmlqIzp+n3w6hUCx4OPy9GajGHZ4wAeD2G652GkWVvi2yt1OpdqPsJOTUgvm5QUw8WMn8EnTuwBe/DFEPo+uI9o76ceN2LhfvxgNc7jYMv2HUcyJAIaP7Vh3b52+qMKADe0FMiw7huLdIlg+9H4EaPktt7kWkkm9RhOZgpBBp1k18WXlsafQXTEEVjcdQcoFaDUpsgf9/5/moFCpoeTI+DueApu1DAMwS6WDWuj7EtfuoFNrBa9T4U3mvhudKPyVzSNJG1GWJsfBfEOuqxbgRPXz8Bkv58fqPkxzR+zrzt2ZlDD2g+GCuc5ZKeTXoqjQEBggEDNTWO1KlezMylPmSNqpN16J5Ozxqwowv05ULQpQ2JvtN9ByyYGiBI8Vw6c7qGLnnQM4a+AQUDa+F8hrIQMS+8fsS2AQ2km55MjB2f7+TESJXmNKCNkjN1lVWmllD8/fj5Ecxgoe7qZfWolhA4HeLxOmgHY4dwubTx+LJQt7quDtgI1O1c6VI7rwW4daz856ID1SrDVS0gu5MQbPwaUm3vXe/Xx+waK2tca53SubT2kBh4bRvQrusG747W+5DzV3I0sY865+11lNcYtKHKdh2FyA5hYx6f9Kj2+cL55E7kEAJ7wI/3mX/x8VMMILbdtTjI2bt+9YadFTBnq7MvpfhokDVusz8X0/0HH+N07zNjZNaNQnItBCkBDxOjw9hIy4pTSXSoZIXKiwnQ3y6I3z8o4H+Y7q1PqJ1pX2wM6K0aYg2PDOJe6GbeC+JaMP2xYrtEy77rkX4wdDneV1t4qXUrL5PFrlSk+4bwWJG/nPmetx3hcaDkNRaWgH7gaD2Y67X//Yb07Y6QC9a3Do9fe2wvCbe/Jzz+y0QTRTYAa4uWGjMUSaNRIE0CBd13a2Gw2BRnIFWnNu/Yv15QXk8ELV1Af6+Iq2n/SnEgVfuE/Da6tpIgqTNTjV2sISBamHZY+b2HQn1gmDfErRyYRHgtHwCCu6OOcOz5eTeeV9LCcRMSm8atTx6vgz3zu7rNiDMdt56tqADyjzuzJY1ZrgE0jryMXg+oDuCwZY5JbdxcRuYGlpfRnar1MtF1DHj1ofIn0dF5HWyMiVwsWoftGtIahgOg4Qj5ACxMHuEL/ji4yQq5uKHCXeu63oae2pehZ0C51Rs+aWPM1BWuDy5qcmcLGMwrAdtxVAO4tMPL6/W85mqv56nl/FkGG5n82K7thfWS9WF6P4HeJ6ama45KsYGPue3c/+KjPuZmkDDBuPfbSlQP8LM95sYi9MNzRabukxrliDGw4+CMA9AWEcWZROmqkzsP2UawttfXeziaJtatVZglhkGHaXoaS6uV4cn5qRGTnJOW26jvrmo8C9joVsArt88PPD2nhzwf42ykmQQQPr1BvadBGX8wdsuMReg7YBxQPr/6yPSJ/QL8eMkY4Dl4vRlD+r45UP9kMglDz7q6lxf+zDT6tcNjmHxEXFVJKGOGG0FKa414zM/gT+BDz7EfronjIm5jVm+mcAaXm6i675YLaJKPiVV89fA+XfNpbF4YjV010OwMqQGmoFo4MypVMXL8Ejzv7wig3ShiDLa7cw/ApuZW/RZCA04hxhaHo+cT2ytG2c43HweXzHNeMS76M7G7Ykj1e6UeupEPMTpWIxcsyucp0zNFi/dZGytXbYonmYbOZ20ePPIpOvvrDnSZnHR+wNheTQJMrqDPcnze0HUt8ub+4L10oQzDr8E/32//xcfPAUBr+1DNU1g3OvxkDLGsNwAtMFotFsvegqO75M0CavoI206dUTg0hWTTlA2MLamXk2sdvA4qF4SVDuH42w/E28L8t4F/Xz6/ApVtIOm6oPvxwPDf3zl6/XFHfjUBu0XPAKBhRYymxtK1ovt2R3pf8fa/f0f/B2/EylcT8+XmBICj3Xl1hypbPgZzaBLApvcZ8Ua2L15njkDvK92YpTiThkSzRP+x+27r8h8Z0z85Po4fs2fX5dfRwSMAoADx/YHyZm0Jpk2U4xiBr80A7M0BETUeoEN7ydhPAbULHgkSrbe4nAfErSB+zOh+v9EgsbG6CwDyG4GQgqgRY+vAtVFjvM5tNJoC5DJGqaxQS8H1ddQ5muDYnMPxY4Zc4QpYrmNP0P8yEMy+nU3Ladq8kfE6+XX0pgnWFfJ7j/NGgLYXd1GHefFxPBc4RgR13+6u8fOoGvt7FBwaZ0rLmTQQXV55XpdTzzDlcXiqb+Lrrgx43nYfQUOjlANI9PF7iubiZc5ePfE51fNbX2jkiO8PmnQWMpMebtwnKz1PBvgsjkPGL5laXk8Eb9c7wev3Dx5fawupp6FdWzHSVGM3MR3zcFgAqrlmkbM3Gmh6EJYV9ctbA1lji8Dx2sj0c7e4oEVfDl6NNKep6euOdZZiyGS2OIa7mhsSaIuA65i0+MpdrIXPXtN7Yv8UNRFfX57DnAF4f7DFxdTbHfX2aABxZHB+XZbWy3uIovG8MWMy6mOmec/y/RjAa4ynYiyAxtQoNmPouQA/VdRZXdmyNg2bgF8IzUUpw8q6eTOMB/5f73xfitGJwZ8rpNh6ZA8B7wAasAbghhSNZANNDcrF00Pmp/pybp8XcBPKU4uLmOtaCbj0ukdgbe+xRbvsrV1EJgaxYcZKCaRWD8M+fFYDPt4kERk4XW/3w7mXGqDXZ1N3szRrGi2KCaulAaAjWyqDiB+g4mC4Xq9PBiWCL55Dzdnaxtbx5cLftWpFr54TkWTflyoAw+nUtH0Cp6rbM+a72ubL3bI26dC5HU4nbxhxg42AJ+C6VgdpujYPphyEYEadw71F+j4zgAVjT32cva2tI/v4+LOGTxE2NuFQnZ9PZUJ01jsMA53CP8EA/twI2MavqkfT4gLAaqG4s1fYL0JwY0awG6a6gOvJiss/7mT31g353z4z9y4NnheIjaPe2tl4Tc7B1zPCWtruwQKSw+1BowrIEiqbLb+OSKrgisE1Rd7u8DrZ4h2bGHWg47iGgSNddSEuK2IpZIlOh52yKuWsK1bZhGViPRzAcSYAi6TJ/PwvjI1RJ2u5vLbRm8XDKMS3psCqNgAIHGt6NRZAEGdi23BfOKLOTRupkVkZO6RvNy6qFpitZpKQMwGZzBAYsZ97pKWi/95CWOvUocaA9PvV9WDSBYYtI3955We+rg0QSVtj+kXqORMpfAD51CM9No5EjelLd2o8HTDshSyeavi6iPp24rEVKxbBG0CpQI0o5wTc2tghfbuZu5b6xLTuKJ8vPM/uq2nPjGHazRTx7YPnzLe7VZ4dgHRsTloZaVBAXWKXeJ5F00NGy0GsLTcPe0ZYrAFn2ajtuzPzj93akYtSrW4WOtZO6XvEZt/B2AMjpRbFAtNRKkLe/JrNv7wwhHvdrL86o7yenQ1n/mQzihAY0rVeXyZuDizvsr6ceQzeXvg976YJ/X71ax21ImT46IyjXbKFIXLj581CI6vl4sfNbpDU+vitM2fUOCD8+PDXrMbW/dRDWWu6SSvnUGBOjN4RnMHObR8vpmZYGEcu0H+uitP4VtEWNh51ECa24+g21phIMRUqspe70Jh2H5N1o4n2cwOtR5eltFHmVAzjAAzGBppZxIFZNWdrqUBA04PhMPabZ9cvSpumyrpwOfM5D5EZuhaf6sjyinq787OY/rPe7jxGMVi2oTFjGrtrdGksjsAV40n0WaONWJszVeHaHLcWbohuD2PrDywR0By80OgUFO6/mDbRwBxHexW1No0fTBvnI0cba1YDsnUc2yhYYNEYNY3nmVk48HePTnXF0tiItGaCVX8N1CdXNAAfF4fOQo3ljBV5kzNHjWK7auH07XLm9z8kY7osvqfYJiNn3zx5Jqcx4XXfD+0eBpx9zG5A+XI2w5LpM3XMFcnymBv4O4yJAXiwuj9U++bB5LbRAZ5GtDJTOeDT96P3qgSPY/7xYk1HB3Cu4xoKwHYGjqMJ7NBGwhrB6z5h51aYJkCu7kPci867EAKKGah+5h73c9tjG7d4r2fONorbG9iqJuift5a1Z52fYg+DWIx1I0szMYw5frQQTzEF/PmMYC0D5TJ5hEz++kKX4tuZHa6vJ5TPL6alWdsFAjILHN2RjfAKtsgvRW7k1irCMVd5sa7eE12uGoFLvwbP+bPA6WUjU7Pbe06Bui5jBxVVI9axWqZdHc1QAZCNA2iAeJnIGHUR5fMF4+8zPv3v7zj/9wf1f/Y85ZVB1HE1x7B2wmL7Evt6t69n5PPA+JDLRGYqBDI85nh2l/GWUfvIPw9AWivCVvj/hZl66WYO03lh5Z+YUDNYhFKQXzlC3T+fyYACHtKcX0bkC7WfYWE7Sg3U38V1J0jdC7uDs42f7f1557A1rDCA2QCRYmpsrJyuq7t7mWfJkOsydBYezfMsPjaOe4eOjGkIPLZDwvq//crvauqdGZSmTu01Yd3bAheB/OXM57ZszFCrax09SPvHzcARx091NJfvYyHDdZ4auxyYpYc9k83UCKGzrEjtwH3cn5F+e+f5eJ/h2Zz/3/bebEmyI1kSU/ezxZZZALrvMk98GBH+/2fwA/gBFJIy5OV0A1WZGREnzuLOB1M190CPDKUr+TKSbiIQAFWZsZzN1dVU1VJG/x8/nhiTcLOxhvUYO79/FMAM+HvF24xwm82RL2dksudBfj0/xUIpDzKzlSt2WF0FpEzNpD0rDCAuzn4HtTZD8E0d+GxxMHM6uhzkp8vbTfvT7j3f5yLsThmuwxPLVBsBpPkLoSw6QAGJT+Lz9I9t63EwnZ1yBtm+VbBzntkSrtlGLnAOwMYqELjWIupz6CPJFCB2Q47987mAXaAs7jX7x5ZWnmcGXa8eEePxG9nYoHyvphqoxcj/Dl10UwEGMtTXO8Ifb86ueIvvcHAg5C16/n1Q21qsCo+3ZvB6gLPAE893ENsSYzEuAs8ayJ2tb4EVmWRWRXzsPirNW7PMoZN7M0yTLfJKxFC0jL9fKGBJbUTlJQYDIR4KDvB8VMeRoEhxIwYqq+iiEIusgKxzfv/4h8/tbFYdS8IQZ99w9DRrCsRJeywQ1nXOBOdlqQKdk+lnxXyLxau0me5QFzOedupTe7s+xBpuW7ke63nb2rRoU1Xf04BdOwJ9im+RS5daOz/uul/ITnu+5rr5teoMuMCbALWeFXyW5MdCQFfOkZ8fdgO83SuHtuQGAONj4vMknH+yPm0CAcXe6LhLorU6d9F3mUrt79bN2lu3xYKTN+6wDqNpi46MLbg9EPaEdJisXSotGwXkge2CdD4ikmVK04DuP75bW5i5RfFjRjpxRuLhYPq96x05Z/TfM5knBgHPK3rOTLUJCIs7kUEg0/24ettSejHtEOPHbOxcJYTdLxPjRBafZKBpEiFn4KHFEByHxdDIPRszNER3HOdpsLbty8GMDduO7a8XxNnASpo69D/oHk1k4pinZ+HQR3ufEBxYp8vR2DWGZec+Is4CvjY3V8HBalfHmwHDsNsUkP08WDDzulv237YjTz32X0/ov9+BulvA6SeRrV0fl7btBnZjNAPLGhFvZqhQcHYCtSt0mI7/1xs0zQIAwo8r0vloLdNk7VQH8TymIWRg0yJpoDXeDAjKjdzd1dpfSQAAbpBJREFUVxuFlg+Q9rP/+9VAzp2Glc3atsPfr/aAuOeyOQHs/MrtKsE0gPh2sxiadS+TZfj3nid5tnmPYd8J5E/WQl42pNM3e715Z1j2boCKICq+3ZBeTxYlEwKitHOjJtqsZUF/LAbKtr20UHmtADCpQsoItxn7t7Pdrx93xFvylm9WXFIgyOsiQoIZMK4V0KE8I53Zfnm/2kM/Jbbp99JC1eaRi1/RGRN4Uobh5ha1DWvgqtnDYn8/W3WciVyobAvlx2LswLpwAdgLM6HWkdieP4v+5RTWwgEYm1IxZv4RNO2A7XAfD7asxpSsBIdqRUrLdb+7pg85I398VHmFZHakz1I7Wk5LXzDJOkqOoUUtBiCyXYZor6XYDP29HJZkMjUqTHosF7Enk6iEwYBF4DM0o4BTuT49LoThuPnx4O/tpf0NmMYsBM61TYUByhk4HFxLBwA58f3IWkqAb7PskxEIIKszjvZ7Dqw3Bw0O9tgCRdcZ6O97xpDwuBMEYujLcQ8kHw5TMa2gAlPA0/g5BzE8vzp2SLmAZJlyqvMMAG6uEKDPyT6bgs3T8/VXA5BcGR6krbTqSlt/HEqrWG7s+2zXlgwsgLNuDvjpis+p6A6x0JjSJzc4qW3/FBfjbPJe2Gqxe7x3ZXDBMPqmK2TKBoaR15T0qny2cmORUb2eridtSDqU77RtxbChPFA937gZsetocFAYpump/SttbyAozdIE8lzo/sA0lSSCn6jPMYDS72jn0XWMzeCFk7ObKPLr2YDSm2XFObBhOygfJ2cC1D6Mt5kD6o250xzhzFy9MD+MFYnWKrNZwcHYp8PA3LhnHUg+H316Q6JWKKu1eiAjOS9lB8wWLwALj2b71ca17Vj/0y/Y/0Lm8XJy1g7J4kvM3dpj/+tr0axFM0dAM3YVK7OTRXosFs/CeI5Mhs2mqhRtYv/HzVivdUf3tjiDlE4jQkbJBJzIpobAubVihgwAIQQ3cABAOlhGYg4B3dUiYoy55HSNQ49u3rBPAdtlwH4y80CgQQIhkN3pkU4WuIyOWsEPm/DS/e3NQEMfvb0qE0+cLQLGZx5nG4vnusqus/fhgyeNHedQU5+22+xez4acjJ2V4SXc7DMoqzGsuwVqS8N3Pnjun/Iat2+H4kC/2SKbzhP2v74gvdjfBbY4NE4u7HuZZBEC9l9f7JrY2W44yUhiQeLYyV5qwxMj0pHX2sNMLxYNMyH9eimgjfeNRcCsPvHEQVoXbeHuO+TL0cOVw53hvNtux0/fj4BMkzbiTUYCjsg7HYoekPpdv8fYAcgvJ2NPxPoxzsjE3tQhkv13HU/ORf8XgoV9U87gnQJNAdGOXcxPtpxRnwVcmcM+U9qhO7BQTl8u7VqEUFq0WmCriI/SOsvennR2sOsgcXs9wN7F8XpuKa+uanPGy9kWAE0KqT5fOCv4WYtfkTt47MtOlkhgUu9ZMYIYBwN/BLRaqMRAOjMkNkffV8dgHIoeLpH14Pl9YnoSTQMbsw637aklqM/seX5979lyYWDbVgs+4CyTO8913AVGqMfyUXuKtwG8xQbANqfzo8RxAIVl6ywEOVzO9t/Ho2sDw+lorxejtegEoA4Hd+tmOYErzWttSgjD4ODPPxuvjXA+FaAqAwLIEHWx+i5ks+oxcXSR6/U09ixMk7Nj0u7Z4aDuVe7pytDjjDFgzxu5sjkSToHmCCSENM7tMLFNa0YNn4gjVlpmJzrdPZex75ElSdBGqYvUez6zp84kVxswdxCnaoOi+1DHSwC4dnSL6RR7PoylPS85SBUKjnW1jSCPu7N/OZXJJH9OKNB5o4Nfxri8Jzs3QAn7FsZaSxzQz9SnAGD+7ZsvBL54KHCUbd18nJwVg9pGVSSFxbWwVbSsDHk1YCgwKdYnj2XOq+uDcrYRVvNadFedAZ/068VAntpqas2xNaWRcRZVY+PnLLzYHpz7K+n/GAnIGFIst3GnBdNu4MjA2/R69FZu2I3divfVZxOHxQwoYl48M3Hdyk5T7h/OCI4fBLpq64l2Tsky6vbddYVqPQoQIsJH2xlASgZUuuh5c+FBhqDrCFxXO4czBdiTTUSBRvjFgPFtQ1wT+uuK+McHI17se3XvD4vT2Y3VygRbeTKWJ58O3ia39js1oFeaaY5TAVUhGBBkizYuG3bOWQ73xeJ7BFClxRw6z9Bz1rYWy64bZxavrnU0ZowPlWpkXx56C6gOwc0TYTXDRPdmZptEd7st6MY6psNoUoHH4huGcL3bddh1T7EpphU1xzcWG42WxwH9j7ksYuturOi8GoB+mNkKMfh3zQdGLqVcHMJaYOSMliO5i77pgdqrvM8sn49tT+Zb2vnabfqGXltGEf4dCM7ccTwOPiEoLCs3cbZzxjiYXOPbpUzxyLkYS9QOFitI5jGoq9B3xZ2qaSAv5/LgBv5RdP3PFltheZ7LA3zdiutz34teToG5p6Mv6B6Y60PtU3EMqoWskosxcCEQ06OF+HZ/XuTEUuhn1LpN2YKSXYdYMSRq3Ykh0e+yXeth22qVCQCzTW1mB2r9zmZMy/NcJmUQTAJ4Cir23DYBMX1+AE95dfpz/TzHdnmWHIFb7SwVW6qJFZ7/t2322RRBs+9uSnG3pYwAcoWK0dL1d2CckAJ7ZcrI1vbPZAc9RofmEh3LPNvMXIwWSZOvtzIhhfqt8Mur/bfauTW4AkomH124FpC9FODvYdKFGfZ2uyadaKNRmRJkZlI7XLo8N/ioHbsXcOXTTFzDtpc505Ie8LnheX3aHGn6zJ7MpOLHtNLqbRtb23TWcsORq/skHA/PIE33ylpy/vz8a/yeGD/dP9ocKW+RmxD9XODwCV2frjMc+nI/6M8AM3l8XP3Yh+OxfGZvLRfNp+5N5SZ6vI8bhcrYN41N9BxD6YIzM0k/UZ9jAEmBgjsdhYUq+d9NIWRGTMu3lAUpZ4THXli+lNny2X0Rt9ZScbVZ+80WlXSxWZSZ/w7L6g7bcF+sLctJGPnI0FiBGgKgdDGzR566EklB11C82yITFgNDeeiQDmMJYb7N6L/fzWywrEiXk8WKaPZtxx0GJ1po1rF/d7lcUzIWiW3zwFygcHuQsUNhSyrWR/N9BSLSoTeGlf+v9ipgwDydD0gvB+x/eTGnLVk3E/ZzTrFYWy0a0lySvdtPg4GbqcPtX0fExQBx4sSJPPV03ZpT1iJ3VmtHrjvk+EW2iJ5MZjBkm9WbzwcD0QziRrYZvfb5StRP//5A/Pubazj3y8Q4mGzzfqmRs2DwldfAgP3bobQT2abfXycb80ajQ/z9HR3H5FnLKzgTKZOCWDHNu1VkjrFYO/WkBIIvZ8bp2LSQdDkicsyZAst13OP7za7pgzHE0DVNR3PU+MWhL9l5gIG7ebWQ6L+9GShULlrOPiM4n6aSu6lMMzFvzByz++dR2L0qziQr1P1gs6c9XP04uYs/zA9nAoGymRGrl4+T3bPLivj3twLqtFAD9tmXFeH96ptI30je59J5uM9lAsC227OHaf8etPqJCkNfmIR60RiHEu0iQ0Xai2bL9W7GqmkaR9bn1ZQCRWEIjGwbsDK7zg1tZGnEjlBzmGls0ALuAdHTWAJ09Txz8wqBIkdx5VwvgskZC5vpS3BdM0YCF2y92jGixlEtatciSpBPZpOMiAMoxdxUHRqsS4lY0RQQOaQrF7WCnPPt7mDQc/N0rfmzciPoDT5rt54nHGJpxz/NGZY8gpucTNBXay2tbfxwkJb35G1YAWLXbVUMZRjJ7i2r57ppxJxyIYNyDDlbF4AzVWKm1VL38yT2MtnntY0LR81Jx6prGSj6TEoVglrsBL3hwBzJnJ7BP6+NcDjYhke618zNkrSs1WYsaPwbUMw2lET5dZMMzGXJQsRgSq/HqCUzKFX3gxz4+14AmzYvXVcmfVSpAk8AD4BMNwB8Yo0XdbgOpvVn6+JShDCOdvzEmF7O5ToQgJbsoALDT2YVXleuGVw3awPLT+Hu5mrjKAnBT9SnAGB4v/nuPhNcCWjhPsNT8CeaLZbVWsFiCebFFsLIGI/eGKNwfyBe74jvJhQOs2l6NjJyJui3FrBN9AgGJqTn45zS8FjR/f5hzJxHTwR/Hwy9gTUCUQE0m/DQlf/W9JGeTOA7WSrON9bP2pxdM18gwcFqOtnClV6PBiDoyrRMuurks4UmNtUG2x8M+Mi5q+krkz0Ugi5kjh7LpwPibTH27aHdJOxmlkvvbtowzcjNXWefbejMSXs6eIsth2C6yc5unO7tYZEvS0KUno5ASVM4AEBuqfTt5LmDygtU+z1NBoqwWUZh/Ljx8wTE60zmUmPYTAeZp87ND/u//cLRfxFRGYCj5QDmwX4m0ugQko21666LMZKnCWHd0H2/mdbN41KoyzmMHhpubARH87FN7P9EGEjP2TYWIWD91wvNULsDV7s+YhnlJsZ76Czw+Y93Z+Zk3PDZzoxZ0nzmfLbpLGE3wAq2Re2ckuFTq/X9Wpy062abio+5tGv5WZzBvz88qNnHFeralNFCD6OZ+Wza4AHuKkekvIPfE5JoHA/GgtJ8ko+mk816VnRmtgJg7zeZ4z7MD5pLInA6+uYkp+SaM1/IuPiHcXxmln6i0n0urak6pkUCcC2q+14ZQ8pD3f9Mi8TpVAbca7j9zSJavO3Y9z7vE/tOXd9eGAGgCosl66PXUetUzI0YPRpIwjB4G9ejR4Cy0NZZZgIWXDjVurT7mzIBmQXUulQAtIOP7O0rTSvxc1VrzJjnl9etAEQ6SVEzhpqQkpMHcHuMSR2noWs2ZQO7MZawaMDatX3n0S/+u9J7Vi1Xf7nq+CtaxVt/BIah7/w8hsvZ2r8Cy3oO6HyIJVYosZhTuTrl6M1Vnp3MJwoGl0GkAhHOAKr6SmcoI5Fa2iEgnE4+TSVpqkRKxW1c30M6BnRNy/Djm4AQTZrQ92UmtT6XDFC8lsM4Fga8Ps8yG8mZ3XUWuxI7nw+t9rHiUvz5o/PjG4FY7lsx6nLFaxOybT49xw1Yah3Xkgy7UJ/Avb9+ytbW1jo9VGBU349snj5LFmtJNs+MIY+nPMdyvVl0jeX/VWkPw+dcwJ9SSOeHuRgx9NbaWTRHNtvDmwL1oLiWEID7A+m3iwvhA1s3eujnE1mF+WEL3cARVTnbHF+2aKNmfkpr9YMXeKoYB6fuk7edM8FXUOgzA2xDD9cpxR+30go+jrZQHydjVgTSLibwDIrBAQBlHAZGwOy2SHYPajoAWwznB/BytsUeMObm9iiRKWRr0qG31i+/j8Bxfj0TbI+mx3ub7TyQ+ctjbwaQlJEvR9PIdRPiljgqbnUn6X6e0L/NCP/PO/Z//dUcw330B3Ug4IjzZoA1RqSBD7sEO059NLZ0tzFputDjj2uZ4zx0AHL5npcD+v/6Xmbp7tKJ7WWm7W6sYPfxcOARl+QTZMAxbcrT00iyeHuUqTCHsXyfdSvXDc9Fej0VZpJRNHno6fTtmW/Iubcx2oSU88GO47wAlB5oAkp4LOhuR88e1KZoPw3oUsLwHz98nq4CnkMNWu4WvJtOB47/27H/dgHocMaDBqoll/tn5Mzcl1NhnrjAhBhL7ApA4MoFtCOoDcFec+Z1oXiVBGPZWfHjZiy33PTS+1xOxhgCABn+PD98k2UHu1rsqfcV2y0G1KaJLE8PPY+2oRnLgpnVukx0FrJFXr9PCNze/gkU/GxJzC12AbDvOPS+ePqxBUX+Xfe0APoiHSICoyFcDjBMHl4scb4Cfk3nQ3ZQbdE4ldnDNFrkbSkCd+xAphSgavVmZJeZWHYcJ3qohUnxeV5C0S2pdbWtz2yFnMgSzgNsAcfyzE078qP8jt7PTlFAzrboquUWhr6AeDF0ijEZOmfEPJsRKFMu6NwNALJIgmkkK0cGKSVv39csjxybNj948RZwuX7ZuouVxm5H0cCFWBjTvrfJE4/FQDBDxPX3PpGlzpFbVnafissX+16Aq1q0QGGiGGYdwO/RGUgVIBdr7b/XdQhnbpYEJpfVzTs61g466TDN0vAphogj8Ix5YyxMCHad9j3yTNfxjdewJF/uRK40o2TN/TqCsYp5T8YGJzOC1Vl9/t8ygMiYxE0W9t03Ew6UpFXVce9oUklbuY4UlbMnhD0U/V1IyPsDrg/MCXawhS/gm5pwPJjOdX7YsyknIFWfKxaHezgeyozuGAojCgN2Do6jYYlyzxDcp2Tn7k+xPv9MfY4BPB1co4MYzWAx9C4oF+uHLiL99uJtq3h9eNRFnrirrFPzc0Y+H8kMdHYBrpstlreZYcwUXD7MxZleDsa26KTrxM+Lu2+U8xbuq7XexFiyfeRtpnEoRpP7UowqB1u4028vrjlK3yz3yeJhbDGzyJe1RF5oJ9/ZhIP8cjZd4FyNl5osey+sO4M9zWmrUGydqfxyKpMtOpvlmhlyjWjsGQBvEUsj1/+4u45u/4VAYdttusZm7IznCir3TTuLEHziAwBEAto0cIFhW9Z0agaC82FypioPZvoJMgrxe6bL0R6Mm5k20suRrJLtfPbT4LrG3EePEgJgIP5hG46kbLotmXOaMoLA8VFhXn0GrrSF6DtzpO8Z8Y0MZ7C4GQCI9xXdbTFWdxr83HaaCSygMfQWRTR0bp5wJrSPHiTtLWY99Pdqh77TFax5uF1EPvRmeIh0bXfBF27XoDLEOh16yyycBjPHAKW925umMCls+rEWXd+8mH52LVNvnGUUSJbZSq0wvm+4FW2ia1fFJLJ9mM9k5andtRgbaijJVvpxJHgGQNbfdE7eyquiD/JxKu5JMRsCpXJm3hmGGz4HAOPlXHbvdCV7MDWfK67bOR795zw3bJqeW0liLJQWME00K1QszrKWdpaMEmK+9P8ygyjCoo73kN7KheOmT/LQZrV8ZUQAiuHidCwsh1poZNzCYXKxvo+vEwMmtkLaSF/0uVD++TxIXybXMM/7U4uV14UAk4+VY3ahstIk6rcQ58cTOyTXp46xNH6ZgCOMg5+rPM+2cEu7SB2kjRIrACjLoMDv4SYVtk8zgZ9PzQCgiJSnNrL0ewJdBAlioWQiUTtXxyccj3aefCMyF/nBunqb9mm0HyVWbq5R+5gEiQwN0gzKkPPEyvGY+Dg8xa50XTHhiEFmxyMvVWhz1EaXG0QZMnS9q735WMpGqC66nmWG8ra62G5ulJANmIbDVOQbiwFWzd/2ecEu6+j8OgzEAB63JBmFWHOgsK5V8oky/UwPHMv9EDW+MRCgV7ORdVxTLq3eP5V3A6QNXld/3nlk0U/W5zSAKfvcTsWzOIKtnIGm+7PWmUfFgAsYF830y4sLy/NxcvARci7hyoAxbzpIwZyd8fuHxXkwqDZdpuISzZluQpvAEX/crC2oz5foXFV0R2cjuRyYpeSGDshduu4OTk1DN5RJF+rdh2A/cxwd0InFQBeNCZNRZqDeDXDtYzqNJQJnt0y7fDIzhYued7Yuq8xCi6cpi2riMc59tFY0gO73DwKgg+sbxcDGHzc/tukyOohNpwNbs0VTdfj7WkKC2erPh5FMa9GfAfDzjJwRrrOPpTP947F8XwKkdDmge3u4DkfxOfHtZsCRnxHB4m7EjsWZWZJdMK3jZMaTPLGNOnB2LWf9br8cLBzbNX3Wqk9H09bILSyWN9F8ovfOITgjlvvOADrbxdLMAUB8s/Y2ht41gwiceyu2QfpLnoc89D6WzT/faXLdZxDT+dgRv18R/3h3M0/48WEGnG8XTg25uVs/zIsFjhOcpdeTyyPi7+/2ubiZCrfZrmM+ROPHzTZFhxHh42bg/bEU2YBa43IJk50M81okDFVQeRb4EXvyWCxFQMyLHOvSxUhHvDIsNQTrFmxlE+K61/Pp/59ZwNLciQUkW+SgZ+h9ruefwYsvTkBh+NzpLH3eWNzMw1hCZd3ZWwCbdNI+xktB1RT/Wybg5ourmyXOp/J6ci6yY/Dk4qz0YF4yiaRkDKG+o1ibuo0nvaBAbwUSAFSLVufmAWXCuaNSLlOClHDU/R6Lng4Vk1YzXAKkAFxnRdCTb/cCLgBbmBcDjXJcuhEj2kYI/GzOXLF9mqVpr9qjzijKDa6fJ1PlLU9tArRp0Z/pnKsVn7K3Yv08UGOXFbESbZPh0TsCM9NUpm8Mw7POTuPbdC3oeIrNTHuZ4qGNj1rNYgcJ8CBwpetJGwy1qPkZjc0ORe+6LsVg8qf3CIepXNdky1xr1/ce1pznuQAooDJ6BDrG1wpoh+fsQoFVAjPPCYQx+/Vn133s0S2M6/HXrplF3otlukoqm0R2x3ReUGEhC+3eXQqS94QkjW01kk4Oaml/veX8k/U5AAi4tieLNeDuOI8cu3Wu2ECBKoob4/cPz1nS3wdq6iwipLMFQzEU1DZpZq0vMh1/bt2M8fr9w4GM9FMuSh8tINqND4+16P90UMSS5FyMLGpvaurJYSzTLLioZV7k+TDRoBGdrVGIbe4IiOWOfCyI17ubPhBho8wIANROjzczNsTr3cwP7zf7eWkPD4OzPN0fV//Mke3k8NjQ/+2jHDeAY9K4OL0ak6kWVzqNNq0iWXAzItD9uPsEiPXbiO3UlZDoZJmO3qrVpAi2YhHDU3xH9/3Djh+BTxpMv5nOk7eZZXZw0K3ZuOsObMnZQDvP3E1rR5TgIcZiB8EWODoyo39/x/CHHXt74CSfqhI5m9km0wSXGwgQ5j4aY7msnjeYzgdeh7s5zNmGDI/V7gEFVr/f/XrLMVj4dowWRSONl9o4ey5SB94L9fg0hYQDMLPJZAxcvpyMle7Jvp8PxTAyDraRIvCUVjFPo7WApUNlVEs+mK42H0ZnycOeDPQR+ClaKWy7Mb+cpuB5gN/foBBn10KlZJmAIRjoS7loBDXF4fVczqmYJQJLb6FNo3UjxCTEWB6yn2QAIeaFD1p3x3KxzfpvxaUMfQl+1vfkgu/jpWTqAApAigwu1t+JHVEpEkPGrC4+s2sERgJ6bhIQu6b3FmMio4qYCH0HHS8tyn1fPtdmXQ9vRWv6SA1+970wjfpvmT1SpXESeAWK83XfOWKrK6BEoDntz0CSbIvrM6VJ0/mQtkv3kwCmQEi9wAvc6zhIZyWArO+rYyBA0/cGxvRaMuCEAhpcc9f3pf3c9/Y9xeYIuBIkuOs47SXXT4BN+j0BFoEcPu+dceL75nX1CJswFlDnOXs8vgamusKyKi9R51XXyuNRgLeOkRhgbmZ9lrMYv9h5tuM/mLLGodwLuub0vrpWBYDp6nVnMYB/cOeqTSsDS91K1XcJf4I9+uyubezLfVB//zryRptUmZr4rMg0AtWGpaeZz/XrjoVYMjaauZEE2BZwzq7P0Numo34mkDX8zCi4TwFAsT3u3iMjF+4Pz+yKjKpwhlCOX9Kk+UQGhq2VdD4WoT13YOho2oAYQQuRDm9Xi5HghAKPTlEL9f7whcJZvGBzTQ1sRYY436hT3F0vJgYzftw4pcKYwHy0WJl0ObhIXgxlWCxEODwWA2MDZwKnhO3ffjEwdF9KTMa6WZvsOD25lxWMHHQj5Izt29GmYqj9dSy5dWrZhodNrtAsVGt592Xh1U6hyr8zt7IxVvnIfLapx37qkQ4j9l/PiLfF9XXbv74ijR32QwAyzDTSRzNWHKpsoxjtXC/WHtx+OZnTle3HfDo4CxfW3ca7zas7qPvvd480yTG6azZzXq8FPieP9cl15EQwB3QeOsTZTB/GmoLZhAf+DhmlPdsM3stobGow00rYLb/SnecyU7iWciuM3rLZta427smCx91wMfQl3mXoS+g3Y3nSoUf38SCIs+MY7g/bJFWMd6aoXC1ebUSyYnQe3KBMZB6/f3CKiE3syQpoFcN3fxiol571sZRJPgTUkmlY4HssJhYaRZTb6fc39YBi6lxEnTOzB8t1mL+ZNESdBITgQCQfxvIaAr162M0Pbx15fif1inlZ2CbJdk1+pgRqYjDBtYAAQU8IoTACakEJqIkdYBs4Z410y4WFStkz6Tw3Le2umfIWnYCRApm1iGnB488XsTq1oF3krOCy2IvJ8VgJgRUZWJyVrkBVDVC0MNcTUgTE1CJeVmMnxIip5dhV85n1O2o57oktw70S6YfiJo3dc2uV39dbfAScgYJ+gW531taau1iFFpNZ8RafFmtdr2rxRwPd4XgszJfatpxLnOtjDJTj4yYTasTpvtX14M5xgjPUgBT4h9FmYRiK+L/OgquihWQuUcs2y9VMQBPG0QCr2LAarBPIeHtbGy5+D43ZK47oYlioW8f++4mtfF0zMgRVn8+7AutqDKY2GQDyytnCoZI6yN2rY1XfE0DZhIiR1DXL69Gnb/impQBLv+aq+z0cJuoKC5NawPf+vNms2EWPehmHEkuTqok/Aq/SCKr9PNo5zsvqesbs2sZQJB41W/9P1ucYwLcP7ib3kvv3fuWi2Fnr9Xo3t66Yui76zkG5XxLm52n0sVbSBaZp8J/Nh9EWfC666bcXxB/mctSCp/aVFt1wfzgQTC9HAwczmcDLocwj5gnSLNb9Ly/WDn49sc3HgGVOV4g/bp49GPbsjEn69WITNn7/cGYwzAu699lBVJgf1nYTI5oz9l+58Gss0J0XNlvocd4cNKYqzNoX6RiNdQKcGQvrbgCqj/5n3Y8rI3B4sxEgepuO36f/YbqvOK8eXo3HYoaTlDF+39AticdzReCkkPRix3Q/j1j//cUzDjuGSCvSJ/MzY6ta6YeharcnIBHA5Iz0esL+7Vi0fh0F34rnOVq71PWIQJnBSzCoDQrAVuqBujRmCHbv9p3D3XIN8aAOTeHOgF3PDxod5JJmVmKahtL6lh5VbfAqxNiZBRqo4rwZcANggdWLbTaUg7fxmvztYmBPGwvAY2lyT+1jSq659PggseyzbT7ywUb/pddT2TQdJwPE224LGd3V4f6wDECyHOE2I/z4wP6XF4uhedh7uqZXus/Xi+tr89CbbjalskFQZAwBp8wHdv1WOYR3yxLFYTLQp+eDZBWR9/v7tdwvh6m0lN+vn3nCwSdqrNXOXgsGd+t2sfHhvy5PC6WYNg2gf3KsMhTWWubjExiUsF46LQdGFcPhGYA8nk8ARmPH1G6uY1R0Lo+Hwq4M45NezfP2UtGHyXjg31cuyLq1zcXRtHVVltpeJif44qrfAYqOTYBCDBC10962Brjw7s+LLvVmCnUWqMnMlavZFo2CQy76TY/D2TYP+YU0WWS1ckoVYMgFgIpl7Xt3Zz9NQFF7U7mAOv7M4FPsz9P51Lmg5i4o0knnp+vK95omzkHmdbGsDnIAlDm6j0f5nvzH9YDTaJ+n70rmpY6LzketxT0IwMVyPdRAkn+WczYtbn1udV9UgM/lBHKtq/3Zd+4YdsCmwGUCsMLApaKTlGNdmybp7jT+TtfAupUJILrWgLJJEbnF+8syCPkZOAPYuw213nSvzmVOJV5LBiJNwmE2pBuelIawlo2IPkuYRoTjwV3beZ6fW9A/Uf3/94/8d2pZgfOp6HVGY60UKZF/fa3iEqil28ytlaW5Wzcb+RaM0TP9y0JH4IouXY0lkrvwRHfm7QEFxYbbbAs2QYFeO10Opr0ioxLnVKaUdB1QM3hqM8dqKgXZzXC9I3+72N/vyZ2tAqli25TVFh7FSVq3cnMXkF+PiMqkmkZoPFv33SJ19peDhQzfHoUmXmfEjztbjpu1ACvnqGXMceqDnNgywVBXV6ZoGBvY/e3d2oBD5+xZHiLz2HgxEixh3SwqJWXgjzd0IWB9HbGdIvp3QIHNYd6wv0zIW0L3PiM++hJcHYK7PdP5YN87obiX9Vn78nlCSki/vtiM4T+u6D6ym2VyF5G7hBBNS9j/cfPWLBI8dsb0mjYlIk+js5xhXpFOE2NIMsJjxf7r2X4+sb15HN21bGCaWZdDb3OW3+enBQ6Aj19Lv1zs3DAXMR8YiXKbzVkr+QCZZY3iw549WkmawPSLXXvd7x8cPdSVtmuy6zG+WbRKOo0mfwgB8XZ1t7e14yfGBnXcXPXov3+U4GUxlwSRSHz4vH3YuDHq+cyZv/tmRhIMZWaCbH/+dvGAakU6iXVXlwB9Zxs/OYYJjuRwzpdT1a4zR3NYN3todsbi5DHag1nzvsks5G2zP/9EKWg16Bmnh+26ASADmBPyYg//vG4IdcgyYK085f6paCLzaAuCszzPhWXMJR4CXVeE5mMHPDYbD3WYgH2D5o9C6866WBjtupojVu+t1pwW5Fi1qjvTjuX3D2PvHrZIZn0XLZI5AWv+x++jVpq+axed5QiKBgPKKLqeI+h8FFiHvMwIkUxh4NixbQM6lFFnFUOXN2ML5fYVS+IsYohAz8kTt9n+PT+Q14e5TevZzCF68LDMU+g75Pvdzok0oAKZg8UUeVuTgEexM3YdjtD4OJ+dTG2YjCg+BUNMbKQWcStsVxYpot+9MRIJar3GJ/DqBpsQkHtjrnO6e2i5xQbN5RxQK+9mIjK1+bFQt27nI11v9lqV+9mZNwUxT5p8UrR3fu8QpPl7aiMgVlkSiG0DehR5AFCYPm6cHYBVa2E9CtCxh1533YtzHijvKUMPuzQaSYlIEF/LPHQPSa9JYBlqNjRE5LwhhO4ZCPLz67uLfRWAtQ1StSmS+UOSFm4mzZFMgF6t9T9TnwKA4ZdX261rrNR99l1PuM1I02htMbJy+XwERoWPRmAXw1UiIzJBpC0ssWiDgAIaYe1WEzjbopJ+OVmra1ktHkQLGk0AYUtIU/QsvP3lgLjsxlIuyYNdAw+6mAykjPztYu043YRsmaK3yIFwvVv0AAGYvgcSIAFq7iyuJmfquTh7FpnhwuOAMD8Q2U6shdnpl4sFPM/r04XormG1CLUjXFYEgej7w8Z/xWiRNlsiwzMxhDkZaO8C4mPDfhqNrdM5Irub1WKPR4T7A/3HAamznc/+ejAWa9nQ/XErrNfQ0b27F/B75UQVHefjiLDbZ0+vzLebN2v1jpbT2K27T2rJHOkWszFnDsJjhOntNmMhAw0rBN4CF/GPdzt204juj3eLgWEAtAHBzQFI/P5hES7n0cBvzkA/If7+jphPHmht+sL9ydXtbejO5kSHZIwbTqbLE1DVyD2ISX2/Iv/6SqNKX03Y4fXgbrNgMTtdLOPTth2ROld3JStyQw8Vso/5fERc9gL+eB1LYqA5w/l8tAWgdtgvK+L71QFdvXNGzj7qLdxmW1SmsWwAR071OR3o5q8MXjEg3OznvZ0sc0cXCzDe9mIMAIqO9XKy3+O9EPre3K+fqRgLGyQ9mFgHb/PBZwOHZA7TOk5DYnFvRQIlysLbNxlAKq5DLuAOUHjswzQWHWDUtR+AHLxNpLZ0vt8N5NRBsQJzD7W/9Pa5TAORrujPWsU+Fu3dEAoA4Gf2yQ9VZEc4HYveUM/ydbHPtTHkX4BQWYd69knoHilbkN/C2+MEKVvVBksJGiWnSB5b6A185fd3e7/KTYxpst9ZFiBWWr/D5Bm2mpLhLl2yumBLz1mgrHb2+vQ580LgkUAWimBBQF2u7tgVljll6+AoBmaHHaPDVE0HyQWw+qnMzhK73lJrhFzMdfW9rU37CiQDpGEckN8/7FkisCHQsm1AoJZRx1EbAHcN63ugMIc5Q4A1zXfPNvRII+U+AnDnrD4z2TVNgwly0vPeMUDcIUyBWkGbHhIUk8R7uZjLMskXXsu6t92sVOkRgfLcJQNvI/jICoZQru8gvSJKW7nSz9o5NdzgRqdK46jvi2BxQ2lZijlKnyubnCsMfQGfP1mfAoDahZS4F2q6rneLcSFAC9sOzA/70swPS78ciyi9MxYAy+rtNZtaQEE4tTw2y5UXiHbQAB2mGfjxDhwPSOfJZqpyYfdxZwSLZlLghAUCA4+koFNRsTTGToj+Ni1NOg6cNVuiMPI4IB1GRAdNO8Iy+2IIfvd4W4oOMlC3tS5lEZbb8zA5Oyb9Vno5IF4f1mofBwTA2q5jh/7vV7bOAhBGoN+dlcmdaeEUamyayx3xfbYQ4tuDrzUZkNsS9vOI3EV0Vxvx41Mu7gnrv70iTR3inoEABAVCV21NReHkA920b3ekC8OmjzYaLw9dCWDuO8Trw0b3AWRSOYg9JOSXA0Ie2W43c00OAfH+wP7tjDxExMXAamQ7evvliO5q3zsf7PPHuUgW8vlINjHbMXhQpxoC8sXY5Tx0iLfVwL5AEfWL8e1GY0SPdB4R1gREIC6rmXrmFXHdyLr2DhS12bHZwdamD4sxhzhaDmb6dvZgaT9G226yh/d7kTnQ4JSH3gDV+Yh0GtD9/uEuX5cakF2NtxlpHBA+7v7AC48F+ZcXhO/vtlmQbpE6Isk1wrw4qxgYeYRMreT9YQByt3nWagmH2f7bp/okm7ds7WULQfaJD9QTmgsTTzFTyNkmfWTTEzkInB/WItbD/lbYxs+Wg799t5yw4wFIW8kVIxiz+7uz3blkDmQkTVTelxay2rdqVQLwuBGBShosnpgFvmaoQXPOCJ0BY88dEyMjFzBQWETFpjC/MLjmMsKCPSPC2DnTFvpiDPDPLI3dUOkrcy7gVsyKWlfSEZJdkt7PImxQWqZqI9I1a1rOza4NuXPrAG7gKRsRx8Ozfu54qIBnKsdV4NC1Yhl5efjxD4cD8sdHcc9Ktycg3RVwZfEvsTAydIDmbCA8TKPp/TxKJgN9gAGh6hiS6TXHcWUsCPZzWc7ifTf2W+d+YBdJbV2gjCYEDEDSWS/mr85oRA7Iaj+SjdK/izO3tEUzUFhS/wwDslhl5d7pvG87tLHJPNZqOcs04cfudqfL9VDavGKBd4aKKwQecJALkitqf9uEnMGAUv35RRYMfeWE34E1W4eDLKrfFyFTKzuX5wCo/SXjniUjoGzC/1/lm9bqdbnpeBpNt5vzOr1/cPPFbgI3Y94SrkCpGEI3MP1EfY4B7Hvg/vCHts09rZwyqy22eRqA374VKvU6I4qRYEunhJOyRbTZ3NTMsFjNRnWt4flYwFo2AXo4myFEIAuZbhqCuXQwMBceGzLz3sJOxuLHB52gu+eU5fPRmQ4xJRYUvXNCB4MYYQxLXDaLcxl7H+nlQuJpNDAEGFuIDQqOfWoTwhbjkJI5cf9OxqrvTLsI2HffdgNS1wfiW2J48GRA5bEiHSbEd+qn+ogcYaG/6wNxT66ZdFNGYCwL2+LxQfE+Ha4e4wGguz6wn87orxv6P24G+pWNR+e2WnjhsZmhZc/G/G07IlmoSF1gmBfX/nU/rkgE/j5Hdrd5x4jBRvfR9ALl5D1W5NQVswZfOyqqYTPtWR4Hkw/omtx2xLeyG85kqvz70sWt6waAsZSJ7enLAfFjtg3HbSWg004PtonJtrmJtxnp3CPqOqYeLn07Wau6T96mtdiijeP7juauBri5Mj1ePoxkF23KTWDb0+Zi87bWLGWy2/q5zMkoCMGna/gsYTHf0i3uya4l6ghdo1rrG/sO4fcfpU0pYLpuxj4zOBvrVlzB0vJOgwFffQeBNrU+5qWMfhOokxlDDAwF+WEucR5+vOqYiJ+svKzUIQ3lIS4NnzRhKQNdrhYnttKogwvT5G05+/mKhZEEQtluaklpkeptIXYQoYUZbCdxwQ/TaC26kA387LG8Ts0SBbv/Ah2+Fv1CNjAGb6s66IL9eehHW+hdML+UBUzAU+ylFnCgZAYmFKDgRgBj/lxb1kXklX+fQ9G0yWk6SXPWFWYlJ/u+wBODFEKw8Op9L+NEe2NLgVyADBlJfz22Uv29eT5dk9l1JauP8UllPnDV2mQ2oc/j1XHSf68bMAB5gzNS1uqNpRXL9jFymQ2MgS7i682ZM4VHi6WTkzRvmzOGT2Pu6mtvY4Dz7VGOoxz10o7CsJKmukij5wHW7kaP3nLNCwHtVkCKXb9kUmtAD8CnjwikssWLdfOsxkCXf14so9W1hN62Dc6ImSM7lszMjgB93exeBcjsZ6SP6zOTJkDNmcn+DK3a2U/Pgq5DzkvpuFQmJRttGBHkU8jZP5M2HWrB6/uFEJD5Ok8zgHmN1bIY1yv+RH1ui0whdqbD1DL+0tPND8DNGMicOfpyNnZlKrlhYioEtMxFuT+Dr/vDMr9Oh6K7U9ZYtUCFeSn5dnSP2tSBonWJ36/GrA2d6dZez6YrOx9t4TodHLDlaXB9VWYrKsyrafIYIO2LW2e5cPlC5oMhy8jZDCtcwOXABDVs5jDl8QqBY+eWciz4+T0g92+/mwaNrcncd4jLZgwhTQlIZCupg4vMX5MbGVU0CWgKCR8W/RKuxTjgxonjiDyNSIcByMDt3yckTdqQEeFm2UxqxaWLObY1vs3OtzF83r7NmefhYMacSDBWZR56rM2Pm82PBYzdvRydJdW/4w/G4MhY9OMDPg7usfJ664tTmkHFcm7b8bDvYuME30xmcJ4MWM7FFZ0uB04SgYdJS+so40f88WEa1B/mWndn527j6cK+uzEq3MxkEz6o4yPjBcA0fx1ZvWSOapmPlC0nvaA2MXITP82RBnhdjj5n11lCsTZyAueMeL0bm6hYJkUh1frCy4mO6d3fN5/s2MS3m+tI84FZkdJy6f4BoCDpcKPpZFk5UpIsFDW+/xABweBWzXv154CkBp8of8hLkB2CB7kqXsP/oSYvHBk/0RWQkq9XD8W364sGkvqc1Bo5LT7ZgIQDGnVbFCOUi6EhXW8lxHb70/lWa7Vi2HzknJyqAF97Kc9wfcbHw8J7KzNfCXCOBpi6WNpkgF+TMnGEcbSFr4rccuCQU1nMld8n92PtNibgy/PsP58fizOnFmZsOWl1i9cB+7IW5ihxxNr5XJjEaSotT48Qq46DmM7ahFOBfj+GADw/UWBdJgmA7B83S8rO23c79uvibey8Wv6iu0cFwGbTM4aThY+bnjBAjuqg+1nXgMwPvBbCQIlCCKYblHtcQdpAyd6rQL6FZc9wV7ldhOVYaFPE4+KbHgLJTCYsr6uBQj1vGdwMPQtrRtMd1BH5/QPp41rMUrXmT4wvMxT9e1SbNY+GqdnfbXPglh+P4ozWsdTGaWR8UMpP13BeVuSPqz8n8kLHNvWtT/IYuez1GmT1/PrV5hZwWYl3acbxaQqSTUIaSqj0T9TnACBv7iCani4xB2w8kcqO0wcPO6c/zIuDJGfLNMdXkwbYns2H0ZyRv7764iBxP4CnxSidDmVG6svJcvYe5nA1UwhB5jQifNxNt0bBLwBrN2870kSH8G6i+Hh9FCAa+V7nY9EWkEULs4VTo4sFRI6DvR8DkTMnJchVHJa16AQZ6SGzA4DywO87pP/jv2D/44cfT0WPaF6xi/Sljzz0NsaNC5C7OoONrMuMWrFxXJrbOZoejsxuHnoDfn204OVko+C2b5MBP0W+yJV8MLY2vt19Ici6BnTVaRfN7xgXsrN07KbL5NErru2qW8x6KK9bWXxcq8hNSUo2eu04ODhzVjBzfi91l93fP+w9yEzly6lEpwBmwgAsVmbbLQ5mXqEgbptRvbtOLsyMXmFwtRmW2OIfep8eY4z0AemXFwNa0cBV5jWmiRrx+0fZaBFE+gSeg10D8f3O754LWFP7i2aLIGnARIZVQBuA8jK1qcGeCmADGHRtJpIwcyHUzrhe8PlcMJd1NPAn57Za8B/X0vqW1lHgUlo3toyNoYm+MHjU0fWGfJutfUQtbd5M25vf3583oj9RPugeuvyYvXU4FMaAUTGuvdo2bmxSWSi0iIbyHbwlKIDJheopJkX6IjINPiJqfI5UcRZQbfEaMOkfuiw91gUoi7x9ufJ9/HcqBrXTZIfdj4VrpRRdIzZIDBLgQD6vazE8hMj4klAmUPS9GSrSjnSfkW43WwTl0lRSQ+28rRkUGMOTUyqmCddmhXLsAft/ZtrZmDkDvEFrTs+59Ovm4dgOkgTWxP6E+nzF0gJnnIcHDNeZdvWx0TFX1I42PNW1ZYxZdU46m77hsUL8fwc2eo3YlfsmFa1uplYynG1Dmldq1929HP3YFRlEKsBFpqO61NbX8a21bWrzL6ZdzJXr30Fw3/v9VqbakKldNw9+FnPt+ZDbVlhW3h/ein08ykZn3Qqjx1a0WHUZSUJ1XtQO92tGa00smw2XkHFDJ3d05rPTj8u+2/mpNJge4qw/0zN228wdLDCp87mZ8cta3IzHud7KsfqJ+hwA1HSHrULt97nokwjU8oe1CfNhINtiN2/WKLm+s/ZNxZbZD+SyADyoMYyRs1CtnZiVByZqlJEZYgXCo0TOhEeZ/RrUMpJJ42RsVviQm7SzeboD5/Mqn28csP/6YmDtxtiQdbNFexw4downTW3VdUPYd6QXC8XOh4HaPDtxeRx8FJuBHY3mMrCw/vUE5RqG9yvyuqH/t3+x43kckY8D9m9HuoHZ9twZQcPXij9uBgCox8oHthoJYiIDj8O8cvwejTuDgcewrIi31TIAXyakPmD6viIulj2oll2OzO17v7vjOh+Yy0hWLmzW0neG7no3o8SyeQsXgI1oO9nn9NZkCNh/udhN/FhM+ynQSSe23MB5Gtz9HOlQTt9OSC82uzZH01U6gNtTiX0hCyvQHu6LAbYQEL9fbTGcjAmJPz4K6wrYdQUg/fWbBy5nviciMym7QCaU7M7tYUC03lUPNmowfNzseuEONB9GZ9R9mkC2bMr0UjI1tRkzRzpB6NB7XmO8PhDeru5SD/eH6WhhDCAGG+sY3m02dpgX4Pcfz8wSUNo02+7gMA+96wYBuDPYdb8p20PbF0AuLmr3ikGTBo0PS23IAnW64XwqQEqLNxcsG832yT3u7V7AGYX/WYxYrb1Ry05Gh1oQT8bMvsPuJgRn5XQMqSUrCzeBp1gRAQ2Bf4IGdwsuK/LbexGza5qE2lHUrkm/ZDE0JcLCwarCeQVk9Blr80DO5f+3rWKUYsmnc6fxn4CSYjEqF2U9oSNfb0BOiKeTHavHwxd+cHF0UAdYC5SA7h9GyamkMSSIepoYAvjIsifDTP27KRXjjwxhkhi5Psy+WxgHAzJL1XKt4ne8xa9xfQIZOj5k6ByMBANqPhtaEgBl7Onc+Iak2vQBZSKGPreO8/1uTuAKhIa+L5uC48HBhZuRtPnQ2lyDQG0GVGKhGXXj7KCOEdnezGdurVl1E091D/nGiGyxByPLLKVrlZjBPxv/3DdogGcYhml01jffGeotI1R9/+p8KTaLms1MV7SDRMA3hhZ6Tl2k5Ct6ra4zto+5rmr9Pv29NMaUAdjEnL5oNavg6J+tz7eAATsQr2fq57gzlZnjeEC4nIztuz2MWROzJQcjNTy+O2G7KR/owGJGmRaQ+Lcf/r7hdER+Pds0BcAOFiM1tPiVrDsConlB+uVizk62teKHRa3YhWEMZLjNZOWyMynxZj8XFgM9cms+iTMlwOWOQaxa9/f3whJ+WI6gz6YFihaPY9nSt5NlCn7Q3Tw/kN7e0f+nf0P+7VsBbzcyctStuY2c7dn44+rvsf/lxRkpH0MWDCyEndqgx4J0GCwW5TYjfswGriLMPPMwV2//sSL8L/8rwv/5HzxvEftvF6C3/ESMDM7ebfybMY5daaUwWy/966/2WRlJE5bNWu6vZlbBNLo2E4C1YBPZyi4U1pIO58JkJNRj8rp3m+Mbr7NdTzSMINq5ygJNozGd+ow1kMljaRPHm4FC6eckWQA/Wx46G3vHHEbNlDa3OplOtW8BxP/4vbh62R4PV7ZbQvBwZkUi1SAJHY1O19lYx6GAB00QcZ2t3OIKdha4igF4OZcMOH7vfBgL26/ctMuxTAYhW4Kd7V8COA9v16aDTKbYWWdLXUMXjeFfV7uv1tUA6OtLcbfPi/35vZpUcDzYg1wtYAGDTzwYVeF0dE1XztkHxjvgYxsnyyla64S0SAJlUVGEiADd8fBsSqBWE49HYU6G3lknZZl5JpqMI7X2UYyD9HFs/eYKNBYHKVkhLd76O/0D+CJsRo6uaLmr50edh6gWmE3TsFZ5OBxs/Nc8W7svxjIWDHA2xs0V44jwcoFnJQIl3kX/qD2m6RTuQA1l0a0MIwDsOXc+lfa73l8sLPWemcZFrBv2P/7A9n//hwFEMpRPOXlq9fGYZrV9BXzlGBa4Auz719eR6+2yg1w3DaW9MK9isHRO7nd4yHYFNn2ChFjIh7GD4XCAt8KBcv4lV5BelNdbut6KqSIGu17FhOk+030APLc7BcadyMlPLdo/M+sAqnZ6LADzoY5b9XsOwlNhI/X5KcXw1+g6hNOxSDlk2uk6e47c5wKuBPAF3IByT/LY+8Zv5JhCXp9uDEvsEkyTMfaSTIwDz2dygKtzrBm/eX5AU0D8npQ0xzeANgJOIww/wwB+ygSCO12u/WQ6q2kEbncL5Bypz1OoLMOGsSczSHSm1TP2IZVU9jr6Qe1NsRwbqfDj5NNENPi7e5+RTgczbeRcxojtqeQSak7tYSyidIC7D9qqNdT7OFkAM40oiqDJl5MxUsfRWC5NISA4zbpRAI8QADMFjRbvyji2gXN7OwtCTmczbgBga3A1lkhB2q8X4N//gky9G2BMjTmxurIrjsFZsLAlbP/b/w4A6P7n/4zQxwIUpWUhKEvTYBmFCWZqYPvUFukMRFAzuCNuGfvUYfjP/5N916FHuD3QLZu7j8NjBQ4jcozY/3JB9zYbOJxGxJVZiyEA80owOiHk3Xfr8e1eDDlVEKpY3XBfSku+i4ACssUG7yYpyEcLEA9AcW6PNo0l77sZkrzVzVbrBxc2tlaVpRjf7nSzGuuozD1j9oyBzcepsLh7su8nd7FYvKG3DQeBXR56C08+DJZJOfS8P+hGjhGgIzZ3ETgwH0+sRowWhC13evVwLsDzUa5/6vTQxeLsZWtWbFtImrpjzF6gRjfMDDvWg70GcIx3cQkHgd+TaYTXVUgGuv38AfZ7h6m0YwQopXVl+GkYxzJQXs+LGJF/vCNczraIvl7Ks+Rnq4qfcMesii3JfLt7JEPedwQMz3q4FL016I5aMQ0KZ64WFWdoloWsFltOFSshUTxCBMZYpgZ1nTuHQ7eXzymAmROwlI2K/T21Y8tSgApTHbyGEQF/cvnWbJGME5Xb0YXwKfuc3DBauzivqQDfic5xivbjhZt5LfICDjEgvLwQ9ORKMxiwv30AaUf3L/9SsUBivXZz9j4WINNFK6DzJ3CInKvWn12T3S/fyncGgNAD0Zi1EDtkGLAK00iH7g4kuCQK+v6AHYOXowOA0HcFrDEaB4CtrXEv91elBSvHpmr/6llAl6q3iT27sCfb9ijHAijxLXJpTyMyo0nyrlie0toPfW+gaeifAHTOzImNf/p8Mj1xEo7r1rbNDFpq365LMWuIcdfx0nEZe+SPBSGG0uIVmJO7u6tAE3RNd+X81vdkZGh8KvcOsBtrF6O561M20Ev3vAC/b9z1OSs3PwA7duoGpK2AWdeAmoE0iKlHxRLKVAT45xIDqzB5dRvyXjnGf6I+xQC66BooB2Ua6WYjaOuipfETzOXTweecSvsXHubyyucjQVHk5I/Js8fC/eG6AV+kFKlBViR+3HxOKbrOdUdhT7YA6yJ/2Mi2/HJia3pkJMhQmJa3DzvAchQlW7QVFxPfKpfvurmZAAA0SzVPvcdi+JSLEGw82DT6KLnwsBMY32eEtw97CFGniC74VIOwcvyY9IfT4AYRqK26rMijTeIQE9r/+7/ZQ4zsY3o92u++nt1EgdVGmYl9jLfZZxZv3w7FQLPt2M8T9tF0XelyNJAdI0fPdT7mzMb0Wau0xK/sFjUjgCshcK3nE5umRY7AL/H45WivDcB1pq4LXcx5HO6Lz/i1CSdw4O3xJYDdXDz/ZjK58ibkNcgWMkJwDaA0bQ5qpOUASvs/2Xg5XTN50lg+XjNs1YOgCjvH/y2bAajrvTCPIZi7tzJSOcBKGeH9ivBYzCDz42rneV4Lm6jvK+Ew41os9Jmg+mb3Vh56j92A5gGf7Rwn6WwrbZjPqyYg9j/bk2sYFROlEXEIoeQq8lj7f+thLUZB7f1lcVDog+UvJ0/U1znyubWjxVE5sPrZcsfrzgH0D79usO+mY9QzQjv3PRWNU90eovs1v3+UVhqNAuU1k08dCSOT/2Us0Ue638uCAxRTiJyr0v7VLeTK+IHjobBk+n3APzu2rTAyWnC6WKIr1MIESuafGLH5UdgituYVhGznprS4ZLoobmpju/yYiWkTO0aQ6kBMOiu20+LpBDcjSMdI4JJrfaIzhNH1hM7eqBsFFNmJNIj8t6ZMBEapqP2c7/ciARBgjdb+tIkunS/u3lq9S2LAMXdkEp/aejLQiGmrwYQ2DDU7WoOHtJdNhOJ1ci4teJ0H/QPQecpOCv88PyxGzfMQXc/dlVw+XkMuB+i64sQFwQuf9U8TcdalmLkkD9DnyZU8YNtK9l2lv3ti68g6q4sRauC8p5Khuyx2j/K4ZLKJyih2Ew3Z01yDPcCeQbp/K62tG35qsA6UlrYMRXoN3q/F8V0McX6fVNeCySUsskiawlDlbv6z9SkGMJxtokHuO6Dnh9BuNWcT/p6P9rBnFEqigxc7WYBav6eLim2t8OOjADIFn+4J6XIiQHkUxH2cEH7/YWzFkQGemSYRtQ8z26Tzw5g8aTum0cCjnMmrnZB8tOkNFqligC93wRcrtRHz+wfCb7+UxY5sUtgthDhkRpQMxv4FjuryEWtdLBNFLtT7ySVLx2rIzFEiCEPKFkwNGPMipqiz144ooBLTyKwm6vPe7r5gp7FDPl7Qv80u2Ec0li4kG/XW/5jNAT106JYNcd0B3QsRnGTBB9A0Ig/U4HUBCCWWJywr0uFc9JSXo4dZ5wNzIHebwgG22K2derBRd3+8G1P57eyu30zXt25sZ1FjCd9GSvZnOXMTYppTZ58fG9LlZA8XXic+f3jP1HayhTqdDcwHy+cz93n2ec42aq24atNpQmRrH9RYptejMYfjAMwMkp2XEugMFBlBKFrMkGxiSX45uXnKDVjbjvxqE23k3rUZz+HpAYLOWtoOjsRGzY9y71AjGPbEGBYDjFF6IS0A0uhxtJyxsjahB1pkrjQBVfEx+TYjsB1sDPmK/Hqxr6uNGlu+fq8uqzET57MzEjZTmw/x44G75dHO0zCUiKlPVK6jZaStSxkIuTyTUi5tIenC6tZjF4G8AzufbWFz1kxxHQ7cGML7JKav3ZI5GcOpNjJQIjDSXlrUMmbU7fCd7T46q000H4BMsCbgIKaR7E3WOa+vI8W3JP531xHoaMNUXi9Mo5EFgIGikSHQ9xnhckaIjJvJO6B8PFV9DOv/52spbDi+XMo52hPQ8b36HnmvYjT+FFuTaSZzZrbrgGNnz0xp0h/P7JQL8wUGATen5Pu9AMmc/f+VGZg+zOWfgcI0ygFdGYNcR8bz6QBWkgEACLDF3w0p1MIxQ7LoP7sSqQIUrWTfAyEVMEmTgZeuHX7OnKwdm1dO2EnZYnX82FYjCwHT1j0xWQR2kiiQYbSQZ4Lm+rPrd/X5qBv2DVTWxioXRtrjiPSeXbk+9d27DkHOZF7bARUTuu8AA8x9HnLI3srPgEV4fVzt72SeAf4xkoXvGyrXsWsUxYzuXMv23aJ9NDddAHg14KtNhY1nLMxxrjdk/2R9TgO4rHZzvF+NMfv+bgvq24ct4l3ngnQDJ5w5++OjRMZse6HHGdviIEpmkWkobswQEH98eAvOF4p1M6aM2XGaGpEup+JMrnQfYVk9rDasmztpw8edjA21gO83AxH6/aoN5O2lX7+R8QzeQsZm7uUwr85+hNUME2HZvB2HPppDtXZl7rt9H7YNw81m2noETBKj2DsVHZwRZftuXoswfxrdOQugMFfrhu7jgf73qwG2viszVCNoWgCQs83KfTPWKaw7hutmWYEAnbpkYO4P03pSKxgX7nxi5Miym7+/ftaZo8PkrFf6Zgyff7+ULOIkWCh1VtyFXLAxGLC6MQJIoc5yA3bRRxXGm4FdRcXsf31lPl70GcXx/Yr929k2EVpoqUUMt4e1xAEDB31nBp8Tx72t9jPx7W7TQZKdHzuPvbe+7RowyUM+0SB0PnIM4lIcvFo8l9VDqN0NTABksUOVoQIwhlX3BOBzf81VPzF8mWzn5VTu6z0VM4qu/Xczi2Q57NfNr0Vn9qgX1HQgj3jZd9+oaZqFzf0myNfuV8YWSUfm2dn/cD75qC9joRbvOOi9re2fkH/7Zs+AlIvu8TPVdUUbBGt3ud6v+hnpyJy96ciYuOsvFX0SGa3A8+MD3gEuUjJq5MIqdZ0tkDkXkCzNKb+/ZtG6G1juS8A1g64nVHtVbTQHBRUbJ22YvpPYuips2tt8NRMh0JJyef9lNUaMhpVQAyot9ilDc4ydLdTi6Ys7WSsZWOp4FWkwFQWiNnvFugVPDKhYUL63zrNp/ci0rwvdy7EYZATaQ2BESzKAJGbLdXJ2TH32sD+3Ap5c5ICdv8OBerGRzJ+YuujHEICzZ3mx8OEsXZnYKIF96RCfzk33zBzSmfvkWJdGVEyuHLXDWNjo+OfNSS6gcxgrvV0BYNaGZ4AyjU+upQWKxrHOwvTfNSYuXM7PYF6MIa9hY/eYDiKzSA3ceX1CLGJ97aT0zKjJTPJnPSeAeDoVpo9GNdfokpnOy1I+g94HKK3nzKD4lMokHZ4jH+fXdf58cH3vstizUQH6P1mf0wBqWP3f/rCTspqDVKN38uvZtYH1Tjz9+mqLMF28oYtlhq12Ojn7vz1rD2CsxsUYoD15OLTnmRFEIgQbd6R4iWW1BXbojV2s2BbAWmD5OJVQaOkmts1DkG2hHrBfJsSxL1orfUaeyHQ5INwe9u8tATkix1RcoF10QBoe9lBM58nnDzsg4vgzv8EAe+BMI+Lv73QSxwL4xgF4LEgvJ5tssZmQP58m5JTMzBGNLc19LG04ABDTJdB5X5xR1Mze3JcReKmLCIcB8WEml7DunsWWneHcHGQB1sLtGN6s/EYBibBZBEPutQvjYnsci1aQYMHZs2VF+sX0QvG2eFj0/ssFYTdjj86JF68DxMmAEGDH/9AbUyk9IIGaGFxsQB67Mu1CxWsvPHYLbA6hxN2I2VVL9GQsoTNtMkB0nTvSxSS5tpRsZJ70sOK50XU92ubI420EtvvOZRZyJfuc7BDc7e5jD0NAPsYyVu0wIrzf/O/CTmaNuijT0VLXyFGJGj2I6708kJUblxIQel+gA01fue9Mm6kYJk4OsOPHB/9qwvz4l18rzdLuwDOn9PQdw/vNHshVW+unqytzS20RL6JrGzV1cOOAx0+IHWV7SjEiAKib20oGHBdQnzWsObrS1CWOwZr6Kh/NtErOSPa9EfJcMLLmnfa93VNq/wrg6f/ZGiyapwgglmfwsprWUudS5gO1Adny8kgWgcFlNWOOWmS876z9yXZd7dCs3K8OzHYDapJHOGMZA7BVmi2ylXmeC0gWG8Tv4No+6TlXsj4hABqVp/ZspfkE8MQiaYG2LEggTENhX9gqDMejtUzlmqWJIatdS/1WWtbSKofu1Y1dnlhm4IaAcDlbuzJlmtOqzwYA97UAdTHJup4kBYgBiH05H9QnuraM17r9HZmpheTFOCAMHfIWy/VZF2Uh4XCoRs9pgxwK0xzKveMaVr1vZGiyh12TCXado4Wpe7tY390dtwvHvpHkOEzlvtA9ps8SMoAq/4+bUmwbQuQzQ1Na9uTXRO0utyDqrpwjd75Li2nXcziAOsxYrpUQSjA2mO1J/Z82RW62u9+BYfiHlrLmUX9mCgjwWQYQ9uCW5i+/XgxIXW/GYLxdXUf0tAsUe7Bzjh2zc7ydKzaOUSHYDTwpIyz+uLqJIshCvphzUCAhK1rmYVMmpOfI54NR8D5jdfM2tC9+p4Prq/LrBcouzHRO9n97t8BkvUbl2vQW+LqZYYIOorBuBkAVc9N33hZTnElY98JSAkgnRSUk0/4BzF4jK0og6wwfQXbkZ1MAdvzj3QFp7jqkQ89xalt54AI2k5mf1Y4hR64NdCdvNu0k3Fd0jx3xsVkkitiXdTNAu2fXlIlNSNOAPFnGndgSB+pdh3Q5WUQPz0X3tx+mS/yYXRfobKHExOtmjB+BczoZYI3X2dg27oAt+Prh+k2Li+mQv12MtYswoJ4yd3zU2e27M6m+owegUWcWTWQP9sjwYp+ty58XSKodqh6ovG4M2l6K1pQPq3wYbHwdjU/hQQ3lH2+cFEOwB1A/a/o8D1qumG59Zn/gDj0HvEdn7B2s69g+yoPFmTn//rxOdQ+rnUwmU4AvLKuBsRBMGhCDb5CQM7LyOaWZujPcN4otGZ1By5vlBmb9PVnd/FiKgUzslVoyXSwO+58sMSwAkK53BwEeV6HoCJ6HOjIGKZuGb7SQWw+6VVtIDISAk/+j3ydTLB2VwNCDzLGAly8sscwhJptljlzq0Q4c4abFR+yKwF+1wJmwvi/6zPqY7Ol5sP08F7ZJbUqgtKy8ZRlKuLX0f2IPBdS1uO+MZAmh/Jmc0frsZAvzttlrSdtYmTvC64u9B+Nf8mNxEKugZTfjLKs5ldmuBY2GYRjKJBeB/C6WRVxsDmwzknO2z1KzS9x4ge8ZzycDZmIpyRiV1n10Ni9reo4Y3D+XSBf9t64pPZfrwGqFTvO7aMLNk/GCPxv0mbUBIGvmmXsOyA3ASL/o487E+Aq8bFsZ+ehAdPdrw52xeg5wg+THRxsKHQM6kl2jGjs6c/keVSKEa3J1jbLdbqPWom8Q0HW+mcg3y9jThi7z3AuwSe4Q2OKvdbBYVzeOeFs4pSeNn8YiCty5caraYIKfT+/r96zuAf7ez9bntsczF2QCONfz8eaUkxbIBaB0nRkdRGtL/Esm44mZq4SYeaJzUZEudQC0TB7bbotiSj53OKQMvF35bTtzWPK/s1qDdK36IleBMF9kF83x498dDqYDeD3azNyPx1MLOx8mbyWHj7v9e09IfQS6ybPwNO5M4C9su2uw+r+9W1t4z66j8pBj7prSaTI3MmcwY+hNz0aQmftYdncJiOtiM4sf1r4Pi4UOx3kpDCmdt7UDV07Q/S8XM3RkC1PO50OZkXsYkJMBvdCdzFH7biHXsYs2InIayZqNfn63v5zR/+0DWM0QkY9jablf77ZzBYzZlIP8NlsbM9MN3EXED5s3HHIujB5gWszKUBJWAv0Y7XdjLJuS3ka3JbGakgj09mDNfYfw/R3oe6RfLwZKGaESlh0BCzJG+57aQes6WHeki82pljs+nw6FvRIztFguoz9YT8UAgMNU2qpDD6y2gQhrLMBTmlfpKR8LQmRb+ONWWn/fLkB/LK3YYQQeq3+GvK6MMYg+plDHQ+dOo+TsBKWiAZwfLr0I81Ic92Si5a5VG8mTA2KknnK21xuGMhJJO2PpYACySdE0O/sObMliHabRnkHT5x5x4TAVBpDuRYjR8wWWgbJ7KJqmQE0PWYYQbafv8Q7UQDnLeb8be5QTAN7fteBfz1SZ4hKew4JB/WBlAslZQJnvMT/Kca7ach6q23Vl1rDa1mKy9AwRE1ozTWwh5vuM+HIp1xcAF7h3FUgXIBCj2ROYpgyMHZBsbFZ+LIA01zWzspcwXeXBifGx9QLO/LnbVQYWghofSafPIILCmbTo2Z2WQ1mRGHtCWqh3pLPbR+rpnGss3tg70PJRbNR1uZRI0SxijcXYCQTqHCvyRHozvaaYPzGjVWyQ/24N7tUelt6N2lTpGS2qx7SDeeaQAmVGbpsxWQKcf3Kr+ig3bljUisWOYt5gqzT0B6Me98U+g64XmUF2QG7fvG2mo1M7+z674SODrz2gOkd7OQZs1fs5URt1o5Zxt2svkJ3XmEkBezmJFfYMoJhLBFD5dx7J5PdApakkUMzbhqgNhV4zRgs+Z7afWHAbe1c6CD7xZV0BZgM+ndt/sj7HAPaW3O5uRc6QDJeTLwZ5WVzgn683npBYgJceDtI0AfbfdEGKMQpvH0XbR/eisy0OFDl1gSDD9VNcvL3lRYCVT4wfYL5avhyrFqgNqnfGLiXXHSqSJDDKJN7W4hwjexjkQrrNyJcj0i9nOoJLfEk+EGjMi8XX7HwPsXAyQRyt3ZboVI7fPwygMaC4NkLkcTBWlOHcNmXiSLbMdjbx/WbMjNqE+m5c7CHAk3MBPofRJ4zkEJCmDttlNJcswb/r+2L0EXM2O9duyvjj5iA33B5mluiit5FlHNCUjjz2Djxyz6gL6azYPsmDBSTngeeEzJRm+CJVTBxgN/bVnHfx4+Zp/9h308EFy0FEgser5NPBg4eLKzEXzR3grVFPyZcL/niocqS2cgw4pkyBy87O6aHdd85U2AGwjYe7n2nQUBs0SI/3WJnJZxmVcgvrulKFaSymEjKGzj5KzxnCU3tZ17N/N7XWRjuPCkTHnoDT0TWHYuud3dMxGoYCSjgAPh8nhD/e7B4+TPb/ZxqjXi7FEX88lGMWghnOqNvyB/C2mT75k+XxFf59Bs/3CmQC6rYwUqVx0rXB1rzrewFj7O4zXBcIlFFv0pvJ0ME/k7kk7zuP3VqOby0Gl9uc11CZTcrP5I7E5LNK1eZEzkVDCBSNlZ6z0ulNk89JfsoK3HfPu3Onqq47AQdlu/UWZuzvt6zQDF0e/Gd2KmVnDmVUCYwN8ugav6diORZyF3cMFheIYfZiye1TGzSV6156P/3TxWKC4L1metVKlybH8WKZlT7KjWxnOB2Zg8iWrlrndGG7DlQuWYEquZgJ1t0AIsAu4LHvJShZQEgASu+j/x96vw58djFNRYoFyuvG9m8sOtKa3a11cwJhQGE1A9usPA+RE0g8RqirzxUBTU7WXRwZrK0cwMejMPB78msw326lzdp1hSEHAVumO5/f2Z3IzsLufs95OLXwCvMow8h2bAwcjdiXWBb6AEK16fJzAm4m6ar3rsG62j+A3QMyYHUdwonP+urY+v0TOSpQru6frM8BwH1HeL34mDXRqPnt3R5MfecPapvfawGb+fGwBHK1fbV4sjUbqKUKKRcd22/fisGC7FZIdPm6cJIhuQJ5lfnA227JJhpo8UNm0C3ZAwc+8+watdx3hdIHrC3wwfdlvmFI+Xkh50Lkwvt5Y5ty8BiSdBiBriyyAk/5OFpg80gjypaKPo+VX88FTKm9zJsoT6OBRn4/UHcn1zIAdxyLXUovJzJiDwfETqGzVZkHm6eLPmL51gMdI21E2xMUxw8Dp/Htjvj96o5WMUH5YMJ3uaDDY3edXxp7f/jGN0oJOCnEcyGp47SQZmv1hy25+9Wum2Su4S4yxJqgPGWklzNcJ1cL+dXa5GtamHPvcT0A7HpjKz+8Xz2UWYYOG/c2+/zdfJysDUe5gssMpqGYkOaFRqTBAO9gUUjp14vJKh4LJQXJGUe/zgC7vygWz33nrXSN8ENKZSwVW5L17ys+CDmXTc6RCfXUCrm+kAaP8FjYnuPmQyCFjHZmbI23klMCjszz4qKabzdrEbF146YxoGgaCbzz/DD3n3SIki+IiSNQyMoKvd2L8/ST5QPoqw2qazW1gAi4K9amqkwA48wZmSOxJjlnaJZu8N1/Ks9HcBFxMbm1nay1fLA2tbTCWvQBfi5uImdJMqrPIACm9ts0eVTL00QMtV71mcahgBKBmpyLuUVGDf2dWsZ1y1V6V2okzS0bvc0Iv9bYKha4ov4tnA7VIro9taQ1OswjUB6MEKtayM5cdl1xXqdcgCtBv5eYOS3Aks7EUFqTCqQWUKMW0eJ1yJBp07Suz+YXoMSgyFCzJ5oujgWsJjGEPL4y8NAk4K7iwM2CgPCfDSdAObb+newZ7AygNrvauAnwynyzbWUWrYAXWVYDl2z1hgooAt5dqL+7wGze03O0UMrPE1V0TQAFNOqzA4U9jKG0+5lBmJe1tOu1Sag0wpoUok2ZA7dqo+kxUCreR1lrRz1usGIM/TPujKZJVctf7J5MKgxRz/P8D+3d8j4817VJ8CfqcwBQu3CxC9OIcD6atZ9xJmKzwsZB6ZMlvIeD5ZDlaSgPunUt7c2dX6zSXQnI+fzg3YwX4Xq3hzI1esbi8AHNiyTsqTwgxfiIvfq4+6LvDtm//uYLe1hWYzb4ewquzdPoYBR3LvpvH7YI/3IpoA5ASKYb6zyOpEd8rOj+/m55er++lkBpMUvBHi5ZrculCpvm36eXo41GY7vb9G38/tyt5gOzEceBwIPATot4JLsGwHVsOydIPNYSh8DPkfqI4W1HvG92DHnBu3Pu4+7MVli3wkjScepsKUeiBV7AMl6ks7lpse9I387Il5PpxmhGMT2P6eLi7eGO1Xw+2ixcAQy2H+PbzRgifa+F3+k0WRYkwY7yCzU2MGzJ8vfmtYR6i+kGDGB0xTiB48GijsgkppejXROno/+OdHzamCjOJL2eCrvFiTQOarsKqGoBThyLxvF+BrYMaMbvH2U6B92w4f1W2uAAGaOFO9kS2uwa0Mxg7OutOA8rgOjuWr5nFpi4cgSgjD7alHxci1lCbdHjEeAzASnR2ZuLO++xIL9/GFCkFsv1f2TA8HK24zZwRiz/W7Ec/03N1D9RrmfSQ1ai8YrVAvAPYaxhHDifd/K5nfYXRY+Gia5xLZhiVvh6eX6U/LDEOAhq9uyH7HdCF+2ZOxB8izWrHa7VQpKVmkC2T+1tbJy3ynau5+6lP73esnKhswkLvuBFgnG1c6vFzRduAmZ33MqFqhadGESxVg4AJO5nu1TRLNzU+CJ6s8kYDkAJcIJmEIvV0T86jmLKtJHpmReqcaEygug4qkUbqlZ4zToJHK9sqROwe1tXgEbvx5m2uva9bc7rAAB8/J9en9/Rw57r1xQ4FFDcKSPQd9SfUadWO1Td0a7zqvMu17Ra52SCSyDzMxDxDQ9g10nOpb1NEOabqgpw+fXjXYNQNjC6XqTVlv4PKEYMGljyXdNZEmpjVm3GMLOVWPHkGwDF6+Rtc2BYiCYarzoD4tLx2Rzj6N9dJpPQFbY6L6ubrp6uQW/X16aTVO6DfXf23g0iAoOfqM8JZLQIiQmodmI4TMg/3nyHCYCgaSoLDanofD46u6XB8HoABc2vlXBTuhhGRYSuQ/rrN1vkKVSVjs13eTVK1qSPoTdjxTiQhWLESt9TD8Yd6+vlyR3rYn2+lke6MOg3rH0R/tMAEx4GIPPQmx7wYHEoGnfnNfTA/YEAoPvjynaauWPD+9UWOYEngiusPdCXecTxx/UJIGLdEKU1XDcobsaBhSavPFbL+tsP9nmPE3KsdstsW+bRLpl9ihjeMtLUo5tX4OVcmOCK+SzOsuQteAPbi38+Z326aIv5vLn2Mqy7j3oLaS8ML7Wf6fWIeLUcxLBsJfj742Zs2v1hjlXOHM6Xk10jXXzO5EslBNr1j/eHmYfWzXWr6V9+4Si3lVlRO1D5DML3d3vgs0WcxUofRsv8C2ThCKA8uFwRA2QYfXyadLGSBiwZmBfkl5Mxu11EWLJn8cnNHm6zvTazNP3eAeyBer2Zvm7oEV5fDDCSNUTKfj9kXkfSSAaJzI+HsnBL36eHn76n2mjjYCkBelhpHByvE3f/i0HdTceXLyeEeyxj6wR8JMSfqFkUgBI4vs/WeZgfn9LHAGCif19AHMGJJoMoEiaMo294nsT04OInINfFsjgzN8/0UCiLXsoIITuDIN2PdEcBKKBljEAOxj4BrhH0RcQ/RASQkLfV2Vh0nTM3eX6UBTSWUVSBwP7JhauFM+1m1FlWAHthVerPx9fTSEboOsnZPnfX2f2TM5B309LtCYCuiZUMYCituhCNHblcbJEnYMu3W2H6J+oK6wy4yvCmrLgwDIW1c50dgcLr2dYpEFj2fWGV8l4iyKK5OgWia4eyAY7FwXa5DuCB0hl4Bka6fHIujlQBgXHwNqpPHlH7VwYZnXdtvrbq/hQofqRyjujKVhvUrzOdi67KzQPK2qbpHTzHfgyytdJ98xJRNmIyuJClC52xozLZBH1GwK+3fJ+L9nexiTFhL0YSn9KzWo5h8M++l00T4CAwHMv1kPXsUvW2YfbpLMpZ1G3Ec2oTU3IxvagToZ8NEdhXb9/quzl4WyyrVAQMAETqnLGuyKkrhjcRJHVrnZ2qz9bnGMAQgLeP0goLwRZwuXhfX+xBrAOj9u0fPzw7CVXLN//2zVihTaLMSqN2vRdH4d1ajCBzEN/vDtLEyhmoWUwHxbZIpojfwMxS3KWLjY3LL2dIJOotsCpGQ6BV+j7b/SXGqnTOwHjbRu00Lr6BYASAXdR0Qeax93agTyYRoJZu8XJCvhyx/3YxtkjM4ryYDnAaDITK3Sm2LYQyiitG5K4zYEQwqKy5PHQWEF2xnGLvchcKG3qdzcwyBeyHHt33W2kPyrgBFKB6GO1Yjja1JJ9tVFh6PTEuxvR8Dtxus4/fw84cxtmyE5GNDdDUjjz1iB8zwtuVuYN8T46v8/NB/afrOQVabrPNZwaebqh8nIx5JGMcpCPrO2M31S5lHIyHLes8SUP39lHm4VJrl19OhX2VsaeL9rozDRRiGnnNWfTRqbwnf8a0lM/OWcBAqOKOfNHh/SCtlOZiBsoDwmaMQHis9jn0WucTXPslHVi90eN59UkgklT0fWEJ612qHpaSF/x4NzmIHHUyd232/fx4iFEE/PN7G0mtST2EGUOF07GAmp8sOfzSn/RFAAiUzCHqc0ZrjZ2YyvcP1x7lx1LYQjFhjD/xbMFKm/WkJ9JrK+dOreJ60QHKQiPHpDR5+m+x8Np0j0MBuGIo9fvVwpbn2Z69+uxszdtnlXi9K3/fVaBGAFIMsDN+1tIMI007tfZPx3pd7H3lICZ7msUY61xdzmUSjI6xQG4WeLX2bD132D+XdHv8HOE2GwN0vVYsJ1973YpBRudQDKfOk37+TwBLY9vsWtjLOV+oTVyXwiyyHehMmNatmhnSxotsmEexdJ0BFMmXaoNEzfgtqwEhza71AxoK8FYQdsr2vRkmnXN1bqn1c4Y75wIy1XZdbc6xX18C3JJIpFyCx0WATJO9z8qWszbPNJiYI/tPzxqlHsTox9tjx6Sf5SxdJDLgzBj110rJc/z8PLDdm2/3Z4aQ13EmqPTYIL6eHL/+WWi48XgXGcl0H+ZcgKsYWXZIFSDuDuVP1OcYQBRqN72eLABYLkJqvYLcTlUfXU45ZwK6DM/v0o0bgzEAu7EI4Vy10Q5sEfJCSa+nwirKMr/vCMdDmTCg9q6y0B6rZawBBQzpoagRdNUItnw5IY02ESKwLRGud4+TAWDAKllocS2IF4PjC2XKwLcXm46SUgE3vGhz1yFK3C+wQZ1J/HgUNlOA4LFYXh/gLEQ6TYbud7ZL2HY2PWHvYMhMNj2DpstcWgDmnpVDed+dDctdxPh9Q//OY7rtbOdSHMvWOhJQXHwBYX4g/qBj979+t3aVnKIxIIdCjeepR/jI2P/lF2vzSkvWd8hdsFnF6/bE7GYeJ5/VK8aILUuxthkwsBwsikZZd36NZoucCVpcKTLPp4MxagKn94eZjgBoGdLGIh8nY0XXzW7cbQN+eXEdpOQTJj8gOO1iMVlI16bPxA1PmBdn2/M0QnmKuY+V0YXXAq9rxMFduQJImvGLfSfryPYQtbsASsbWifEa1CHiPtsDrIue4YhpdIAZNjrV2ILN7x+MdFEbbyqt3NeLAeyc7TVkhNICJRC4J2Mt2U4DSJSwHe7TLNatOFnv83P4609UnesXxgEYRmOfdB+zNej/VjuNAa+5OieWeVqlDwBPrU53Oyp0WOwLANeGAWU0FWBModq397sdW7k1c3lNLFuJ/NDnFpMqoBaCMYSAOS5zQp6L9CAIeGrRA0pIvvLh5EaNoYTV6vlPjVqZmiJwsNt885SBjvrCvgf2shb4+dAxvBVji/R3qOM/OvyjvrdiJMM4+JSXIJatarsi9AwrXywHcU9AKKzm0wQXrXH684qJgq7RKhC5MHTBWNQTZwOL1as3CGLF2PkKPUGz9KBiHcUGdwOCpnWkcm042NYmvYvGynYkWR4VWJMModbpufmnek7ulSt/y64lDQpnr93Q9ffXxkWAXN9VrCyBq79f1Xr3ySjM4fNjpWeCrgkAGumWMzMgsXmUkjPvBMxh3TxEHQO193IBe2s6ObGS9x1Y9uLqD9Gu42Xxa9wm+mxs65IVjgpIJ0kEGOjmfWm5mlP5mWRjVkPX8d+cRBKDB1w/SUz+yfocA7huPokgvt18jqzlKa3FOSlWYN89+y2cCjOYKXr3MTrjYHrBeXkaieT5fNx1aFRb/Psb4t/f/MbwC1StOz041fKcF3+vMC+2sApgsHWU395dn5hJ9cfrvcTCyFSiPLeUC5s4jc4gKossswVpYdDBd4nZQTAv4MoMohaZTWCYDBT9eHdWK+sYTiPi9U5Xq33XSJepzAHpcqqmkiwOGnzSwmMvgEoPM7X3xe6tG/ZfTrbyBlgwtJyKFdgyNq7kCYb7Qg0kW4YCDDGWHL7H6sAVQ1/asbsBgHQ5FGZv3Yt+VLta6iPlhs3ng7u/w202wHc2l5XOJwDL8CMACZQLiI31Y8DvFj5uhQHTg5DMbkjZwKB0kPxz5WPiYG1ZB+0hIE8D0reLvYcARcouJ/DYDR4bbydtu7ujw8eNbOajnG9qYJ1NG/oy1xSw16Ru1tkPRQBtW2EK5ST/8Q53LMuAorYt53s7S6kHJINs88Y2oeIqAM+myx83hPer/V1lsPB7BPbAz5yP7UL2cXCziVhhbDZizlu0Mthczv/kQ+25PGuLzlPXIgGFGZCuzBktLggCjVz0FfEQDlOZWQo8t6mlzxJbBzzp5iwkmJsKMRBiwsTAqBWoz06n4lM8CwC5m/09GNMhJ7AMDOEw2Qi+WhO4cuScy02is8vIqcwyZjxPfiycY1qbLHIR/MuQwLDqLPa+FsrL2ABUIcr83XEobAhdrU/so1pvel8unO6q9I2WBRoHbiRrBzMIbrxVWbfF2YYMh4NJPE6n8pwXgBAY0jnT+vffcM3m+UH2PZZzputhmsr30v/r3Ato6LWkX4sFtPl50meXS7x2ckuTyvepmXTP2SOYem6RxsL+1e5eMYbLWkwkYgB1DoFyvHVdKLxcWkKxnZVuz525+s48DjZVpavOcXy6j7z4+X1Sj+QWAn88RxrH5n+vc6XjJdCvrp1A+/Ho67m7hQHHMnIyezB1yuV5kUvskn8PxgkF6X0/UZ8DgGIK1NIaem/3ebhzrB4Matv0trsy/YTFR4SPW5lxuaeyGG2FQXRWLVZzeM9HW3hrilvCYI7W8pFJsB0kssUc5BjMBNCVCzVzckE4HBDersi30vJzPaGciNQSppejCf5rg4Z0h3LAMY4mfTubdu3Q2+fmjjXTJZpvbAXK6HB/WJt3NlMCTkdzmc6L/fs2Wy4dYCDzbvEqOdL8wfiIeL0buBRQvd4R//gobbbO9I15HApQlZGg79xkEFY7xqkLlrPXxcKCUpTqZol9d/ASZgZyX44ONjyM+/Yo7NG6F+A7Deb+XVYD+Mta3osAK/16oWGC7JJa1ZqqonOyq9XdO0PrOYzU/eXToWhRuQPTHF7Frzy11/fdfo6sX1h3XndsQVKD6u+jY8+2u5tlspk0wsfNmeAnsCWWQXEE0uSlop/14O1MIJpSaZHUzm5FMGlhigZE/XNmjpX6uNnLnchUMqYIMRroO1pECxQePqs9ZxqWwKT6cDkxT3BwxsRHSdXGCRm0prHsaueHbRQJdJ7m4wLl/DKXL9SjDHMq//2ZcpD1cHbDx8JVGhxvAwHubq1fwxfXhQxxZqYfga87hd3h2BUWTRu+zEwyASP+nIJiQ70g8598vRbm5WBMrn9WRdtIV022JS+LLUjUvQGAmzD4OcLxCHeFupCfOk626jwSYxg9/sKPVQjsHpHZJLMDoJxngRIBlVr8LlCkNjdQDCx+ncTy+nTCOnDTeqCWn4wt6k7RDIbHUsBRysYun44GYiq3J3JCut5Ku1omDRolpJmUkSNMY/l+alE/Hkhv7x5Rk2WcG8pxy9v2HPcDmJOeLKbctLbZqMCTmLBlZb4iOybSyfb2rPKsTYGlGDxuKMswouMrRlHngrFASS5ard87Nadk8vJcNmrpPhcQqOe0zlkMft8X133ycWtB0h66uR2s6Z5JNHwo3kglHR/Pab1R0jHO+vwKb15X39R5iz9yugeNG0gZ4XzmNc9uy7o+vX+WmUPh66ECtgKGXckLNMy0eRveAPTg4+VC1yF9YhZwyJ+FkK1atWrVqlWrVq3+h6rPMYCtWrVq1apVq1at/oerBgBbtWrVqlWrVq2+WDUA2KpVq1atWrVq9cWqAcBWrVq1atWqVasvVg0AtmrVqlWrVq1afbFqALBVq1atWrVq1eqLVQOArVq1atWqVatWX6waAGzVqlWrVq1atfpi1QBgq1atWrVq1arVF6sGAFu1atWqVatWrb5YNQDYqlWrVq1atWr1xaoBwFatWrVq1apVqy9WDQC2atWqVatWrVp9sWoAsFWrVq1atWrV6otVA4CtWrVq1apVq1ZfrBoAbNWqVatWrVq1+mLVAGCrVq1atWrVqtUXqwYAW7Vq1apVq1atvlg1ANiqVatWrVq1avXFqgHAVq1atWrVqlWrL1YNALZq1apVq1atWn2xagCwVatWrVq1atXqi1UDgK1atWrVqlWrVl+sGgBs1apVq1atWrX6YtUAYKtWrVq1atWq1RerBgBbtWrVqlWrVq2+WDUA2KpVq1atWrVq9cWqAcBWrVq1atWqVasvVg0AtmrVqlWrVq1afbFqALBVq1atWrVq1eqLVQOArVq1atWqVatWX6waAGzVqlWrVq1atfpi1QBgq1atWrVq1arVF6sGAFu1atWqVatWrb5YNQDYqlWrVq1atWr1xaoBwFatWrVq1apVqy9WDQC2atWqVatWrVp9sWoAsFWrVq1atWrV6otVA4CtWrVq1apVq1ZfrBoAbNWqVatWrVq1+mLVAGCrVq1atWrVqtUXqwYAW7Vq1apVq1atvlg1ANiqVatWrVq1avXFqgHAVq1atWrVqlWrL1YNALZq1apVq1atWn2xagCwVatWrVq1atXqi1UDgK1atWrVqlWrVl+sGgBs1apVq1atWrX6YtUAYKtWrVq1atWq1RerBgBbtWrVqlWrVq2+WDUA2KpVq1atWrVq9cWqAcBWrVq1atWqVasvVg0AtmrVqlWrVq1afbFqALBVq1atWrVq1eqLVQOArVq1atWqVatWX6waAGzVqlWrVq1atfpi1QBgq1atWrVq1arVF6sGAFu1atWqVatWrb5YNQDYqlWrVq1atWr1xaoBwFatWrVq1apVqy9WDQC2atWqVatWrVp9sWoAsFWrVq1atWrV6otVA4CtWrVq1apVq1ZfrBoAbNWqVatWrVq1+mLVAGCrVq1atWrVqtUXqwYAW7Vq1apVq1atvlg1ANiqVatWrVq1avXFqgHAVq1atWrVqlWrL1YNALZq1apVq1atWn2xagCwVatWrVq1atXqi1UDgK1atWrVqlWrVl+sGgBs1apVq1atWrX6YtUAYKtWrVq1atWq1RerBgBbtWrVqlWrVq2+WDUA2KpVq1atWrVq9cWqAcBWrVq1atWqVasvVg0AtmrVqlWrVq1afbFqALBVq1atWrVq1eqLVQOArVq1atWqVatWX6waAGzVqlWrVq1atfpi1QBgq1atWrVq1arVF6sGAFu1atWqVatWrb5YNQDYqlWrVq1atWr1xaoBwFatWrVq1apVqy9WDQC2atWqVatWrVp9sWoAsFWrVq1atWrV6otVA4CtWrVq1apVq1ZfrBoAbNWqVatWrVq1+mLVAGCrVq1atWrVqtUXqwYAW7Vq1apVq1atvlj9v6Z3sVafktGfAAAAAElFTkSuQmCC' width=640.0/>\n",
       "            </div>\n",
       "        "
      ],
      "text/plain": [
       "Canvas(toolbar=Toolbar(toolitems=[('Home', 'Reset original view', 'home', 'home'), ('Back', 'Back to previous …"
      ]
     },
     "metadata": {},
     "output_type": "display_data"
    }
   ],
   "source": [
    "fig, ax = plt.subplots(1,2, sharex = True, sharey = True)\n",
    "mi, ma = np.percentile(im, (1,99))\n",
    "ax[0].imshow(im, vmin = mi, vmax = ma)\n",
    "ax[0].set_axis_off()\n",
    "ax[0].set_title('+1ps')\n",
    "mi, ma = np.percentile(im2, (1,99))\n",
    "ax[1].imshow(im2, vmin = mi, vmax = ma)\n",
    "ax[1].set_axis_off()\n",
    "ax[1].set_title('+1000ps')\n",
    "fig.tight_layout()"
   ]
  },
  {
   "cell_type": "markdown",
   "metadata": {},
   "source": [
    "# Mask\n",
    "\n",
    "The masks are created by hand by Kathinka using GIMP and loaded into the masks image folder. Please check if the binarization worked correctly (Kathinka will probably forget if she used white for 1 and black for 0 or the other way around..."
   ]
  },
  {
   "cell_type": "code",
   "execution_count": 18,
   "metadata": {
    "execution": {
     "iopub.execute_input": "2021-11-02T12:47:49.636609Z",
     "iopub.status.busy": "2021-11-02T12:47:49.635945Z",
     "iopub.status.idle": "2021-11-02T12:47:49.703197Z",
     "shell.execute_reply": "2021-11-02T12:47:49.702619Z",
     "shell.execute_reply.started": "2021-11-02T12:47:49.636519Z"
    }
   },
   "outputs": [],
   "source": [
    "mask_manual = imread('/home/gerlinger/Documents/Beamtimes/2020-06_FERMI/Masks/CoPt_noAl_C4.png')[..., 0]\n",
    "# mask_manual = imread('../images/masks/CoPtnoAl_B4Scan007_mask.png')[..., 0]\n",
    "mask_manual = mask_manual > 0"
   ]
  },
  {
   "cell_type": "code",
   "execution_count": 20,
   "metadata": {
    "execution": {
     "iopub.execute_input": "2021-11-02T12:48:09.373021Z",
     "iopub.status.busy": "2021-11-02T12:48:09.372400Z",
     "iopub.status.idle": "2021-11-02T12:48:09.464388Z",
     "shell.execute_reply": "2021-11-02T12:48:09.463803Z",
     "shell.execute_reply.started": "2021-11-02T12:48:09.372946Z"
    }
   },
   "outputs": [
    {
     "data": {
      "application/vnd.jupyter.widget-view+json": {
       "model_id": "462b02545300440b85dd253bbf839e6c",
       "version_major": 2,
       "version_minor": 0
      },
      "text/plain": [
       "Canvas(toolbar=Toolbar(toolitems=[('Home', 'Reset original view', 'home', 'home'), ('Back', 'Back to previous …"
      ]
     },
     "metadata": {},
     "output_type": "display_data"
    }
   ],
   "source": [
    "center = [0, 470]  # off-set, binned\n",
    "# center = [0, 950]  # off-set, full chip\n",
    "# center = [1000, 950]\n",
    "\n",
    "rmin = 160\n",
    "\n",
    "beamstop = None\n",
    "\n",
    "mask = pf.make_mask(im2 * mask_manual, center, rmin, beamstop=beamstop)\n",
    "mask *= mask_manual\n",
    "\n",
    "mask_nan = np.where(mask == 0, np.nan, 1)"
   ]
  },
  {
   "cell_type": "code",
   "execution_count": 37,
   "metadata": {
    "execution": {
     "iopub.execute_input": "2021-07-06T11:20:47.396418Z",
     "iopub.status.busy": "2021-07-06T11:20:47.396005Z",
     "iopub.status.idle": "2021-07-06T11:20:47.401421Z",
     "shell.execute_reply": "2021-07-06T11:20:47.400407Z",
     "shell.execute_reply.started": "2021-07-06T11:20:47.396386Z"
    }
   },
   "outputs": [],
   "source": [
    "# plt.imsave('/home/gerlinger/Dokumente/Beamtimes/2020-06_FERMI/Masks/CoPt_50nmAl_C6_im.png', im3 * mask_nan, vmin = mi, vmax = ma)"
   ]
  },
  {
   "cell_type": "markdown",
   "metadata": {},
   "source": [
    "# Set up the azimuthal integration\n",
    "This has to be done only once (unless the image center shifts, or the image shape changes).\n",
    "Reusing the AzimuthalIntegrator instance is very fast.\n",
    "\n",
    "You need to specifiy the center (determine it via the plotted image above). The rest is filled in automatically from the image shape and image meta data. "
   ]
  },
  {
   "cell_type": "code",
   "execution_count": 21,
   "metadata": {
    "execution": {
     "iopub.execute_input": "2021-11-02T12:48:15.629639Z",
     "iopub.status.busy": "2021-11-02T12:48:15.628990Z",
     "iopub.status.idle": "2021-11-02T12:48:15.638775Z",
     "shell.execute_reply": "2021-11-02T12:48:15.637621Z",
     "shell.execute_reply.started": "2021-11-02T12:48:15.629565Z"
    }
   },
   "outputs": [],
   "source": [
    "detector = Detector(2 * 13.5e-6, 2 * 13.5e-6)  # binned!\n",
    "ai = AzimuthalIntegrator(dist=(exp['ccdz'][0] + 33) / 1000,\n",
    "                         rot2=-np.deg2rad(exp['ccd_rot'][0]),\n",
    "                         poni2=470 * 13.5e-6 * 2,\n",
    "                         poni1=390 * 13.5e-6 * 2,\n",
    "                         detector=detector,\n",
    "                         wavelength=exp['wavelength'][0] * 1e-9)"
   ]
  },
  {
   "cell_type": "markdown",
   "metadata": {},
   "source": [
    "test it on our single image"
   ]
  },
  {
   "cell_type": "code",
   "execution_count": 23,
   "metadata": {
    "execution": {
     "iopub.execute_input": "2021-11-02T12:48:23.535828Z",
     "iopub.status.busy": "2021-11-02T12:48:23.535663Z",
     "iopub.status.idle": "2021-11-02T12:48:23.975150Z",
     "shell.execute_reply": "2021-11-02T12:48:23.974606Z",
     "shell.execute_reply.started": "2021-11-02T12:48:23.535810Z"
    }
   },
   "outputs": [
    {
     "name": "stderr",
     "output_type": "stream",
     "text": [
      "WARNING:pyFAI.azimuthalIntegrator:Method requested 'None' not available. Method 'IntegrationMethod(2d int, pseudo split, histogram, cython)' will be used\n"
     ]
    },
    {
     "data": {
      "application/vnd.jupyter.widget-view+json": {
       "model_id": "a833b7f9497d421c8c91371280901d79",
       "version_major": 2,
       "version_minor": 0
      },
      "text/plain": [
       "Canvas(toolbar=Toolbar(toolitems=[('Home', 'Reset original view', 'home', 'home'), ('Back', 'Back to previous …"
      ]
     },
     "metadata": {},
     "output_type": "display_data"
    },
    {
     "data": {
      "text/plain": [
       "<matplotlib.image.AxesImage at 0x7f3542e687c0>"
      ]
     },
     "execution_count": 23,
     "metadata": {},
     "output_type": "execute_result"
    }
   ],
   "source": [
    "I_t, q_t, phi_t = ai.integrate2d(im2, 200, unit='q_nm^-1', mask = (1-mask).astype(bool), correctSolidAngle=False)\n",
    "az2d = xr.DataArray(I_t, dims = ('phi', 'q'), coords = {'q':q_t, 'phi': phi_t})\n",
    "fig, ax = plt.subplots()\n",
    "az2d.plot.imshow(ax = ax)"
   ]
  },
  {
   "cell_type": "code",
   "execution_count": 25,
   "metadata": {
    "execution": {
     "iopub.execute_input": "2021-11-02T12:48:42.890969Z",
     "iopub.status.busy": "2021-11-02T12:48:42.890286Z",
     "iopub.status.idle": "2021-11-02T12:48:42.987988Z",
     "shell.execute_reply": "2021-11-02T12:48:42.987538Z",
     "shell.execute_reply.started": "2021-11-02T12:48:42.890891Z"
    }
   },
   "outputs": [
    {
     "data": {
      "application/vnd.jupyter.widget-view+json": {
       "model_id": "ac51354ded4941d2934b5401bd9a3529",
       "version_major": 2,
       "version_minor": 0
      },
      "text/plain": [
       "Canvas(toolbar=Toolbar(toolitems=[('Home', 'Reset original view', 'home', 'home'), ('Back', 'Back to previous …"
      ]
     },
     "metadata": {},
     "output_type": "display_data"
    },
    {
     "data": {
      "text/plain": [
       "[<matplotlib.lines.Line2D at 0x7f354155d340>]"
      ]
     },
     "execution_count": 25,
     "metadata": {},
     "output_type": "execute_result"
    }
   ],
   "source": [
    "q, I = ai.integrate1d(im2, 200, unit='q_nm^-1', mask = (1-mask).astype(bool), correctSolidAngle = False)\n",
    "\n",
    "fig, ax = plt.subplots()\n",
    "ax.plot(q, I)"
   ]
  },
  {
   "cell_type": "markdown",
   "metadata": {},
   "source": [
    "# Process delay scan\n",
    "set up empty DataArray using xarray \n",
    "\n",
    "Now, all images are loaded and processed. The azimutal integration is saved in the scan xarray. If you see strange things happening in your results plot, set *debug_plots* to **True**. This will save all images in the scan into our tmp folder and you can take a look at them."
   ]
  },
  {
   "cell_type": "code",
   "execution_count": 26,
   "metadata": {
    "execution": {
     "iopub.execute_input": "2021-11-02T12:48:57.671204Z",
     "iopub.status.busy": "2021-11-02T12:48:57.670705Z",
     "iopub.status.idle": "2021-11-02T12:48:57.676293Z",
     "shell.execute_reply": "2021-11-02T12:48:57.675193Z",
     "shell.execute_reply.started": "2021-11-02T12:48:57.671117Z"
    }
   },
   "outputs": [],
   "source": [
    "if not os.path.exists(f'/home/gerlinger/Documents/Beamtimes/2020-06_FERMI/Processed/{samplefolder}/{scanfolder}/'):\n",
    "    os.mkdir(f'/home/gerlinger/Documents/Beamtimes/2020-06_FERMI/Processed/{samplefolder}/{scanfolder}/')"
   ]
  },
  {
   "cell_type": "code",
   "execution_count": 28,
   "metadata": {
    "execution": {
     "iopub.execute_input": "2021-11-02T12:58:36.550756Z",
     "iopub.status.busy": "2021-11-02T12:58:36.550074Z",
     "iopub.status.idle": "2021-11-02T12:58:36.571251Z",
     "shell.execute_reply": "2021-11-02T12:58:36.569766Z",
     "shell.execute_reply.started": "2021-11-02T12:58:36.550676Z"
    }
   },
   "outputs": [
    {
     "data": {
      "text/plain": [
       "<module 'process_FERMI_2021' from './FERMI_2020-07/process_FERMI_2021.py'>"
      ]
     },
     "execution_count": 28,
     "metadata": {},
     "output_type": "execute_result"
    }
   ],
   "source": [
    "reload(pf)"
   ]
  },
  {
   "cell_type": "code",
   "execution_count": 29,
   "metadata": {
    "execution": {
     "iopub.execute_input": "2021-11-02T13:01:29.459977Z",
     "iopub.status.busy": "2021-11-02T13:01:29.459641Z",
     "iopub.status.idle": "2021-11-02T13:01:32.024047Z",
     "shell.execute_reply": "2021-11-02T13:01:32.023464Z",
     "shell.execute_reply.started": "2021-11-02T13:01:29.459938Z"
    }
   },
   "outputs": [
    {
     "data": {
      "application/vnd.jupyter.widget-view+json": {
       "model_id": "ed718c2bc093482293b9a2870697cdf3",
       "version_major": 2,
       "version_minor": 0
      },
      "text/plain": [
       "HBox(children=(FloatProgress(value=1.0, bar_style='info', layout=Layout(width='20px'), max=1.0), HTML(value=''…"
      ]
     },
     "metadata": {},
     "output_type": "display_data"
    },
    {
     "name": "stdout",
     "output_type": "stream",
     "text": [
      "0: Normalization of OF not okay.\n",
      "1: Normalization of OF not okay.\n",
      "0: Normalization of OF not okay.\n",
      "1: Normalization of OF not okay.\n",
      "0: Normalization of OF not okay.\n",
      "1: Normalization of OF not okay.\n",
      "1: Normalization of OF not okay.\n",
      "1: Normalization of OF not okay.\n",
      "1: Normalization of OF not okay.\n",
      "1: Normalization of OF not okay.\n",
      "1: Normalization of OF not okay.\n",
      "1: Normalization of OF not okay.\n",
      "1: Normalization of OF not okay.\n",
      "1: Normalization of OF not okay.\n",
      "1: Normalization of OF not okay.\n",
      "1: Normalization of OF not okay.\n",
      "1: Normalization of OF not okay.\n",
      "1: Normalization of OF not okay.\n",
      "1: Normalization of OF not okay.\n",
      "1: Normalization of OF not okay.\n",
      "90.2 ps: Skipped because the diode signal is too small.\n",
      "\n"
     ]
    }
   ],
   "source": [
    "scan = xr.DataArray(\n",
    "    np.zeros([len(exp), len(q)]),\n",
    "    dims=['delay', 'q'],\n",
    "    coords={'q': q, 'delay': np.sort(exp.delay)}\n",
    ")\n",
    "\n",
    "scan_plot = xr.DataArray(\n",
    "    np.zeros([len(exp), len(q)]),\n",
    "    dims=['delay', 'q'],\n",
    "    coords={'q': q, 'delay': np.sort(exp.delay)}\n",
    ")\n",
    "\n",
    "mean_im = []\n",
    "\n",
    "debug_plots = False\n",
    "folder_save = f'/home/gerlinger/Documents/Beamtimes/2020-06_FERMI/Processed/{samplefolder}/{scanfolder}/azimutal_integration/'\n",
    "\n",
    "norm_key = 'diode_sum_sum'\n",
    "\n",
    "expmean = np.mean(exp[norm_key])\n",
    "expstd = np.std(exp[norm_key])\n",
    "\n",
    "plt.ioff()\n",
    "for index, r in tqdm(exp.iterrows()):\n",
    "    exp_bg['sort_delay'] = np.abs(exp_bg['delay'] - r['delay'])\n",
    "    idx = np.where(exp_bg['sort_delay'] == np.min(exp_bg['sort_delay']))[0][0]\n",
    "    ct = 0\n",
    "    while np.abs(exp_of.iloc[idx][norm_key] - expmean) > 2 * expstd:\n",
    "        ct +=1\n",
    "        print(\"%i: Normalization of OF not okay.\"%idx)\n",
    "        if idx == 3:\n",
    "            idx -= 1\n",
    "        else:\n",
    "            idx += 1\n",
    "            \n",
    "        if ct >= 4:\n",
    "            break\n",
    "            \n",
    "    # Load image files\n",
    "    darkfile = exp_bg.iloc[idx]['filename']\n",
    "    dark = pf.loadh5(darkfile)[0].astype(int)\n",
    "    felfile = exp_of.iloc[idx]['filename']\n",
    "    fel = pf.load_image_diodenorm(felfile, dark, normkey = 'PAM/FQPDSum')\n",
    "    im = pf.load_image_diodenorm(r['filename'], dark, normkey = 'PAM/FQPDSum')\n",
    "    im = im - fel\n",
    "    \n",
    "    if debug_plots:\n",
    "        if not os.path.exists(folder_save):\n",
    "            os.mkdir(folder_save)\n",
    "        I_t, q_t, phi_t = ai.integrate2d(im, 200, unit='q_nm^-1', mask = (1-mask).astype(bool), correctSolidAngle = False)\n",
    "        az2d = xr.DataArray(I_t, dims = ('phi', 'q'), coords = {'q':q_t, 'phi': phi_t})\n",
    "        plot_ai(az2d, 6.67 * r['delay'] - 137.3, samplefolder, scanfolder, folder_save + '%.2f.png'%(6.67 * r['delay'] - 137.3))\n",
    "        \n",
    "    _, I = ai.integrate1d(im, 200, unit='q_nm^-1', mask = (1-mask).astype(bool), correctSolidAngle = False)\n",
    "    scan.loc[{'delay': r['delay']}] = I\n",
    "    if np.abs(r[norm_key] - expmean) < 2 * expstd:\n",
    "        scan_plot.loc[{'delay': r['delay']}] = I\n",
    "    else:\n",
    "        scan_plot.loc[{'delay': r['delay']}] = np.nan\n",
    "        print('%.1f ps: Skipped because the diode signal is too small.'%(6.67 * r['delay'] - 137.3))\n",
    "\n",
    "plt.ion()\n",
    "scan = scan.groupby('delay').mean()\n",
    "scan_plot = scan_plot.groupby('delay').mean()\n",
    "scan_plot = scan_plot.dropna('delay')"
   ]
  },
  {
   "cell_type": "markdown",
   "metadata": {},
   "source": [
    "## plot"
   ]
  },
  {
   "cell_type": "code",
   "execution_count": 31,
   "metadata": {
    "execution": {
     "iopub.execute_input": "2021-11-02T13:05:52.721357Z",
     "iopub.status.busy": "2021-11-02T13:05:52.720903Z",
     "iopub.status.idle": "2021-11-02T13:05:52.733162Z",
     "shell.execute_reply": "2021-11-02T13:05:52.732180Z",
     "shell.execute_reply.started": "2021-11-02T13:05:52.721304Z"
    }
   },
   "outputs": [
    {
     "name": "stdout",
     "output_type": "stream",
     "text": [
      "Swapped Dimensions\n"
     ]
    }
   ],
   "source": [
    "t0 = 137.3\n",
    "scan['delay_ps'] = 6.67 * scan['delay'] - t0\n",
    "scan_plot['delay_ps'] = 6.67 * scan_plot['delay'] - t0\n",
    "try:\n",
    "    scan = scan.swap_dims({'delay': 'delay_ps'})\n",
    "    scan_plot = scan_plot.swap_dims({'delay': 'delay_ps'})\n",
    "    print('Swapped Dimensions')\n",
    "except Exception:\n",
    "    print('Something went wrong.')\n",
    "    pass"
   ]
  },
  {
   "cell_type": "code",
   "execution_count": 32,
   "metadata": {
    "execution": {
     "iopub.execute_input": "2021-11-02T13:05:53.718790Z",
     "iopub.status.busy": "2021-11-02T13:05:53.718496Z",
     "iopub.status.idle": "2021-11-02T13:05:53.733598Z",
     "shell.execute_reply": "2021-11-02T13:05:53.732489Z",
     "shell.execute_reply.started": "2021-11-02T13:05:53.718755Z"
    }
   },
   "outputs": [],
   "source": [
    "qmin, qmax = 0.0, np.max(scan.q)\n",
    "\n",
    "demag = scan.where((scan['q'] > qmin) & (scan['q'] < qmax)).sum('q')\n",
    "demag_plot = scan_plot.where((scan_plot['q'] > qmin) & (scan_plot['q'] < qmax)).sum('q')\n",
    "\n",
    "qmean = scan.where((scan['q'] > qmin) & (scan['q'] < qmax)).mean('q')"
   ]
  },
  {
   "cell_type": "code",
   "execution_count": 40,
   "metadata": {
    "execution": {
     "iopub.execute_input": "2021-11-02T13:15:04.630008Z",
     "iopub.status.busy": "2021-11-02T13:15:04.629737Z",
     "iopub.status.idle": "2021-11-02T13:15:04.687990Z",
     "shell.execute_reply": "2021-11-02T13:15:04.687407Z",
     "shell.execute_reply.started": "2021-11-02T13:15:04.629975Z"
    }
   },
   "outputs": [
    {
     "data": {
      "application/vnd.jupyter.widget-view+json": {
       "model_id": "8d4e960653bd4753ad20513faf27f5cf",
       "version_major": 2,
       "version_minor": 0
      },
      "text/plain": [
       "Canvas(toolbar=Toolbar(toolitems=[('Home', 'Reset original view', 'home', 'home'), ('Back', 'Back to previous …"
      ]
     },
     "metadata": {},
     "output_type": "display_data"
    },
    {
     "data": {
      "text/plain": [
       "Text(0.5, 0.98, 'CoPt_noAl / C4_Scan019: IR 17 mJ/cm²')"
      ]
     },
     "execution_count": 40,
     "metadata": {},
     "output_type": "execute_result"
    }
   ],
   "source": [
    "ir = int(np.round(np.mean(exp['IR_mean'])))\n",
    "fig, ax = plt.subplots(nrows=2, ncols = 1, figsize=(7, 4.5), sharex=True, tight_layout=True)\n",
    "vmin, vmax = float(scan_plot.min()), float(scan_plot.max())\n",
    "scan_plot.plot.contourf(x='delay_ps', y='q', ax=ax[0], cmap='viridis', add_colorbar=False,\n",
    "                   vmin=vmin, vmax=vmax, levels=30)\n",
    "ax[1].plot(demag_plot.delay_ps, demag_plot, 'o-')\n",
    "ax[1].grid()\n",
    "\n",
    "fig.suptitle(f'{samplefolder} / {scanfolder}: IR {ir} mJ/cm²')"
   ]
  },
  {
   "cell_type": "code",
   "execution_count": 93,
   "metadata": {
    "execution": {
     "iopub.execute_input": "2021-06-28T13:57:25.273575Z",
     "iopub.status.busy": "2021-06-28T13:57:25.273120Z",
     "iopub.status.idle": "2021-06-28T13:57:25.283666Z",
     "shell.execute_reply": "2021-06-28T13:57:25.283047Z",
     "shell.execute_reply.started": "2021-06-28T13:57:25.273523Z"
    }
   },
   "outputs": [],
   "source": [
    "plt.close('all')"
   ]
  },
  {
   "cell_type": "code",
   "execution_count": 123,
   "metadata": {
    "execution": {
     "iopub.execute_input": "2021-07-19T14:07:41.942608Z",
     "iopub.status.busy": "2021-07-19T14:07:41.942336Z",
     "iopub.status.idle": "2021-07-19T14:07:42.623302Z",
     "shell.execute_reply": "2021-07-19T14:07:42.622711Z",
     "shell.execute_reply.started": "2021-07-19T14:07:41.942575Z"
    }
   },
   "outputs": [
    {
     "name": "stderr",
     "output_type": "stream",
     "text": [
      "/home/gerlinger/miniconda3/lib/python3.8/site-packages/pandas/core/generic.py:2431: PerformanceWarning: \n",
      "your performance may suffer as PyTables will pickle object types that it cannot\n",
      "map directly to c-types [inferred_type->mixed,key->block2_values] [items->Index(['filename', 'xgm_UH', 'xgm_SH', 'filter_EH_in', 'filter_UH_in',\n",
      "       'diode_I0', 'diode_sum', 'IR', 'valve_pos2', 'valve_dpi3', 'comment',\n",
      "       'magnet', 'bunches'],\n",
      "      dtype='object')]\n",
      "\n",
      "  pytables.to_hdf(\n"
     ]
    }
   ],
   "source": [
    "if not os.path.exists(f'/home/gerlinger/Documents/Beamtimes/2020-06_FERMI/Processed/{samplefolder}/{scanfolder}/'):\n",
    "    os.mkdir(f'/home/gerlinger/Documents/Beamtimes/2020-06_FERMI/Processed/{samplefolder}/{scanfolder}/')\n",
    "\n",
    "exp.to_hdf(f'/home/gerlinger/Documents/Beamtimes/2020-06_FERMI/Processed/{samplefolder}/{scanfolder}/{scanfolder}.h5', key = 'Exp_Data')\n",
    "scan.to_netcdf(f'/home/gerlinger/Documents/Beamtimes/2020-06_FERMI/Processed/{samplefolder}/{scanfolder}/{scanfolder}_Scan.h5')\n",
    "scan_plot.to_netcdf(f'/home/gerlinger/Documents/Beamtimes/2020-06_FERMI/Processed/{samplefolder}/{scanfolder}/{scanfolder}_Scan-plot.h5')\n",
    "demag.to_netcdf(f'/home/gerlinger/Documents/Beamtimes/2020-06_FERMI/Processed/{samplefolder}/{scanfolder}/{scanfolder}_Demag.h5')\n",
    "demag_plot.to_netcdf(f'/home/gerlinger/Documents/Beamtimes/2020-06_FERMI/Processed/{samplefolder}/{scanfolder}/{scanfolder}_Demag-plot.h5')"
   ]
  },
  {
   "cell_type": "markdown",
   "metadata": {},
   "source": [
    "## 1ns and final state"
   ]
  },
  {
   "cell_type": "code",
   "execution_count": 124,
   "metadata": {
    "execution": {
     "iopub.execute_input": "2021-07-19T14:07:46.065542Z",
     "iopub.status.busy": "2021-07-19T14:07:46.065210Z",
     "iopub.status.idle": "2021-07-19T14:07:46.071400Z",
     "shell.execute_reply": "2021-07-19T14:07:46.070360Z",
     "shell.execute_reply.started": "2021-07-19T14:07:46.065503Z"
    }
   },
   "outputs": [
    {
     "name": "stdout",
     "output_type": "stream",
     "text": [
      "/home/gerlinger/Documents/Beamtimes/2020-06_FERMI/Data/CoPt_noAl/C4_Scan019_OF/rawdata/C4_Scan019_OF_658458482.h5\n"
     ]
    }
   ],
   "source": [
    "t = 0\n",
    "for f in exp_of['filename']:\n",
    "    if os.path.getmtime(f) > t:\n",
    "        t = os.path.getmtime(f)\n",
    "        felfile = f\n",
    "        \n",
    "print(felfile)"
   ]
  },
  {
   "cell_type": "code",
   "execution_count": 126,
   "metadata": {
    "execution": {
     "iopub.execute_input": "2021-07-19T14:07:47.636896Z",
     "iopub.status.busy": "2021-07-19T14:07:47.636338Z",
     "iopub.status.idle": "2021-07-19T14:07:47.733831Z",
     "shell.execute_reply": "2021-07-19T14:07:47.733392Z",
     "shell.execute_reply.started": "2021-07-19T14:07:47.636829Z"
    }
   },
   "outputs": [],
   "source": [
    "darkfile = exp_bg.iloc[idx]['filename']\n",
    "dark = pf.loadh5(darkfile)[0].astype(int)\n",
    "offile = exp_of.iloc[idx]['filename']\n",
    "of = (pf.loadh5(offile)[0].astype(int) - dark) / exp_of.iloc[idx][norm_key]\n",
    "# of = of - np.mean(of[-50:, 500:])\n",
    "\n",
    "fel = (pf.loadh5(felfile)[0].astype(int) - dark) / exp_of.iloc[-1][norm_key] - of\n",
    "# fel = fel - np.mean(fel[-50:, 500:])\n",
    "\n",
    "_, I_fel = ai.integrate1d(fel, 200, unit='q_nm^-1', mask = (1-mask).astype(bool), correctSolidAngle=False)\n",
    "I = scanb.sel(delay_ps=1e3, method='nearest')"
   ]
  },
  {
   "cell_type": "code",
   "execution_count": 127,
   "metadata": {
    "execution": {
     "iopub.execute_input": "2021-07-19T14:07:53.433990Z",
     "iopub.status.busy": "2021-07-19T14:07:53.433499Z",
     "iopub.status.idle": "2021-07-19T14:07:53.489479Z",
     "shell.execute_reply": "2021-07-19T14:07:53.489032Z",
     "shell.execute_reply.started": "2021-07-19T14:07:53.433936Z"
    }
   },
   "outputs": [
    {
     "data": {
      "application/vnd.jupyter.widget-view+json": {
       "model_id": "09c813f304174a3093dbadee0512b4c7",
       "version_major": 2,
       "version_minor": 0
      },
      "text/plain": [
       "Canvas(toolbar=Toolbar(toolitems=[('Home', 'Reset original view', 'home', 'home'), ('Back', 'Back to previous …"
      ]
     },
     "metadata": {},
     "output_type": "display_data"
    },
    {
     "data": {
      "text/plain": [
       "<matplotlib.colorbar.Colorbar at 0x7f34a13cb340>"
      ]
     },
     "execution_count": 127,
     "metadata": {},
     "output_type": "execute_result"
    }
   ],
   "source": [
    "mi, ma = np.percentile(fel * mask, (1, 99))\n",
    "fig, ax = plt.subplots()\n",
    "mm = ax.imshow(fel, vmin = mi, vmax = ma)\n",
    "plt.colorbar(mm)"
   ]
  },
  {
   "cell_type": "code",
   "execution_count": 128,
   "metadata": {
    "execution": {
     "iopub.execute_input": "2021-07-19T14:07:55.861717Z",
     "iopub.status.busy": "2021-07-19T14:07:55.861562Z",
     "iopub.status.idle": "2021-07-19T14:07:55.936985Z",
     "shell.execute_reply": "2021-07-19T14:07:55.936430Z",
     "shell.execute_reply.started": "2021-07-19T14:07:55.861699Z"
    }
   },
   "outputs": [
    {
     "data": {
      "application/vnd.jupyter.widget-view+json": {
       "model_id": "845342cd082541479760e690590b3c2f",
       "version_major": 2,
       "version_minor": 0
      },
      "text/plain": [
       "Canvas(toolbar=Toolbar(toolitems=[('Home', 'Reset original view', 'home', 'home'), ('Back', 'Back to previous …"
      ]
     },
     "metadata": {},
     "output_type": "display_data"
    }
   ],
   "source": [
    "fig, ax = plt.subplots()\n",
    "# ax.set_yscale('log')\n",
    "ax.plot(scan.q, I_fel, '-', label = 'final')\n",
    "ax.plot(scan.q, scan.sel(delay_ps=1000, method='nearest'), '-', label = '1000 ps')\n",
    "ax.plot(scan.q, scan.sel(delay_ps=100, method='nearest'), '-', label = '100 ps')\n",
    "#ax.plot(scan.q, I_fel, '-', label = 'final state')\n",
    "ax.set_xlabel(r'q (nm$^{-1}$)')\n",
    "ax.set_ylabel('Intensity (a.u.)')\n",
    "ax.set_title(f'{samplefolder} / {scanfolder}')\n",
    "\n",
    "# ax.set_ylim(top = 6e-4)\n",
    "ax.legend()\n",
    "ax.grid()\n",
    "fig.tight_layout()"
   ]
  },
  {
   "cell_type": "code",
   "execution_count": 129,
   "metadata": {
    "execution": {
     "iopub.execute_input": "2021-07-19T14:07:59.907723Z",
     "iopub.status.busy": "2021-07-19T14:07:59.907281Z",
     "iopub.status.idle": "2021-07-19T14:07:59.943032Z",
     "shell.execute_reply": "2021-07-19T14:07:59.942572Z",
     "shell.execute_reply.started": "2021-07-19T14:07:59.907671Z"
    }
   },
   "outputs": [],
   "source": [
    "df = pd.DataFrame({'q': scan.q, 'I': I_fel})\n",
    "df.to_hdf(f'/home/gerlinger/Documents/Beamtimes/2020-06_FERMI/Processed/{samplefolder}/{scanfolder}/{scanfolder}_final-state.h5', key = 'Intensity')"
   ]
  },
  {
   "cell_type": "code",
   "execution_count": 178,
   "metadata": {
    "execution": {
     "iopub.execute_input": "2021-06-24T07:47:16.966470Z",
     "iopub.status.busy": "2021-06-24T07:47:16.965909Z",
     "iopub.status.idle": "2021-06-24T07:47:16.985660Z",
     "shell.execute_reply": "2021-06-24T07:47:16.984047Z",
     "shell.execute_reply.started": "2021-06-24T07:47:16.966402Z"
    }
   },
   "outputs": [],
   "source": [
    "plt.close('all')"
   ]
  },
  {
   "cell_type": "code",
   "execution_count": 53,
   "metadata": {
    "execution": {
     "iopub.execute_input": "2021-06-17T13:20:51.266119Z",
     "iopub.status.busy": "2021-06-17T13:20:51.265844Z",
     "iopub.status.idle": "2021-06-17T13:20:51.345452Z",
     "shell.execute_reply": "2021-06-17T13:20:51.345015Z",
     "shell.execute_reply.started": "2021-06-17T13:20:51.266086Z"
    }
   },
   "outputs": [
    {
     "data": {
      "application/vnd.jupyter.widget-view+json": {
       "model_id": "d0cf37450e974412b7bb735573590ee8",
       "version_major": 2,
       "version_minor": 0
      },
      "text/plain": [
       "Canvas(toolbar=Toolbar(toolitems=[('Home', 'Reset original view', 'home', 'home'), ('Back', 'Back to previous …"
      ]
     },
     "metadata": {},
     "output_type": "display_data"
    }
   ],
   "source": [
    "fig, ax = plt.subplots()\n",
    "ax.plot(scan.q, I_of - I_before, '-', label = 'difference OF - initial scattering')\n",
    "ax.set_xlabel('q')\n",
    "ax.set_ylabel('Intensity (a.u.)')\n",
    "ax.set_title(f'{samplefolder} / {scanfolder}')\n",
    "ax.legend()\n",
    "ax.grid()\n",
    "fig.tight_layout()"
   ]
  },
  {
   "cell_type": "markdown",
   "metadata": {},
   "source": [
    "# Misc"
   ]
  },
  {
   "cell_type": "markdown",
   "metadata": {},
   "source": [
    "## Azimutal Integration for specific images"
   ]
  },
  {
   "cell_type": "code",
   "execution_count": null,
   "metadata": {
    "execution": {
     "iopub.status.busy": "2021-06-08T13:30:22.411951Z",
     "iopub.status.idle": "2021-06-08T13:30:22.412126Z"
    }
   },
   "outputs": [],
   "source": [
    "imagelist = {\n",
    "    '5258.h5': 2.5,\n",
    "    '1426.h5': 5,\n",
    "    #'0249.h5': 7.5,\n",
    "    '5428.h5': 10,\n",
    "    #'3233.h5': 12.5,\n",
    "    '3233.h5': 15,\n",
    "    '6571.h5': 17.5,\n",
    "    '8033.h5': 20,\n",
    "}"
   ]
  },
  {
   "cell_type": "code",
   "execution_count": null,
   "metadata": {
    "execution": {
     "iopub.status.busy": "2021-06-08T13:30:22.412770Z",
     "iopub.status.idle": "2021-06-08T13:30:22.412942Z"
    }
   },
   "outputs": [],
   "source": [
    "filtered = pf.filtering(f'{basefolder}{samplefolder}/', list(k for k in imagelist.keys()))\n",
    "filtered = [f for f in filtered if 'C4' in f]"
   ]
  },
  {
   "cell_type": "code",
   "execution_count": null,
   "metadata": {
    "execution": {
     "iopub.status.busy": "2021-06-08T13:30:22.413539Z",
     "iopub.status.idle": "2021-06-08T13:30:22.413711Z"
    }
   },
   "outputs": [],
   "source": [
    "sortf = np.array([filtered[0]] * len(filtered))\n",
    "imarray = np.array(list(k for k in imagelist.keys()))\n",
    "for file in filtered:\n",
    "    idx = np.where(imarray == file[-7:])[0][0]\n",
    "    sortf[idx] = deepcopy(file)"
   ]
  },
  {
   "cell_type": "code",
   "execution_count": null,
   "metadata": {
    "execution": {
     "iopub.status.busy": "2021-06-08T13:30:22.414218Z",
     "iopub.status.idle": "2021-06-08T13:30:22.414387Z"
    }
   },
   "outputs": [],
   "source": [
    "az_int = []\n",
    "images = []\n",
    "for f in sortf:\n",
    "    im, meta = pf.loadh5(f, extra_keys={'diode_sum': 'PAM/FQPDSum',})\n",
    "    im = (im - dark.astype(float))/ np.sum(meta['diode_sum'])\n",
    "    im -= (np.mean(im[-50:, 500:]) + before)\n",
    "    images.append(im)\n",
    "    q, I = ai.integrate1d(im * mask, 200, unit='q_nm^-1')\n",
    "    az_int.append(I / norm)\n",
    "integrated = xr.DataArray(az_int, dims=['labels', 'q'], coords = {'q': q})\n",
    "images = np.array(images)"
   ]
  },
  {
   "cell_type": "code",
   "execution_count": null,
   "metadata": {
    "execution": {
     "iopub.status.busy": "2021-06-08T13:30:22.414916Z",
     "iopub.status.idle": "2021-06-08T13:30:22.415085Z"
    }
   },
   "outputs": [],
   "source": [
    "integrated[-2].to_netcdf(f'/home/gerlinger/Documents/Beamtimes/2020-06_FERMI/Processed/{samplefolder}/{scanfolder}/{scanfolder}_final-state.h5')\n",
    "I_fel = integrated[-2]"
   ]
  },
  {
   "cell_type": "code",
   "execution_count": null,
   "metadata": {
    "execution": {
     "iopub.status.busy": "2021-06-08T13:30:22.415523Z",
     "iopub.status.idle": "2021-06-08T13:30:22.415849Z"
    }
   },
   "outputs": [],
   "source": [
    "label = np.round(np.array([ 2.08208978,  4.16417957,  6.24626935,  8.32835914, 10.41044892, 12.4925387 , 14.57462849, 16.65671827]), decimals = 1)\n",
    "blues = ['#edf8b1', '#c7e9b4', '#7fcdbb', '#41b6c4', '#1d91c0', '#225ea8', '#253494', '#081d58']\n",
    "# plot, instead of the file endings you can also define a label list and iterate through that list\n",
    "fig, ax = plt.subplots()\n",
    "ct = 0\n",
    "for data in integrated:\n",
    "    ax.plot(integrated.q, data, blues[ct], label = f'{label[ct]} mJ/cm$^2$')\n",
    "    ct += 1\n",
    "plt.legend()\n",
    "ax.set_xlabel('q (nm$^{-1}$)')\n",
    "ax.set_ylabel('intensity (a.u.)')\n",
    "ax.grid()\n",
    "ax.set_title(f'{samplefolder} / {scanfolder}: Magnet %.1f A'%mag_max)\n",
    "fig.tight_layout()"
   ]
  },
  {
   "cell_type": "markdown",
   "metadata": {},
   "source": [
    "## Get magnet information\n",
    "\n",
    "This is only done when doing a delay scan to check what the maximal magnet amperage was and at which amperage the FEL hit the sample.\n",
    "\n",
    "Since this process should be identical for each delay, we only take the magnet info from the image that was plotted above.\n",
    "\n",
    "Please check that the lower plateau was correctly found! If the orange curve is only 1 on these lower plateaus everything is fine. If not, please change the chunksize (the numbers of points over which the slope is calculated) or the maximum slope. The default values, also here as default in the template, are *chunksize = 500, max_slope = 4e-7*."
   ]
  },
  {
   "cell_type": "code",
   "execution_count": 419,
   "metadata": {
    "execution": {
     "iopub.execute_input": "2021-06-25T10:29:12.783050Z",
     "iopub.status.busy": "2021-06-25T10:29:12.782442Z",
     "iopub.status.idle": "2021-06-25T10:29:12.795680Z",
     "shell.execute_reply": "2021-06-25T10:29:12.794428Z",
     "shell.execute_reply.started": "2021-06-25T10:29:12.782976Z"
    }
   },
   "outputs": [],
   "source": [
    "def get_magnet(fname, offset = .2, plot = True, chunksize = 500, max_slope = 4e-7):\n",
    "    scan = split(split(split(fname)[0])[0])[-1]\n",
    "    sample = split(split(split(split(fname)[0])[0])[0])[-1]\n",
    "    with h5py.File(fname, 'r') as f:\n",
    "        magnet = f['Lecroy/Wave3'][()]\n",
    "    mag_mean = np.mean(magnet, axis = 0) + offset\n",
    "    mag_lower = np.mean(mag_mean[np.where(pf.zero_slope(mag_mean, 500) == 1)])\n",
    "    mag_upper = np.max(mag_mean)\n",
    "    if plot:\n",
    "        sname = split(fname)[-1]\n",
    "        fig, ax = plt.subplots()\n",
    "        ax.plot(mag_mean, label = 'mean')\n",
    "        ax.plot(pf.zero_slope(mag_mean, chunksize, max_slope), label = 'magnet change')\n",
    "        ax.grid()\n",
    "        ax.set_xlabel('time (a.u.)')\n",
    "        ax.set_ylabel('magnet current (A)')\n",
    "        ax.legend()\n",
    "        ax.set_title(f'{sample}/{scan}' + ': max = %.1f, min = %.1f'%(mag_upper, mag_lower)) #include max and min of magnet current in title\n",
    "        #fig.savefig(f'../images/Magnet/{sname}.png')\n",
    "    return (magnet, mag_lower, mag_upper)"
   ]
  },
  {
   "cell_type": "code",
   "execution_count": 414,
   "metadata": {
    "execution": {
     "iopub.execute_input": "2021-06-25T10:26:15.884819Z",
     "iopub.status.busy": "2021-06-25T10:26:15.884154Z",
     "iopub.status.idle": "2021-06-25T10:26:15.896685Z",
     "shell.execute_reply": "2021-06-25T10:26:15.894068Z",
     "shell.execute_reply.started": "2021-06-25T10:26:15.884742Z"
    }
   },
   "outputs": [],
   "source": [
    "dd = np.float(scan.sel(delay_ps=40, method='nearest').delay)"
   ]
  },
  {
   "cell_type": "code",
   "execution_count": 420,
   "metadata": {
    "execution": {
     "iopub.execute_input": "2021-06-25T10:29:15.135683Z",
     "iopub.status.busy": "2021-06-25T10:29:15.135219Z",
     "iopub.status.idle": "2021-06-25T10:29:15.187934Z",
     "shell.execute_reply": "2021-06-25T10:29:15.187119Z",
     "shell.execute_reply.started": "2021-06-25T10:29:15.135631Z"
    }
   },
   "outputs": [
    {
     "data": {
      "application/vnd.jupyter.widget-view+json": {
       "model_id": "8e38d11108e64f98bbec01e75476c4dd",
       "version_major": 2,
       "version_minor": 0
      },
      "text/plain": [
       "Canvas(toolbar=Toolbar(toolitems=[('Home', 'Reset original view', 'home', 'home'), ('Back', 'Back to previous …"
      ]
     },
     "metadata": {},
     "output_type": "display_data"
    },
    {
     "ename": "NameError",
     "evalue": "name 'zero_slope' is not defined",
     "output_type": "error",
     "traceback": [
      "\u001b[0;31m---------------------------------------------------------------------------\u001b[0m",
      "\u001b[0;31mNameError\u001b[0m                                 Traceback (most recent call last)",
      "\u001b[0;32m<ipython-input-420-7292e219fe4f>\u001b[0m in \u001b[0;36m<module>\u001b[0;34m\u001b[0m\n\u001b[0;32m----> 1\u001b[0;31m magnet, mag_min, mag_max = get_magnet(exp.loc[exp.delay == dd]['filename'].values[0], offset = .3,\n\u001b[0m\u001b[1;32m      2\u001b[0m                                  chunksize = 500, max_slope = 4e-7, plot = True) #exp.iloc[0]['filename']\n",
      "\u001b[0;32m<ipython-input-419-2cdb4eb1984e>\u001b[0m in \u001b[0;36mget_magnet\u001b[0;34m(fname, offset, plot, chunksize, max_slope)\u001b[0m\n\u001b[1;32m     11\u001b[0m         \u001b[0mfig\u001b[0m\u001b[0;34m,\u001b[0m \u001b[0max\u001b[0m \u001b[0;34m=\u001b[0m \u001b[0mplt\u001b[0m\u001b[0;34m.\u001b[0m\u001b[0msubplots\u001b[0m\u001b[0;34m(\u001b[0m\u001b[0;34m)\u001b[0m\u001b[0;34m\u001b[0m\u001b[0;34m\u001b[0m\u001b[0m\n\u001b[1;32m     12\u001b[0m         \u001b[0max\u001b[0m\u001b[0;34m.\u001b[0m\u001b[0mplot\u001b[0m\u001b[0;34m(\u001b[0m\u001b[0mmag_mean\u001b[0m\u001b[0;34m,\u001b[0m \u001b[0mlabel\u001b[0m \u001b[0;34m=\u001b[0m \u001b[0;34m'mean'\u001b[0m\u001b[0;34m)\u001b[0m\u001b[0;34m\u001b[0m\u001b[0;34m\u001b[0m\u001b[0m\n\u001b[0;32m---> 13\u001b[0;31m         \u001b[0max\u001b[0m\u001b[0;34m.\u001b[0m\u001b[0mplot\u001b[0m\u001b[0;34m(\u001b[0m\u001b[0mzero_slope\u001b[0m\u001b[0;34m(\u001b[0m\u001b[0mmag_mean\u001b[0m\u001b[0;34m,\u001b[0m \u001b[0mchunksize\u001b[0m\u001b[0;34m,\u001b[0m \u001b[0mmax_slope\u001b[0m\u001b[0;34m)\u001b[0m\u001b[0;34m,\u001b[0m \u001b[0mlabel\u001b[0m \u001b[0;34m=\u001b[0m \u001b[0;34m'magnet change'\u001b[0m\u001b[0;34m)\u001b[0m\u001b[0;34m\u001b[0m\u001b[0;34m\u001b[0m\u001b[0m\n\u001b[0m\u001b[1;32m     14\u001b[0m         \u001b[0max\u001b[0m\u001b[0;34m.\u001b[0m\u001b[0mgrid\u001b[0m\u001b[0;34m(\u001b[0m\u001b[0;34m)\u001b[0m\u001b[0;34m\u001b[0m\u001b[0;34m\u001b[0m\u001b[0m\n\u001b[1;32m     15\u001b[0m         \u001b[0max\u001b[0m\u001b[0;34m.\u001b[0m\u001b[0mset_xlabel\u001b[0m\u001b[0;34m(\u001b[0m\u001b[0;34m'time (a.u.)'\u001b[0m\u001b[0;34m)\u001b[0m\u001b[0;34m\u001b[0m\u001b[0;34m\u001b[0m\u001b[0m\n",
      "\u001b[0;31mNameError\u001b[0m: name 'zero_slope' is not defined"
     ]
    }
   ],
   "source": [
    "magnet, mag_min, mag_max = get_magnet(exp.loc[exp.delay == dd]['filename'].values[0], offset = .3,\n",
    "                                 chunksize = 500, max_slope = 4e-7, plot = True) #exp.iloc[0]['filename']"
   ]
  },
  {
   "cell_type": "code",
   "execution_count": null,
   "metadata": {},
   "outputs": [],
   "source": []
  }
 ],
 "metadata": {
  "kernelspec": {
   "display_name": "Python 3 (ipykernel)",
   "language": "python",
   "name": "python3"
  },
  "language_info": {
   "codemirror_mode": {
    "name": "ipython",
    "version": 3
   },
   "file_extension": ".py",
   "mimetype": "text/x-python",
   "name": "python",
   "nbconvert_exporter": "python",
   "pygments_lexer": "ipython3",
   "version": "3.9.5"
  },
  "toc": {
   "base_numbering": 1,
   "nav_menu": {
    "height": "179.1px",
    "width": "252px"
   },
   "number_sections": true,
   "sideBar": true,
   "skip_h1_title": false,
   "title_cell": "Table of Contents",
   "title_sidebar": "Contents",
   "toc_cell": false,
   "toc_position": {
    "height": "calc(100% - 180px)",
    "left": "10px",
    "top": "150px",
    "width": "300px"
   },
   "toc_section_display": "block",
   "toc_window_display": true
  },
  "toc-autonumbering": true,
  "toc-showcode": false,
  "varInspector": {
   "cols": {
    "lenName": 16,
    "lenType": 16,
    "lenVar": 40
   },
   "kernels_config": {
    "python": {
     "delete_cmd_postfix": "",
     "delete_cmd_prefix": "del ",
     "library": "var_list.py",
     "varRefreshCmd": "print(var_dic_list())"
    },
    "r": {
     "delete_cmd_postfix": ") ",
     "delete_cmd_prefix": "rm(",
     "library": "var_list.r",
     "varRefreshCmd": "cat(var_dic_list()) "
    }
   },
   "oldHeight": 493.85,
   "position": {
    "height": "40px",
    "left": "1580px",
    "right": "20px",
    "top": "120px",
    "width": "250px"
   },
   "types_to_exclude": [
    "module",
    "function",
    "builtin_function_or_method",
    "instance",
    "_Feature"
   ],
   "varInspector_section_display": "none",
   "window_display": true
  }
 },
 "nbformat": 4,
 "nbformat_minor": 4
}
