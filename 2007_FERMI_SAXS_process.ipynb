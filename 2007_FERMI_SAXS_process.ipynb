{
 "cells": [
  {
   "cell_type": "markdown",
   "metadata": {},
   "source": [
    "# imports"
   ]
  },
  {
   "cell_type": "code",
   "execution_count": 1,
   "metadata": {},
   "outputs": [],
   "source": [
    "import numpy as np\n",
    "import xarray as xr\n",
    "import h5py\n",
    "from os.path import join\n",
    "\n",
    "import matplotlib.pyplot as plt\n",
    "import process_FERMI as pf\n",
    "from importlib import reload"
   ]
  },
  {
   "cell_type": "code",
   "execution_count": 18,
   "metadata": {},
   "outputs": [],
   "source": [
    "# execute after modifying library\n",
    "pf = reload(pf)"
   ]
  },
  {
   "cell_type": "markdown",
   "metadata": {},
   "source": [
    "# load non-image data"
   ]
  },
  {
   "cell_type": "code",
   "execution_count": 3,
   "metadata": {},
   "outputs": [],
   "source": [
    "basefolder = './testdata/F6_Scan2/'\n",
    "\n",
    "exp = pf.get_exp_dataframe(basefolder)\n",
    "for k in ['xgm_UH', 'xgm_SH']:\n",
    "    exp[k + '_mean'] = exp[k].apply(np.mean)\n"
   ]
  },
  {
   "cell_type": "markdown",
   "metadata": {},
   "source": [
    "Let's have a look at it"
   ]
  },
  {
   "cell_type": "code",
   "execution_count": 4,
   "metadata": {},
   "outputs": [
    {
     "data": {
      "text/html": [
       "<div>\n",
       "<style scoped>\n",
       "    .dataframe tbody tr th:only-of-type {\n",
       "        vertical-align: middle;\n",
       "    }\n",
       "\n",
       "    .dataframe tbody tr th {\n",
       "        vertical-align: top;\n",
       "    }\n",
       "\n",
       "    .dataframe thead th {\n",
       "        text-align: right;\n",
       "    }\n",
       "</style>\n",
       "<table border=\"1\" class=\"dataframe\">\n",
       "  <thead>\n",
       "    <tr style=\"text-align: right;\">\n",
       "      <th></th>\n",
       "      <th>filename</th>\n",
       "      <th>xgm_UH</th>\n",
       "      <th>xgm_SH</th>\n",
       "      <th>filter_seed</th>\n",
       "      <th>wavelength</th>\n",
       "      <th>diode_I0</th>\n",
       "      <th>polarization</th>\n",
       "      <th>harmonic</th>\n",
       "      <th>delay</th>\n",
       "      <th>alignz</th>\n",
       "      <th>samplez</th>\n",
       "      <th>valve_pos2</th>\n",
       "      <th>valve_dpi3</th>\n",
       "      <th>comment</th>\n",
       "      <th>xgm_UH_mean</th>\n",
       "      <th>xgm_SH_mean</th>\n",
       "    </tr>\n",
       "  </thead>\n",
       "  <tbody>\n",
       "    <tr>\n",
       "      <th>0</th>\n",
       "      <td>./testdata/F6_Scan2/rawdata/F6_Scan2_163566276.h5</td>\n",
       "      <td>[31.608288077805778, 24.054997914248865, 19.95...</td>\n",
       "      <td>[4.013813812184072, 3.1157464618981434, 2.5481...</td>\n",
       "      <td>Al-200</td>\n",
       "      <td>20.8</td>\n",
       "      <td>[148.29769134521484, 110.25238037109375, 86.64...</td>\n",
       "      <td>3.0</td>\n",
       "      <td>12.0</td>\n",
       "      <td>139.60</td>\n",
       "      <td>53.499987</td>\n",
       "      <td>-0.000529</td>\n",
       "      <td>3</td>\n",
       "      <td>3</td>\n",
       "      <td>1. 1 of 141. Delay 139.600 mm - IR 123uJ, UV 8...</td>\n",
       "      <td>27.248608</td>\n",
       "      <td>3.469665</td>\n",
       "    </tr>\n",
       "    <tr>\n",
       "      <th>1</th>\n",
       "      <td>./testdata/F6_Scan2/rawdata/F6_Scan2_163566397.h5</td>\n",
       "      <td>[31.818450242942262, 30.080162743601022, 28.83...</td>\n",
       "      <td>[4.0090751726935405, 3.8203728650552846, 3.701...</td>\n",
       "      <td>Al-200</td>\n",
       "      <td>20.8</td>\n",
       "      <td>[141.24155044555664, 128.84445190429688, 133.1...</td>\n",
       "      <td>3.0</td>\n",
       "      <td>12.0</td>\n",
       "      <td>139.60</td>\n",
       "      <td>53.499987</td>\n",
       "      <td>-0.000532</td>\n",
       "      <td>3</td>\n",
       "      <td>3</td>\n",
       "      <td>1. 1 of 141. Delay 139.600 mm - IR 123uJ, UV 8...</td>\n",
       "      <td>30.014540</td>\n",
       "      <td>3.762386</td>\n",
       "    </tr>\n",
       "    <tr>\n",
       "      <th>2</th>\n",
       "      <td>./testdata/F6_Scan2/rawdata/F6_Scan2_163566781.h5</td>\n",
       "      <td>[34.596677782294556, 34.39155355561752, 31.670...</td>\n",
       "      <td>[4.350732913795905, 4.437113089158626, 3.99594...</td>\n",
       "      <td>Al-200</td>\n",
       "      <td>20.8</td>\n",
       "      <td>[156.58235549926758, 166.76387786865234, 139.6...</td>\n",
       "      <td>3.0</td>\n",
       "      <td>12.0</td>\n",
       "      <td>139.61</td>\n",
       "      <td>53.499987</td>\n",
       "      <td>-0.000532</td>\n",
       "      <td>3</td>\n",
       "      <td>3</td>\n",
       "      <td>1. 2 of 141. Delay 139.610 mm - IR 123uJ, UV 8...</td>\n",
       "      <td>33.381774</td>\n",
       "      <td>4.146593</td>\n",
       "    </tr>\n",
       "    <tr>\n",
       "      <th>3</th>\n",
       "      <td>./testdata/F6_Scan2/rawdata/F6_Scan2_163566900.h5</td>\n",
       "      <td>[26.521180086748224, 31.86666150189898, 35.154...</td>\n",
       "      <td>[3.308038811195036, 3.9767212811654717, 4.3425...</td>\n",
       "      <td>Al-200</td>\n",
       "      <td>20.8</td>\n",
       "      <td>[120.05538940429688, 145.97711563110352, 164.0...</td>\n",
       "      <td>3.0</td>\n",
       "      <td>12.0</td>\n",
       "      <td>139.61</td>\n",
       "      <td>53.499987</td>\n",
       "      <td>-0.000531</td>\n",
       "      <td>3</td>\n",
       "      <td>3</td>\n",
       "      <td>1. 2 of 141. Delay 139.610 mm - IR 123uJ, UV 8...</td>\n",
       "      <td>32.857962</td>\n",
       "      <td>4.032113</td>\n",
       "    </tr>\n",
       "    <tr>\n",
       "      <th>4</th>\n",
       "      <td>./testdata/F6_Scan2/rawdata/F6_Scan2_163567113.h5</td>\n",
       "      <td>[34.18544635300319, 36.20215601083588, 37.6335...</td>\n",
       "      <td>[4.022032198164109, 4.194616784712914, 4.37295...</td>\n",
       "      <td>Al-200</td>\n",
       "      <td>20.8</td>\n",
       "      <td>[149.94535446166992, 155.57069778442383, 167.1...</td>\n",
       "      <td>3.0</td>\n",
       "      <td>12.0</td>\n",
       "      <td>139.62</td>\n",
       "      <td>53.499987</td>\n",
       "      <td>-0.000532</td>\n",
       "      <td>3</td>\n",
       "      <td>3</td>\n",
       "      <td>1. 3 of 141. Delay 139.620 mm - IR 123uJ, UV 8...</td>\n",
       "      <td>30.415972</td>\n",
       "      <td>3.563510</td>\n",
       "    </tr>\n",
       "    <tr>\n",
       "      <th>...</th>\n",
       "      <td>...</td>\n",
       "      <td>...</td>\n",
       "      <td>...</td>\n",
       "      <td>...</td>\n",
       "      <td>...</td>\n",
       "      <td>...</td>\n",
       "      <td>...</td>\n",
       "      <td>...</td>\n",
       "      <td>...</td>\n",
       "      <td>...</td>\n",
       "      <td>...</td>\n",
       "      <td>...</td>\n",
       "      <td>...</td>\n",
       "      <td>...</td>\n",
       "      <td>...</td>\n",
       "      <td>...</td>\n",
       "    </tr>\n",
       "    <tr>\n",
       "      <th>217</th>\n",
       "      <td>./testdata/F6_Scan2/rawdata/F6_Scan2_163605601.h5</td>\n",
       "      <td>[31.905453769987062, 33.975783555776324, 35.10...</td>\n",
       "      <td>[4.364267069293834, 4.648768033744595, 4.79763...</td>\n",
       "      <td>Al-200</td>\n",
       "      <td>20.8</td>\n",
       "      <td>[135.2497100830078, 152.2547721862793, 171.562...</td>\n",
       "      <td>3.0</td>\n",
       "      <td>12.0</td>\n",
       "      <td>140.68</td>\n",
       "      <td>53.499987</td>\n",
       "      <td>-0.000543</td>\n",
       "      <td>3</td>\n",
       "      <td>3</td>\n",
       "      <td>1. 109 of 141. Delay 140.680 mm - IR 123uJ, UV...</td>\n",
       "      <td>31.427516</td>\n",
       "      <td>4.291722</td>\n",
       "    </tr>\n",
       "    <tr>\n",
       "      <th>218</th>\n",
       "      <td>./testdata/F6_Scan2/rawdata/F6_Scan2_163605813.h5</td>\n",
       "      <td>[34.06444875340083, 29.563197529935415, 31.995...</td>\n",
       "      <td>[4.173998282773444, 3.5841000438707624, 3.8629...</td>\n",
       "      <td>Al-200</td>\n",
       "      <td>20.8</td>\n",
       "      <td>[153.7405014038086, 134.75561141967773, 138.66...</td>\n",
       "      <td>3.0</td>\n",
       "      <td>12.0</td>\n",
       "      <td>140.69</td>\n",
       "      <td>53.499987</td>\n",
       "      <td>-0.000545</td>\n",
       "      <td>3</td>\n",
       "      <td>3</td>\n",
       "      <td>1. 110 of 141. Delay 140.690 mm - IR 123uJ, UV...</td>\n",
       "      <td>28.568146</td>\n",
       "      <td>3.489429</td>\n",
       "    </tr>\n",
       "    <tr>\n",
       "      <th>219</th>\n",
       "      <td>./testdata/F6_Scan2/rawdata/F6_Scan2_163605935.h5</td>\n",
       "      <td>[37.82386436859074, 37.22624993158714, 33.4044...</td>\n",
       "      <td>[4.640610749866626, 4.517356515366241, 4.00965...</td>\n",
       "      <td>Al-200</td>\n",
       "      <td>20.8</td>\n",
       "      <td>[183.96520614624023, 172.15490341186523, 147.6...</td>\n",
       "      <td>3.0</td>\n",
       "      <td>12.0</td>\n",
       "      <td>140.69</td>\n",
       "      <td>53.499987</td>\n",
       "      <td>-0.000545</td>\n",
       "      <td>3</td>\n",
       "      <td>3</td>\n",
       "      <td>1. 110 of 141. Delay 140.690 mm - IR 123uJ, UV...</td>\n",
       "      <td>31.670017</td>\n",
       "      <td>3.870167</td>\n",
       "    </tr>\n",
       "    <tr>\n",
       "      <th>220</th>\n",
       "      <td>./testdata/F6_Scan2/rawdata/F6_Scan2_163606143.h5</td>\n",
       "      <td>[34.4212664184427, 37.306444676703265, 37.0816...</td>\n",
       "      <td>[4.181285181852819, 4.559977205338056, 4.56885...</td>\n",
       "      <td>Al-200</td>\n",
       "      <td>20.8</td>\n",
       "      <td>[155.4488182067871, 176.15318298339844, 171.21...</td>\n",
       "      <td>3.0</td>\n",
       "      <td>12.0</td>\n",
       "      <td>140.70</td>\n",
       "      <td>53.499987</td>\n",
       "      <td>-0.000545</td>\n",
       "      <td>3</td>\n",
       "      <td>3</td>\n",
       "      <td>1. 111 of 141. Delay 140.700 mm - IR 123uJ, UV...</td>\n",
       "      <td>33.080299</td>\n",
       "      <td>4.055835</td>\n",
       "    </tr>\n",
       "    <tr>\n",
       "      <th>221</th>\n",
       "      <td>./testdata/F6_Scan2/rawdata/F6_Scan2_163606264.h5</td>\n",
       "      <td>[24.886585123409542, 31.74156109833142, 25.771...</td>\n",
       "      <td>[2.9733892123287946, 3.897099917269258, 3.1137...</td>\n",
       "      <td>Al-200</td>\n",
       "      <td>20.8</td>\n",
       "      <td>[102.66008377075195, 154.82797622680664, 112.6...</td>\n",
       "      <td>3.0</td>\n",
       "      <td>12.0</td>\n",
       "      <td>140.70</td>\n",
       "      <td>53.499987</td>\n",
       "      <td>-0.000545</td>\n",
       "      <td>3</td>\n",
       "      <td>3</td>\n",
       "      <td>1. 111 of 141. Delay 140.700 mm - IR 123uJ, UV...</td>\n",
       "      <td>30.183767</td>\n",
       "      <td>3.620862</td>\n",
       "    </tr>\n",
       "  </tbody>\n",
       "</table>\n",
       "<p>222 rows × 16 columns</p>\n",
       "</div>"
      ],
      "text/plain": [
       "                                              filename  \\\n",
       "0    ./testdata/F6_Scan2/rawdata/F6_Scan2_163566276.h5   \n",
       "1    ./testdata/F6_Scan2/rawdata/F6_Scan2_163566397.h5   \n",
       "2    ./testdata/F6_Scan2/rawdata/F6_Scan2_163566781.h5   \n",
       "3    ./testdata/F6_Scan2/rawdata/F6_Scan2_163566900.h5   \n",
       "4    ./testdata/F6_Scan2/rawdata/F6_Scan2_163567113.h5   \n",
       "..                                                 ...   \n",
       "217  ./testdata/F6_Scan2/rawdata/F6_Scan2_163605601.h5   \n",
       "218  ./testdata/F6_Scan2/rawdata/F6_Scan2_163605813.h5   \n",
       "219  ./testdata/F6_Scan2/rawdata/F6_Scan2_163605935.h5   \n",
       "220  ./testdata/F6_Scan2/rawdata/F6_Scan2_163606143.h5   \n",
       "221  ./testdata/F6_Scan2/rawdata/F6_Scan2_163606264.h5   \n",
       "\n",
       "                                                xgm_UH  \\\n",
       "0    [31.608288077805778, 24.054997914248865, 19.95...   \n",
       "1    [31.818450242942262, 30.080162743601022, 28.83...   \n",
       "2    [34.596677782294556, 34.39155355561752, 31.670...   \n",
       "3    [26.521180086748224, 31.86666150189898, 35.154...   \n",
       "4    [34.18544635300319, 36.20215601083588, 37.6335...   \n",
       "..                                                 ...   \n",
       "217  [31.905453769987062, 33.975783555776324, 35.10...   \n",
       "218  [34.06444875340083, 29.563197529935415, 31.995...   \n",
       "219  [37.82386436859074, 37.22624993158714, 33.4044...   \n",
       "220  [34.4212664184427, 37.306444676703265, 37.0816...   \n",
       "221  [24.886585123409542, 31.74156109833142, 25.771...   \n",
       "\n",
       "                                                xgm_SH filter_seed  \\\n",
       "0    [4.013813812184072, 3.1157464618981434, 2.5481...      Al-200   \n",
       "1    [4.0090751726935405, 3.8203728650552846, 3.701...      Al-200   \n",
       "2    [4.350732913795905, 4.437113089158626, 3.99594...      Al-200   \n",
       "3    [3.308038811195036, 3.9767212811654717, 4.3425...      Al-200   \n",
       "4    [4.022032198164109, 4.194616784712914, 4.37295...      Al-200   \n",
       "..                                                 ...         ...   \n",
       "217  [4.364267069293834, 4.648768033744595, 4.79763...      Al-200   \n",
       "218  [4.173998282773444, 3.5841000438707624, 3.8629...      Al-200   \n",
       "219  [4.640610749866626, 4.517356515366241, 4.00965...      Al-200   \n",
       "220  [4.181285181852819, 4.559977205338056, 4.56885...      Al-200   \n",
       "221  [2.9733892123287946, 3.897099917269258, 3.1137...      Al-200   \n",
       "\n",
       "     wavelength                                           diode_I0  \\\n",
       "0          20.8  [148.29769134521484, 110.25238037109375, 86.64...   \n",
       "1          20.8  [141.24155044555664, 128.84445190429688, 133.1...   \n",
       "2          20.8  [156.58235549926758, 166.76387786865234, 139.6...   \n",
       "3          20.8  [120.05538940429688, 145.97711563110352, 164.0...   \n",
       "4          20.8  [149.94535446166992, 155.57069778442383, 167.1...   \n",
       "..          ...                                                ...   \n",
       "217        20.8  [135.2497100830078, 152.2547721862793, 171.562...   \n",
       "218        20.8  [153.7405014038086, 134.75561141967773, 138.66...   \n",
       "219        20.8  [183.96520614624023, 172.15490341186523, 147.6...   \n",
       "220        20.8  [155.4488182067871, 176.15318298339844, 171.21...   \n",
       "221        20.8  [102.66008377075195, 154.82797622680664, 112.6...   \n",
       "\n",
       "     polarization  harmonic   delay     alignz   samplez  valve_pos2  \\\n",
       "0             3.0      12.0  139.60  53.499987 -0.000529           3   \n",
       "1             3.0      12.0  139.60  53.499987 -0.000532           3   \n",
       "2             3.0      12.0  139.61  53.499987 -0.000532           3   \n",
       "3             3.0      12.0  139.61  53.499987 -0.000531           3   \n",
       "4             3.0      12.0  139.62  53.499987 -0.000532           3   \n",
       "..            ...       ...     ...        ...       ...         ...   \n",
       "217           3.0      12.0  140.68  53.499987 -0.000543           3   \n",
       "218           3.0      12.0  140.69  53.499987 -0.000545           3   \n",
       "219           3.0      12.0  140.69  53.499987 -0.000545           3   \n",
       "220           3.0      12.0  140.70  53.499987 -0.000545           3   \n",
       "221           3.0      12.0  140.70  53.499987 -0.000545           3   \n",
       "\n",
       "     valve_dpi3                                            comment  \\\n",
       "0             3  1. 1 of 141. Delay 139.600 mm - IR 123uJ, UV 8...   \n",
       "1             3  1. 1 of 141. Delay 139.600 mm - IR 123uJ, UV 8...   \n",
       "2             3  1. 2 of 141. Delay 139.610 mm - IR 123uJ, UV 8...   \n",
       "3             3  1. 2 of 141. Delay 139.610 mm - IR 123uJ, UV 8...   \n",
       "4             3  1. 3 of 141. Delay 139.620 mm - IR 123uJ, UV 8...   \n",
       "..          ...                                                ...   \n",
       "217           3  1. 109 of 141. Delay 140.680 mm - IR 123uJ, UV...   \n",
       "218           3  1. 110 of 141. Delay 140.690 mm - IR 123uJ, UV...   \n",
       "219           3  1. 110 of 141. Delay 140.690 mm - IR 123uJ, UV...   \n",
       "220           3  1. 111 of 141. Delay 140.700 mm - IR 123uJ, UV...   \n",
       "221           3  1. 111 of 141. Delay 140.700 mm - IR 123uJ, UV...   \n",
       "\n",
       "     xgm_UH_mean  xgm_SH_mean  \n",
       "0      27.248608     3.469665  \n",
       "1      30.014540     3.762386  \n",
       "2      33.381774     4.146593  \n",
       "3      32.857962     4.032113  \n",
       "4      30.415972     3.563510  \n",
       "..           ...          ...  \n",
       "217    31.427516     4.291722  \n",
       "218    28.568146     3.489429  \n",
       "219    31.670017     3.870167  \n",
       "220    33.080299     4.055835  \n",
       "221    30.183767     3.620862  \n",
       "\n",
       "[222 rows x 16 columns]"
      ]
     },
     "execution_count": 4,
     "metadata": {},
     "output_type": "execute_result"
    }
   ],
   "source": [
    "exp"
   ]
  },
  {
   "cell_type": "markdown",
   "metadata": {},
   "source": [
    "## filter entries"
   ]
  },
  {
   "cell_type": "code",
   "execution_count": null,
   "metadata": {},
   "outputs": [],
   "source": [
    "# ..."
   ]
  },
  {
   "cell_type": "markdown",
   "metadata": {},
   "source": [
    "# plot single image"
   ]
  },
  {
   "cell_type": "code",
   "execution_count": 19,
   "metadata": {},
   "outputs": [
    {
     "data": {
      "text/plain": [
       "<matplotlib.image.AxesImage at 0x7fe46eea02e0>"
      ]
     },
     "execution_count": 19,
     "metadata": {},
     "output_type": "execute_result"
    },
    {
     "data": {
      "image/png": "[encoded data removed]",
      "text/plain": [
       "<Figure size 432x288 with 1 Axes>"
      ]
     },
     "metadata": {
      "needs_background": "light"
     },
     "output_type": "display_data"
    }
   ],
   "source": [
    "im, meta = pf.loadh5(exp.loc[12, 'filename'], extra_keys=['alignz',])\n",
    "\n",
    "fig, ax = plt.subplots()\n",
    "ax.imshow(im)"
   ]
  },
  {
   "cell_type": "code",
   "execution_count": 20,
   "metadata": {},
   "outputs": [
    {
     "data": {
      "text/plain": [
       "{'I0M': array([4.11831794, 4.15519167, 4.49319557, 4.56694099, 4.23508475,\n",
       "        4.01691519, 3.11346962, 3.79259502, 3.7065542 , 4.51470465,\n",
       "        3.6543144 , 3.54983399, 4.3641411 , 4.32726839, 4.00769676,\n",
       "        4.20435665, 4.16441011, 3.94623934, 4.00769676, 3.6797267 ,\n",
       "        3.64820024, 3.72701641, 3.82474756, 3.67657406, 3.88779912,\n",
       "        3.79637435, 3.82790014, 4.00444452, 3.50002584, 4.0643435 ,\n",
       "        3.67657406, 3.82790014, 4.10217436, 4.14946187, 4.41111942,\n",
       "        3.52209436, 3.96976616, 3.87518881, 4.74527481, 4.55928293]),\n",
       " 'alignz': 53.49998747405213}"
      ]
     },
     "execution_count": 20,
     "metadata": {},
     "output_type": "execute_result"
    }
   ],
   "source": [
    "meta"
   ]
  },
  {
   "cell_type": "markdown",
   "metadata": {},
   "source": [
    "# Set up the azimuthal integration\n",
    "This has to be done only once (unless the image center shifts, or the image shape changes).\n",
    "Reusing the AzimuthalIntegrator instance is very fast."
   ]
  },
  {
   "cell_type": "code",
   "execution_count": 81,
   "metadata": {},
   "outputs": [],
   "source": [
    "ai = pf.AzimuthalIntegrator(im.shape, (549, 527), (0, 179))\n",
    "\n",
    "norm = ai(np.ones_like(im))"
   ]
  },
  {
   "cell_type": "markdown",
   "metadata": {},
   "source": [
    "# process delay scan\n",
    "set up empty DataArray"
   ]
  },
  {
   "cell_type": "code",
   "execution_count": 84,
   "metadata": {},
   "outputs": [],
   "source": [
    "scan = xr.DataArray(\n",
    "    np.zeros([len(exp), len(ai.distance)]),\n",
    "    dims=['delay', 'r'],\n",
    "    coords={'r': ai.distance, 'delay': exp.delay}\n",
    ")"
   ]
  },
  {
   "cell_type": "markdown",
   "metadata": {},
   "source": [
    "test it on our single image"
   ]
  },
  {
   "cell_type": "code",
   "execution_count": 82,
   "metadata": {},
   "outputs": [
    {
     "data": {
      "text/plain": [
       "[<matplotlib.lines.Line2D at 0x7fcc3f1ed700>]"
      ]
     },
     "execution_count": 82,
     "metadata": {},
     "output_type": "execute_result"
    },
    {
     "data": {
      "image/png": "[encoded data removed]",
      "text/plain": [
       "<Figure size 432x288 with 1 Axes>"
      ]
     },
     "metadata": {
      "needs_background": "light"
     },
     "output_type": "display_data"
    }
   ],
   "source": [
    "fig, ax = plt.subplots()\n",
    "ax.plot(ai.distance, ai(im) / norm)"
   ]
  },
  {
   "cell_type": "markdown",
   "metadata": {},
   "source": [
    "## load dark\n",
    "I'm just loading a static single dark here"
   ]
  },
  {
   "cell_type": "code",
   "execution_count": 98,
   "metadata": {},
   "outputs": [],
   "source": [
    "dark = pf.loadh5('testdata/F6_Scan2_BG/rawdata/F6_Scan2_BG_163566569.h5')[0]"
   ]
  },
  {
   "cell_type": "markdown",
   "metadata": {},
   "source": [
    "## crunch"
   ]
  },
  {
   "cell_type": "code",
   "execution_count": 99,
   "metadata": {},
   "outputs": [],
   "source": [
    "for index, r in exp.iterrows():\n",
    "    im, meta = pf.loadh5(r['filename'])\n",
    "    im = im - dark\n",
    "    scan.loc[{'delay': r['delay']}] = ai(im) / norm / r['xgm_SH_mean']\n"
   ]
  },
  {
   "cell_type": "markdown",
   "metadata": {},
   "source": [
    "## plot"
   ]
  },
  {
   "cell_type": "code",
   "execution_count": 126,
   "metadata": {},
   "outputs": [
    {
     "data": {
      "image/png": "[encoded data removed]",
      "text/plain": [
       "<Figure size 504x360 with 2 Axes>"
      ]
     },
     "metadata": {
      "needs_background": "light"
     },
     "output_type": "display_data"
    }
   ],
   "source": [
    "rmin, rmax = 135, 180\n",
    "\n",
    "demag = scan.where((scan.r > rmin) & (scan.r < rmax)).mean('r')\n",
    "\n",
    "fig, [ax1, ax2] = plt.subplots(nrows=2, figsize=(7, 5), sharex=True)\n",
    "scan.plot.imshow(x='delay', y='r', ax=ax1, vmin=0, cmap='viridis', add_colorbar=False)\n",
    "ax2.plot(demag.delay, demag)\n",
    "\n",
    "for r in [rmin, rmax]:\n",
    "    ax1.axhline(r, c='r', lw=1)"
   ]
  }
 ],
 "metadata": {
  "kernelspec": {
   "display_name": "Python 3",
   "language": "python",
   "name": "python3"
  },
  "language_info": {
   "codemirror_mode": {
    "name": "ipython",
    "version": 3
   },
   "file_extension": ".py",
   "mimetype": "text/x-python",
   "name": "python",
   "nbconvert_exporter": "python",
   "pygments_lexer": "ipython3",
   "version": "3.8.3"
  },
  "toc": {
   "nav_menu": {
    "height": "179.1px",
    "width": "252px"
   },
   "navigate_menu": true,
   "number_sections": true,
   "sideBar": true,
   "threshold": 4,
   "toc_cell": false,
   "toc_section_display": "block",
   "toc_window_display": false
  }
 },
 "nbformat": 4,
 "nbformat_minor": 4
}
