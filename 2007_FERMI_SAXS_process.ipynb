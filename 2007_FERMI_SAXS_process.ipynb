{
 "cells": [
  {
   "cell_type": "markdown",
   "metadata": {},
   "source": [
    "# Imports"
   ]
  },
  {
   "cell_type": "code",
   "execution_count": 1,
   "metadata": {},
   "outputs": [],
   "source": [
    "import numpy as np\n",
    "import xarray as xr\n",
    "import h5py\n",
    "from os.path import join\n",
    "\n",
    "import sys\n",
    "sys.path.append('./FERMI_2020-07/')\n",
    "\n",
    "import matplotlib.pyplot as plt\n",
    "import process_FERMI as pf\n",
    "\n",
    "from importlib import reload"
   ]
  },
  {
   "cell_type": "code",
   "execution_count": 2,
   "metadata": {},
   "outputs": [],
   "source": [
    "# execute after modifying library\n",
    "pf = reload(pf)"
   ]
  },
  {
   "cell_type": "code",
   "execution_count": 3,
   "metadata": {},
   "outputs": [],
   "source": [
    "%matplotlib notebook #or widget if you use jupyter lab or inline if you cannot display interactive plots"
   ]
  },
  {
   "cell_type": "markdown",
   "metadata": {},
   "source": [
    "# load non-image data"
   ]
  },
  {
   "cell_type": "code",
   "execution_count": 5,
   "metadata": {},
   "outputs": [],
   "source": [
    "fold = '/home/gehrlinger/Documents/Beamtimes/2020-06_FERMI/'"
   ]
  },
  {
   "cell_type": "code",
   "execution_count": 6,
   "metadata": {},
   "outputs": [],
   "source": [
    "basefolder = fold + 'testdata/F6_Scan2/'\n",
    "\n",
    "exp = pf.get_exp_dataframe(basefolder)\n",
    "for k in ['xgm_UH', 'xgm_SH']:\n",
    "    exp[k + '_mean'] = exp[k].apply(np.mean)\n"
   ]
  },
  {
   "cell_type": "markdown",
   "metadata": {},
   "source": [
    "Let's have a look at it"
   ]
  },
  {
   "cell_type": "code",
   "execution_count": 7,
   "metadata": {
    "scrolled": true
   },
   "outputs": [
    {
     "data": {
      "text/html": [
       "<div>\n",
       "<style scoped>\n",
       "    .dataframe tbody tr th:only-of-type {\n",
       "        vertical-align: middle;\n",
       "    }\n",
       "\n",
       "    .dataframe tbody tr th {\n",
       "        vertical-align: top;\n",
       "    }\n",
       "\n",
       "    .dataframe thead th {\n",
       "        text-align: right;\n",
       "    }\n",
       "</style>\n",
       "<table border=\"1\" class=\"dataframe\">\n",
       "  <thead>\n",
       "    <tr style=\"text-align: right;\">\n",
       "      <th></th>\n",
       "      <th>filename</th>\n",
       "      <th>xgm_UH</th>\n",
       "      <th>xgm_SH</th>\n",
       "      <th>filter_seed</th>\n",
       "      <th>wavelength</th>\n",
       "      <th>diode_I0</th>\n",
       "      <th>polarization</th>\n",
       "      <th>harmonic</th>\n",
       "      <th>delay</th>\n",
       "      <th>alignz</th>\n",
       "      <th>samplez</th>\n",
       "      <th>valve_pos2</th>\n",
       "      <th>valve_dpi3</th>\n",
       "      <th>comment</th>\n",
       "      <th>xgm_UH_mean</th>\n",
       "      <th>xgm_SH_mean</th>\n",
       "    </tr>\n",
       "  </thead>\n",
       "  <tbody>\n",
       "    <tr>\n",
       "      <th>0</th>\n",
       "      <td>/home/gehrlinger/Documents/Beamtimes/2020-06_F...</td>\n",
       "      <td>[34.768546953656596, 32.586962450105425, 31.69...</td>\n",
       "      <td>[4.415269224605226, 4.039699364336146, 3.99352...</td>\n",
       "      <td>Al-200</td>\n",
       "      <td>20.8</td>\n",
       "      <td>[156.4833641052246, 139.5864486694336, 141.465...</td>\n",
       "      <td>3.0</td>\n",
       "      <td>12.0</td>\n",
       "      <td>140.40</td>\n",
       "      <td>53.499987</td>\n",
       "      <td>-0.000538</td>\n",
       "      <td>3</td>\n",
       "      <td>3</td>\n",
       "      <td>1. 81 of 141. Delay 140.400 mm - IR 123uJ, UV ...</td>\n",
       "      <td>31.809653</td>\n",
       "      <td>4.003671</td>\n",
       "    </tr>\n",
       "    <tr>\n",
       "      <th>1</th>\n",
       "      <td>/home/gehrlinger/Documents/Beamtimes/2020-06_F...</td>\n",
       "      <td>[25.826411469248185, 32.608590250947486, 26.45...</td>\n",
       "      <td>[3.4003757964183143, 4.208357131909752, 3.5122...</td>\n",
       "      <td>Al-200</td>\n",
       "      <td>20.8</td>\n",
       "      <td>[113.87243270874023, 144.3068504333496, 130.25...</td>\n",
       "      <td>3.0</td>\n",
       "      <td>12.0</td>\n",
       "      <td>140.65</td>\n",
       "      <td>53.499987</td>\n",
       "      <td>-0.000547</td>\n",
       "      <td>3</td>\n",
       "      <td>3</td>\n",
       "      <td>1. 106 of 141. Delay 140.650 mm - IR 123uJ, UV...</td>\n",
       "      <td>32.872618</td>\n",
       "      <td>4.252859</td>\n",
       "    </tr>\n",
       "    <tr>\n",
       "      <th>2</th>\n",
       "      <td>/home/gehrlinger/Documents/Beamtimes/2020-06_F...</td>\n",
       "      <td>[30.85408722228265, 33.16526636386783, 34.0412...</td>\n",
       "      <td>[5.4660667761956345, 5.8927551695263, 6.030673...</td>\n",
       "      <td>Al-200</td>\n",
       "      <td>20.8</td>\n",
       "      <td>[140.77177047729492, 150.6093978881836, 153.87...</td>\n",
       "      <td>3.0</td>\n",
       "      <td>12.0</td>\n",
       "      <td>140.60</td>\n",
       "      <td>53.499987</td>\n",
       "      <td>-0.000545</td>\n",
       "      <td>3</td>\n",
       "      <td>3</td>\n",
       "      <td>1. 101 of 141. Delay 140.600 mm - IR 123uJ, UV...</td>\n",
       "      <td>32.512074</td>\n",
       "      <td>5.743397</td>\n",
       "    </tr>\n",
       "    <tr>\n",
       "      <th>3</th>\n",
       "      <td>/home/gehrlinger/Documents/Beamtimes/2020-06_F...</td>\n",
       "      <td>[30.95638718519161, 32.50445407746437, 31.2103...</td>\n",
       "      <td>[3.8436630275913024, 4.1494618671947, 3.972918...</td>\n",
       "      <td>Al-200</td>\n",
       "      <td>20.8</td>\n",
       "      <td>[131.7601203918457, 145.71218490600586, 144.65...</td>\n",
       "      <td>3.0</td>\n",
       "      <td>12.0</td>\n",
       "      <td>139.66</td>\n",
       "      <td>53.499987</td>\n",
       "      <td>-0.000532</td>\n",
       "      <td>3</td>\n",
       "      <td>3</td>\n",
       "      <td>1. 7 of 141. Delay 139.660 mm - IR 123uJ, UV 8...</td>\n",
       "      <td>30.524686</td>\n",
       "      <td>3.905606</td>\n",
       "    </tr>\n",
       "    <tr>\n",
       "      <th>4</th>\n",
       "      <td>/home/gehrlinger/Documents/Beamtimes/2020-06_F...</td>\n",
       "      <td>[29.966137563633534, 30.204450161646257, 25.49...</td>\n",
       "      <td>[3.8885683775791007, 3.9133716268218426, 3.259...</td>\n",
       "      <td>Al-200</td>\n",
       "      <td>20.8</td>\n",
       "      <td>[145.5611228942871, 147.53637313842773, 111.09...</td>\n",
       "      <td>3.0</td>\n",
       "      <td>12.0</td>\n",
       "      <td>139.64</td>\n",
       "      <td>53.499987</td>\n",
       "      <td>-0.000537</td>\n",
       "      <td>3</td>\n",
       "      <td>3</td>\n",
       "      <td>1. 5 of 141. Delay 139.640 mm - IR 123uJ, UV 8...</td>\n",
       "      <td>29.812716</td>\n",
       "      <td>3.823439</td>\n",
       "    </tr>\n",
       "    <tr>\n",
       "      <th>...</th>\n",
       "      <td>...</td>\n",
       "      <td>...</td>\n",
       "      <td>...</td>\n",
       "      <td>...</td>\n",
       "      <td>...</td>\n",
       "      <td>...</td>\n",
       "      <td>...</td>\n",
       "      <td>...</td>\n",
       "      <td>...</td>\n",
       "      <td>...</td>\n",
       "      <td>...</td>\n",
       "      <td>...</td>\n",
       "      <td>...</td>\n",
       "      <td>...</td>\n",
       "      <td>...</td>\n",
       "      <td>...</td>\n",
       "    </tr>\n",
       "    <tr>\n",
       "      <th>217</th>\n",
       "      <td>/home/gehrlinger/Documents/Beamtimes/2020-06_F...</td>\n",
       "      <td>[31.79138169210857, 33.88244910597753, 32.9443...</td>\n",
       "      <td>[4.01073639713406, 4.3177925368663574, 4.15058...</td>\n",
       "      <td>Al-200</td>\n",
       "      <td>20.8</td>\n",
       "      <td>[152.08568572998047, 165.21062850952148, 155.3...</td>\n",
       "      <td>3.0</td>\n",
       "      <td>12.0</td>\n",
       "      <td>139.80</td>\n",
       "      <td>53.499987</td>\n",
       "      <td>-0.000537</td>\n",
       "      <td>3</td>\n",
       "      <td>3</td>\n",
       "      <td>1. 21 of 141. Delay 139.800 mm - IR 123uJ, UV ...</td>\n",
       "      <td>31.396603</td>\n",
       "      <td>3.923168</td>\n",
       "    </tr>\n",
       "    <tr>\n",
       "      <th>218</th>\n",
       "      <td>/home/gehrlinger/Documents/Beamtimes/2020-06_F...</td>\n",
       "      <td>[36.64022065749171, 28.555536847220836, 32.810...</td>\n",
       "      <td>[4.558178695037302, 3.5004117510388952, 4.0927...</td>\n",
       "      <td>Al-200</td>\n",
       "      <td>20.8</td>\n",
       "      <td>[167.3389434814453, 116.76464080810547, 151.76...</td>\n",
       "      <td>3.0</td>\n",
       "      <td>12.0</td>\n",
       "      <td>139.81</td>\n",
       "      <td>53.499987</td>\n",
       "      <td>-0.000534</td>\n",
       "      <td>3</td>\n",
       "      <td>3</td>\n",
       "      <td>1. 22 of 141. Delay 139.810 mm - IR 123uJ, UV ...</td>\n",
       "      <td>30.113444</td>\n",
       "      <td>3.620559</td>\n",
       "    </tr>\n",
       "    <tr>\n",
       "      <th>219</th>\n",
       "      <td>/home/gehrlinger/Documents/Beamtimes/2020-06_F...</td>\n",
       "      <td>[37.50901851803849, 33.77099683662453, 36.6113...</td>\n",
       "      <td>[4.624781533223657, 4.175066783039124, 4.49801...</td>\n",
       "      <td>Al-200</td>\n",
       "      <td>20.8</td>\n",
       "      <td>[173.61717224121094, 152.22301483154297, 170.3...</td>\n",
       "      <td>3.0</td>\n",
       "      <td>12.0</td>\n",
       "      <td>139.74</td>\n",
       "      <td>53.499987</td>\n",
       "      <td>-0.000536</td>\n",
       "      <td>3</td>\n",
       "      <td>3</td>\n",
       "      <td>1. 15 of 141. Delay 139.740 mm - IR 123uJ, UV ...</td>\n",
       "      <td>32.617005</td>\n",
       "      <td>4.058926</td>\n",
       "    </tr>\n",
       "    <tr>\n",
       "      <th>220</th>\n",
       "      <td>/home/gehrlinger/Documents/Beamtimes/2020-06_F...</td>\n",
       "      <td>[35.04252248576058, 33.24245577878177, 33.2666...</td>\n",
       "      <td>[4.327588550799312, 4.111552379681715, 4.16023...</td>\n",
       "      <td>Al-200</td>\n",
       "      <td>20.8</td>\n",
       "      <td>[160.22043228149414, 147.06802368164062, 161.4...</td>\n",
       "      <td>3.0</td>\n",
       "      <td>12.0</td>\n",
       "      <td>140.24</td>\n",
       "      <td>53.499987</td>\n",
       "      <td>-0.000540</td>\n",
       "      <td>3</td>\n",
       "      <td>3</td>\n",
       "      <td>1. 65 of 141. Delay 140.240 mm - IR 123uJ, UV ...</td>\n",
       "      <td>32.090043</td>\n",
       "      <td>3.997034</td>\n",
       "    </tr>\n",
       "    <tr>\n",
       "      <th>221</th>\n",
       "      <td>/home/gehrlinger/Documents/Beamtimes/2020-06_F...</td>\n",
       "      <td>[30.41406764050192, 28.346593644532078, 25.494...</td>\n",
       "      <td>[3.8642877762711296, 3.542315120823222, 3.1988...</td>\n",
       "      <td>Al-200</td>\n",
       "      <td>20.8</td>\n",
       "      <td>[130.7530403137207, 117.25502014160156, 106.36...</td>\n",
       "      <td>3.0</td>\n",
       "      <td>12.0</td>\n",
       "      <td>140.15</td>\n",
       "      <td>53.499987</td>\n",
       "      <td>-0.000541</td>\n",
       "      <td>3</td>\n",
       "      <td>3</td>\n",
       "      <td>1. 56 of 141. Delay 140.150 mm - IR 123uJ, UV ...</td>\n",
       "      <td>29.899424</td>\n",
       "      <td>3.640927</td>\n",
       "    </tr>\n",
       "  </tbody>\n",
       "</table>\n",
       "<p>222 rows × 16 columns</p>\n",
       "</div>"
      ],
      "text/plain": [
       "                                              filename  \\\n",
       "0    /home/gehrlinger/Documents/Beamtimes/2020-06_F...   \n",
       "1    /home/gehrlinger/Documents/Beamtimes/2020-06_F...   \n",
       "2    /home/gehrlinger/Documents/Beamtimes/2020-06_F...   \n",
       "3    /home/gehrlinger/Documents/Beamtimes/2020-06_F...   \n",
       "4    /home/gehrlinger/Documents/Beamtimes/2020-06_F...   \n",
       "..                                                 ...   \n",
       "217  /home/gehrlinger/Documents/Beamtimes/2020-06_F...   \n",
       "218  /home/gehrlinger/Documents/Beamtimes/2020-06_F...   \n",
       "219  /home/gehrlinger/Documents/Beamtimes/2020-06_F...   \n",
       "220  /home/gehrlinger/Documents/Beamtimes/2020-06_F...   \n",
       "221  /home/gehrlinger/Documents/Beamtimes/2020-06_F...   \n",
       "\n",
       "                                                xgm_UH  \\\n",
       "0    [34.768546953656596, 32.586962450105425, 31.69...   \n",
       "1    [25.826411469248185, 32.608590250947486, 26.45...   \n",
       "2    [30.85408722228265, 33.16526636386783, 34.0412...   \n",
       "3    [30.95638718519161, 32.50445407746437, 31.2103...   \n",
       "4    [29.966137563633534, 30.204450161646257, 25.49...   \n",
       "..                                                 ...   \n",
       "217  [31.79138169210857, 33.88244910597753, 32.9443...   \n",
       "218  [36.64022065749171, 28.555536847220836, 32.810...   \n",
       "219  [37.50901851803849, 33.77099683662453, 36.6113...   \n",
       "220  [35.04252248576058, 33.24245577878177, 33.2666...   \n",
       "221  [30.41406764050192, 28.346593644532078, 25.494...   \n",
       "\n",
       "                                                xgm_SH filter_seed  \\\n",
       "0    [4.415269224605226, 4.039699364336146, 3.99352...      Al-200   \n",
       "1    [3.4003757964183143, 4.208357131909752, 3.5122...      Al-200   \n",
       "2    [5.4660667761956345, 5.8927551695263, 6.030673...      Al-200   \n",
       "3    [3.8436630275913024, 4.1494618671947, 3.972918...      Al-200   \n",
       "4    [3.8885683775791007, 3.9133716268218426, 3.259...      Al-200   \n",
       "..                                                 ...         ...   \n",
       "217  [4.01073639713406, 4.3177925368663574, 4.15058...      Al-200   \n",
       "218  [4.558178695037302, 3.5004117510388952, 4.0927...      Al-200   \n",
       "219  [4.624781533223657, 4.175066783039124, 4.49801...      Al-200   \n",
       "220  [4.327588550799312, 4.111552379681715, 4.16023...      Al-200   \n",
       "221  [3.8642877762711296, 3.542315120823222, 3.1988...      Al-200   \n",
       "\n",
       "     wavelength                                           diode_I0  \\\n",
       "0          20.8  [156.4833641052246, 139.5864486694336, 141.465...   \n",
       "1          20.8  [113.87243270874023, 144.3068504333496, 130.25...   \n",
       "2          20.8  [140.77177047729492, 150.6093978881836, 153.87...   \n",
       "3          20.8  [131.7601203918457, 145.71218490600586, 144.65...   \n",
       "4          20.8  [145.5611228942871, 147.53637313842773, 111.09...   \n",
       "..          ...                                                ...   \n",
       "217        20.8  [152.08568572998047, 165.21062850952148, 155.3...   \n",
       "218        20.8  [167.3389434814453, 116.76464080810547, 151.76...   \n",
       "219        20.8  [173.61717224121094, 152.22301483154297, 170.3...   \n",
       "220        20.8  [160.22043228149414, 147.06802368164062, 161.4...   \n",
       "221        20.8  [130.7530403137207, 117.25502014160156, 106.36...   \n",
       "\n",
       "     polarization  harmonic   delay     alignz   samplez  valve_pos2  \\\n",
       "0             3.0      12.0  140.40  53.499987 -0.000538           3   \n",
       "1             3.0      12.0  140.65  53.499987 -0.000547           3   \n",
       "2             3.0      12.0  140.60  53.499987 -0.000545           3   \n",
       "3             3.0      12.0  139.66  53.499987 -0.000532           3   \n",
       "4             3.0      12.0  139.64  53.499987 -0.000537           3   \n",
       "..            ...       ...     ...        ...       ...         ...   \n",
       "217           3.0      12.0  139.80  53.499987 -0.000537           3   \n",
       "218           3.0      12.0  139.81  53.499987 -0.000534           3   \n",
       "219           3.0      12.0  139.74  53.499987 -0.000536           3   \n",
       "220           3.0      12.0  140.24  53.499987 -0.000540           3   \n",
       "221           3.0      12.0  140.15  53.499987 -0.000541           3   \n",
       "\n",
       "     valve_dpi3                                            comment  \\\n",
       "0             3  1. 81 of 141. Delay 140.400 mm - IR 123uJ, UV ...   \n",
       "1             3  1. 106 of 141. Delay 140.650 mm - IR 123uJ, UV...   \n",
       "2             3  1. 101 of 141. Delay 140.600 mm - IR 123uJ, UV...   \n",
       "3             3  1. 7 of 141. Delay 139.660 mm - IR 123uJ, UV 8...   \n",
       "4             3  1. 5 of 141. Delay 139.640 mm - IR 123uJ, UV 8...   \n",
       "..          ...                                                ...   \n",
       "217           3  1. 21 of 141. Delay 139.800 mm - IR 123uJ, UV ...   \n",
       "218           3  1. 22 of 141. Delay 139.810 mm - IR 123uJ, UV ...   \n",
       "219           3  1. 15 of 141. Delay 139.740 mm - IR 123uJ, UV ...   \n",
       "220           3  1. 65 of 141. Delay 140.240 mm - IR 123uJ, UV ...   \n",
       "221           3  1. 56 of 141. Delay 140.150 mm - IR 123uJ, UV ...   \n",
       "\n",
       "     xgm_UH_mean  xgm_SH_mean  \n",
       "0      31.809653     4.003671  \n",
       "1      32.872618     4.252859  \n",
       "2      32.512074     5.743397  \n",
       "3      30.524686     3.905606  \n",
       "4      29.812716     3.823439  \n",
       "..           ...          ...  \n",
       "217    31.396603     3.923168  \n",
       "218    30.113444     3.620559  \n",
       "219    32.617005     4.058926  \n",
       "220    32.090043     3.997034  \n",
       "221    29.899424     3.640927  \n",
       "\n",
       "[222 rows x 16 columns]"
      ]
     },
     "execution_count": 7,
     "metadata": {},
     "output_type": "execute_result"
    }
   ],
   "source": [
    "exp"
   ]
  },
  {
   "cell_type": "markdown",
   "metadata": {},
   "source": [
    "## filter entries"
   ]
  },
  {
   "cell_type": "code",
   "execution_count": 8,
   "metadata": {},
   "outputs": [],
   "source": [
    "# ..."
   ]
  },
  {
   "cell_type": "markdown",
   "metadata": {},
   "source": [
    "# Plot single image\n",
    "\n",
    "Load an image and it's meta data. This will be used to setup the azimuthal integrator. All following images do not need to be loaded and plotted for the functionning of this script."
   ]
  },
  {
   "cell_type": "code",
   "execution_count": 9,
   "metadata": {},
   "outputs": [
    {
     "data": {
      "text/plain": [
       "<matplotlib.image.AxesImage at 0x7fc95ce0cf50>"
      ]
     },
     "execution_count": 9,
     "metadata": {},
     "output_type": "execute_result"
    },
    {
     "data": {
      "image/png": "[encoded data removed]",
      "text/plain": [
       "<Figure size 432x288 with 1 Axes>"
      ]
     },
     "metadata": {
      "needs_background": "light"
     },
     "output_type": "display_data"
    }
   ],
   "source": [
    "im, meta = pf.loadh5(exp.loc[12, 'filename'], extra_keys=['alignz'])\n",
    "\n",
    "fig, ax = plt.subplots()\n",
    "ax.imshow(im)"
   ]
  },
  {
   "cell_type": "markdown",
   "metadata": {},
   "source": [
    "# Set up the azimuthal integration\n",
    "This has to be done only once (unless the image center shifts, or the image shape changes).\n",
    "Reusing the AzimuthalIntegrator instance is very fast.\n",
    "\n",
    "You need to specifiy the center (determine it via the plotted image above). The rest is filled in automatically from the image shape and image meta data. "
   ]
  },
  {
   "cell_type": "code",
   "execution_count": 10,
   "metadata": {},
   "outputs": [],
   "source": [
    "ai = pf.AzimuthalIntegrator(im.shape, dist = meta['alignz'] * 1e-3, center = (549, 527), polar_range = (0, 179), nint = 100)\n",
    "\n",
    "norm = ai(np.ones_like(im))"
   ]
  },
  {
   "cell_type": "markdown",
   "metadata": {},
   "source": [
    "# Process delay scan\n",
    "set up empty DataArray using xarray"
   ]
  },
  {
   "cell_type": "code",
   "execution_count": 11,
   "metadata": {},
   "outputs": [],
   "source": [
    "scan = xr.DataArray(\n",
    "    np.zeros([len(exp), len(ai.theta)]),\n",
    "    dims=['delay', 'theta'],\n",
    "    coords={'theta': ai.theta, 'delay': np.sort(exp.delay)}\n",
    ")"
   ]
  },
  {
   "cell_type": "markdown",
   "metadata": {},
   "source": [
    "test it on our single image"
   ]
  },
  {
   "cell_type": "code",
   "execution_count": 12,
   "metadata": {},
   "outputs": [
    {
     "data": {
      "text/plain": [
       "[<matplotlib.lines.Line2D at 0x7fc95c6faa50>]"
      ]
     },
     "execution_count": 12,
     "metadata": {},
     "output_type": "execute_result"
    },
    {
     "data": {
      "image/png": "[encoded data removed]",
      "text/plain": [
       "<Figure size 432x288 with 1 Axes>"
      ]
     },
     "metadata": {
      "needs_background": "light"
     },
     "output_type": "display_data"
    }
   ],
   "source": [
    "fig, ax = plt.subplots()\n",
    "ax.plot(ai.theta, ai(im) / norm)"
   ]
  },
  {
   "cell_type": "markdown",
   "metadata": {},
   "source": [
    "## load dark\n",
    "I'm just loading a static single dark here"
   ]
  },
  {
   "cell_type": "code",
   "execution_count": 14,
   "metadata": {},
   "outputs": [],
   "source": [
    "dark = pf.loadh5(fold + 'testdata/F6_Scan2_BG/rawdata/F6_Scan2_BG_163566569.h5')[0]\n",
    "dark = dark.astype(float)"
   ]
  },
  {
   "cell_type": "markdown",
   "metadata": {},
   "source": [
    "## crunch"
   ]
  },
  {
   "cell_type": "code",
   "execution_count": 15,
   "metadata": {},
   "outputs": [],
   "source": [
    "for index, r in exp.iterrows():\n",
    "    im, meta = pf.loadh5(r['filename'])\n",
    "    im = im - dark\n",
    "    scan.loc[{'delay': r['delay']}] = ai(im) / norm / r['xgm_SH_mean']\n"
   ]
  },
  {
   "cell_type": "markdown",
   "metadata": {},
   "source": [
    "## plot"
   ]
  },
  {
   "cell_type": "code",
   "execution_count": 16,
   "metadata": {},
   "outputs": [],
   "source": [
    "wavelength = np.unique(exp.wavelength)\n",
    "scan['q'] = 2 * np.pi * np.sin(scan.theta) / wavelength\n",
    "scan = scan.swap_dims({'theta': 'q'})"
   ]
  },
  {
   "cell_type": "code",
   "execution_count": 18,
   "metadata": {},
   "outputs": [
    {
     "data": {
      "image/png": "[encoded data removed]",
      "text/plain": [
       "<Figure size 504x360 with 2 Axes>"
      ]
     },
     "metadata": {
      "needs_background": "light"
     },
     "output_type": "display_data"
    }
   ],
   "source": [
    "qmin, qmax = 0.01, 0.014\n",
    "\n",
    "demag = scan.where((scan.q > qmin) & (scan.q < qmax)).mean('q')\n",
    "\n",
    "fig, [ax1, ax2] = plt.subplots(nrows=2, figsize=(7, 5), sharex=True)\n",
    "scan.plot.imshow(x='delay', y='q', ax=ax1, vmin=0, cmap='viridis', add_colorbar=False)\n",
    "ax2.plot(demag.delay, demag)\n",
    "ax2.grid()\n",
    "\n",
    "for r in [qmin, qmax]:\n",
    "    ax1.axhline(r, c='r', lw=1)"
   ]
  },
  {
   "cell_type": "code",
   "execution_count": null,
   "metadata": {},
   "outputs": [],
   "source": []
  },
  {
   "cell_type": "code",
   "execution_count": null,
   "metadata": {},
   "outputs": [],
   "source": []
  }
 ],
 "metadata": {
  "kernelspec": {
   "display_name": "Python 3",
   "language": "python",
   "name": "python3"
  },
  "language_info": {
   "codemirror_mode": {
    "name": "ipython",
    "version": 3
   },
   "file_extension": ".py",
   "mimetype": "text/x-python",
   "name": "python",
   "nbconvert_exporter": "python",
   "pygments_lexer": "ipython3",
   "version": "3.7.5"
  },
  "toc": {
   "base_numbering": 1,
   "nav_menu": {
    "height": "179.1px",
    "width": "252px"
   },
   "number_sections": true,
   "sideBar": true,
   "skip_h1_title": false,
   "title_cell": "Table of Contents",
   "title_sidebar": "Contents",
   "toc_cell": false,
   "toc_position": {
    "height": "calc(100% - 180px)",
    "left": "10px",
    "top": "150px",
    "width": "300px"
   },
   "toc_section_display": "block",
   "toc_window_display": true
  },
  "varInspector": {
   "cols": {
    "lenName": 16,
    "lenType": 16,
    "lenVar": 40
   },
   "kernels_config": {
    "python": {
     "delete_cmd_postfix": "",
     "delete_cmd_prefix": "del ",
     "library": "var_list.py",
     "varRefreshCmd": "print(var_dic_list())"
    },
    "r": {
     "delete_cmd_postfix": ") ",
     "delete_cmd_prefix": "rm(",
     "library": "var_list.r",
     "varRefreshCmd": "cat(var_dic_list()) "
    }
   },
   "oldHeight": 493.85,
   "position": {
    "height": "40px",
    "left": "1580px",
    "right": "20px",
    "top": "120px",
    "width": "250px"
   },
   "types_to_exclude": [
    "module",
    "function",
    "builtin_function_or_method",
    "instance",
    "_Feature"
   ],
   "varInspector_section_display": "none",
   "window_display": true
  }
 },
 "nbformat": 4,
 "nbformat_minor": 4
}
